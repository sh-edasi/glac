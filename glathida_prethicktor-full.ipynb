{
 "cells": [
  {
   "cell_type": "code",
   "execution_count": 1,
   "metadata": {},
   "outputs": [],
   "source": [
    "# import sys\n",
    "# !{sys.executable} -m pip install ing_theme_matplotlib\n",
    "import matplotlib.pyplot as plt\n",
    "import numpy as np\n",
    "import pandas as pd\n",
    "import tensorflow as tf\n",
    "# import qbstyles\n",
    "# from ing_theme_matplotlib import mpl_style\n",
    "import glacierml as gl\n",
    "from tqdm import tqdm"
   ]
  },
  {
   "cell_type": "markdown",
   "metadata": {},
   "source": [
    "# Step 1: Organize the data"
   ]
  },
  {
   "cell_type": "markdown",
   "metadata": {},
   "source": [
    "## A. Load and organize the Glathida dataset"
   ]
  },
  {
   "cell_type": "code",
   "execution_count": 2,
   "metadata": {},
   "outputs": [
    {
     "name": "stderr",
     "output_type": "stream",
     "text": [
      "/home/sa42/miniconda3/envs/python-cartopy-f/lib/python3.7/site-packages/IPython/core/interactiveshell.py:3444: DtypeWarning: Columns (2,4,5,12) have mixed types.Specify dtype option on import or set low_memory=False.\n",
      "  exec(code_obj, self.user_global_ns, self.user_ns)\n"
     ]
    }
   ],
   "source": [
    "# raw_dataset = pd.read_csv('/data/fast0/datasets/glathida-3.1.0/data/T.csv')\n",
    "T = pd.read_csv('/home/sa42/data/glac/T_models/T.csv')\n",
    "T.rename(columns = {\n",
    "    'LAT':'T_LAT_CENT',\n",
    "    'LON':'T_LON_CENT',\n",
    "    'AREA':'T_AREA',\n",
    "    'MEAN_SLOPE':'T_MEAN_SLOPE',\n",
    "    'MEAN_THICKNESS':'T_MEAN_THICKNESS',\n",
    "    'MAXIMUM_THICKNESS':'T_MAXIMUM_THICKNESS' \n",
    "},inplace=True)\n",
    "TT = pd.read_csv('/home/sa42/data/glac/T_models/TT.csv')\n",
    "TT.rename(columns = {\n",
    "    'AREA':'TT_AREA',\n",
    "    'MEAN_SLOPE':'TT_MEAN_SLOPE',\n",
    "    'MEAN_THICKNESS':'TT_MEAN_THICKNESS',\n",
    "    'MAXIMUM_THICKNESS':'TT_MAXIMUM_THICKNESS', \n",
    "    'LOWER_BOUND':'TT_LOWER_BOUND',\n",
    "    'UPPER_BOUND':'TT_UPPER_BOUND'\n",
    "},inplace=True)\n",
    "TTT = pd.read_csv('/home/sa42/data/glac/T_models/TTT.csv')\n",
    "TTT.rename(columns = {\n",
    "    'ELEVATION':'TTT_POINT_ELEVATION',\n",
    "    'THICKNESS':'TTT_POINT_THICKNESS',\n",
    "    'POINT_LAT':'TTT_POINT_LAT',\n",
    "    'POINT_LON':'TTT_POINT_LON'\n",
    "},inplace=True)\n",
    "df1 = pd.merge(T,TT, how = 'inner', on='GlaThiDa_ID')\n",
    "glathida = pd.merge(df1,TTT, how = 'inner', on='GlaThiDa_ID')\n",
    "glathida = glathida[[\n",
    "#     'GlaThiDa_ID',\n",
    "#     'GLACIER_DB',\n",
    "#     'GLACIER_ID',\n",
    "    'T_LAT_CENT',\n",
    "    'T_LON_CENT',\n",
    "    'T_AREA',\n",
    "    'T_MEAN_SLOPE',\n",
    "    'T_MEAN_THICKNESS',\n",
    "    'T_MAXIMUM_THICKNESS',\n",
    "    'TT_LOWER_BOUND',\n",
    "    'TT_UPPER_BOUND',\n",
    "    'TT_AREA',\n",
    "    'TT_MEAN_SLOPE',\n",
    "    'TT_MEAN_THICKNESS',\n",
    "    'TT_MAXIMUM_THICKNESS',\n",
    "    'TTT_POINT_LAT',\n",
    "    'TTT_POINT_LON',\n",
    "    'TTT_POINT_ELEVATION',\n",
    "    'TTT_POINT_THICKNESS',   \n",
    "]]\n",
    "glathida = glathida.dropna()"
   ]
  },
  {
   "cell_type": "markdown",
   "metadata": {},
   "source": [
    "### separate out features - what will be trained to predict desired attribute"
   ]
  },
  {
   "cell_type": "code",
   "execution_count": 3,
   "metadata": {},
   "outputs": [
    {
     "data": {
      "text/html": [
       "<div>\n",
       "<style scoped>\n",
       "    .dataframe tbody tr th:only-of-type {\n",
       "        vertical-align: middle;\n",
       "    }\n",
       "\n",
       "    .dataframe tbody tr th {\n",
       "        vertical-align: top;\n",
       "    }\n",
       "\n",
       "    .dataframe thead th {\n",
       "        text-align: right;\n",
       "    }\n",
       "</style>\n",
       "<table border=\"1\" class=\"dataframe\">\n",
       "  <thead>\n",
       "    <tr style=\"text-align: right;\">\n",
       "      <th></th>\n",
       "      <th>mean</th>\n",
       "      <th>std</th>\n",
       "    </tr>\n",
       "  </thead>\n",
       "  <tbody>\n",
       "    <tr>\n",
       "      <th>T_LAT_CENT</th>\n",
       "      <td>45.248784</td>\n",
       "      <td>7.555996</td>\n",
       "    </tr>\n",
       "    <tr>\n",
       "      <th>T_LON_CENT</th>\n",
       "      <td>29.965947</td>\n",
       "      <td>36.370518</td>\n",
       "    </tr>\n",
       "    <tr>\n",
       "      <th>T_AREA</th>\n",
       "      <td>1.022082</td>\n",
       "      <td>1.387955</td>\n",
       "    </tr>\n",
       "    <tr>\n",
       "      <th>T_MEAN_SLOPE</th>\n",
       "      <td>21.421017</td>\n",
       "      <td>5.425289</td>\n",
       "    </tr>\n",
       "    <tr>\n",
       "      <th>T_MEAN_THICKNESS</th>\n",
       "      <td>22.792425</td>\n",
       "      <td>16.785250</td>\n",
       "    </tr>\n",
       "    <tr>\n",
       "      <th>T_MAXIMUM_THICKNESS</th>\n",
       "      <td>74.305944</td>\n",
       "      <td>45.827023</td>\n",
       "    </tr>\n",
       "    <tr>\n",
       "      <th>TT_LOWER_BOUND</th>\n",
       "      <td>2956.907234</td>\n",
       "      <td>678.711591</td>\n",
       "    </tr>\n",
       "    <tr>\n",
       "      <th>TT_UPPER_BOUND</th>\n",
       "      <td>2999.129260</td>\n",
       "      <td>693.300833</td>\n",
       "    </tr>\n",
       "    <tr>\n",
       "      <th>TT_AREA</th>\n",
       "      <td>0.423253</td>\n",
       "      <td>0.636670</td>\n",
       "    </tr>\n",
       "    <tr>\n",
       "      <th>TT_MEAN_SLOPE</th>\n",
       "      <td>23.084023</td>\n",
       "      <td>9.011630</td>\n",
       "    </tr>\n",
       "    <tr>\n",
       "      <th>TT_MEAN_THICKNESS</th>\n",
       "      <td>18.169623</td>\n",
       "      <td>17.729830</td>\n",
       "    </tr>\n",
       "    <tr>\n",
       "      <th>TT_MAXIMUM_THICKNESS</th>\n",
       "      <td>41.303255</td>\n",
       "      <td>38.766250</td>\n",
       "    </tr>\n",
       "    <tr>\n",
       "      <th>TTT_POINT_LAT</th>\n",
       "      <td>45.248961</td>\n",
       "      <td>7.556599</td>\n",
       "    </tr>\n",
       "    <tr>\n",
       "      <th>TTT_POINT_LON</th>\n",
       "      <td>29.966949</td>\n",
       "      <td>36.369489</td>\n",
       "    </tr>\n",
       "    <tr>\n",
       "      <th>TTT_POINT_ELEVATION</th>\n",
       "      <td>2930.546484</td>\n",
       "      <td>649.182383</td>\n",
       "    </tr>\n",
       "  </tbody>\n",
       "</table>\n",
       "</div>"
      ],
      "text/plain": [
       "                             mean         std\n",
       "T_LAT_CENT              45.248784    7.555996\n",
       "T_LON_CENT              29.965947   36.370518\n",
       "T_AREA                   1.022082    1.387955\n",
       "T_MEAN_SLOPE            21.421017    5.425289\n",
       "T_MEAN_THICKNESS        22.792425   16.785250\n",
       "T_MAXIMUM_THICKNESS     74.305944   45.827023\n",
       "TT_LOWER_BOUND        2956.907234  678.711591\n",
       "TT_UPPER_BOUND        2999.129260  693.300833\n",
       "TT_AREA                  0.423253    0.636670\n",
       "TT_MEAN_SLOPE           23.084023    9.011630\n",
       "TT_MEAN_THICKNESS       18.169623   17.729830\n",
       "TT_MAXIMUM_THICKNESS    41.303255   38.766250\n",
       "TTT_POINT_LAT           45.248961    7.556599\n",
       "TTT_POINT_LON           29.966949   36.369489\n",
       "TTT_POINT_ELEVATION   2930.546484  649.182383"
      ]
     },
     "execution_count": 3,
     "metadata": {},
     "output_type": "execute_result"
    }
   ],
   "source": [
    "train_dataset = glathida.sample(frac=0.8, random_state=0)\n",
    "test_dataset = glathida.drop(train_dataset.index)\n",
    "\n",
    "train_features = train_dataset.copy()\n",
    "test_features = test_dataset.copy()\n",
    "\n",
    "#define label - attribute training to be picked\n",
    "train_labels = train_features.pop('TTT_POINT_THICKNESS')\n",
    "test_labels = test_features.pop('TTT_POINT_THICKNESS')\n",
    "\n",
    "train_features.describe().transpose()[['mean', 'std']]"
   ]
  },
  {
   "cell_type": "markdown",
   "metadata": {},
   "source": [
    "# Step 2: Setup the Model"
   ]
  },
  {
   "cell_type": "markdown",
   "metadata": {},
   "source": [
    "### Establish normalization layers"
   ]
  },
  {
   "cell_type": "code",
   "execution_count": 4,
   "metadata": {},
   "outputs": [
    {
     "name": "stderr",
     "output_type": "stream",
     "text": [
      "  0%|          | 0/15 [00:00<?, ?it/s]2022-03-19 23:37:12.702251: E tensorflow/stream_executor/cuda/cuda_driver.cc:271] failed call to cuInit: CUDA_ERROR_NO_DEVICE: no CUDA-capable device is detected\n",
      "2022-03-19 23:37:12.702300: I tensorflow/stream_executor/cuda/cuda_diagnostics.cc:156] kernel driver does not appear to be running on this host (sermeq.ess.washington.edu): /proc/driver/nvidia/version does not exist\n",
      "2022-03-19 23:37:12.702857: I tensorflow/core/platform/cpu_feature_guard.cc:151] This TensorFlow binary is optimized with oneAPI Deep Neural Network Library (oneDNN) to use the following CPU instructions in performance-critical operations:  AVX2 AVX512F FMA\n",
      "To enable them in other operations, rebuild TensorFlow with the appropriate compiler flags.\n",
      "100%|██████████| 15/15 [00:18<00:00,  1.20s/it]\n"
     ]
    }
   ],
   "source": [
    "normalizer = {}\n",
    "variable_list = list(train_features)\n",
    "for variable_name in tqdm(variable_list):\n",
    "\n",
    "    normalizer[variable_name] = gl.preprocessing.Normalization(input_shape=[1,], axis=None)\n",
    "    normalizer[variable_name].adapt(np.array(train_features[variable_name]))\n",
    "    \n",
    "    \n",
    "normalizer['ALL'] = gl.preprocessing.Normalization(axis=-1)\n",
    "normalizer['ALL'].adapt(np.array(train_features))"
   ]
  },
  {
   "cell_type": "code",
   "execution_count": 5,
   "metadata": {},
   "outputs": [],
   "source": [
    "linear_model = {}\n",
    "linear_history = {}\n",
    "linear_results = {}"
   ]
  },
  {
   "cell_type": "markdown",
   "metadata": {},
   "source": [
    "# Linear regression"
   ]
  },
  {
   "cell_type": "code",
   "execution_count": 6,
   "metadata": {},
   "outputs": [
    {
     "name": "stderr",
     "output_type": "stream",
     "text": [
      "100%|██████████| 15/15 [00:32<00:00,  2.19s/it]"
     ]
    },
    {
     "name": "stdout",
     "output_type": "stream",
     "text": [
      "CPU times: user 41.2 s, sys: 2.9 s, total: 44.1 s\n",
      "Wall time: 32.9 s\n"
     ]
    },
    {
     "name": "stderr",
     "output_type": "stream",
     "text": [
      "\n"
     ]
    }
   ],
   "source": [
    "%%time\n",
    "for variable_name in tqdm(variable_list):\n",
    "\n",
    "    linear_model[variable_name] = gl.build_linear_model(normalizer[variable_name])\n",
    "    linear_history[variable_name] = linear_model[variable_name].fit(\n",
    "                                        train_features[variable_name], train_labels,        \n",
    "                                        epochs=1,\n",
    "                                        verbose=0,\n",
    "                                        validation_split = 0.2)\n",
    "    \n",
    "    \n",
    "    linear_results[variable_name] = linear_model[variable_name].evaluate(\n",
    "                                        test_features[variable_name],\n",
    "                                        test_labels, verbose=0)"
   ]
  },
  {
   "cell_type": "code",
   "execution_count": 7,
   "metadata": {},
   "outputs": [],
   "source": [
    "# fig,ax=plt.subplots(2,6,figsize=(10,10))\n",
    "# for i, variable_name in enumerate(variable_list):\n",
    "# #     mpl_style(\"dark\")\n",
    "#     ax = plt.subplot(4,4,i+1)\n",
    "#     plt.subplot(4,4,i+1)\n",
    "#     gl.plot_loss(linear_history[variable_name])\n",
    "#     ax.set_title(variable_name)\n",
    "# #     plt.savefig(\"/home/sa42/notebooks/glac/figs/GTP1_loss.eps\")"
   ]
  },
  {
   "cell_type": "markdown",
   "metadata": {},
   "source": [
    "# Linear regression with multiple inputs"
   ]
  },
  {
   "cell_type": "code",
   "execution_count": 8,
   "metadata": {},
   "outputs": [],
   "source": [
    "linear_model = gl.build_linear_model(normalizer['ALL'])\n",
    "\n",
    "linear_history['MULTI'] = linear_model.fit(\n",
    "train_features, train_labels,        \n",
    "   epochs=1,\n",
    "   verbose=0,\n",
    "   validation_split = 0.2)\n",
    "\n",
    "linear_results['MULTI'] = linear_model.evaluate(\n",
    "    test_features,\n",
    "    test_labels, verbose=0)"
   ]
  },
  {
   "cell_type": "code",
   "execution_count": 9,
   "metadata": {},
   "outputs": [],
   "source": [
    "# gl.plot_loss(history_full)\n",
    "# # plt.savefig(\"/home/sa42/notebooks/glac/figs/GTP1_full_loss.eps\")"
   ]
  },
  {
   "cell_type": "markdown",
   "metadata": {},
   "source": [
    "# DNN regression"
   ]
  },
  {
   "cell_type": "markdown",
   "metadata": {},
   "source": [
    "## Define regression functions"
   ]
  },
  {
   "cell_type": "code",
   "execution_count": 10,
   "metadata": {},
   "outputs": [],
   "source": [
    "# test_results = {}\n",
    "dnn_model = {}\n",
    "dnn_history = {}\n",
    "dnn_results = {}"
   ]
  },
  {
   "cell_type": "code",
   "execution_count": 11,
   "metadata": {
    "scrolled": false
   },
   "outputs": [
    {
     "name": "stderr",
     "output_type": "stream",
     "text": [
      "100%|██████████| 15/15 [00:57<00:00,  3.84s/it]\n"
     ]
    }
   ],
   "source": [
    "for variable_name in tqdm(variable_list):\n",
    "\n",
    "    dnn_model[variable_name] = gl.build_dnn_model(normalizer[variable_name])\n",
    "    dnn_history[variable_name] = dnn_model[variable_name].fit(\n",
    "                                        train_features[variable_name], train_labels,        \n",
    "                                        epochs=1,\n",
    "                                        verbose=0,\n",
    "                                        validation_split = 0.2)\n",
    "    dnn_results[variable_name] = dnn_model[variable_name].evaluate(\n",
    "                                        test_features[variable_name],\n",
    "                                        test_labels, verbose=0)"
   ]
  },
  {
   "cell_type": "code",
   "execution_count": 12,
   "metadata": {},
   "outputs": [],
   "source": [
    "# fig,ax=plt.subplots(4,4,figsize=(10,10))\n",
    "# for i, variable_name in enumerate(variable_list):\n",
    "#     plt.subplot(4,4,i+1)\n",
    "#     xmax = np.max(train_features[variable_name])\n",
    "#     xmin = np.min(train_features[variable_name])\n",
    "#     x = tf.linspace(xmin, xmax, 101)\n",
    "#     y = dnn_model[variable_name].predict(x)\n",
    "#     plot_single_model_variable(x,y,variable_name)"
   ]
  },
  {
   "cell_type": "code",
   "execution_count": 13,
   "metadata": {},
   "outputs": [
    {
     "data": {
      "image/png": "[encoded data removed]",
      "text/plain": [
       "<Figure size 720x720 with 16 Axes>"
      ]
     },
     "metadata": {
      "needs_background": "light"
     },
     "output_type": "display_data"
    }
   ],
   "source": [
    "fig,ax=plt.subplots(4,4,figsize=(10,10))\n",
    "for i, variable_name in enumerate(variable_list):\n",
    "    ax = plt.subplot(4,4,i+1)\n",
    "    gl.plot_loss(dnn_history[variable_name])\n",
    "    ax.set_title(variable_name)\n",
    "#     plt.savefig(\"/home/sa42/notebooks/glac/figs/GTP1_dnn_loss.eps\")"
   ]
  },
  {
   "cell_type": "markdown",
   "metadata": {},
   "source": [
    "# Full model"
   ]
  },
  {
   "cell_type": "code",
   "execution_count": 14,
   "metadata": {},
   "outputs": [],
   "source": [
    "dnn_full_model = gl.build_dnn_model(normalizer['ALL'])"
   ]
  },
  {
   "cell_type": "code",
   "execution_count": 15,
   "metadata": {},
   "outputs": [
    {
     "name": "stdout",
     "output_type": "stream",
     "text": [
      "CPU times: user 22.2 s, sys: 6.56 s, total: 28.7 s\n",
      "Wall time: 3.91 s\n"
     ]
    }
   ],
   "source": [
    "%%time\n",
    "dnn_history['MULTI'] = dnn_full_model.fit(\n",
    "    train_features, train_labels,\n",
    "    validation_split=0.2,\n",
    "    verbose=0, epochs=1)\n",
    "\n",
    "dnn_results['MULTI'] = dnn_full_model.evaluate(\n",
    "    test_features,\n",
    "    test_labels, verbose=0)"
   ]
  },
  {
   "cell_type": "code",
   "execution_count": 16,
   "metadata": {},
   "outputs": [
    {
     "data": {
      "text/plain": [
       "<function glacierml.plot_loss(history)>"
      ]
     },
     "execution_count": 16,
     "metadata": {},
     "output_type": "execute_result"
    },
    {
     "data": {
      "image/png": "[encoded data removed]",
      "text/plain": [
       "<Figure size 432x288 with 1 Axes>"
      ]
     },
     "metadata": {
      "needs_background": "light"
     },
     "output_type": "display_data"
    }
   ],
   "source": [
    "gl.plot_loss(dnn_history['MULTI'])\n",
    "# plt.savefig(\"/home/sa42/notebooks/glac/figs/GTP1_dnn_full_loss.png\")"
   ]
  },
  {
   "cell_type": "code",
   "execution_count": 17,
   "metadata": {},
   "outputs": [
    {
     "data": {
      "text/plain": [
       "(0.0, 200.0)"
      ]
     },
     "execution_count": 17,
     "metadata": {},
     "output_type": "execute_result"
    },
    {
     "data": {
      "image/png": "[encoded data removed]",
      "text/plain": [
       "<Figure size 432x288 with 1 Axes>"
      ]
     },
     "metadata": {
      "needs_background": "light"
     },
     "output_type": "display_data"
    }
   ],
   "source": [
    "y = dnn_full_model.predict(test_features)\n",
    "plt.plot(test_labels,y,'.')\n",
    "plt.plot((0,200),(0,200),'-')\n",
    "plt.xlabel('True Thickness (m)')\n",
    "plt.ylabel('Model Thickness (m)')\n",
    "plt.xlim((0,200))\n",
    "plt.ylim((0,200))\n",
    "# plt.savefig(\"/home/sa42/notebooks/glac/figs/GTP1_res.EPS\")"
   ]
  },
  {
   "cell_type": "markdown",
   "metadata": {},
   "source": [
    "# Collect Results"
   ]
  },
  {
   "cell_type": "code",
   "execution_count": 18,
   "metadata": {
    "scrolled": true
   },
   "outputs": [
    {
     "name": "stdout",
     "output_type": "stream",
     "text": [
      "\\begin{tabular}{llrr}\n",
      "\\toprule\n",
      "Architecture &             Variable &      loss &  val\\_loss \\\\\n",
      "\\midrule\n",
      "      Linear &     T\\_MEAN\\_THICKNESS & 18.323906 & 17.554466 \\\\\n",
      "      Linear &         T\\_MEAN\\_SLOPE & 22.359447 & 21.827812 \\\\\n",
      "      Linear &  T\\_MAXIMUM\\_THICKNESS & 16.489048 & 15.452823 \\\\\n",
      "      Linear &           T\\_LON\\_CENT & 20.184660 & 19.129656 \\\\\n",
      "      Linear &           T\\_LAT\\_CENT & 24.121899 & 23.654129 \\\\\n",
      "      Linear &               T\\_AREA & 16.545036 & 15.479200 \\\\\n",
      "      Linear &       TT\\_UPPER\\_BOUND & 21.510738 & 20.639355 \\\\\n",
      "      Linear &    TT\\_MEAN\\_THICKNESS & 21.356220 & 20.718206 \\\\\n",
      "      Linear &        TT\\_MEAN\\_SLOPE & 23.044731 & 22.425028 \\\\\n",
      "      Linear & TT\\_MAXIMUM\\_THICKNESS & 20.416407 & 19.747463 \\\\\n",
      "      Linear &       TT\\_LOWER\\_BOUND & 21.477402 & 20.631390 \\\\\n",
      "      Linear &              TT\\_AREA & 24.077099 & 23.640352 \\\\\n",
      "      Linear &        TTT\\_POINT\\_LON & 20.188160 & 19.115559 \\\\\n",
      "      Linear &        TTT\\_POINT\\_LAT & 24.110874 & 23.654873 \\\\\n",
      "      Linear &  TTT\\_POINT\\_ELEVATION & 21.134968 & 20.210497 \\\\\n",
      "      Linear &                MULTI & 15.337519 & 14.062275 \\\\\n",
      "         DNN &     T\\_MEAN\\_THICKNESS & 17.298721 & 16.759119 \\\\\n",
      "         DNN &         T\\_MEAN\\_SLOPE & 20.116575 & 19.138502 \\\\\n",
      "         DNN &  T\\_MAXIMUM\\_THICKNESS & 15.103828 & 14.716399 \\\\\n",
      "         DNN &           T\\_LON\\_CENT & 18.804760 & 18.149059 \\\\\n",
      "         DNN &           T\\_LAT\\_CENT & 20.563219 & 19.573570 \\\\\n",
      "         DNN &               T\\_AREA & 15.364873 & 15.091035 \\\\\n",
      "         DNN &       TT\\_UPPER\\_BOUND & 19.842371 & 19.116482 \\\\\n",
      "         DNN &    TT\\_MEAN\\_THICKNESS & 19.972937 & 19.848495 \\\\\n",
      "         DNN &        TT\\_MEAN\\_SLOPE & 21.370951 & 21.218203 \\\\\n",
      "         DNN & TT\\_MAXIMUM\\_THICKNESS & 19.223816 & 19.315655 \\\\\n",
      "         DNN &       TT\\_LOWER\\_BOUND & 19.901209 & 19.167671 \\\\\n",
      "         DNN &              TT\\_AREA & 22.404142 & 21.290541 \\\\\n",
      "         DNN &        TTT\\_POINT\\_LON & 18.856195 & 20.066881 \\\\\n",
      "         DNN &        TTT\\_POINT\\_LAT & 20.683456 & 20.353943 \\\\\n",
      "         DNN &  TTT\\_POINT\\_ELEVATION & 18.905079 & 18.089960 \\\\\n",
      "         DNN &                MULTI & 13.021221 & 11.912920 \\\\\n",
      "\\bottomrule\n",
      "\\end{tabular}\n",
      "\n"
     ]
    }
   ],
   "source": [
    "dfs = pd.DataFrame()\n",
    "for variable_name in list(dnn_history):    \n",
    "    df1 = pd.DataFrame(dnn_history[variable_name].history)\n",
    "    df2 = pd.DataFrame(linear_history[variable_name].history)\n",
    "    df1 = df1.loc[[df1.last_valid_index()]]\n",
    "    df2 = df2.loc[[df2.last_valid_index()]]\n",
    "    df1['Architecture'] = 'DNN'\n",
    "    df2['Architecture'] = 'Linear'\n",
    "    df1.insert(0, 'Variable', [variable_name])\n",
    "    df2.insert(0, 'Variable', [variable_name])\n",
    "    df = pd.concat([df1,df2])\n",
    "    dfs = dfs.append(df)\n",
    "df = dfs[[\n",
    "    'Architecture',\n",
    "    'Variable',\n",
    "    'loss',\n",
    "    'val_loss'\n",
    "]]\n",
    "df = df.sort_values(by=['Architecture','Variable'], ascending=[False,False])\n",
    "print(df.to_latex(index=False))"
   ]
  }
 ],
 "metadata": {
  "kernelspec": {
   "display_name": "python (Cartopy)-f",
   "language": "python",
   "name": "python-cartopy"
  },
  "language_info": {
   "codemirror_mode": {
    "name": "ipython",
    "version": 3
   },
   "file_extension": ".py",
   "mimetype": "text/x-python",
   "name": "python",
   "nbconvert_exporter": "python",
   "pygments_lexer": "ipython3",
   "version": "3.7.11"
  }
 },
 "nbformat": 4,
 "nbformat_minor": 4
}
