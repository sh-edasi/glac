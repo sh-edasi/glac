{
 "cells": [
  {
   "cell_type": "code",
   "execution_count": 1,
   "id": "63ec30a8",
   "metadata": {},
   "outputs": [],
   "source": [
    "# import dependencies\n",
    "# import sys\n",
    "# !{sys.executable} -m pip install --user install tensorflow==2.8.0. \n",
    "import numpy as np\n",
    "import pandas as pd\n",
    "import glacierml as gl\n",
    "import matplotlib.pyplot as plt\n",
    "RGI = gl.load_RGI()\n",
    "data = gl.load_notebook_data(parameterization = '3')\n",
    "pd.set_option('display.max_columns', None)\n"
   ]
  },
  {
   "cell_type": "code",
   "execution_count": 2,
   "id": "f415a025",
   "metadata": {
    "scrolled": true
   },
   "outputs": [
    {
     "data": {
      "text/html": [
       "<div>\n",
       "<style scoped>\n",
       "    .dataframe tbody tr th:only-of-type {\n",
       "        vertical-align: middle;\n",
       "    }\n",
       "\n",
       "    .dataframe tbody tr th {\n",
       "        vertical-align: top;\n",
       "    }\n",
       "\n",
       "    .dataframe thead th {\n",
       "        text-align: right;\n",
       "    }\n",
       "</style>\n",
       "<table border=\"1\" class=\"dataframe\">\n",
       "  <thead>\n",
       "    <tr style=\"text-align: right;\">\n",
       "      <th></th>\n",
       "      <th>RGIId</th>\n",
       "      <th>Edasi Mean Thickness</th>\n",
       "      <th>Edasi Median Thickness</th>\n",
       "      <th>Edasi Thickness Std Dev</th>\n",
       "      <th>Edasi Shapiro-Wilk statistic</th>\n",
       "      <th>Edasi Shapiro-Wilk p_value</th>\n",
       "      <th>Edasi IQR</th>\n",
       "      <th>Edasi Lower Bound</th>\n",
       "      <th>Edasi Upper Bound</th>\n",
       "      <th>Total estimates</th>\n",
       "      <th>region</th>\n",
       "      <th>CenLat</th>\n",
       "      <th>CenLon</th>\n",
       "      <th>Slope</th>\n",
       "      <th>Zmin</th>\n",
       "      <th>Zmed</th>\n",
       "      <th>Zmax</th>\n",
       "      <th>Area</th>\n",
       "      <th>Aspect</th>\n",
       "      <th>Lmax</th>\n",
       "      <th>Edasi Volume (km3)</th>\n",
       "      <th>Edasi Volume Std Dev (km3)</th>\n",
       "      <th>Farinotti Mean Thickness</th>\n",
       "      <th>Farinotti Shapiro-Wilk statistic</th>\n",
       "      <th>Farinotti Shapiro-Wilk p_value</th>\n",
       "      <th>Farinotti Median Thickness</th>\n",
       "      <th>Farinotti Thickness STD</th>\n",
       "      <th>Farinotti Skew</th>\n",
       "      <th>Farinotti Volume (km3)</th>\n",
       "    </tr>\n",
       "  </thead>\n",
       "  <tbody>\n",
       "    <tr>\n",
       "      <th>0</th>\n",
       "      <td>RGI60-01.00001</td>\n",
       "      <td>11.412853</td>\n",
       "      <td>11.022380</td>\n",
       "      <td>5.244798</td>\n",
       "      <td>0.985367</td>\n",
       "      <td>4.170528e-19</td>\n",
       "      <td>6.824840</td>\n",
       "      <td>4.995862</td>\n",
       "      <td>4.982477</td>\n",
       "      <td>3689.0</td>\n",
       "      <td>01</td>\n",
       "      <td>63.6890</td>\n",
       "      <td>-146.8230</td>\n",
       "      <td>42.0</td>\n",
       "      <td>1936</td>\n",
       "      <td>2385</td>\n",
       "      <td>2725</td>\n",
       "      <td>0.360</td>\n",
       "      <td>346</td>\n",
       "      <td>839</td>\n",
       "      <td>0.004109</td>\n",
       "      <td>0.001888</td>\n",
       "      <td>19.988910</td>\n",
       "      <td>0.953100</td>\n",
       "      <td>1.411381e-12</td>\n",
       "      <td>22.598288</td>\n",
       "      <td>1.490189</td>\n",
       "      <td>-0.404481</td>\n",
       "      <td>0.007196</td>\n",
       "    </tr>\n",
       "    <tr>\n",
       "      <th>1</th>\n",
       "      <td>RGI60-01.00002</td>\n",
       "      <td>49.005685</td>\n",
       "      <td>49.033936</td>\n",
       "      <td>4.447876</td>\n",
       "      <td>0.994232</td>\n",
       "      <td>6.119749e-11</td>\n",
       "      <td>5.787070</td>\n",
       "      <td>4.266743</td>\n",
       "      <td>4.318051</td>\n",
       "      <td>3689.0</td>\n",
       "      <td>01</td>\n",
       "      <td>63.4040</td>\n",
       "      <td>-146.6680</td>\n",
       "      <td>16.0</td>\n",
       "      <td>1713</td>\n",
       "      <td>2005</td>\n",
       "      <td>2144</td>\n",
       "      <td>0.558</td>\n",
       "      <td>162</td>\n",
       "      <td>1197</td>\n",
       "      <td>0.027345</td>\n",
       "      <td>0.002482</td>\n",
       "      <td>29.413269</td>\n",
       "      <td>0.980514</td>\n",
       "      <td>1.595224e-09</td>\n",
       "      <td>31.332405</td>\n",
       "      <td>3.074196</td>\n",
       "      <td>0.050484</td>\n",
       "      <td>0.016413</td>\n",
       "    </tr>\n",
       "    <tr>\n",
       "      <th>2</th>\n",
       "      <td>RGI60-01.00003</td>\n",
       "      <td>46.863748</td>\n",
       "      <td>46.897923</td>\n",
       "      <td>4.037663</td>\n",
       "      <td>0.993439</td>\n",
       "      <td>6.391881e-12</td>\n",
       "      <td>5.007748</td>\n",
       "      <td>3.863409</td>\n",
       "      <td>3.815871</td>\n",
       "      <td>3689.0</td>\n",
       "      <td>01</td>\n",
       "      <td>63.3760</td>\n",
       "      <td>-146.0800</td>\n",
       "      <td>18.0</td>\n",
       "      <td>1609</td>\n",
       "      <td>1868</td>\n",
       "      <td>2182</td>\n",
       "      <td>1.685</td>\n",
       "      <td>175</td>\n",
       "      <td>2106</td>\n",
       "      <td>0.078965</td>\n",
       "      <td>0.006803</td>\n",
       "      <td>31.862368</td>\n",
       "      <td>0.944144</td>\n",
       "      <td>9.216613e-31</td>\n",
       "      <td>35.054910</td>\n",
       "      <td>2.878639</td>\n",
       "      <td>-0.390670</td>\n",
       "      <td>0.053688</td>\n",
       "    </tr>\n",
       "    <tr>\n",
       "      <th>3</th>\n",
       "      <td>RGI60-01.00004</td>\n",
       "      <td>52.441957</td>\n",
       "      <td>52.425650</td>\n",
       "      <td>3.977376</td>\n",
       "      <td>0.988374</td>\n",
       "      <td>7.433206e-17</td>\n",
       "      <td>4.926441</td>\n",
       "      <td>3.668724</td>\n",
       "      <td>3.529011</td>\n",
       "      <td>3689.0</td>\n",
       "      <td>01</td>\n",
       "      <td>63.3810</td>\n",
       "      <td>-146.1200</td>\n",
       "      <td>19.0</td>\n",
       "      <td>1273</td>\n",
       "      <td>1944</td>\n",
       "      <td>2317</td>\n",
       "      <td>3.681</td>\n",
       "      <td>195</td>\n",
       "      <td>4175</td>\n",
       "      <td>0.193039</td>\n",
       "      <td>0.014641</td>\n",
       "      <td>45.454704</td>\n",
       "      <td>0.969001</td>\n",
       "      <td>8.057077e-34</td>\n",
       "      <td>45.209550</td>\n",
       "      <td>6.697096</td>\n",
       "      <td>0.072549</td>\n",
       "      <td>0.167319</td>\n",
       "    </tr>\n",
       "    <tr>\n",
       "      <th>4</th>\n",
       "      <td>RGI60-01.00005</td>\n",
       "      <td>55.612621</td>\n",
       "      <td>55.684380</td>\n",
       "      <td>4.502390</td>\n",
       "      <td>0.992987</td>\n",
       "      <td>1.902836e-12</td>\n",
       "      <td>5.726692</td>\n",
       "      <td>4.294195</td>\n",
       "      <td>4.211413</td>\n",
       "      <td>3689.0</td>\n",
       "      <td>01</td>\n",
       "      <td>63.5510</td>\n",
       "      <td>-147.0570</td>\n",
       "      <td>16.0</td>\n",
       "      <td>1494</td>\n",
       "      <td>1914</td>\n",
       "      <td>2317</td>\n",
       "      <td>2.573</td>\n",
       "      <td>181</td>\n",
       "      <td>2981</td>\n",
       "      <td>0.143091</td>\n",
       "      <td>0.011585</td>\n",
       "      <td>43.040817</td>\n",
       "      <td>0.977176</td>\n",
       "      <td>3.500081e-25</td>\n",
       "      <td>43.682045</td>\n",
       "      <td>6.024213</td>\n",
       "      <td>0.328906</td>\n",
       "      <td>0.110744</td>\n",
       "    </tr>\n",
       "    <tr>\n",
       "      <th>...</th>\n",
       "      <td>...</td>\n",
       "      <td>...</td>\n",
       "      <td>...</td>\n",
       "      <td>...</td>\n",
       "      <td>...</td>\n",
       "      <td>...</td>\n",
       "      <td>...</td>\n",
       "      <td>...</td>\n",
       "      <td>...</td>\n",
       "      <td>...</td>\n",
       "      <td>...</td>\n",
       "      <td>...</td>\n",
       "      <td>...</td>\n",
       "      <td>...</td>\n",
       "      <td>...</td>\n",
       "      <td>...</td>\n",
       "      <td>...</td>\n",
       "      <td>...</td>\n",
       "      <td>...</td>\n",
       "      <td>...</td>\n",
       "      <td>...</td>\n",
       "      <td>...</td>\n",
       "      <td>...</td>\n",
       "      <td>...</td>\n",
       "      <td>...</td>\n",
       "      <td>...</td>\n",
       "      <td>...</td>\n",
       "      <td>...</td>\n",
       "      <td>...</td>\n",
       "    </tr>\n",
       "    <tr>\n",
       "      <th>215514</th>\n",
       "      <td>RGI60-19.02748</td>\n",
       "      <td>37.735361</td>\n",
       "      <td>36.784847</td>\n",
       "      <td>10.698868</td>\n",
       "      <td>0.988142</td>\n",
       "      <td>4.830833e-17</td>\n",
       "      <td>13.865766</td>\n",
       "      <td>10.303762</td>\n",
       "      <td>10.288978</td>\n",
       "      <td>3689.0</td>\n",
       "      <td>19</td>\n",
       "      <td>-53.9860</td>\n",
       "      <td>-37.7325</td>\n",
       "      <td>29.9</td>\n",
       "      <td>310</td>\n",
       "      <td>-999</td>\n",
       "      <td>510</td>\n",
       "      <td>0.042</td>\n",
       "      <td>315</td>\n",
       "      <td>255</td>\n",
       "      <td>0.001585</td>\n",
       "      <td>0.000449</td>\n",
       "      <td>12.593311</td>\n",
       "      <td>0.923319</td>\n",
       "      <td>4.533989e-04</td>\n",
       "      <td>13.539223</td>\n",
       "      <td>1.212544</td>\n",
       "      <td>-1.011952</td>\n",
       "      <td>0.000529</td>\n",
       "    </tr>\n",
       "    <tr>\n",
       "      <th>215515</th>\n",
       "      <td>RGI60-19.02749</td>\n",
       "      <td>47.927387</td>\n",
       "      <td>47.709430</td>\n",
       "      <td>7.794828</td>\n",
       "      <td>0.992287</td>\n",
       "      <td>3.208519e-13</td>\n",
       "      <td>9.782749</td>\n",
       "      <td>7.059459</td>\n",
       "      <td>7.337972</td>\n",
       "      <td>3689.0</td>\n",
       "      <td>19</td>\n",
       "      <td>-54.8310</td>\n",
       "      <td>-36.1361</td>\n",
       "      <td>23.6</td>\n",
       "      <td>330</td>\n",
       "      <td>-999</td>\n",
       "      <td>830</td>\n",
       "      <td>0.567</td>\n",
       "      <td>200</td>\n",
       "      <td>1130</td>\n",
       "      <td>0.027175</td>\n",
       "      <td>0.004420</td>\n",
       "      <td>20.532068</td>\n",
       "      <td>0.972606</td>\n",
       "      <td>4.733442e-12</td>\n",
       "      <td>19.437310</td>\n",
       "      <td>2.341599</td>\n",
       "      <td>0.356173</td>\n",
       "      <td>0.011642</td>\n",
       "    </tr>\n",
       "    <tr>\n",
       "      <th>215516</th>\n",
       "      <td>RGI60-19.02750</td>\n",
       "      <td>71.349679</td>\n",
       "      <td>71.658840</td>\n",
       "      <td>7.250260</td>\n",
       "      <td>0.959032</td>\n",
       "      <td>4.628758e-31</td>\n",
       "      <td>7.995154</td>\n",
       "      <td>5.782555</td>\n",
       "      <td>6.253958</td>\n",
       "      <td>3689.0</td>\n",
       "      <td>19</td>\n",
       "      <td>-54.1884</td>\n",
       "      <td>-37.3018</td>\n",
       "      <td>16.8</td>\n",
       "      <td>10</td>\n",
       "      <td>-999</td>\n",
       "      <td>1110</td>\n",
       "      <td>4.118</td>\n",
       "      <td>308</td>\n",
       "      <td>4329</td>\n",
       "      <td>0.293818</td>\n",
       "      <td>0.029857</td>\n",
       "      <td>55.923466</td>\n",
       "      <td>0.977032</td>\n",
       "      <td>2.709829e-31</td>\n",
       "      <td>58.010944</td>\n",
       "      <td>9.158872</td>\n",
       "      <td>0.279736</td>\n",
       "      <td>0.230293</td>\n",
       "    </tr>\n",
       "    <tr>\n",
       "      <th>215517</th>\n",
       "      <td>RGI60-19.02751</td>\n",
       "      <td>106.299638</td>\n",
       "      <td>107.727460</td>\n",
       "      <td>9.175338</td>\n",
       "      <td>0.916561</td>\n",
       "      <td>4.018644e-41</td>\n",
       "      <td>10.190240</td>\n",
       "      <td>7.614229</td>\n",
       "      <td>7.779330</td>\n",
       "      <td>3689.0</td>\n",
       "      <td>19</td>\n",
       "      <td>-68.8656</td>\n",
       "      <td>-90.4266</td>\n",
       "      <td>0.4</td>\n",
       "      <td>170</td>\n",
       "      <td>-999</td>\n",
       "      <td>270</td>\n",
       "      <td>0.011</td>\n",
       "      <td>122</td>\n",
       "      <td>106</td>\n",
       "      <td>0.001169</td>\n",
       "      <td>0.000101</td>\n",
       "      <td>10.181019</td>\n",
       "      <td>0.954263</td>\n",
       "      <td>5.273163e-01</td>\n",
       "      <td>10.175133</td>\n",
       "      <td>0.199121</td>\n",
       "      <td>0.277144</td>\n",
       "      <td>0.000112</td>\n",
       "    </tr>\n",
       "    <tr>\n",
       "      <th>215518</th>\n",
       "      <td>RGI60-19.02752</td>\n",
       "      <td>67.720979</td>\n",
       "      <td>67.957794</td>\n",
       "      <td>8.312578</td>\n",
       "      <td>0.978730</td>\n",
       "      <td>4.298271e-23</td>\n",
       "      <td>9.872894</td>\n",
       "      <td>7.141044</td>\n",
       "      <td>7.683767</td>\n",
       "      <td>3689.0</td>\n",
       "      <td>19</td>\n",
       "      <td>-46.8972</td>\n",
       "      <td>37.7140</td>\n",
       "      <td>9.6</td>\n",
       "      <td>970</td>\n",
       "      <td>-999</td>\n",
       "      <td>1170</td>\n",
       "      <td>0.528</td>\n",
       "      <td>35</td>\n",
       "      <td>-9</td>\n",
       "      <td>0.035757</td>\n",
       "      <td>0.004389</td>\n",
       "      <td>29.398497</td>\n",
       "      <td>0.986334</td>\n",
       "      <td>4.520137e-07</td>\n",
       "      <td>31.136780</td>\n",
       "      <td>2.980667</td>\n",
       "      <td>0.078910</td>\n",
       "      <td>0.015522</td>\n",
       "    </tr>\n",
       "  </tbody>\n",
       "</table>\n",
       "<p>215519 rows × 29 columns</p>\n",
       "</div>"
      ],
      "text/plain": [
       "                 RGIId  Edasi Mean Thickness  Edasi Median Thickness  \\\n",
       "0       RGI60-01.00001             11.412853               11.022380   \n",
       "1       RGI60-01.00002             49.005685               49.033936   \n",
       "2       RGI60-01.00003             46.863748               46.897923   \n",
       "3       RGI60-01.00004             52.441957               52.425650   \n",
       "4       RGI60-01.00005             55.612621               55.684380   \n",
       "...                ...                   ...                     ...   \n",
       "215514  RGI60-19.02748             37.735361               36.784847   \n",
       "215515  RGI60-19.02749             47.927387               47.709430   \n",
       "215516  RGI60-19.02750             71.349679               71.658840   \n",
       "215517  RGI60-19.02751            106.299638              107.727460   \n",
       "215518  RGI60-19.02752             67.720979               67.957794   \n",
       "\n",
       "        Edasi Thickness Std Dev  Edasi Shapiro-Wilk statistic  \\\n",
       "0                      5.244798                      0.985367   \n",
       "1                      4.447876                      0.994232   \n",
       "2                      4.037663                      0.993439   \n",
       "3                      3.977376                      0.988374   \n",
       "4                      4.502390                      0.992987   \n",
       "...                         ...                           ...   \n",
       "215514                10.698868                      0.988142   \n",
       "215515                 7.794828                      0.992287   \n",
       "215516                 7.250260                      0.959032   \n",
       "215517                 9.175338                      0.916561   \n",
       "215518                 8.312578                      0.978730   \n",
       "\n",
       "        Edasi Shapiro-Wilk p_value  Edasi IQR  Edasi Lower Bound  \\\n",
       "0                     4.170528e-19   6.824840           4.995862   \n",
       "1                     6.119749e-11   5.787070           4.266743   \n",
       "2                     6.391881e-12   5.007748           3.863409   \n",
       "3                     7.433206e-17   4.926441           3.668724   \n",
       "4                     1.902836e-12   5.726692           4.294195   \n",
       "...                            ...        ...                ...   \n",
       "215514                4.830833e-17  13.865766          10.303762   \n",
       "215515                3.208519e-13   9.782749           7.059459   \n",
       "215516                4.628758e-31   7.995154           5.782555   \n",
       "215517                4.018644e-41  10.190240           7.614229   \n",
       "215518                4.298271e-23   9.872894           7.141044   \n",
       "\n",
       "        Edasi Upper Bound  Total estimates region   CenLat    CenLon  Slope  \\\n",
       "0                4.982477           3689.0     01  63.6890 -146.8230   42.0   \n",
       "1                4.318051           3689.0     01  63.4040 -146.6680   16.0   \n",
       "2                3.815871           3689.0     01  63.3760 -146.0800   18.0   \n",
       "3                3.529011           3689.0     01  63.3810 -146.1200   19.0   \n",
       "4                4.211413           3689.0     01  63.5510 -147.0570   16.0   \n",
       "...                   ...              ...    ...      ...       ...    ...   \n",
       "215514          10.288978           3689.0     19 -53.9860  -37.7325   29.9   \n",
       "215515           7.337972           3689.0     19 -54.8310  -36.1361   23.6   \n",
       "215516           6.253958           3689.0     19 -54.1884  -37.3018   16.8   \n",
       "215517           7.779330           3689.0     19 -68.8656  -90.4266    0.4   \n",
       "215518           7.683767           3689.0     19 -46.8972   37.7140    9.6   \n",
       "\n",
       "        Zmin  Zmed  Zmax   Area  Aspect  Lmax  Edasi Volume (km3)  \\\n",
       "0       1936  2385  2725  0.360     346   839            0.004109   \n",
       "1       1713  2005  2144  0.558     162  1197            0.027345   \n",
       "2       1609  1868  2182  1.685     175  2106            0.078965   \n",
       "3       1273  1944  2317  3.681     195  4175            0.193039   \n",
       "4       1494  1914  2317  2.573     181  2981            0.143091   \n",
       "...      ...   ...   ...    ...     ...   ...                 ...   \n",
       "215514   310  -999   510  0.042     315   255            0.001585   \n",
       "215515   330  -999   830  0.567     200  1130            0.027175   \n",
       "215516    10  -999  1110  4.118     308  4329            0.293818   \n",
       "215517   170  -999   270  0.011     122   106            0.001169   \n",
       "215518   970  -999  1170  0.528      35    -9            0.035757   \n",
       "\n",
       "        Edasi Volume Std Dev (km3)  Farinotti Mean Thickness  \\\n",
       "0                         0.001888                 19.988910   \n",
       "1                         0.002482                 29.413269   \n",
       "2                         0.006803                 31.862368   \n",
       "3                         0.014641                 45.454704   \n",
       "4                         0.011585                 43.040817   \n",
       "...                            ...                       ...   \n",
       "215514                    0.000449                 12.593311   \n",
       "215515                    0.004420                 20.532068   \n",
       "215516                    0.029857                 55.923466   \n",
       "215517                    0.000101                 10.181019   \n",
       "215518                    0.004389                 29.398497   \n",
       "\n",
       "        Farinotti Shapiro-Wilk statistic  Farinotti Shapiro-Wilk p_value  \\\n",
       "0                               0.953100                    1.411381e-12   \n",
       "1                               0.980514                    1.595224e-09   \n",
       "2                               0.944144                    9.216613e-31   \n",
       "3                               0.969001                    8.057077e-34   \n",
       "4                               0.977176                    3.500081e-25   \n",
       "...                                  ...                             ...   \n",
       "215514                          0.923319                    4.533989e-04   \n",
       "215515                          0.972606                    4.733442e-12   \n",
       "215516                          0.977032                    2.709829e-31   \n",
       "215517                          0.954263                    5.273163e-01   \n",
       "215518                          0.986334                    4.520137e-07   \n",
       "\n",
       "        Farinotti Median Thickness  Farinotti Thickness STD  Farinotti Skew  \\\n",
       "0                        22.598288                 1.490189       -0.404481   \n",
       "1                        31.332405                 3.074196        0.050484   \n",
       "2                        35.054910                 2.878639       -0.390670   \n",
       "3                        45.209550                 6.697096        0.072549   \n",
       "4                        43.682045                 6.024213        0.328906   \n",
       "...                            ...                      ...             ...   \n",
       "215514                   13.539223                 1.212544       -1.011952   \n",
       "215515                   19.437310                 2.341599        0.356173   \n",
       "215516                   58.010944                 9.158872        0.279736   \n",
       "215517                   10.175133                 0.199121        0.277144   \n",
       "215518                   31.136780                 2.980667        0.078910   \n",
       "\n",
       "        Farinotti Volume (km3)  \n",
       "0                     0.007196  \n",
       "1                     0.016413  \n",
       "2                     0.053688  \n",
       "3                     0.167319  \n",
       "4                     0.110744  \n",
       "...                        ...  \n",
       "215514                0.000529  \n",
       "215515                0.011642  \n",
       "215516                0.230293  \n",
       "215517                0.000112  \n",
       "215518                0.015522  \n",
       "\n",
       "[215519 rows x 29 columns]"
      ]
     },
     "execution_count": 2,
     "metadata": {},
     "output_type": "execute_result"
    }
   ],
   "source": [
    "data"
   ]
  },
  {
   "cell_type": "markdown",
   "id": "b7108359",
   "metadata": {},
   "source": [
    "# Plot the glacier volume cumulative distribution function (CDF)"
   ]
  },
  {
   "cell_type": "code",
   "execution_count": 3,
   "id": "52801729",
   "metadata": {},
   "outputs": [
    {
     "data": {
      "image/png": "[encoded data removed]",
      "text/plain": [
       "<Figure size 576x576 with 1 Axes>"
      ]
     },
     "metadata": {},
     "output_type": "display_data"
    }
   ],
   "source": [
    "data_1 = data['Farinotti Mean Thickness'] * data['Area']\n",
    "data_2 = data['Edasi Mean Thickness'] * data['Area']\n",
    "#sort data\n",
    "\n",
    "\n",
    "x_1 = np.sort(data_1)\n",
    "# x = data_1\n",
    "#calculate CDF values\n",
    "y_1 = 1. * np.arange(len(data_1)) / (len(data_1) - 1)\n",
    "\n",
    "\n",
    "x_2 = np.sort(data_2)\n",
    "# x = data\n",
    "#calculate CDF values\n",
    "y_2 = 1. * np.arange(len(data_2)) / (len(data_2) - 1)\n",
    "\n",
    "#plot CDF\n",
    "fig, ax = plt.subplots(1,1,figsize=(8, 8))\n",
    "\n",
    "plt.subplots_adjust(hspace=0.5)\n",
    "\n",
    "plt.suptitle('RGI Volume Cumulative Distribution Function', fontsize=18, y=0.93)\n",
    "fig.patch.set_facecolor('w')\n",
    "\n",
    "\n",
    "plt.subplots_adjust(hspace=0.5)\n",
    "plt.plot(\n",
    "    x_1, \n",
    "    y_1,\n",
    "    c = 'blue',\n",
    "    label = 'Farinotti Volume'\n",
    "    \n",
    ")\n",
    "plt.plot(\n",
    "    x_2, \n",
    "    y_2,\n",
    "    c = 'orange',\n",
    "    label = 'Edasi Volume'\n",
    ")\n",
    "plt.legend()\n",
    "ax.set_xscale('log')\n",
    "ax.set_xlabel('Ice Volume')\n",
    "ax.set_ylabel('% of Glaciers Containing Ice')\n",
    "\n",
    "k = 1\n",
    "for lambd in (1,10,100):\n",
    "    plt.plot(x_1, 1 - np.exp(- (x_1/lambd)**k ),'--')\n",
    "# plt.savefig('figs/cdf/cdf.svg')\n",
    "plt.show()"
   ]
  },
  {
   "cell_type": "markdown",
   "id": "9d9c3610",
   "metadata": {},
   "source": [
    "# Plot probability density function (PDF)"
   ]
  },
  {
   "cell_type": "code",
   "execution_count": 4,
   "id": "b804a673",
   "metadata": {},
   "outputs": [
    {
     "data": {
      "image/png": "[encoded data removed]",
      "text/plain": [
       "<Figure size 576x396 with 1 Axes>"
      ]
     },
     "metadata": {},
     "output_type": "display_data"
    }
   ],
   "source": [
    "plt.subplots()\n",
    "plt.hist(np.log10(data_1), 250)\n",
    "plt.hist(np.log10(data_2), 250)\n",
    "plt.yscale('log')\n",
    "# plt.xlim(0,1e5)\n",
    "plt.show()"
   ]
  },
  {
   "cell_type": "markdown",
   "id": "cf56babd",
   "metadata": {},
   "source": [
    "# Use the KS test to show that the differences are significantly different "
   ]
  },
  {
   "cell_type": "code",
   "execution_count": 5,
   "id": "22719544",
   "metadata": {},
   "outputs": [],
   "source": [
    "from scipy.interpolate import interp1d"
   ]
  },
  {
   "cell_type": "code",
   "execution_count": 6,
   "id": "359afcd2",
   "metadata": {},
   "outputs": [],
   "source": [
    "f1 = interp1d(x_1,y_1)\n",
    "f2 = interp1d(x_2,y_2)"
   ]
  },
  {
   "cell_type": "code",
   "execution_count": 7,
   "id": "75b03daf",
   "metadata": {},
   "outputs": [
    {
     "data": {
      "text/plain": [
       "-1.1465915301551295"
      ]
     },
     "execution_count": 7,
     "metadata": {},
     "output_type": "execute_result"
    }
   ],
   "source": [
    "np.log10(x_2.min())"
   ]
  },
  {
   "cell_type": "code",
   "execution_count": 8,
   "id": "3ba6e0e4",
   "metadata": {},
   "outputs": [],
   "source": [
    "x = np.logspace(-0.96, 6, 100)\n",
    "D = np.max(abs(f2(x) - f1(x)))"
   ]
  },
  {
   "cell_type": "markdown",
   "id": "c3b04f0b",
   "metadata": {},
   "source": [
    "# Resample to test difference of sums\n",
    "\n",
    "We want to address the question, \"Is our total ice volumes significantly different from published estimates?\"  The following shows that the answer is yes.\n",
    "\n",
    "Another way to ask the question is, \"What is the probability that the published estimate is actually less than our value?\"\n",
    "\n",
    "Let's randomly re-sample 90% of the distributions 1000 times and each time, calculate the sum of the sample."
   ]
  },
  {
   "cell_type": "code",
   "execution_count": 9,
   "id": "99351dba",
   "metadata": {},
   "outputs": [
    {
     "name": "stderr",
     "output_type": "stream",
     "text": [
      "100%|██████████| 1000/1000 [00:06<00:00, 145.25it/s]\n"
     ]
    }
   ],
   "source": [
    "from tqdm import tqdm\n",
    "N1 = len(data_1)\n",
    "assert len(data_1) == len(data_2)\n",
    "resample_rate = 0.9\n",
    "Nsample = int(N1 * resample_rate)\n",
    "X = []\n",
    "for i in tqdm(range(1000)):\n",
    "    sum1 = np.sum(data_1.to_numpy()[np.random.choice(N1, size=Nsample, replace=False)])\n",
    "    sum2 = np.sum(data_2.to_numpy()[np.random.choice(N1, size=Nsample, replace=False)])\n",
    "\n",
    "    X.append (sum1-sum2)"
   ]
  },
  {
   "cell_type": "code",
   "execution_count": 10,
   "id": "085df7dc",
   "metadata": {},
   "outputs": [
    {
     "data": {
      "image/png": "[encoded data removed]",
      "text/plain": [
       "<Figure size 576x396 with 1 Axes>"
      ]
     },
     "metadata": {},
     "output_type": "display_data"
    }
   ],
   "source": [
    "plt.subplots()\n",
    "plt.hist(np.array(X)/resample_rate/1e6,20,density=True)\n",
    "plt.title(r'Resampled difference between the $V_F$ and $V_E$')\n",
    "plt.ylabel('Frequentist Probability')\n",
    "plt.xlabel('Ice Volume (x1000 cu km)')\n",
    "plt.show()"
   ]
  },
  {
   "cell_type": "code",
   "execution_count": 11,
   "id": "c97504d5",
   "metadata": {},
   "outputs": [
    {
     "name": "stderr",
     "output_type": "stream",
     "text": [
      "/home/sa42/miniconda3/envs/python-cartopy-f/lib/python3.7/site-packages/numpy/core/fromnumeric.py:3441: RuntimeWarning: Mean of empty slice.\n",
      "  out=out, **kwargs)\n",
      "/home/sa42/miniconda3/envs/python-cartopy-f/lib/python3.7/site-packages/numpy/core/_methods.py:189: RuntimeWarning: invalid value encountered in double_scalars\n",
      "  ret = ret.dtype.type(ret / rcount)\n"
     ]
    },
    {
     "data": {
      "image/png": "[encoded data removed]",
      "text/plain": [
       "<Figure size 576x396 with 1 Axes>"
      ]
     },
     "metadata": {},
     "output_type": "display_data"
    }
   ],
   "source": [
    "fig,ax=plt.subplots()\n",
    "for i in range(len(X)):\n",
    "    ax.plot(i,np.mean(X[0:i])/1e6/resample_rate,'ok')\n",
    "plt.title('Convergence of the mean')\n",
    "plt.xlabel('Iteration')\n",
    "plt.ylabel('Mean (x1000 cu km)')\n",
    "plt.show()"
   ]
  },
  {
   "cell_type": "markdown",
   "id": "ae9403a5",
   "metadata": {},
   "source": [
    "### The distribution looks approximately normal (ignore the skew for now). So what is the probability that $V_F == V_E$ given the resampled difference mean and standard deviation?"
   ]
  },
  {
   "cell_type": "code",
   "execution_count": 12,
   "id": "21631d05",
   "metadata": {},
   "outputs": [
    {
     "name": "stdout",
     "output_type": "stream",
     "text": [
      "Mean of Differences = 27.30\n",
      "Std of Differences = 4.13\n",
      "Probability of equality of volumes = 10**-10.50\n"
     ]
    }
   ],
   "source": [
    "mu  = np.mean(X)/resample_rate/1e6\n",
    "sig = np.std(X)/resample_rate/1e6\n",
    "print(f'Mean of Differences = {mu:.2f}')\n",
    "print(f'Std of Differences = {sig:.2f}')\n",
    "from scipy.stats import norm\n",
    "value = 0 # this corresponds to zero difference\n",
    "probability=norm.pdf(value,loc = mu, scale=sig)\n",
    "print(f'Probability of equality of volumes = 10**{np.log10(probability):.2f}')"
   ]
  },
  {
   "cell_type": "markdown",
   "id": "1d4dfa31",
   "metadata": {},
   "source": [
    "### So the probabilty is extremely low that the two estimates are the same!\n",
    "This is similar to the Z-test with large N.  Let's calculate what the Z-test gave us to see whether the the MC resampling added any value."
   ]
  },
  {
   "cell_type": "code",
   "execution_count": 13,
   "id": "0a92eef1",
   "metadata": {},
   "outputs": [
    {
     "name": "stdout",
     "output_type": "stream",
     "text": [
      "log10(Z) = 8.331963766820602\n",
      "p  = 0.0\n"
     ]
    }
   ],
   "source": [
    "mu1 = np.sum(data_1.to_numpy())\n",
    "mu2 = np.sum(data_2.to_numpy())\n",
    "std1 = 41\n",
    "std2 = 42.19\n",
    "N = len(data_2.to_numpy())\n",
    "Z = np.abs(mu1-mu2) / np.sqrt(std1**2/N+std2**2/N)\n",
    "print(f'log10(Z) = {np.log10(Z)}')\n",
    "\n",
    "print(f'p  = {norm.sf(abs(Z))}')"
   ]
  },
  {
   "cell_type": "markdown",
   "id": "cfd930ff",
   "metadata": {},
   "source": [
    "For such a large p-value, scipy just rounds the probabilty to zero. I think that settles it.  The differences are significant."
   ]
  },
  {
   "cell_type": "markdown",
   "id": "ac0ac4f8",
   "metadata": {},
   "source": [
    "# Next level up:  Account for the uncertainty as quantified in the bootstraps"
   ]
  },
  {
   "cell_type": "code",
   "execution_count": 14,
   "id": "4264b200",
   "metadata": {},
   "outputs": [
    {
     "name": "stderr",
     "output_type": "stream",
     "text": [
      "100%|██████████| 1000/1000 [1:12:53<00:00,  4.37s/it]\n"
     ]
    }
   ],
   "source": [
    "m_F = (data['Farinotti Mean Thickness'] * data['Area']).to_numpy()\n",
    "m_E = (data['Edasi Mean Thickness'] * data['Area']).to_numpy()\n",
    "s_E = (data['Edasi Thickness Std Dev'] * data['Area']).to_numpy()\n",
    "\n",
    "N = len(data_1)\n",
    "\n",
    "resample_rate = 0.9\n",
    "Nsample = int(N1 * resample_rate)\n",
    "X = []\n",
    "vector_normal_rand = np.vectorize(norm.rvs)\n",
    "for i in tqdm(range(1000)):\n",
    "    \n",
    "    # First, draw from the Bootstrap EDF\n",
    "    edasi_sample=vector_normal_rand(m_E,s_E)\n",
    "#     edasi_sample = np.zeros_like(m_E)\n",
    "#     for i in range(len(edasi_sample)):\n",
    "#         edasi_sample[i] = norm.rvs(loc=m_E[i], scale=s_E[i], size=1)\n",
    "    \n",
    "    mc_resample_F = m_F[np.random.choice(N, size=Nsample, replace=False)]\n",
    "    mc_resample_E = m_E[np.random.choice(N, size=Nsample, replace=False)]\n",
    "    \n",
    "    sum_F = np.sum(mc_resample_F)\n",
    "    sum_E = np.sum(mc_resample_E)\n",
    "\n",
    "    X.append (sum_F-sum_E)"
   ]
  },
  {
   "cell_type": "code",
   "execution_count": 15,
   "id": "5630664b",
   "metadata": {},
   "outputs": [
    {
     "data": {
      "image/png": "[encoded data removed]",
      "text/plain": [
       "<Figure size 576x396 with 1 Axes>"
      ]
     },
     "metadata": {},
     "output_type": "display_data"
    }
   ],
   "source": [
    "plt.plot(X,'ok')\n",
    "plt.show()"
   ]
  },
  {
   "cell_type": "code",
   "execution_count": 16,
   "id": "372c16ef",
   "metadata": {},
   "outputs": [
    {
     "data": {
      "image/png": "[encoded data removed]",
      "text/plain": [
       "<Figure size 576x396 with 1 Axes>"
      ]
     },
     "metadata": {},
     "output_type": "display_data"
    }
   ],
   "source": [
    "plt.hist(np.array(X)/1e6 / resample_rate)\n",
    "plt.show()"
   ]
  },
  {
   "cell_type": "code",
   "execution_count": 17,
   "id": "902fd5b6",
   "metadata": {},
   "outputs": [
    {
     "name": "stdout",
     "output_type": "stream",
     "text": [
      "Mean of Differences = 27.39\n",
      "Std of Differences = 4.32\n"
     ]
    }
   ],
   "source": [
    "mu  = np.mean(X)/resample_rate/1e6\n",
    "sig = np.std(X)/resample_rate/1e6\n",
    "print(f'Mean of Differences = {mu:.2f}')\n",
    "print(f'Std of Differences = {sig:.2f}')"
   ]
  },
  {
   "cell_type": "code",
   "execution_count": null,
   "id": "b6c001e4",
   "metadata": {},
   "outputs": [],
   "source": []
  }
 ],
 "metadata": {
  "kernelspec": {
   "display_name": "Python 3",
   "language": "python",
   "name": "python3"
  },
  "language_info": {
   "codemirror_mode": {
    "name": "ipython",
    "version": 3
   },
   "file_extension": ".py",
   "mimetype": "text/x-python",
   "name": "python",
   "nbconvert_exporter": "python",
   "pygments_lexer": "ipython3",
   "version": "3.6.8"
  },
  "varInspector": {
   "cols": {
    "lenName": 16,
    "lenType": 16,
    "lenVar": 40
   },
   "kernels_config": {
    "python": {
     "delete_cmd_postfix": "",
     "delete_cmd_prefix": "del ",
     "library": "var_list.py",
     "varRefreshCmd": "print(var_dic_list())"
    },
    "r": {
     "delete_cmd_postfix": ") ",
     "delete_cmd_prefix": "rm(",
     "library": "var_list.r",
     "varRefreshCmd": "cat(var_dic_list()) "
    }
   },
   "types_to_exclude": [
    "module",
    "function",
    "builtin_function_or_method",
    "instance",
    "_Feature"
   ],
   "window_display": false
  }
 },
 "nbformat": 4,
 "nbformat_minor": 5
}
