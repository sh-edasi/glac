{
 "cells": [
  {
   "cell_type": "code",
   "execution_count": 2,
   "id": "7eab9a02",
   "metadata": {},
   "outputs": [
    {
     "name": "stderr",
     "output_type": "stream",
     "text": [
      "2023-09-15 18:55:38.885893: I tensorflow/core/util/port.cc:110] oneDNN custom operations are on. You may see slightly different numerical results due to floating-point round-off errors from different computation orders. To turn them off, set the environment variable `TF_ENABLE_ONEDNN_OPTS=0`.\n",
      "2023-09-15 18:55:38.929153: I tensorflow/core/platform/cpu_feature_guard.cc:182] This TensorFlow binary is optimized to use available CPU instructions in performance-critical operations.\n",
      "To enable the following instructions: AVX2 AVX512F AVX512_VNNI FMA, in other operations, rebuild TensorFlow with the appropriate compiler flags.\n",
      "2023-09-15 18:55:39.528340: W tensorflow/compiler/tf2tensorrt/utils/py_utils.cc:38] TF-TRT Warning: Could not find TensorRT\n"
     ]
    }
   ],
   "source": [
    "# import sys\n",
    "# !{sys.executable} -m pip install Jinja2\n",
    "import glacierml as gl\n",
    "import pandas as pd\n",
    "pd.set_option('display.max_columns', None)\n",
    "import numpy as np\n",
    "parameterization = '4'\n",
    "method = '1'"
   ]
  },
  {
   "cell_type": "code",
   "execution_count": 27,
   "id": "19880ad9",
   "metadata": {},
   "outputs": [],
   "source": [
    "def stats_builder(st1 = 1e-5, st2 = 1e4):\n",
    "    \n",
    "#     boundary = [(str(st1), str(st2))]\n",
    "    \n",
    "    col_list = [ 'Area', \n",
    "#                 'Slope','Lmax','Zmin',\n",
    "#                 'Zmax',\n",
    "                '0','Thick Diff',\n",
    "                'Vol Diff'\n",
    "#                'Farinotti Mean Thickness'\n",
    "               ]\n",
    "    name = ['mean',\n",
    "            'median', 'min', 'max','IQR',\n",
    "            'STD','count'\n",
    "           ]\n",
    "\n",
    "    df = pd.DataFrame( columns = col_list, index = name)\n",
    "#     data = gl.load_notebook_data('4','first')\n",
    "    data = pd.read_pickle('another_quick_pick.pkl')\n",
    "    x = np.array(data['FMT'])\n",
    "    y = np.array(data['0'])\n",
    "    area = np.array(data['Area'])\n",
    "    \n",
    "    vol_f = (x / 1e3) * area\n",
    "    vol = (y / 1e3) * area\n",
    "    \n",
    "    thick_f = vol_f / area * 1e3\n",
    "    thick = vol / area * 1e3\n",
    "    \n",
    "    vol_diff = vol - vol_f\n",
    "    data['Thick Diff'] = thick - thick_f\n",
    "    data['Vol Diff'] = vol_diff\n",
    "    data = data.iloc[np.where(\n",
    "        (vol > st1) & (vol < st2)\n",
    "    )]\n",
    "    vol_sub = vol[np.where(\n",
    "        (vol > st1) & (vol < st2)\n",
    "    )]\n",
    "    feat_list = col_list\n",
    "    for i in feat_list:\n",
    "        dft = data[i]\n",
    "        upp = np.nanquantile(dft, 0.75)\n",
    "        low = np.nanquantile(dft, 0.25)\n",
    "#         print(np.quantile(dft, 0.75))\n",
    "#         print(np.quantile(dft, 0.25))\n",
    "        functions = [\n",
    "            np.round(np.nanmean(dft), 3),\n",
    "            np.round(np.nanmedian(dft), 3), \n",
    "            np.round(np.nanmin(dft), 3),\n",
    "            np.round(np.nanmax(dft), 3),\n",
    "            np.round(upp - low, 3),\n",
    "            np.round(np.nanstd(dft),3),\n",
    "            len(dft)\n",
    "        ]\n",
    "        for n, fn in zip(name, functions):\n",
    "            df[i].loc[n] = fn\n",
    "    df = df.rename(columns = {\n",
    "        'Area':'Area (km$^2$)',\n",
    "        'Slope':'Slope (deg)',\n",
    "        'Lmax':'Max Length (m)',\n",
    "        'Zmin':'Min Elevation (m)',\n",
    "        '0':'Est Thick (m)',\n",
    "        'Vol Diff':'Vol Diff (km$^3$)'\n",
    "#         'Farinotti Mean Thickness':'Farinotti Thickness'\n",
    "    })\n",
    "    df = df.round(decimals = 3)\n",
    "    return df, data, vol, vol_sub"
   ]
  },
  {
   "cell_type": "code",
   "execution_count": 54,
   "id": "7b5dc406",
   "metadata": {},
   "outputs": [
    {
     "data": {
      "text/html": [
       "<div>\n",
       "<style scoped>\n",
       "    .dataframe tbody tr th:only-of-type {\n",
       "        vertical-align: middle;\n",
       "    }\n",
       "\n",
       "    .dataframe tbody tr th {\n",
       "        vertical-align: top;\n",
       "    }\n",
       "\n",
       "    .dataframe thead th {\n",
       "        text-align: right;\n",
       "    }\n",
       "</style>\n",
       "<table border=\"1\" class=\"dataframe\">\n",
       "  <thead>\n",
       "    <tr style=\"text-align: right;\">\n",
       "      <th></th>\n",
       "      <th>Area (km$^2$)</th>\n",
       "      <th>Est Thick (m)</th>\n",
       "      <th>Thick Diff</th>\n",
       "      <th>Vol Diff (km$^3$)</th>\n",
       "    </tr>\n",
       "  </thead>\n",
       "  <tbody>\n",
       "    <tr>\n",
       "      <th>mean</th>\n",
       "      <td>3.273</td>\n",
       "      <td>48.812</td>\n",
       "      <td>20.568</td>\n",
       "      <td>-0.018</td>\n",
       "    </tr>\n",
       "    <tr>\n",
       "      <th>median</th>\n",
       "      <td>0.251</td>\n",
       "      <td>50.352001</td>\n",
       "      <td>21.845</td>\n",
       "      <td>0.004</td>\n",
       "    </tr>\n",
       "    <tr>\n",
       "      <th>min</th>\n",
       "      <td>0.01</td>\n",
       "      <td>5.049</td>\n",
       "      <td>-428.348</td>\n",
       "      <td>-468.126</td>\n",
       "    </tr>\n",
       "    <tr>\n",
       "      <th>max</th>\n",
       "      <td>7537.579</td>\n",
       "      <td>1102.133057</td>\n",
       "      <td>553.133</td>\n",
       "      <td>1673.292</td>\n",
       "    </tr>\n",
       "    <tr>\n",
       "      <th>IQR</th>\n",
       "      <td>0.681</td>\n",
       "      <td>32.219</td>\n",
       "      <td>31.444</td>\n",
       "      <td>0.011</td>\n",
       "    </tr>\n",
       "    <tr>\n",
       "      <th>STD</th>\n",
       "      <td>48.302</td>\n",
       "      <td>24.707001</td>\n",
       "      <td>22.976</td>\n",
       "      <td>7.153</td>\n",
       "    </tr>\n",
       "    <tr>\n",
       "      <th>count</th>\n",
       "      <td>215519</td>\n",
       "      <td>215519</td>\n",
       "      <td>215519</td>\n",
       "      <td>215519</td>\n",
       "    </tr>\n",
       "  </tbody>\n",
       "</table>\n",
       "</div>"
      ],
      "text/plain": [
       "       Area (km$^2$) Est Thick (m) Thick Diff Vol Diff (km$^3$)\n",
       "mean           3.273        48.812     20.568            -0.018\n",
       "median         0.251     50.352001     21.845             0.004\n",
       "min             0.01         5.049   -428.348          -468.126\n",
       "max         7537.579   1102.133057    553.133          1673.292\n",
       "IQR            0.681        32.219     31.444             0.011\n",
       "STD           48.302     24.707001     22.976             7.153\n",
       "count         215519        215519     215519            215519"
      ]
     },
     "execution_count": 54,
     "metadata": {},
     "output_type": "execute_result"
    }
   ],
   "source": [
    "stats, data, vol, vol_sub = stats_builder(1e-5, 1e4)\n",
    "stats"
   ]
  },
  {
   "cell_type": "code",
   "execution_count": 56,
   "id": "79fa91c3",
   "metadata": {},
   "outputs": [
    {
     "name": "stdout",
     "output_type": "stream",
     "text": [
      "volume of total edf is 145.4971826374231\n"
     ]
    }
   ],
   "source": [
    "tvol = sum((data['0'] / 1e3 * data['Area'])/1e3)\n",
    "print(f'volume of total edf is {tvol}')\n",
    "# print(stats.to_latex(float_format=\"%.2f\"))"
   ]
  },
  {
   "cell_type": "code",
   "execution_count": 59,
   "id": "788d5170",
   "metadata": {},
   "outputs": [
    {
     "data": {
      "text/html": [
       "<div>\n",
       "<style scoped>\n",
       "    .dataframe tbody tr th:only-of-type {\n",
       "        vertical-align: middle;\n",
       "    }\n",
       "\n",
       "    .dataframe tbody tr th {\n",
       "        vertical-align: top;\n",
       "    }\n",
       "\n",
       "    .dataframe thead th {\n",
       "        text-align: right;\n",
       "    }\n",
       "</style>\n",
       "<table border=\"1\" class=\"dataframe\">\n",
       "  <thead>\n",
       "    <tr style=\"text-align: right;\">\n",
       "      <th></th>\n",
       "      <th>Area (km$^2$)</th>\n",
       "      <th>Est Thick (m)</th>\n",
       "      <th>Thick Diff</th>\n",
       "      <th>Vol Diff (km$^3$)</th>\n",
       "    </tr>\n",
       "  </thead>\n",
       "  <tbody>\n",
       "    <tr>\n",
       "      <th>mean</th>\n",
       "      <td>0.79</td>\n",
       "      <td>46.841999</td>\n",
       "      <td>21.733</td>\n",
       "      <td>0.007</td>\n",
       "    </tr>\n",
       "    <tr>\n",
       "      <th>median</th>\n",
       "      <td>0.238</td>\n",
       "      <td>49.597</td>\n",
       "      <td>22.576</td>\n",
       "      <td>0.004</td>\n",
       "    </tr>\n",
       "    <tr>\n",
       "      <th>min</th>\n",
       "      <td>0.01</td>\n",
       "      <td>5.135</td>\n",
       "      <td>-428.348</td>\n",
       "      <td>-3.858</td>\n",
       "    </tr>\n",
       "    <tr>\n",
       "      <th>max</th>\n",
       "      <td>31.518</td>\n",
       "      <td>394.953003</td>\n",
       "      <td>360.953</td>\n",
       "      <td>0.976</td>\n",
       "    </tr>\n",
       "    <tr>\n",
       "      <th>IQR</th>\n",
       "      <td>0.602</td>\n",
       "      <td>31.958</td>\n",
       "      <td>31.003</td>\n",
       "      <td>0.011</td>\n",
       "    </tr>\n",
       "    <tr>\n",
       "      <th>STD</th>\n",
       "      <td>1.584</td>\n",
       "      <td>19.226999</td>\n",
       "      <td>20.504</td>\n",
       "      <td>0.051</td>\n",
       "    </tr>\n",
       "    <tr>\n",
       "      <th>count</th>\n",
       "      <td>209715</td>\n",
       "      <td>209715</td>\n",
       "      <td>209715</td>\n",
       "      <td>209715</td>\n",
       "    </tr>\n",
       "  </tbody>\n",
       "</table>\n",
       "</div>"
      ],
      "text/plain": [
       "       Area (km$^2$) Est Thick (m) Thick Diff Vol Diff (km$^3$)\n",
       "mean            0.79     46.841999     21.733             0.007\n",
       "median         0.238        49.597     22.576             0.004\n",
       "min             0.01         5.135   -428.348            -3.858\n",
       "max           31.518    394.953003    360.953             0.976\n",
       "IQR            0.602        31.958     31.003             0.011\n",
       "STD            1.584     19.226999     20.504             0.051\n",
       "count         209715        209715     209715            209715"
      ]
     },
     "execution_count": 59,
     "metadata": {},
     "output_type": "execute_result"
    }
   ],
   "source": [
    "stats, data, vol, vol_sub = stats_builder(1e-4, 1e0)\n",
    "stats"
   ]
  },
  {
   "cell_type": "code",
   "execution_count": 60,
   "id": "127106b0",
   "metadata": {},
   "outputs": [
    {
     "name": "stdout",
     "output_type": "stream",
     "text": [
      "volume of subset edf is 9.568, 6.58% of global volume\n"
     ]
    }
   ],
   "source": [
    "svol = np.round(sum((data['0'] / 1e3 * data['Area'])/1e3),3)\n",
    "perc = np.round(svol / tvol * 100,2)\n",
    "print(f'volume of subset edf is {svol}, {perc}% of global volume')\n",
    "# print(stats.to_latex(float_format=\"%.2f\"))"
   ]
  },
  {
   "cell_type": "code",
   "execution_count": 61,
   "id": "062d088c",
   "metadata": {},
   "outputs": [
    {
     "data": {
      "text/html": [
       "<div>\n",
       "<style scoped>\n",
       "    .dataframe tbody tr th:only-of-type {\n",
       "        vertical-align: middle;\n",
       "    }\n",
       "\n",
       "    .dataframe tbody tr th {\n",
       "        vertical-align: top;\n",
       "    }\n",
       "\n",
       "    .dataframe thead th {\n",
       "        text-align: right;\n",
       "    }\n",
       "</style>\n",
       "<table border=\"1\" class=\"dataframe\">\n",
       "  <thead>\n",
       "    <tr style=\"text-align: right;\">\n",
       "      <th></th>\n",
       "      <th>Area (km$^2$)</th>\n",
       "      <th>Est Thick (m)</th>\n",
       "      <th>Thick Diff</th>\n",
       "      <th>Vol Diff (km$^3$)</th>\n",
       "    </tr>\n",
       "  </thead>\n",
       "  <tbody>\n",
       "    <tr>\n",
       "      <th>mean</th>\n",
       "      <td>54.375</td>\n",
       "      <td>112.093002</td>\n",
       "      <td>-23.068</td>\n",
       "      <td>-2.154</td>\n",
       "    </tr>\n",
       "    <tr>\n",
       "      <th>median</th>\n",
       "      <td>27.271</td>\n",
       "      <td>101.859001</td>\n",
       "      <td>-13.117</td>\n",
       "      <td>-0.326</td>\n",
       "    </tr>\n",
       "    <tr>\n",
       "      <th>min</th>\n",
       "      <td>7.47</td>\n",
       "      <td>17.739</td>\n",
       "      <td>-302.797</td>\n",
       "      <td>-277.826</td>\n",
       "    </tr>\n",
       "    <tr>\n",
       "      <th>max</th>\n",
       "      <td>917.532</td>\n",
       "      <td>412.604004</td>\n",
       "      <td>269.604</td>\n",
       "      <td>38.68</td>\n",
       "    </tr>\n",
       "    <tr>\n",
       "      <th>IQR</th>\n",
       "      <td>39.942</td>\n",
       "      <td>39.115</td>\n",
       "      <td>45.662</td>\n",
       "      <td>1.589</td>\n",
       "    </tr>\n",
       "    <tr>\n",
       "      <th>STD</th>\n",
       "      <td>71.479</td>\n",
       "      <td>40.217999</td>\n",
       "      <td>45.869</td>\n",
       "      <td>9.583</td>\n",
       "    </tr>\n",
       "    <tr>\n",
       "      <th>count</th>\n",
       "      <td>5512</td>\n",
       "      <td>5512</td>\n",
       "      <td>5512</td>\n",
       "      <td>5512</td>\n",
       "    </tr>\n",
       "  </tbody>\n",
       "</table>\n",
       "</div>"
      ],
      "text/plain": [
       "       Area (km$^2$) Est Thick (m) Thick Diff Vol Diff (km$^3$)\n",
       "mean          54.375    112.093002    -23.068            -2.154\n",
       "median        27.271    101.859001    -13.117            -0.326\n",
       "min             7.47        17.739   -302.797          -277.826\n",
       "max          917.532    412.604004    269.604             38.68\n",
       "IQR           39.942        39.115     45.662             1.589\n",
       "STD           71.479     40.217999     45.869             9.583\n",
       "count           5512          5512       5512              5512"
      ]
     },
     "execution_count": 61,
     "metadata": {},
     "output_type": "execute_result"
    }
   ],
   "source": [
    "stats, data, vol, vol_sub = stats_builder(1e0, 1e2)\n",
    "stats"
   ]
  },
  {
   "cell_type": "code",
   "execution_count": 62,
   "id": "a167b313",
   "metadata": {},
   "outputs": [
    {
     "name": "stdout",
     "output_type": "stream",
     "text": [
      "volume of subset edf is 43.653, 30.0% of global volume\n"
     ]
    }
   ],
   "source": [
    "svol = np.round(sum((data['0'] / 1e3 * data['Area'])/1e3),3)\n",
    "perc = np.round(svol / tvol * 100,2)\n",
    "print(f'volume of subset edf is {svol}, {perc}% of global volume')\n",
    "# print(stats.to_latex(float_format=\"%.2f\"))"
   ]
  },
  {
   "cell_type": "code",
   "execution_count": 63,
   "id": "8204e8cf",
   "metadata": {},
   "outputs": [
    {
     "data": {
      "text/html": [
       "<div>\n",
       "<style scoped>\n",
       "    .dataframe tbody tr th:only-of-type {\n",
       "        vertical-align: middle;\n",
       "    }\n",
       "\n",
       "    .dataframe tbody tr th {\n",
       "        vertical-align: top;\n",
       "    }\n",
       "\n",
       "    .dataframe thead th {\n",
       "        text-align: right;\n",
       "    }\n",
       "</style>\n",
       "<table border=\"1\" class=\"dataframe\">\n",
       "  <thead>\n",
       "    <tr style=\"text-align: right;\">\n",
       "      <th></th>\n",
       "      <th>Area (km$^2$)</th>\n",
       "      <th>Est Thick (m)</th>\n",
       "      <th>Thick Diff</th>\n",
       "      <th>Vol Diff (km$^3$)</th>\n",
       "    </tr>\n",
       "  </thead>\n",
       "  <tbody>\n",
       "    <tr>\n",
       "      <th>mean</th>\n",
       "      <td>1029.968</td>\n",
       "      <td>334.837006</td>\n",
       "      <td>9.378</td>\n",
       "      <td>27.887</td>\n",
       "    </tr>\n",
       "    <tr>\n",
       "      <th>median</th>\n",
       "      <td>688.885</td>\n",
       "      <td>318.294006</td>\n",
       "      <td>13.509</td>\n",
       "      <td>9.123</td>\n",
       "    </tr>\n",
       "    <tr>\n",
       "      <th>min</th>\n",
       "      <td>331.578</td>\n",
       "      <td>93.167</td>\n",
       "      <td>-252.833</td>\n",
       "      <td>-468.126</td>\n",
       "    </tr>\n",
       "    <tr>\n",
       "      <th>max</th>\n",
       "      <td>7537.579</td>\n",
       "      <td>1102.133057</td>\n",
       "      <td>553.133</td>\n",
       "      <td>1673.292</td>\n",
       "    </tr>\n",
       "    <tr>\n",
       "      <th>IQR</th>\n",
       "      <td>596.701</td>\n",
       "      <td>125.134</td>\n",
       "      <td>144.313</td>\n",
       "      <td>99.195</td>\n",
       "    </tr>\n",
       "    <tr>\n",
       "      <th>STD</th>\n",
       "      <td>955.749</td>\n",
       "      <td>114.871002</td>\n",
       "      <td>116.738</td>\n",
       "      <td>210.384</td>\n",
       "    </tr>\n",
       "    <tr>\n",
       "      <th>count</th>\n",
       "      <td>233</td>\n",
       "      <td>233</td>\n",
       "      <td>233</td>\n",
       "      <td>233</td>\n",
       "    </tr>\n",
       "  </tbody>\n",
       "</table>\n",
       "</div>"
      ],
      "text/plain": [
       "       Area (km$^2$) Est Thick (m) Thick Diff Vol Diff (km$^3$)\n",
       "mean        1029.968    334.837006      9.378            27.887\n",
       "median       688.885    318.294006     13.509             9.123\n",
       "min          331.578        93.167   -252.833          -468.126\n",
       "max         7537.579   1102.133057    553.133          1673.292\n",
       "IQR          596.701       125.134    144.313            99.195\n",
       "STD          955.749    114.871002    116.738           210.384\n",
       "count            233           233        233               233"
      ]
     },
     "execution_count": 63,
     "metadata": {},
     "output_type": "execute_result"
    }
   ],
   "source": [
    "stats, data, vol, vol_sub = stats_builder(1e2, 1e4)\n",
    "stats"
   ]
  },
  {
   "cell_type": "code",
   "execution_count": 64,
   "id": "2c205a3e",
   "metadata": {},
   "outputs": [
    {
     "name": "stdout",
     "output_type": "stream",
     "text": [
      "volume of subset edf is 92.276, 63.42% of global volume\n"
     ]
    }
   ],
   "source": [
    "svol = np.round(sum((data['0'] / 1e3 * data['Area'])/1e3),3)\n",
    "perc = np.round(svol / tvol * 100,2)\n",
    "print(f'volume of subset edf is {svol}, {perc}% of global volume')\n",
    "# print(stats.to_latex(float_format=\"%.2f\"))"
   ]
  },
  {
   "cell_type": "code",
   "execution_count": null,
   "id": "ba6ee66b",
   "metadata": {},
   "outputs": [],
   "source": [
    "data"
   ]
  },
  {
   "cell_type": "code",
   "execution_count": null,
   "id": "b7d55f0d",
   "metadata": {},
   "outputs": [],
   "source": [
    "data = data.dropna(subset = 'Farinotti Mean Thickness')"
   ]
  },
  {
   "cell_type": "code",
   "execution_count": null,
   "id": "3f9711f9",
   "metadata": {},
   "outputs": [],
   "source": [
    "import matplotlib.pyplot as plt\n",
    "\n",
    "\n"
   ]
  },
  {
   "cell_type": "code",
   "execution_count": null,
   "id": "e5e573da",
   "metadata": {},
   "outputs": [],
   "source": [
    "np.sqrt(55000)"
   ]
  },
  {
   "cell_type": "code",
   "execution_count": null,
   "id": "1b2b7a6d",
   "metadata": {},
   "outputs": [],
   "source": [
    "plt.hist(data['Vol Diff'],75)\n",
    "plt.yscale('log')"
   ]
  },
  {
   "cell_type": "code",
   "execution_count": null,
   "id": "82db9db9",
   "metadata": {},
   "outputs": [],
   "source": [
    "f = data['Vol Diff']\n",
    "plt.hist((f), 25)\n",
    "plt.yscale('log')\n",
    "plt.plot(\n",
    "    [np.percentile(f,50),np.percentile(f,50)],\n",
    "    [0,1e4], 'k--'\n",
    ")\n",
    "plt.plot(\n",
    "    [np.percentile(f,25),np.percentile(f,25)],\n",
    "    [0,1e4], 'k--'\n",
    ")\n",
    "plt.plot(\n",
    "    [np.percentile(f,75),np.percentile(f,75)],\n",
    "    [0,1e4], 'k--'\n",
    ")\n",
    "# plt.text(\n",
    "    \n",
    "    \n",
    "#     (f).mean() - 0.5,\n",
    "#     955, s = 'Median'\n",
    "# )\n",
    "# plt.text(\n",
    "#     np.percentile(f,75) + .18 ,\n",
    "#     900, s = 'Q3'\n",
    "# )\n",
    "# plt.text(\n",
    "#     np.percentile(f, 25) - 0.76,\n",
    "#     900, s = 'Q1'\n",
    "# )"
   ]
  },
  {
   "cell_type": "code",
   "execution_count": null,
   "id": "d45d3fac",
   "metadata": {},
   "outputs": [],
   "source": [
    "data"
   ]
  },
  {
   "cell_type": "code",
   "execution_count": null,
   "id": "baa25499",
   "metadata": {},
   "outputs": [],
   "source": [
    "data['Thick Diff'] = data['Weighted Mean Thickness 1'] - data['Farinotti Mean Thickness']\n",
    "data"
   ]
  },
  {
   "cell_type": "code",
   "execution_count": null,
   "id": "ee926ce7",
   "metadata": {},
   "outputs": [],
   "source": [
    "f = data['Thick Diff']\n",
    "plt.hist(data['Thick Diff'], 25)\n",
    "plt.yscale('log')\n",
    "plt.plot(\n",
    "    [np.percentile(f,50),np.percentile(f,50)],\n",
    "    [0,1e5], 'k--'\n",
    ")\n",
    "plt.plot(\n",
    "    [np.percentile(f,25),np.percentile(f,25)],\n",
    "    [0,1e5], 'k--'\n",
    ")\n",
    "plt.plot(\n",
    "    [np.percentile(f,75),np.percentile(f,75)],\n",
    "    [0,1e5], 'k--'\n",
    ")"
   ]
  },
  {
   "cell_type": "code",
   "execution_count": null,
   "id": "c94ffcec",
   "metadata": {},
   "outputs": [],
   "source": [
    "np.percentile(f,50)"
   ]
  },
  {
   "cell_type": "code",
   "execution_count": null,
   "id": "55d81d0c",
   "metadata": {},
   "outputs": [],
   "source": [
    "x = data['Farinotti Mean Thickness'] / 1e3 * data['Area']\n",
    "y = data['Weighted Mean Thickness 1'] / 1e3 * data['Area']\n",
    "\n",
    "np.nanmean(x - y)\n"
   ]
  },
  {
   "cell_type": "code",
   "execution_count": null,
   "id": "524dfa96",
   "metadata": {},
   "outputs": [],
   "source": [
    "len(data)"
   ]
  },
  {
   "cell_type": "code",
   "execution_count": null,
   "id": "9a49f6b4",
   "metadata": {},
   "outputs": [],
   "source": [
    "(len(data) / 216501) * 100"
   ]
  },
  {
   "cell_type": "code",
   "execution_count": null,
   "id": "84a2e9fc",
   "metadata": {},
   "outputs": [],
   "source": [
    "(sum(vol_sub) / sum(vol)) * 100"
   ]
  },
  {
   "cell_type": "code",
   "execution_count": null,
   "id": "d9a63e69",
   "metadata": {},
   "outputs": [],
   "source": [
    "sum(vol) / 1e3"
   ]
  },
  {
   "cell_type": "code",
   "execution_count": null,
   "id": "301ce1ee",
   "metadata": {},
   "outputs": [],
   "source": [
    "sum(vol_sub) / 1e3"
   ]
  },
  {
   "cell_type": "code",
   "execution_count": null,
   "id": "702c8fe9",
   "metadata": {},
   "outputs": [],
   "source": []
  }
 ],
 "metadata": {
  "kernelspec": {
   "display_name": "Python(3.8.10)",
   "language": "python",
   "name": "new_kernel"
  },
  "language_info": {
   "codemirror_mode": {
    "name": "ipython",
    "version": 3
   },
   "file_extension": ".py",
   "mimetype": "text/x-python",
   "name": "python",
   "nbconvert_exporter": "python",
   "pygments_lexer": "ipython3",
   "version": "3.8.10"
  },
  "varInspector": {
   "cols": {
    "lenName": 16,
    "lenType": 16,
    "lenVar": 40
   },
   "kernels_config": {
    "python": {
     "delete_cmd_postfix": "",
     "delete_cmd_prefix": "del ",
     "library": "var_list.py",
     "varRefreshCmd": "print(var_dic_list())"
    },
    "r": {
     "delete_cmd_postfix": ") ",
     "delete_cmd_prefix": "rm(",
     "library": "var_list.r",
     "varRefreshCmd": "cat(var_dic_list()) "
    }
   },
   "types_to_exclude": [
    "module",
    "function",
    "builtin_function_or_method",
    "instance",
    "_Feature"
   ],
   "window_display": false
  }
 },
 "nbformat": 4,
 "nbformat_minor": 5
}
