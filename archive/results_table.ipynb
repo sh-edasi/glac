{
 "cells": [
  {
   "cell_type": "code",
   "execution_count": 1,
   "id": "7eab9a02",
   "metadata": {},
   "outputs": [
    {
     "ename": "ModuleNotFoundError",
     "evalue": "No module named 'glacierml'",
     "output_type": "error",
     "traceback": [
      "\u001b[0;31m---------------------------------------------------------------------------\u001b[0m",
      "\u001b[0;31mModuleNotFoundError\u001b[0m                       Traceback (most recent call last)",
      "Cell \u001b[0;32mIn[1], line 3\u001b[0m\n\u001b[1;32m      1\u001b[0m \u001b[38;5;66;03m# import sys\u001b[39;00m\n\u001b[1;32m      2\u001b[0m \u001b[38;5;66;03m# !{sys.executable} -m pip install Jinja2\u001b[39;00m\n\u001b[0;32m----> 3\u001b[0m \u001b[38;5;28;01mimport\u001b[39;00m \u001b[38;5;21;01mglacierml\u001b[39;00m \u001b[38;5;28;01mas\u001b[39;00m \u001b[38;5;21;01mgl\u001b[39;00m\n\u001b[1;32m      4\u001b[0m \u001b[38;5;28;01mimport\u001b[39;00m \u001b[38;5;21;01mpandas\u001b[39;00m \u001b[38;5;28;01mas\u001b[39;00m \u001b[38;5;21;01mpd\u001b[39;00m\n\u001b[1;32m      5\u001b[0m pd\u001b[38;5;241m.\u001b[39mset_option(\u001b[38;5;124m'\u001b[39m\u001b[38;5;124mdisplay.max_columns\u001b[39m\u001b[38;5;124m'\u001b[39m, \u001b[38;5;28;01mNone\u001b[39;00m)\n",
      "\u001b[0;31mModuleNotFoundError\u001b[0m: No module named 'glacierml'"
     ]
    }
   ],
   "source": [
    "# import sys\n",
    "# !{sys.executable} -m pip install Jinja2\n",
    "import glacierml as gl\n",
    "import pandas as pd\n",
    "pd.set_option('display.max_columns', None)\n",
    "import numpy as np\n",
    "parameterization = '4'\n",
    "method = '1'"
   ]
  },
  {
   "cell_type": "code",
   "execution_count": null,
   "id": "19880ad9",
   "metadata": {},
   "outputs": [],
   "source": [
    "def stats_builder(st1 = 1e-5, st2 = 1e4):\n",
    "    \n",
    "#     boundary = [(str(st1), str(st2))]\n",
    "    \n",
    "    col_list = [ 'Area', \n",
    "#                 'Slope','Lmax','Zmin',\n",
    "#                 'Zmax',\n",
    "                '0','Thick Diff',\n",
    "                'Vol Diff'\n",
    "#                'Farinotti Mean Thickness'\n",
    "               ]\n",
    "    name = ['mean',\n",
    "            'median', 'min', 'max','IQR',\n",
    "            'STD','count'\n",
    "           ]\n",
    "\n",
    "    df = pd.DataFrame( columns = col_list, index = name)\n",
    "#     data = gl.load_notebook_data('4','first')\n",
    "    data = pd.read_pickle('another_quick_pick.pkl')\n",
    "    x = np.array(data['FMT'])\n",
    "    y = np.array(data['0'])\n",
    "    area = np.array(data['Area'])\n",
    "    \n",
    "    vol_f = (x / 1e3) * area\n",
    "    vol = (y / 1e3) * area\n",
    "    \n",
    "    thick_f = vol_f / area * 1e3\n",
    "    thick = vol / area * 1e3\n",
    "    \n",
    "    vol_diff = vol - vol_f\n",
    "    data['Thick Diff'] = thick - thick_f\n",
    "    data['Vol Diff'] = vol_diff\n",
    "    data = data.iloc[np.where(\n",
    "        (vol > st1) & (vol < st2)\n",
    "    )]\n",
    "    vol_sub = vol[np.where(\n",
    "        (vol > st1) & (vol < st2)\n",
    "    )]\n",
    "    feat_list = col_list\n",
    "    for i in feat_list:\n",
    "        dft = data[i]\n",
    "        upp = np.nanquantile(dft, 0.75)\n",
    "        low = np.nanquantile(dft, 0.25)\n",
    "#         print(np.quantile(dft, 0.75))\n",
    "#         print(np.quantile(dft, 0.25))\n",
    "        functions = [\n",
    "            np.round(np.nanmean(dft), 3),\n",
    "            np.round(np.nanmedian(dft), 3), \n",
    "            np.round(np.nanmin(dft), 3),\n",
    "            np.round(np.nanmax(dft), 3),\n",
    "            np.round(upp - low, 3),\n",
    "            np.round(np.nanstd(dft),3),\n",
    "            len(dft)\n",
    "        ]\n",
    "        for n, fn in zip(name, functions):\n",
    "            df[i].loc[n] = fn\n",
    "    df = df.rename(columns = {\n",
    "        'Area':'Area (km$^2$)',\n",
    "        'Slope':'Slope (deg)',\n",
    "        'Lmax':'Max Length (m)',\n",
    "        'Zmin':'Min Elevation (m)',\n",
    "        '0':'Est Thick (m)',\n",
    "        'Vol Diff':'Vol Diff (km$^3$)'\n",
    "#         'Farinotti Mean Thickness':'Farinotti Thickness'\n",
    "    })\n",
    "    df = df.round(decimals = 3)\n",
    "    return df, data, vol, vol_sub"
   ]
  },
  {
   "cell_type": "code",
   "execution_count": null,
   "id": "7b5dc406",
   "metadata": {},
   "outputs": [],
   "source": [
    "stats, data, vol, vol_sub = stats_builder(1e-5, 1e4)\n",
    "stats"
   ]
  },
  {
   "cell_type": "code",
   "execution_count": null,
   "id": "79fa91c3",
   "metadata": {},
   "outputs": [],
   "source": [
    "tvol = sum((data['0'] / 1e3 * data['Area'])/1e3)\n",
    "print(f'volume of total edf is {tvol}')\n",
    "# print(stats.to_latex(float_format=\"%.2f\"))"
   ]
  },
  {
   "cell_type": "code",
   "execution_count": null,
   "id": "788d5170",
   "metadata": {},
   "outputs": [],
   "source": [
    "stats, data, vol, vol_sub = stats_builder(1e-4, 1e0)\n",
    "stats"
   ]
  },
  {
   "cell_type": "code",
   "execution_count": null,
   "id": "127106b0",
   "metadata": {},
   "outputs": [],
   "source": [
    "svol = np.round(sum((data['0'] / 1e3 * data['Area'])/1e3),3)\n",
    "perc = np.round(svol / tvol * 100,2)\n",
    "print(f'volume of subset edf is {svol}, {perc}% of global volume')\n",
    "# print(stats.to_latex(float_format=\"%.2f\"))"
   ]
  },
  {
   "cell_type": "code",
   "execution_count": null,
   "id": "062d088c",
   "metadata": {},
   "outputs": [],
   "source": [
    "stats, data, vol, vol_sub = stats_builder(1e0, 1e2)\n",
    "stats"
   ]
  },
  {
   "cell_type": "code",
   "execution_count": null,
   "id": "a167b313",
   "metadata": {},
   "outputs": [],
   "source": [
    "svol = np.round(sum((data['0'] / 1e3 * data['Area'])/1e3),3)\n",
    "perc = np.round(svol / tvol * 100,2)\n",
    "print(f'volume of subset edf is {svol}, {perc}% of global volume')\n",
    "# print(stats.to_latex(float_format=\"%.2f\"))"
   ]
  },
  {
   "cell_type": "code",
   "execution_count": null,
   "id": "8204e8cf",
   "metadata": {},
   "outputs": [],
   "source": [
    "stats, data, vol, vol_sub = stats_builder(1e2, 1e4)\n",
    "stats"
   ]
  },
  {
   "cell_type": "code",
   "execution_count": null,
   "id": "2c205a3e",
   "metadata": {},
   "outputs": [],
   "source": [
    "svol = np.round(sum((data['0'] / 1e3 * data['Area'])/1e3),3)\n",
    "perc = np.round(svol / tvol * 100,2)\n",
    "print(f'volume of subset edf is {svol}, {perc}% of global volume')\n",
    "# print(stats.to_latex(float_format=\"%.2f\"))"
   ]
  },
  {
   "cell_type": "code",
   "execution_count": null,
   "id": "ba6ee66b",
   "metadata": {},
   "outputs": [],
   "source": [
    "data"
   ]
  },
  {
   "cell_type": "code",
   "execution_count": null,
   "id": "b7d55f0d",
   "metadata": {},
   "outputs": [],
   "source": [
    "data = data.dropna(subset = 'Farinotti Mean Thickness')"
   ]
  },
  {
   "cell_type": "code",
   "execution_count": null,
   "id": "3f9711f9",
   "metadata": {},
   "outputs": [],
   "source": [
    "import matplotlib.pyplot as plt\n",
    "\n",
    "\n"
   ]
  },
  {
   "cell_type": "code",
   "execution_count": null,
   "id": "e5e573da",
   "metadata": {},
   "outputs": [],
   "source": [
    "np.sqrt(55000)"
   ]
  },
  {
   "cell_type": "code",
   "execution_count": null,
   "id": "1b2b7a6d",
   "metadata": {},
   "outputs": [],
   "source": [
    "plt.hist(data['Vol Diff'],75)\n",
    "plt.yscale('log')"
   ]
  },
  {
   "cell_type": "code",
   "execution_count": null,
   "id": "82db9db9",
   "metadata": {},
   "outputs": [],
   "source": [
    "f = data['Vol Diff']\n",
    "plt.hist((f), 25)\n",
    "plt.yscale('log')\n",
    "plt.plot(\n",
    "    [np.percentile(f,50),np.percentile(f,50)],\n",
    "    [0,1e4], 'k--'\n",
    ")\n",
    "plt.plot(\n",
    "    [np.percentile(f,25),np.percentile(f,25)],\n",
    "    [0,1e4], 'k--'\n",
    ")\n",
    "plt.plot(\n",
    "    [np.percentile(f,75),np.percentile(f,75)],\n",
    "    [0,1e4], 'k--'\n",
    ")\n",
    "# plt.text(\n",
    "    \n",
    "    \n",
    "#     (f).mean() - 0.5,\n",
    "#     955, s = 'Median'\n",
    "# )\n",
    "# plt.text(\n",
    "#     np.percentile(f,75) + .18 ,\n",
    "#     900, s = 'Q3'\n",
    "# )\n",
    "# plt.text(\n",
    "#     np.percentile(f, 25) - 0.76,\n",
    "#     900, s = 'Q1'\n",
    "# )"
   ]
  },
  {
   "cell_type": "code",
   "execution_count": null,
   "id": "d45d3fac",
   "metadata": {},
   "outputs": [],
   "source": [
    "data"
   ]
  },
  {
   "cell_type": "code",
   "execution_count": null,
   "id": "baa25499",
   "metadata": {},
   "outputs": [],
   "source": [
    "data['Thick Diff'] = data['Weighted Mean Thickness 1'] - data['Farinotti Mean Thickness']\n",
    "data"
   ]
  },
  {
   "cell_type": "code",
   "execution_count": null,
   "id": "ee926ce7",
   "metadata": {},
   "outputs": [],
   "source": [
    "f = data['Thick Diff']\n",
    "plt.hist(data['Thick Diff'], 25)\n",
    "plt.yscale('log')\n",
    "plt.plot(\n",
    "    [np.percentile(f,50),np.percentile(f,50)],\n",
    "    [0,1e5], 'k--'\n",
    ")\n",
    "plt.plot(\n",
    "    [np.percentile(f,25),np.percentile(f,25)],\n",
    "    [0,1e5], 'k--'\n",
    ")\n",
    "plt.plot(\n",
    "    [np.percentile(f,75),np.percentile(f,75)],\n",
    "    [0,1e5], 'k--'\n",
    ")"
   ]
  },
  {
   "cell_type": "code",
   "execution_count": null,
   "id": "c94ffcec",
   "metadata": {},
   "outputs": [],
   "source": [
    "np.percentile(f,50)"
   ]
  },
  {
   "cell_type": "code",
   "execution_count": null,
   "id": "55d81d0c",
   "metadata": {},
   "outputs": [],
   "source": [
    "x = data['Farinotti Mean Thickness'] / 1e3 * data['Area']\n",
    "y = data['Weighted Mean Thickness 1'] / 1e3 * data['Area']\n",
    "\n",
    "np.nanmean(x - y)\n"
   ]
  },
  {
   "cell_type": "code",
   "execution_count": null,
   "id": "524dfa96",
   "metadata": {},
   "outputs": [],
   "source": [
    "len(data)"
   ]
  },
  {
   "cell_type": "code",
   "execution_count": null,
   "id": "9a49f6b4",
   "metadata": {},
   "outputs": [],
   "source": [
    "(len(data) / 216501) * 100"
   ]
  },
  {
   "cell_type": "code",
   "execution_count": null,
   "id": "84a2e9fc",
   "metadata": {},
   "outputs": [],
   "source": [
    "(sum(vol_sub) / sum(vol)) * 100"
   ]
  },
  {
   "cell_type": "code",
   "execution_count": null,
   "id": "d9a63e69",
   "metadata": {},
   "outputs": [],
   "source": [
    "sum(vol) / 1e3"
   ]
  },
  {
   "cell_type": "code",
   "execution_count": null,
   "id": "301ce1ee",
   "metadata": {},
   "outputs": [],
   "source": [
    "sum(vol_sub) / 1e3"
   ]
  },
  {
   "cell_type": "code",
   "execution_count": null,
   "id": "702c8fe9",
   "metadata": {},
   "outputs": [],
   "source": []
  }
 ],
 "metadata": {
  "kernelspec": {
   "display_name": "Python(3.8.10)",
   "language": "python",
   "name": "new_kernel"
  },
  "language_info": {
   "codemirror_mode": {
    "name": "ipython",
    "version": 3
   },
   "file_extension": ".py",
   "mimetype": "text/x-python",
   "name": "python",
   "nbconvert_exporter": "python",
   "pygments_lexer": "ipython3",
   "version": "3.8.10"
  },
  "varInspector": {
   "cols": {
    "lenName": 16,
    "lenType": 16,
    "lenVar": 40
   },
   "kernels_config": {
    "python": {
     "delete_cmd_postfix": "",
     "delete_cmd_prefix": "del ",
     "library": "var_list.py",
     "varRefreshCmd": "print(var_dic_list())"
    },
    "r": {
     "delete_cmd_postfix": ") ",
     "delete_cmd_prefix": "rm(",
     "library": "var_list.r",
     "varRefreshCmd": "cat(var_dic_list()) "
    }
   },
   "types_to_exclude": [
    "module",
    "function",
    "builtin_function_or_method",
    "instance",
    "_Feature"
   ],
   "window_display": false
  }
 },
 "nbformat": 4,
 "nbformat_minor": 5
}
