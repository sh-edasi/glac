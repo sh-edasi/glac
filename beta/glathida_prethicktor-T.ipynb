{
 "cells": [
  {
   "cell_type": "code",
   "execution_count": 18,
   "metadata": {},
   "outputs": [],
   "source": [
    "# import sys\n",
    "# !{sys.executable} -m pip install ing_theme_matplotlib\n",
    "import matplotlib.pyplot as plt\n",
    "import numpy as np\n",
    "import pandas as pd\n",
    "import tensorflow as tf\n",
    "# import qbstyles\n",
    "# from ing_theme_matplotlib import mpl_style\n",
    "import glacierml as gl\n",
    "from tqdm import tqdm"
   ]
  },
  {
   "cell_type": "markdown",
   "metadata": {},
   "source": [
    "# Step 1: Organize the data"
   ]
  },
  {
   "cell_type": "markdown",
   "metadata": {},
   "source": [
    "## A. Load and organize the Glathida dataset"
   ]
  },
  {
   "cell_type": "code",
   "execution_count": 27,
   "metadata": {},
   "outputs": [
    {
     "data": {
      "text/html": [
       "<div>\n",
       "<style scoped>\n",
       "    .dataframe tbody tr th:only-of-type {\n",
       "        vertical-align: middle;\n",
       "    }\n",
       "\n",
       "    .dataframe tbody tr th {\n",
       "        vertical-align: top;\n",
       "    }\n",
       "\n",
       "    .dataframe thead th {\n",
       "        text-align: right;\n",
       "    }\n",
       "</style>\n",
       "<table border=\"1\" class=\"dataframe\">\n",
       "  <thead>\n",
       "    <tr style=\"text-align: right;\">\n",
       "      <th></th>\n",
       "      <th>LAT</th>\n",
       "      <th>LON</th>\n",
       "      <th>AREA</th>\n",
       "      <th>MEAN_SLOPE</th>\n",
       "      <th>MAXIMUM_THICKNESS</th>\n",
       "    </tr>\n",
       "  </thead>\n",
       "  <tbody>\n",
       "    <tr>\n",
       "      <th>32</th>\n",
       "      <td>48.750000</td>\n",
       "      <td>-121.830000</td>\n",
       "      <td>2.900</td>\n",
       "      <td>0.0</td>\n",
       "      <td>107.0</td>\n",
       "    </tr>\n",
       "    <tr>\n",
       "      <th>33</th>\n",
       "      <td>58.380000</td>\n",
       "      <td>-134.360000</td>\n",
       "      <td>11.700</td>\n",
       "      <td>0.0</td>\n",
       "      <td>200.0</td>\n",
       "    </tr>\n",
       "    <tr>\n",
       "      <th>44</th>\n",
       "      <td>38.767000</td>\n",
       "      <td>72.283000</td>\n",
       "      <td>824.000</td>\n",
       "      <td>0.0</td>\n",
       "      <td>900.0</td>\n",
       "    </tr>\n",
       "    <tr>\n",
       "      <th>47</th>\n",
       "      <td>45.236450</td>\n",
       "      <td>80.781660</td>\n",
       "      <td>3.200</td>\n",
       "      <td>0.0</td>\n",
       "      <td>116.0</td>\n",
       "    </tr>\n",
       "    <tr>\n",
       "      <th>48</th>\n",
       "      <td>45.235130</td>\n",
       "      <td>80.808350</td>\n",
       "      <td>3.400</td>\n",
       "      <td>0.0</td>\n",
       "      <td>139.0</td>\n",
       "    </tr>\n",
       "    <tr>\n",
       "      <th>...</th>\n",
       "      <td>...</td>\n",
       "      <td>...</td>\n",
       "      <td>...</td>\n",
       "      <td>...</td>\n",
       "      <td>...</td>\n",
       "    </tr>\n",
       "    <tr>\n",
       "      <th>616</th>\n",
       "      <td>61.730000</td>\n",
       "      <td>5.660000</td>\n",
       "      <td>3.280</td>\n",
       "      <td>9.0</td>\n",
       "      <td>163.0</td>\n",
       "    </tr>\n",
       "    <tr>\n",
       "      <th>620</th>\n",
       "      <td>78.245480</td>\n",
       "      <td>16.064380</td>\n",
       "      <td>2.100</td>\n",
       "      <td>13.0</td>\n",
       "      <td>106.0</td>\n",
       "    </tr>\n",
       "    <tr>\n",
       "      <th>628</th>\n",
       "      <td>43.043653</td>\n",
       "      <td>77.080587</td>\n",
       "      <td>2.610</td>\n",
       "      <td>20.0</td>\n",
       "      <td>103.0</td>\n",
       "    </tr>\n",
       "    <tr>\n",
       "      <th>632</th>\n",
       "      <td>77.971400</td>\n",
       "      <td>14.069100</td>\n",
       "      <td>6.737</td>\n",
       "      <td>6.0</td>\n",
       "      <td>191.0</td>\n",
       "    </tr>\n",
       "    <tr>\n",
       "      <th>749</th>\n",
       "      <td>77.027200</td>\n",
       "      <td>15.485400</td>\n",
       "      <td>0.370</td>\n",
       "      <td>19.0</td>\n",
       "      <td>82.0</td>\n",
       "    </tr>\n",
       "  </tbody>\n",
       "</table>\n",
       "<p>65 rows × 5 columns</p>\n",
       "</div>"
      ],
      "text/plain": [
       "           LAT         LON     AREA  MEAN_SLOPE  MAXIMUM_THICKNESS\n",
       "32   48.750000 -121.830000    2.900         0.0              107.0\n",
       "33   58.380000 -134.360000   11.700         0.0              200.0\n",
       "44   38.767000   72.283000  824.000         0.0              900.0\n",
       "47   45.236450   80.781660    3.200         0.0              116.0\n",
       "48   45.235130   80.808350    3.400         0.0              139.0\n",
       "..         ...         ...      ...         ...                ...\n",
       "616  61.730000    5.660000    3.280         9.0              163.0\n",
       "620  78.245480   16.064380    2.100        13.0              106.0\n",
       "628  43.043653   77.080587    2.610        20.0              103.0\n",
       "632  77.971400   14.069100    6.737         6.0              191.0\n",
       "749  77.027200   15.485400    0.370        19.0               82.0\n",
       "\n",
       "[65 rows x 5 columns]"
      ]
     },
     "execution_count": 27,
     "metadata": {},
     "output_type": "execute_result"
    }
   ],
   "source": [
    "# raw_dataset = pd.read_csv('/data/fast0/datasets/glathida-3.1.0/data/T.csv')\n",
    "T = pd.read_csv('/home/sa42/data/glac/T_models/T.csv')\n",
    "T = T.drop([\n",
    "    'GlaThiDa_ID',\n",
    "    'POLITICAL_UNIT',\n",
    "    'GLACIER_NAME',\n",
    "    'GLACIER_DB',\n",
    "    'GLACIER_ID',\n",
    "    'SURVEY_DATE',\n",
    "    'ELEVATION_DATE',\n",
    "    'MEAN_THICKNESS',\n",
    "    'MEAN_THICKNESS_UNCERTAINTY',\n",
    "#     'MAXIMUM_THICKNESS',\n",
    "    'MAX_THICKNESS_UNCERTAINTY',\n",
    "    'SURVEY_METHOD',\n",
    "    'SURVEY_METHOD_DETAILS',\n",
    "    'NUMBER_OF_SURVEY_POINTS',\n",
    "    'NUMBER_OF_SURVEY_PROFILES',\n",
    "    'TOTAL_LENGTH_OF_SURVEY_PROFILES',\n",
    "    'INTERPOLATION_METHOD',\n",
    "    'INVESTIGATOR',\n",
    "    'SPONSORING_AGENCY',\n",
    "    'REFERENCES',\n",
    "    'DATA_FLAG',\n",
    "    'REMARKS'\n",
    "],axis=1)\n",
    "T = T.dropna()\n",
    "T"
   ]
  },
  {
   "cell_type": "code",
   "execution_count": 28,
   "metadata": {
    "scrolled": true
   },
   "outputs": [],
   "source": [
    "# TTT = pd.read_csv('/home/sa42/data/glac/T_models/TTT.csv')\n",
    "# TTT = TTT.drop([\n",
    "# #     'GlaThiDa_ID',\n",
    "#     'POLITICAL_UNIT',\n",
    "#     'GLACIER_NAME',\n",
    "#     'SURVEY_DATE',\n",
    "#     'PROFILE_ID',\n",
    "#     'POINT_ID',\n",
    "# #     'POINT_LAT',\n",
    "# #     'POINT_LON',\n",
    "# #     'ELEVATION',\n",
    "# #     'THICKNESS',\n",
    "#     'THICKNESS_UNCERTAINTY',\n",
    "#     'DATA_FLAG',\n",
    "#     'REMARKS'\n",
    "# ],axis=1)\n",
    "# TTT"
   ]
  },
  {
   "cell_type": "code",
   "execution_count": 29,
   "metadata": {},
   "outputs": [],
   "source": [
    "# df = pd.merge(TTT,T, how='inner',on='GlaThiDa_ID')\n",
    "# df = df.drop([\n",
    "#     'GlaThiDa_ID'\n",
    "# ],axis=1)\n",
    "# df"
   ]
  },
  {
   "cell_type": "code",
   "execution_count": 30,
   "metadata": {
    "scrolled": true
   },
   "outputs": [],
   "source": [
    "# TT = pd.read_csv('/home/sa42/data/glac/T_models/TT.csv')\n",
    "# TT = TT.drop([\n",
    "# #     'GlaThiDa_ID',\n",
    "#     'POLITICAL_UNIT',\n",
    "#     'GLACIER_NAME',\n",
    "#     'SURVEY_DATE',\n",
    "# #     'LOWER_BOUND',\n",
    "# #     'UPPER_BOUND',\n",
    "# #     'AREA',\n",
    "# #     'MEAN_SLOPE',\n",
    "# #     'MEAN_THICKNESS',\n",
    "#     'MEAN_THICKNESS_UNCERTAINTY',\n",
    "#     'MAXIMUM_THICKNESS',\n",
    "#     'MAX_THICKNESS_UNCERTAINTY',\n",
    "#     'DATA_FLAG',\n",
    "#     'REMARKS'\n",
    "# ],axis=1)\n",
    "# TT = TT.dropna()\n",
    "# TT"
   ]
  },
  {
   "cell_type": "code",
   "execution_count": 31,
   "metadata": {
    "scrolled": true
   },
   "outputs": [],
   "source": [
    "# # raw_dataset = pd.read_csv('/data/fast0/datasets/glathida-3.1.0/data/T.csv')\n",
    "# T = pd.read_csv('/home/sa42/data/glac/T_models/T.csv')\n",
    "# T.rename(columns = {\n",
    "#     'LAT':'T_LAT_CENT',\n",
    "#     'LON':'T_LON_CENT',\n",
    "#     'AREA':'T_AREA',\n",
    "#     'MEAN_SLOPE':'T_MEAN_SLOPE',\n",
    "# #     'MEAN_THICKNESS':'T_MEAN_THICKNESS',\n",
    "# #     'MAXIMUM_THICKNESS':'T_MAXIMUM_THICKNESS' \n",
    "# },inplace=True)\n",
    "\n",
    "# TTT = pd.read_csv('/home/sa42/data/glac/T_models/TTT.csv')\n",
    "# TTT.rename(columns = {\n",
    "#     'ELEVATION':'TTT_POINT_ELEVATION',\n",
    "#     'THICKNESS':'TTT_POINT_THICKNESS',\n",
    "#     'POINT_LAT':'TTT_POINT_LAT',\n",
    "#     'POINT_LON':'TTT_POINT_LON'\n",
    "# },inplace=True)\n",
    "# df1 = pd.merge(T,TT, how = 'inner', on='GlaThiDa_ID')\n",
    "# # glathida = pd.merge(T,TTT, how = 'inner', on='GlaThiDa_ID')\n",
    "# # glathida = glathida[[\n",
    "# # #     'GlaThiDa_ID',\n",
    "# # #     'GLACIER_DB',\n",
    "# # #     'GLACIER_ID',\n",
    "# #     'T_LAT_CENT',\n",
    "# #     'T_LON_CENT',\n",
    "# #     'T_AREA',\n",
    "# #     'T_MEAN_SLOPE',\n",
    "# #     'T_MEAN_THICKNESS',\n",
    "# #     'T_MAXIMUM_THICKNESS',\n",
    "# #     'TT_LOWER_BOUND',\n",
    "# #     'TT_UPPER_BOUND',\n",
    "# #     'TT_AREA',\n",
    "# #     'TT_MEAN_SLOPE',\n",
    "# #     'TT_MEAN_THICKNESS',\n",
    "# #     'TT_MAXIMUM_THICKNESS',\n",
    "# #     'TTT_POINT_LAT',\n",
    "# #     'TTT_POINT_LON',\n",
    "# #     'TTT_POINT_ELEVATION',\n",
    "# #     'TTT_POINT_THICKNESS',   \n",
    "# # ]]\n",
    "# # glathida = glathida.dropna()"
   ]
  },
  {
   "cell_type": "markdown",
   "metadata": {},
   "source": [
    "### separate out features - what will be trained to predict desired attribute"
   ]
  },
  {
   "cell_type": "code",
   "execution_count": 34,
   "metadata": {},
   "outputs": [
    {
     "data": {
      "text/html": [
       "<div>\n",
       "<style scoped>\n",
       "    .dataframe tbody tr th:only-of-type {\n",
       "        vertical-align: middle;\n",
       "    }\n",
       "\n",
       "    .dataframe tbody tr th {\n",
       "        vertical-align: top;\n",
       "    }\n",
       "\n",
       "    .dataframe thead th {\n",
       "        text-align: right;\n",
       "    }\n",
       "</style>\n",
       "<table border=\"1\" class=\"dataframe\">\n",
       "  <thead>\n",
       "    <tr style=\"text-align: right;\">\n",
       "      <th></th>\n",
       "      <th>mean</th>\n",
       "      <th>std</th>\n",
       "    </tr>\n",
       "  </thead>\n",
       "  <tbody>\n",
       "    <tr>\n",
       "      <th>LAT</th>\n",
       "      <td>48.773965</td>\n",
       "      <td>18.881859</td>\n",
       "    </tr>\n",
       "    <tr>\n",
       "      <th>LON</th>\n",
       "      <td>18.892849</td>\n",
       "      <td>50.790507</td>\n",
       "    </tr>\n",
       "    <tr>\n",
       "      <th>AREA</th>\n",
       "      <td>19.945168</td>\n",
       "      <td>113.908179</td>\n",
       "    </tr>\n",
       "    <tr>\n",
       "      <th>MEAN_SLOPE</th>\n",
       "      <td>16.288462</td>\n",
       "      <td>9.049616</td>\n",
       "    </tr>\n",
       "  </tbody>\n",
       "</table>\n",
       "</div>"
      ],
      "text/plain": [
       "                 mean         std\n",
       "LAT         48.773965   18.881859\n",
       "LON         18.892849   50.790507\n",
       "AREA        19.945168  113.908179\n",
       "MEAN_SLOPE  16.288462    9.049616"
      ]
     },
     "execution_count": 34,
     "metadata": {},
     "output_type": "execute_result"
    }
   ],
   "source": [
    "train_dataset = T.sample(frac=0.8, random_state=0)\n",
    "test_dataset = T.drop(train_dataset.index)\n",
    "\n",
    "train_features = train_dataset.copy()\n",
    "test_features = test_dataset.copy()\n",
    "\n",
    "#define label - attribute training to be picked\n",
    "train_labels = train_features.pop('MAXIMUM_THICKNESS')\n",
    "test_labels = test_features.pop('MAXIMUM_THICKNESS')\n",
    "\n",
    "train_features.describe().transpose()[['mean', 'std']]"
   ]
  },
  {
   "cell_type": "markdown",
   "metadata": {},
   "source": [
    "# Step 2: Setup the Model"
   ]
  },
  {
   "cell_type": "markdown",
   "metadata": {},
   "source": [
    "### Establish normalization layers"
   ]
  },
  {
   "cell_type": "code",
   "execution_count": 35,
   "metadata": {},
   "outputs": [
    {
     "name": "stderr",
     "output_type": "stream",
     "text": [
      "100%|██████████| 4/4 [00:00<00:00,  6.02it/s]\n"
     ]
    }
   ],
   "source": [
    "normalizer = {}\n",
    "variable_list = list(train_features)\n",
    "for variable_name in tqdm(variable_list):\n",
    "\n",
    "    normalizer[variable_name] = gl.preprocessing.Normalization(input_shape=[1,], axis=None)\n",
    "    normalizer[variable_name].adapt(np.array(train_features[variable_name]))\n",
    "    \n",
    "    \n",
    "normalizer['ALL'] = gl.preprocessing.Normalization(axis=-1)\n",
    "normalizer['ALL'].adapt(np.array(train_features))"
   ]
  },
  {
   "cell_type": "code",
   "execution_count": 36,
   "metadata": {},
   "outputs": [],
   "source": [
    "linear_model = {}\n",
    "linear_history = {}\n",
    "linear_results = {}"
   ]
  },
  {
   "cell_type": "markdown",
   "metadata": {},
   "source": [
    "# Linear regression"
   ]
  },
  {
   "cell_type": "code",
   "execution_count": 37,
   "metadata": {},
   "outputs": [
    {
     "name": "stderr",
     "output_type": "stream",
     "text": [
      "100%|██████████| 4/4 [00:11<00:00,  2.89s/it]"
     ]
    },
    {
     "name": "stdout",
     "output_type": "stream",
     "text": [
      "CPU times: user 14.6 s, sys: 5.84 s, total: 20.5 s\n",
      "Wall time: 11.6 s\n"
     ]
    },
    {
     "name": "stderr",
     "output_type": "stream",
     "text": [
      "\n"
     ]
    }
   ],
   "source": [
    "%%time\n",
    "for variable_name in tqdm(variable_list):\n",
    "\n",
    "    linear_model[variable_name] = gl.build_linear_model(normalizer[variable_name])\n",
    "    linear_history[variable_name] = linear_model[variable_name].fit(\n",
    "                                        train_features[variable_name], train_labels,        \n",
    "                                        epochs=100,\n",
    "                                        verbose=0,\n",
    "                                        validation_split = 0.2)\n",
    "    \n",
    "    \n",
    "    linear_results[variable_name] = linear_model[variable_name].evaluate(\n",
    "                                        test_features[variable_name],\n",
    "                                        test_labels, verbose=0)"
   ]
  },
  {
   "cell_type": "code",
   "execution_count": 38,
   "metadata": {},
   "outputs": [],
   "source": [
    "# fig,ax=plt.subplots(2,6,figsize=(10,10))\n",
    "# for i, variable_name in enumerate(variable_list):\n",
    "# #     mpl_style(\"dark\")\n",
    "#     ax = plt.subplot(4,4,i+1)\n",
    "#     plt.subplot(4,4,i+1)\n",
    "#     gl.plot_loss(linear_history[variable_name])\n",
    "#     ax.set_title(variable_name)\n",
    "# #     plt.savefig(\"/home/sa42/notebooks/glac/figs/GTP1_loss.eps\")"
   ]
  },
  {
   "cell_type": "markdown",
   "metadata": {},
   "source": [
    "# Linear regression with multiple inputs"
   ]
  },
  {
   "cell_type": "code",
   "execution_count": 39,
   "metadata": {},
   "outputs": [],
   "source": [
    "linear_model = gl.build_linear_model(normalizer['ALL'])\n",
    "\n",
    "linear_history['MULTI'] = linear_model.fit(\n",
    "train_features, train_labels,        \n",
    "   epochs=100,\n",
    "   verbose=0,\n",
    "   validation_split = 0.2)\n",
    "\n",
    "linear_results['MULTI'] = linear_model.evaluate(\n",
    "    test_features,\n",
    "    test_labels, verbose=0)"
   ]
  },
  {
   "cell_type": "code",
   "execution_count": 40,
   "metadata": {},
   "outputs": [],
   "source": [
    "# gl.plot_loss(history_full)\n",
    "# # plt.savefig(\"/home/sa42/notebooks/glac/figs/GTP1_full_loss.eps\")"
   ]
  },
  {
   "cell_type": "markdown",
   "metadata": {},
   "source": [
    "# DNN regression"
   ]
  },
  {
   "cell_type": "markdown",
   "metadata": {},
   "source": [
    "## Define regression functions"
   ]
  },
  {
   "cell_type": "code",
   "execution_count": 41,
   "metadata": {},
   "outputs": [],
   "source": [
    "dnn_model = {}\n",
    "dnn_history = {}\n",
    "dnn_results = {}"
   ]
  },
  {
   "cell_type": "code",
   "execution_count": 42,
   "metadata": {
    "scrolled": false
   },
   "outputs": [
    {
     "name": "stderr",
     "output_type": "stream",
     "text": [
      "100%|██████████| 4/4 [00:12<00:00,  3.08s/it]\n"
     ]
    }
   ],
   "source": [
    "for variable_name in tqdm(variable_list):\n",
    "\n",
    "    dnn_model[variable_name] = gl.build_dnn_model(normalizer[variable_name])\n",
    "    dnn_history[variable_name] = dnn_model[variable_name].fit(\n",
    "                                        train_features[variable_name], train_labels,        \n",
    "                                        epochs=100,\n",
    "                                        verbose=0,\n",
    "                                        validation_split = 0.2)\n",
    "    dnn_results[variable_name] = dnn_model[variable_name].evaluate(\n",
    "                                        test_features[variable_name],\n",
    "                                        test_labels, verbose=0)"
   ]
  },
  {
   "cell_type": "code",
   "execution_count": null,
   "metadata": {},
   "outputs": [],
   "source": [
    "# fig,ax=plt.subplots(4,4,figsize=(10,10))\n",
    "# for i, variable_name in enumerate(variable_list):\n",
    "#     plt.subplot(4,4,i+1)\n",
    "#     xmax = np.max(train_features[variable_name])\n",
    "#     xmin = np.min(train_features[variable_name])\n",
    "#     x = tf.linspace(xmin, xmax, 101)\n",
    "#     y = dnn_model[variable_name].predict(x)\n",
    "#     plot_single_model_variable(x,y,variable_name)"
   ]
  },
  {
   "cell_type": "code",
   "execution_count": 43,
   "metadata": {},
   "outputs": [
    {
     "data": {
      "image/png": "[encoded data removed]",
      "text/plain": [
       "<Figure size 720x720 with 16 Axes>"
      ]
     },
     "metadata": {},
     "output_type": "display_data"
    }
   ],
   "source": [
    "fig,ax=plt.subplots(4,4,figsize=(10,10))\n",
    "fig.patch.set_facecolor('w')\n",
    "for i, variable_name in enumerate(variable_list):\n",
    "    ax = plt.subplot(4,4,i+1)\n",
    "    gl.plot_loss(dnn_history[variable_name])\n",
    "    ax.set_ylim([13,22])\n",
    "    ax.set_title(variable_name)\n",
    "#     plt.savefig(\"/home/sa42/notebooks/glac/figs/GTP1_dnn_loss.eps\")\n",
    "plt.tight_layout()"
   ]
  },
  {
   "cell_type": "markdown",
   "metadata": {},
   "source": [
    "# Full model"
   ]
  },
  {
   "cell_type": "code",
   "execution_count": 44,
   "metadata": {},
   "outputs": [],
   "source": [
    "dnn_full_model = gl.build_dnn_model(normalizer['ALL'])\n",
    "\n",
    "dnn_history['MULTI'] = dnn_full_model.fit(\n",
    "    train_features, train_labels,\n",
    "    validation_split=0.2,\n",
    "    verbose=0, epochs=100)\n",
    "\n",
    "dnn_results['MULTI'] = dnn_full_model.evaluate(\n",
    "    test_features,\n",
    "    test_labels, verbose=0)"
   ]
  },
  {
   "cell_type": "code",
   "execution_count": 45,
   "metadata": {},
   "outputs": [
    {
     "data": {
      "text/plain": [
       "<function glacierml.plot_loss(history)>"
      ]
     },
     "execution_count": 45,
     "metadata": {},
     "output_type": "execute_result"
    },
    {
     "data": {
      "image/png": "[encoded data removed]",
      "text/plain": [
       "<Figure size 432x288 with 1 Axes>"
      ]
     },
     "metadata": {
      "needs_background": "light"
     },
     "output_type": "display_data"
    }
   ],
   "source": [
    "gl.plot_loss(dnn_history['MULTI'])\n",
    "# plt.savefig(\"/home/sa42/notebooks/glac/figs/GTP1_dnn_full_loss.png\")"
   ]
  },
  {
   "cell_type": "code",
   "execution_count": 46,
   "metadata": {},
   "outputs": [
    {
     "data": {
      "text/plain": [
       "(0.0, 200.0)"
      ]
     },
     "execution_count": 46,
     "metadata": {},
     "output_type": "execute_result"
    },
    {
     "data": {
      "image/png": "[encoded data removed]",
      "text/plain": [
       "<Figure size 432x288 with 1 Axes>"
      ]
     },
     "metadata": {
      "needs_background": "light"
     },
     "output_type": "display_data"
    }
   ],
   "source": [
    "y = dnn_full_model.predict(test_features)\n",
    "plt.plot(test_labels,y,'.')\n",
    "plt.plot((0,200),(0,200),'-')\n",
    "plt.xlabel('True Thickness (m)')\n",
    "plt.ylabel('Model Thickness (m)')\n",
    "plt.xlim((0,200))\n",
    "plt.ylim((0,200))\n",
    "# plt.savefig(\"/home/sa42/notebooks/glac/figs/GTP1_res.EPS\")"
   ]
  },
  {
   "cell_type": "code",
   "execution_count": 52,
   "metadata": {},
   "outputs": [
    {
     "name": "stdout",
     "output_type": "stream",
     "text": [
      "[[293.01282 ]\n",
      " [212.95413 ]\n",
      " [ 42.83351 ]\n",
      " [ 42.181602]\n",
      " [ 83.26924 ]\n",
      " [141.4837  ]\n",
      " [250.61526 ]\n",
      " [191.87817 ]\n",
      " [107.84884 ]\n",
      " [112.644516]\n",
      " [105.52382 ]\n",
      " [169.76291 ]\n",
      " [170.25018 ]]\n"
     ]
    }
   ],
   "source": [
    "print(y)"
   ]
  },
  {
   "cell_type": "markdown",
   "metadata": {},
   "source": [
    "# Collect Results"
   ]
  },
  {
   "cell_type": "code",
   "execution_count": 47,
   "metadata": {
    "scrolled": true
   },
   "outputs": [
    {
     "name": "stdout",
     "output_type": "stream",
     "text": [
      "\\begin{tabular}{llrr}\n",
      "\\toprule\n",
      "Architecture &   Variable &  Training Loss &  Test loss \\\\\n",
      "\\midrule\n",
      "      Linear &      MULTI &     119.897743 & 132.504547 \\\\\n",
      "      Linear & MEAN\\_SLOPE &     122.855751 & 121.869743 \\\\\n",
      "      Linear &        LON &     120.226585 & 130.520996 \\\\\n",
      "      Linear &        LAT &     122.802750 & 122.064819 \\\\\n",
      "      Linear &       AREA &     122.555870 & 122.444656 \\\\\n",
      "         DNN &      MULTI &      35.203091 &  62.443577 \\\\\n",
      "         DNN & MEAN\\_SLOPE &      56.545399 &  65.120369 \\\\\n",
      "         DNN &        LON &      81.203842 &  87.585754 \\\\\n",
      "         DNN &        LAT &      74.708160 &  66.349419 \\\\\n",
      "         DNN &       AREA &      62.929432 &  76.250198 \\\\\n",
      "\\bottomrule\n",
      "\\end{tabular}\n",
      "\n"
     ]
    }
   ],
   "source": [
    "dfs = pd.DataFrame()\n",
    "for variable_name in list(dnn_history):    \n",
    "    df1 = pd.DataFrame(dnn_history[variable_name].history)\n",
    "    df1 = df1.loc[[df1.last_valid_index()]]\n",
    "    df1['Architecture'] = 'DNN'\n",
    "    df1.insert(0, 'Variable', [variable_name])\n",
    "\n",
    "    df2 = pd.DataFrame(linear_history[variable_name].history)\n",
    "    df2 = df2.loc[[df2.last_valid_index()]]\n",
    "    df2['Architecture'] = 'Linear'\n",
    "    df2.insert(0, 'Variable', [variable_name])\n",
    "    \n",
    "    df = pd.concat([df1,df2])\n",
    "    dfs = dfs.append(df)\n",
    "    \n",
    "df = dfs[[\n",
    "    'Architecture',\n",
    "    'Variable',\n",
    "    'loss',\n",
    "    'val_loss'\n",
    "]]\n",
    "df.rename(columns = {\n",
    "    'loss':'Training Loss',\n",
    "    'val_loss':'Test loss'\n",
    "},inplace=True)\n",
    "df = df.sort_values(by=['Architecture','Variable'], ascending=[False,False])\n",
    "print(df.to_latex(index=False))"
   ]
  },
  {
   "cell_type": "code",
   "execution_count": null,
   "metadata": {},
   "outputs": [],
   "source": []
  }
 ],
 "metadata": {
  "kernelspec": {
   "display_name": "python (Cartopy)-f",
   "language": "python",
   "name": "python-cartopy"
  },
  "language_info": {
   "codemirror_mode": {
    "name": "ipython",
    "version": 3
   },
   "file_extension": ".py",
   "mimetype": "text/x-python",
   "name": "python",
   "nbconvert_exporter": "python",
   "pygments_lexer": "ipython3",
   "version": "3.7.11"
  }
 },
 "nbformat": 4,
 "nbformat_minor": 4
}
