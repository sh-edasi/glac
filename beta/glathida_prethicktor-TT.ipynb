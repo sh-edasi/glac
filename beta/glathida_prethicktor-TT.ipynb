{
 "cells": [
  {
   "cell_type": "code",
   "execution_count": 1,
   "metadata": {},
   "outputs": [],
   "source": [
    "# import sys\n",
    "# !{sys.executable} -m pip install ing_theme_matplotlib\n",
    "import matplotlib.pyplot as plt\n",
    "import numpy as np\n",
    "import pandas as pd\n",
    "import tensorflow as tf\n",
    "# import qbstyles\n",
    "# from ing_theme_matplotlib import mpl_style\n",
    "import glacierml as gl\n",
    "from tqdm import tqdm"
   ]
  },
  {
   "cell_type": "markdown",
   "metadata": {},
   "source": [
    "# Step 1: Organize the data"
   ]
  },
  {
   "cell_type": "markdown",
   "metadata": {},
   "source": [
    "## A. Load and organize the Glathida dataset"
   ]
  },
  {
   "cell_type": "code",
   "execution_count": 2,
   "metadata": {
    "scrolled": true
   },
   "outputs": [
    {
     "data": {
      "text/html": [
       "<div>\n",
       "<style scoped>\n",
       "    .dataframe tbody tr th:only-of-type {\n",
       "        vertical-align: middle;\n",
       "    }\n",
       "\n",
       "    .dataframe tbody tr th {\n",
       "        vertical-align: top;\n",
       "    }\n",
       "\n",
       "    .dataframe thead th {\n",
       "        text-align: right;\n",
       "    }\n",
       "</style>\n",
       "<table border=\"1\" class=\"dataframe\">\n",
       "  <thead>\n",
       "    <tr style=\"text-align: right;\">\n",
       "      <th></th>\n",
       "      <th>LOWER_BOUND</th>\n",
       "      <th>UPPER_BOUND</th>\n",
       "      <th>AREA</th>\n",
       "      <th>MEAN_SLOPE</th>\n",
       "      <th>MAXIMUM_THICKNESS</th>\n",
       "    </tr>\n",
       "  </thead>\n",
       "  <tbody>\n",
       "    <tr>\n",
       "      <th>81</th>\n",
       "      <td>2600</td>\n",
       "      <td>2650</td>\n",
       "      <td>0.01985</td>\n",
       "      <td>24.0</td>\n",
       "      <td>29.0</td>\n",
       "    </tr>\n",
       "    <tr>\n",
       "      <th>82</th>\n",
       "      <td>2650</td>\n",
       "      <td>2700</td>\n",
       "      <td>0.03433</td>\n",
       "      <td>20.0</td>\n",
       "      <td>36.0</td>\n",
       "    </tr>\n",
       "    <tr>\n",
       "      <th>83</th>\n",
       "      <td>2700</td>\n",
       "      <td>2750</td>\n",
       "      <td>0.02145</td>\n",
       "      <td>23.0</td>\n",
       "      <td>23.0</td>\n",
       "    </tr>\n",
       "    <tr>\n",
       "      <th>84</th>\n",
       "      <td>2750</td>\n",
       "      <td>2800</td>\n",
       "      <td>0.00505</td>\n",
       "      <td>28.0</td>\n",
       "      <td>10.0</td>\n",
       "    </tr>\n",
       "    <tr>\n",
       "      <th>85</th>\n",
       "      <td>2540</td>\n",
       "      <td>2560</td>\n",
       "      <td>0.00660</td>\n",
       "      <td>4.0</td>\n",
       "      <td>10.0</td>\n",
       "    </tr>\n",
       "    <tr>\n",
       "      <th>...</th>\n",
       "      <td>...</td>\n",
       "      <td>...</td>\n",
       "      <td>...</td>\n",
       "      <td>...</td>\n",
       "      <td>...</td>\n",
       "    </tr>\n",
       "    <tr>\n",
       "      <th>406</th>\n",
       "      <td>4700</td>\n",
       "      <td>4800</td>\n",
       "      <td>0.47900</td>\n",
       "      <td>21.0</td>\n",
       "      <td>112.0</td>\n",
       "    </tr>\n",
       "    <tr>\n",
       "      <th>407</th>\n",
       "      <td>4800</td>\n",
       "      <td>4900</td>\n",
       "      <td>0.55900</td>\n",
       "      <td>23.0</td>\n",
       "      <td>91.0</td>\n",
       "    </tr>\n",
       "    <tr>\n",
       "      <th>408</th>\n",
       "      <td>4900</td>\n",
       "      <td>5000</td>\n",
       "      <td>0.54500</td>\n",
       "      <td>26.0</td>\n",
       "      <td>83.0</td>\n",
       "    </tr>\n",
       "    <tr>\n",
       "      <th>409</th>\n",
       "      <td>5000</td>\n",
       "      <td>5100</td>\n",
       "      <td>0.37900</td>\n",
       "      <td>24.0</td>\n",
       "      <td>36.0</td>\n",
       "    </tr>\n",
       "    <tr>\n",
       "      <th>410</th>\n",
       "      <td>5100</td>\n",
       "      <td>5200</td>\n",
       "      <td>0.01600</td>\n",
       "      <td>32.0</td>\n",
       "      <td>0.0</td>\n",
       "    </tr>\n",
       "  </tbody>\n",
       "</table>\n",
       "<p>315 rows × 5 columns</p>\n",
       "</div>"
      ],
      "text/plain": [
       "     LOWER_BOUND  UPPER_BOUND     AREA  MEAN_SLOPE  MAXIMUM_THICKNESS\n",
       "81          2600         2650  0.01985        24.0               29.0\n",
       "82          2650         2700  0.03433        20.0               36.0\n",
       "83          2700         2750  0.02145        23.0               23.0\n",
       "84          2750         2800  0.00505        28.0               10.0\n",
       "85          2540         2560  0.00660         4.0               10.0\n",
       "..           ...          ...      ...         ...                ...\n",
       "406         4700         4800  0.47900        21.0              112.0\n",
       "407         4800         4900  0.55900        23.0               91.0\n",
       "408         4900         5000  0.54500        26.0               83.0\n",
       "409         5000         5100  0.37900        24.0               36.0\n",
       "410         5100         5200  0.01600        32.0                0.0\n",
       "\n",
       "[315 rows x 5 columns]"
      ]
     },
     "execution_count": 2,
     "metadata": {},
     "output_type": "execute_result"
    }
   ],
   "source": [
    "TT = pd.read_csv('/home/sa42/data/glac/T_models/TT.csv')\n",
    "TT = TT.drop([\n",
    "    'GlaThiDa_ID',\n",
    "    'POLITICAL_UNIT',\n",
    "    'GLACIER_NAME',\n",
    "    'SURVEY_DATE',\n",
    "#     'LOWER_BOUND',\n",
    "#     'UPPER_BOUND',\n",
    "#     'AREA',\n",
    "#     'MEAN_SLOPE',\n",
    "    'MEAN_THICKNESS',\n",
    "    'MEAN_THICKNESS_UNCERTAINTY',\n",
    "#     'MAXIMUM_THICKNESS',\n",
    "    'MAX_THICKNESS_UNCERTAINTY',\n",
    "    'DATA_FLAG',\n",
    "    'REMARKS'\n",
    "],axis=1)\n",
    "TT = TT.dropna()\n",
    "TT"
   ]
  },
  {
   "cell_type": "markdown",
   "metadata": {},
   "source": [
    "### separate out features - what will be trained to predict desired attribute"
   ]
  },
  {
   "cell_type": "code",
   "execution_count": 3,
   "metadata": {},
   "outputs": [
    {
     "data": {
      "text/html": [
       "<div>\n",
       "<style scoped>\n",
       "    .dataframe tbody tr th:only-of-type {\n",
       "        vertical-align: middle;\n",
       "    }\n",
       "\n",
       "    .dataframe tbody tr th {\n",
       "        vertical-align: top;\n",
       "    }\n",
       "\n",
       "    .dataframe thead th {\n",
       "        text-align: right;\n",
       "    }\n",
       "</style>\n",
       "<table border=\"1\" class=\"dataframe\">\n",
       "  <thead>\n",
       "    <tr style=\"text-align: right;\">\n",
       "      <th></th>\n",
       "      <th>mean</th>\n",
       "      <th>std</th>\n",
       "    </tr>\n",
       "  </thead>\n",
       "  <tbody>\n",
       "    <tr>\n",
       "      <th>LOWER_BOUND</th>\n",
       "      <td>3205.591270</td>\n",
       "      <td>825.956760</td>\n",
       "    </tr>\n",
       "    <tr>\n",
       "      <th>UPPER_BOUND</th>\n",
       "      <td>3254.769841</td>\n",
       "      <td>841.514265</td>\n",
       "    </tr>\n",
       "    <tr>\n",
       "      <th>AREA</th>\n",
       "      <td>0.173664</td>\n",
       "      <td>0.356148</td>\n",
       "    </tr>\n",
       "    <tr>\n",
       "      <th>MEAN_SLOPE</th>\n",
       "      <td>24.015873</td>\n",
       "      <td>11.599206</td>\n",
       "    </tr>\n",
       "  </tbody>\n",
       "</table>\n",
       "</div>"
      ],
      "text/plain": [
       "                    mean         std\n",
       "LOWER_BOUND  3205.591270  825.956760\n",
       "UPPER_BOUND  3254.769841  841.514265\n",
       "AREA            0.173664    0.356148\n",
       "MEAN_SLOPE     24.015873   11.599206"
      ]
     },
     "execution_count": 3,
     "metadata": {},
     "output_type": "execute_result"
    }
   ],
   "source": [
    "train_dataset = TT.sample(frac=0.8, random_state=0)\n",
    "test_dataset = TT.drop(train_dataset.index)\n",
    "\n",
    "train_features = train_dataset.copy()\n",
    "test_features = test_dataset.copy()\n",
    "\n",
    "#define label - attribute training to be picked\n",
    "train_labels = train_features.pop('MAXIMUM_THICKNESS')\n",
    "test_labels = test_features.pop('MAXIMUM_THICKNESS')\n",
    "\n",
    "train_features.describe().transpose()[['mean', 'std']]"
   ]
  },
  {
   "cell_type": "markdown",
   "metadata": {},
   "source": [
    "# Step 2: Setup the Model"
   ]
  },
  {
   "cell_type": "markdown",
   "metadata": {},
   "source": [
    "### Establish normalization layers"
   ]
  },
  {
   "cell_type": "code",
   "execution_count": 4,
   "metadata": {},
   "outputs": [
    {
     "name": "stderr",
     "output_type": "stream",
     "text": [
      "  0%|          | 0/4 [00:00<?, ?it/s]2022-03-23 16:36:45.459203: E tensorflow/stream_executor/cuda/cuda_driver.cc:271] failed call to cuInit: CUDA_ERROR_NO_DEVICE: no CUDA-capable device is detected\n",
      "2022-03-23 16:36:45.459262: I tensorflow/stream_executor/cuda/cuda_diagnostics.cc:156] kernel driver does not appear to be running on this host (sermeq.ess.washington.edu): /proc/driver/nvidia/version does not exist\n",
      "2022-03-23 16:36:45.460404: I tensorflow/core/platform/cpu_feature_guard.cc:151] This TensorFlow binary is optimized with oneAPI Deep Neural Network Library (oneDNN) to use the following CPU instructions in performance-critical operations:  AVX2 AVX512F FMA\n",
      "To enable them in other operations, rebuild TensorFlow with the appropriate compiler flags.\n",
      "100%|██████████| 4/4 [00:00<00:00,  4.34it/s]\n"
     ]
    }
   ],
   "source": [
    "normalizer = {}\n",
    "variable_list = list(train_features)\n",
    "for variable_name in tqdm(variable_list):\n",
    "\n",
    "    normalizer[variable_name] = gl.preprocessing.Normalization(input_shape=[1,], axis=None)\n",
    "    normalizer[variable_name].adapt(np.array(train_features[variable_name]))\n",
    "    \n",
    "    \n",
    "normalizer['ALL'] = gl.preprocessing.Normalization(axis=-1)\n",
    "normalizer['ALL'].adapt(np.array(train_features))"
   ]
  },
  {
   "cell_type": "code",
   "execution_count": 5,
   "metadata": {},
   "outputs": [],
   "source": [
    "linear_model = {}\n",
    "linear_history = {}\n",
    "linear_results = {}"
   ]
  },
  {
   "cell_type": "markdown",
   "metadata": {},
   "source": [
    "# Linear regression"
   ]
  },
  {
   "cell_type": "code",
   "execution_count": 6,
   "metadata": {},
   "outputs": [
    {
     "name": "stderr",
     "output_type": "stream",
     "text": [
      "100%|██████████| 4/4 [00:12<00:00,  3.16s/it]"
     ]
    },
    {
     "name": "stdout",
     "output_type": "stream",
     "text": [
      "CPU times: user 16 s, sys: 5.83 s, total: 21.9 s\n",
      "Wall time: 12.6 s\n"
     ]
    },
    {
     "name": "stderr",
     "output_type": "stream",
     "text": [
      "\n"
     ]
    }
   ],
   "source": [
    "%%time\n",
    "for variable_name in tqdm(variable_list):\n",
    "\n",
    "    linear_model[variable_name] = gl.build_linear_model(normalizer[variable_name])\n",
    "    linear_history[variable_name] = linear_model[variable_name].fit(\n",
    "                                        train_features[variable_name], train_labels,        \n",
    "                                        epochs=100,\n",
    "                                        verbose=0,\n",
    "                                        validation_split = 0.2)\n",
    "    \n",
    "    \n",
    "    linear_results[variable_name] = linear_model[variable_name].evaluate(\n",
    "                                        test_features[variable_name],\n",
    "                                        test_labels, verbose=0)"
   ]
  },
  {
   "cell_type": "code",
   "execution_count": 7,
   "metadata": {},
   "outputs": [],
   "source": [
    "# fig,ax=plt.subplots(2,6,figsize=(10,10))\n",
    "# for i, variable_name in enumerate(variable_list):\n",
    "# #     mpl_style(\"dark\")\n",
    "#     ax = plt.subplot(4,4,i+1)\n",
    "#     plt.subplot(4,4,i+1)\n",
    "#     gl.plot_loss(linear_history[variable_name])\n",
    "#     ax.set_title(variable_name)\n",
    "# #     plt.savefig(\"/home/sa42/notebooks/glac/figs/GTP1_loss.eps\")"
   ]
  },
  {
   "cell_type": "markdown",
   "metadata": {},
   "source": [
    "# Linear regression with multiple inputs"
   ]
  },
  {
   "cell_type": "code",
   "execution_count": 8,
   "metadata": {},
   "outputs": [],
   "source": [
    "linear_model = gl.build_linear_model(normalizer['ALL'])\n",
    "\n",
    "linear_history['MULTI'] = linear_model.fit(\n",
    "train_features, train_labels,        \n",
    "   epochs=100,\n",
    "   verbose=0,\n",
    "   validation_split = 0.2)\n",
    "\n",
    "linear_results['MULTI'] = linear_model.evaluate(\n",
    "    test_features,\n",
    "    test_labels, verbose=0)"
   ]
  },
  {
   "cell_type": "code",
   "execution_count": 9,
   "metadata": {},
   "outputs": [],
   "source": [
    "# gl.plot_loss(history_full)\n",
    "# # plt.savefig(\"/home/sa42/notebooks/glac/figs/GTP1_full_loss.eps\")"
   ]
  },
  {
   "cell_type": "markdown",
   "metadata": {},
   "source": [
    "# DNN regression"
   ]
  },
  {
   "cell_type": "markdown",
   "metadata": {},
   "source": [
    "## Define regression functions"
   ]
  },
  {
   "cell_type": "code",
   "execution_count": 10,
   "metadata": {},
   "outputs": [],
   "source": [
    "dnn_model = {}\n",
    "dnn_history = {}\n",
    "dnn_results = {}"
   ]
  },
  {
   "cell_type": "code",
   "execution_count": 11,
   "metadata": {
    "scrolled": false
   },
   "outputs": [
    {
     "name": "stderr",
     "output_type": "stream",
     "text": [
      "100%|██████████| 4/4 [00:14<00:00,  3.55s/it]\n"
     ]
    }
   ],
   "source": [
    "for variable_name in tqdm(variable_list):\n",
    "\n",
    "    dnn_model[variable_name] = gl.build_dnn_model(normalizer[variable_name])\n",
    "    dnn_history[variable_name] = dnn_model[variable_name].fit(\n",
    "                                        train_features[variable_name], train_labels,        \n",
    "                                        epochs=100,\n",
    "                                        verbose=0,\n",
    "                                        validation_split = 0.2)\n",
    "    dnn_results[variable_name] = dnn_model[variable_name].evaluate(\n",
    "                                        test_features[variable_name],\n",
    "                                        test_labels, verbose=0)"
   ]
  },
  {
   "cell_type": "code",
   "execution_count": 12,
   "metadata": {},
   "outputs": [],
   "source": [
    "# fig,ax=plt.subplots(4,4,figsize=(10,10))\n",
    "# for i, variable_name in enumerate(variable_list):\n",
    "#     plt.subplot(4,4,i+1)\n",
    "#     xmax = np.max(train_features[variable_name])\n",
    "#     xmin = np.min(train_features[variable_name])\n",
    "#     x = tf.linspace(xmin, xmax, 101)\n",
    "#     y = dnn_model[variable_name].predict(x)\n",
    "#     plot_single_model_variable(x,y,variable_name)"
   ]
  },
  {
   "cell_type": "code",
   "execution_count": 14,
   "metadata": {},
   "outputs": [],
   "source": [
    "# fig,ax=plt.subplots(4,4,figsize=(10,10))\n",
    "# fig.patch.set_facecolor('w')\n",
    "# for i, variable_name in enumerate(variable_list):\n",
    "#     ax = plt.subplot(4,4,i+1)\n",
    "#     gl.plot_loss(dnn_history[variable_name])\n",
    "#     ax.set_ylim([20,35])\n",
    "#     ax.set_title(variable_name)\n",
    "# #     plt.savefig(\"/home/sa42/notebooks/glac/figs/GTP1_dnn_loss.eps\")\n",
    "# plt.tight_layout()"
   ]
  },
  {
   "cell_type": "markdown",
   "metadata": {},
   "source": [
    "# Full model"
   ]
  },
  {
   "cell_type": "code",
   "execution_count": 15,
   "metadata": {},
   "outputs": [],
   "source": [
    "dnn_full_model = gl.build_dnn_model(normalizer['ALL'])\n",
    "\n",
    "dnn_history['MULTI'] = dnn_full_model.fit(\n",
    "    train_features, train_labels,\n",
    "    validation_split=0.2,\n",
    "    verbose=0, epochs=100)\n",
    "\n",
    "dnn_results['MULTI'] = dnn_full_model.evaluate(\n",
    "    test_features,\n",
    "    test_labels, verbose=0)"
   ]
  },
  {
   "cell_type": "code",
   "execution_count": 17,
   "metadata": {},
   "outputs": [],
   "source": [
    "# gl.plot_loss(dnn_history['MULTI'])\n",
    "# # plt.savefig(\"/home/sa42/notebooks/glac/figs/GTP1_dnn_full_loss.png\")"
   ]
  },
  {
   "cell_type": "code",
   "execution_count": 18,
   "metadata": {},
   "outputs": [
    {
     "data": {
      "text/plain": [
       "(0.0, 200.0)"
      ]
     },
     "execution_count": 18,
     "metadata": {},
     "output_type": "execute_result"
    },
    {
     "data": {
      "image/png": "[encoded data removed]",
      "text/plain": [
       "<Figure size 432x288 with 1 Axes>"
      ]
     },
     "metadata": {
      "needs_background": "light"
     },
     "output_type": "display_data"
    }
   ],
   "source": [
    "y = dnn_full_model.predict(test_features)\n",
    "plt.plot(test_labels,y,'.')\n",
    "plt.plot((0,200),(0,200),'-')\n",
    "plt.xlabel('True Thickness (m)')\n",
    "plt.ylabel('Model Thickness (m)')\n",
    "plt.xlim((0,200))\n",
    "plt.ylim((0,200))\n",
    "# plt.savefig(\"/home/sa42/notebooks/glac/figs/GTP1_res.EPS\")"
   ]
  },
  {
   "cell_type": "markdown",
   "metadata": {},
   "source": [
    "# Collect Results"
   ]
  },
  {
   "cell_type": "code",
   "execution_count": 19,
   "metadata": {
    "scrolled": true
   },
   "outputs": [
    {
     "name": "stdout",
     "output_type": "stream",
     "text": [
      "\\begin{tabular}{llrr}\n",
      "\\toprule\n",
      "Architecture &    Variable &  Training Loss &  Test loss \\\\\n",
      "\\midrule\n",
      "      Linear & UPPER\\_BOUND &      26.107384 &  23.396553 \\\\\n",
      "      Linear &       MULTI &      23.583166 &  18.927683 \\\\\n",
      "      Linear &  MEAN\\_SLOPE &      29.524456 &  25.116495 \\\\\n",
      "      Linear & LOWER\\_BOUND &      26.245781 &  23.339584 \\\\\n",
      "      Linear &        AREA &      33.106766 &  27.172272 \\\\\n",
      "         DNN & UPPER\\_BOUND &      24.914684 &  22.887007 \\\\\n",
      "         DNN &       MULTI &      16.179424 &  16.949188 \\\\\n",
      "         DNN &  MEAN\\_SLOPE &      27.105177 &  26.666466 \\\\\n",
      "         DNN & LOWER\\_BOUND &      25.615721 &  25.025976 \\\\\n",
      "         DNN &        AREA &      23.119791 &  24.687021 \\\\\n",
      "\\bottomrule\n",
      "\\end{tabular}\n",
      "\n"
     ]
    }
   ],
   "source": [
    "dfs = pd.DataFrame()\n",
    "for variable_name in list(dnn_history):    \n",
    "    df1 = pd.DataFrame(dnn_history[variable_name].history)\n",
    "    df1 = df1.loc[[df1.last_valid_index()]]\n",
    "    df1['Architecture'] = 'DNN'\n",
    "    df1.insert(0, 'Variable', [variable_name])\n",
    "\n",
    "    df2 = pd.DataFrame(linear_history[variable_name].history)\n",
    "    df2 = df2.loc[[df2.last_valid_index()]]\n",
    "    df2['Architecture'] = 'Linear'\n",
    "    df2.insert(0, 'Variable', [variable_name])\n",
    "    \n",
    "    df = pd.concat([df1,df2])\n",
    "    dfs = dfs.append(df)\n",
    "    \n",
    "df = dfs[[\n",
    "    'Architecture',\n",
    "    'Variable',\n",
    "    'loss',\n",
    "    'val_loss'\n",
    "]]\n",
    "df.rename(columns = {\n",
    "    'loss':'Training Loss',\n",
    "    'val_loss':'Test loss'\n",
    "},inplace=True)\n",
    "df = df.sort_values(by=['Architecture','Variable'], ascending=[False,False])\n",
    "print(df.to_latex(index=False))"
   ]
  },
  {
   "cell_type": "code",
   "execution_count": null,
   "metadata": {},
   "outputs": [],
   "source": []
  },
  {
   "cell_type": "code",
   "execution_count": null,
   "metadata": {},
   "outputs": [],
   "source": []
  }
 ],
 "metadata": {
  "kernelspec": {
   "display_name": "python (Cartopy)-f",
   "language": "python",
   "name": "python-cartopy"
  },
  "language_info": {
   "codemirror_mode": {
    "name": "ipython",
    "version": 3
   },
   "file_extension": ".py",
   "mimetype": "text/x-python",
   "name": "python",
   "nbconvert_exporter": "python",
   "pygments_lexer": "ipython3",
   "version": "3.7.11"
  }
 },
 "nbformat": 4,
 "nbformat_minor": 4
}
