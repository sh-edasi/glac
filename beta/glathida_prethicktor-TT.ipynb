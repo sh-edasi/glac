{
 "cells": [
  {
   "cell_type": "code",
   "execution_count": 1,
   "metadata": {},
   "outputs": [],
   "source": [
    "# import sys\n",
    "# !{sys.executable} -m pip install ing_theme_matplotlib\n",
    "import matplotlib.pyplot as plt\n",
    "import numpy as np\n",
    "import pandas as pd\n",
    "import tensorflow as tf\n",
    "# import qbstyles\n",
    "# from ing_theme_matplotlib import mpl_style\n",
    "import glacierml as gl\n",
    "from tqdm import tqdm"
   ]
  },
  {
   "cell_type": "markdown",
   "metadata": {},
   "source": [
    "# Step 1: Organize the data"
   ]
  },
  {
   "cell_type": "markdown",
   "metadata": {},
   "source": [
    "## A. Load and organize the Glathida dataset"
   ]
  },
  {
   "cell_type": "code",
   "execution_count": 2,
   "metadata": {},
   "outputs": [
    {
     "name": "stderr",
     "output_type": "stream",
     "text": [
      "/home/sa42/miniconda3/envs/python-cartopy-f/lib/python3.7/site-packages/IPython/core/interactiveshell.py:3444: DtypeWarning: Columns (2,4,5,12) have mixed types.Specify dtype option on import or set low_memory=False.\n",
      "  exec(code_obj, self.user_global_ns, self.user_ns)\n"
     ]
    }
   ],
   "source": [
    "# raw_dataset = pd.read_csv('/data/fast0/datasets/glathida-3.1.0/data/T.csv')\n",
    "T = pd.read_csv('/home/sa42/data/glac/T_models/T.csv')\n",
    "T.rename(columns = {\n",
    "    'LAT':'T_LAT_CENT',\n",
    "    'LON':'T_LON_CENT',\n",
    "    'AREA':'T_AREA',\n",
    "    'MEAN_SLOPE':'T_MEAN_SLOPE',\n",
    "    'MEAN_THICKNESS':'T_MEAN_THICKNESS',\n",
    "    'MAXIMUM_THICKNESS':'T_MAXIMUM_THICKNESS' \n",
    "},inplace=True)\n",
    "TT = pd.read_csv('/home/sa42/data/glac/T_models/TT.csv')\n",
    "TT.rename(columns = {\n",
    "    'AREA':'TT_AREA',\n",
    "    'MEAN_SLOPE':'TT_MEAN_SLOPE',\n",
    "    'MEAN_THICKNESS':'TT_MEAN_THICKNESS',\n",
    "    'MAXIMUM_THICKNESS':'TT_MAXIMUM_THICKNESS',   \n",
    "},inplace=True)\n",
    "TTT = pd.read_csv('/home/sa42/data/glac/T_models/TTT.csv')\n",
    "TTT.rename(columns = {\n",
    "    'ELEVATION':'POINT_ELEVATION',\n",
    "    'THICKNESS':'POINT_THICKNESS',\n",
    "},inplace=True)\n",
    "df1 = pd.merge(T,TT, how = 'inner', on='GlaThiDa_ID')\n",
    "glathida = pd.merge(df1,TTT, how = 'inner', on='GlaThiDa_ID')\n",
    "glathida = glathida[[\n",
    "#     'GlaThiDa_ID',\n",
    "#     'GLACIER_DB',\n",
    "#     'GLACIER_ID',\n",
    "    'T_LAT_CENT',\n",
    "    'T_LON_CENT',\n",
    "    'T_AREA',\n",
    "    'T_MEAN_SLOPE',\n",
    "    'T_MEAN_THICKNESS',\n",
    "    'T_MAXIMUM_THICKNESS',\n",
    "#     'LOWER_BOUND',\n",
    "#     'UPPER_BOUND',\n",
    "    'TT_AREA',\n",
    "    'TT_MEAN_SLOPE',\n",
    "    'TT_MEAN_THICKNESS',\n",
    "    'TT_MAXIMUM_THICKNESS',\n",
    "    'POINT_LAT',\n",
    "    'POINT_LON',\n",
    "    'POINT_ELEVATION',\n",
    "    'POINT_THICKNESS',   \n",
    "]]\n",
    "glathida = glathida.dropna()"
   ]
  },
  {
   "cell_type": "markdown",
   "metadata": {},
   "source": [
    "### separate out features - what will be trained to predict desired attribute"
   ]
  },
  {
   "cell_type": "code",
   "execution_count": 3,
   "metadata": {},
   "outputs": [
    {
     "data": {
      "text/html": [
       "<div>\n",
       "<style scoped>\n",
       "    .dataframe tbody tr th:only-of-type {\n",
       "        vertical-align: middle;\n",
       "    }\n",
       "\n",
       "    .dataframe tbody tr th {\n",
       "        vertical-align: top;\n",
       "    }\n",
       "\n",
       "    .dataframe thead th {\n",
       "        text-align: right;\n",
       "    }\n",
       "</style>\n",
       "<table border=\"1\" class=\"dataframe\">\n",
       "  <thead>\n",
       "    <tr style=\"text-align: right;\">\n",
       "      <th></th>\n",
       "      <th>mean</th>\n",
       "      <th>std</th>\n",
       "    </tr>\n",
       "  </thead>\n",
       "  <tbody>\n",
       "    <tr>\n",
       "      <th>T_LAT_CENT</th>\n",
       "      <td>45.248784</td>\n",
       "      <td>7.555996</td>\n",
       "    </tr>\n",
       "    <tr>\n",
       "      <th>T_LON_CENT</th>\n",
       "      <td>29.965947</td>\n",
       "      <td>36.370518</td>\n",
       "    </tr>\n",
       "    <tr>\n",
       "      <th>T_AREA</th>\n",
       "      <td>1.022082</td>\n",
       "      <td>1.387955</td>\n",
       "    </tr>\n",
       "    <tr>\n",
       "      <th>T_MEAN_SLOPE</th>\n",
       "      <td>21.421017</td>\n",
       "      <td>5.425289</td>\n",
       "    </tr>\n",
       "    <tr>\n",
       "      <th>T_MEAN_THICKNESS</th>\n",
       "      <td>22.792425</td>\n",
       "      <td>16.785250</td>\n",
       "    </tr>\n",
       "    <tr>\n",
       "      <th>T_MAXIMUM_THICKNESS</th>\n",
       "      <td>74.305944</td>\n",
       "      <td>45.827023</td>\n",
       "    </tr>\n",
       "    <tr>\n",
       "      <th>TT_AREA</th>\n",
       "      <td>0.423253</td>\n",
       "      <td>0.636670</td>\n",
       "    </tr>\n",
       "    <tr>\n",
       "      <th>TT_MEAN_SLOPE</th>\n",
       "      <td>23.084023</td>\n",
       "      <td>9.011630</td>\n",
       "    </tr>\n",
       "    <tr>\n",
       "      <th>TT_MEAN_THICKNESS</th>\n",
       "      <td>18.169623</td>\n",
       "      <td>17.729830</td>\n",
       "    </tr>\n",
       "    <tr>\n",
       "      <th>TT_MAXIMUM_THICKNESS</th>\n",
       "      <td>41.303255</td>\n",
       "      <td>38.766250</td>\n",
       "    </tr>\n",
       "    <tr>\n",
       "      <th>POINT_LAT</th>\n",
       "      <td>45.248961</td>\n",
       "      <td>7.556599</td>\n",
       "    </tr>\n",
       "    <tr>\n",
       "      <th>POINT_LON</th>\n",
       "      <td>29.966949</td>\n",
       "      <td>36.369489</td>\n",
       "    </tr>\n",
       "    <tr>\n",
       "      <th>POINT_ELEVATION</th>\n",
       "      <td>2930.546484</td>\n",
       "      <td>649.182383</td>\n",
       "    </tr>\n",
       "  </tbody>\n",
       "</table>\n",
       "</div>"
      ],
      "text/plain": [
       "                             mean         std\n",
       "T_LAT_CENT              45.248784    7.555996\n",
       "T_LON_CENT              29.965947   36.370518\n",
       "T_AREA                   1.022082    1.387955\n",
       "T_MEAN_SLOPE            21.421017    5.425289\n",
       "T_MEAN_THICKNESS        22.792425   16.785250\n",
       "T_MAXIMUM_THICKNESS     74.305944   45.827023\n",
       "TT_AREA                  0.423253    0.636670\n",
       "TT_MEAN_SLOPE           23.084023    9.011630\n",
       "TT_MEAN_THICKNESS       18.169623   17.729830\n",
       "TT_MAXIMUM_THICKNESS    41.303255   38.766250\n",
       "POINT_LAT               45.248961    7.556599\n",
       "POINT_LON               29.966949   36.369489\n",
       "POINT_ELEVATION       2930.546484  649.182383"
      ]
     },
     "execution_count": 3,
     "metadata": {},
     "output_type": "execute_result"
    }
   ],
   "source": [
    "train_dataset = glathida.sample(frac=0.8, random_state=0)\n",
    "test_dataset = glathida.drop(train_dataset.index)\n",
    "\n",
    "train_features = train_dataset.copy()\n",
    "test_features = test_dataset.copy()\n",
    "\n",
    "#define label - attribute training to be picked\n",
    "train_labels = train_features.pop(\"POINT_THICKNESS\")\n",
    "test_labels = test_features.pop(\"POINT_THICKNESS\")\n",
    "\n",
    "train_features.describe().transpose()[['mean', 'std']]"
   ]
  },
  {
   "cell_type": "markdown",
   "metadata": {},
   "source": [
    "# Step 2: Setup the Model"
   ]
  },
  {
   "cell_type": "markdown",
   "metadata": {},
   "source": [
    "### Establish normalization layers"
   ]
  },
  {
   "cell_type": "code",
   "execution_count": 4,
   "metadata": {},
   "outputs": [
    {
     "name": "stderr",
     "output_type": "stream",
     "text": [
      "  0%|          | 0/13 [00:00<?, ?it/s]2022-03-19 22:53:20.226564: E tensorflow/stream_executor/cuda/cuda_driver.cc:271] failed call to cuInit: CUDA_ERROR_NO_DEVICE: no CUDA-capable device is detected\n",
      "2022-03-19 22:53:20.226611: I tensorflow/stream_executor/cuda/cuda_diagnostics.cc:156] kernel driver does not appear to be running on this host (sermeq.ess.washington.edu): /proc/driver/nvidia/version does not exist\n",
      "2022-03-19 22:53:20.227200: I tensorflow/core/platform/cpu_feature_guard.cc:151] This TensorFlow binary is optimized with oneAPI Deep Neural Network Library (oneDNN) to use the following CPU instructions in performance-critical operations:  AVX2 AVX512F FMA\n",
      "To enable them in other operations, rebuild TensorFlow with the appropriate compiler flags.\n",
      "100%|██████████| 13/13 [00:15<00:00,  1.21s/it]\n"
     ]
    }
   ],
   "source": [
    "normalizer = {}\n",
    "variable_list = list(train_features)\n",
    "for variable_name in tqdm(variable_list):\n",
    "\n",
    "    normalizer[variable_name] = gl.preprocessing.Normalization(input_shape=[1,], axis=None)\n",
    "    normalizer[variable_name].adapt(np.array(train_features[variable_name]))\n",
    "    \n",
    "    \n",
    "normalizer['ALL'] = gl.preprocessing.Normalization(axis=-1)\n",
    "normalizer['ALL'].adapt(np.array(train_features))"
   ]
  },
  {
   "cell_type": "code",
   "execution_count": 5,
   "metadata": {},
   "outputs": [],
   "source": [
    "linear_model = {}\n",
    "linear_history = {}\n",
    "linear_results = {}"
   ]
  },
  {
   "cell_type": "markdown",
   "metadata": {},
   "source": [
    "# Linear regression"
   ]
  },
  {
   "cell_type": "code",
   "execution_count": 6,
   "metadata": {},
   "outputs": [
    {
     "name": "stderr",
     "output_type": "stream",
     "text": [
      "100%|██████████| 13/13 [00:28<00:00,  2.22s/it]"
     ]
    },
    {
     "name": "stdout",
     "output_type": "stream",
     "text": [
      "CPU times: user 36 s, sys: 2.43 s, total: 38.4 s\n",
      "Wall time: 28.9 s\n"
     ]
    },
    {
     "name": "stderr",
     "output_type": "stream",
     "text": [
      "\n"
     ]
    }
   ],
   "source": [
    "%%time\n",
    "for variable_name in tqdm(variable_list):\n",
    "\n",
    "    linear_model[variable_name] = gl.build_linear_model(normalizer[variable_name])\n",
    "    linear_history[variable_name] = linear_model[variable_name].fit(\n",
    "                                        train_features[variable_name], train_labels,        \n",
    "                                        epochs=1,\n",
    "                                        verbose=0,\n",
    "                                        validation_split = 0.2)\n",
    "    \n",
    "    \n",
    "    linear_results[variable_name] = linear_model[variable_name].evaluate(\n",
    "                                        test_features[variable_name],\n",
    "                                        test_labels, verbose=0)"
   ]
  },
  {
   "cell_type": "code",
   "execution_count": 7,
   "metadata": {},
   "outputs": [],
   "source": [
    "# fig,ax=plt.subplots(2,6,figsize=(10,10))\n",
    "# for i, variable_name in enumerate(variable_list):\n",
    "# #     mpl_style(\"dark\")\n",
    "#     ax = plt.subplot(4,4,i+1)\n",
    "#     plt.subplot(4,4,i+1)\n",
    "#     gl.plot_loss(linear_history[variable_name])\n",
    "#     ax.set_title(variable_name)\n",
    "# #     plt.savefig(\"/home/sa42/notebooks/glac/figs/GTP1_loss.eps\")"
   ]
  },
  {
   "cell_type": "markdown",
   "metadata": {},
   "source": [
    "# Linear regression with multiple inputs"
   ]
  },
  {
   "cell_type": "code",
   "execution_count": 8,
   "metadata": {},
   "outputs": [],
   "source": [
    "linear_model = gl.build_linear_model(normalizer['ALL'])\n",
    "\n",
    "linear_history['MULTI'] = linear_model.fit(\n",
    "train_features, train_labels,        \n",
    "   epochs=1,\n",
    "   verbose=0,\n",
    "   validation_split = 0.2)\n",
    "\n",
    "linear_results['MULTI'] = linear_model.evaluate(\n",
    "    test_features,\n",
    "    test_labels, verbose=0)"
   ]
  },
  {
   "cell_type": "code",
   "execution_count": 9,
   "metadata": {},
   "outputs": [],
   "source": [
    "# gl.plot_loss(history_full)\n",
    "# # plt.savefig(\"/home/sa42/notebooks/glac/figs/GTP1_full_loss.eps\")"
   ]
  },
  {
   "cell_type": "markdown",
   "metadata": {},
   "source": [
    "# DNN regression"
   ]
  },
  {
   "cell_type": "markdown",
   "metadata": {},
   "source": [
    "## Define regression functions"
   ]
  },
  {
   "cell_type": "code",
   "execution_count": 10,
   "metadata": {},
   "outputs": [],
   "source": [
    "# test_results = {}\n",
    "dnn_model = {}\n",
    "dnn_history = {}\n",
    "dnn_results = {}"
   ]
  },
  {
   "cell_type": "code",
   "execution_count": 11,
   "metadata": {
    "scrolled": false
   },
   "outputs": [
    {
     "name": "stderr",
     "output_type": "stream",
     "text": [
      "100%|██████████| 13/13 [00:52<00:00,  4.01s/it]\n"
     ]
    }
   ],
   "source": [
    "for variable_name in tqdm(variable_list):\n",
    "\n",
    "    dnn_model[variable_name] = gl.build_dnn_model(normalizer[variable_name])\n",
    "    dnn_history[variable_name] = dnn_model[variable_name].fit(\n",
    "                                        train_features[variable_name], train_labels,        \n",
    "                                        epochs=1,\n",
    "                                        verbose=0,\n",
    "                                        validation_split = 0.2)\n",
    "    dnn_results[variable_name] = dnn_model[variable_name].evaluate(\n",
    "                                        test_features[variable_name],\n",
    "                                        test_labels, verbose=0)"
   ]
  },
  {
   "cell_type": "code",
   "execution_count": 12,
   "metadata": {},
   "outputs": [],
   "source": [
    "# fig,ax=plt.subplots(4,4,figsize=(10,10))\n",
    "# for i, variable_name in enumerate(variable_list):\n",
    "#     plt.subplot(4,4,i+1)\n",
    "#     xmax = np.max(train_features[variable_name])\n",
    "#     xmin = np.min(train_features[variable_name])\n",
    "#     x = tf.linspace(xmin, xmax, 101)\n",
    "#     y = dnn_model[variable_name].predict(x)\n",
    "#     plot_single_model_variable(x,y,variable_name)"
   ]
  },
  {
   "cell_type": "code",
   "execution_count": 13,
   "metadata": {},
   "outputs": [
    {
     "data": {
      "image/png": "[encoded data removed]",
      "text/plain": [
       "<Figure size 720x720 with 16 Axes>"
      ]
     },
     "metadata": {
      "needs_background": "light"
     },
     "output_type": "display_data"
    }
   ],
   "source": [
    "fig,ax=plt.subplots(4,4,figsize=(10,10))\n",
    "for i, variable_name in enumerate(variable_list):\n",
    "    ax = plt.subplot(4,4,i+1)\n",
    "    gl.plot_loss(dnn_history[variable_name])\n",
    "    ax.set_title(variable_name)\n",
    "#     plt.savefig(\"/home/sa42/notebooks/glac/figs/GTP1_dnn_loss.eps\")"
   ]
  },
  {
   "cell_type": "markdown",
   "metadata": {},
   "source": [
    "# Full model"
   ]
  },
  {
   "cell_type": "code",
   "execution_count": 14,
   "metadata": {},
   "outputs": [],
   "source": [
    "dnn_full_model = gl.build_dnn_model(normalizer['ALL'])"
   ]
  },
  {
   "cell_type": "code",
   "execution_count": 20,
   "metadata": {},
   "outputs": [
    {
     "name": "stdout",
     "output_type": "stream",
     "text": [
      "CPU times: user 36.7 s, sys: 7.2 s, total: 43.9 s\n",
      "Wall time: 3.85 s\n"
     ]
    }
   ],
   "source": [
    "%%time\n",
    "dnn_history['MULTI'] = dnn_full_model.fit(\n",
    "    train_features, train_labels,\n",
    "    validation_split=0.2,\n",
    "    verbose=0, epochs=1)\n",
    "\n",
    "dnn_results['MULTI'] = dnn_full_model.evaluate(\n",
    "    test_features,\n",
    "    test_labels, verbose=0)"
   ]
  },
  {
   "cell_type": "code",
   "execution_count": 21,
   "metadata": {},
   "outputs": [
    {
     "data": {
      "text/plain": [
       "<function glacierml.plot_loss(history)>"
      ]
     },
     "execution_count": 21,
     "metadata": {},
     "output_type": "execute_result"
    },
    {
     "data": {
      "image/png": "[encoded data removed]",
      "text/plain": [
       "<Figure size 432x288 with 1 Axes>"
      ]
     },
     "metadata": {
      "needs_background": "light"
     },
     "output_type": "display_data"
    }
   ],
   "source": [
    "gl.plot_loss(dnn_history['MULTI'])\n",
    "# plt.savefig(\"/home/sa42/notebooks/glac/figs/GTP1_dnn_full_loss.png\")"
   ]
  },
  {
   "cell_type": "code",
   "execution_count": 22,
   "metadata": {},
   "outputs": [
    {
     "data": {
      "text/plain": [
       "(0.0, 200.0)"
      ]
     },
     "execution_count": 22,
     "metadata": {},
     "output_type": "execute_result"
    },
    {
     "data": {
      "image/png": "[encoded data removed]",
      "text/plain": [
       "<Figure size 432x288 with 1 Axes>"
      ]
     },
     "metadata": {
      "needs_background": "light"
     },
     "output_type": "display_data"
    }
   ],
   "source": [
    "y = dnn_full_model.predict(test_features)\n",
    "plt.plot(test_labels,y,'.')\n",
    "plt.plot((0,200),(0,200),'-')\n",
    "plt.xlabel('True Thickness (m)')\n",
    "plt.ylabel('Model Thickness (m)')\n",
    "plt.xlim((0,200))\n",
    "plt.ylim((0,200))\n",
    "# plt.savefig(\"/home/sa42/notebooks/glac/figs/GTP1_res.EPS\")"
   ]
  },
  {
   "cell_type": "markdown",
   "metadata": {},
   "source": [
    "# Collect Results"
   ]
  },
  {
   "cell_type": "code",
   "execution_count": 23,
   "metadata": {
    "scrolled": true
   },
   "outputs": [
    {
     "name": "stdout",
     "output_type": "stream",
     "text": [
      "\\begin{tabular}{llrr}\n",
      "\\toprule\n",
      "Architecture &             Variable &      loss &  val\\_loss \\\\\n",
      "\\midrule\n",
      "      Linear &     T\\_MEAN\\_THICKNESS & 18.337793 & 17.566830 \\\\\n",
      "      Linear &         T\\_MEAN\\_SLOPE & 22.358496 & 21.838877 \\\\\n",
      "      Linear &  T\\_MAXIMUM\\_THICKNESS & 16.531616 & 15.452958 \\\\\n",
      "      Linear &           T\\_LON\\_CENT & 20.202122 & 19.124033 \\\\\n",
      "      Linear &           T\\_LAT\\_CENT & 24.117083 & 23.657484 \\\\\n",
      "      Linear &               T\\_AREA & 16.540230 & 15.481031 \\\\\n",
      "      Linear &    TT\\_MEAN\\_THICKNESS & 21.351662 & 20.732893 \\\\\n",
      "      Linear &        TT\\_MEAN\\_SLOPE & 23.030338 & 22.428825 \\\\\n",
      "      Linear & TT\\_MAXIMUM\\_THICKNESS & 20.424492 & 19.764297 \\\\\n",
      "      Linear &              TT\\_AREA & 24.115835 & 23.652136 \\\\\n",
      "      Linear &            POINT\\_LON & 20.187712 & 19.129105 \\\\\n",
      "      Linear &            POINT\\_LAT & 24.129599 & 23.651413 \\\\\n",
      "      Linear &      POINT\\_ELEVATION & 21.143362 & 20.207649 \\\\\n",
      "      Linear &                MULTI & 15.400393 & 14.134925 \\\\\n",
      "         DNN &     T\\_MEAN\\_THICKNESS & 17.311321 & 17.118172 \\\\\n",
      "         DNN &         T\\_MEAN\\_SLOPE & 20.644943 & 20.244684 \\\\\n",
      "         DNN &  T\\_MAXIMUM\\_THICKNESS & 15.093336 & 14.690386 \\\\\n",
      "         DNN &           T\\_LON\\_CENT & 18.804392 & 18.001434 \\\\\n",
      "         DNN &           T\\_LAT\\_CENT & 20.261787 & 19.518831 \\\\\n",
      "         DNN &               T\\_AREA & 15.348569 & 15.041448 \\\\\n",
      "         DNN &    TT\\_MEAN\\_THICKNESS & 20.048128 & 19.848656 \\\\\n",
      "         DNN &        TT\\_MEAN\\_SLOPE & 21.357111 & 21.268232 \\\\\n",
      "         DNN & TT\\_MAXIMUM\\_THICKNESS & 19.166428 & 18.873592 \\\\\n",
      "         DNN &              TT\\_AREA & 22.212887 & 21.896900 \\\\\n",
      "         DNN &            POINT\\_LON & 18.871151 & 18.425632 \\\\\n",
      "         DNN &            POINT\\_LAT & 20.550161 & 19.786077 \\\\\n",
      "         DNN &      POINT\\_ELEVATION & 19.682894 & 18.919468 \\\\\n",
      "         DNN &                MULTI & 11.180813 & 10.530539 \\\\\n",
      "\\bottomrule\n",
      "\\end{tabular}\n",
      "\n"
     ]
    }
   ],
   "source": [
    "dfs = pd.DataFrame()\n",
    "for variable_name in list(dnn_history):    \n",
    "    df1 = pd.DataFrame(dnn_history[variable_name].history)\n",
    "    df2 = pd.DataFrame(linear_history[variable_name].history)\n",
    "    df1 = df1.loc[[df1.last_valid_index()]]\n",
    "    df2 = df2.loc[[df2.last_valid_index()]]\n",
    "    df1['Architecture'] = 'DNN'\n",
    "    df2['Architecture'] = 'Linear'\n",
    "    df1.insert(0, 'Variable', [variable_name])\n",
    "    df2.insert(0, 'Variable', [variable_name])\n",
    "    df = pd.concat([df1,df2])\n",
    "    dfs = dfs.append(df)\n",
    "df = dfs[[\n",
    "    'Architecture',\n",
    "    'Variable',\n",
    "    'loss',\n",
    "    'val_loss'\n",
    "]]\n",
    "df = df.sort_values(by=['Architecture','Variable'], ascending=[False,False])\n",
    "print(df.to_latex(index=False))"
   ]
  },
  {
   "cell_type": "code",
   "execution_count": 24,
   "metadata": {},
   "outputs": [
    {
     "ename": "NameError",
     "evalue": "name 'crash' is not defined",
     "output_type": "error",
     "traceback": [
      "\u001b[0;31m---------------------------------------------------------------------------\u001b[0m",
      "\u001b[0;31mNameError\u001b[0m                                 Traceback (most recent call last)",
      "\u001b[0;32m/tmp/ipykernel_3549190/3115182498.py\u001b[0m in \u001b[0;36m<module>\u001b[0;34m\u001b[0m\n\u001b[0;32m----> 1\u001b[0;31m \u001b[0mcrash\u001b[0m\u001b[0;34m(\u001b[0m\u001b[0;34m)\u001b[0m\u001b[0;34m\u001b[0m\u001b[0;34m\u001b[0m\u001b[0m\n\u001b[0m",
      "\u001b[0;31mNameError\u001b[0m: name 'crash' is not defined"
     ]
    }
   ],
   "source": [
    "crash()"
   ]
  },
  {
   "cell_type": "markdown",
   "metadata": {},
   "source": [
    "# RGI merge"
   ]
  },
  {
   "cell_type": "code",
   "execution_count": null,
   "metadata": {},
   "outputs": [],
   "source": []
  }
 ],
 "metadata": {
  "kernelspec": {
   "display_name": "python (Cartopy)-f",
   "language": "python",
   "name": "python-cartopy"
  },
  "language_info": {
   "codemirror_mode": {
    "name": "ipython",
    "version": 3
   },
   "file_extension": ".py",
   "mimetype": "text/x-python",
   "name": "python",
   "nbconvert_exporter": "python",
   "pygments_lexer": "ipython3",
   "version": "3.7.11"
  }
 },
 "nbformat": 4,
 "nbformat_minor": 4
}
