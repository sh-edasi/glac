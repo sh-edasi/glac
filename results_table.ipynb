{
 "cells": [
  {
   "cell_type": "code",
   "execution_count": 1,
   "id": "7eab9a02",
   "metadata": {},
   "outputs": [
    {
     "name": "stderr",
     "output_type": "stream",
     "text": [
      "2023-08-07 12:22:28.980642: I tensorflow/core/util/port.cc:110] oneDNN custom operations are on. You may see slightly different numerical results due to floating-point round-off errors from different computation orders. To turn them off, set the environment variable `TF_ENABLE_ONEDNN_OPTS=0`.\n",
      "2023-08-07 12:22:29.025677: I tensorflow/core/platform/cpu_feature_guard.cc:182] This TensorFlow binary is optimized to use available CPU instructions in performance-critical operations.\n",
      "To enable the following instructions: AVX2 AVX512F AVX512_VNNI FMA, in other operations, rebuild TensorFlow with the appropriate compiler flags.\n",
      "2023-08-07 12:22:29.620772: W tensorflow/compiler/tf2tensorrt/utils/py_utils.cc:38] TF-TRT Warning: Could not find TensorRT\n"
     ]
    }
   ],
   "source": [
    "# import sys\n",
    "# !{sys.executable} -m pip install Jinja2\n",
    "import glacierml as gl\n",
    "import pandas as pd\n",
    "pd.set_option('display.max_columns', None)\n",
    "import numpy as np\n",
    "parameterization = '4'\n",
    "method = '1'"
   ]
  },
  {
   "cell_type": "code",
   "execution_count": 8,
   "id": "19880ad9",
   "metadata": {},
   "outputs": [],
   "source": [
    "def stats_builder(st1 = 1e-5, st2 = 1e4):\n",
    "    \n",
    "#     boundary = [(str(st1), str(st2))]\n",
    "    \n",
    "    col_list = [ 'Area', \n",
    "#                 'Slope','Lmax','Zmin',\n",
    "#                 'Zmax',\n",
    "                'WT1','Thick Diff',\n",
    "                'Vol Diff'\n",
    "#                'Farinotti Mean Thickness'\n",
    "               ]\n",
    "    name = ['mean', 'median', 'min', 'max','IQR','STD','count']\n",
    "\n",
    "    df = pd.DataFrame( columns = col_list, index = name)\n",
    "    data = gl.load_notebook_data('4','first')\n",
    "    x = np.array(data['FMT'])\n",
    "    y = np.array(data['WT1'])\n",
    "    area = np.array(data['Area'])\n",
    "    \n",
    "    vol_f = (x / 1e3) * area\n",
    "    vol = (y / 1e3) * area\n",
    "    \n",
    "    thick_f = vol_f / area * 1e3\n",
    "    thick = vol / area * 1e3\n",
    "    \n",
    "    vol_diff = vol - vol_f\n",
    "    data['Thick Diff'] = thick - thick_f\n",
    "    data['Vol Diff'] = vol_diff\n",
    "    data = data.iloc[np.where(\n",
    "        (vol > st1) & (vol < st2)\n",
    "    )]\n",
    "    vol_sub = vol[np.where(\n",
    "        (vol > st1) & (vol < st2)\n",
    "    )]\n",
    "    feat_list = col_list\n",
    "    for i in feat_list:\n",
    "        dft = data[i]\n",
    "        upp = np.nanquantile(dft, 0.75)\n",
    "        low = np.nanquantile(dft, 0.25)\n",
    "#         print(np.quantile(dft, 0.75))\n",
    "#         print(np.quantile(dft, 0.25))\n",
    "        functions = [\n",
    "            np.round(np.nanmean(dft), 3),\n",
    "            np.round(np.nanmedian(dft), 3), \n",
    "            np.round(np.nanmin(dft), 3),\n",
    "            np.round(np.nanmax(dft), 3),\n",
    "            np.round(upp - low, 3),\n",
    "            np.round(np.nanstd(dft),3),\n",
    "            len(dft)\n",
    "        ]\n",
    "        for n, fn in zip(name, functions):\n",
    "            df[i].loc[n] = fn\n",
    "    df = df.rename(columns = {\n",
    "        'Area':'Area (km$^2$)',\n",
    "        'Slope':'Slope (deg)',\n",
    "        'Lmax':'Max Length (m)',\n",
    "        'Zmin':'Min Elevation (m)',\n",
    "        'WT1':'Est Thick (m)',\n",
    "        'Vol Diff':'Vol Diff (km$^3$)'\n",
    "#         'Farinotti Mean Thickness':'Farinotti Thickness'\n",
    "    })\n",
    "    df = df.round(decimals = 3)\n",
    "    return df, data, vol, vol_sub"
   ]
  },
  {
   "cell_type": "code",
   "execution_count": 9,
   "id": "7b5dc406",
   "metadata": {},
   "outputs": [],
   "source": [
    "stats, data, vol, vol_sub = stats_builder(1e-5, 1e4)"
   ]
  },
  {
   "cell_type": "code",
   "execution_count": 10,
   "id": "25cecb2f",
   "metadata": {},
   "outputs": [
    {
     "data": {
      "text/html": [
       "<div>\n",
       "<style scoped>\n",
       "    .dataframe tbody tr th:only-of-type {\n",
       "        vertical-align: middle;\n",
       "    }\n",
       "\n",
       "    .dataframe tbody tr th {\n",
       "        vertical-align: top;\n",
       "    }\n",
       "\n",
       "    .dataframe thead th {\n",
       "        text-align: right;\n",
       "    }\n",
       "</style>\n",
       "<table border=\"1\" class=\"dataframe\">\n",
       "  <thead>\n",
       "    <tr style=\"text-align: right;\">\n",
       "      <th></th>\n",
       "      <th>Area (km$^2$)</th>\n",
       "      <th>Est Thick (m)</th>\n",
       "      <th>Thick Diff</th>\n",
       "      <th>Vol Diff (km$^3$)</th>\n",
       "    </tr>\n",
       "  </thead>\n",
       "  <tbody>\n",
       "    <tr>\n",
       "      <th>mean</th>\n",
       "      <td>3.446</td>\n",
       "      <td>49.575</td>\n",
       "      <td>21.258</td>\n",
       "      <td>-0.138</td>\n",
       "    </tr>\n",
       "    <tr>\n",
       "      <th>median</th>\n",
       "      <td>0.252</td>\n",
       "      <td>46.0</td>\n",
       "      <td>24.0</td>\n",
       "      <td>0.005</td>\n",
       "    </tr>\n",
       "    <tr>\n",
       "      <th>min</th>\n",
       "      <td>0.01</td>\n",
       "      <td>16.0</td>\n",
       "      <td>-433.0</td>\n",
       "      <td>-557.26</td>\n",
       "    </tr>\n",
       "    <tr>\n",
       "      <th>max</th>\n",
       "      <td>7537.579</td>\n",
       "      <td>819.0</td>\n",
       "      <td>270.0</td>\n",
       "      <td>816.781</td>\n",
       "    </tr>\n",
       "    <tr>\n",
       "      <th>IQR</th>\n",
       "      <td>0.689</td>\n",
       "      <td>14.0</td>\n",
       "      <td>14.0</td>\n",
       "      <td>0.01</td>\n",
       "    </tr>\n",
       "    <tr>\n",
       "      <th>STD</th>\n",
       "      <td>51.081</td>\n",
       "      <td>17.307</td>\n",
       "      <td>18.654</td>\n",
       "      <td>5.382</td>\n",
       "    </tr>\n",
       "    <tr>\n",
       "      <th>count</th>\n",
       "      <td>216501</td>\n",
       "      <td>216501</td>\n",
       "      <td>216501</td>\n",
       "      <td>216501</td>\n",
       "    </tr>\n",
       "  </tbody>\n",
       "</table>\n",
       "</div>"
      ],
      "text/plain": [
       "       Area (km$^2$) Est Thick (m) Thick Diff Vol Diff (km$^3$)\n",
       "mean           3.446        49.575     21.258            -0.138\n",
       "median         0.252          46.0       24.0             0.005\n",
       "min             0.01          16.0     -433.0           -557.26\n",
       "max         7537.579         819.0      270.0           816.781\n",
       "IQR            0.689          14.0       14.0              0.01\n",
       "STD           51.081        17.307     18.654             5.382\n",
       "count         216501        216501     216501            216501"
      ]
     },
     "execution_count": 10,
     "metadata": {},
     "output_type": "execute_result"
    }
   ],
   "source": [
    "stats"
   ]
  },
  {
   "cell_type": "code",
   "execution_count": null,
   "id": "4852dce5",
   "metadata": {},
   "outputs": [],
   "source": [
    "print(stats.to_latex(float_format=\"%.2f\"))"
   ]
  },
  {
   "cell_type": "code",
   "execution_count": null,
   "id": "ba6ee66b",
   "metadata": {},
   "outputs": [],
   "source": [
    "data"
   ]
  },
  {
   "cell_type": "code",
   "execution_count": null,
   "id": "b7d55f0d",
   "metadata": {},
   "outputs": [],
   "source": [
    "data = data.dropna(subset = 'Farinotti Mean Thickness')"
   ]
  },
  {
   "cell_type": "code",
   "execution_count": null,
   "id": "3f9711f9",
   "metadata": {},
   "outputs": [],
   "source": [
    "import matplotlib.pyplot as plt\n",
    "\n",
    "\n"
   ]
  },
  {
   "cell_type": "code",
   "execution_count": null,
   "id": "e5e573da",
   "metadata": {},
   "outputs": [],
   "source": [
    "np.sqrt(55000)"
   ]
  },
  {
   "cell_type": "code",
   "execution_count": null,
   "id": "1b2b7a6d",
   "metadata": {},
   "outputs": [],
   "source": [
    "plt.hist(data['Vol Diff'],75)\n",
    "plt.yscale('log')"
   ]
  },
  {
   "cell_type": "code",
   "execution_count": null,
   "id": "82db9db9",
   "metadata": {},
   "outputs": [],
   "source": [
    "f = data['Vol Diff']\n",
    "plt.hist((f), 25)\n",
    "plt.yscale('log')\n",
    "plt.plot(\n",
    "    [np.percentile(f,50),np.percentile(f,50)],\n",
    "    [0,1e4], 'k--'\n",
    ")\n",
    "plt.plot(\n",
    "    [np.percentile(f,25),np.percentile(f,25)],\n",
    "    [0,1e4], 'k--'\n",
    ")\n",
    "plt.plot(\n",
    "    [np.percentile(f,75),np.percentile(f,75)],\n",
    "    [0,1e4], 'k--'\n",
    ")\n",
    "# plt.text(\n",
    "    \n",
    "    \n",
    "#     (f).mean() - 0.5,\n",
    "#     955, s = 'Median'\n",
    "# )\n",
    "# plt.text(\n",
    "#     np.percentile(f,75) + .18 ,\n",
    "#     900, s = 'Q3'\n",
    "# )\n",
    "# plt.text(\n",
    "#     np.percentile(f, 25) - 0.76,\n",
    "#     900, s = 'Q1'\n",
    "# )"
   ]
  },
  {
   "cell_type": "code",
   "execution_count": null,
   "id": "d45d3fac",
   "metadata": {},
   "outputs": [],
   "source": [
    "data"
   ]
  },
  {
   "cell_type": "code",
   "execution_count": null,
   "id": "baa25499",
   "metadata": {},
   "outputs": [],
   "source": [
    "data['Thick Diff'] = data['Weighted Mean Thickness 1'] - data['Farinotti Mean Thickness']\n",
    "data"
   ]
  },
  {
   "cell_type": "code",
   "execution_count": null,
   "id": "ee926ce7",
   "metadata": {},
   "outputs": [],
   "source": [
    "f = data['Thick Diff']\n",
    "plt.hist(data['Thick Diff'], 25)\n",
    "plt.yscale('log')\n",
    "plt.plot(\n",
    "    [np.percentile(f,50),np.percentile(f,50)],\n",
    "    [0,1e5], 'k--'\n",
    ")\n",
    "plt.plot(\n",
    "    [np.percentile(f,25),np.percentile(f,25)],\n",
    "    [0,1e5], 'k--'\n",
    ")\n",
    "plt.plot(\n",
    "    [np.percentile(f,75),np.percentile(f,75)],\n",
    "    [0,1e5], 'k--'\n",
    ")"
   ]
  },
  {
   "cell_type": "code",
   "execution_count": null,
   "id": "c94ffcec",
   "metadata": {},
   "outputs": [],
   "source": [
    "np.percentile(f,50)"
   ]
  },
  {
   "cell_type": "code",
   "execution_count": null,
   "id": "55d81d0c",
   "metadata": {},
   "outputs": [],
   "source": [
    "x = data['Farinotti Mean Thickness'] / 1e3 * data['Area']\n",
    "y = data['Weighted Mean Thickness 1'] / 1e3 * data['Area']\n",
    "\n",
    "np.nanmean(x - y)\n"
   ]
  },
  {
   "cell_type": "code",
   "execution_count": null,
   "id": "524dfa96",
   "metadata": {},
   "outputs": [],
   "source": [
    "len(data)"
   ]
  },
  {
   "cell_type": "code",
   "execution_count": null,
   "id": "9a49f6b4",
   "metadata": {},
   "outputs": [],
   "source": [
    "(len(data) / 216501) * 100"
   ]
  },
  {
   "cell_type": "code",
   "execution_count": null,
   "id": "84a2e9fc",
   "metadata": {},
   "outputs": [],
   "source": [
    "(sum(vol_sub) / sum(vol)) * 100"
   ]
  },
  {
   "cell_type": "code",
   "execution_count": null,
   "id": "d9a63e69",
   "metadata": {},
   "outputs": [],
   "source": [
    "sum(vol) / 1e3"
   ]
  },
  {
   "cell_type": "code",
   "execution_count": null,
   "id": "301ce1ee",
   "metadata": {},
   "outputs": [],
   "source": [
    "sum(vol_sub) / 1e3"
   ]
  },
  {
   "cell_type": "code",
   "execution_count": null,
   "id": "702c8fe9",
   "metadata": {},
   "outputs": [],
   "source": []
  }
 ],
 "metadata": {
  "kernelspec": {
   "display_name": "Python(3.8.10)",
   "language": "python",
   "name": "new_kernel"
  },
  "language_info": {
   "codemirror_mode": {
    "name": "ipython",
    "version": 3
   },
   "file_extension": ".py",
   "mimetype": "text/x-python",
   "name": "python",
   "nbconvert_exporter": "python",
   "pygments_lexer": "ipython3",
   "version": "3.8.10"
  },
  "varInspector": {
   "cols": {
    "lenName": 16,
    "lenType": 16,
    "lenVar": 40
   },
   "kernels_config": {
    "python": {
     "delete_cmd_postfix": "",
     "delete_cmd_prefix": "del ",
     "library": "var_list.py",
     "varRefreshCmd": "print(var_dic_list())"
    },
    "r": {
     "delete_cmd_postfix": ") ",
     "delete_cmd_prefix": "rm(",
     "library": "var_list.r",
     "varRefreshCmd": "cat(var_dic_list()) "
    }
   },
   "types_to_exclude": [
    "module",
    "function",
    "builtin_function_or_method",
    "instance",
    "_Feature"
   ],
   "window_display": false
  }
 },
 "nbformat": 4,
 "nbformat_minor": 5
}
