{
 "cells": [
  {
   "cell_type": "code",
   "execution_count": 2,
   "id": "4698e635-efdc-47d7-82a0-b5b8095f3bb4",
   "metadata": {
    "tags": []
   },
   "outputs": [
    {
     "name": "stdout",
     "output_type": "stream",
     "text": [
      "\u001b[31mERROR: Could not find a version that satisfies the requirement mpl_toolkits (from versions: none)\u001b[0m\u001b[31m\n",
      "\u001b[0m\u001b[31mERROR: No matching distribution found for mpl_toolkits\u001b[0m\u001b[31m\n",
      "\u001b[0m"
     ]
    }
   ],
   "source": [
    "import sys\n",
    "!{sys.executable} -m pip install mpl_toolkits"
   ]
  },
  {
   "cell_type": "code",
   "execution_count": 3,
   "id": "38858852",
   "metadata": {
    "tags": []
   },
   "outputs": [],
   "source": [
    "import glacierml as gl\n",
    "import configparser\n",
    "import matplotlib.pyplot as plt\n",
    "# from mpl_toolkits.basemap import Basemap\n",
    "import numpy as np\n",
    "import pandas as pd\n",
    "from tqdm import tqdm\n",
    "pd.set_option('display.max_column',None)\n",
    "# import sys\n",
    "cols = []\n",
    "for i in range(273):\n",
    "    cols.append(i)\n",
    "# !{sys.executable} -m pip install basemap"
   ]
  },
  {
   "cell_type": "markdown",
   "id": "86a78764",
   "metadata": {},
   "source": [
    "#### Let's look at how we compare to Farinotti et al. 2019"
   ]
  },
  {
   "cell_type": "code",
   "execution_count": 4,
   "id": "9fa9230d",
   "metadata": {
    "tags": []
   },
   "outputs": [],
   "source": [
    "df = pd.read_pickle('final.pkl')"
   ]
  },
  {
   "cell_type": "code",
   "execution_count": 5,
   "id": "086e7010",
   "metadata": {
    "tags": []
   },
   "outputs": [],
   "source": [
    "shelves = df[df['TermType'] == 5]"
   ]
  },
  {
   "cell_type": "code",
   "execution_count": 6,
   "id": "8c612dc1",
   "metadata": {
    "tags": []
   },
   "outputs": [
    {
     "data": {
      "text/plain": [
       "169"
      ]
     },
     "execution_count": 6,
     "metadata": {},
     "output_type": "execute_result"
    }
   ],
   "source": [
    "len(shelves)"
   ]
  },
  {
   "cell_type": "code",
   "execution_count": 8,
   "id": "abb7916d",
   "metadata": {
    "tags": []
   },
   "outputs": [
    {
     "name": "stdout",
     "output_type": "stream",
     "text": [
      "[135.949,141.497]  * 10^3 km^3\n",
      "Mid CI: 138.723 * 10^3 km^3\n",
      "CI Half Width: 2.774 * 10^3 km^3\n"
     ]
    }
   ],
   "source": [
    "# df = pd.read_pickle('/data/fast1/glacierml/data/final_df.pkl')\n",
    "E_A = df['Area']\n",
    "E_H = np.mean(df[cols],axis = 1)\n",
    "si = df['sig_k_ind'] # = (Var(H)*Var(A) + A^2Var(H) + H^2Var(A))\n",
    "\n",
    "sp = np.sum(si)\n",
    "\n",
    "se = np.sqrt(sp)\n",
    "\n",
    "Z = (1.96)\n",
    "Vlb = np.round( (np.sum(E_H * E_A) - (Z*se)) , 0) / 1e3\n",
    "Vub = np.round( (np.sum(E_H * E_A) + (Z*se)) , 0) / 1e3\n",
    "\n",
    "print(f'[{Vlb},{Vub}]  * 10^3 km^3')\n",
    "\n",
    "print(f'Mid CI: {np.round((Vub + Vlb) / 2,3)} * 10^3 km^3')\n",
    "\n",
    "print(f'CI Half Width: {np.round((Vub - Vlb) / 2,3)} * 10^3 km^3')"
   ]
  },
  {
   "cell_type": "markdown",
   "id": "c56605c0",
   "metadata": {},
   "source": [
    "#### Okay, that is our global sum. Now lets look at our global sum when just comparing to Millan. To accomplish this, we exclude shelf supported glaciers in Antarctica "
   ]
  },
  {
   "cell_type": "code",
   "execution_count": 9,
   "id": "ea4ff1dd",
   "metadata": {
    "tags": []
   },
   "outputs": [
    {
     "name": "stdout",
     "output_type": "stream",
     "text": [
      "[111.793,116.328]  * 10^3 km^3\n",
      "Mid CI: 114.06 * 10^3 km^3\n",
      "CI Half Width: 2.267 * 10^3 km^3\n"
     ]
    }
   ],
   "source": [
    "# df = pd.read_pickle('/data/fast1/glacierml/data/final_df.pkl')\n",
    "\n",
    "df_no_shelf = df.drop(df[\n",
    "    (df['TermType'] == 5) & (df['region'] == '19')\n",
    "].index)\n",
    "\n",
    "# df = pd.read_pickle('/data/fast1/glacierml/data/final_df.pkl')\n",
    "E_A = df_no_shelf['Area']\n",
    "E_H = np.mean(df_no_shelf[cols],axis = 1)\n",
    "si = df_no_shelf['sig_k_ind'] # = (Var(H)*Var(A) + A^2Var(H) + H^2Var(A))\n",
    "\n",
    "sp = np.sum(si)\n",
    "\n",
    "se = np.sqrt(sp)\n",
    "\n",
    "Z = (1.96)\n",
    "Vlb = np.round( (np.sum(E_H * E_A) - (Z*se)) , 0) / 1e3\n",
    "Vub = np.round( (np.sum(E_H * E_A) + (Z*se)) , 0) / 1e3\n",
    "\n",
    "print(f'[{Vlb},{Vub}]  * 10^3 km^3')\n",
    "\n",
    "print(f'Mid CI: {np.round((Vub + Vlb) / 2,3)} * 10^3 km^3')\n",
    "\n",
    "print(f'CI Half Width: {np.round((Vub - Vlb) / 2,3)} * 10^3 km^3')"
   ]
  },
  {
   "cell_type": "code",
   "execution_count": null,
   "id": "393cb578",
   "metadata": {},
   "outputs": [],
   "source": [
    "140.6 - 111.399"
   ]
  },
  {
   "cell_type": "markdown",
   "id": "e88e625c",
   "metadata": {},
   "source": [
    "#### Interesting, now how do we compare to Farinotti?"
   ]
  },
  {
   "cell_type": "code",
   "execution_count": 2,
   "id": "5571d3df",
   "metadata": {},
   "outputs": [
    {
     "name": "stdout",
     "output_type": "stream",
     "text": [
      "[119.584,124.116]  * 10^3 km^3\n",
      "Mid CI: 121.85 * 10^3 km^3\n",
      "CI Half Width: 2.266 * 10^3 km^3\n"
     ]
    }
   ],
   "source": [
    "df = pd.read_pickle('/data/fast1/glacierml/data/final_df_r.pkl')\n",
    "E_A = df['Area']\n",
    "E_H = np.mean(df[cols],axis = 1)\n",
    "si = df['sig_k_ind'] # = (Var(H)*Var(A) + A^2Var(H) + H^2Var(A))\n",
    "\n",
    "sp = np.sum(si)\n",
    "\n",
    "se = np.sqrt(sp)\n",
    "\n",
    "Z = (1.96)\n",
    "Vlb = np.round( (np.sum(E_H * E_A) - (Z*se)) , 0) / 1e3\n",
    "Vub = np.round( (np.sum(E_H * E_A) + (Z*se)) , 0) / 1e3\n",
    "\n",
    "print(f'[{Vlb},{Vub}]  * 10^3 km^3')\n",
    "\n",
    "print(f'Mid CI: {np.round((Vub + Vlb) / 2,3)} * 10^3 km^3')\n",
    "\n",
    "print(f'CI Half Width: {np.round((Vub - Vlb) / 2,3)} * 10^3 km^3')"
   ]
  },
  {
   "cell_type": "code",
   "execution_count": null,
   "id": "9b0ad9bb",
   "metadata": {},
   "outputs": [],
   "source": [
    "df['TermType'].unique()"
   ]
  },
  {
   "cell_type": "code",
   "execution_count": 3,
   "id": "a2e2d00b",
   "metadata": {},
   "outputs": [
    {
     "data": {
      "text/plain": [
       "Text(0.5, 0, 'Glacier Terminations')"
      ]
     },
     "execution_count": 3,
     "metadata": {},
     "output_type": "execute_result"
    },
    {
     "data": {
      "image/png": "[encoded data removed]",
      "text/plain": [
       "<Figure size 640x480 with 1 Axes>"
      ]
     },
     "metadata": {},
     "output_type": "display_data"
    }
   ],
   "source": [
    "df['TermType'][df['TermType'] == 0] = 'Land'\n",
    "df['TermType'][df['TermType'] == 1] = 'Marine'\n",
    "df['TermType'][df['TermType'] == 2] = 'Lake'\n",
    "df['TermType'][df['TermType'] == 5] = 'Shelf'\n",
    "\n",
    "df['Form'][df['Form'] == 0] = 'Glacier'\n",
    "df['Form'][df['Form'] == 1] = 'Ice Cap'\n",
    "plt.scatter(df['TermType'],df['r'])\n",
    "plt.ylabel('Discrepancy W/ Farinotti')\n",
    "plt.xlabel('Glacier Terminations')\n"
   ]
  },
  {
   "cell_type": "code",
   "execution_count": null,
   "id": "93d35feb",
   "metadata": {},
   "outputs": [],
   "source": [
    "df['Status'].unique()"
   ]
  },
  {
   "cell_type": "code",
   "execution_count": null,
   "id": "9088711d",
   "metadata": {},
   "outputs": [],
   "source": [
    "df['Status'][df['Status'] == 0] = 'Glacier or Ice Cap'\n",
    "df['Status'][df['Status'] == 2] = 'Nominal Glacier'\n",
    "plt.scatter(df['Status'],df['r'])\n",
    "plt.ylabel('Discrepancy W/ Farinotti')\n",
    "plt.xlabel('Glacier Classification')\n"
   ]
  },
  {
   "cell_type": "code",
   "execution_count": null,
   "id": "cc25f820",
   "metadata": {},
   "outputs": [],
   "source": [
    "df['Form'][df['Form'] == 0] = 'Glacier'\n",
    "df['Form'][df['Form'] == 1] = 'Ice Cap'\n",
    "plt.scatter(df['Form'],df['r'])\n",
    "plt.ylabel('Discrepancy W/ Farinotti')\n",
    "plt.xlabel('Glacier Classification')\n"
   ]
  },
  {
   "cell_type": "code",
   "execution_count": null,
   "id": "8672a52e",
   "metadata": {},
   "outputs": [],
   "source": [
    "df['TermType'][df['TermType'] == 0] = 'Land'\n",
    "df['TermType'][df['TermType'] == 1] = 'Marine'\n",
    "df['TermType'][df['TermType'] == 2] = 'Lake'\n",
    "df['TermType'][df['TermType'] == 5] = 'Shelf'\n",
    "plt.scatter(df['TermType'],df['r'])\n",
    "plt.ylabel('Discrepancy W/ Farinotti (km$^3$)')\n",
    "plt.xlabel('Glacier Terminations')\n",
    "plt.show()"
   ]
  },
  {
   "cell_type": "code",
   "execution_count": null,
   "id": "08db577e",
   "metadata": {
    "scrolled": true
   },
   "outputs": [],
   "source": [
    "for region in df['region'].sort_values().unique():\n",
    "    dft = df[df['region'] == region]\n",
    "    plt.scatter(dft['TermType'],dft['r'])\n",
    "    plt.ylabel('Discrepancy W/ Farinotti (km$^3$)')\n",
    "    plt.xlabel('Glacier Termination')\n",
    "    plt.title(f'RGI Region {region}')\n",
    "    plt.show()"
   ]
  },
  {
   "cell_type": "code",
   "execution_count": null,
   "id": "721399a9",
   "metadata": {},
   "outputs": [],
   "source": [
    "dft = df[df['region'] == '09']\n",
    "dft['TermType'][dft['TermType'] == 0] = 'Land'\n",
    "dft['TermType'][dft['TermType'] == 1] = 'Marine'\n",
    "dft['TermType'][dft['TermType'] == 2] = 'Lake'\n",
    "dft['TermType'][dft['TermType'] == 5] = 'Shelf'\n",
    "plt.scatter(dft['TermType'],dft['r'])\n",
    "plt.ylabel('Discrepancy W/ Farinotti (km$^3$)')\n",
    "plt.xlabel('Glacier Terminations')\n",
    "plt.title('Russian Arctic Glaciers')\n",
    "plt.show()\n",
    "\n",
    "land_mean = np.round(np.mean(dft['r'][dft['TermType'] == 'Land']),3)\n",
    "land_var = np.round(np.var(dft['r'][dft['TermType'] == 'Land']),3)\n",
    "print(f'mean discrepancy of land terminating glaciers: {land_mean}\\n'\n",
    "      f'var of discrepancy: {land_var}\\n')\n",
    "\n",
    "lake_mean = np.round(np.mean(dft['r'][dft['TermType'] == 'Marine']),3)\n",
    "lake_var = np.round(np.var(dft['r'][dft['TermType'] == 'Marine']),3)\n",
    "print(f'mean discrepancy of marine terminating glaciers: {lake_mean}\\n'\n",
    "      f'var of discrepancy: {lake_var}\\n')\n",
    "\n",
    "shelf_mean = np.round(np.mean(dft['r'][dft['TermType'] == 'Shelf']),3)\n",
    "shelf_var = np.round(np.var(dft['r'][dft['TermType'] == 'Shelf']),3)\n",
    "print(f'mean discrepancy of shelf terminating glaciers: {shelf_mean}\\n'\n",
    "      f'var of discrepancy: {shelf_var}\\n')"
   ]
  },
  {
   "cell_type": "code",
   "execution_count": null,
   "id": "873a45c5",
   "metadata": {},
   "outputs": [],
   "source": [
    "dft = df[df['region'] == '09']\n",
    "dft['Form'][dft['Form'] == 0] = 'Glacier'\n",
    "dft['Form'][dft['Form'] == 1] = 'Ice Cap'\n",
    "plt.scatter(dft['Form'],dft['r'])\n",
    "plt.ylabel('Discrepancy W/ Farinotti (km$^3$)')\n",
    "plt.xlabel('Glacier Terminations')\n",
    "plt.title('Russian Arctic Glaciers')\n",
    "plt.show()\n",
    "\n",
    "land_mean = np.round(np.mean(dft['r'][dft['Form'] == 'Glacier']),3)\n",
    "land_var = np.round(np.var(dft['r'][dft['Form'] == 'Glacier']),3)\n",
    "print(f'mean discrepancy of glaciers: {land_mean}\\n'\n",
    "      f'var of discrepancy: {land_var}\\n')\n",
    "\n",
    "lake_mean = np.round(np.mean(dft['r'][dft['Form'] == 'Ice Cap']),3)\n",
    "lake_var = np.round(np.var(dft['r'][dft['Form'] == 'Ice Cap']),3)\n",
    "print(f'mean discrepancy of ice caps: {lake_mean}\\n'\n",
    "      f'var of discrepancy: {lake_var}\\n')\n"
   ]
  },
  {
   "cell_type": "code",
   "execution_count": null,
   "id": "cab57833",
   "metadata": {},
   "outputs": [],
   "source": [
    "dft = df[df['region'] == '09']\n",
    "dfg = dft[dft['Form'] == 'Glacier']\n",
    "dfc = dft[dft['Form'] == 'Ice Cap']\n",
    "\n",
    "plt.scatter(dfg['TermType'],dfg['r'],label = 'Glacier',alpha = 0.5)\n",
    "plt.scatter(dfc['TermType'],dfc['r'],label = 'Ice Cap',alpha = 0.5)\n",
    "plt.legend(loc = 'lower right')\n",
    "plt.ylabel('Discrepancy W/ Farinotti (km$^3$)')\n",
    "plt.xlabel('Glacier Terminations')\n",
    "plt.title('Russian Arctic Glaciers')"
   ]
  },
  {
   "cell_type": "code",
   "execution_count": null,
   "id": "fe921ec1",
   "metadata": {},
   "outputs": [],
   "source": [
    "glacier_values.min()"
   ]
  },
  {
   "cell_type": "code",
   "execution_count": null,
   "id": "0c91f73e",
   "metadata": {},
   "outputs": [],
   "source": [
    "glacier_values"
   ]
  },
  {
   "cell_type": "code",
   "execution_count": null,
   "id": "c28ea654",
   "metadata": {},
   "outputs": [],
   "source": [
    "df"
   ]
  },
  {
   "cell_type": "code",
   "execution_count": 5,
   "id": "17f5c7d6",
   "metadata": {},
   "outputs": [],
   "source": [
    "dfg = df[df['Form'] == 'Glacier']\n",
    "dfc = df[df['Form'] == 'Ice Cap']"
   ]
  },
  {
   "cell_type": "code",
   "execution_count": 6,
   "id": "64c61c51",
   "metadata": {},
   "outputs": [
    {
     "name": "stderr",
     "output_type": "stream",
     "text": [
      "\n",
      "KeyboardInterrupt\n",
      "\n"
     ]
    },
    {
     "name": "stdout",
     "output_type": "stream",
     "text": [
      "Error in callback <function _draw_all_if_interactive at 0x7f2b79709f70> (for post_execute):\n"
     ]
    },
    {
     "name": "stderr",
     "output_type": "stream",
     "text": [
      "\n",
      "KeyboardInterrupt\n",
      "\n"
     ]
    },
    {
     "name": "stdout",
     "output_type": "stream",
     "text": [
      "Error in callback <function flush_figures at 0x7f2b71d1aee0> (for post_execute):\n"
     ]
    },
    {
     "name": "stderr",
     "output_type": "stream",
     "text": [
      "\n",
      "KeyboardInterrupt\n",
      "\n"
     ]
    }
   ],
   "source": [
    "import matplotlib.pyplot as plt\n",
    "import numpy as np\n",
    "\n",
    "# Sample data\n",
    "termination_categories1 = dfg['TermType']\n",
    "termination_categories2 = dfc['TermType']\n",
    "glacier_values = dfg['r']  # Values for glaciers for each termination\n",
    "ice_cap_values = dfc['r']  # Values for ice caps for each termination\n",
    "\n",
    "# Scatter plot positions for better visualization\n",
    "position_offset = 0.2\n",
    "\n",
    "# Plotting glaciers\n",
    "plt.scatter(\n",
    "    np.arange(len(termination_categories1)) - position_offset / 2, \n",
    "    glacier_values, color='blue', label='Glacier', marker='o',\n",
    "#     zorder=2\n",
    ")\n",
    "\n",
    "# Plotting ice caps\n",
    "plt.scatter(\n",
    "    np.arange(len(termination_categories2)) + position_offset / 2, \n",
    "    ice_cap_values, color='orange', label='Ice Cap', marker='o', \n",
    "#     zorder=2\n",
    ")\n",
    "\n",
    "# Customizing x-axis ticks\n",
    "plt.xticks(range(len(termination_categories1)), termination_categories1)\n",
    "plt.xlabel('Termination')\n",
    "\n",
    "# Labels and legend\n",
    "plt.ylabel('Discrepancy W/ Farinotti')\n",
    "plt.title('Discrepancy of Glaciers and Ice Caps by Termination')\n",
    "plt.legend()\n",
    "\n",
    "# Adding minor ticks between major ticks\n",
    "minor_ticks = np.arange(-0.5, len(termination_categories1) - 0.5, 1)\n",
    "plt.gca().xaxis.set_minor_locator(plt.FixedLocator(minor_ticks))\n",
    "\n",
    "# Adjusting x-axis limits for better visualization\n",
    "plt.xlim(-0.5, len(termination_categories1) - 0.5)\n",
    "\n",
    "# Show plot\n",
    "plt.grid(True, which='both', linestyle='--', alpha=0.7, zorder=1)  # Add grid for better visualization\n",
    "plt.tight_layout()  # Adjust layout to prevent overlapping labels\n",
    "plt.show()"
   ]
  },
  {
   "cell_type": "code",
   "execution_count": null,
   "id": "50d1ca9a",
   "metadata": {},
   "outputs": [],
   "source": []
  },
  {
   "cell_type": "markdown",
   "id": "94c09fb4",
   "metadata": {},
   "source": [
    "#### We lost $13.806 \\times 10^3 \\text{km}^3$ of ice when comparing to Farinotti, $\\approx 10\\%$ decrease\n",
    "#### Our uncertainty also decreased by $\\approx 7\\%$ from 2.445 to 2.266 $\\times 10^3 \\text{km}^3$ of ice\n",
    "#### How do the discrepancies between this study and Farinotti stack up?\n"
   ]
  },
  {
   "cell_type": "code",
   "execution_count": null,
   "id": "45a8c80d",
   "metadata": {},
   "outputs": [],
   "source": [
    "#### TOTAL DIFFERENCE IN GLOBAL VOLUMES ####\n",
    "t = (\n",
    "    np.sum(np.mean(df[cols],axis = 1) * df['Area']) - np.sum(df['FMT'] / 1e3 * df['Area'])\n",
    ") / 1e3\n",
    "print(t)"
   ]
  },
  {
   "cell_type": "markdown",
   "id": "b4fea5af",
   "metadata": {},
   "source": [
    "#### We are looking fo $\\approx 28 \\times 10^3 \\text{km}^3$"
   ]
  },
  {
   "cell_type": "code",
   "execution_count": null,
   "id": "d3d62fa3",
   "metadata": {},
   "outputs": [],
   "source": [
    "running_sum = np.cumsum(\n",
    "    df['r'].sort_values(ascending = False).reset_index().drop('index',axis = 1)\n",
    ")\n",
    "running_sum.index = range(1, len(running_sum) + 1)\n",
    "\n",
    "plt.plot(running_sum)\n",
    "plt.minorticks_on()\n",
    "plt.grid(which = 'both')\n",
    "plt.xlabel('Glacier Index')\n",
    "plt.ylabel('Difference of Volume')\n",
    "plt.title('Cumulative Sum Difference of Volumes')"
   ]
  },
  {
   "cell_type": "markdown",
   "id": "a60e7e1b",
   "metadata": {},
   "source": [
    "#### Okay, so we have a handful of large positive and large negative discrepancies. \n",
    "#### What do they look like close up?"
   ]
  },
  {
   "cell_type": "code",
   "execution_count": null,
   "id": "b5b8866d",
   "metadata": {},
   "outputs": [],
   "source": [
    "running_sum1 = np.cumsum(\n",
    "    df['r'].sort_values(ascending = False).reset_index().drop('index',axis = 1)\n",
    ")\n",
    "running_sum1.index = range(1, len(running_sum1) + 1)\n",
    "\n",
    "plt.plot(running_sum1[0:100])\n",
    "plt.minorticks_on()\n",
    "plt.grid(which = 'both')\n",
    "# plt.xscale('log')\n",
    "plt.xlabel('Glacier Index')\n",
    "plt.ylabel('Difference of Volume (km$^3$)')\n",
    "plt.title('Cumulative Sum Difference of Volumes')\n",
    "plt.show()"
   ]
  },
  {
   "cell_type": "code",
   "execution_count": null,
   "id": "f311ead9",
   "metadata": {},
   "outputs": [],
   "source": [
    "running_sum2 = np.cumsum(\n",
    "    df['r'].sort_values(ascending = True).reset_index().drop('index',axis = 1)\n",
    ")\n",
    "running_sum2.index = range(1, len(running_sum2) + 1)\n",
    "# plt.plot(running_sum1[0:500],label = 'Positive Differences')\n",
    "\n",
    "plt.plot(running_sum2[0:500],label = 'Negative Differences')\n",
    "plt.minorticks_on()\n",
    "plt.grid(which = 'both')\n",
    "# plt.xscale('log')\n",
    "# plt.legend()\n",
    "plt.xlabel('Glacier Index')\n",
    "plt.ylabel('Difference of Volume (km$^3$)')\n",
    "plt.title('Cumulative Sum Difference of Volumes')"
   ]
  },
  {
   "cell_type": "code",
   "execution_count": null,
   "id": "2fd9058b",
   "metadata": {},
   "outputs": [],
   "source": [
    "running_sum2 = np.cumsum(\n",
    "    df['r'].sort_values(ascending = True).reset_index().drop('index',axis = 1)\n",
    ")\n",
    "running_sum2.index = range(1, len(running_sum2) + 1)\n",
    "plt.plot(running_sum1[0:500],label = 'Positive Differences')\n",
    "\n",
    "plt.plot(running_sum2[0:500],label = 'Negative Differences')\n",
    "plt.minorticks_on()\n",
    "# plt.grid(which = 'both')\n",
    "# plt.xscale('log')\n",
    "plt.legend()\n",
    "plt.xlabel('Glacier Index')\n",
    "plt.ylabel('Difference of Volume (km$^3$)')\n",
    "plt.title('Cumulative Sum Difference of Volumes')"
   ]
  },
  {
   "cell_type": "markdown",
   "id": "53295e88",
   "metadata": {},
   "source": [
    "#### What percentage of the global glacier volume discrepancy can be accounted for with these glaciers?"
   ]
  },
  {
   "cell_type": "code",
   "execution_count": null,
   "id": "2223b9e0",
   "metadata": {},
   "outputs": [],
   "source": [
    "df1 = df.sort_values('r', ascending=True)\n",
    "df2 = df.sort_values('r', ascending=True)"
   ]
  },
  {
   "cell_type": "code",
   "execution_count": null,
   "id": "4288e7ac",
   "metadata": {
    "scrolled": true
   },
   "outputs": [],
   "source": [
    "counts = []\n",
    "percs = []\n",
    "n = 0\n",
    "for i in tqdm(range(10,540,10)):\n",
    "#     print(i)\n",
    "    n =+ i\n",
    "#     print(n*2)\n",
    "\n",
    "    percent_of_df = np.round((n*2) / len(df) * 100,4)\n",
    "#     print(f'Percent of global glaciers considered = {percent_of_df}')\n",
    "\n",
    "    neg = (np.sum(df1['r'].head(n)) / 1e3)\n",
    "#     print(neg)\n",
    "\n",
    "    pos = (np.sum(df2['r'].tail(n)) / 1e3)\n",
    "    d = abs(pos + neg) / (-t) * 100\n",
    "    percs.append(d)\n",
    "    counts.append(percent_of_df)\n",
    "#     print(f'Volume Difference contained = {d}')\n",
    "#     print('')"
   ]
  },
  {
   "cell_type": "code",
   "execution_count": null,
   "id": "04632e04",
   "metadata": {},
   "outputs": [],
   "source": [
    "plt.plot(counts,percs)\n",
    "plt.xlabel('Percent of RGI')\n",
    "plt.ylabel('Percent of Global Volume Discrepancy')\n",
    "plt.minorticks_on()\n",
    "plt.grid(which = 'both')"
   ]
  },
  {
   "cell_type": "code",
   "execution_count": null,
   "id": "20ef97f8",
   "metadata": {},
   "outputs": [],
   "source": [
    "RGI = gl.load_RGI()\n",
    "\n",
    "fig, axes = plt.subplots(nrows=2, ncols=1, figsize=(20, 20))\n",
    "\n",
    "ax1 = axes[0]\n",
    "m1 = Basemap(projection='cyl', ax=ax1, resolution='c')\n",
    "m1.scatter(RGI['CenLon'], RGI['CenLat'], c='blue', alpha=0.5, label='RGI Outline')\n",
    "\n",
    "m1.scatter(df1['CenLon'].head(500), df1['CenLat'].head(500), c='red', alpha=1, label='Largest Negative Differences')\n",
    "m1.drawcoastlines()\n",
    "ax1.legend(bbox_to_anchor=(0.25, 0.56), facecolor='w', framealpha=1, fontsize=15)\n",
    "\n",
    "ax2 = axes[1]\n",
    "m2 = Basemap(projection='cyl', ax=ax2, resolution='c')\n",
    "m2.scatter(RGI['CenLon'], RGI['CenLat'], c='blue', alpha=0.5, label='RGI Outline')\n",
    "\n",
    "m2.scatter(df2['CenLon'].tail(500), df2['CenLat'].tail(500), c='orange', alpha=1, label='Largest Positive Differences')\n",
    "m2.drawcoastlines()\n",
    "ax2.legend(bbox_to_anchor=(0.25, 0.56), facecolor='w', framealpha=1, fontsize=15)\n",
    "\n",
    "plt.show()"
   ]
  },
  {
   "cell_type": "code",
   "execution_count": null,
   "id": "b3a6bf73",
   "metadata": {},
   "outputs": [],
   "source": [
    "neg_100 = df1.head(100)\n",
    "pos_100 = df1.tail(100)"
   ]
  },
  {
   "cell_type": "code",
   "execution_count": null,
   "id": "c6aa584e",
   "metadata": {},
   "outputs": [],
   "source": [
    "g = gl.coregister_data('4')\n",
    "\n",
    "g = g.drop(g[g['RGIId'].duplicated(keep = False)].index)\n",
    "g = g.sample(frac = 1,random_state = 0)\n",
    "g = g.reset_index().drop('index', axis = 1)\n",
    "g['region'] = g['RGIId'].str[6:8]"
   ]
  },
  {
   "cell_type": "code",
   "execution_count": null,
   "id": "69541b71",
   "metadata": {},
   "outputs": [],
   "source": [
    "for i in neg_100['region'].sort_values().unique():\n",
    "    negs = neg_100[neg_100['region'] == i]\n",
    "    category_to_count = i\n",
    "    n = (neg_100['region'] == category_to_count).sum()\n",
    "    \n",
    "    category_to_count2 = 5\n",
    "    m = (negs['TermType'] == category_to_count2).sum()\n",
    "    \n",
    "    category_to_count2 = 1\n",
    "    l = (negs['Form'] == category_to_count2).sum()\n",
    "    \n",
    "    search_list = np.ndarray.tolist(negs['RGIId'].values)\n",
    "    pattern = '|'.join(search_list)\n",
    "    gs = g[g['RGIId'].str.contains(pattern)]\n",
    "    o = g['RGIId'].str.contains(pattern).sum()   \n",
    "    print(\n",
    "        f'RGI Region {i} has {n} / 500 most negative discrepant glaciers,\\n'\n",
    "        f'{m} of which are shelf supported,\\n'\n",
    "        f'{l} of which are ice caps,\\n'\n",
    "        f'{o} of which are in training data.'\n",
    "    )\n",
    "    if o != 0:\n",
    "        \n",
    "    \n",
    "        category_to_count3 = 5\n",
    "        category_to_count4 = 1\n",
    "        p = (gs['TermType'] == category_to_count3).sum()\n",
    "        q = (gs['Form'] == category_to_count4).sum()   \n",
    "        print(\n",
    "            f'Of the glaciers contained in training data, '\n",
    "            f'{p} are shelf supported and {q} are ice caps'\n",
    "        )\n",
    "        problem_train_glacs = gs['Name'].values\n",
    "        problem_train_glacs_id = gs['RGIId'].values\n",
    "        print(f'These glaciers are {problem_train_glacs}')\n",
    "        print(f'RGIId: {problem_train_glacs_id}')\n",
    "    print('')"
   ]
  },
  {
   "cell_type": "code",
   "execution_count": null,
   "id": "b367cff2",
   "metadata": {},
   "outputs": [],
   "source": [
    "g"
   ]
  },
  {
   "cell_type": "code",
   "execution_count": null,
   "id": "321a64d4",
   "metadata": {},
   "outputs": [],
   "source": [
    "plt.scatter(g['Area'],g['Area']*(g['Thickness']/1e3))\n",
    "plt.xscale('log')\n",
    "plt.yscale('log')"
   ]
  },
  {
   "cell_type": "code",
   "execution_count": null,
   "id": "9179a697",
   "metadata": {},
   "outputs": [],
   "source": [
    "sum(df['r'][df['TermType'] == 5]) / 1e3"
   ]
  },
  {
   "cell_type": "code",
   "execution_count": null,
   "id": "5e7da92d",
   "metadata": {
    "scrolled": true
   },
   "outputs": [],
   "source": [
    "len(g[g['TermType'] == 1])"
   ]
  },
  {
   "cell_type": "code",
   "execution_count": null,
   "id": "e8add3cd",
   "metadata": {},
   "outputs": [],
   "source": [
    "dfr0 = (df[(df['TermType'] == 1) & (df['Form'] == 1)])\n",
    "dfr1 = (df[(df['TermType'] == 5) & (df['Form'] == 1)])"
   ]
  },
  {
   "cell_type": "code",
   "execution_count": null,
   "id": "ff4d06a0",
   "metadata": {},
   "outputs": [],
   "source": [
    "dfr0 = (df[\n",
    "    (df['TermType'] == 1) & \n",
    "#     (df['Form'] == 0) & \n",
    "    (df['region'] == '07')\n",
    "])\n",
    "dfr0 = (df[\n",
    "    (df['TermType'] == 5) & \n",
    "#     (df['Form'] == 0) & \n",
    "    (df['region'] == '07')\n",
    "])\n"
   ]
  },
  {
   "cell_type": "code",
   "execution_count": null,
   "id": "eaecbc41",
   "metadata": {},
   "outputs": [],
   "source": [
    "# plt.scatter(dfr0['Area'],-dfr0['r'])\n",
    "plt.scatter(dfr0['Area'],dfr0['r'])\n",
    "plt.xscale('log')\n",
    "plt.yscale('log')"
   ]
  },
  {
   "cell_type": "code",
   "execution_count": null,
   "id": "50a7d889",
   "metadata": {},
   "outputs": [],
   "source": [
    "plt.scatter(dfr1['Area'],-dfr1['r'])\n",
    "\n",
    "plt.scatter(dfr1['Area'],dfr1['r'])\n",
    "plt.xscale('log')\n",
    "plt.yscale('log')"
   ]
  },
  {
   "cell_type": "code",
   "execution_count": null,
   "id": "b33de39f",
   "metadata": {},
   "outputs": [],
   "source": [
    "dfr1"
   ]
  },
  {
   "cell_type": "code",
   "execution_count": null,
   "id": "d0638b12",
   "metadata": {},
   "outputs": [],
   "source": [
    "(df['r'][(df['TermType'] == 1) & (df['region'] == '05')])"
   ]
  },
  {
   "cell_type": "code",
   "execution_count": null,
   "id": "cd6a3d92",
   "metadata": {},
   "outputs": [],
   "source": [
    "(df['r'][(df['TermType'] == 0) & (df['region'] == '05')])"
   ]
  },
  {
   "cell_type": "code",
   "execution_count": null,
   "id": "16a80ea2",
   "metadata": {},
   "outputs": [],
   "source": []
  },
  {
   "cell_type": "code",
   "execution_count": null,
   "id": "3953a91b",
   "metadata": {},
   "outputs": [],
   "source": []
  },
  {
   "cell_type": "code",
   "execution_count": null,
   "id": "36384614",
   "metadata": {},
   "outputs": [],
   "source": [
    "for i in pos_100['region'].sort_values().unique():\n",
    "    poss = pos_100[pos_100['region'] == i]\n",
    "    category_to_count = i\n",
    "    n = (pos_100['region'] == category_to_count).sum()\n",
    "    \n",
    "    category_to_count2 = 5\n",
    "    m = (poss['TermType'] == category_to_count2).sum()\n",
    "    \n",
    "    category_to_count2 = 1\n",
    "    l = (poss['Form'] == category_to_count2).sum()\n",
    "    \n",
    "    search_list = np.ndarray.tolist(poss['RGIId'].values)\n",
    "    pattern = '|'.join(search_list)\n",
    "    gs = g[g['RGIId'].str.contains(pattern)]\n",
    "    o = g['RGIId'].str.contains(pattern).sum()   \n",
    "    print(\n",
    "        f'RGI Region {i} has {n} / 500 most positive discrepant glaciers,\\n'\n",
    "        f'{m} of which are shelf supported,\\n'\n",
    "        f'{l} of which are ice caps,\\n'\n",
    "        f'{o} of which are in training data.'\n",
    "    )\n",
    "    if o != 0:\n",
    "        \n",
    "    \n",
    "        category_to_count3 = 5\n",
    "        category_to_count4 = 1\n",
    "        p = (gs['TermType'] == category_to_count3).sum()\n",
    "        q = (gs['Form'] == category_to_count4).sum()   \n",
    "        print(\n",
    "            f'Of the glaciers contained in training data, '\n",
    "            f'{p} are shelf supported and {q} are ice caps'\n",
    "        )\n",
    "        problem_train_glacs = gs['Name'].values\n",
    "        problem_train_glacs_id = gs['RGIId'].values\n",
    "        print(f'These glaciers are {problem_train_glacs}')\n",
    "        print(f'RGIId: {problem_train_glacs_id}')\n",
    "    print('')"
   ]
  },
  {
   "cell_type": "code",
   "execution_count": null,
   "id": "1bea78cb",
   "metadata": {},
   "outputs": [],
   "source": [
    "barnes = df[df['RGIId'] == 'RGI60-04.06187']\n",
    "windy = df[df['RGIId'] == 'RGI60-09.00807']"
   ]
  },
  {
   "cell_type": "code",
   "execution_count": null,
   "id": "7b8181fc",
   "metadata": {},
   "outputs": [],
   "source": [
    "windy"
   ]
  },
  {
   "cell_type": "code",
   "execution_count": null,
   "id": "fe30a57c",
   "metadata": {},
   "outputs": [],
   "source": [
    "df1.head(100)[df1['region'] == '03'][['CenLat','CenLon','Name']]"
   ]
  },
  {
   "cell_type": "code",
   "execution_count": null,
   "id": "77641c7c",
   "metadata": {},
   "outputs": [],
   "source": [
    "df1.head(100)[df1['region'] == '04'][['CenLat','CenLon','Name']]"
   ]
  },
  {
   "cell_type": "code",
   "execution_count": null,
   "id": "c8f78050",
   "metadata": {},
   "outputs": [],
   "source": [
    "df1.head(100)[df1['region'] == '05'][['CenLat','CenLon','Name']]"
   ]
  },
  {
   "cell_type": "code",
   "execution_count": null,
   "id": "09855608",
   "metadata": {},
   "outputs": [],
   "source": [
    "df1.head(100)[df1['region'] == '06'][['CenLat','CenLon','Name']]"
   ]
  },
  {
   "cell_type": "code",
   "execution_count": null,
   "id": "6095cfc9",
   "metadata": {},
   "outputs": [],
   "source": [
    "df1.head(100)[df1['region'] == '07'][['CenLat','CenLon','Name']]"
   ]
  },
  {
   "cell_type": "code",
   "execution_count": null,
   "id": "de61d3ae",
   "metadata": {},
   "outputs": [],
   "source": [
    "(df1.head(100)[df1['region'] == '09'][['CenLat','CenLon','Name']])"
   ]
  },
  {
   "cell_type": "code",
   "execution_count": null,
   "id": "a550ac8c",
   "metadata": {},
   "outputs": [],
   "source": [
    "antarctic_discrepant_index = df1.head(100)[df1['region'] == '19'][['CenLat','CenLon','Name']].index"
   ]
  },
  {
   "cell_type": "code",
   "execution_count": null,
   "id": "8a78756a",
   "metadata": {},
   "outputs": [],
   "source": [
    "df = pd.read_pickle('/data/fast1/glacierml/data/final_df.pkl')\n",
    "df = df.drop(antarctic_discrepant_index)"
   ]
  },
  {
   "cell_type": "code",
   "execution_count": null,
   "id": "ba2ce4fd",
   "metadata": {},
   "outputs": [],
   "source": [
    "# df = pd.read_pickle('/data/fast1/glacierml/data/final_df.pkl')\n",
    "E_A = df['Area']\n",
    "E_H = np.mean(df[cols],axis = 1)\n",
    "si = df['sig_k_ind'] # = (Var(H)*Var(A) + A^2Var(H) + H^2Var(A))\n",
    "\n",
    "sp = np.sum(si)\n",
    "\n",
    "se = np.sqrt(sp)\n",
    "\n",
    "Z = (1.96)\n",
    "Vlb = np.round( (np.sum(E_H * E_A) - (Z*se)) , 0) / 1e3\n",
    "Vub = np.round( (np.sum(E_H * E_A) + (Z*se)) , 0) / 1e3\n",
    "\n",
    "print(f'[{Vlb},{Vub}]  * 10^3 km^3')\n",
    "\n",
    "print(f'Mid CI: {np.round((Vub + Vlb) / 2,3)} * 10^3 km^3')\n",
    "\n",
    "print(f'CI Half Width: {np.round((Vub - Vlb) / 2,3)} * 10^3 km^3')"
   ]
  },
  {
   "cell_type": "code",
   "execution_count": null,
   "id": "028b79bd",
   "metadata": {},
   "outputs": [],
   "source": [
    "gf = g[g['Form'] == 1]"
   ]
  },
  {
   "cell_type": "code",
   "execution_count": null,
   "id": "65d798ba",
   "metadata": {},
   "outputs": [],
   "source": [
    "g"
   ]
  },
  {
   "cell_type": "code",
   "execution_count": null,
   "id": "16424e68",
   "metadata": {},
   "outputs": [],
   "source": [
    "plt.scatter(g['Area'],g['Thickness'])"
   ]
  },
  {
   "cell_type": "code",
   "execution_count": null,
   "id": "a1c608cd",
   "metadata": {},
   "outputs": [],
   "source": [
    "RGI = gl.load_RGI()\n",
    "\n",
    "fig,ax = plt.subplots(nrows=1, ncols=1, figsize=(20, 20))\n",
    "\n",
    "# ax1 = axes[0]\n",
    "m1 = Basemap(projection='cyl', ax=ax, resolution='c')\n",
    "m1.scatter(RGI['CenLon'], RGI['CenLat'], c='blue', alpha=0.5, label='RGI Outline')\n",
    "m1.scatter(g['CenLon'], g['CenLat'], c='red', alpha=0.5, label='RGI Outline')\n",
    "\n",
    "m1.scatter(gf['CenLon'], gf['CenLat'], c='orange', alpha=1, label='Largest Negative Differences')\n",
    "m1.drawcoastlines()\n",
    "ax1.legend(bbox_to_anchor=(0.25, 0.56), facecolor='w', framealpha=1, fontsize=15)\n",
    "\n",
    "# ax2 = axes[1]\n",
    "# m2 = Basemap(projection='cyl', ax=ax2, resolution='c')\n",
    "# m2.scatter(RGI['CenLon'], RGI['CenLat'], c='blue', alpha=0.5, label='RGI Outline')\n",
    "\n",
    "# m2.scatter(df2['CenLon'].tail(500), df2['CenLat'].tail(500), c='orange', alpha=1, label='Largest Positive Differences')\n",
    "# m2.drawcoastlines()\n",
    "# ax2.legend(bbox_to_anchor=(0.25, 0.56), facecolor='w', framealpha=1, fontsize=15)\n",
    "\n",
    "plt.show()"
   ]
  },
  {
   "cell_type": "code",
   "execution_count": null,
   "id": "9ec74263",
   "metadata": {},
   "outputs": [],
   "source": []
  },
  {
   "cell_type": "code",
   "execution_count": null,
   "id": "e8672277",
   "metadata": {},
   "outputs": [],
   "source": []
  },
  {
   "cell_type": "code",
   "execution_count": null,
   "id": "8e5c1ad6",
   "metadata": {},
   "outputs": [],
   "source": []
  },
  {
   "cell_type": "code",
   "execution_count": null,
   "id": "eef3b933",
   "metadata": {},
   "outputs": [],
   "source": []
  },
  {
   "cell_type": "code",
   "execution_count": null,
   "id": "a37c6232",
   "metadata": {},
   "outputs": [],
   "source": []
  },
  {
   "cell_type": "code",
   "execution_count": null,
   "id": "74a89d9b",
   "metadata": {},
   "outputs": [],
   "source": []
  },
  {
   "cell_type": "code",
   "execution_count": null,
   "id": "f94be78e",
   "metadata": {},
   "outputs": [],
   "source": []
  },
  {
   "cell_type": "code",
   "execution_count": null,
   "id": "8e92838a",
   "metadata": {},
   "outputs": [],
   "source": []
  },
  {
   "cell_type": "code",
   "execution_count": null,
   "id": "9f11fe71",
   "metadata": {},
   "outputs": [],
   "source": []
  },
  {
   "cell_type": "code",
   "execution_count": null,
   "id": "24941219",
   "metadata": {},
   "outputs": [],
   "source": [
    "df['Status'].unique()"
   ]
  },
  {
   "cell_type": "code",
   "execution_count": null,
   "id": "2bb6e504",
   "metadata": {},
   "outputs": [],
   "source": [
    "g['Form'].unique()"
   ]
  },
  {
   "cell_type": "code",
   "execution_count": null,
   "id": "4c4c7d20",
   "metadata": {},
   "outputs": [],
   "source": []
  },
  {
   "cell_type": "code",
   "execution_count": null,
   "id": "2d04ccf0",
   "metadata": {},
   "outputs": [],
   "source": [
    "len(df[df['Form'] == 0])"
   ]
  },
  {
   "cell_type": "code",
   "execution_count": null,
   "id": "d2ea2868",
   "metadata": {},
   "outputs": [],
   "source": [
    "len(df[df['Form'] == 0]) / len(df) * 100"
   ]
  },
  {
   "cell_type": "code",
   "execution_count": null,
   "id": "d88e3069",
   "metadata": {},
   "outputs": [],
   "source": [
    "len(df[df['Form'] == 1]) / len(df) * 100"
   ]
  },
  {
   "cell_type": "code",
   "execution_count": null,
   "id": "1262e916",
   "metadata": {},
   "outputs": [],
   "source": [
    "len(g[g['Form'] == 0]) / len(g) * 100"
   ]
  },
  {
   "cell_type": "code",
   "execution_count": null,
   "id": "7fbc6c31",
   "metadata": {},
   "outputs": [],
   "source": [
    "len(g[g['Form'] == 1]) / len(g) * 100"
   ]
  },
  {
   "cell_type": "code",
   "execution_count": null,
   "id": "bc83f117",
   "metadata": {},
   "outputs": [],
   "source": [
    "len(g[(g['Form'] == 1) & (g['region'] == '19')]) / len(g) * 100"
   ]
  },
  {
   "cell_type": "code",
   "execution_count": null,
   "id": "795ed2a1",
   "metadata": {},
   "outputs": [],
   "source": [
    "gf.sort_values('RGIId')"
   ]
  },
  {
   "cell_type": "code",
   "execution_count": null,
   "id": "f5543331",
   "metadata": {},
   "outputs": [],
   "source": [
    "RGI"
   ]
  },
  {
   "cell_type": "code",
   "execution_count": null,
   "id": "00cd4569",
   "metadata": {},
   "outputs": [],
   "source": [
    "RGI['region'][RGI['TermType'] == 5].unique()"
   ]
  },
  {
   "cell_type": "code",
   "execution_count": null,
   "id": "b3f1e063",
   "metadata": {},
   "outputs": [],
   "source": [
    "g[g['TermType'] == 5]"
   ]
  },
  {
   "cell_type": "code",
   "execution_count": null,
   "id": "4a6970cc",
   "metadata": {},
   "outputs": [],
   "source": [
    "g[(g['Form'] == 1) & (g['region'] == '04')]"
   ]
  },
  {
   "cell_type": "code",
   "execution_count": null,
   "id": "6634dc5b",
   "metadata": {},
   "outputs": [],
   "source": [
    "g[(g['Form'] == 1) & (g['region'] == '07')]"
   ]
  },
  {
   "cell_type": "code",
   "execution_count": null,
   "id": "69295de9",
   "metadata": {},
   "outputs": [],
   "source": [
    "g[(g['Form'] == 1) & (g['region'] == '09')]"
   ]
  },
  {
   "cell_type": "code",
   "execution_count": null,
   "id": "cc47d8ca",
   "metadata": {},
   "outputs": [],
   "source": [
    "g[(g['Form'] == 1) & (g['region'] == '17')]"
   ]
  },
  {
   "cell_type": "code",
   "execution_count": null,
   "id": "50c6a1b7",
   "metadata": {},
   "outputs": [],
   "source": [
    "g[(g['Form'] == 1) & (g['region'] == '19')]"
   ]
  },
  {
   "cell_type": "code",
   "execution_count": null,
   "id": "c6621fe6",
   "metadata": {},
   "outputs": [],
   "source": [
    "g[g['Form'] == 1]['Area'].sum()"
   ]
  },
  {
   "cell_type": "code",
   "execution_count": null,
   "id": "62347a80",
   "metadata": {},
   "outputs": [],
   "source": [
    "RGI[RGI['Form'] == 1]['Area'].sum()"
   ]
  },
  {
   "cell_type": "code",
   "execution_count": null,
   "id": "e28feb5d",
   "metadata": {},
   "outputs": [],
   "source": [
    "g[g['TermType'] == 5]"
   ]
  },
  {
   "cell_type": "code",
   "execution_count": null,
   "id": "c61397ff",
   "metadata": {},
   "outputs": [],
   "source": [
    "(RGI[RGI['TermType'] == 5])"
   ]
  },
  {
   "cell_type": "code",
   "execution_count": null,
   "id": "d81c002a",
   "metadata": {},
   "outputs": [],
   "source": [
    "RGI = gl.load_RGI()\n",
    "\n",
    "fig, axes = plt.subplots(nrows=2, ncols=1, figsize=(20, 20))\n",
    "\n",
    "ax1 = axes[0]\n",
    "m1 = Basemap(projection='cyl', ax=ax1, resolution='c')\n",
    "m1.scatter(\n",
    "    (RGI[RGI['TermType'] == 5])['CenLon'], (RGI[RGI['TermType'] == 5])['CenLat'], \n",
    "    c='blue', alpha=1,\n",
    "    label='RGI Shelf Terminating Glaciers'\n",
    ")\n",
    "\n",
    "# m1.scatter(df1['CenLon'].head(500), df1['CenLat'].head(500), c='red', alpha=1, label='Largest Negative Differences')\n",
    "m1.drawcoastlines()\n",
    "ax1.legend(bbox_to_anchor=(0.25, 0.56), facecolor='w', framealpha=1, fontsize=15)\n",
    "\n",
    "ax2 = axes[1]\n",
    "m2 = Basemap(projection='cyl', ax=ax2, resolution='c')\n",
    "m2.scatter(\n",
    "    df1['CenLon'].head(100), df1['CenLat'].head(100), \n",
    "    c='red', alpha=1, \n",
    "    label='100 Largest Negative Differences'\n",
    ")\n",
    "\n",
    "# m2.scatter(df2['CenLon'].tail(500), df2['CenLat'].tail(500), c='orange', alpha=1, label='Largest Positive Differences')\n",
    "m2.drawcoastlines()\n",
    "ax2.legend(bbox_to_anchor=(0.25, 0.56), facecolor='w', framealpha=1, fontsize=15)\n",
    "\n",
    "plt.show()"
   ]
  },
  {
   "cell_type": "code",
   "execution_count": null,
   "id": "41ed0dc1",
   "metadata": {},
   "outputs": [],
   "source": [
    "RGI = gl.load_RGI()\n",
    "\n",
    "fig, axes = plt.subplots(nrows=2, ncols=1, figsize=(20, 20))\n",
    "\n",
    "ax1 = axes[0]\n",
    "m1 = Basemap(projection='cyl', ax=ax1, resolution='c')\n",
    "m1.scatter(\n",
    "    (RGI[RGI['Form'] == 1])['CenLon'], (RGI[RGI['Form'] == 1])['CenLat'], \n",
    "    c='blue', alpha=1,\n",
    "    label='RGI Ice Caps'\n",
    ")\n",
    "\n",
    "# m1.scatter(df1['CenLon'].head(500), df1['CenLat'].head(500), c='red', alpha=1, label='Largest Negative Differences')\n",
    "m1.drawcoastlines()\n",
    "ax1.legend(bbox_to_anchor=(0.25, 0.56), facecolor='w', framealpha=1, fontsize=15)\n",
    "\n",
    "ax2 = axes[1]\n",
    "m2 = Basemap(projection='cyl', ax=ax2, resolution='c')\n",
    "m2.scatter(\n",
    "    df1['CenLon'].head(500), df1['CenLat'].head(500), \n",
    "    c='red', alpha=1, \n",
    "    label='100 Largest Negative Differences'\n",
    ")\n",
    "\n",
    "# m2.scatter(df2['CenLon'].tail(500), df2['CenLat'].tail(500), c='orange', alpha=1, label='Largest Positive Differences')\n",
    "m2.drawcoastlines()\n",
    "ax2.legend(bbox_to_anchor=(0.25, 0.56), facecolor='w', framealpha=1, fontsize=15)\n",
    "\n",
    "plt.show()"
   ]
  }
 ],
 "metadata": {
  "kernelspec": {
   "display_name": "Python3.7.11",
   "language": "python",
   "name": "prethicktor"
  },
  "language_info": {
   "codemirror_mode": {
    "name": "ipython",
    "version": 3
   },
   "file_extension": ".py",
   "mimetype": "text/x-python",
   "name": "python",
   "nbconvert_exporter": "python",
   "pygments_lexer": "ipython3",
   "version": "3.7.11"
  },
  "varInspector": {
   "cols": {
    "lenName": 16,
    "lenType": 16,
    "lenVar": 40
   },
   "kernels_config": {
    "python": {
     "delete_cmd_postfix": "",
     "delete_cmd_prefix": "del ",
     "library": "var_list.py",
     "varRefreshCmd": "print(var_dic_list())"
    },
    "r": {
     "delete_cmd_postfix": ") ",
     "delete_cmd_prefix": "rm(",
     "library": "var_list.r",
     "varRefreshCmd": "cat(var_dic_list()) "
    }
   },
   "types_to_exclude": [
    "module",
    "function",
    "builtin_function_or_method",
    "instance",
    "_Feature"
   ],
   "window_display": false
  }
 },
 "nbformat": 4,
 "nbformat_minor": 5
}
