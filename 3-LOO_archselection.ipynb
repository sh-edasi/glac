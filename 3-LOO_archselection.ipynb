{
 "cells": [
  {
   "cell_type": "code",
   "execution_count": null,
   "id": "ce7c09e2",
   "metadata": {},
   "outputs": [],
   "source": [
    "import pandas as pd\n",
    "import os\n",
    "import glacierml as gl\n",
    "from tqdm import tqdm\n",
    "import matplotlib.pyplot as plt"
   ]
  },
  {
   "cell_type": "code",
   "execution_count": null,
   "id": "b038613c",
   "metadata": {},
   "outputs": [],
   "source": [
    "df = gl.coregister_data('4')\n",
    "df = df.iloc[:,:-7]\n",
    "df = df.drop(df[df['RGIId'].duplicated(keep = False)].index)\n",
    "df = df.sample(frac = 1,random_state = 0)\n",
    "df = df.reset_index().drop('index', axis = 1)\n",
    "\n",
    "trfeat, tefeat, trlabs, telabs = gl.split_data(df)"
   ]
  },
  {
   "cell_type": "code",
   "execution_count": null,
   "id": "d0fe5976",
   "metadata": {},
   "outputs": [],
   "source": [
    "home_path = ''\n",
    "\n",
    "arch_test_path = 'arch_testing'\n",
    "\n",
    "path = os.path.join(home_path,arch_test_path)"
   ]
  },
  {
   "cell_type": "code",
   "execution_count": null,
   "id": "fd396495",
   "metadata": {},
   "outputs": [],
   "source": [
    "results = pd.DataFrame(\n",
    "    columns = ['Arch','Metric','Loss']\n",
    ")"
   ]
  },
  {
   "cell_type": "code",
   "execution_count": null,
   "id": "c7c8b478",
   "metadata": {
    "scrolled": false
   },
   "outputs": [],
   "source": [
    "# iterate through mae and mse models\n",
    "for loss_metric in os.listdir(path):\n",
    "    # create a list to append scores\n",
    "    loss = []\n",
    "    architectures = []\n",
    "    params = []\n",
    "    for arch in tqdm(os.listdir(os.path.join(path,loss_metric))):\n",
    "        architectures.append(arch)\n",
    "\n",
    "        model_path = os.path.join(path,loss_metric,arch)\n",
    "        model = gl.load_dnn_model(model_path)\n",
    "        \n",
    "        score = model.evaluate(tefeat,telabs,verbose = 0)\n",
    "        loss.append(score)\n",
    "        \n",
    "        num_params = model.count_params()\n",
    "        params.append(num_params)\n",
    "        \n",
    "    loss = pd.Series(loss,name = 'Loss')\n",
    "    params = pd.Series(params,name = 'Parameters')\n",
    "    architectures = pd.Series(architectures,name = 'Arch')\n",
    "    metric = pd.Series(loss_metric,name = 'Metric',index = loss.index)\n",
    "    res_temp = pd.concat([architectures,metric,loss,params/273],axis = 1)\n",
    "    results = pd.concat([results,res_temp],axis = 0)\n",
    "# results.to_pickle(os.path.join(path, 'results.pkl'))"
   ]
  },
  {
   "cell_type": "code",
   "execution_count": null,
   "id": "3b16c84d",
   "metadata": {},
   "outputs": [],
   "source": [
    "results.to_pickle(os.path.join(path,'results.pkl'))"
   ]
  },
  {
   "cell_type": "code",
   "execution_count": null,
   "id": "c857e1e2",
   "metadata": {},
   "outputs": [],
   "source": [
    "results = pd.read_pickle(os.path.join(path,'results.pkl'))"
   ]
  },
  {
   "cell_type": "code",
   "execution_count": null,
   "id": "9fb57354",
   "metadata": {},
   "outputs": [],
   "source": [
    "mae = results[results['Metric'] == 'mae']\n",
    "mse = results[results['Metric'] == 'mse']"
   ]
  },
  {
   "cell_type": "code",
   "execution_count": null,
   "id": "37d5c410",
   "metadata": {},
   "outputs": [],
   "source": [
    "mse['MSE_Rank'] = mse['Loss'].rank()\n",
    "mae['MAE_Rank'] = mae['Loss'].rank()\n",
    "\n",
    "df_ranked = pd.merge(mse[\n",
    "    ['Arch', 'MSE_Rank','Parameters']\n",
    "], mae[\n",
    "    ['Arch', 'MAE_Rank','Parameters']\n",
    "], on=['Arch','Parameters'])\n",
    "\n",
    "df_ranked['Rank_Difference'] = abs(df_ranked['MSE_Rank'] - df_ranked['MAE_Rank'])\n",
    "min_difference = df_ranked['Rank_Difference'].min()\n",
    "\n",
    "threshold = 5  \n",
    "\n",
    "min_difference_architectures = df_ranked[\n",
    "    df_ranked['Rank_Difference'] <= threshold][\n",
    "    ['Arch', 'Rank_Difference','Parameters']\n",
    "].sort_values('Rank_Difference')\n",
    "\n",
    "print(f'Architectures with a rank difference less than or equal to {threshold}:')\n",
    "print(min_difference_architectures)"
   ]
  },
  {
   "cell_type": "code",
   "execution_count": null,
   "id": "974dda11",
   "metadata": {},
   "outputs": [],
   "source": []
  }
 ],
 "metadata": {
  "kernelspec": {
   "display_name": "Python(3.8.10)",
   "language": "python",
   "name": "new_kernel"
  },
  "language_info": {
   "codemirror_mode": {
    "name": "ipython",
    "version": 3
   },
   "file_extension": ".py",
   "mimetype": "text/x-python",
   "name": "python",
   "nbconvert_exporter": "python",
   "pygments_lexer": "ipython3",
   "version": "3.8.10"
  },
  "varInspector": {
   "cols": {
    "lenName": 16,
    "lenType": 16,
    "lenVar": 40
   },
   "kernels_config": {
    "python": {
     "delete_cmd_postfix": "",
     "delete_cmd_prefix": "del ",
     "library": "var_list.py",
     "varRefreshCmd": "print(var_dic_list())"
    },
    "r": {
     "delete_cmd_postfix": ") ",
     "delete_cmd_prefix": "rm(",
     "library": "var_list.r",
     "varRefreshCmd": "cat(var_dic_list()) "
    }
   },
   "types_to_exclude": [
    "module",
    "function",
    "builtin_function_or_method",
    "instance",
    "_Feature"
   ],
   "window_display": false
  }
 },
 "nbformat": 4,
 "nbformat_minor": 5
}
