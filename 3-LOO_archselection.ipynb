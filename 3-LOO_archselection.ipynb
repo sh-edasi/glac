{
 "cells": [
  {
   "cell_type": "code",
   "execution_count": 1,
   "id": "ce7c09e2",
   "metadata": {},
   "outputs": [
    {
     "name": "stderr",
     "output_type": "stream",
     "text": [
      "2024-04-22 08:28:59.144912: W tensorflow/stream_executor/platform/default/dso_loader.cc:64] Could not load dynamic library 'libcudart.so.11.0'; dlerror: libcudart.so.11.0: cannot open shared object file: No such file or directory\n",
      "2024-04-22 08:28:59.144938: I tensorflow/stream_executor/cuda/cudart_stub.cc:29] Ignore above cudart dlerror if you do not have a GPU set up on your machine.\n"
     ]
    }
   ],
   "source": [
    "import pandas as pd\n",
    "import os\n",
    "import glacierml as gl\n",
    "from tqdm import tqdm\n",
    "import matplotlib.pyplot as plt"
   ]
  },
  {
   "cell_type": "code",
   "execution_count": 2,
   "id": "b58b7455-1c60-4802-bba4-ca2e7e9d1229",
   "metadata": {
    "tags": []
   },
   "outputs": [],
   "source": [
    "home_path = '/home/simonhans/glacierml'\n",
    "[\n",
    "        data_path, RGI_path, glathida_path, \n",
    "        coregistration_testing_path, \n",
    "        arch_test_path, LOO_path\n",
    "] = gl.set_paths(home_path)"
   ]
  },
  {
   "cell_type": "code",
   "execution_count": 3,
   "id": "b038613c",
   "metadata": {},
   "outputs": [],
   "source": [
    "df = gl.coregister_data(data_path,'4')\n",
    "df = df[[\n",
    "    'RGIId','CenLon','CenLat','Area','Zmin','Zmed','Zmax',\n",
    "    'Slope','Aspect','Lmax','Thickness'\n",
    "]]\n",
    "df = df.sample(frac = 1,random_state = 0)\n",
    "df = df.reset_index().drop('index', axis = 1)\n",
    "\n",
    "dft = df.copy()\n",
    "\n",
    "trfeat, tefeat, trlabs, telabs = gl.split_data(df)"
   ]
  },
  {
   "cell_type": "code",
   "execution_count": 4,
   "id": "fd396495",
   "metadata": {},
   "outputs": [],
   "source": [
    "results = pd.DataFrame(\n",
    "    columns = ['Arch','Metric','Loss']\n",
    ")"
   ]
  },
  {
   "cell_type": "code",
   "execution_count": 5,
   "id": "c7c8b478",
   "metadata": {},
   "outputs": [
    {
     "name": "stderr",
     "output_type": "stream",
     "text": [
      "  0%|                                                    | 0/14 [00:00<?, ?it/s]2024-04-22 08:29:01.928353: W tensorflow/stream_executor/platform/default/dso_loader.cc:64] Could not load dynamic library 'libcuda.so.1'; dlerror: libcuda.so.1: cannot open shared object file: No such file or directory\n",
      "2024-04-22 08:29:01.928375: W tensorflow/stream_executor/cuda/cuda_driver.cc:269] failed call to cuInit: UNKNOWN ERROR (303)\n",
      "2024-04-22 08:29:01.928389: I tensorflow/stream_executor/cuda/cuda_diagnostics.cc:156] kernel driver does not appear to be running on this host (sbook): /proc/driver/nvidia/version does not exist\n",
      "2024-04-22 08:29:01.928558: I tensorflow/core/platform/cpu_feature_guard.cc:151] This TensorFlow binary is optimized with oneAPI Deep Neural Network Library (oneDNN) to use the following CPU instructions in performance-critical operations:  AVX2 FMA\n",
      "To enable them in other operations, rebuild TensorFlow with the appropriate compiler flags.\n",
      " 29%|████████████▌                               | 4/14 [00:01<00:03,  3.15it/s]"
     ]
    },
    {
     "name": "stdout",
     "output_type": "stream",
     "text": [
      "WARNING:tensorflow:5 out of the last 13 calls to <function Model.make_test_function.<locals>.test_function at 0x7f5a927ef8c0> triggered tf.function retracing. Tracing is expensive and the excessive number of tracings could be due to (1) creating @tf.function repeatedly in a loop, (2) passing tensors with different shapes, (3) passing Python objects instead of tensors. For (1), please define your @tf.function outside of the loop. For (2), @tf.function has experimental_relax_shapes=True option that relaxes argument shapes that can avoid unnecessary retracing. For (3), please refer to https://www.tensorflow.org/guide/function#controlling_retracing and https://www.tensorflow.org/api_docs/python/tf/function for  more details.\n"
     ]
    },
    {
     "name": "stderr",
     "output_type": "stream",
     "text": [
      " 36%|███████████████▋                            | 5/14 [00:01<00:02,  3.26it/s]"
     ]
    },
    {
     "name": "stdout",
     "output_type": "stream",
     "text": [
      "WARNING:tensorflow:5 out of the last 13 calls to <function Model.make_test_function.<locals>.test_function at 0x7f5a91f5acb0> triggered tf.function retracing. Tracing is expensive and the excessive number of tracings could be due to (1) creating @tf.function repeatedly in a loop, (2) passing tensors with different shapes, (3) passing Python objects instead of tensors. For (1), please define your @tf.function outside of the loop. For (2), @tf.function has experimental_relax_shapes=True option that relaxes argument shapes that can avoid unnecessary retracing. For (3), please refer to https://www.tensorflow.org/guide/function#controlling_retracing and https://www.tensorflow.org/api_docs/python/tf/function for  more details.\n"
     ]
    },
    {
     "name": "stderr",
     "output_type": "stream",
     "text": [
      "100%|███████████████████████████████████████████| 14/14 [00:04<00:00,  3.02it/s]\n",
      "100%|███████████████████████████████████████████| 14/14 [00:04<00:00,  3.06it/s]\n"
     ]
    }
   ],
   "source": [
    "for loss_metric in os.listdir(arch_test_path):\n",
    "    loss = []\n",
    "    architectures = []\n",
    "    params = []\n",
    "    for arch in tqdm(os.listdir(os.path.join(arch_test_path,loss_metric))):\n",
    "        architectures.append(arch)\n",
    "\n",
    "        model_path = os.path.join(arch_test_path,loss_metric,arch)\n",
    "        model = gl.load_dnn_model(model_path)\n",
    "        \n",
    "        score = model.evaluate(tefeat,telabs,verbose = 0)\n",
    "        loss.append(score)\n",
    "        \n",
    "        num_params = model.count_params()\n",
    "        params.append(num_params)\n",
    "        \n",
    "    loss = pd.Series(loss,name = 'Loss')\n",
    "    params = pd.Series(params,name = 'Parameters')\n",
    "    architectures = pd.Series(architectures,name = 'Arch')\n",
    "    metric = pd.Series(loss_metric,name = 'Metric',index = loss.index)\n",
    "    res_temp = pd.concat([architectures,metric,loss,params/273],axis = 1)\n",
    "    results = pd.concat([results,res_temp],axis = 0)"
   ]
  },
  {
   "cell_type": "code",
   "execution_count": 6,
   "id": "3b16c84d",
   "metadata": {},
   "outputs": [],
   "source": [
    "results.to_pickle(os.path.join(arch_test_path,'results.pkl'))"
   ]
  },
  {
   "cell_type": "code",
   "execution_count": 7,
   "id": "c857e1e2",
   "metadata": {},
   "outputs": [],
   "source": [
    "results = pd.read_pickle(os.path.join(arch_test_path,'results.pkl'))"
   ]
  },
  {
   "cell_type": "code",
   "execution_count": 8,
   "id": "9fb57354",
   "metadata": {},
   "outputs": [],
   "source": [
    "mae = results[results['Metric'] == 'mae']\n",
    "mse = results[results['Metric'] == 'mse']"
   ]
  },
  {
   "cell_type": "code",
   "execution_count": 9,
   "id": "37d5c410",
   "metadata": {},
   "outputs": [
    {
     "name": "stdout",
     "output_type": "stream",
     "text": [
      "Architectures with a rank difference less than or equal to 5:\n",
      "   Arch  Rank_Difference  Parameters\n",
      "3   7-5              0.0    0.494505\n",
      "4   7-4              1.0    0.461538\n",
      "9   5-2              1.0    0.307692\n",
      "12  7-2              1.0    0.395604\n",
      "2   6-4              2.0    0.410256\n",
      "8   5-4              2.0    0.358974\n",
      "6   6-3              3.0    0.380952\n",
      "13  7-3              3.0    0.428571\n",
      "0   4-2              4.0    0.263736\n",
      "1   6-2              5.0    0.351648\n"
     ]
    },
    {
     "name": "stderr",
     "output_type": "stream",
     "text": [
      "/home/simonhans/anaconda3/envs/prethicktor/lib/python3.7/site-packages/ipykernel_launcher.py:1: SettingWithCopyWarning: \n",
      "A value is trying to be set on a copy of a slice from a DataFrame.\n",
      "Try using .loc[row_indexer,col_indexer] = value instead\n",
      "\n",
      "See the caveats in the documentation: https://pandas.pydata.org/pandas-docs/stable/user_guide/indexing.html#returning-a-view-versus-a-copy\n",
      "  \"\"\"Entry point for launching an IPython kernel.\n",
      "/home/simonhans/anaconda3/envs/prethicktor/lib/python3.7/site-packages/ipykernel_launcher.py:2: SettingWithCopyWarning: \n",
      "A value is trying to be set on a copy of a slice from a DataFrame.\n",
      "Try using .loc[row_indexer,col_indexer] = value instead\n",
      "\n",
      "See the caveats in the documentation: https://pandas.pydata.org/pandas-docs/stable/user_guide/indexing.html#returning-a-view-versus-a-copy\n",
      "  \n"
     ]
    }
   ],
   "source": [
    "mse['MSE_Rank'] = mse['Loss'].rank()\n",
    "mae['MAE_Rank'] = mae['Loss'].rank()\n",
    "\n",
    "df_ranked = pd.merge(mse[\n",
    "    ['Arch', 'MSE_Rank','Parameters']\n",
    "], mae[\n",
    "    ['Arch', 'MAE_Rank','Parameters']\n",
    "], on=['Arch','Parameters'])\n",
    "\n",
    "df_ranked['Rank_Difference'] = abs(df_ranked['MSE_Rank'] - df_ranked['MAE_Rank'])\n",
    "min_difference = df_ranked['Rank_Difference'].min()\n",
    "\n",
    "threshold = 5  \n",
    "\n",
    "min_difference_architectures = df_ranked[\n",
    "    df_ranked['Rank_Difference'] <= threshold][\n",
    "    ['Arch', 'Rank_Difference','Parameters']\n",
    "].sort_values('Rank_Difference')\n",
    "\n",
    "print(f'Architectures with a rank difference less than or equal to {threshold}:')\n",
    "print(min_difference_architectures)"
   ]
  }
 ],
 "metadata": {
  "kernelspec": {
   "display_name": "Python3.7.11",
   "language": "python",
   "name": "prethicktor"
  },
  "language_info": {
   "codemirror_mode": {
    "name": "ipython",
    "version": 3
   },
   "file_extension": ".py",
   "mimetype": "text/x-python",
   "name": "python",
   "nbconvert_exporter": "python",
   "pygments_lexer": "ipython3",
   "version": "3.7.11"
  },
  "varInspector": {
   "cols": {
    "lenName": 16,
    "lenType": 16,
    "lenVar": 40
   },
   "kernels_config": {
    "python": {
     "delete_cmd_postfix": "",
     "delete_cmd_prefix": "del ",
     "library": "var_list.py",
     "varRefreshCmd": "print(var_dic_list())"
    },
    "r": {
     "delete_cmd_postfix": ") ",
     "delete_cmd_prefix": "rm(",
     "library": "var_list.r",
     "varRefreshCmd": "cat(var_dic_list()) "
    }
   },
   "types_to_exclude": [
    "module",
    "function",
    "builtin_function_or_method",
    "instance",
    "_Feature"
   ],
   "window_display": false
  }
 },
 "nbformat": 4,
 "nbformat_minor": 5
}
