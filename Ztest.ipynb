{
 "cells": [
  {
   "cell_type": "markdown",
   "id": "b4df95ff",
   "metadata": {},
   "source": [
    "The global ice volume is a statistic, that is, a quantity computed from a sample of glaciers. The population is the set of all glaciers on Earth. We try to describe that, but since our effort is empirical it is fundamentally bound to analyze a sample of glaciers, that is, a subset of the total population. \n",
    "\n",
    "We have several hundred thousand glaciers, so the sample statistics are likely to be close to the overall population parameters. For example, the sample mean will likely be close to the population mean.\n",
    "\n",
    "We consider the test statistic ${X = \\sum Y_i}$, where ${X}$ is the sum of the individual glacier volumes ${Y_{i}}$."
   ]
  },
  {
   "cell_type": "code",
   "execution_count": null,
   "id": "ada527e5",
   "metadata": {},
   "outputs": [],
   "source": []
  },
  {
   "cell_type": "code",
   "execution_count": null,
   "id": "9207487e",
   "metadata": {},
   "outputs": [],
   "source": []
  },
  {
   "cell_type": "code",
   "execution_count": null,
   "id": "d3515af4",
   "metadata": {},
   "outputs": [],
   "source": []
  },
  {
   "cell_type": "code",
   "execution_count": null,
   "id": "834ccf83",
   "metadata": {},
   "outputs": [],
   "source": []
  },
  {
   "cell_type": "code",
   "execution_count": null,
   "id": "a8a86121",
   "metadata": {},
   "outputs": [],
   "source": []
  },
  {
   "cell_type": "code",
   "execution_count": null,
   "id": "4a15fb95",
   "metadata": {},
   "outputs": [],
   "source": []
  },
  {
   "cell_type": "markdown",
   "id": "24d317d5",
   "metadata": {},
   "source": [
    "# Variance testing.\n",
    "What do we want to do? We want to determine how different are the means and deviations between the different studies. As I understand this, each study provides a sample of the true (unkown) parent population of the global thicknesses of ice. What we can do is measure the error of the means, and the error between samples, but we cannot compare sample to the population. If we have truly randomly sampled the parent population, then there should be no significant differences among the sample means that we have obtained.\n",
    "\n",
    "This doesn't sound fully right."
   ]
  },
  {
   "cell_type": "code",
   "execution_count": 1,
   "id": "d954307a",
   "metadata": {},
   "outputs": [
    {
     "name": "stdout",
     "output_type": "stream",
     "text": [
      "       Study    Mean    STD  Sample Size\n",
      "0      Edasi  101.48  42.19         3811\n",
      "1  Farinotti  158.17  41.03            5\n",
      "2     Millan  140.80  40.40            1\n"
     ]
    }
   ],
   "source": [
    "# data\n",
    "import pandas as pd\n",
    "df = pd.DataFrame(\n",
    "    {\n",
    "        'Study'       :['Edasi', 'Farinotti', 'Millan'],\n",
    "        'Mean'        :[101.48 , 158.17     , 140.8],\n",
    "        'STD'         :[42.19  , 41.03      , 40.4],\n",
    "        'Sample Size' :[3811   , 5          , 1]\n",
    "    }\n",
    ")\n",
    "print(df)\n",
    "mean_E = df['Mean'].loc[0]\n",
    "mean_F = df['Mean'].loc[1]\n",
    "mean_M = df['Mean'].loc[2]\n",
    "\n",
    "std_E = df['STD'].loc[0]\n",
    "std_F = df['STD'].loc[1]\n",
    "std_M = df['STD'].loc[2]\n",
    "\n",
    "samp_E = df['STD'].loc[0]\n",
    "samp_F = df['STD'].loc[1]\n",
    "samp_M = df['STD'].loc[2]"
   ]
  },
  {
   "cell_type": "markdown",
   "id": "fec96429",
   "metadata": {},
   "source": [
    "# Z Test\n",
    "Comparing two samples directly we can implement a modified Z test.\n",
    "\n",
    "\\begin{equation}\n",
    "    \\text{Z} =  \\frac{ (\\bar{X_1} - \\bar{X_2})} { \\sqrt{ \\sigma_{x_1}^2 + \\sigma_{x_2}^2}}\n",
    "\\end{equation}\n",
    "\n",
    "Where\n",
    "\n",
    "- X<sub>1</sub> is the mean value of sample one\n",
    "\n",
    "- X<sub>2</sub> is the mean value of sample two\n",
    "- σ<sub>X<sub>1</sub></sub> is the standard deviation of sample one divided by the square root of the number of data points\n",
    "- σ<sub>X<sub>2</sub></sub> is the standard deviation of sample two divided by the square root of the number of data points\n"
   ]
  },
  {
   "cell_type": "code",
   "execution_count": 2,
   "id": "9211ec0d",
   "metadata": {},
   "outputs": [
    {
     "name": "stdout",
     "output_type": "stream",
     "text": [
      "Z score for Edasi and Millan -4.326630187654598\n",
      "Z score for Edasi and Farinotti -6.214305522474111\n",
      "Z score for Farinotti and Millan 1.9248974671701997\n"
     ]
    }
   ],
   "source": [
    "# by hand\n",
    "import numpy as np\n",
    "# compare Edasi and Millan\n",
    "Z_EM = (\n",
    "    (mean_E - mean_M) / np.sqrt(\n",
    "        (std_E / np.sqrt(samp_E))**2  + (std_M / np.sqrt(samp_M))**2\n",
    "    )\n",
    ")\n",
    "print(f'Z score for Edasi and Millan {Z_EM}')\n",
    "\n",
    "\n",
    "# compare Edasi and Farinotti\n",
    "Z_EF = (\n",
    "    (mean_E - mean_F) / np.sqrt(\n",
    "        (std_E / np.sqrt(samp_E))**2 + (std_F / np.sqrt(samp_F))**2\n",
    "    )\n",
    ")\n",
    "print(f'Z score for Edasi and Farinotti {Z_EF}')\n",
    "\n",
    "\n",
    "# compare Farinotti and Millan\n",
    "Z_FM = (\n",
    "    (mean_F - mean_M) / np.sqrt(\n",
    "        (std_F / np.sqrt(samp_F))**2 + (std_M / np.sqrt(samp_M))**2\n",
    "    )\n",
    ")\n",
    "print(f'Z score for Farinotti and Millan {Z_FM}')"
   ]
  },
  {
   "cell_type": "markdown",
   "id": "57b1e7f9",
   "metadata": {},
   "source": [
    "# Load the full reference data"
   ]
  },
  {
   "cell_type": "code",
   "execution_count": 3,
   "id": "57960160",
   "metadata": {},
   "outputs": [
    {
     "name": "stdout",
     "output_type": "stream",
     "text": [
      "Global Volume: 101.48, UB: 39.16, LB: 42.34, STD: 42.19\n"
     ]
    }
   ],
   "source": [
    "import glacierml as gl\n",
    "pd.set_option('display.max_columns', None)\n",
    "\n",
    "df, ref = gl.notebook_data_loader()"
   ]
  },
  {
   "cell_type": "markdown",
   "id": "879f9a3d",
   "metadata": {},
   "source": [
    "# Z test by built in functions"
   ]
  },
  {
   "cell_type": "code",
   "execution_count": 4,
   "id": "5d8a2276",
   "metadata": {},
   "outputs": [
    {
     "name": "stdout",
     "output_type": "stream",
     "text": [
      "0.7342542707588735\n",
      "0.4294892992798123\n",
      "0.30476497147906123\n"
     ]
    },
    {
     "data": {
      "text/plain": [
       "(-0.004399919924887662, 0.996489383150345)"
      ]
     },
     "execution_count": 4,
     "metadata": {},
     "output_type": "execute_result"
    }
   ],
   "source": [
    "from statsmodels.stats.weightstats import ztest as ztest\n",
    "# https://www.statsmodels.org/stable/generated/statsmodels.stats.weightstats.ztest.html\n",
    "vol_e = ref['Farinotti Volume']\n",
    "print(vol_e.mean())\n",
    "vol_f = ref['Edasi Volume']\n",
    "print(vol_f.mean())\n",
    "print(vol_e.mean() - vol_f.mean())\n",
    "#perform two sample z-test\n",
    "ztest(vol_e, vol_f, value = 0.305) "
   ]
  },
  {
   "cell_type": "markdown",
   "id": "91e24b77",
   "metadata": {},
   "source": [
    "# Now for some sampling!\n",
    "Let's look at residuals via glacier size and other attributes."
   ]
  },
  {
   "cell_type": "code",
   "execution_count": 5,
   "id": "40084467",
   "metadata": {
    "scrolled": false
   },
   "outputs": [
    {
     "name": "stdout",
     "output_type": "stream",
     "text": [
      "Z test sampling glaciers between 0 and 1: Z = 54.67073295146456\n",
      "Z test sampling glaciers between 1 and 2: Z = -3.1280608502368743\n",
      "Z test sampling glaciers between 2 and 3: Z = -13.399337068332208\n",
      "Z test sampling glaciers between 3 and 4: Z = -13.624747809816519\n",
      "Z test sampling glaciers between 4 and 5: Z = -12.796984514285692\n",
      "Z test sampling glaciers between 5 and 6: Z = -12.210044405029935\n",
      "Z test sampling glaciers between 6 and 7: Z = -10.475664250924797\n",
      "Z test sampling glaciers between 7 and 8: Z = -9.795232212420672\n",
      "Z test sampling glaciers between 8 and 9: Z = -8.385564685500755\n",
      "Z test sampling glaciers between 9 and 10: Z = -8.042903112319195\n",
      "Z test sampling glaciers between 10 and 11: Z = -7.460218936356272\n",
      "Z test sampling glaciers between 11 and 12: Z = -7.582969709699431\n",
      "Z test sampling glaciers between 12 and 13: Z = -9.278927957618947\n",
      "Z test sampling glaciers between 13 and 14: Z = -7.7559807530116815\n",
      "Z test sampling glaciers between 14 and 15: Z = -8.417700984073711\n",
      "Z test sampling glaciers between 15 and 16: Z = -8.74561849770509\n",
      "Z test sampling glaciers between 16 and 17: Z = -7.247202881780382\n",
      "Z test sampling glaciers between 17 and 18: Z = -7.270026296197146\n",
      "Z test sampling glaciers between 18 and 19: Z = -9.422330839299365\n",
      "Z test sampling glaciers between 19 and 20: Z = -7.58843524531446\n",
      "Z test sampling glaciers between 20 and 21: Z = -7.613461655849307\n",
      "Z test sampling glaciers between 21 and 22: Z = -7.926820144339839\n",
      "Z test sampling glaciers between 22 and 23: Z = -8.953036089433935\n",
      "Z test sampling glaciers between 23 and 24: Z = -7.386613082160071\n",
      "Z test sampling glaciers between 24 and 25: Z = -9.44984494979783\n",
      "Z test sampling glaciers between 25 and 26: Z = -8.156484202162346\n",
      "Z test sampling glaciers between 26 and 27: Z = -7.827084184458567\n",
      "Z test sampling glaciers between 27 and 28: Z = -6.670641869744623\n",
      "Z test sampling glaciers between 28 and 29: Z = -5.541860228243398\n",
      "Z test sampling glaciers between 29 and 30: Z = -7.3515799950231155\n",
      "Z test sampling glaciers between 30 and 31: Z = -4.964020956387559\n",
      "Z test sampling glaciers between 31 and 32: Z = -6.283881584361337\n",
      "Z test sampling glaciers between 32 and 33: Z = -6.188700844043909\n",
      "Z test sampling glaciers between 33 and 34: Z = -5.935248001953386\n",
      "Z test sampling glaciers between 34 and 35: Z = -6.735821617115367\n",
      "Z test sampling glaciers between 35 and 36: Z = -7.414126176345573\n",
      "Z test sampling glaciers between 36 and 37: Z = -6.863285545776184\n",
      "Z test sampling glaciers between 37 and 38: Z = -4.8032388616240045\n",
      "Z test sampling glaciers between 38 and 39: Z = -5.0661221708592015\n",
      "Z test sampling glaciers between 39 and 40: Z = -5.863515675195742\n",
      "Z test sampling glaciers between 40 and 41: Z = -4.459711096976893\n",
      "Z test sampling glaciers between 41 and 42: Z = -5.085001257633028\n",
      "Z test sampling glaciers between 42 and 43: Z = -6.898889898205001\n",
      "Z test sampling glaciers between 43 and 44: Z = -4.256251344770294\n",
      "Z test sampling glaciers between 44 and 45: Z = -3.700120590779519\n",
      "Z test sampling glaciers between 45 and 46: Z = -4.021975394898243\n",
      "Z test sampling glaciers between 46 and 47: Z = -7.339897555898921\n",
      "Z test sampling glaciers between 47 and 48: Z = -4.0933988115347395\n",
      "Z test sampling glaciers between 48 and 49: Z = -4.9330552241700705\n",
      "Z test sampling glaciers between 49 and 50: Z = -4.111333707734947\n",
      "Z test sampling glaciers between 50 and 51: Z = -4.720652216315946\n",
      "Z test sampling glaciers between 51 and 52: Z = -5.2795610928483585\n",
      "Z test sampling glaciers between 52 and 53: Z = -4.397505882032941\n",
      "Z test sampling glaciers between 53 and 54: Z = -4.4681605008462855\n",
      "Z test sampling glaciers between 54 and 55: Z = -6.342619648811351\n",
      "Z test sampling glaciers between 55 and 56: Z = -6.43360920913864\n",
      "Z test sampling glaciers between 56 and 57: Z = -3.958729530210821\n",
      "Z test sampling glaciers between 57 and 58: Z = -5.731026704649014\n",
      "Z test sampling glaciers between 58 and 59: Z = -5.163085652660839\n",
      "Z test sampling glaciers between 59 and 60: Z = -5.922603378571555\n",
      "Z test sampling glaciers between 60 and 61: Z = -7.960764299801281\n",
      "Z test sampling glaciers between 61 and 62: Z = -5.289306778246087\n",
      "Z test sampling glaciers between 62 and 63: Z = -1.8907607287352817\n",
      "Z test sampling glaciers between 63 and 64: Z = -5.1399348722614775\n",
      "Z test sampling glaciers between 64 and 65: Z = -5.6615445822303005\n",
      "Z test sampling glaciers between 65 and 66: Z = -5.670077834679296\n",
      "Z test sampling glaciers between 66 and 67: Z = -5.379188377244625\n",
      "Z test sampling glaciers between 67 and 68: Z = -4.228379921585918\n",
      "Z test sampling glaciers between 68 and 69: Z = -2.7814640371516024\n",
      "Z test sampling glaciers between 69 and 70: Z = -3.2325594883756463\n",
      "Z test sampling glaciers between 70 and 71: Z = -3.221484034356518\n",
      "Z test sampling glaciers between 71 and 72: Z = -6.951359899589791\n",
      "Z test sampling glaciers between 72 and 73: Z = -5.260638306321359\n",
      "Z test sampling glaciers between 73 and 74: Z = -3.4791208031586325\n",
      "Z test sampling glaciers between 74 and 75: Z = -5.971825754337891\n",
      "Z test sampling glaciers between 75 and 76: Z = -3.5034071415012997\n",
      "Z test sampling glaciers between 76 and 77: Z = -5.052969052099634\n",
      "Z test sampling glaciers between 77 and 78: Z = -5.564154917001149\n",
      "Z test sampling glaciers between 78 and 79: Z = -4.64108601992998\n",
      "Z test sampling glaciers between 79 and 80: Z = -5.159266791622223\n",
      "Z test sampling glaciers between 80 and 81: Z = -4.488327850801598\n",
      "Z test sampling glaciers between 81 and 82: Z = -2.81244749473347\n",
      "Z test sampling glaciers between 82 and 83: Z = -5.8063530191139785\n",
      "Z test sampling glaciers between 83 and 84: Z = -2.9182928029777355\n",
      "Z test sampling glaciers between 84 and 85: Z = -4.477560704487432\n",
      "Z test sampling glaciers between 85 and 86: Z = -5.445583651949298\n",
      "Z test sampling glaciers between 86 and 87: Z = -2.229131164571456\n",
      "Z test sampling glaciers between 87 and 88: Z = -4.763095118354664\n",
      "Z test sampling glaciers between 88 and 89: Z = -5.586965188566757\n",
      "Z test sampling glaciers between 89 and 90: Z = -3.0463406192119384\n",
      "Z test sampling glaciers between 90 and 91: Z = -3.7631811691408457\n",
      "Z test sampling glaciers between 91 and 92: Z = -1.302905098259515\n",
      "Z test sampling glaciers between 92 and 93: Z = -3.8900529029871636\n",
      "Z test sampling glaciers between 93 and 94: Z = -3.880392400084161\n",
      "Z test sampling glaciers between 94 and 95: Z = -4.39141673970046\n",
      "Z test sampling glaciers between 95 and 96: Z = -4.606351379095935\n",
      "Z test sampling glaciers between 96 and 97: Z = -3.243624939339812\n",
      "Z test sampling glaciers between 97 and 98: Z = -3.838717785411807\n",
      "Z test sampling glaciers between 98 and 99: Z = -5.4619623611789905\n",
      "\n"
     ]
    }
   ],
   "source": [
    "def z_test(\n",
    "    data = ref,\n",
    "    variable = 'Area',\n",
    "    lower_range = 1,\n",
    "    upper_range = 10,\n",
    "    range_scale = 1\n",
    "):\n",
    "    \n",
    "    for i in np.arange(lower_range, upper_range, range_scale):\n",
    "\n",
    "    #     print(((i - 1) / 10))\n",
    "        df_temp = ref[\n",
    "            (ref[variable] > ((i - range_scale))) &\n",
    "            (ref[variable] < ((i)))\n",
    "        ]\n",
    "#         sum_vol_e = sum(df_temp['Edasi Volume'])\n",
    "#         sum_vol_f = sum(df_temp['Farinotti Volume'])\n",
    "        vol_std_e = df_temp['Edasi Volume'].std()\n",
    "        vol_std_f = df_temp['Farinotti Volume'].std()\n",
    "        mean_vol_e = df_temp['Edasi Volume'].mean()\n",
    "        mean_vol_f = df_temp['Farinotti Volume'].mean()\n",
    "\n",
    "\n",
    "        print('Z test sampling glaciers between ' +\n",
    "            str((i - range_scale)) + ' and ' + \n",
    "            str((i)) +  ': ' +\n",
    "            'Z = ' + str(\n",
    "                (mean_vol_e - mean_vol_f) / np.sqrt(\n",
    "                    (\n",
    "                        vol_std_e / np.sqrt(len(df_temp))\n",
    "                    )**2 + (\n",
    "                        vol_std_f / np.sqrt(len(df_temp))\n",
    "                    )**2\n",
    "                )\n",
    "            )\n",
    "         )\n",
    "\n",
    "\n",
    "    print('')\n",
    "\n",
    "z_test(\n",
    "    data = ref,\n",
    "    variable = 'Area',\n",
    "    lower_range = 1,\n",
    "    upper_range = 100,\n",
    "    range_scale = 1\n",
    "\n",
    ")\n"
   ]
  },
  {
   "cell_type": "code",
   "execution_count": null,
   "id": "994680dc",
   "metadata": {},
   "outputs": [],
   "source": []
  }
 ],
 "metadata": {
  "kernelspec": {
   "display_name": "python (Cartopy)-f",
   "language": "python",
   "name": "python-cartopy"
  },
  "language_info": {
   "codemirror_mode": {
    "name": "ipython",
    "version": 3
   },
   "file_extension": ".py",
   "mimetype": "text/x-python",
   "name": "python",
   "nbconvert_exporter": "python",
   "pygments_lexer": "ipython3",
   "version": "3.7.11"
  },
  "varInspector": {
   "cols": {
    "lenName": 16,
    "lenType": 16,
    "lenVar": 40
   },
   "kernels_config": {
    "python": {
     "delete_cmd_postfix": "",
     "delete_cmd_prefix": "del ",
     "library": "var_list.py",
     "varRefreshCmd": "print(var_dic_list())"
    },
    "r": {
     "delete_cmd_postfix": ") ",
     "delete_cmd_prefix": "rm(",
     "library": "var_list.r",
     "varRefreshCmd": "cat(var_dic_list()) "
    }
   },
   "types_to_exclude": [
    "module",
    "function",
    "builtin_function_or_method",
    "instance",
    "_Feature"
   ],
   "window_display": false
  }
 },
 "nbformat": 4,
 "nbformat_minor": 5
}
