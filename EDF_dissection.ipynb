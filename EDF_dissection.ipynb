{
 "cells": [
  {
   "cell_type": "code",
   "execution_count": 1,
   "id": "da53eab0",
   "metadata": {
    "scrolled": true
   },
   "outputs": [
    {
     "name": "stderr",
     "output_type": "stream",
     "text": [
      "2023-07-23 08:20:36.859586: I tensorflow/core/util/port.cc:110] oneDNN custom operations are on. You may see slightly different numerical results due to floating-point round-off errors from different computation orders. To turn them off, set the environment variable `TF_ENABLE_ONEDNN_OPTS=0`.\n",
      "2023-07-23 08:20:36.907030: I tensorflow/core/platform/cpu_feature_guard.cc:182] This TensorFlow binary is optimized to use available CPU instructions in performance-critical operations.\n",
      "To enable the following instructions: AVX2 AVX512F AVX512_VNNI FMA, in other operations, rebuild TensorFlow with the appropriate compiler flags.\n",
      "2023-07-23 08:20:37.627898: W tensorflow/compiler/tf2tensorrt/utils/py_utils.cc:38] TF-TRT Warning: Could not find TensorRT\n"
     ]
    }
   ],
   "source": [
    "# import dependencies\n",
    "# import sys\n",
    "# !{sys.executable} -m pip install cartopy\n",
    "import glacierml as gl\n",
    "import pandas as pd\n",
    "import numpy as np\n",
    "import imageio\n",
    "pd.set_option('display.max_columns', None)"
   ]
  },
  {
   "cell_type": "code",
   "execution_count": 2,
   "id": "bd76af49",
   "metadata": {},
   "outputs": [],
   "source": [
    "parameterization = '4'\n",
    "method = '1'"
   ]
  },
  {
   "cell_type": "code",
   "execution_count": 3,
   "id": "b30465a0",
   "metadata": {
    "scrolled": false
   },
   "outputs": [],
   "source": [
    "import matplotlib.pyplot as plt\n",
    "from matplotlib.ticker import MultipleLocator\n",
    "def plot_vol_data(\n",
    "    size_thresh_1 = 1e-5, size_thresh_2 = 1e4,\n",
    "    log = True, ticks = True\n",
    "):\n",
    "    (\n",
    "        x,y,z,unc,\n",
    "        x_new,y_new,z_new,unc_new ,\n",
    "        df,index\n",
    "    ) = gl.assign_arrays(\n",
    "        parameterization = parameterization,method = method,\n",
    "        size_thresh_1 = size_thresh_1, size_thresh_2 = size_thresh_2\n",
    "    )\n",
    "\n",
    "    fig, ax = plt.subplots(figsize = (10,8))\n",
    "    plt.scatter(x_new, y_new, c = z_new, cmap = 'viridis', marker = '.')\n",
    "    plt.plot(\n",
    "        (size_thresh_1,size_thresh_2),(size_thresh_1,size_thresh_2), 'orange', linewidth = 3\n",
    "    )\n",
    "    \n",
    "    if log == True:\n",
    "        plt.xscale('log')\n",
    "        plt.yscale('log')\n",
    "\n",
    "    plt.axis('square')\n",
    "    if ticks == True:\n",
    "        import numpy as np\n",
    "        major_ticks = np.logspace(-5,4,10)\n",
    "\n",
    "        plt.xticks(major_ticks)\n",
    "        plt.yticks(major_ticks)\n",
    "    plt.xlim(size_thresh_1,size_thresh_2)\n",
    "    plt.ylim(size_thresh_1,size_thresh_2)\n",
    "    plt.title('Selected Volume Subset')\n",
    "    plt.xlabel('Farinotti Volume (km$^3$)')\n",
    "    plt.ylabel('This Study Volume (km$^3$)')\n",
    "    plt.colorbar(label = 'Log Density')\n",
    "    plt.clim()\n",
    "    plt.show()"
   ]
  },
  {
   "cell_type": "code",
   "execution_count": 4,
   "id": "3b36a1f5",
   "metadata": {
    "scrolled": false
   },
   "outputs": [],
   "source": [
    "# plot_vol_data(\n",
    "#     size_thresh_1 = 1e-5, size_thresh_2 = 1e-3,\n",
    "#     log = True, ticks = True\n",
    "# )"
   ]
  },
  {
   "cell_type": "code",
   "execution_count": 5,
   "id": "18d3a1ba",
   "metadata": {
    "scrolled": false
   },
   "outputs": [],
   "source": [
    "# st1 = 1e-5\n",
    "# st2 = 1e-3\n",
    "# # plot_vol_data(\n",
    "# #     size_thresh_1 = st1, size_thresh_2 = st2,\n",
    "# #     log = True, ticks = True\n",
    "# # )\n",
    "\n",
    "# (\n",
    "#     x,y,z,unc,\n",
    "#     x_new,y_new,z_new,unc_new ,\n",
    "#     df,index\n",
    "# ) = gl.assign_arrays(\n",
    "#     parameterization = parameterization,method = method,\n",
    "#     size_thresh_1 = st1, size_thresh_2 = st2\n",
    "# )    \n",
    "\n",
    "# df"
   ]
  },
  {
   "cell_type": "code",
   "execution_count": 6,
   "id": "8f75ea72",
   "metadata": {},
   "outputs": [],
   "source": [
    "def plot_thick_data(\n",
    "        size_thresh_1 = 1e-5, size_thresh_2 = 1e4,\n",
    "    ):\n",
    "    \n",
    "    \n",
    "\n",
    "    (\n",
    "        x,y,z,unc,\n",
    "        x_new,y_new,z_new,unc_new ,\n",
    "        df,index\n",
    "    ) = gl.assign_arrays(\n",
    "        parameterization = parameterization,method = method,\n",
    "        size_thresh_1 = st1, size_thresh_2 = st2\n",
    "    )    \n",
    "    x,y,z,zf,ze,unc,df,feat = gl.assign_sub_arrays(\n",
    "        index,st1, st2,\n",
    "        parameterization = parameterization,method = method,\n",
    "        feature = 'Slope'\n",
    "    )\n",
    "    \n",
    "    \n",
    "    \n",
    "    \n",
    "    \n",
    "    fig, ax = plt.subplots(figsize = (10,8))\n",
    "    plt.scatter(x, y, c = z, cmap = 'viridis', marker = '.')\n",
    "    \n",
    "    plt.plot(\n",
    "        (0  ,   max(np.ceil(np.max(x)),np.ceil(np.max(y)))),\n",
    "         (0  ,   max(np.ceil(np.max(x)),np.ceil(np.max(y)))),\n",
    "        'orange', linewidth = 3\n",
    "    )\n",
    "    plt.title('Selected Subset Thickness')\n",
    "    plt.xlabel('Farinotti Mean Thickness (m)')\n",
    "    plt.ylabel('This Study Mean Thickness (m)')\n",
    "    plt.colorbar(label = 'Glacier Log Density')\n",
    "    plt.show()\n",
    "#     plt.savefig(f'img/img_{size_thresh_2}.png', \n",
    "#         transparent = False,  \n",
    "#         facecolor = 'white'\n",
    "#        )\n",
    "#     plt.close()\n",
    "\n",
    "#     if log == True:\n",
    "#         plt.xscale('log')\n",
    "#         plt.yscale('log')\n",
    "\n",
    "#     plt.axis('square')\n",
    "#     if ticks == True:\n",
    "#         import numpy as np\n",
    "#         major_ticks = np.logspace(-5,4,10)\n",
    "\n",
    "#         plt.xticks(major_ticks)\n",
    "#         plt.yticks(major_ticks)\n",
    "#     plt.show()"
   ]
  },
  {
   "cell_type": "code",
   "execution_count": 7,
   "id": "2f210f0c",
   "metadata": {
    "scrolled": false
   },
   "outputs": [],
   "source": [
    "# st1 = 1e-5\n",
    "# st2 = 1e-3\n",
    "\n",
    "# plot_vol_data(\n",
    "#     size_thresh_1 = st1, size_thresh_2 = st2,\n",
    "#     log = True, ticks = True\n",
    "# )\n",
    "\n",
    "# plot_vol_data(\n",
    "#     size_thresh_1 = st1, size_thresh_2 = st2,\n",
    "#     log = False, ticks = False\n",
    "# )\n",
    "\n",
    "# plot_thick_data(\n",
    "#         size_thresh_1 = st1, size_thresh_2 = st2,\n",
    "#     )\n",
    "\n"
   ]
  },
  {
   "cell_type": "code",
   "execution_count": null,
   "id": "0129ea06",
   "metadata": {},
   "outputs": [],
   "source": []
  },
  {
   "cell_type": "markdown",
   "id": "a543d1f3",
   "metadata": {},
   "source": [
    "# Make GIFs"
   ]
  },
  {
   "cell_type": "code",
   "execution_count": 8,
   "id": "ecb4cc76",
   "metadata": {},
   "outputs": [],
   "source": [
    "def feature_thickness_plot(x,y,zf,ze,feat,unit):\n",
    "    fig, ax = plt.subplots(2,1,figsize = (8,15))\n",
    "    for i in range(2):\n",
    "        if i == 0:\n",
    "            z = zf\n",
    "            thick = x\n",
    "            title = 'Farinotti'\n",
    "        if i == 1:\n",
    "            z = ze\n",
    "            thick = y\n",
    "            title = 'This Study'\n",
    "        scatter = ax[i].scatter(\n",
    "            feat,thick, c = z,cmap = 'viridis',\n",
    "            marker = '.'\n",
    "        )\n",
    "        ax[i].set_title(title)\n",
    "    #                 ax[i].set_ylim(0,250)\n",
    "    #                 ax[i].set_xlim(10,1e5)\n",
    "    #                 ax[i].set_xscale('log')\n",
    "    #             ax[i].set_yscale('log')\n",
    "        plt.colorbar(scatter, label = 'Log Density')\n",
    "    #             plt.xscale('log')\n",
    "\n",
    "    fig.supxlabel(feat + unit, y = 0.07)\n",
    "    fig.supylabel('Thickness (m)', x = 0.035)\n",
    "    fig.suptitle(feat + '-Thickness Data from Volume Subset '+ \n",
    "                 str(st1) + ' - ' + str(j) + ' (km$^3$)', y = 0.92)\n",
    "    plt.show()\n",
    "\n",
    "\n",
    "\n",
    "\n",
    "\n",
    "#     save_title = feature + '_' + str(j)\n",
    "#     plt.savefig(f'img/img_{save_title}.png', \n",
    "#         transparent = False,  \n",
    "#         facecolor = 'white'\n",
    "#        )\n",
    "#     plt.close()"
   ]
  },
  {
   "cell_type": "code",
   "execution_count": 17,
   "id": "5ba30c43",
   "metadata": {
    "scrolled": false
   },
   "outputs": [
    {
     "name": "stdout",
     "output_type": "stream",
     "text": [
      "1000.0\n",
      "0.001\n",
      "density array found\n",
      "calculating density of desired threshold\n"
     ]
    },
    {
     "ename": "ValueError",
     "evalue": "`dataset` input should have multiple elements.",
     "output_type": "error",
     "traceback": [
      "\u001b[0;31m---------------------------------------------------------------------------\u001b[0m",
      "\u001b[0;31mValueError\u001b[0m                                Traceback (most recent call last)",
      "Cell \u001b[0;32mIn[17], line 75\u001b[0m\n\u001b[1;32m     71\u001b[0m             plt\u001b[38;5;241m.\u001b[39mclose()\n\u001b[1;32m     72\u001b[0m \u001b[38;5;66;03m#             break\u001b[39;00m\n\u001b[0;32m---> 75\u001b[0m \u001b[43mmake_frame\u001b[49m\u001b[43m(\u001b[49m\u001b[43mfloor\u001b[49m\u001b[43m,\u001b[49m\u001b[43mceil\u001b[49m\u001b[43m)\u001b[49m\n",
      "Cell \u001b[0;32mIn[17], line 24\u001b[0m, in \u001b[0;36mmake_frame\u001b[0;34m(floor, ceil)\u001b[0m\n\u001b[1;32m     18\u001b[0m \u001b[38;5;28mprint\u001b[39m(i)\n\u001b[1;32m     19\u001b[0m \u001b[38;5;28mprint\u001b[39m(j)\n\u001b[1;32m     20\u001b[0m (\n\u001b[1;32m     21\u001b[0m     x,y,z,\n\u001b[1;32m     22\u001b[0m     x_new,y_new,z_new,\n\u001b[1;32m     23\u001b[0m     df,index\n\u001b[0;32m---> 24\u001b[0m ) \u001b[38;5;241m=\u001b[39m \u001b[43mgl\u001b[49m\u001b[38;5;241;43m.\u001b[39;49m\u001b[43massign_arrays\u001b[49m\u001b[43m(\u001b[49m\n\u001b[1;32m     25\u001b[0m \u001b[43m    \u001b[49m\u001b[43mparameterization\u001b[49m\u001b[43m \u001b[49m\u001b[38;5;241;43m=\u001b[39;49m\u001b[43m \u001b[49m\u001b[43mparameterization\u001b[49m\u001b[43m,\u001b[49m\u001b[43mmethod\u001b[49m\u001b[43m \u001b[49m\u001b[38;5;241;43m=\u001b[39;49m\u001b[43m \u001b[49m\u001b[43mmethod\u001b[49m\u001b[43m,\u001b[49m\n\u001b[1;32m     26\u001b[0m \u001b[43m    \u001b[49m\u001b[43msize_thresh_1\u001b[49m\u001b[43m \u001b[49m\u001b[38;5;241;43m=\u001b[39;49m\u001b[43m \u001b[49m\u001b[43mi\u001b[49m\u001b[43m,\u001b[49m\u001b[43m \u001b[49m\u001b[43msize_thresh_2\u001b[49m\u001b[43m \u001b[49m\u001b[38;5;241;43m=\u001b[39;49m\u001b[43m \u001b[49m\u001b[43mj\u001b[49m\n\u001b[1;32m     27\u001b[0m \u001b[43m\u001b[49m\u001b[43m)\u001b[49m  \n\u001b[1;32m     28\u001b[0m \u001b[38;5;28;01mfor\u001b[39;00m feature \u001b[38;5;129;01min\u001b[39;00m feature_list:\n\u001b[1;32m     30\u001b[0m     \u001b[38;5;28;01mif\u001b[39;00m feature \u001b[38;5;241m==\u001b[39m \u001b[38;5;124m'\u001b[39m\u001b[38;5;124mArea\u001b[39m\u001b[38;5;124m'\u001b[39m:\n",
      "File \u001b[0;32m~/notebooks/glacier_prethicktor/glacierml.py:1787\u001b[0m, in \u001b[0;36massign_arrays\u001b[0;34m(parameterization, method, size_thresh_1, size_thresh_2, new_data)\u001b[0m\n\u001b[1;32m   1785\u001b[0m         xy \u001b[38;5;241m=\u001b[39m np\u001b[38;5;241m.\u001b[39mvstack([np\u001b[38;5;241m.\u001b[39mlog10(x_new),np\u001b[38;5;241m.\u001b[39mlog10(y_new)])\n\u001b[1;32m   1786\u001b[0m \u001b[38;5;66;03m#         print(xy)\u001b[39;00m\n\u001b[0;32m-> 1787\u001b[0m         z_new \u001b[38;5;241m=\u001b[39m \u001b[43mgaussian_kde\u001b[49m\u001b[43m(\u001b[49m\u001b[43mxy\u001b[49m\u001b[43m)\u001b[49m(xy)\n\u001b[1;32m   1788\u001b[0m         np\u001b[38;5;241m.\u001b[39msave(z_new_pth, z_new)\n\u001b[1;32m   1791\u001b[0m     \u001b[38;5;28;01mreturn\u001b[39;00m x,y,z,x_new,y_new,z_new,data,pd_index\n",
      "File \u001b[0;32m~/miniconda3/envs/new_kernel/lib/python3.8/site-packages/scipy/stats/_kde.py:199\u001b[0m, in \u001b[0;36mgaussian_kde.__init__\u001b[0;34m(self, dataset, bw_method, weights)\u001b[0m\n\u001b[1;32m    197\u001b[0m \u001b[38;5;28mself\u001b[39m\u001b[38;5;241m.\u001b[39mdataset \u001b[38;5;241m=\u001b[39m atleast_2d(asarray(dataset))\n\u001b[1;32m    198\u001b[0m \u001b[38;5;28;01mif\u001b[39;00m \u001b[38;5;129;01mnot\u001b[39;00m \u001b[38;5;28mself\u001b[39m\u001b[38;5;241m.\u001b[39mdataset\u001b[38;5;241m.\u001b[39msize \u001b[38;5;241m>\u001b[39m \u001b[38;5;241m1\u001b[39m:\n\u001b[0;32m--> 199\u001b[0m     \u001b[38;5;28;01mraise\u001b[39;00m \u001b[38;5;167;01mValueError\u001b[39;00m(\u001b[38;5;124m\"\u001b[39m\u001b[38;5;124m`dataset` input should have multiple elements.\u001b[39m\u001b[38;5;124m\"\u001b[39m)\n\u001b[1;32m    201\u001b[0m \u001b[38;5;28mself\u001b[39m\u001b[38;5;241m.\u001b[39md, \u001b[38;5;28mself\u001b[39m\u001b[38;5;241m.\u001b[39mn \u001b[38;5;241m=\u001b[39m \u001b[38;5;28mself\u001b[39m\u001b[38;5;241m.\u001b[39mdataset\u001b[38;5;241m.\u001b[39mshape\n\u001b[1;32m    203\u001b[0m \u001b[38;5;28;01mif\u001b[39;00m weights \u001b[38;5;129;01mis\u001b[39;00m \u001b[38;5;129;01mnot\u001b[39;00m \u001b[38;5;28;01mNone\u001b[39;00m:\n",
      "\u001b[0;31mValueError\u001b[0m: `dataset` input should have multiple elements."
     ]
    }
   ],
   "source": [
    "import matplotlib.pyplot as plt\n",
    "# floor = np.logspace(-4,3,8)\n",
    "ceil = np.logspace(-3,4,8)\n",
    "floor = 1e-5\n",
    "def make_frame(floor,ceil):\n",
    "    feature_list = [\n",
    "        \n",
    "        'Area', \n",
    "        'Slope', \n",
    "        'Lmax', \n",
    "        'Zmin',\n",
    "#         'Zmax'\n",
    "    ]\n",
    "    \n",
    "\n",
    "    for j in (ceil):\n",
    "#         print(n)\n",
    "#         print(i)\n",
    "        print(j)\n",
    "        (\n",
    "            x,y,z,\n",
    "            x_new,y_new,z_new,\n",
    "            df,index\n",
    "        ) = gl.assign_arrays(\n",
    "            parameterization = parameterization,method = method,\n",
    "            size_thresh_1 = floor, size_thresh_2 = j\n",
    "        )  \n",
    "        for feature in feature_list:\n",
    "\n",
    "            if feature == 'Area':\n",
    "                unit = ' (km$^2$)'\n",
    "            if ('Z' in feature) or ('L' in feature):\n",
    "                unit = ' (m)'\n",
    "            if feature == 'Slope':\n",
    "                unit = ' (Degrees)'\n",
    "\n",
    "\n",
    "            x,y,z,zf,ze,unc,df,feat = gl.assign_sub_arrays(\n",
    "                index,floor,j,\n",
    "                parameterization,method,\n",
    "                feature\n",
    "            )\n",
    "#             print(feat.min())\n",
    "            fig, ax = plt.subplots(2,1,figsize = (8,15))\n",
    "            for k in range(2):\n",
    "                if k == 0:\n",
    "                    z = zf\n",
    "                    thick = x\n",
    "                    title = 'Farinotti'\n",
    "                if k == 1:\n",
    "                    z = ze\n",
    "                    thick = y\n",
    "                    title = 'This Study'\n",
    "                scatter = ax[k].scatter(\n",
    "                    feat,thick, c = z,cmap = 'viridis',\n",
    "                    marker = '.'\n",
    "                )\n",
    "                ax[k].set_title(title)\n",
    "\n",
    "                plt.colorbar(scatter, label = 'Log Density')\n",
    "\n",
    "            fig.supxlabel(feature + unit, y = 0.07)\n",
    "            fig.supylabel('Thickness (m)', x = 0.035)\n",
    "            fig.suptitle(feature + '-Thickness Data from Volume Subset '+ \n",
    "                         str(floor) + ' - ' + str(j) + ' (km$^3$)', y = 0.92)\n",
    "            save_title = feature + '-' + str(j)\n",
    "            plt.savefig(f'img/img_{save_title}.png', \n",
    "                transparent = False,  \n",
    "                facecolor = 'white'\n",
    "               )\n",
    "            plt.close()\n",
    "#             break\n",
    "\n",
    "    \n",
    "make_frame(floor,ceil)"
   ]
  },
  {
   "cell_type": "code",
   "execution_count": 16,
   "id": "a5deccbc",
   "metadata": {},
   "outputs": [],
   "source": [
    "feature_list = [\n",
    "\n",
    "    'Area', \n",
    "    'Slope', \n",
    "    'Lmax', \n",
    "    'Zmin',\n",
    "#         'Zmax'\n",
    "]\n",
    "for feat in feature_list:\n",
    "    frames = []\n",
    "    for j in ((ceil)):\n",
    "        save_path = feat + '_' + str(i) + '-' + str(j)\n",
    "        image = imageio.v2.imread(f'img/img_{save_path}.png')\n",
    "        frames.append(image)\n",
    "    imageio.mimsave(feat + '_example.gif', # output gif\n",
    "                frames,          # array of input frames\n",
    "                duration = 3000,\n",
    "                loop = 10\n",
    "               )   "
   ]
  },
  {
   "cell_type": "code",
   "execution_count": null,
   "id": "00a006f6",
   "metadata": {},
   "outputs": [],
   "source": []
  }
 ],
 "metadata": {
  "kernelspec": {
   "display_name": "Python(3.8.10)",
   "language": "python",
   "name": "new_kernel"
  },
  "language_info": {
   "codemirror_mode": {
    "name": "ipython",
    "version": 3
   },
   "file_extension": ".py",
   "mimetype": "text/x-python",
   "name": "python",
   "nbconvert_exporter": "python",
   "pygments_lexer": "ipython3",
   "version": "3.8.10"
  },
  "varInspector": {
   "cols": {
    "lenName": 16,
    "lenType": 16,
    "lenVar": 40
   },
   "kernels_config": {
    "python": {
     "delete_cmd_postfix": "",
     "delete_cmd_prefix": "del ",
     "library": "var_list.py",
     "varRefreshCmd": "print(var_dic_list())"
    },
    "r": {
     "delete_cmd_postfix": ") ",
     "delete_cmd_prefix": "rm(",
     "library": "var_list.r",
     "varRefreshCmd": "cat(var_dic_list()) "
    }
   },
   "types_to_exclude": [
    "module",
    "function",
    "builtin_function_or_method",
    "instance",
    "_Feature"
   ],
   "window_display": false
  }
 },
 "nbformat": 4,
 "nbformat_minor": 5
}
