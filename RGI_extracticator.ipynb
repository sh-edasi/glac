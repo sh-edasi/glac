{
 "cells": [
  {
   "cell_type": "code",
   "execution_count": null,
   "id": "19fb70fb",
   "metadata": {},
   "outputs": [],
   "source": [
    "import tarfile\n",
    "import shutil\n",
    "import os\n",
    "from os.path import join, getsize"
   ]
  },
  {
   "cell_type": "markdown",
   "id": "c66b68ec",
   "metadata": {},
   "source": [
    "# Primary Index Loop"
   ]
  },
  {
   "cell_type": "code",
   "execution_count": null,
   "id": "69a0401a",
   "metadata": {},
   "outputs": [],
   "source": [
    "# this loop runs through all subdirectories RGI60-n\n",
    "# opens each tarball to desired folder, currently ~/data/glac/RGI_TOPO/dump_1\n",
    "rootdir = \"/home/sa42/data/glac/RGI_TOPO/\"\n",
    "ext = (\".tar\")\n",
    "for subdir, dirs, files in os.walk(rootdir, topdown = False, onerror = None, followlinks = True):\n",
    "        for file in files:\n",
    "            if file.endswith(ext):\n",
    "                filepath = os.path.join(subdir,file)\n",
    "#                 print(filepath) \n",
    "            \n",
    "            \n",
    "#             tar = tarfile.open(filepath)\n",
    "#             tar.extractall(path=\"/home/sa42/data/glac/RGI_TOPO/dump_1\")\n",
    "#             tar.close()"
   ]
  },
  {
   "cell_type": "markdown",
   "id": "28a942c3",
   "metadata": {},
   "source": [
    "# DEM extraction loop"
   ]
  },
  {
   "cell_type": "code",
   "execution_count": null,
   "id": "262351c9",
   "metadata": {},
   "outputs": [],
   "source": [
    "# MAPZEN LOOP\n",
    "\n",
    "# this loop will need to extract dem.tif files\n",
    "# decided to target MAPZEN, according to the documentation this has the most coverage\n",
    "# able to run through all mapzen files and extract them, but they are overwritten\n",
    "# need to rename the file after the folder containing it....\n",
    "\n",
    "rootdir = \"/home/sa42/data/glac/RGI_TOPO/dump_2/\"\n",
    "rect = (\"MAPZEN\")\n",
    "ext = (\"dem.tif\")\n",
    "mapzen = \"/home/sa42/data/glac/RGI_TOPO/extracted_dem_files/MAPZEN/\"\n",
    "for subdir, root, files in os.walk(rootdir, topdown = True, onerror = None, followlinks = False):\n",
    "    if subdir.endswith(rect):\n",
    "#         print(subdir)\n",
    "        for file in files:\n",
    "            if file.endswith(ext):\n",
    "                filepath = os.path.join(subdir,file)\n",
    "#                 print(filepath)\n",
    "#                 filepath_left = filepath[37:]\n",
    "#                 filepath_reg = filepath_left [:14]\n",
    "#                 print(file + \"'s\"+ \" new name is: \" + filepath_reg + \"_\" + \"dem.tif, and is in a MAPZEN folder\")\n",
    "#                 print(\" \")\n",
    "#                 shutil.copy(filepath, mapzen + filepath_reg + \"_\" + \"dem.tif\")"
   ]
  },
  {
   "cell_type": "markdown",
   "id": "28ed1b7c",
   "metadata": {},
   "source": [
    "# Outline Loop"
   ]
  },
  {
   "cell_type": "code",
   "execution_count": null,
   "id": "9223428a",
   "metadata": {},
   "outputs": [],
   "source": [
    "# OUTLINE LOOP\n",
    "\n",
    "# this loop is rooted to where tarballs are untarred, currently ~/data/glac/testy\n",
    "# this loop runs through extracted tarballs and opens the .tar.gz files inside\n",
    "# sent to \n",
    "rootdir = \"/home/sa42/data/glac/RGI_TOPO/dump_2\"\n",
    "desired_file = (\"outlines\")\n",
    "desired_extension = (\"tar.gz\")\n",
    "destination = (\"/home/sa42/data/glac/RGI_TOPO/extracted_outlines/\")\n",
    "extracted_file = (\"outlines.shx\")\n",
    "for subdir, dirs, files in os.walk(rootdir, topdown = False, onerror = None, followlinks = True):\n",
    "    for file in files:\n",
    "        if file.endswith(desired_extension):\n",
    "            if file.startswith(desired_file):\n",
    "                filepath = os.path.join(subdir,file)\n",
    "                filepath_left = filepath[37:]\n",
    "                filepath_reg = filepath_left [:14]\n",
    "#                 print(\"file found: \" + destination + extracted_file)\n",
    "#                 print(\"New file name: \" + filepath_reg + \"_\" + extracted_file)\n",
    "#                 print(\"file saved: \" + destination + filepath_reg + \"_\" + extracted_file)\n",
    "#                 tar = tarfile.open(filepath)\n",
    "#                 tar.extract(extracted_file, destination)\n",
    "#                 tar.close()\n",
    "#                 shutil.move(destination + extracted_file, destination + filepath_reg + \"_\" + extracted_file )\n",
    "#                 print(\"done\")\n",
    "            \n",
    "            \n"
   ]
  }
 ],
 "metadata": {
  "kernelspec": {
   "display_name": "Python 3 (ipykernel)",
   "language": "python",
   "name": "python3"
  },
  "language_info": {
   "codemirror_mode": {
    "name": "ipython",
    "version": 3
   },
   "file_extension": ".py",
   "mimetype": "text/x-python",
   "name": "python",
   "nbconvert_exporter": "python",
   "pygments_lexer": "ipython3",
   "version": "3.7.11"
  }
 },
 "nbformat": 4,
 "nbformat_minor": 5
}
