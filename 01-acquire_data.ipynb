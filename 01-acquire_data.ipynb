{
 "cells": [
  {
   "cell_type": "code",
   "execution_count": null,
   "metadata": {},
   "outputs": [],
   "source": [
    "import os\n",
    "import requests\n",
    "import zipfile\n",
    "import pandas as pd"
   ]
  },
  {
   "cell_type": "code",
   "execution_count": null,
   "metadata": {
    "tags": []
   },
   "outputs": [],
   "source": [
    "def set_paths(home_path = '/path/to/project/directory'):\n",
    "    \n",
    "    data_path = os.path.join(home_path,'data')\n",
    "    if not os.path.exists(data_path):\n",
    "        os.makedirs(data_path)\n",
    "        \n",
    "    RGI_path = os.path.join(data_path,'RGI')\n",
    "    if not os.path.exists(RGI_path):\n",
    "        os.makedirs(RGI_path)\n",
    "        \n",
    "    glathida_path = os.path.join(data_path,'glathida')\n",
    "    if not os.path.exists(glathida_path):\n",
    "        os.makedirs(glathida_path)\n",
    "    \n",
    "    model_path = os.path.join(home_path,'models')\n",
    "    if not os.path.exists(model_path):\n",
    "        os.makedirs(model_path)\n",
    "    \n",
    "    coregistration_testing_path = os.path.join(model_path,'coregistration_testing')\n",
    "    if not os.path.exists(coregistration_testing_path):\n",
    "        os.makedirs(coregistration_testing_path)\n",
    "    \n",
    "    arch_test_path = os.path.join(model_path,'arch_testing')\n",
    "    if not os.path.exists(arch_test_path):\n",
    "        os.makedirs(arch_test_path)\n",
    "    \n",
    "    LOO_path = os.path.join(model_path,'LOO')\n",
    "    if not os.path.exists(LOO_path):\n",
    "        os.makedirs(LOO_path)    \n",
    "        \n",
    "    return [\n",
    "        RGI_path, glathida_path, \n",
    "        coregistration_testing_path, \n",
    "        arch_test_path, LOO_path\n",
    "    ]"
   ]
  },
  {
   "cell_type": "code",
   "execution_count": null,
   "metadata": {
    "tags": []
   },
   "outputs": [],
   "source": [
    "home_path = '/path/to/project/directory'\n",
    "[\n",
    "    RGI_path, glathida_path, \n",
    "    coregistration_testing_path, \n",
    "    arch_test_path, LOO_path\n",
    "] = set_paths(home_path)"
   ]
  },
  {
   "cell_type": "code",
   "execution_count": null,
   "metadata": {
    "tags": []
   },
   "outputs": [],
   "source": [
    "RGI_zip_path = os.path.join(RGI_path,'RGI.zip')\n",
    "RGI_download_link = 'https://www.glims.org/RGI/rgi60_files/00_rgi60_attribs.zip'"
   ]
  },
  {
   "cell_type": "code",
   "execution_count": null,
   "metadata": {
    "tags": []
   },
   "outputs": [],
   "source": [
    "glathida_zip_path = os.path.join(glathida_path,'glathida.zip')\n",
    "glathida_download_link = 'https://www.gtn-g.ch/database/glathida-3.1.0.zip'"
   ]
  },
  {
   "cell_type": "code",
   "execution_count": null,
   "metadata": {
    "tags": []
   },
   "outputs": [],
   "source": [
    "def download_data(save_path,download_link,data):\n",
    "    if not os.path.exists(save_path):\n",
    "        os.makedirs(save_path)\n",
    "        print('data directory created')\n",
    "    else:\n",
    "        print('data directory exists')\n",
    "\n",
    "    files = os.listdir(save_path)\n",
    "\n",
    "    if not files:\n",
    "        response = requests.get(download_link, stream=True)\n",
    "        if response.status_code == 200:\n",
    "            print('downloading...')\n",
    "            with open(os.path.join(save_path,data + '.zip'), 'wb') as file:\n",
    "                file.write(response.content)\n",
    "                print('download complete')\n",
    "\n",
    "    else:\n",
    "        zip_files = [file for file in files if file.endswith('.zip')]\n",
    "        if zip_files:\n",
    "            print('directory contains .zip files:', zip_files)"
   ]
  },
  {
   "cell_type": "code",
   "execution_count": null,
   "metadata": {
    "tags": []
   },
   "outputs": [],
   "source": [
    "download_data(\n",
    "    glathida_path,\n",
    "    glathida_download_link,\n",
    "    data = 'glathida'\n",
    ")"
   ]
  },
  {
   "cell_type": "code",
   "execution_count": null,
   "metadata": {
    "tags": []
   },
   "outputs": [],
   "source": [
    "download_data(\n",
    "    RGI_path,\n",
    "    RGI_download_link,\n",
    "    data = 'RGI'\n",
    ")"
   ]
  },
  {
   "cell_type": "code",
   "execution_count": null,
   "metadata": {
    "tags": []
   },
   "outputs": [],
   "source": [
    "glathida_file = 'glathida-3.1.0/data/T.csv'\n",
    "zip_path = os.path.join(glathida_path, 'glathida.zip')\n",
    "destination_file = os.path.join(glathida_path, 'T.csv') \n",
    "\n",
    "with zipfile.ZipFile(zip_path, 'r') as zipped_file:\n",
    "    if os.path.exists(destination_file):\n",
    "        print(f'data already unzipped to {glathida_path}')\n",
    "    else:\n",
    "        if glathida_file in zipped_file.namelist():\n",
    "            with zipped_file.open(\n",
    "                glathida_file) as source, open(\n",
    "                destination_file, 'wb') as dest:\n",
    "                dest.write(source.read())\n",
    "            print(f'data unzipped to {glathida_path}')\n"
   ]
  },
  {
   "cell_type": "code",
   "execution_count": null,
   "metadata": {
    "tags": []
   },
   "outputs": [],
   "source": [
    "zip_path = os.path.join(RGI_path,'RGI.zip')\n",
    "with zipfile.ZipFile(zip_path, 'r') as zipped_file:\n",
    "    if os.path.exists(os.path.join(RGI_path,'*.csv')):\n",
    "        print(f'data already unzipped to {RGI_path}')\n",
    "    else:\n",
    "        zipped_file.extractall(RGI_path)\n",
    "        print(f'data unzipped to {RGI_path}')"
   ]
  },
  {
   "cell_type": "code",
   "execution_count": null,
   "metadata": {},
   "outputs": [],
   "source": []
  }
 ],
 "metadata": {
  "kernelspec": {
   "display_name": "Prethicktor (Python 3.8.10)",
   "language": "python",
   "name": "prethicktor"
  },
  "language_info": {
   "codemirror_mode": {
    "name": "ipython",
    "version": 3
   },
   "file_extension": ".py",
   "mimetype": "text/x-python",
   "name": "python",
   "nbconvert_exporter": "python",
   "pygments_lexer": "ipython3",
   "version": "3.8.10"
  }
 },
 "nbformat": 4,
 "nbformat_minor": 4
}
