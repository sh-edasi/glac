{
 "cells": [
  {
   "cell_type": "code",
   "execution_count": null,
   "metadata": {},
   "outputs": [],
   "source": [
    "import os\n",
    "import requests\n",
    "import zipfile\n",
    "import pandas as pd\n",
    "import glacierml as gl\n",
    "from PIL import Image\n",
    "import numpy as np"
   ]
  },
  {
   "cell_type": "code",
   "execution_count": null,
   "metadata": {
    "tags": []
   },
   "outputs": [],
   "source": [
    "home_path = '/path/to_project/directory'\n",
    "[\n",
    "        data_path, RGI_path, glathida_path, ref_path,\n",
    "        coregistration_testing_path, \n",
    "        arch_test_path, LOO_path\n",
    "] = gl.set_paths(home_path)"
   ]
  },
  {
   "cell_type": "code",
   "execution_count": null,
   "metadata": {
    "tags": []
   },
   "outputs": [],
   "source": [
    "RGI_zip_path = os.path.join(RGI_path,'RGI.zip')\n",
    "RGI_download_link = 'https://www.glims.org/RGI/rgi60_files/00_rgi60_attribs.zip'"
   ]
  },
  {
   "cell_type": "code",
   "execution_count": null,
   "metadata": {
    "tags": []
   },
   "outputs": [],
   "source": [
    "glathida_zip_path = os.path.join(glathida_path,'glathida.zip')\n",
    "glathida_download_link = 'https://www.gtn-g.ch/database/glathida-3.1.0.zip'"
   ]
  },
  {
   "cell_type": "code",
   "execution_count": null,
   "metadata": {},
   "outputs": [],
   "source": [
    "ref_zip_path = os.path.join(ref_path,'')\n",
    "ref_download_link = 'https://www.research-collection.ethz.ch/bitstream/handle/20.500.11850/315707/composite_thickness_RGI60-all_regions.zip?sequence=2&isAllowed=y'"
   ]
  },
  {
   "cell_type": "code",
   "execution_count": null,
   "metadata": {
    "tags": []
   },
   "outputs": [],
   "source": [
    "def download_data(save_path,download_link,data):\n",
    "    if not os.path.exists(save_path):\n",
    "        os.makedirs(save_path)\n",
    "        print('data directory created')\n",
    "    else:\n",
    "        print('data directory exists')\n",
    "\n",
    "    files = os.listdir(save_path)\n",
    "\n",
    "    if not files:\n",
    "        response = requests.get(download_link, stream=True)\n",
    "        if response.status_code == 200:\n",
    "            print('downloading...')\n",
    "            with open(os.path.join(save_path,data + '.zip'), 'wb') as file:\n",
    "                file.write(response.content)\n",
    "                print('download complete')\n",
    "\n",
    "    else:\n",
    "        zip_files = [file for file in files if file.endswith('.zip')]\n",
    "        if zip_files:\n",
    "            print('directory contains .zip files:', zip_files)"
   ]
  },
  {
   "cell_type": "code",
   "execution_count": null,
   "metadata": {
    "tags": []
   },
   "outputs": [],
   "source": [
    "download_data(\n",
    "    glathida_path,\n",
    "    glathida_download_link,\n",
    "    data = 'glathida'\n",
    ")"
   ]
  },
  {
   "cell_type": "code",
   "execution_count": null,
   "metadata": {
    "tags": []
   },
   "outputs": [],
   "source": [
    "download_data(\n",
    "    RGI_path,\n",
    "    RGI_download_link,\n",
    "    data = 'RGI'\n",
    ")"
   ]
  },
  {
   "cell_type": "code",
   "execution_count": null,
   "metadata": {
    "tags": []
   },
   "outputs": [],
   "source": [
    "download_data(\n",
    "    ref_path,\n",
    "    ref_download_link,\n",
    "    data = 'reference_thicknesses'\n",
    ")"
   ]
  },
  {
   "cell_type": "code",
   "execution_count": null,
   "metadata": {
    "tags": []
   },
   "outputs": [],
   "source": [
    "glathida_file = 'glathida-3.1.0/data/T.csv'\n",
    "zip_path = os.path.join(glathida_path, 'glathida.zip')\n",
    "destination_file = os.path.join(glathida_path, 'T.csv') \n",
    "\n",
    "with zipfile.ZipFile(zip_path, 'r') as zipped_file:\n",
    "    if os.path.exists(destination_file):\n",
    "        print(f'data already unzipped to {glathida_path}')\n",
    "    else:\n",
    "        if glathida_file in zipped_file.namelist():\n",
    "            with zipped_file.open(\n",
    "                glathida_file) as source, open(\n",
    "                destination_file, 'wb') as dest:\n",
    "                dest.write(source.read())\n",
    "            print(f'data unzipped to {glathida_path}')\n"
   ]
  },
  {
   "cell_type": "code",
   "execution_count": null,
   "metadata": {
    "tags": []
   },
   "outputs": [],
   "source": [
    "zip_path = os.path.join(RGI_path,'RGI.zip')\n",
    "with zipfile.ZipFile(zip_path, 'r') as zipped_file:\n",
    "    if os.path.exists(os.path.join(RGI_path,'*.csv')):\n",
    "        print(f'data already unzipped to {RGI_path}')\n",
    "    else:\n",
    "        zipped_file.extractall(RGI_path)\n",
    "        print(f'data unzipped to {RGI_path}')"
   ]
  },
  {
   "cell_type": "code",
   "execution_count": null,
   "metadata": {
    "tags": []
   },
   "outputs": [],
   "source": [
    "zip_path = os.path.join(ref_path,'reference_thicknesses.zip')\n",
    "with zipfile.ZipFile(zip_path, 'r') as zipped_file:\n",
    "    if os.path.exists(os.path.join(ref_path,'RGI*')):\n",
    "        print(f'data already unzipped to {ref_path}')\n",
    "    else:\n",
    "        zipped_file.extractall(ref_path)\n",
    "        print(f'data unzipped to {ref_path}')"
   ]
  },
  {
   "cell_type": "code",
   "execution_count": null,
   "metadata": {
    "tags": []
   },
   "outputs": [],
   "source": [
    "RGIIds = []\n",
    "means = []\n",
    "for folder in os.listdir(ref_path):\n",
    "    if folder.startswith('RGI'):\n",
    "        print(folder)\n",
    "        region_path = os.path.join(ref_path, folder)\n",
    "        for file in os.listdir(region_path):\n",
    "            glac_path = os.path.join(region_path, file)\n",
    "            \n",
    "            # print(file)\n",
    "            im = Image.open(glac_path)\n",
    "            arr = np.array(im)\n",
    "            \n",
    "            # Check if the array contains non-zero values\n",
    "            if np.count_nonzero(arr) > 0:\n",
    "                arr[arr == 0] = np.nan\n",
    "                mean_thickness = np.nanmean(arr)\n",
    "                means.append(mean_thickness)\n",
    "                RGIIds.append(file[:-14])\n",
    "            else:\n",
    "                print(f\"Array in file {file} is empty. Skipping...\")\n",
    "            \n",
    "df = pd.concat(\n",
    "    [\n",
    "        pd.Series(RGIIds, name='RGIId'),\n",
    "        pd.Series(means, name='FMT'),\n",
    "    ], axis=1\n",
    ")\n",
    "df.to_pickle(os.path.join(ref_path,'refs.pkl'))"
   ]
  },
  {
   "cell_type": "code",
   "execution_count": null,
   "metadata": {
    "tags": []
   },
   "outputs": [],
   "source": []
  }
 ],
 "metadata": {
  "kernelspec": {
   "display_name": "glacierml (Python3.8.10)",
   "language": "python",
   "name": "prethicktor"
  },
  "language_info": {
   "codemirror_mode": {
    "name": "ipython",
    "version": 3
   },
   "file_extension": ".py",
   "mimetype": "text/x-python",
   "name": "python",
   "nbconvert_exporter": "python",
   "pygments_lexer": "ipython3",
   "version": "3.8.10"
  }
 },
 "nbformat": 4,
 "nbformat_minor": 4
}
