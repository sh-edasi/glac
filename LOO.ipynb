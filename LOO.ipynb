{
 "cells": [
  {
   "cell_type": "markdown",
   "id": "563ee1f5",
   "metadata": {},
   "source": [
    "## Import dependancies and set environment determinism"
   ]
  },
  {
   "cell_type": "code",
   "execution_count": 1,
   "id": "7f4b08c2",
   "metadata": {},
   "outputs": [
    {
     "name": "stderr",
     "output_type": "stream",
     "text": [
      "2023-11-22 17:20:28.051691: W tensorflow/compiler/tf2tensorrt/utils/py_utils.cc:38] TF-TRT Warning: Could not find TensorRT\n"
     ]
    },
    {
     "name": "stdout",
     "output_type": "stream",
     "text": [
      "378\n"
     ]
    }
   ],
   "source": [
    "import os\n",
    "os.environ['TF_CPP_MIN_LOG_LEVEL'] = '1'\n",
    "import tensorflow as tf\n",
    "#     tf.get_logger().setLevel('ERROR')\n",
    "tf.compat.v1.logging.set_verbosity(\n",
    "    0\n",
    ")\n",
    "import numpy as np\n",
    "import random\n",
    "import pandas as pd\n",
    "\n",
    "\n",
    "SEED = 378\n",
    "# SEED = 123\n",
    "print(SEED)\n",
    "def set_seeds(seed=SEED):\n",
    "    os.environ['PYTHONHASHSEED'] = str(seed)\n",
    "    random.seed(seed)\n",
    "    tf.random.set_seed(seed)\n",
    "    np.random.seed(seed)\n",
    "\n",
    "def set_global_determinism(seed=SEED):\n",
    "    set_seeds(seed=seed)\n",
    "\n",
    "    os.environ['TF_DETERMINISTIC_OPS'] = '1'\n",
    "    os.environ['TF_CUDNN_DETERMINISTIC'] = '1'\n",
    "\n",
    "    tf.config.threading.set_inter_op_parallelism_threads(1)\n",
    "    tf.config.threading.set_intra_op_parallelism_threads(1)\n",
    "\n",
    "# Call the above function with seed value\n",
    "set_global_determinism(seed=SEED)\n",
    "\n",
    "    \n"
   ]
  },
  {
   "cell_type": "code",
   "execution_count": 2,
   "id": "c2ec4248",
   "metadata": {},
   "outputs": [],
   "source": [
    "import glacierml as gl\n",
    "from tensorflow import keras\n",
    "from tensorflow.keras import layers\n",
    "from tensorflow.keras.layers.experimental import preprocessing\n",
    "import matplotlib.pyplot as plt\n",
    "import statsmodels.api as sm\n",
    "from scipy.stats import norm\n",
    "from scipy.stats import kstest\n",
    "from scipy.stats import shapiro \n",
    "from scipy.stats import gaussian_kde\n",
    "from tqdm import tqdm\n",
    "from scipy import stats\n",
    "from mpl_toolkits.axes_grid1 import make_axes_locatable\n",
    "import matplotlib as mpl\n",
    "import scipy.stats as st\n",
    "from sklearn import metrics\n",
    "import absl.logging\n",
    "absl.logging.set_verbosity(absl.logging.ERROR)\n",
    "pd.set_option('display.max_columns', None)"
   ]
  },
  {
   "cell_type": "code",
   "execution_count": 11,
   "id": "ebfc7f5b",
   "metadata": {},
   "outputs": [],
   "source": [
    "# if os.path.isdir(res_dir) == False:\n",
    "\n",
    "def run_model(model_path, n,l1,l2,loss):\n",
    "            \n",
    "    normalizer = preprocessing.Normalization(axis=-1)\n",
    "    normalizer.adapt(np.array(trfeat[n]))\n",
    "\n",
    "    model = gl.build_dnn_model(\n",
    "        normalizer, learning_rate = 0.01, \n",
    "        layer_1 = l1, layer_2 = l2,loss = loss\n",
    "    )\n",
    "\n",
    "    model_history = model.fit(\n",
    "        trfeat[n],\n",
    "        trlabs[n],\n",
    "        validation_split=0.2,\n",
    "        callbacks = [callback],\n",
    "        verbose=0, \n",
    "        epochs=500\n",
    "    )\n",
    "    model_filename = os.path.join(model_path,str(n))\n",
    "    model.save(model_filename)\n",
    "    return model\n",
    "\n",
    "\n",
    "def find_results(df,model):\n",
    "    results = {}\n",
    "    residuals = {}\n",
    "    final_results = pd.DataFrame()\n",
    "    y = {}\n",
    "    for n in tqdm(df.index):\n",
    "\n",
    "\n",
    "        results[n] = model[n].evaluate(tefeat[n], telabs[n],verbose = 0)\n",
    "        y[n] = model[n].predict(tefeat[n],verbose = 0).flatten()\n",
    "    #     residuals[n] = y[n] - telabs[n].values[0]\n",
    "    #     p_res = residuals[n] / telabs[n].values[0]\n",
    "        RMSE = np.sqrt(metrics.mean_squared_error(telabs[n].values, y[n]))\n",
    "        MAPerror = np.mean((y[n] - (telabs[n].values[0])) / telabs[n].values[0]) * 100 \n",
    "\n",
    "\n",
    "    #     tq75 = np.percentile(residuals[n], 75)\n",
    "    #     tq25 = np.percentile(residuals[n], 25)\n",
    "\n",
    "    #     TIQR = tq75 - tq25\n",
    "\n",
    "        z = model[n].predict(df.drop(['RGIId','Thickness'],axis = 1),verbose = 0).flatten()\n",
    "        ver_res = z - df['Thickness']\n",
    "        ver_res_mean = np.mean(ver_res)\n",
    "        ver_res_std =  np.std(ver_res)\n",
    "        vq75 = np.percentile(ver_res,75)\n",
    "        vq25 = np.percentile(ver_res,25)\n",
    "        VIQR = vq75 - vq25\n",
    "\n",
    "        test_res_n = pd.DataFrame(pd.Series(n,name = n))\n",
    "        test_res = pd.DataFrame(pd.Series((RMSE), name = 'RMSE'))\n",
    "    #     test_res_std = pd.DataFrame(pd.Series(np.std(residuals[n].values),name = 'Val STD'))\n",
    "\n",
    "        test_res_n['Model Loss'] = results\n",
    "    #             test_res_n['RMSE'] = RMSE\n",
    "        test_res_n['Percent Error'] = MAPerror\n",
    "        trm = test_res_n.join(test_res)\n",
    "    #         #     test_res_mean = test_res_mean.join(test_res_std)\n",
    "    #         #     test_res_mean['TRes Max'] = residuals[n].max()\n",
    "    #         #     test_res_mean['TRes Min'] = residuals[n].min()\n",
    "    #         #     test_res_mean['TRes IQR'] = TIQR\n",
    "        trm['VRes Mean'] = ver_res_mean    \n",
    "        trm['VRes STD'] = ver_res_std\n",
    "        trm['VRes Max'] = ver_res.max()\n",
    "        trm['VRes Min'] = ver_res.min()\n",
    "        trm['VRes IQR'] = VIQR\n",
    "    #             trm['est'] = y\n",
    "    #             trm['Thickness'] = telabs.values[0]\n",
    "    #             trm['Area'] = tefeat[n]['Area'].values[0]\n",
    "    #             trm['Lmax'] = tefeat[n]['Lmax'].values[0]\n",
    "    #             trm['Slope'] = tefeat[n]['Slope'].values[0]\n",
    "    #             trm['Zmin'] = tefeat[n]['Zmin'].values[0]\n",
    "    #             trm['Zmed'] = tefeat[n]['Zmed'].values[0]\n",
    "    #             trm['Zmax'] = tefeat[n]['Zmax'].values[0]\n",
    "    #             trm['CenLat'] = tefeat[n]['CenLat'].values[0]\n",
    "    #             trm['CenLon'] = tefeat[n]['CenLon'].values[0]\n",
    "    #             trm['Aspect'] = tefeat[n]['Aspect'].values[0]\n",
    "        final_results = pd.concat([final_results,trm])\n",
    "        fr = final_results\n",
    "        return fr"
   ]
  },
  {
   "cell_type": "code",
   "execution_count": 12,
   "id": "b6765b85",
   "metadata": {},
   "outputs": [],
   "source": [
    "callback = tf.keras.callbacks.EarlyStopping(\n",
    "    monitor = 'val_loss',\n",
    "    min_delta = 0.001,\n",
    "    patience = 10,\n",
    "    verbose = 0,\n",
    "    mode = 'auto',\n",
    "    baseline = None,\n",
    "    restore_best_weights = True\n",
    ")"
   ]
  },
  {
   "cell_type": "code",
   "execution_count": 13,
   "id": "c8b8f66b",
   "metadata": {
    "scrolled": true
   },
   "outputs": [],
   "source": [
    "# l1_list = [3,4,5,6,7,8,9,10,11,12,13,14,15,16,17,18,19,20]\n",
    "# l2_list = [2,3,4,5,6,7,8,9,10,11,12,13,14,15]\n",
    "# loss_list = ['mse','mae']\n",
    "# df = gl.coregister_data('4')\n",
    "# df = df.drop(df[df['RGIId'].duplicated(keep = False)].index)\n",
    "\n",
    "# df = df.sample(frac = 1,random_state = 0)\n",
    "# df = df.reset_index().drop('index', axis = 1)\n",
    "\n",
    "# dft = df.copy()\n",
    "\n",
    "# trfeat, tefeat, trlabs, telabs = gl.split_data(df)\n",
    "\n",
    "# for loss in loss_list:\n",
    "#     for l2 in l2_list:\n",
    "#         for l1 in l1_list:\n",
    "#             if l2 >= l1:\n",
    "#                 continue\n",
    "#             else:\n",
    "\n",
    "#                 model = {}\n",
    "#                 model_history = {}\n",
    "#                 normalizer = {}\n",
    "#                 path = '/data/fast1/glacierml/models/LOO_loss_testing/'\n",
    "#                 model_path = os.path.join(\n",
    "#                    path ,loss,str(l1)+'-'+str(l2)\n",
    "#                 )\n",
    "#                 res_dir = os.path.join(path, loss,'final_results.pkl')\n",
    "#                 if os.path.isdir(res_dir) == True:\n",
    "#                     continue\n",
    "\n",
    "#                 isdir = model_path\n",
    "#                 if os.path.isdir(isdir) == True:\n",
    "#                     continue\n",
    "#                 if os.path.isdir(isdir) == False:\n",
    "#                     print(model_path)\n",
    "#                     set_global_determinism(seed=SEED)\n",
    "#                     run_model(model_path,l1,l2,loss)\n",
    "# print('all done')"
   ]
  },
  {
   "cell_type": "code",
   "execution_count": 18,
   "id": "4cedfcf9",
   "metadata": {
    "scrolled": true
   },
   "outputs": [
    {
     "name": "stderr",
     "output_type": "stream",
     "text": [
      "100%|██████████| 273/273 [00:56<00:00,  4.85it/s]\n",
      "  0%|          | 0/273 [00:00<?, ?it/s]"
     ]
    },
    {
     "name": "stdout",
     "output_type": "stream",
     "text": [
      "6766/6766 [==============================] - 4s 656us/step\n"
     ]
    },
    {
     "name": "stderr",
     "output_type": "stream",
     "text": [
      "\r",
      "  0%|          | 1/273 [00:05<26:08,  5.77s/it]"
     ]
    },
    {
     "name": "stdout",
     "output_type": "stream",
     "text": [
      "6766/6766 [==============================] - 4s 573us/step\n"
     ]
    },
    {
     "name": "stderr",
     "output_type": "stream",
     "text": [
      "\r",
      "  1%|          | 2/273 [00:10<24:35,  5.44s/it]"
     ]
    },
    {
     "name": "stdout",
     "output_type": "stream",
     "text": [
      "6766/6766 [==============================] - 4s 572us/step\n"
     ]
    },
    {
     "name": "stderr",
     "output_type": "stream",
     "text": [
      "\r",
      "  1%|          | 3/273 [00:16<23:59,  5.33s/it]"
     ]
    },
    {
     "name": "stdout",
     "output_type": "stream",
     "text": [
      "6766/6766 [==============================] - 4s 571us/step\n"
     ]
    },
    {
     "name": "stderr",
     "output_type": "stream",
     "text": [
      "\r",
      "  1%|▏         | 4/273 [00:21<23:39,  5.28s/it]"
     ]
    },
    {
     "name": "stdout",
     "output_type": "stream",
     "text": [
      "6766/6766 [==============================] - 5s 665us/step\n"
     ]
    },
    {
     "name": "stderr",
     "output_type": "stream",
     "text": [
      "\r",
      "  2%|▏         | 5/273 [00:27<24:35,  5.51s/it]"
     ]
    },
    {
     "name": "stdout",
     "output_type": "stream",
     "text": [
      "6766/6766 [==============================] - 4s 572us/step\n"
     ]
    },
    {
     "name": "stderr",
     "output_type": "stream",
     "text": [
      "\r",
      "  2%|▏         | 6/273 [00:32<24:03,  5.41s/it]"
     ]
    },
    {
     "name": "stdout",
     "output_type": "stream",
     "text": [
      "6766/6766 [==============================] - 4s 567us/step\n"
     ]
    },
    {
     "name": "stderr",
     "output_type": "stream",
     "text": [
      "\r",
      "  3%|▎         | 7/273 [00:37<23:39,  5.33s/it]"
     ]
    },
    {
     "name": "stdout",
     "output_type": "stream",
     "text": [
      "6766/6766 [==============================] - 4s 606us/step\n"
     ]
    },
    {
     "name": "stderr",
     "output_type": "stream",
     "text": [
      "\r",
      "  3%|▎         | 8/273 [00:43<23:43,  5.37s/it]"
     ]
    },
    {
     "name": "stdout",
     "output_type": "stream",
     "text": [
      "6766/6766 [==============================] - 4s 575us/step\n"
     ]
    },
    {
     "name": "stderr",
     "output_type": "stream",
     "text": [
      "\r",
      "  3%|▎         | 9/273 [00:48<23:26,  5.33s/it]"
     ]
    },
    {
     "name": "stdout",
     "output_type": "stream",
     "text": [
      "6766/6766 [==============================] - 4s 573us/step\n"
     ]
    },
    {
     "name": "stderr",
     "output_type": "stream",
     "text": [
      "\r",
      "  4%|▎         | 10/273 [00:53<23:12,  5.29s/it]"
     ]
    },
    {
     "name": "stdout",
     "output_type": "stream",
     "text": [
      "6766/6766 [==============================] - 5s 664us/step\n"
     ]
    },
    {
     "name": "stderr",
     "output_type": "stream",
     "text": [
      "\r",
      "  4%|▍         | 11/273 [00:59<23:49,  5.45s/it]"
     ]
    },
    {
     "name": "stdout",
     "output_type": "stream",
     "text": [
      "6766/6766 [==============================] - 4s 577us/step\n"
     ]
    },
    {
     "name": "stderr",
     "output_type": "stream",
     "text": [
      "\r",
      "  4%|▍         | 12/273 [01:04<23:27,  5.39s/it]"
     ]
    },
    {
     "name": "stdout",
     "output_type": "stream",
     "text": [
      "6766/6766 [==============================] - 4s 575us/step\n"
     ]
    },
    {
     "name": "stderr",
     "output_type": "stream",
     "text": [
      "\r",
      "  5%|▍         | 13/273 [01:09<23:09,  5.35s/it]"
     ]
    },
    {
     "name": "stdout",
     "output_type": "stream",
     "text": [
      "6766/6766 [==============================] - 4s 573us/step\n"
     ]
    },
    {
     "name": "stderr",
     "output_type": "stream",
     "text": [
      "\r",
      "  5%|▌         | 14/273 [01:15<22:55,  5.31s/it]"
     ]
    },
    {
     "name": "stdout",
     "output_type": "stream",
     "text": [
      "6766/6766 [==============================] - 5s 665us/step\n"
     ]
    },
    {
     "name": "stderr",
     "output_type": "stream",
     "text": [
      "\r",
      "  5%|▌         | 15/273 [01:20<23:30,  5.47s/it]"
     ]
    },
    {
     "name": "stdout",
     "output_type": "stream",
     "text": [
      "6766/6766 [==============================] - 4s 573us/step\n"
     ]
    },
    {
     "name": "stderr",
     "output_type": "stream",
     "text": [
      "\r",
      "  6%|▌         | 16/273 [01:26<23:07,  5.40s/it]"
     ]
    },
    {
     "name": "stdout",
     "output_type": "stream",
     "text": [
      "6766/6766 [==============================] - 4s 574us/step\n"
     ]
    },
    {
     "name": "stderr",
     "output_type": "stream",
     "text": [
      "\r",
      "  6%|▌         | 17/273 [01:31<22:47,  5.34s/it]"
     ]
    },
    {
     "name": "stdout",
     "output_type": "stream",
     "text": [
      "6766/6766 [==============================] - 6s 897us/step\n"
     ]
    },
    {
     "name": "stderr",
     "output_type": "stream",
     "text": [
      "\r",
      "  7%|▋         | 18/273 [01:38<25:21,  5.97s/it]"
     ]
    },
    {
     "name": "stdout",
     "output_type": "stream",
     "text": [
      "6766/6766 [==============================] - 4s 577us/step\n"
     ]
    },
    {
     "name": "stderr",
     "output_type": "stream",
     "text": [
      "\r",
      "  7%|▋         | 19/273 [01:44<24:22,  5.76s/it]"
     ]
    },
    {
     "name": "stdout",
     "output_type": "stream",
     "text": [
      "6766/6766 [==============================] - 4s 576us/step\n"
     ]
    },
    {
     "name": "stderr",
     "output_type": "stream",
     "text": [
      "\r",
      "  7%|▋         | 20/273 [01:49<23:38,  5.61s/it]"
     ]
    },
    {
     "name": "stdout",
     "output_type": "stream",
     "text": [
      "6766/6766 [==============================] - 4s 576us/step\n"
     ]
    },
    {
     "name": "stderr",
     "output_type": "stream",
     "text": [
      "\r",
      "  8%|▊         | 21/273 [01:54<23:05,  5.50s/it]"
     ]
    },
    {
     "name": "stdout",
     "output_type": "stream",
     "text": [
      "6766/6766 [==============================] - 4s 577us/step\n"
     ]
    },
    {
     "name": "stderr",
     "output_type": "stream",
     "text": [
      "\r",
      "  8%|▊         | 22/273 [01:59<22:40,  5.42s/it]"
     ]
    },
    {
     "name": "stdout",
     "output_type": "stream",
     "text": [
      "6766/6766 [==============================] - 4s 576us/step\n"
     ]
    },
    {
     "name": "stderr",
     "output_type": "stream",
     "text": [
      "\r",
      "  8%|▊         | 23/273 [02:05<22:21,  5.37s/it]"
     ]
    },
    {
     "name": "stdout",
     "output_type": "stream",
     "text": [
      "6766/6766 [==============================] - 4s 576us/step\n"
     ]
    },
    {
     "name": "stderr",
     "output_type": "stream",
     "text": [
      "\r",
      "  9%|▉         | 24/273 [02:10<22:07,  5.33s/it]"
     ]
    },
    {
     "name": "stdout",
     "output_type": "stream",
     "text": [
      "6766/6766 [==============================] - 4s 575us/step\n"
     ]
    },
    {
     "name": "stderr",
     "output_type": "stream",
     "text": [
      "\r",
      "  9%|▉         | 25/273 [02:15<21:55,  5.30s/it]"
     ]
    },
    {
     "name": "stdout",
     "output_type": "stream",
     "text": [
      "6766/6766 [==============================] - 4s 574us/step\n"
     ]
    },
    {
     "name": "stderr",
     "output_type": "stream",
     "text": [
      "\r",
      " 10%|▉         | 26/273 [02:20<21:44,  5.28s/it]"
     ]
    },
    {
     "name": "stdout",
     "output_type": "stream",
     "text": [
      "6766/6766 [==============================] - 4s 575us/step\n"
     ]
    },
    {
     "name": "stderr",
     "output_type": "stream",
     "text": [
      "\r",
      " 10%|▉         | 27/273 [02:26<21:35,  5.26s/it]"
     ]
    },
    {
     "name": "stdout",
     "output_type": "stream",
     "text": [
      "6766/6766 [==============================] - 4s 576us/step\n"
     ]
    },
    {
     "name": "stderr",
     "output_type": "stream",
     "text": [
      "\r",
      " 10%|█         | 28/273 [02:31<21:27,  5.26s/it]"
     ]
    },
    {
     "name": "stdout",
     "output_type": "stream",
     "text": [
      "6766/6766 [==============================] - 4s 576us/step\n"
     ]
    },
    {
     "name": "stderr",
     "output_type": "stream",
     "text": [
      "\r",
      " 11%|█         | 29/273 [02:36<21:21,  5.25s/it]"
     ]
    },
    {
     "name": "stdout",
     "output_type": "stream",
     "text": [
      "6766/6766 [==============================] - 4s 575us/step\n"
     ]
    },
    {
     "name": "stderr",
     "output_type": "stream",
     "text": [
      "\r",
      " 11%|█         | 30/273 [02:41<21:15,  5.25s/it]"
     ]
    },
    {
     "name": "stdout",
     "output_type": "stream",
     "text": [
      "6766/6766 [==============================] - 4s 576us/step\n"
     ]
    },
    {
     "name": "stderr",
     "output_type": "stream",
     "text": [
      "\r",
      " 11%|█▏        | 31/273 [02:46<21:09,  5.25s/it]"
     ]
    },
    {
     "name": "stdout",
     "output_type": "stream",
     "text": [
      "6766/6766 [==============================] - 4s 575us/step\n"
     ]
    },
    {
     "name": "stderr",
     "output_type": "stream",
     "text": [
      "\r",
      " 12%|█▏        | 32/273 [02:52<21:04,  5.25s/it]"
     ]
    },
    {
     "name": "stdout",
     "output_type": "stream",
     "text": [
      "6766/6766 [==============================] - 4s 638us/step\n"
     ]
    },
    {
     "name": "stderr",
     "output_type": "stream",
     "text": [
      "\r",
      " 12%|█▏        | 33/273 [02:57<21:28,  5.37s/it]"
     ]
    },
    {
     "name": "stdout",
     "output_type": "stream",
     "text": [
      "6766/6766 [==============================] - 5s 666us/step\n"
     ]
    },
    {
     "name": "stderr",
     "output_type": "stream",
     "text": [
      "\r",
      " 12%|█▏        | 34/273 [03:03<21:56,  5.51s/it]"
     ]
    },
    {
     "name": "stdout",
     "output_type": "stream",
     "text": [
      "6766/6766 [==============================] - 4s 574us/step\n"
     ]
    },
    {
     "name": "stderr",
     "output_type": "stream",
     "text": [
      "\r",
      " 13%|█▎        | 35/273 [03:08<21:31,  5.43s/it]"
     ]
    },
    {
     "name": "stdout",
     "output_type": "stream",
     "text": [
      "6766/6766 [==============================] - 4s 646us/step\n"
     ]
    },
    {
     "name": "stderr",
     "output_type": "stream",
     "text": [
      "\r",
      " 13%|█▎        | 36/273 [03:14<21:45,  5.51s/it]"
     ]
    },
    {
     "name": "stdout",
     "output_type": "stream",
     "text": [
      "6766/6766 [==============================] - 4s 576us/step\n"
     ]
    },
    {
     "name": "stderr",
     "output_type": "stream",
     "text": [
      "\r",
      " 14%|█▎        | 37/273 [03:19<21:21,  5.43s/it]"
     ]
    },
    {
     "name": "stdout",
     "output_type": "stream",
     "text": [
      "6766/6766 [==============================] - 5s 665us/step\n"
     ]
    },
    {
     "name": "stderr",
     "output_type": "stream",
     "text": [
      "\r",
      " 14%|█▍        | 38/273 [03:25<21:44,  5.55s/it]"
     ]
    },
    {
     "name": "stdout",
     "output_type": "stream",
     "text": [
      "6766/6766 [==============================] - 4s 608us/step\n"
     ]
    },
    {
     "name": "stderr",
     "output_type": "stream",
     "text": [
      "\r",
      " 14%|█▍        | 39/273 [03:31<21:32,  5.52s/it]"
     ]
    },
    {
     "name": "stdout",
     "output_type": "stream",
     "text": [
      "6766/6766 [==============================] - 4s 570us/step\n"
     ]
    },
    {
     "name": "stderr",
     "output_type": "stream",
     "text": [
      "\r",
      " 15%|█▍        | 40/273 [03:36<21:04,  5.43s/it]"
     ]
    },
    {
     "name": "stdout",
     "output_type": "stream",
     "text": [
      "6766/6766 [==============================] - 5s 663us/step\n"
     ]
    },
    {
     "name": "stderr",
     "output_type": "stream",
     "text": [
      "\r",
      " 15%|█▌        | 41/273 [03:42<21:27,  5.55s/it]"
     ]
    },
    {
     "name": "stdout",
     "output_type": "stream",
     "text": [
      "6766/6766 [==============================] - 4s 639us/step\n"
     ]
    },
    {
     "name": "stderr",
     "output_type": "stream",
     "text": [
      "\r",
      " 15%|█▌        | 42/273 [03:47<21:30,  5.59s/it]"
     ]
    },
    {
     "name": "stdout",
     "output_type": "stream",
     "text": [
      "6766/6766 [==============================] - 5s 677us/step\n"
     ]
    },
    {
     "name": "stderr",
     "output_type": "stream",
     "text": [
      "\r",
      " 16%|█▌        | 43/273 [03:53<21:48,  5.69s/it]"
     ]
    },
    {
     "name": "stdout",
     "output_type": "stream",
     "text": [
      "6766/6766 [==============================] - 5s 657us/step\n"
     ]
    },
    {
     "name": "stderr",
     "output_type": "stream",
     "text": [
      "\r",
      " 16%|█▌        | 44/273 [03:59<21:49,  5.72s/it]"
     ]
    },
    {
     "name": "stdout",
     "output_type": "stream",
     "text": [
      "6766/6766 [==============================] - 4s 620us/step\n"
     ]
    },
    {
     "name": "stderr",
     "output_type": "stream",
     "text": [
      "\r",
      " 16%|█▋        | 45/273 [04:05<21:31,  5.67s/it]"
     ]
    },
    {
     "name": "stdout",
     "output_type": "stream",
     "text": [
      "6766/6766 [==============================] - 4s 592us/step\n"
     ]
    },
    {
     "name": "stderr",
     "output_type": "stream",
     "text": [
      "\r",
      " 17%|█▋        | 46/273 [04:10<21:06,  5.58s/it]"
     ]
    },
    {
     "name": "stdout",
     "output_type": "stream",
     "text": [
      "6766/6766 [==============================] - 4s 569us/step\n"
     ]
    },
    {
     "name": "stderr",
     "output_type": "stream",
     "text": [
      "\r",
      " 17%|█▋        | 47/273 [04:15<20:34,  5.46s/it]"
     ]
    },
    {
     "name": "stdout",
     "output_type": "stream",
     "text": [
      "6766/6766 [==============================] - 4s 568us/step\n"
     ]
    },
    {
     "name": "stderr",
     "output_type": "stream",
     "text": [
      "\r",
      " 18%|█▊        | 48/273 [04:20<20:10,  5.38s/it]"
     ]
    },
    {
     "name": "stdout",
     "output_type": "stream",
     "text": [
      "6766/6766 [==============================] - 4s 568us/step\n"
     ]
    },
    {
     "name": "stderr",
     "output_type": "stream",
     "text": [
      "\r",
      " 18%|█▊        | 49/273 [04:26<19:52,  5.32s/it]"
     ]
    },
    {
     "name": "stdout",
     "output_type": "stream",
     "text": [
      "6766/6766 [==============================] - 4s 568us/step\n"
     ]
    },
    {
     "name": "stderr",
     "output_type": "stream",
     "text": [
      "\r",
      " 18%|█▊        | 50/273 [04:31<19:38,  5.29s/it]"
     ]
    },
    {
     "name": "stdout",
     "output_type": "stream",
     "text": [
      "6766/6766 [==============================] - 4s 575us/step\n"
     ]
    },
    {
     "name": "stderr",
     "output_type": "stream",
     "text": [
      "\r",
      " 19%|█▊        | 51/273 [04:36<19:30,  5.27s/it]"
     ]
    },
    {
     "name": "stdout",
     "output_type": "stream",
     "text": [
      "6766/6766 [==============================] - 4s 568us/step\n"
     ]
    },
    {
     "name": "stderr",
     "output_type": "stream",
     "text": [
      "\r",
      " 19%|█▉        | 52/273 [04:41<19:20,  5.25s/it]"
     ]
    },
    {
     "name": "stdout",
     "output_type": "stream",
     "text": [
      "6766/6766 [==============================] - 4s 573us/step\n"
     ]
    },
    {
     "name": "stderr",
     "output_type": "stream",
     "text": [
      "\r",
      " 19%|█▉        | 53/273 [04:46<19:13,  5.24s/it]"
     ]
    },
    {
     "name": "stdout",
     "output_type": "stream",
     "text": [
      "6766/6766 [==============================] - 4s 575us/step\n"
     ]
    },
    {
     "name": "stderr",
     "output_type": "stream",
     "text": [
      "\r",
      " 20%|█▉        | 54/273 [04:52<19:07,  5.24s/it]"
     ]
    },
    {
     "name": "stdout",
     "output_type": "stream",
     "text": [
      "6766/6766 [==============================] - 4s 567us/step\n"
     ]
    },
    {
     "name": "stderr",
     "output_type": "stream",
     "text": [
      "\r",
      " 20%|██        | 55/273 [04:57<18:59,  5.23s/it]"
     ]
    },
    {
     "name": "stdout",
     "output_type": "stream",
     "text": [
      "6766/6766 [==============================] - 4s 567us/step\n"
     ]
    },
    {
     "name": "stderr",
     "output_type": "stream",
     "text": [
      "\r",
      " 21%|██        | 56/273 [05:02<18:51,  5.22s/it]"
     ]
    },
    {
     "name": "stdout",
     "output_type": "stream",
     "text": [
      "6766/6766 [==============================] - 5s 675us/step\n"
     ]
    },
    {
     "name": "stderr",
     "output_type": "stream",
     "text": [
      "\r",
      " 21%|██        | 57/273 [05:08<19:32,  5.43s/it]"
     ]
    },
    {
     "name": "stdout",
     "output_type": "stream",
     "text": [
      "6766/6766 [==============================] - 5s 669us/step\n"
     ]
    },
    {
     "name": "stderr",
     "output_type": "stream",
     "text": [
      "\r",
      " 21%|██        | 58/273 [05:14<19:56,  5.56s/it]"
     ]
    },
    {
     "name": "stdout",
     "output_type": "stream",
     "text": [
      "6766/6766 [==============================] - 4s 640us/step\n"
     ]
    },
    {
     "name": "stderr",
     "output_type": "stream",
     "text": [
      "\r",
      " 22%|██▏       | 59/273 [05:20<19:58,  5.60s/it]"
     ]
    },
    {
     "name": "stdout",
     "output_type": "stream",
     "text": [
      "6766/6766 [==============================] - 4s 569us/step\n"
     ]
    },
    {
     "name": "stderr",
     "output_type": "stream",
     "text": [
      "\r",
      " 22%|██▏       | 60/273 [05:25<19:27,  5.48s/it]"
     ]
    },
    {
     "name": "stdout",
     "output_type": "stream",
     "text": [
      "6766/6766 [==============================] - 4s 569us/step\n"
     ]
    },
    {
     "name": "stderr",
     "output_type": "stream",
     "text": [
      "\r",
      " 22%|██▏       | 61/273 [05:30<19:04,  5.40s/it]"
     ]
    },
    {
     "name": "stdout",
     "output_type": "stream",
     "text": [
      "6766/6766 [==============================] - 4s 568us/step\n"
     ]
    },
    {
     "name": "stderr",
     "output_type": "stream",
     "text": [
      "\r",
      " 23%|██▎       | 62/273 [05:35<18:45,  5.33s/it]"
     ]
    },
    {
     "name": "stdout",
     "output_type": "stream",
     "text": [
      "6766/6766 [==============================] - 4s 567us/step\n"
     ]
    },
    {
     "name": "stderr",
     "output_type": "stream",
     "text": [
      "\r",
      " 23%|██▎       | 63/273 [05:40<18:31,  5.29s/it]"
     ]
    },
    {
     "name": "stdout",
     "output_type": "stream",
     "text": [
      "6766/6766 [==============================] - 4s 576us/step\n"
     ]
    },
    {
     "name": "stderr",
     "output_type": "stream",
     "text": [
      "\r",
      " 23%|██▎       | 64/273 [05:46<18:23,  5.28s/it]"
     ]
    },
    {
     "name": "stdout",
     "output_type": "stream",
     "text": [
      "6766/6766 [==============================] - 4s 580us/step\n"
     ]
    },
    {
     "name": "stderr",
     "output_type": "stream",
     "text": [
      "\r",
      " 24%|██▍       | 65/273 [05:51<18:17,  5.28s/it]"
     ]
    },
    {
     "name": "stdout",
     "output_type": "stream",
     "text": [
      "6766/6766 [==============================] - 4s 575us/step\n"
     ]
    },
    {
     "name": "stderr",
     "output_type": "stream",
     "text": [
      "\r",
      " 24%|██▍       | 66/273 [05:56<18:11,  5.27s/it]"
     ]
    },
    {
     "name": "stdout",
     "output_type": "stream",
     "text": [
      "6766/6766 [==============================] - 5s 668us/step\n"
     ]
    },
    {
     "name": "stderr",
     "output_type": "stream",
     "text": [
      "\r",
      " 25%|██▍       | 67/273 [06:02<18:44,  5.46s/it]"
     ]
    },
    {
     "name": "stdout",
     "output_type": "stream",
     "text": [
      "6766/6766 [==============================] - 4s 655us/step\n"
     ]
    },
    {
     "name": "stderr",
     "output_type": "stream",
     "text": [
      "\r",
      " 25%|██▍       | 68/273 [06:08<18:58,  5.56s/it]"
     ]
    },
    {
     "name": "stdout",
     "output_type": "stream",
     "text": [
      "6766/6766 [==============================] - 4s 577us/step\n"
     ]
    },
    {
     "name": "stderr",
     "output_type": "stream",
     "text": [
      "\r",
      " 25%|██▌       | 69/273 [06:13<18:35,  5.47s/it]"
     ]
    },
    {
     "name": "stdout",
     "output_type": "stream",
     "text": [
      "6766/6766 [==============================] - 4s 585us/step\n"
     ]
    },
    {
     "name": "stderr",
     "output_type": "stream",
     "text": [
      "\r",
      " 26%|██▌       | 70/273 [06:18<18:20,  5.42s/it]"
     ]
    },
    {
     "name": "stdout",
     "output_type": "stream",
     "text": [
      "6766/6766 [==============================] - 4s 568us/step\n"
     ]
    },
    {
     "name": "stderr",
     "output_type": "stream",
     "text": [
      "\r",
      " 26%|██▌       | 71/273 [06:24<18:00,  5.35s/it]"
     ]
    },
    {
     "name": "stdout",
     "output_type": "stream",
     "text": [
      "6766/6766 [==============================] - 4s 573us/step\n"
     ]
    },
    {
     "name": "stderr",
     "output_type": "stream",
     "text": [
      "\r",
      " 26%|██▋       | 72/273 [06:29<17:48,  5.32s/it]"
     ]
    },
    {
     "name": "stdout",
     "output_type": "stream",
     "text": [
      "6766/6766 [==============================] - 4s 570us/step\n"
     ]
    },
    {
     "name": "stderr",
     "output_type": "stream",
     "text": [
      "\r",
      " 27%|██▋       | 73/273 [06:34<17:37,  5.29s/it]"
     ]
    },
    {
     "name": "stdout",
     "output_type": "stream",
     "text": [
      "6766/6766 [==============================] - 4s 569us/step\n"
     ]
    },
    {
     "name": "stderr",
     "output_type": "stream",
     "text": [
      "\r",
      " 27%|██▋       | 74/273 [06:39<17:27,  5.26s/it]"
     ]
    },
    {
     "name": "stdout",
     "output_type": "stream",
     "text": [
      "6766/6766 [==============================] - 4s 568us/step\n"
     ]
    },
    {
     "name": "stderr",
     "output_type": "stream",
     "text": [
      "\r",
      " 27%|██▋       | 75/273 [06:44<17:17,  5.24s/it]"
     ]
    },
    {
     "name": "stdout",
     "output_type": "stream",
     "text": [
      "6766/6766 [==============================] - 4s 590us/step\n"
     ]
    },
    {
     "name": "stderr",
     "output_type": "stream",
     "text": [
      "\r",
      " 28%|██▊       | 76/273 [06:50<17:18,  5.27s/it]"
     ]
    },
    {
     "name": "stdout",
     "output_type": "stream",
     "text": [
      "6766/6766 [==============================] - 4s 597us/step\n"
     ]
    },
    {
     "name": "stderr",
     "output_type": "stream",
     "text": [
      "\r",
      " 28%|██▊       | 77/273 [06:55<17:22,  5.32s/it]"
     ]
    },
    {
     "name": "stdout",
     "output_type": "stream",
     "text": [
      "6766/6766 [==============================] - 4s 597us/step\n"
     ]
    },
    {
     "name": "stderr",
     "output_type": "stream",
     "text": [
      "\r",
      " 29%|██▊       | 78/273 [07:01<17:22,  5.34s/it]"
     ]
    },
    {
     "name": "stdout",
     "output_type": "stream",
     "text": [
      "6766/6766 [==============================] - 4s 599us/step\n"
     ]
    },
    {
     "name": "stderr",
     "output_type": "stream",
     "text": [
      "\r",
      " 29%|██▉       | 79/273 [07:06<17:21,  5.37s/it]"
     ]
    },
    {
     "name": "stdout",
     "output_type": "stream",
     "text": [
      "6766/6766 [==============================] - 4s 596us/step\n"
     ]
    },
    {
     "name": "stderr",
     "output_type": "stream",
     "text": [
      "\r",
      " 29%|██▉       | 80/273 [07:11<17:17,  5.38s/it]"
     ]
    },
    {
     "name": "stdout",
     "output_type": "stream",
     "text": [
      "6766/6766 [==============================] - 4s 581us/step\n"
     ]
    },
    {
     "name": "stderr",
     "output_type": "stream",
     "text": [
      "\r",
      " 30%|██▉       | 81/273 [07:17<17:07,  5.35s/it]"
     ]
    },
    {
     "name": "stdout",
     "output_type": "stream",
     "text": [
      "6766/6766 [==============================] - 4s 581us/step\n"
     ]
    },
    {
     "name": "stderr",
     "output_type": "stream",
     "text": [
      "\r",
      " 30%|███       | 82/273 [07:22<16:59,  5.34s/it]"
     ]
    },
    {
     "name": "stdout",
     "output_type": "stream",
     "text": [
      "6766/6766 [==============================] - 4s 580us/step\n"
     ]
    },
    {
     "name": "stderr",
     "output_type": "stream",
     "text": [
      "\r",
      " 30%|███       | 83/273 [07:27<16:51,  5.33s/it]"
     ]
    },
    {
     "name": "stdout",
     "output_type": "stream",
     "text": [
      "6766/6766 [==============================] - 4s 588us/step\n"
     ]
    },
    {
     "name": "stderr",
     "output_type": "stream",
     "text": [
      "\r",
      " 31%|███       | 84/273 [07:33<16:47,  5.33s/it]"
     ]
    },
    {
     "name": "stdout",
     "output_type": "stream",
     "text": [
      "6766/6766 [==============================] - 4s 599us/step\n"
     ]
    },
    {
     "name": "stderr",
     "output_type": "stream",
     "text": [
      "\r",
      " 31%|███       | 85/273 [07:38<16:47,  5.36s/it]"
     ]
    },
    {
     "name": "stdout",
     "output_type": "stream",
     "text": [
      "6766/6766 [==============================] - 4s 596us/step\n"
     ]
    },
    {
     "name": "stderr",
     "output_type": "stream",
     "text": [
      "\r",
      " 32%|███▏      | 86/273 [07:44<16:44,  5.37s/it]"
     ]
    },
    {
     "name": "stdout",
     "output_type": "stream",
     "text": [
      "6766/6766 [==============================] - 4s 582us/step\n"
     ]
    },
    {
     "name": "stderr",
     "output_type": "stream",
     "text": [
      "\r",
      " 32%|███▏      | 87/273 [07:49<16:35,  5.35s/it]"
     ]
    },
    {
     "name": "stdout",
     "output_type": "stream",
     "text": [
      "6766/6766 [==============================] - 4s 596us/step\n"
     ]
    },
    {
     "name": "stderr",
     "output_type": "stream",
     "text": [
      "\r",
      " 32%|███▏      | 88/273 [07:54<16:33,  5.37s/it]"
     ]
    },
    {
     "name": "stdout",
     "output_type": "stream",
     "text": [
      "6766/6766 [==============================] - 4s 598us/step\n"
     ]
    },
    {
     "name": "stderr",
     "output_type": "stream",
     "text": [
      "\r",
      " 33%|███▎      | 89/273 [08:00<16:30,  5.39s/it]"
     ]
    },
    {
     "name": "stdout",
     "output_type": "stream",
     "text": [
      "6766/6766 [==============================] - 4s 586us/step\n"
     ]
    },
    {
     "name": "stderr",
     "output_type": "stream",
     "text": [
      "\r",
      " 33%|███▎      | 90/273 [08:05<16:22,  5.37s/it]"
     ]
    },
    {
     "name": "stdout",
     "output_type": "stream",
     "text": [
      "6766/6766 [==============================] - 4s 599us/step\n"
     ]
    },
    {
     "name": "stderr",
     "output_type": "stream",
     "text": [
      "\r",
      " 33%|███▎      | 91/273 [08:10<16:21,  5.39s/it]"
     ]
    },
    {
     "name": "stdout",
     "output_type": "stream",
     "text": [
      "6766/6766 [==============================] - 4s 601us/step\n"
     ]
    },
    {
     "name": "stderr",
     "output_type": "stream",
     "text": [
      "\r",
      " 34%|███▎      | 92/273 [08:16<16:18,  5.40s/it]"
     ]
    },
    {
     "name": "stdout",
     "output_type": "stream",
     "text": [
      "6766/6766 [==============================] - 4s 584us/step\n"
     ]
    },
    {
     "name": "stderr",
     "output_type": "stream",
     "text": [
      "\r",
      " 34%|███▍      | 93/273 [08:21<16:08,  5.38s/it]"
     ]
    },
    {
     "name": "stdout",
     "output_type": "stream",
     "text": [
      "6766/6766 [==============================] - 4s 599us/step\n"
     ]
    },
    {
     "name": "stderr",
     "output_type": "stream",
     "text": [
      "\r",
      " 34%|███▍      | 94/273 [08:27<16:05,  5.39s/it]"
     ]
    },
    {
     "name": "stdout",
     "output_type": "stream",
     "text": [
      "6766/6766 [==============================] - 4s 602us/step\n"
     ]
    },
    {
     "name": "stderr",
     "output_type": "stream",
     "text": [
      "\r",
      " 35%|███▍      | 95/273 [08:32<16:03,  5.41s/it]"
     ]
    },
    {
     "name": "stdout",
     "output_type": "stream",
     "text": [
      "6766/6766 [==============================] - 4s 591us/step\n"
     ]
    },
    {
     "name": "stderr",
     "output_type": "stream",
     "text": [
      "\r",
      " 35%|███▌      | 96/273 [08:37<15:55,  5.40s/it]"
     ]
    },
    {
     "name": "stdout",
     "output_type": "stream",
     "text": [
      "6766/6766 [==============================] - 4s 641us/step\n"
     ]
    },
    {
     "name": "stderr",
     "output_type": "stream",
     "text": [
      "\r",
      " 36%|███▌      | 97/273 [08:43<16:06,  5.49s/it]"
     ]
    },
    {
     "name": "stdout",
     "output_type": "stream",
     "text": [
      "6766/6766 [==============================] - 5s 671us/step\n"
     ]
    },
    {
     "name": "stderr",
     "output_type": "stream",
     "text": [
      "\r",
      " 36%|███▌      | 98/273 [08:49<16:23,  5.62s/it]"
     ]
    },
    {
     "name": "stdout",
     "output_type": "stream",
     "text": [
      "6766/6766 [==============================] - 5s 672us/step\n"
     ]
    },
    {
     "name": "stderr",
     "output_type": "stream",
     "text": [
      "\r",
      " 36%|███▋      | 99/273 [08:57<18:32,  6.39s/it]"
     ]
    },
    {
     "name": "stdout",
     "output_type": "stream",
     "text": [
      "6766/6766 [==============================] - 4s 583us/step\n"
     ]
    },
    {
     "name": "stderr",
     "output_type": "stream",
     "text": [
      "\r",
      " 37%|███▋      | 100/273 [09:03<17:33,  6.09s/it]"
     ]
    },
    {
     "name": "stdout",
     "output_type": "stream",
     "text": [
      "6766/6766 [==============================] - 4s 588us/step\n"
     ]
    },
    {
     "name": "stderr",
     "output_type": "stream",
     "text": [
      "\r",
      " 37%|███▋      | 101/273 [09:08<16:51,  5.88s/it]"
     ]
    },
    {
     "name": "stdout",
     "output_type": "stream",
     "text": [
      "6766/6766 [==============================] - 5s 677us/step\n"
     ]
    },
    {
     "name": "stderr",
     "output_type": "stream",
     "text": [
      "\r",
      " 37%|███▋      | 102/273 [09:14<16:53,  5.93s/it]"
     ]
    },
    {
     "name": "stdout",
     "output_type": "stream",
     "text": [
      "6766/6766 [==============================] - 5s 681us/step\n"
     ]
    },
    {
     "name": "stderr",
     "output_type": "stream",
     "text": [
      "\r",
      " 38%|███▊      | 103/273 [09:20<16:51,  5.95s/it]"
     ]
    },
    {
     "name": "stdout",
     "output_type": "stream",
     "text": [
      "6766/6766 [==============================] - 4s 598us/step\n"
     ]
    },
    {
     "name": "stderr",
     "output_type": "stream",
     "text": [
      "\r",
      " 38%|███▊      | 104/273 [09:26<16:20,  5.80s/it]"
     ]
    },
    {
     "name": "stdout",
     "output_type": "stream",
     "text": [
      "6766/6766 [==============================] - 4s 589us/step\n"
     ]
    },
    {
     "name": "stderr",
     "output_type": "stream",
     "text": [
      "\r",
      " 38%|███▊      | 105/273 [09:31<15:54,  5.68s/it]"
     ]
    },
    {
     "name": "stdout",
     "output_type": "stream",
     "text": [
      "6766/6766 [==============================] - 4s 619us/step\n"
     ]
    },
    {
     "name": "stderr",
     "output_type": "stream",
     "text": [
      "\r",
      " 39%|███▉      | 106/273 [09:37<15:43,  5.65s/it]"
     ]
    },
    {
     "name": "stdout",
     "output_type": "stream",
     "text": [
      "6766/6766 [==============================] - 4s 596us/step\n"
     ]
    },
    {
     "name": "stderr",
     "output_type": "stream",
     "text": [
      "\r",
      " 39%|███▉      | 107/273 [09:42<15:26,  5.58s/it]"
     ]
    },
    {
     "name": "stdout",
     "output_type": "stream",
     "text": [
      "6766/6766 [==============================] - 4s 596us/step\n"
     ]
    },
    {
     "name": "stderr",
     "output_type": "stream",
     "text": [
      "\r",
      " 40%|███▉      | 108/273 [09:47<15:13,  5.54s/it]"
     ]
    },
    {
     "name": "stdout",
     "output_type": "stream",
     "text": [
      "6766/6766 [==============================] - 4s 601us/step\n"
     ]
    },
    {
     "name": "stderr",
     "output_type": "stream",
     "text": [
      "\r",
      " 40%|███▉      | 109/273 [09:53<15:04,  5.51s/it]"
     ]
    },
    {
     "name": "stdout",
     "output_type": "stream",
     "text": [
      "6766/6766 [==============================] - 4s 591us/step\n"
     ]
    },
    {
     "name": "stderr",
     "output_type": "stream",
     "text": [
      "\r",
      " 40%|████      | 110/273 [09:58<14:52,  5.47s/it]"
     ]
    },
    {
     "name": "stdout",
     "output_type": "stream",
     "text": [
      "6766/6766 [==============================] - 4s 578us/step\n"
     ]
    },
    {
     "name": "stderr",
     "output_type": "stream",
     "text": [
      "\r",
      " 41%|████      | 111/273 [10:04<14:38,  5.42s/it]"
     ]
    },
    {
     "name": "stdout",
     "output_type": "stream",
     "text": [
      "6766/6766 [==============================] - 4s 576us/step\n"
     ]
    },
    {
     "name": "stderr",
     "output_type": "stream",
     "text": [
      "\r",
      " 41%|████      | 112/273 [10:09<14:25,  5.38s/it]"
     ]
    },
    {
     "name": "stdout",
     "output_type": "stream",
     "text": [
      "6766/6766 [==============================] - 4s 577us/step\n"
     ]
    },
    {
     "name": "stderr",
     "output_type": "stream",
     "text": [
      "\r",
      " 41%|████▏     | 113/273 [10:14<14:15,  5.35s/it]"
     ]
    },
    {
     "name": "stdout",
     "output_type": "stream",
     "text": [
      "6766/6766 [==============================] - 4s 618us/step\n"
     ]
    },
    {
     "name": "stderr",
     "output_type": "stream",
     "text": [
      "\r",
      " 42%|████▏     | 114/273 [10:20<14:20,  5.41s/it]"
     ]
    },
    {
     "name": "stdout",
     "output_type": "stream",
     "text": [
      "6766/6766 [==============================] - 4s 591us/step\n"
     ]
    },
    {
     "name": "stderr",
     "output_type": "stream",
     "text": [
      "\r",
      " 42%|████▏     | 115/273 [10:25<14:14,  5.41s/it]"
     ]
    },
    {
     "name": "stdout",
     "output_type": "stream",
     "text": [
      "6766/6766 [==============================] - 4s 635us/step\n"
     ]
    },
    {
     "name": "stderr",
     "output_type": "stream",
     "text": [
      "\r",
      " 42%|████▏     | 116/273 [10:31<14:21,  5.49s/it]"
     ]
    },
    {
     "name": "stdout",
     "output_type": "stream",
     "text": [
      "6766/6766 [==============================] - 4s 592us/step\n"
     ]
    },
    {
     "name": "stderr",
     "output_type": "stream",
     "text": [
      "\r",
      " 43%|████▎     | 117/273 [10:36<14:11,  5.46s/it]"
     ]
    },
    {
     "name": "stdout",
     "output_type": "stream",
     "text": [
      "6766/6766 [==============================] - 4s 596us/step\n"
     ]
    },
    {
     "name": "stderr",
     "output_type": "stream",
     "text": [
      "\r",
      " 43%|████▎     | 118/273 [10:42<14:04,  5.45s/it]"
     ]
    },
    {
     "name": "stdout",
     "output_type": "stream",
     "text": [
      "6766/6766 [==============================] - 4s 592us/step\n"
     ]
    },
    {
     "name": "stderr",
     "output_type": "stream",
     "text": [
      "\r",
      " 44%|████▎     | 119/273 [10:47<13:55,  5.42s/it]"
     ]
    },
    {
     "name": "stdout",
     "output_type": "stream",
     "text": [
      "6766/6766 [==============================] - 4s 592us/step\n"
     ]
    },
    {
     "name": "stderr",
     "output_type": "stream",
     "text": [
      "\r",
      " 44%|████▍     | 120/273 [10:52<13:47,  5.41s/it]"
     ]
    },
    {
     "name": "stdout",
     "output_type": "stream",
     "text": [
      "6766/6766 [==============================] - 4s 588us/step\n"
     ]
    },
    {
     "name": "stderr",
     "output_type": "stream",
     "text": [
      "\r",
      " 44%|████▍     | 121/273 [10:58<13:38,  5.38s/it]"
     ]
    },
    {
     "name": "stdout",
     "output_type": "stream",
     "text": [
      "6766/6766 [==============================] - 4s 576us/step\n"
     ]
    },
    {
     "name": "stderr",
     "output_type": "stream",
     "text": [
      "\r",
      " 45%|████▍     | 122/273 [11:03<13:26,  5.34s/it]"
     ]
    },
    {
     "name": "stdout",
     "output_type": "stream",
     "text": [
      "6766/6766 [==============================] - 4s 590us/step\n"
     ]
    },
    {
     "name": "stderr",
     "output_type": "stream",
     "text": [
      "\r",
      " 45%|████▌     | 123/273 [11:08<13:22,  5.35s/it]"
     ]
    },
    {
     "name": "stdout",
     "output_type": "stream",
     "text": [
      "6766/6766 [==============================] - 4s 590us/step\n"
     ]
    },
    {
     "name": "stderr",
     "output_type": "stream",
     "text": [
      "\r",
      " 45%|████▌     | 124/273 [11:14<13:17,  5.35s/it]"
     ]
    },
    {
     "name": "stdout",
     "output_type": "stream",
     "text": [
      "6766/6766 [==============================] - 4s 580us/step\n"
     ]
    },
    {
     "name": "stderr",
     "output_type": "stream",
     "text": [
      "\r",
      " 46%|████▌     | 125/273 [11:19<13:09,  5.34s/it]"
     ]
    },
    {
     "name": "stdout",
     "output_type": "stream",
     "text": [
      "6766/6766 [==============================] - 4s 575us/step\n"
     ]
    },
    {
     "name": "stderr",
     "output_type": "stream",
     "text": [
      "\r",
      " 46%|████▌     | 126/273 [11:24<13:00,  5.31s/it]"
     ]
    },
    {
     "name": "stdout",
     "output_type": "stream",
     "text": [
      "6766/6766 [==============================] - 4s 582us/step\n"
     ]
    },
    {
     "name": "stderr",
     "output_type": "stream",
     "text": [
      "\r",
      " 47%|████▋     | 127/273 [11:29<12:55,  5.31s/it]"
     ]
    },
    {
     "name": "stdout",
     "output_type": "stream",
     "text": [
      "6766/6766 [==============================] - 4s 576us/step\n"
     ]
    },
    {
     "name": "stderr",
     "output_type": "stream",
     "text": [
      "\r",
      " 47%|████▋     | 128/273 [11:35<12:48,  5.30s/it]"
     ]
    },
    {
     "name": "stdout",
     "output_type": "stream",
     "text": [
      "6766/6766 [==============================] - 4s 576us/step\n"
     ]
    },
    {
     "name": "stderr",
     "output_type": "stream",
     "text": [
      "\r",
      " 47%|████▋     | 129/273 [11:40<12:41,  5.29s/it]"
     ]
    },
    {
     "name": "stdout",
     "output_type": "stream",
     "text": [
      "6766/6766 [==============================] - 4s 574us/step\n"
     ]
    },
    {
     "name": "stderr",
     "output_type": "stream",
     "text": [
      "\r",
      " 48%|████▊     | 130/273 [11:45<12:35,  5.28s/it]"
     ]
    },
    {
     "name": "stdout",
     "output_type": "stream",
     "text": [
      "6766/6766 [==============================] - 4s 581us/step\n"
     ]
    },
    {
     "name": "stderr",
     "output_type": "stream",
     "text": [
      "\r",
      " 48%|████▊     | 131/273 [11:51<12:30,  5.29s/it]"
     ]
    },
    {
     "name": "stdout",
     "output_type": "stream",
     "text": [
      "6766/6766 [==============================] - 4s 576us/step\n"
     ]
    },
    {
     "name": "stderr",
     "output_type": "stream",
     "text": [
      "\r",
      " 48%|████▊     | 132/273 [11:56<12:24,  5.28s/it]"
     ]
    },
    {
     "name": "stdout",
     "output_type": "stream",
     "text": [
      "6766/6766 [==============================] - 4s 575us/step\n"
     ]
    },
    {
     "name": "stderr",
     "output_type": "stream",
     "text": [
      "\r",
      " 49%|████▊     | 133/273 [12:01<12:17,  5.27s/it]"
     ]
    },
    {
     "name": "stdout",
     "output_type": "stream",
     "text": [
      "6766/6766 [==============================] - 4s 580us/step\n"
     ]
    },
    {
     "name": "stderr",
     "output_type": "stream",
     "text": [
      "\r",
      " 49%|████▉     | 134/273 [12:06<12:13,  5.28s/it]"
     ]
    },
    {
     "name": "stdout",
     "output_type": "stream",
     "text": [
      "6766/6766 [==============================] - 4s 629us/step\n"
     ]
    },
    {
     "name": "stderr",
     "output_type": "stream",
     "text": [
      "\r",
      " 49%|████▉     | 135/273 [12:12<12:22,  5.38s/it]"
     ]
    },
    {
     "name": "stdout",
     "output_type": "stream",
     "text": [
      "6766/6766 [==============================] - 4s 594us/step\n"
     ]
    },
    {
     "name": "stderr",
     "output_type": "stream",
     "text": [
      "\r",
      " 50%|████▉     | 136/273 [12:17<12:17,  5.39s/it]"
     ]
    },
    {
     "name": "stdout",
     "output_type": "stream",
     "text": [
      "6766/6766 [==============================] - 4s 575us/step\n"
     ]
    },
    {
     "name": "stderr",
     "output_type": "stream",
     "text": [
      "\r",
      " 50%|█████     | 137/273 [12:23<12:07,  5.35s/it]"
     ]
    },
    {
     "name": "stdout",
     "output_type": "stream",
     "text": [
      "6766/6766 [==============================] - 4s 579us/step\n"
     ]
    },
    {
     "name": "stderr",
     "output_type": "stream",
     "text": [
      "\r",
      " 51%|█████     | 138/273 [12:28<11:59,  5.33s/it]"
     ]
    },
    {
     "name": "stdout",
     "output_type": "stream",
     "text": [
      "6766/6766 [==============================] - 4s 593us/step\n"
     ]
    },
    {
     "name": "stderr",
     "output_type": "stream",
     "text": [
      "\r",
      " 51%|█████     | 139/273 [12:33<11:57,  5.35s/it]"
     ]
    },
    {
     "name": "stdout",
     "output_type": "stream",
     "text": [
      "6766/6766 [==============================] - 4s 591us/step\n"
     ]
    },
    {
     "name": "stderr",
     "output_type": "stream",
     "text": [
      "\r",
      " 51%|█████▏    | 140/273 [12:39<11:52,  5.36s/it]"
     ]
    },
    {
     "name": "stdout",
     "output_type": "stream",
     "text": [
      "6766/6766 [==============================] - 4s 576us/step\n"
     ]
    },
    {
     "name": "stderr",
     "output_type": "stream",
     "text": [
      "\r",
      " 52%|█████▏    | 141/273 [12:44<11:43,  5.33s/it]"
     ]
    },
    {
     "name": "stdout",
     "output_type": "stream",
     "text": [
      "6766/6766 [==============================] - 4s 578us/step\n"
     ]
    },
    {
     "name": "stderr",
     "output_type": "stream",
     "text": [
      "\r",
      " 52%|█████▏    | 142/273 [12:49<11:36,  5.32s/it]"
     ]
    },
    {
     "name": "stdout",
     "output_type": "stream",
     "text": [
      "6766/6766 [==============================] - 4s 585us/step\n"
     ]
    },
    {
     "name": "stderr",
     "output_type": "stream",
     "text": [
      "\r",
      " 52%|█████▏    | 143/273 [12:55<11:31,  5.32s/it]"
     ]
    },
    {
     "name": "stdout",
     "output_type": "stream",
     "text": [
      "6766/6766 [==============================] - 4s 581us/step\n"
     ]
    },
    {
     "name": "stderr",
     "output_type": "stream",
     "text": [
      "\r",
      " 53%|█████▎    | 144/273 [13:00<11:25,  5.31s/it]"
     ]
    },
    {
     "name": "stdout",
     "output_type": "stream",
     "text": [
      "6766/6766 [==============================] - 4s 575us/step\n"
     ]
    },
    {
     "name": "stderr",
     "output_type": "stream",
     "text": [
      "\r",
      " 53%|█████▎    | 145/273 [13:05<11:17,  5.29s/it]"
     ]
    },
    {
     "name": "stdout",
     "output_type": "stream",
     "text": [
      "6766/6766 [==============================] - 4s 590us/step\n"
     ]
    },
    {
     "name": "stderr",
     "output_type": "stream",
     "text": [
      "\r",
      " 53%|█████▎    | 146/273 [13:10<11:15,  5.32s/it]"
     ]
    },
    {
     "name": "stdout",
     "output_type": "stream",
     "text": [
      "6766/6766 [==============================] - 4s 594us/step\n"
     ]
    },
    {
     "name": "stderr",
     "output_type": "stream",
     "text": [
      "\r",
      " 54%|█████▍    | 147/273 [13:16<11:12,  5.34s/it]"
     ]
    },
    {
     "name": "stdout",
     "output_type": "stream",
     "text": [
      "6766/6766 [==============================] - 4s 602us/step\n"
     ]
    },
    {
     "name": "stderr",
     "output_type": "stream",
     "text": [
      "\r",
      " 54%|█████▍    | 148/273 [13:21<11:11,  5.37s/it]"
     ]
    },
    {
     "name": "stdout",
     "output_type": "stream",
     "text": [
      "6766/6766 [==============================] - 4s 589us/step\n"
     ]
    },
    {
     "name": "stderr",
     "output_type": "stream",
     "text": [
      "\r",
      " 55%|█████▍    | 149/273 [13:27<11:05,  5.37s/it]"
     ]
    },
    {
     "name": "stdout",
     "output_type": "stream",
     "text": [
      "6766/6766 [==============================] - 4s 588us/step\n"
     ]
    },
    {
     "name": "stderr",
     "output_type": "stream",
     "text": [
      "\r",
      " 55%|█████▍    | 150/273 [13:32<10:59,  5.36s/it]"
     ]
    },
    {
     "name": "stdout",
     "output_type": "stream",
     "text": [
      "6766/6766 [==============================] - 4s 602us/step\n"
     ]
    },
    {
     "name": "stderr",
     "output_type": "stream",
     "text": [
      "\r",
      " 55%|█████▌    | 151/273 [13:37<10:58,  5.40s/it]"
     ]
    },
    {
     "name": "stdout",
     "output_type": "stream",
     "text": [
      "6766/6766 [==============================] - 4s 604us/step\n"
     ]
    },
    {
     "name": "stderr",
     "output_type": "stream",
     "text": [
      "\r",
      " 56%|█████▌    | 152/273 [13:43<10:56,  5.42s/it]"
     ]
    },
    {
     "name": "stdout",
     "output_type": "stream",
     "text": [
      "6766/6766 [==============================] - 4s 586us/step\n"
     ]
    },
    {
     "name": "stderr",
     "output_type": "stream",
     "text": [
      "\r",
      " 56%|█████▌    | 153/273 [13:48<10:49,  5.41s/it]"
     ]
    },
    {
     "name": "stdout",
     "output_type": "stream",
     "text": [
      "6766/6766 [==============================] - 4s 602us/step\n"
     ]
    },
    {
     "name": "stderr",
     "output_type": "stream",
     "text": [
      "\r",
      " 56%|█████▋    | 154/273 [13:54<10:45,  5.43s/it]"
     ]
    },
    {
     "name": "stdout",
     "output_type": "stream",
     "text": [
      "6766/6766 [==============================] - 4s 598us/step\n"
     ]
    },
    {
     "name": "stderr",
     "output_type": "stream",
     "text": [
      "\r",
      " 57%|█████▋    | 155/273 [13:59<10:40,  5.43s/it]"
     ]
    },
    {
     "name": "stdout",
     "output_type": "stream",
     "text": [
      "6766/6766 [==============================] - 4s 585us/step\n"
     ]
    },
    {
     "name": "stderr",
     "output_type": "stream",
     "text": [
      "\r",
      " 57%|█████▋    | 156/273 [14:05<10:32,  5.41s/it]"
     ]
    },
    {
     "name": "stdout",
     "output_type": "stream",
     "text": [
      "6766/6766 [==============================] - 4s 573us/step\n"
     ]
    },
    {
     "name": "stderr",
     "output_type": "stream",
     "text": [
      "\r",
      " 58%|█████▊    | 157/273 [14:10<10:21,  5.36s/it]"
     ]
    },
    {
     "name": "stdout",
     "output_type": "stream",
     "text": [
      "6766/6766 [==============================] - 4s 574us/step\n"
     ]
    },
    {
     "name": "stderr",
     "output_type": "stream",
     "text": [
      "\r",
      " 58%|█████▊    | 158/273 [14:15<10:12,  5.33s/it]"
     ]
    },
    {
     "name": "stdout",
     "output_type": "stream",
     "text": [
      "6766/6766 [==============================] - 4s 574us/step\n"
     ]
    },
    {
     "name": "stderr",
     "output_type": "stream",
     "text": [
      "\r",
      " 58%|█████▊    | 159/273 [14:20<10:04,  5.30s/it]"
     ]
    },
    {
     "name": "stdout",
     "output_type": "stream",
     "text": [
      "6766/6766 [==============================] - 4s 574us/step\n"
     ]
    },
    {
     "name": "stderr",
     "output_type": "stream",
     "text": [
      "\r",
      " 59%|█████▊    | 160/273 [14:26<09:57,  5.29s/it]"
     ]
    },
    {
     "name": "stdout",
     "output_type": "stream",
     "text": [
      "6766/6766 [==============================] - 4s 576us/step\n"
     ]
    },
    {
     "name": "stderr",
     "output_type": "stream",
     "text": [
      "\r",
      " 59%|█████▉    | 161/273 [14:31<09:51,  5.28s/it]"
     ]
    },
    {
     "name": "stdout",
     "output_type": "stream",
     "text": [
      "6766/6766 [==============================] - 4s 576us/step\n"
     ]
    },
    {
     "name": "stderr",
     "output_type": "stream",
     "text": [
      "\r",
      " 59%|█████▉    | 162/273 [14:36<09:46,  5.28s/it]"
     ]
    },
    {
     "name": "stdout",
     "output_type": "stream",
     "text": [
      "6766/6766 [==============================] - 4s 575us/step\n"
     ]
    },
    {
     "name": "stderr",
     "output_type": "stream",
     "text": [
      "\r",
      " 60%|█████▉    | 163/273 [14:41<09:40,  5.28s/it]"
     ]
    },
    {
     "name": "stdout",
     "output_type": "stream",
     "text": [
      "6766/6766 [==============================] - 4s 584us/step\n"
     ]
    },
    {
     "name": "stderr",
     "output_type": "stream",
     "text": [
      "\r",
      " 60%|██████    | 164/273 [14:47<09:37,  5.30s/it]"
     ]
    },
    {
     "name": "stdout",
     "output_type": "stream",
     "text": [
      "6766/6766 [==============================] - 4s 585us/step\n"
     ]
    },
    {
     "name": "stderr",
     "output_type": "stream",
     "text": [
      "\r",
      " 60%|██████    | 165/273 [14:52<09:34,  5.32s/it]"
     ]
    },
    {
     "name": "stdout",
     "output_type": "stream",
     "text": [
      "6766/6766 [==============================] - 4s 573us/step\n"
     ]
    },
    {
     "name": "stderr",
     "output_type": "stream",
     "text": [
      "\r",
      " 61%|██████    | 166/273 [14:57<09:27,  5.30s/it]"
     ]
    },
    {
     "name": "stdout",
     "output_type": "stream",
     "text": [
      "6766/6766 [==============================] - 4s 585us/step\n"
     ]
    },
    {
     "name": "stderr",
     "output_type": "stream",
     "text": [
      "\r",
      " 61%|██████    | 167/273 [15:03<09:23,  5.32s/it]"
     ]
    },
    {
     "name": "stdout",
     "output_type": "stream",
     "text": [
      "6766/6766 [==============================] - 4s 584us/step\n"
     ]
    },
    {
     "name": "stderr",
     "output_type": "stream",
     "text": [
      "\r",
      " 62%|██████▏   | 168/273 [15:08<09:19,  5.32s/it]"
     ]
    },
    {
     "name": "stdout",
     "output_type": "stream",
     "text": [
      "6766/6766 [==============================] - 4s 574us/step\n"
     ]
    },
    {
     "name": "stderr",
     "output_type": "stream",
     "text": [
      "\r",
      " 62%|██████▏   | 169/273 [15:13<09:11,  5.30s/it]"
     ]
    },
    {
     "name": "stdout",
     "output_type": "stream",
     "text": [
      "6766/6766 [==============================] - 4s 586us/step\n"
     ]
    },
    {
     "name": "stderr",
     "output_type": "stream",
     "text": [
      "\r",
      " 62%|██████▏   | 170/273 [15:19<09:07,  5.31s/it]"
     ]
    },
    {
     "name": "stdout",
     "output_type": "stream",
     "text": [
      "6766/6766 [==============================] - 5s 664us/step\n"
     ]
    },
    {
     "name": "stderr",
     "output_type": "stream",
     "text": [
      "\r",
      " 63%|██████▎   | 171/273 [15:25<09:18,  5.48s/it]"
     ]
    },
    {
     "name": "stdout",
     "output_type": "stream",
     "text": [
      "6766/6766 [==============================] - 5s 679us/step\n"
     ]
    },
    {
     "name": "stderr",
     "output_type": "stream",
     "text": [
      "\r",
      " 63%|██████▎   | 172/273 [15:31<09:28,  5.63s/it]"
     ]
    },
    {
     "name": "stdout",
     "output_type": "stream",
     "text": [
      "6766/6766 [==============================] - 5s 674us/step\n"
     ]
    },
    {
     "name": "stderr",
     "output_type": "stream",
     "text": [
      "\r",
      " 63%|██████▎   | 173/273 [15:36<09:32,  5.72s/it]"
     ]
    },
    {
     "name": "stdout",
     "output_type": "stream",
     "text": [
      "6766/6766 [==============================] - 5s 670us/step\n"
     ]
    },
    {
     "name": "stderr",
     "output_type": "stream",
     "text": [
      "\r",
      " 64%|██████▎   | 174/273 [15:42<09:32,  5.78s/it]"
     ]
    },
    {
     "name": "stdout",
     "output_type": "stream",
     "text": [
      "6766/6766 [==============================] - 4s 575us/step\n"
     ]
    },
    {
     "name": "stderr",
     "output_type": "stream",
     "text": [
      "\r",
      " 64%|██████▍   | 175/273 [15:48<09:11,  5.63s/it]"
     ]
    },
    {
     "name": "stdout",
     "output_type": "stream",
     "text": [
      "6766/6766 [==============================] - 4s 581us/step\n"
     ]
    },
    {
     "name": "stderr",
     "output_type": "stream",
     "text": [
      "\r",
      " 64%|██████▍   | 176/273 [15:53<08:57,  5.54s/it]"
     ]
    },
    {
     "name": "stdout",
     "output_type": "stream",
     "text": [
      "6766/6766 [==============================] - 4s 575us/step\n"
     ]
    },
    {
     "name": "stderr",
     "output_type": "stream",
     "text": [
      "\r",
      " 65%|██████▍   | 177/273 [15:58<08:45,  5.47s/it]"
     ]
    },
    {
     "name": "stdout",
     "output_type": "stream",
     "text": [
      "6766/6766 [==============================] - 4s 585us/step\n"
     ]
    },
    {
     "name": "stderr",
     "output_type": "stream",
     "text": [
      "\r",
      " 65%|██████▌   | 178/273 [16:04<08:36,  5.44s/it]"
     ]
    },
    {
     "name": "stdout",
     "output_type": "stream",
     "text": [
      "6766/6766 [==============================] - 6s 932us/step\n"
     ]
    },
    {
     "name": "stderr",
     "output_type": "stream",
     "text": [
      "\r",
      " 66%|██████▌   | 179/273 [16:11<09:36,  6.13s/it]"
     ]
    },
    {
     "name": "stdout",
     "output_type": "stream",
     "text": [
      "6766/6766 [==============================] - 4s 578us/step\n"
     ]
    },
    {
     "name": "stderr",
     "output_type": "stream",
     "text": [
      "\r",
      " 66%|██████▌   | 180/273 [16:17<09:08,  5.90s/it]"
     ]
    },
    {
     "name": "stdout",
     "output_type": "stream",
     "text": [
      "6766/6766 [==============================] - 4s 578us/step\n"
     ]
    },
    {
     "name": "stderr",
     "output_type": "stream",
     "text": [
      "\r",
      " 66%|██████▋   | 181/273 [16:22<08:47,  5.73s/it]"
     ]
    },
    {
     "name": "stdout",
     "output_type": "stream",
     "text": [
      "6766/6766 [==============================] - 4s 579us/step\n"
     ]
    },
    {
     "name": "stderr",
     "output_type": "stream",
     "text": [
      "\r",
      " 67%|██████▋   | 182/273 [16:27<08:30,  5.61s/it]"
     ]
    },
    {
     "name": "stdout",
     "output_type": "stream",
     "text": [
      "6766/6766 [==============================] - 4s 581us/step\n"
     ]
    },
    {
     "name": "stderr",
     "output_type": "stream",
     "text": [
      "\r",
      " 67%|██████▋   | 183/273 [16:33<08:18,  5.54s/it]"
     ]
    },
    {
     "name": "stdout",
     "output_type": "stream",
     "text": [
      "6766/6766 [==============================] - 4s 579us/step\n"
     ]
    },
    {
     "name": "stderr",
     "output_type": "stream",
     "text": [
      "\r",
      " 67%|██████▋   | 184/273 [16:38<08:07,  5.48s/it]"
     ]
    },
    {
     "name": "stdout",
     "output_type": "stream",
     "text": [
      "6766/6766 [==============================] - 4s 589us/step\n"
     ]
    },
    {
     "name": "stderr",
     "output_type": "stream",
     "text": [
      "\r",
      " 68%|██████▊   | 185/273 [16:44<08:00,  5.46s/it]"
     ]
    },
    {
     "name": "stdout",
     "output_type": "stream",
     "text": [
      "6766/6766 [==============================] - 4s 597us/step\n"
     ]
    },
    {
     "name": "stderr",
     "output_type": "stream",
     "text": [
      "\r",
      " 68%|██████▊   | 186/273 [16:49<07:54,  5.46s/it]"
     ]
    },
    {
     "name": "stdout",
     "output_type": "stream",
     "text": [
      "6766/6766 [==============================] - 4s 588us/step\n"
     ]
    },
    {
     "name": "stderr",
     "output_type": "stream",
     "text": [
      "\r",
      " 68%|██████▊   | 187/273 [16:54<07:47,  5.44s/it]"
     ]
    },
    {
     "name": "stdout",
     "output_type": "stream",
     "text": [
      "6766/6766 [==============================] - 4s 586us/step\n"
     ]
    },
    {
     "name": "stderr",
     "output_type": "stream",
     "text": [
      "\r",
      " 69%|██████▉   | 188/273 [17:00<07:41,  5.43s/it]"
     ]
    },
    {
     "name": "stdout",
     "output_type": "stream",
     "text": [
      "6766/6766 [==============================] - 4s 579us/step\n"
     ]
    },
    {
     "name": "stderr",
     "output_type": "stream",
     "text": [
      "\r",
      " 69%|██████▉   | 189/273 [17:05<07:33,  5.40s/it]"
     ]
    },
    {
     "name": "stdout",
     "output_type": "stream",
     "text": [
      "6766/6766 [==============================] - 4s 577us/step\n"
     ]
    },
    {
     "name": "stderr",
     "output_type": "stream",
     "text": [
      "\r",
      " 70%|██████▉   | 190/273 [17:10<07:25,  5.37s/it]"
     ]
    },
    {
     "name": "stdout",
     "output_type": "stream",
     "text": [
      "6766/6766 [==============================] - 4s 576us/step\n"
     ]
    },
    {
     "name": "stderr",
     "output_type": "stream",
     "text": [
      "\r",
      " 70%|██████▉   | 191/273 [17:16<07:19,  5.35s/it]"
     ]
    },
    {
     "name": "stdout",
     "output_type": "stream",
     "text": [
      "6766/6766 [==============================] - 4s 584us/step\n"
     ]
    },
    {
     "name": "stderr",
     "output_type": "stream",
     "text": [
      "\r",
      " 70%|███████   | 192/273 [17:21<07:13,  5.35s/it]"
     ]
    },
    {
     "name": "stdout",
     "output_type": "stream",
     "text": [
      "6766/6766 [==============================] - 4s 596us/step\n"
     ]
    },
    {
     "name": "stderr",
     "output_type": "stream",
     "text": [
      "\r",
      " 71%|███████   | 193/273 [17:27<07:10,  5.38s/it]"
     ]
    },
    {
     "name": "stdout",
     "output_type": "stream",
     "text": [
      "6766/6766 [==============================] - 4s 589us/step\n"
     ]
    },
    {
     "name": "stderr",
     "output_type": "stream",
     "text": [
      "\r",
      " 71%|███████   | 194/273 [17:32<07:05,  5.38s/it]"
     ]
    },
    {
     "name": "stdout",
     "output_type": "stream",
     "text": [
      "6766/6766 [==============================] - 4s 577us/step\n"
     ]
    },
    {
     "name": "stderr",
     "output_type": "stream",
     "text": [
      "\r",
      " 71%|███████▏  | 195/273 [17:37<06:57,  5.36s/it]"
     ]
    },
    {
     "name": "stdout",
     "output_type": "stream",
     "text": [
      "6766/6766 [==============================] - 4s 589us/step\n"
     ]
    },
    {
     "name": "stderr",
     "output_type": "stream",
     "text": [
      "\r",
      " 72%|███████▏  | 196/273 [17:43<06:53,  5.37s/it]"
     ]
    },
    {
     "name": "stdout",
     "output_type": "stream",
     "text": [
      "6766/6766 [==============================] - 4s 582us/step\n"
     ]
    },
    {
     "name": "stderr",
     "output_type": "stream",
     "text": [
      "\r",
      " 72%|███████▏  | 197/273 [17:48<06:47,  5.36s/it]"
     ]
    },
    {
     "name": "stdout",
     "output_type": "stream",
     "text": [
      "6766/6766 [==============================] - 5s 688us/step\n"
     ]
    },
    {
     "name": "stderr",
     "output_type": "stream",
     "text": [
      "\r",
      " 73%|███████▎  | 198/273 [17:54<06:57,  5.57s/it]"
     ]
    },
    {
     "name": "stdout",
     "output_type": "stream",
     "text": [
      "6766/6766 [==============================] - 4s 583us/step\n"
     ]
    },
    {
     "name": "stderr",
     "output_type": "stream",
     "text": [
      "\r",
      " 73%|███████▎  | 199/273 [17:59<06:46,  5.50s/it]"
     ]
    },
    {
     "name": "stdout",
     "output_type": "stream",
     "text": [
      "6766/6766 [==============================] - 4s 574us/step\n"
     ]
    },
    {
     "name": "stderr",
     "output_type": "stream",
     "text": [
      "\r",
      " 73%|███████▎  | 200/273 [18:05<06:36,  5.43s/it]"
     ]
    },
    {
     "name": "stdout",
     "output_type": "stream",
     "text": [
      "6766/6766 [==============================] - 4s 611us/step\n"
     ]
    },
    {
     "name": "stderr",
     "output_type": "stream",
     "text": [
      "\r",
      " 74%|███████▎  | 201/273 [18:10<06:33,  5.46s/it]"
     ]
    },
    {
     "name": "stdout",
     "output_type": "stream",
     "text": [
      "6766/6766 [==============================] - 4s 586us/step\n"
     ]
    },
    {
     "name": "stderr",
     "output_type": "stream",
     "text": [
      "\r",
      " 74%|███████▍  | 202/273 [18:16<06:25,  5.43s/it]"
     ]
    },
    {
     "name": "stdout",
     "output_type": "stream",
     "text": [
      "6766/6766 [==============================] - 4s 571us/step\n"
     ]
    },
    {
     "name": "stderr",
     "output_type": "stream",
     "text": [
      "\r",
      " 74%|███████▍  | 203/273 [18:21<06:16,  5.38s/it]"
     ]
    },
    {
     "name": "stdout",
     "output_type": "stream",
     "text": [
      "6766/6766 [==============================] - 4s 569us/step\n"
     ]
    },
    {
     "name": "stderr",
     "output_type": "stream",
     "text": [
      "\r",
      " 75%|███████▍  | 204/273 [18:26<06:08,  5.33s/it]"
     ]
    },
    {
     "name": "stdout",
     "output_type": "stream",
     "text": [
      "6766/6766 [==============================] - 4s 579us/step\n"
     ]
    },
    {
     "name": "stderr",
     "output_type": "stream",
     "text": [
      "\r",
      " 75%|███████▌  | 205/273 [18:31<06:01,  5.32s/it]"
     ]
    },
    {
     "name": "stdout",
     "output_type": "stream",
     "text": [
      "6766/6766 [==============================] - 4s 584us/step\n"
     ]
    },
    {
     "name": "stderr",
     "output_type": "stream",
     "text": [
      "\r",
      " 75%|███████▌  | 206/273 [18:37<05:56,  5.33s/it]"
     ]
    },
    {
     "name": "stdout",
     "output_type": "stream",
     "text": [
      "6766/6766 [==============================] - 4s 570us/step\n"
     ]
    },
    {
     "name": "stderr",
     "output_type": "stream",
     "text": [
      "\r",
      " 76%|███████▌  | 207/273 [18:42<05:50,  5.31s/it]"
     ]
    },
    {
     "name": "stdout",
     "output_type": "stream",
     "text": [
      "6766/6766 [==============================] - 4s 574us/step\n"
     ]
    },
    {
     "name": "stderr",
     "output_type": "stream",
     "text": [
      "\r",
      " 76%|███████▌  | 208/273 [18:47<05:44,  5.30s/it]"
     ]
    },
    {
     "name": "stdout",
     "output_type": "stream",
     "text": [
      "6766/6766 [==============================] - 4s 573us/step\n"
     ]
    },
    {
     "name": "stderr",
     "output_type": "stream",
     "text": [
      "\r",
      " 77%|███████▋  | 209/273 [18:52<05:38,  5.29s/it]"
     ]
    },
    {
     "name": "stdout",
     "output_type": "stream",
     "text": [
      "6766/6766 [==============================] - 4s 573us/step\n"
     ]
    },
    {
     "name": "stderr",
     "output_type": "stream",
     "text": [
      "\r",
      " 77%|███████▋  | 210/273 [18:58<05:32,  5.28s/it]"
     ]
    },
    {
     "name": "stdout",
     "output_type": "stream",
     "text": [
      "6766/6766 [==============================] - 4s 581us/step\n"
     ]
    },
    {
     "name": "stderr",
     "output_type": "stream",
     "text": [
      "\r",
      " 77%|███████▋  | 211/273 [19:03<05:28,  5.30s/it]"
     ]
    },
    {
     "name": "stdout",
     "output_type": "stream",
     "text": [
      "6766/6766 [==============================] - 4s 584us/step\n"
     ]
    },
    {
     "name": "stderr",
     "output_type": "stream",
     "text": [
      "\r",
      " 78%|███████▊  | 212/273 [19:08<05:23,  5.31s/it]"
     ]
    },
    {
     "name": "stdout",
     "output_type": "stream",
     "text": [
      "6766/6766 [==============================] - 4s 572us/step\n"
     ]
    },
    {
     "name": "stderr",
     "output_type": "stream",
     "text": [
      "\r",
      " 78%|███████▊  | 213/273 [19:14<05:17,  5.29s/it]"
     ]
    },
    {
     "name": "stdout",
     "output_type": "stream",
     "text": [
      "6766/6766 [==============================] - 4s 578us/step\n"
     ]
    },
    {
     "name": "stderr",
     "output_type": "stream",
     "text": [
      "\r",
      " 78%|███████▊  | 214/273 [19:19<05:12,  5.30s/it]"
     ]
    },
    {
     "name": "stdout",
     "output_type": "stream",
     "text": [
      "6766/6766 [==============================] - 4s 582us/step\n"
     ]
    },
    {
     "name": "stderr",
     "output_type": "stream",
     "text": [
      "\r",
      " 79%|███████▉  | 215/273 [19:24<05:07,  5.31s/it]"
     ]
    },
    {
     "name": "stdout",
     "output_type": "stream",
     "text": [
      "6766/6766 [==============================] - 4s 583us/step\n"
     ]
    },
    {
     "name": "stderr",
     "output_type": "stream",
     "text": [
      "\r",
      " 79%|███████▉  | 216/273 [19:30<05:03,  5.32s/it]"
     ]
    },
    {
     "name": "stdout",
     "output_type": "stream",
     "text": [
      "6766/6766 [==============================] - 4s 573us/step\n"
     ]
    },
    {
     "name": "stderr",
     "output_type": "stream",
     "text": [
      "\r",
      " 79%|███████▉  | 217/273 [19:35<04:56,  5.30s/it]"
     ]
    },
    {
     "name": "stdout",
     "output_type": "stream",
     "text": [
      "6766/6766 [==============================] - 4s 571us/step\n"
     ]
    },
    {
     "name": "stderr",
     "output_type": "stream",
     "text": [
      "\r",
      " 80%|███████▉  | 218/273 [19:40<04:50,  5.28s/it]"
     ]
    },
    {
     "name": "stdout",
     "output_type": "stream",
     "text": [
      "6766/6766 [==============================] - 4s 581us/step\n"
     ]
    },
    {
     "name": "stderr",
     "output_type": "stream",
     "text": [
      "\r",
      " 80%|████████  | 219/273 [19:45<04:45,  5.29s/it]"
     ]
    },
    {
     "name": "stdout",
     "output_type": "stream",
     "text": [
      "6766/6766 [==============================] - 4s 582us/step\n"
     ]
    },
    {
     "name": "stderr",
     "output_type": "stream",
     "text": [
      "\r",
      " 81%|████████  | 220/273 [19:51<04:41,  5.30s/it]"
     ]
    },
    {
     "name": "stdout",
     "output_type": "stream",
     "text": [
      "6766/6766 [==============================] - 4s 572us/step\n"
     ]
    },
    {
     "name": "stderr",
     "output_type": "stream",
     "text": [
      "\r",
      " 81%|████████  | 221/273 [19:56<04:34,  5.29s/it]"
     ]
    },
    {
     "name": "stdout",
     "output_type": "stream",
     "text": [
      "6766/6766 [==============================] - 4s 573us/step\n"
     ]
    },
    {
     "name": "stderr",
     "output_type": "stream",
     "text": [
      "\r",
      " 81%|████████▏ | 222/273 [20:01<04:29,  5.28s/it]"
     ]
    },
    {
     "name": "stdout",
     "output_type": "stream",
     "text": [
      "6766/6766 [==============================] - 4s 573us/step\n"
     ]
    },
    {
     "name": "stderr",
     "output_type": "stream",
     "text": [
      "\r",
      " 82%|████████▏ | 223/273 [20:07<04:23,  5.28s/it]"
     ]
    },
    {
     "name": "stdout",
     "output_type": "stream",
     "text": [
      "6766/6766 [==============================] - 4s 572us/step\n"
     ]
    },
    {
     "name": "stderr",
     "output_type": "stream",
     "text": [
      "\r",
      " 82%|████████▏ | 224/273 [20:12<04:18,  5.27s/it]"
     ]
    },
    {
     "name": "stdout",
     "output_type": "stream",
     "text": [
      "6766/6766 [==============================] - 4s 578us/step\n"
     ]
    },
    {
     "name": "stderr",
     "output_type": "stream",
     "text": [
      "\r",
      " 82%|████████▏ | 225/273 [20:17<04:13,  5.28s/it]"
     ]
    },
    {
     "name": "stdout",
     "output_type": "stream",
     "text": [
      "6766/6766 [==============================] - 4s 572us/step\n"
     ]
    },
    {
     "name": "stderr",
     "output_type": "stream",
     "text": [
      "\r",
      " 83%|████████▎ | 226/273 [20:22<04:07,  5.28s/it]"
     ]
    },
    {
     "name": "stdout",
     "output_type": "stream",
     "text": [
      "6766/6766 [==============================] - 4s 584us/step\n"
     ]
    },
    {
     "name": "stderr",
     "output_type": "stream",
     "text": [
      "\r",
      " 83%|████████▎ | 227/273 [20:28<04:03,  5.30s/it]"
     ]
    },
    {
     "name": "stdout",
     "output_type": "stream",
     "text": [
      "6766/6766 [==============================] - 4s 572us/step\n"
     ]
    },
    {
     "name": "stderr",
     "output_type": "stream",
     "text": [
      "\r",
      " 84%|████████▎ | 228/273 [20:33<03:57,  5.28s/it]"
     ]
    },
    {
     "name": "stdout",
     "output_type": "stream",
     "text": [
      "6766/6766 [==============================] - 4s 579us/step\n"
     ]
    },
    {
     "name": "stderr",
     "output_type": "stream",
     "text": [
      "\r",
      " 84%|████████▍ | 229/273 [20:38<03:52,  5.29s/it]"
     ]
    },
    {
     "name": "stdout",
     "output_type": "stream",
     "text": [
      "6766/6766 [==============================] - 4s 585us/step\n"
     ]
    },
    {
     "name": "stderr",
     "output_type": "stream",
     "text": [
      "\r",
      " 84%|████████▍ | 230/273 [20:44<03:48,  5.30s/it]"
     ]
    },
    {
     "name": "stdout",
     "output_type": "stream",
     "text": [
      "6766/6766 [==============================] - 4s 585us/step\n"
     ]
    },
    {
     "name": "stderr",
     "output_type": "stream",
     "text": [
      "\r",
      " 85%|████████▍ | 231/273 [20:49<03:43,  5.32s/it]"
     ]
    },
    {
     "name": "stdout",
     "output_type": "stream",
     "text": [
      "6766/6766 [==============================] - 4s 618us/step\n"
     ]
    },
    {
     "name": "stderr",
     "output_type": "stream",
     "text": [
      "\r",
      " 85%|████████▍ | 232/273 [20:55<03:41,  5.40s/it]"
     ]
    },
    {
     "name": "stdout",
     "output_type": "stream",
     "text": [
      "6766/6766 [==============================] - 4s 584us/step\n"
     ]
    },
    {
     "name": "stderr",
     "output_type": "stream",
     "text": [
      "\r",
      " 85%|████████▌ | 233/273 [21:00<03:35,  5.38s/it]"
     ]
    },
    {
     "name": "stdout",
     "output_type": "stream",
     "text": [
      "6766/6766 [==============================] - 4s 584us/step\n"
     ]
    },
    {
     "name": "stderr",
     "output_type": "stream",
     "text": [
      "\r",
      " 86%|████████▌ | 234/273 [21:05<03:29,  5.38s/it]"
     ]
    },
    {
     "name": "stdout",
     "output_type": "stream",
     "text": [
      "6766/6766 [==============================] - 4s 581us/step\n"
     ]
    },
    {
     "name": "stderr",
     "output_type": "stream",
     "text": [
      "\r",
      " 86%|████████▌ | 235/273 [21:11<03:24,  5.37s/it]"
     ]
    },
    {
     "name": "stdout",
     "output_type": "stream",
     "text": [
      "6766/6766 [==============================] - 4s 582us/step\n"
     ]
    },
    {
     "name": "stderr",
     "output_type": "stream",
     "text": [
      "\r",
      " 86%|████████▋ | 236/273 [21:16<03:18,  5.37s/it]"
     ]
    },
    {
     "name": "stdout",
     "output_type": "stream",
     "text": [
      "6766/6766 [==============================] - 4s 581us/step\n"
     ]
    },
    {
     "name": "stderr",
     "output_type": "stream",
     "text": [
      "\r",
      " 87%|████████▋ | 237/273 [21:21<03:13,  5.36s/it]"
     ]
    },
    {
     "name": "stdout",
     "output_type": "stream",
     "text": [
      "6766/6766 [==============================] - 4s 582us/step\n"
     ]
    },
    {
     "name": "stderr",
     "output_type": "stream",
     "text": [
      "\r",
      " 87%|████████▋ | 238/273 [21:27<03:07,  5.36s/it]"
     ]
    },
    {
     "name": "stdout",
     "output_type": "stream",
     "text": [
      "6766/6766 [==============================] - 4s 582us/step\n"
     ]
    },
    {
     "name": "stderr",
     "output_type": "stream",
     "text": [
      "\r",
      " 88%|████████▊ | 239/273 [21:32<03:02,  5.35s/it]"
     ]
    },
    {
     "name": "stdout",
     "output_type": "stream",
     "text": [
      "6766/6766 [==============================] - 4s 583us/step\n"
     ]
    },
    {
     "name": "stderr",
     "output_type": "stream",
     "text": [
      "\r",
      " 88%|████████▊ | 240/273 [21:37<02:56,  5.35s/it]"
     ]
    },
    {
     "name": "stdout",
     "output_type": "stream",
     "text": [
      "6766/6766 [==============================] - 4s 581us/step\n"
     ]
    },
    {
     "name": "stderr",
     "output_type": "stream",
     "text": [
      "\r",
      " 88%|████████▊ | 241/273 [21:43<02:51,  5.34s/it]"
     ]
    },
    {
     "name": "stdout",
     "output_type": "stream",
     "text": [
      "6766/6766 [==============================] - 4s 582us/step\n"
     ]
    },
    {
     "name": "stderr",
     "output_type": "stream",
     "text": [
      "\r",
      " 89%|████████▊ | 242/273 [21:48<02:45,  5.34s/it]"
     ]
    },
    {
     "name": "stdout",
     "output_type": "stream",
     "text": [
      "6766/6766 [==============================] - 4s 598us/step\n"
     ]
    },
    {
     "name": "stderr",
     "output_type": "stream",
     "text": [
      "\r",
      " 89%|████████▉ | 243/273 [21:53<02:41,  5.37s/it]"
     ]
    },
    {
     "name": "stdout",
     "output_type": "stream",
     "text": [
      "6766/6766 [==============================] - 4s 582us/step\n"
     ]
    },
    {
     "name": "stderr",
     "output_type": "stream",
     "text": [
      "\r",
      " 89%|████████▉ | 244/273 [21:59<02:35,  5.36s/it]"
     ]
    },
    {
     "name": "stdout",
     "output_type": "stream",
     "text": [
      "6766/6766 [==============================] - 4s 584us/step\n"
     ]
    },
    {
     "name": "stderr",
     "output_type": "stream",
     "text": [
      "\r",
      " 90%|████████▉ | 245/273 [22:04<02:30,  5.36s/it]"
     ]
    },
    {
     "name": "stdout",
     "output_type": "stream",
     "text": [
      "6766/6766 [==============================] - 4s 582us/step\n"
     ]
    },
    {
     "name": "stderr",
     "output_type": "stream",
     "text": [
      "\r",
      " 90%|█████████ | 246/273 [22:10<02:24,  5.35s/it]"
     ]
    },
    {
     "name": "stdout",
     "output_type": "stream",
     "text": [
      "6766/6766 [==============================] - 4s 582us/step\n"
     ]
    },
    {
     "name": "stderr",
     "output_type": "stream",
     "text": [
      "\r",
      " 90%|█████████ | 247/273 [22:15<02:19,  5.35s/it]"
     ]
    },
    {
     "name": "stdout",
     "output_type": "stream",
     "text": [
      "6766/6766 [==============================] - 4s 570us/step\n"
     ]
    },
    {
     "name": "stderr",
     "output_type": "stream",
     "text": [
      "\r",
      " 91%|█████████ | 248/273 [22:20<02:13,  5.32s/it]"
     ]
    },
    {
     "name": "stdout",
     "output_type": "stream",
     "text": [
      "6766/6766 [==============================] - 4s 571us/step\n"
     ]
    },
    {
     "name": "stderr",
     "output_type": "stream",
     "text": [
      "\r",
      " 91%|█████████ | 249/273 [22:25<02:07,  5.30s/it]"
     ]
    },
    {
     "name": "stdout",
     "output_type": "stream",
     "text": [
      "6766/6766 [==============================] - 4s 575us/step\n"
     ]
    },
    {
     "name": "stderr",
     "output_type": "stream",
     "text": [
      "\r",
      " 92%|█████████▏| 250/273 [22:31<02:01,  5.29s/it]"
     ]
    },
    {
     "name": "stdout",
     "output_type": "stream",
     "text": [
      "6766/6766 [==============================] - 4s 569us/step\n"
     ]
    },
    {
     "name": "stderr",
     "output_type": "stream",
     "text": [
      "\r",
      " 92%|█████████▏| 251/273 [22:36<01:56,  5.27s/it]"
     ]
    },
    {
     "name": "stdout",
     "output_type": "stream",
     "text": [
      "6766/6766 [==============================] - 4s 569us/step\n"
     ]
    },
    {
     "name": "stderr",
     "output_type": "stream",
     "text": [
      "\r",
      " 92%|█████████▏| 252/273 [22:41<01:50,  5.26s/it]"
     ]
    },
    {
     "name": "stdout",
     "output_type": "stream",
     "text": [
      "6766/6766 [==============================] - 4s 578us/step\n"
     ]
    },
    {
     "name": "stderr",
     "output_type": "stream",
     "text": [
      "\r",
      " 93%|█████████▎| 253/273 [22:46<01:45,  5.28s/it]"
     ]
    },
    {
     "name": "stdout",
     "output_type": "stream",
     "text": [
      "6766/6766 [==============================] - 4s 575us/step\n"
     ]
    },
    {
     "name": "stderr",
     "output_type": "stream",
     "text": [
      "\r",
      " 93%|█████████▎| 254/273 [22:52<01:40,  5.27s/it]"
     ]
    },
    {
     "name": "stdout",
     "output_type": "stream",
     "text": [
      "6766/6766 [==============================] - 4s 582us/step\n"
     ]
    },
    {
     "name": "stderr",
     "output_type": "stream",
     "text": [
      "\r",
      " 93%|█████████▎| 255/273 [22:59<01:47,  6.00s/it]"
     ]
    },
    {
     "name": "stdout",
     "output_type": "stream",
     "text": [
      "6766/6766 [==============================] - 4s 588us/step\n"
     ]
    },
    {
     "name": "stderr",
     "output_type": "stream",
     "text": [
      "\r",
      " 94%|█████████▍| 256/273 [23:05<01:39,  5.83s/it]"
     ]
    },
    {
     "name": "stdout",
     "output_type": "stream",
     "text": [
      "6766/6766 [==============================] - 4s 590us/step\n"
     ]
    },
    {
     "name": "stderr",
     "output_type": "stream",
     "text": [
      "\r",
      " 94%|█████████▍| 257/273 [23:10<01:31,  5.71s/it]"
     ]
    },
    {
     "name": "stdout",
     "output_type": "stream",
     "text": [
      "6766/6766 [==============================] - 4s 589us/step\n"
     ]
    },
    {
     "name": "stderr",
     "output_type": "stream",
     "text": [
      "\r",
      " 95%|█████████▍| 258/273 [23:16<01:24,  5.62s/it]"
     ]
    },
    {
     "name": "stdout",
     "output_type": "stream",
     "text": [
      "6766/6766 [==============================] - 4s 588us/step\n"
     ]
    },
    {
     "name": "stderr",
     "output_type": "stream",
     "text": [
      "\r",
      " 95%|█████████▍| 259/273 [23:21<01:17,  5.56s/it]"
     ]
    },
    {
     "name": "stdout",
     "output_type": "stream",
     "text": [
      "6766/6766 [==============================] - 4s 575us/step\n"
     ]
    },
    {
     "name": "stderr",
     "output_type": "stream",
     "text": [
      "\r",
      " 95%|█████████▌| 260/273 [23:26<01:11,  5.49s/it]"
     ]
    },
    {
     "name": "stdout",
     "output_type": "stream",
     "text": [
      "6766/6766 [==============================] - 4s 576us/step\n"
     ]
    },
    {
     "name": "stderr",
     "output_type": "stream",
     "text": [
      "\r",
      " 96%|█████████▌| 261/273 [23:32<01:05,  5.44s/it]"
     ]
    },
    {
     "name": "stdout",
     "output_type": "stream",
     "text": [
      "6766/6766 [==============================] - 4s 579us/step\n"
     ]
    },
    {
     "name": "stderr",
     "output_type": "stream",
     "text": [
      "\r",
      " 96%|█████████▌| 262/273 [23:37<00:59,  5.41s/it]"
     ]
    },
    {
     "name": "stdout",
     "output_type": "stream",
     "text": [
      "6766/6766 [==============================] - 4s 578us/step\n"
     ]
    },
    {
     "name": "stderr",
     "output_type": "stream",
     "text": [
      "\r",
      " 96%|█████████▋| 263/273 [23:42<00:53,  5.38s/it]"
     ]
    },
    {
     "name": "stdout",
     "output_type": "stream",
     "text": [
      "6766/6766 [==============================] - 4s 576us/step\n"
     ]
    },
    {
     "name": "stderr",
     "output_type": "stream",
     "text": [
      "\r",
      " 97%|█████████▋| 264/273 [23:48<00:48,  5.36s/it]"
     ]
    },
    {
     "name": "stdout",
     "output_type": "stream",
     "text": [
      "6766/6766 [==============================] - 4s 576us/step\n"
     ]
    },
    {
     "name": "stderr",
     "output_type": "stream",
     "text": [
      "\r",
      " 97%|█████████▋| 265/273 [23:53<00:42,  5.35s/it]"
     ]
    },
    {
     "name": "stdout",
     "output_type": "stream",
     "text": [
      "6766/6766 [==============================] - 4s 574us/step\n"
     ]
    },
    {
     "name": "stderr",
     "output_type": "stream",
     "text": [
      "\r",
      " 97%|█████████▋| 266/273 [23:58<00:37,  5.33s/it]"
     ]
    },
    {
     "name": "stdout",
     "output_type": "stream",
     "text": [
      "6766/6766 [==============================] - 4s 576us/step\n"
     ]
    },
    {
     "name": "stderr",
     "output_type": "stream",
     "text": [
      "\r",
      " 98%|█████████▊| 267/273 [24:04<00:31,  5.32s/it]"
     ]
    },
    {
     "name": "stdout",
     "output_type": "stream",
     "text": [
      "6766/6766 [==============================] - 4s 582us/step\n"
     ]
    },
    {
     "name": "stderr",
     "output_type": "stream",
     "text": [
      "\r",
      " 98%|█████████▊| 268/273 [24:09<00:26,  5.32s/it]"
     ]
    },
    {
     "name": "stdout",
     "output_type": "stream",
     "text": [
      "6766/6766 [==============================] - 4s 572us/step\n"
     ]
    },
    {
     "name": "stderr",
     "output_type": "stream",
     "text": [
      "\r",
      " 99%|█████████▊| 269/273 [24:14<00:21,  5.31s/it]"
     ]
    },
    {
     "name": "stdout",
     "output_type": "stream",
     "text": [
      "6766/6766 [==============================] - 4s 587us/step\n"
     ]
    },
    {
     "name": "stderr",
     "output_type": "stream",
     "text": [
      "\r",
      " 99%|█████████▉| 270/273 [24:20<00:16,  5.34s/it]"
     ]
    },
    {
     "name": "stdout",
     "output_type": "stream",
     "text": [
      "6766/6766 [==============================] - 4s 591us/step\n"
     ]
    },
    {
     "name": "stderr",
     "output_type": "stream",
     "text": [
      "\r",
      " 99%|█████████▉| 271/273 [24:25<00:10,  5.36s/it]"
     ]
    },
    {
     "name": "stdout",
     "output_type": "stream",
     "text": [
      "6766/6766 [==============================] - 4s 576us/step\n"
     ]
    },
    {
     "name": "stderr",
     "output_type": "stream",
     "text": [
      "\r",
      "100%|█████████▉| 272/273 [24:30<00:05,  5.35s/it]"
     ]
    },
    {
     "name": "stdout",
     "output_type": "stream",
     "text": [
      "6766/6766 [==============================] - 4s 589us/step\n"
     ]
    },
    {
     "name": "stderr",
     "output_type": "stream",
     "text": [
      "100%|██████████| 273/273 [24:36<00:00,  5.41s/it]\n"
     ]
    }
   ],
   "source": [
    "df = gl.coregister_data('4')\n",
    "df = df.drop(df[df['RGIId'].duplicated(keep = False)].index)\n",
    "df = df.sample(frac = 1,random_state = 0)\n",
    "df = df.reset_index().drop('index', axis = 1)\n",
    "\n",
    "dft = df.copy()\n",
    "\n",
    "trfeat = {}\n",
    "trlabs = {}\n",
    "tefeat = {}\n",
    "telabs = {}\n",
    "\n",
    "for n in df.index:\n",
    "    mask = df.index.isin([n])\n",
    "    trfeat[n] = df.loc[~mask].drop(['RGIId','Thickness'], axis = 1)\n",
    "    tefeat[n] = df.loc[mask].drop(['RGIId','Thickness'], axis = 1)\n",
    "    trlabs[n] = df['Thickness'].loc[~mask]\n",
    "    telabs[n] = df['Thickness'].loc[mask]\n",
    "\n",
    "model = {}\n",
    "model_history = {}\n",
    "normalizer = {}\n",
    "model_path = os.path.join('/data/fast1/glacierml/models/LOO/')\n",
    "res_dir = os.path.join(model_path, 'final_results.pkl')\n",
    "\n",
    "for n in tqdm(df.index):\n",
    "    isdir = os.path.join(\n",
    "        model_path, str(n)\n",
    "    )\n",
    "    if os.path.isdir(isdir) == True:\n",
    "        model[n] = gl.load_dnn_model(os.path.join(model_path,str(n)))\n",
    "    elif os.path.isdir(isdir) == False:\n",
    "        set_global_determinism(seed=SEED)\n",
    "        model[n] = run_model(model_path, n,6,2,loss = 'mae')\n",
    "\n",
    "\n",
    "# if os.path.isdir(res_dir) == False:\n",
    "#     fr = find_results(df,model)              \n",
    "# #     fr = fr.set_index('i')\n",
    "#     fr.to_pickle(res_dir)\n",
    "\n",
    "\n",
    "rgi_est_pth = os.path.join(model_path, 'rgi_est_raw.pkl')\n",
    "\n",
    "if os.path.isdir(rgi_est_pth) == False:\n",
    "\n",
    "    RGI = gl.load_RGI()\n",
    "    rfp = RGI[list(df)[:-1]]\n",
    "\n",
    "    for n in tqdm(model.keys()):\n",
    "        preds = pd.Series(\n",
    "            model[n].predict(rfp.drop('RGIId',axis = 1)).flatten(), name = n\n",
    "        )\n",
    "        RGI = pd.concat([RGI,preds], axis = 1)\n",
    "    RGI.to_pickle(rgi_est_pth)\n",
    "            # RGI = pd.read_pickle('rgi_est_raw.pkl')"
   ]
  },
  {
   "cell_type": "code",
   "execution_count": 15,
   "id": "04cefb53",
   "metadata": {},
   "outputs": [
    {
     "data": {
      "text/html": [
       "<div>\n",
       "<style scoped>\n",
       "    .dataframe tbody tr th:only-of-type {\n",
       "        vertical-align: middle;\n",
       "    }\n",
       "\n",
       "    .dataframe tbody tr th {\n",
       "        vertical-align: top;\n",
       "    }\n",
       "\n",
       "    .dataframe thead th {\n",
       "        text-align: right;\n",
       "    }\n",
       "</style>\n",
       "<table border=\"1\" class=\"dataframe\">\n",
       "  <thead>\n",
       "    <tr style=\"text-align: right;\">\n",
       "      <th></th>\n",
       "      <th>0</th>\n",
       "      <th>Model Loss</th>\n",
       "      <th>Percent Error</th>\n",
       "      <th>RMSE</th>\n",
       "      <th>VRes Mean</th>\n",
       "      <th>VRes STD</th>\n",
       "      <th>VRes Max</th>\n",
       "      <th>VRes Min</th>\n",
       "      <th>VRes IQR</th>\n",
       "    </tr>\n",
       "  </thead>\n",
       "  <tbody>\n",
       "    <tr>\n",
       "      <th>0</th>\n",
       "      <td>0</td>\n",
       "      <td>7.17955</td>\n",
       "      <td>-14.3591</td>\n",
       "      <td>7.17955</td>\n",
       "      <td>-3.363408</td>\n",
       "      <td>28.332261</td>\n",
       "      <td>87.941605</td>\n",
       "      <td>-245.003983</td>\n",
       "      <td>20.968861</td>\n",
       "    </tr>\n",
       "  </tbody>\n",
       "</table>\n",
       "</div>"
      ],
      "text/plain": [
       "   0  Model Loss  Percent Error     RMSE  VRes Mean   VRes STD   VRes Max   \n",
       "0  0     7.17955       -14.3591  7.17955  -3.363408  28.332261  87.941605  \\\n",
       "\n",
       "     VRes Min   VRes IQR  \n",
       "0 -245.003983  20.968861  "
      ]
     },
     "execution_count": 15,
     "metadata": {},
     "output_type": "execute_result"
    }
   ],
   "source": [
    "fr"
   ]
  },
  {
   "cell_type": "code",
   "execution_count": 20,
   "id": "607c9de4",
   "metadata": {},
   "outputs": [
    {
     "name": "stdout",
     "output_type": "stream",
     "text": [
      "Model: \"sequential\"\n",
      "_________________________________________________________________\n",
      " Layer (type)                Output Shape              Param #   \n",
      "=================================================================\n",
      " normalization (Normalizatio  (None, 9)                19        \n",
      " n)                                                              \n",
      "                                                                 \n",
      " dense (Dense)               (None, 6)                 60        \n",
      "                                                                 \n",
      " dropout (Dropout)           (None, 6)                 0         \n",
      "                                                                 \n",
      " dense_1 (Dense)             (None, 2)                 14        \n",
      "                                                                 \n",
      " dense_2 (Dense)             (None, 1)                 3         \n",
      "                                                                 \n",
      "=================================================================\n",
      "Total params: 96\n",
      "Trainable params: 77\n",
      "Non-trainable params: 19\n",
      "_________________________________________________________________\n"
     ]
    }
   ],
   "source": [
    "model[0].summary()"
   ]
  },
  {
   "cell_type": "code",
   "execution_count": null,
   "id": "73a22cd0",
   "metadata": {},
   "outputs": [],
   "source": [
    "model"
   ]
  },
  {
   "cell_type": "code",
   "execution_count": null,
   "id": "db36c6d5",
   "metadata": {
    "scrolled": false
   },
   "outputs": [],
   "source": [
    "# # feat_sort = ['shuffle','none','Thickness','Area']\n",
    "# # asc_list = ['none',True,False]\n",
    "# for feat in feat_sort:\n",
    "#     for asc in asc_list:\n",
    "#         df = gl.coregister_data('4')\n",
    "#         df = df.drop(df[df['RGIId'].duplicated(keep = False)].index)\n",
    "# #         df = df.drop(['CenLat','CenLon','Zmed','Aspect'],axis = 1)\n",
    "#         if feat == 'none' and (asc == True or asc == False):\n",
    "#             continue\n",
    "#         elif feat == 'none' and asc == 'none':\n",
    "#             df = df.reset_index().drop('index',axis = 1)\n",
    "#             a = 'none'\n",
    "#         elif feat == 'shuffle' and asc == 'none':\n",
    "#             df = df.sample(frac = 1,random_state = 0)\n",
    "#             df = df.reset_index().drop('index', axis = 1)\n",
    "#             a = 'none'\n",
    "#         elif (feat == 'Thickness' or feat == 'Area') and asc == True:\n",
    "#             a = 'ascending'\n",
    "#             df = df.sort_values(feat,ascending = asc).reset_index().drop('index',axis = 1)\n",
    "#         elif (feat == 'Thickness' or feat == 'Area') and asc == False:\n",
    "#             a = 'descending'\n",
    "#             df = df.sort_values(feat,ascending = asc).reset_index().drop('index',axis = 1)\n",
    "#         elif (feat == 'Thickness' or feat == 'Area') and asc == 'none':\n",
    "#             continue\n",
    "#         elif (feat != 'none' or feat != 'shuffle') and asc != 'none':\n",
    "#             continue\n",
    "\n",
    "\n",
    "#         dft = df.copy()\n",
    "\n",
    "#         trfeat = {}\n",
    "#         trlabs = {}\n",
    "#         tefeat = {}\n",
    "#         telabs = {}\n",
    "\n",
    "#         for n in df.index:\n",
    "#             mask = df.index.isin([n])\n",
    "#             trfeat[n] = df.loc[~mask].drop(['RGIId','Thickness'], axis = 1)\n",
    "#             tefeat[n] = df.loc[mask].drop(['RGIId','Thickness'], axis = 1)\n",
    "#             trlabs[n] = df['Thickness'].loc[~mask]\n",
    "#             telabs[n] = df['Thickness'].loc[mask]\n",
    "            \n",
    "#         model = {}\n",
    "#         model_history = {}\n",
    "#         normalizer = {}\n",
    "#         model_path = os.path.join('/data/fast1/glacierml/models/LOO1/',feat,a)\n",
    "#         print(model_path)\n",
    "#         res_dir = os.path.join(model_path, 'final_results.pkl')\n",
    "#         if os.path.isdir(res_dir) == True:\n",
    "#             continue\n",
    "            \n",
    "#         for n in tqdm(df.index):\n",
    "#             isdir = os.path.join(\n",
    "#                 model_path, str(n)\n",
    "#             )\n",
    "#             if os.path.isdir(isdir) == True:\n",
    "#                 model[n] = gl.load_dnn_model(os.path.join(model_path,str(n)))\n",
    "#             elif os.path.isdir(isdir) == False:\n",
    "#                 set_global_determinism(seed=SEED)\n",
    "#                 run_model(model_path, n)\n",
    "                \n",
    "\n",
    "#         if os.path.isdir(res_dir) == False:\n",
    "#             fr = find_results(df,model,n)              \n",
    "#             fr['unc'] = fr['RMSE'] + fr['Percent Error']\n",
    "#             fr = fr.set_index('i')\n",
    "#             fr.to_pickle(res_dir)\n",
    "            \n",
    "            \n",
    "#         rgi_est_pth = os.path.join(model_path, 'rgi_est_raw.pkl')\n",
    "\n",
    "#         if os.path.isdir(rgi_est_pth) == True:\n",
    "#             continue\n",
    "#         elif os.path.isdir(rgi_est_pth) == False:\n",
    "\n",
    "#             RGI = gl.load_RGI()\n",
    "#             rfp = RGI[list(df)[:-1]]\n",
    "\n",
    "#             for n in tqdm(model.keys()):\n",
    "#                 preds = pd.Series(\n",
    "#                     model[n].predict(rfp.drop('RGIId',axis = 1)).flatten(), name = n\n",
    "#                 )\n",
    "#                 RGI = pd.concat([RGI,preds], axis = 1)\n",
    "#             RGI.to_pickle(rgi_est_pth)\n",
    "#             # RGI = pd.read_pickle('rgi_est_raw.pkl')\n"
   ]
  },
  {
   "cell_type": "code",
   "execution_count": null,
   "id": "40dedbb9",
   "metadata": {},
   "outputs": [],
   "source": [
    "crash()"
   ]
  },
  {
   "cell_type": "code",
   "execution_count": null,
   "id": "a8491e20",
   "metadata": {},
   "outputs": [],
   "source": [
    "# fr = pd.read_pickle(model_path + 'final_results_2.pkl')"
   ]
  },
  {
   "cell_type": "code",
   "execution_count": null,
   "id": "f0e604d6",
   "metadata": {},
   "outputs": [],
   "source": [
    "# fr.sort_values('Percent Error')"
   ]
  },
  {
   "cell_type": "markdown",
   "id": "166ce066",
   "metadata": {},
   "source": [
    "## Looking at LOO first results"
   ]
  },
  {
   "cell_type": "code",
   "execution_count": null,
   "id": "8cf3f592",
   "metadata": {
    "scrolled": false
   },
   "outputs": [],
   "source": [
    "# ls = 12\n",
    "# fig, ax = plt.subplots(1,2,figsize = (10,4))\n",
    "# x = fr['Thickness']\n",
    "# y = fr['est']\n",
    "# ax[0].scatter(\n",
    "#     x,y, alpha = 0.25\n",
    "# )\n",
    "# ax[0].plot(\n",
    "#     (x.min(),x.max()),\n",
    "#     (x.min(),x.max()),\n",
    "#     '-k'\n",
    "# )\n",
    "# ax[0].set_ylabel('LOO Estimated Thickness',fontsize = ls)\n",
    "\n",
    "# y = fr['Percent Error']\n",
    "# ax[1].scatter(\n",
    "#     x,y, alpha = 0.25\n",
    "# )\n",
    "# ax[1].plot(\n",
    "#     (x.min(),x.max()),\n",
    "#     (0,0),\n",
    "#     '-k'\n",
    "# )\n",
    "# ax[1].set_ylabel('LOO Percent Error',fontsize = ls)\n",
    "# fig.supxlabel('GlaThiDa Thickness', y = 0.05,fontsize = ls)\n",
    "# ax[0].tick_params(axis='both', labelsize=ls)\n",
    "# ax[1].tick_params(axis='both', labelsize=ls)\n",
    "# plt.tight_layout()"
   ]
  },
  {
   "cell_type": "code",
   "execution_count": null,
   "id": "240700e6",
   "metadata": {
    "scrolled": false
   },
   "outputs": [],
   "source": [
    "# ls = 12\n",
    "# fig, ax = plt.subplots(1,2,figsize = (10,4))\n",
    "# x = fr['Thickness']\n",
    "# y = fr['est']\n",
    "# ax[0].scatter(\n",
    "#     x,y, alpha = 0.25\n",
    "# )\n",
    "# ax[0].plot(\n",
    "#     (x.min(),x.max()),\n",
    "#     (x.min(),x.max()),\n",
    "#     '-k'\n",
    "# )\n",
    "# ax[0].set_ylabel('LOO Estimated Thickness',fontsize = ls)\n",
    "\n",
    "# y = fr['Percent Error']\n",
    "# x = fr['Area']\n",
    "# ax[1].scatter(\n",
    "#     x,y, alpha = 0.25\n",
    "# )\n",
    "# ax[1].plot(\n",
    "#     (x.min(),x.max()),\n",
    "#     (0,0),\n",
    "#     '-k'\n",
    "# )\n",
    "# ax[1].set_xscale('log')\n",
    "# ax[1].set_ylabel('LOO Percent Error',fontsize = ls)\n",
    "# fig.supxlabel('GlaThiDa Thickness', y = 0.05,fontsize = ls)\n",
    "# ax[0].tick_params(axis='both', labelsize=ls)\n",
    "# ax[1].tick_params(axis='both', labelsize=ls)\n",
    "# plt.tight_layout()"
   ]
  },
  {
   "cell_type": "code",
   "execution_count": null,
   "id": "c5944377",
   "metadata": {},
   "outputs": [],
   "source": [
    "# fig, ax = plt.subplots(1,2,figsize = (10,4))\n",
    "# x = fr['Area']\n",
    "# y = fr['est']\n",
    "# ax[0].scatter(\n",
    "#     x,y,alpha = 0.25\n",
    "# )\n",
    "# ax[0].set_xscale('log')\n",
    "\n",
    "# ax[0].set_ylabel('LOO Estimated Thickness', fontsize = ls)\n",
    "\n",
    "# y = fr['Thickness']\n",
    "# ax[1].scatter(\n",
    "#     x,y,alpha = 0.25\n",
    "# )\n",
    "# ax[1].set_xscale('log')\n",
    "# ax[1].set_ylabel('GlaThiDa Survey Thickness',fontsize = ls)\n",
    "# fig.supxlabel('Glacier Area (km$^2$)', y = 0.05,fontsize = ls)\n",
    "# ax[0].tick_params(axis='both', labelsize=ls)\n",
    "# ax[1].tick_params(axis='both', labelsize=ls)\n",
    "# plt.tight_layout()"
   ]
  },
  {
   "cell_type": "markdown",
   "id": "171fbb2b",
   "metadata": {},
   "source": [
    "### Let's see if a linear model does anything different"
   ]
  },
  {
   "cell_type": "code",
   "execution_count": null,
   "id": "a058fa74",
   "metadata": {},
   "outputs": [],
   "source": [
    "# lin_model = {}\n",
    "# lin_model_history = {}\n",
    "# l1 = 16\n",
    "# l2 = 4\n",
    "# normalizer = {}\n",
    "# loss = 'mae'\n",
    "# model_path = '/data/fast1/glacierml/models/LOO_linear/'\n",
    "# for n in tqdm(df.index):\n",
    "#     isdir = os.path.join(\n",
    "#         model_path ,str(n)\n",
    "#     )\n",
    "#     if os.path.isdir(isdir) == True:\n",
    "#         lin_model[n] = gl.load_dnn_model(isdir)\n",
    "#     elif os.path.isdir(isdir) == False:\n",
    "        \n",
    "\n",
    "# #         total_inputs = (len(df.columns)) * (len(df) - 1)\n",
    "# #         dp = int(pr * total_inputs)\n",
    "# #         tp = dp - (len(df.columns) + (len(df.columns)-1) )\n",
    "# #         g = (len(df.columns) + (len(df.columns) - 1))\n",
    "# #         l2[n] = 4\n",
    "# #         l1[n] = int((dp - 1 - g - 2*l2[n]) / (10 + l2[n]))\n",
    "#         normalizer = preprocessing.Normalization(axis=-1)\n",
    "#         normalizer.adapt(np.array(trfeat[n]))\n",
    "\n",
    "#         lin_model[n] = gl.build_linear_model(\n",
    "#             normalizer, learning_rate = 0.01, \n",
    "#             layer_1 = l1, layer_2 = l2\n",
    "#         )\n",
    "\n",
    "#         lin_model_history[n] = model[n].fit(\n",
    "#             trfeat[n],\n",
    "#             trlabs[n],\n",
    "#             validation_split=0.2,\n",
    "#             callbacks = [callback],\n",
    "#             verbose=0, \n",
    "#             epochs=500\n",
    "#         )\n",
    "#         model_filename = isdir\n",
    "#         lin_model[n].save(model_filename)"
   ]
  },
  {
   "cell_type": "code",
   "execution_count": null,
   "id": "fe5de79c",
   "metadata": {},
   "outputs": [],
   "source": [
    "# results = {}\n",
    "# residuals = {}\n",
    "# final_results = pd.DataFrame()\n",
    "# # residuals = pd.DataFrame()\n",
    "# y = {}\n",
    "# for n in tqdm(df.index):\n",
    "#     results[n] = model[n].evaluate(tefeat[n], telabs[n],verbose = 0)\n",
    "#     y[n] = model[n].predict(tefeat[n],verbose = 0).flatten()\n",
    "# #     residuals[n] = y[n] - telabs[n].values[0]\n",
    "# #     p_res = residuals[n] / telabs[n].values[0]\n",
    "#     RMSE = np.sqrt(metrics.mean_squared_error(telabs[n].values, y[n]))\n",
    "#     MAPerror = np.mean((y[n] - (telabs[n].values[0])) / telabs[n].values[0]) * 100 \n",
    "\n",
    "\n",
    "# #     tq75 = np.percentile(residuals[n], 75)\n",
    "# #     tq25 = np.percentile(residuals[n], 25)\n",
    "\n",
    "# #     TIQR = tq75 - tq25\n",
    "\n",
    "#     z = model[n].predict(df.drop(['RGIId','Thickness'],axis = 1),verbose = 0).flatten()\n",
    "#     ver_res = z - df['Thickness']\n",
    "#     ver_res_mean = np.mean(ver_res)\n",
    "#     ver_res_std =  np.std(ver_res)\n",
    "#     vq75 = np.percentile(ver_res,75)\n",
    "#     vq25 = np.percentile(ver_res,25)\n",
    "#     VIQR = vq75 - vq25\n",
    "\n",
    "#     test_res_n = pd.DataFrame(pd.Series(n,name = 'i'))\n",
    "#     test_res = pd.DataFrame(pd.Series((RMSE), name = 'Test Res'))\n",
    "# #     test_res_std = pd.DataFrame(pd.Series(np.std(residuals[n].values),name = 'Val STD'))\n",
    "\n",
    "#     test_res_n['Model Loss'] = results[n]\n",
    "#     test_res_n['RMSE'] = RMSE\n",
    "#     test_res_n['Percent Error'] = MAPerror\n",
    "#     trm = test_res_n.join(test_res)\n",
    "# #     test_res_mean = test_res_mean.join(test_res_std)\n",
    "# #     test_res_mean['TRes Max'] = residuals[n].max()\n",
    "# #     test_res_mean['TRes Min'] = residuals[n].min()\n",
    "# #     test_res_mean['TRes IQR'] = TIQR\n",
    "#     trm['VRes Mean'] = ver_res_mean    \n",
    "#     trm['VRes STD'] = ver_res_std\n",
    "#     trm['VRes Max'] = ver_res.max()\n",
    "#     trm['VRes Min'] = ver_res.min()\n",
    "#     trm['VRes IQR'] = VIQR\n",
    "#     trm['est'] = y[n]\n",
    "#     trm['Thickness'] = telabs[n].values[0]\n",
    "#     trm['Area'] = tefeat[n]['Area'].values[0]\n",
    "#     trm['Lmax'] = tefeat[n]['Lmax'].values[0]\n",
    "#     trm['Slope'] = tefeat[n]['Slope'].values[0]\n",
    "#     trm['Zmin'] = tefeat[n]['Zmin'].values[0]\n",
    "#     trm['Zmed'] = tefeat[n]['Zmed'].values[0]\n",
    "#     trm['Zmax'] = tefeat[n]['Zmax'].values[0]\n",
    "#     trm['CenLat'] = tefeat[n]['CenLat'].values[0]\n",
    "#     trm['CenLon'] = tefeat[n]['CenLon'].values[0]\n",
    "#     trm['Aspect'] = tefeat[n]['Aspect'].values[0]\n",
    "#     final_results = pd.concat([final_results,trm])\n",
    "# fr_lin = final_results\n",
    "# fr_lin['unc'] = fr_lin['RMSE'] + fr_lin['Percent Error']\n",
    "# fr_lin = fr_lin.set_index('i')\n",
    "# fr_lin.to_pickle(model_path + 'final_results_linear.pkl')"
   ]
  },
  {
   "cell_type": "code",
   "execution_count": null,
   "id": "69b3f727",
   "metadata": {},
   "outputs": [],
   "source": [
    "# fr_lin = pd.read_pickle(model_path + 'final_results_linear.pkl')"
   ]
  },
  {
   "cell_type": "code",
   "execution_count": null,
   "id": "9cee6d53",
   "metadata": {},
   "outputs": [],
   "source": [
    "# fr_lin.sort_values('Percent Error')"
   ]
  },
  {
   "cell_type": "code",
   "execution_count": null,
   "id": "538ffcaa",
   "metadata": {
    "scrolled": false
   },
   "outputs": [],
   "source": [
    "# fig, ax = plt.subplots(1,2,figsize = (10,4))\n",
    "# x = fr_lin['Thickness']\n",
    "# y = fr_lin['est']\n",
    "# ax[0].scatter(\n",
    "#     x,y, alpha = 0.25\n",
    "# )\n",
    "# ax[0].plot(\n",
    "#     (x.min(),x.max()),\n",
    "#     (x.min(),x.max()),\n",
    "#     '-k'\n",
    "# )\n",
    "# # ax[0].set_xscale('log')\n",
    "# # ax[0].set_yscale('log')\n",
    "# ax[0].set_ylabel('LOO Estimated Thickness', fontsize = ls)\n",
    "# fig.supxlabel('GlaThiDa Thickness', y = 0.05, fontsize = ls)\n",
    "\n",
    "# y = fr_lin['Percent Error']\n",
    "# ax[1].scatter(\n",
    "#     x,y, alpha = 0.25\n",
    "# )\n",
    "# ax[1].plot(\n",
    "#     (x.min(),x.max()),\n",
    "#     (0,0),\n",
    "#     '-k'\n",
    "# )\n",
    "# ax[1].set_ylabel('LOO Percent Error', fontsize = ls)\n",
    "# ax[0].tick_params(axis='both', labelsize=ls)\n",
    "# ax[1].tick_params(axis='both', labelsize=ls)\n",
    "# plt.tight_layout()"
   ]
  },
  {
   "cell_type": "code",
   "execution_count": null,
   "id": "799203bd",
   "metadata": {},
   "outputs": [],
   "source": [
    "# fr.sort_values('RMSE')"
   ]
  },
  {
   "cell_type": "code",
   "execution_count": null,
   "id": "254c91e6",
   "metadata": {},
   "outputs": [],
   "source": [
    "# fig, ax = plt.subplots(1,2,figsize = (10,4))\n",
    "# x = fr_lin['Area']\n",
    "# y = fr_lin['est']\n",
    "# ax[0].scatter(\n",
    "#     x,y,alpha = 0.25\n",
    "# )\n",
    "# ax[0].set_xscale('log')\n",
    "# ax[0].set_ylabel('LOO Estimated Thickness')\n",
    "\n",
    "# y = fr_lin['Thickness']\n",
    "# ax[1].scatter(\n",
    "#     x,y,alpha = 0.25\n",
    "# )\n",
    "# ax[1].set_xscale('log')\n",
    "# ax[1].set_ylabel('GlaThiDa Survey Thickness')\n",
    "# fig.supxlabel('Glacier Area (km$^2$)', y = -.05)"
   ]
  },
  {
   "cell_type": "code",
   "execution_count": null,
   "id": "40388a24",
   "metadata": {},
   "outputs": [],
   "source": [
    "# plt.scatter(\n",
    "#     fr['est'],\n",
    "#     fr['RMSE'],\n",
    "#     alpha = 0.25\n",
    "# )"
   ]
  },
  {
   "cell_type": "markdown",
   "id": "703f7256",
   "metadata": {},
   "source": [
    "## Are residuals and percent residuals normally distributed with features?"
   ]
  },
  {
   "cell_type": "code",
   "execution_count": null,
   "id": "6af7e35a",
   "metadata": {
    "scrolled": false
   },
   "outputs": [],
   "source": [
    "# for feat in ['Area','Lmax','Slope','Zmin']:\n",
    "#     plt.scatter(\n",
    "#         fr[feat],\n",
    "#         fr['RMSE']\n",
    "#     )\n",
    "#     if feat == 'Area' or feat == 'Lmax':\n",
    "#         plt.xscale('log')\n",
    "#     plt.xlabel(feat)\n",
    "#     plt.ylabel('LOO RMSE')\n",
    "#     plt.show()\n",
    "\n",
    "# for feat in ['Area','Lmax','Slope','Zmin']:\n",
    "#     plt.scatter(\n",
    "#         fr[feat],\n",
    "#         fr['Percent Error']\n",
    "#     )\n",
    "#     if feat == 'Area' or feat == 'Lmax':\n",
    "#         plt.xscale('log')\n",
    "#     plt.xlabel(feat)\n",
    "#     plt.ylabel('LOO % error')\n",
    "#     plt.show()"
   ]
  },
  {
   "cell_type": "code",
   "execution_count": null,
   "id": "bc2cc473",
   "metadata": {},
   "outputs": [],
   "source": [
    "# plt.scatter(\n",
    "#     fr['Area'],\n",
    "#     fr['RMSE']\n",
    "# )\n",
    "# plt.yscale('log')\n",
    "# plt.xscale('log')"
   ]
  },
  {
   "cell_type": "markdown",
   "id": "32731244",
   "metadata": {},
   "source": [
    "### Use each LOO model to predict RGI"
   ]
  },
  {
   "cell_type": "code",
   "execution_count": null,
   "id": "cbd18c77",
   "metadata": {},
   "outputs": [],
   "source": [
    "\n",
    "cols = []\n",
    "for i in range(341):\n",
    "    cols.append(i)\n",
    "\n",
    "\n",
    "\n",
    "rgi_list = list(df)[:-1]\n",
    "rgi_list.append('RGIId')"
   ]
  },
  {
   "cell_type": "code",
   "execution_count": null,
   "id": "4d492aa6",
   "metadata": {},
   "outputs": [],
   "source": [
    "unc_cols = []\n",
    "for i in range(341):\n",
    "    unc_cols.append(str(i) + '_')"
   ]
  },
  {
   "cell_type": "code",
   "execution_count": null,
   "id": "58fd5bc4",
   "metadata": {},
   "outputs": [],
   "source": [
    "df = pd.merge(df, RGI, how = 'inner', on = rgi_list)\n",
    "X = np.mean(df[range(341)], axis = 1)\n",
    "se = np.std(df[range(341)], axis = 1) / np.sqrt(341)\n",
    "\n",
    "df['LCI'] = X - (1.96 * se)\n",
    "df['UCI'] = X + (1.96 * se)\n",
    "\n",
    "lb = df['LCI'] / 1e3 * df['Area'] / 1e3\n",
    "ub = df['UCI'] / 1e3 * df['Area'] / 1e3"
   ]
  },
  {
   "cell_type": "code",
   "execution_count": null,
   "id": "e4b94235",
   "metadata": {},
   "outputs": [],
   "source": [
    "x = df['Thickness']\n",
    "# y = np.mean(dfci, axis = 1)\n",
    "# y = df['we']\n",
    "y = np.mean(df[cols],axis = 1)\n",
    "plt.errorbar(\n",
    "    x,y,yerr = df['UCI'] - df['LCI'],\n",
    "        alpha = 0.25,\n",
    "#     label = 'Estimates $\\hat{\\mu}(x)$',\n",
    "    linestyle = 'None',\n",
    "    marker = '.',\n",
    "    capsize = 8,\n",
    "    color = '#1f77b4',\n",
    ")\n",
    "\n",
    "plt.plot(\n",
    "    (x.min(),x.max()),\n",
    "    (x.min(),x.max()),\n",
    "    '-k'\n",
    ")\n",
    "\n",
    "plt.ylabel('Estimated Thickness')\n",
    "plt.xlabel('GlaThiDa Survey')\n",
    "plt.title('Leave-One-Out X-val 95% CI')"
   ]
  },
  {
   "cell_type": "code",
   "execution_count": null,
   "id": "7cd453d7",
   "metadata": {},
   "outputs": [],
   "source": [
    "fig, ax = plt.subplots(1,2,figsize = (10,4))\n",
    "x = df['Area']\n",
    "y1 = df['UCI']\n",
    "y2 = df['LCI']\n",
    "ax[0].scatter(\n",
    "    x,y1,alpha = 0.25\n",
    ")\n",
    "ax[0].scatter(\n",
    "    x,y2,alpha = 0.25\n",
    ")\n",
    "ax[0].set_xscale('log')\n",
    "ax[0].set_ylabel('LOO Thickness Upper CI')\n",
    "\n",
    "y = df['Thickness']\n",
    "ax[1].scatter(\n",
    "    x,y,alpha = 0.25\n",
    ")\n",
    "ax[1].set_xscale('log')\n",
    "ax[1].set_ylabel('GlaThiDa Survey Thickness')\n",
    "fig.supxlabel('Glacier Area (km$^2$)', y = -.05)"
   ]
  },
  {
   "cell_type": "code",
   "execution_count": null,
   "id": "581ef465",
   "metadata": {},
   "outputs": [],
   "source": [
    "x = df['Area']\n",
    "y = df['UCI']\n",
    "plt.scatter(x,y,alpha = 0.25)\n",
    "plt.xscale('log')"
   ]
  },
  {
   "cell_type": "code",
   "execution_count": null,
   "id": "c05a76a4",
   "metadata": {},
   "outputs": [],
   "source": []
  },
  {
   "cell_type": "code",
   "execution_count": null,
   "id": "4983e7c6",
   "metadata": {},
   "outputs": [],
   "source": [
    "ref_pth = '/data/fast1/glacierml/data/reference_thicknesses/'\n",
    "ref = pd.DataFrame()\n",
    "for file in os.listdir(ref_pth):\n",
    "    if 'Farinotti' in file:\n",
    "        file_reader = pd.read_csv('reference_thicknesses/' + file)\n",
    "        ref = pd.concat([ref, file_reader], ignore_index = True) \n",
    "ref = ref.rename(columns = {\n",
    "     'Farinotti Mean Thickness':'FMT',\n",
    "})\n",
    "ref = ref[[\n",
    "     'FMT',\n",
    "     'RGIId',\n",
    "]]\n",
    "\n",
    "df = pd.merge(df, ref, how = 'inner', on = 'RGIId')"
   ]
  },
  {
   "cell_type": "code",
   "execution_count": null,
   "id": "bc90d240",
   "metadata": {},
   "outputs": [],
   "source": [
    "df['est'] = df[['UCI','LCI']].mean(axis = 1)"
   ]
  },
  {
   "cell_type": "code",
   "execution_count": null,
   "id": "bd3a0e2e",
   "metadata": {},
   "outputs": [],
   "source": [
    "x = df['Thickness']\n",
    "# y = np.mean(dfci, axis = 1)\n",
    "# y = df['we']\n",
    "y = df['est']\n",
    "plt.scatter(\n",
    "    x,y,\n",
    "        alpha = 0.25,\n",
    "#     label = 'Estimates $\\hat{\\mu}(x)$',\n",
    "    marker = '.',\n",
    ")\n",
    "\n",
    "plt.plot(\n",
    "    (x.min(),x.max()),\n",
    "    (x.min(),x.max()),\n",
    "    '-k'\n",
    ")\n",
    "\n",
    "plt.ylabel('Estimated Thickness')\n",
    "plt.xlabel('GlaThiDa Survey')\n",
    "# plt.title('Leave-One-Out X-val 95% CI')"
   ]
  },
  {
   "cell_type": "code",
   "execution_count": null,
   "id": "13e88963",
   "metadata": {},
   "outputs": [],
   "source": [
    "obs = df['Thickness']\n",
    "obs_mean = obs.mean()\n",
    "obs_std = obs.std()\n",
    "obs_se = obs_mean / obs_std\n",
    "\n",
    "pred = df['est']\n",
    "pred_mean = pred.mean()\n",
    "pred_std = pred.std()\n",
    "pred_se = pred_mean / pred_std\n",
    "\n",
    "pooled_var = (obs_std**2 + pred_std**2) / 2\n",
    "\n",
    "t = (pred_mean - obs_mean) / 2\n",
    "\n",
    "print(t)"
   ]
  },
  {
   "cell_type": "code",
   "execution_count": null,
   "id": "05b2f7e9",
   "metadata": {},
   "outputs": [],
   "source": [
    "obs = df['Thickness']\n",
    "obs_mean = obs.mean()\n",
    "obs_std = obs.std()\n",
    "obs_se = obs_mean / obs_std\n",
    "\n",
    "pred = df['FMT']\n",
    "pred_mean = pred.mean()\n",
    "pred_std = pred.std()\n",
    "pred_se = pred_mean / pred_std\n",
    "\n",
    "pooled_var = (obs_std**2 + pred_std**2) / 2\n",
    "\n",
    "t = (pred_mean - obs_mean) / 2\n",
    "\n",
    "print(t)"
   ]
  },
  {
   "cell_type": "code",
   "execution_count": null,
   "id": "e292c92f",
   "metadata": {},
   "outputs": [],
   "source": []
  },
  {
   "cell_type": "code",
   "execution_count": null,
   "id": "aade713e",
   "metadata": {},
   "outputs": [],
   "source": [
    "cov = np.cov(df[cols].T)"
   ]
  },
  {
   "cell_type": "code",
   "execution_count": null,
   "id": "e9eb7fb2",
   "metadata": {},
   "outputs": [],
   "source": [
    "# cov = np.cov(df[cols])\n",
    "eigenvalues, eigenvectors = np.linalg.eig(cov)"
   ]
  },
  {
   "cell_type": "code",
   "execution_count": null,
   "id": "72714cd2",
   "metadata": {
    "scrolled": true
   },
   "outputs": [],
   "source": [
    "corr = np.corrcoef(df[cols].T)"
   ]
  },
  {
   "cell_type": "code",
   "execution_count": null,
   "id": "7180ceee",
   "metadata": {
    "scrolled": false
   },
   "outputs": [],
   "source": [
    "f = plt.figure(figsize=(13, 12))\n",
    "plt.matshow(\n",
    "    cov, fignum=f.number,cmap = 'seismic',vmin=-1000, vmax=1000\n",
    ")\n",
    "plt.xticks(fontsize=14)\n",
    "plt.yticks(fontsize=14)\n",
    "cb = plt.colorbar()\n",
    "cb.ax.tick_params(labelsize=14)\n",
    "# plt.title('Covariance Matrix of Survey Thickness and Model Estimates', fontsize=18)\n",
    "# plt.xlabel('Model Thickness Estimates',fontsize = 14)\n",
    "# plt.ylabel('GlaThiDa Survey Thickness',fontsize = 14)"
   ]
  },
  {
   "cell_type": "code",
   "execution_count": null,
   "id": "d9a9a300",
   "metadata": {},
   "outputs": [],
   "source": [
    "neg_covs_ind = mean_covs[mean_covs < 0].index\n",
    "zer_covs_ind = mean_covs[mean_covs == 0].index\n",
    "nan_covs_ind = mean_covs[mean_covs == np.nan].index\n",
    "pos_covs_ind = mean_covs[mean_covs > 0].index\n",
    "\n",
    "negs = dft.iloc[neg_covs_ind]\n",
    "zero = dft.iloc[zer_covs_ind]\n",
    "pos = dft.iloc[pos_covs_ind]\n",
    "nans = dft.iloc[nan_covs_ind]"
   ]
  },
  {
   "cell_type": "code",
   "execution_count": null,
   "id": "ee54ed39",
   "metadata": {
    "scrolled": false
   },
   "outputs": [],
   "source": [
    "x_eval = np.linspace(0,700,500)\n",
    "\n",
    "for i in tqdm(range(len(df))):\n",
    "    x = df[cols].iloc[i]\n",
    "    kde = st.gaussian_kde(np.array(x))\n",
    "    plt.plot(x_eval, kde(x_eval), '-',alpha = 0.25)\n",
    "plt.xscale('symlog')"
   ]
  },
  {
   "cell_type": "code",
   "execution_count": null,
   "id": "5a4afe46",
   "metadata": {},
   "outputs": [],
   "source": [
    "cov = pd.DataFrame(cov)\n",
    "corr = pd.DataFrame(corr)"
   ]
  },
  {
   "cell_type": "code",
   "execution_count": null,
   "id": "43ad6d3b",
   "metadata": {},
   "outputs": [],
   "source": [
    "cov_d = cov.drop(cov[cov[cols] <= 0].dropna(axis = 0).index)\n",
    "corr_d = corr.drop(corr[corr[cols] <= 0].dropna(axis = 0).index)\n",
    "corr_d = corr.drop(corr[corr[cols] <= 0].dropna(axis = 0).index)\n",
    "\n",
    "cov_d = cov_d.reset_index().drop('index',axis = 1)\n",
    "corr_d = corr_d.reset_index().drop('index',axis = 1)"
   ]
  },
  {
   "cell_type": "code",
   "execution_count": null,
   "id": "8b3e60a6",
   "metadata": {},
   "outputs": [],
   "source": [
    "dftr = dft.drop(cov[cov[cols] <= 0].dropna(axis = 0).index)\n",
    "dftr = dftr.reset_index().drop('index',axis = 1)"
   ]
  },
  {
   "cell_type": "code",
   "execution_count": null,
   "id": "5d674978",
   "metadata": {
    "scrolled": false
   },
   "outputs": [],
   "source": [
    "\n",
    "p = plt.get_cmap('seismic')\n",
    "n = 0\n",
    "for i in tqdm(\n",
    "    dftr.sort_values('Thickness',ascending = True).index,\n",
    "#     dftr.sort_values('Thickness',ascending = True).reset_index().index\n",
    "):\n",
    "#     print(dft['Thickness'].loc[i])\n",
    "\n",
    "    \n",
    "    x =df[cols].loc[i]\n",
    "\n",
    "    x_eval = np.linspace(x.min(),x.max(),500)\n",
    "\n",
    "    kde = st.gaussian_kde(np.array(x))\n",
    "    plt.plot(\n",
    "        x_eval, kde(x_eval), '-',alpha = 0.75,\n",
    "        c = p(n/(len(dft) - 1))\n",
    "    )\n",
    "    n = n + 1\n",
    "#     c = p(n/(len(pos) - 1))\n",
    "# plt.ylim(0,0.2)\n",
    "# plt.yscale('log')\n",
    "plt.xscale('symlog')\n",
    "plt.ylabel('Likelihood')\n",
    "plt.xlabel('Thickness')\n",
    "plt.title('Leave-One-Out Thickness PDF')\n",
    "divider = make_axes_locatable(plt.gca())\n",
    "ax_cb = divider.new_horizontal(size=\"5%\", pad=0.05)    \n",
    "cb1 = mpl.colorbar.ColorbarBase(\n",
    "    ax_cb, cmap=p, orientation='vertical',\n",
    "    ticklocation = 'auto',ticks = [],\n",
    "    label = 'Left-Out Thickness'\n",
    ")\n",
    "cb1.set_ticks(ticks = (0,1),labels = ['Min','Max'])\n",
    "# cb1.set_label('Thickness',x = -0.07)\n",
    "plt.gcf().add_axes(ax_cb)\n",
    "\n",
    "#     plt.show()\n"
   ]
  },
  {
   "cell_type": "code",
   "execution_count": null,
   "id": "a3e65392",
   "metadata": {
    "scrolled": false
   },
   "outputs": [],
   "source": [
    "\n",
    "p = plt.get_cmap('seismic')\n",
    "n = 0\n",
    "for i in tqdm(\n",
    "    dftr.sort_values('Thickness',ascending = True).index,\n",
    "#     dftr.sort_values('Thickness',ascending = True).reset_index().index\n",
    "):\n",
    "#     print(dft['Thickness'].loc[i])\n",
    "\n",
    "    \n",
    "    x =cov_d.loc[i]\n",
    "\n",
    "    x_eval = np.linspace(x.min(),x.max(),500)\n",
    "\n",
    "    kde = st.gaussian_kde(np.array(x))\n",
    "    plt.plot(\n",
    "        x_eval, kde(x_eval), '-',alpha = 0.25,\n",
    "        c = p(n/(len(dft) - 1))\n",
    "    )\n",
    "    n = n + 1\n",
    "#     c = p(n/(len(pos) - 1))\n",
    "# plt.ylim(0,0.2)\n",
    "plt.yscale('log')\n",
    "plt.xscale('symlog')\n",
    "plt.ylabel('Density')\n",
    "plt.xlabel('Covariance')\n",
    "plt.title('Leave-One-Out Covariance PDF')\n",
    "divider = make_axes_locatable(plt.gca())\n",
    "ax_cb = divider.new_horizontal(size=\"5%\", pad=0.05)    \n",
    "cb1 = mpl.colorbar.ColorbarBase(\n",
    "    ax_cb, cmap=p, orientation='vertical',\n",
    "    ticklocation = 'auto',ticks = [],\n",
    "    label = 'Thickness index'\n",
    ")\n",
    "cb1.set_ticks(ticks = (0,1),labels = ['Min','Max'])\n",
    "# cb1.set_label('Thickness',x = -0.07)\n",
    "plt.gcf().add_axes(ax_cb)\n",
    "\n",
    "#     plt.show()\n"
   ]
  },
  {
   "cell_type": "code",
   "execution_count": null,
   "id": "8d60f125",
   "metadata": {},
   "outputs": [],
   "source": [
    "cov"
   ]
  },
  {
   "cell_type": "code",
   "execution_count": null,
   "id": "46495b28",
   "metadata": {
    "scrolled": false
   },
   "outputs": [],
   "source": [
    "from mpl_toolkits.axes_grid1 import make_axes_locatable\n",
    "import matplotlib as mpl\n",
    "\n",
    "p = plt.get_cmap('seismic')\n",
    "thickness = dft['Thickness']\n",
    "n = 0\n",
    "for i in tqdm(\n",
    "    dftr.sort_values('Thickness',ascending = True).index,\n",
    "#     dftr.sort_values('Thickness',ascending = True).reset_index().index\n",
    "):\n",
    "#     print(dft['Thickness'].loc[i])\n",
    "    x = df[cols].loc[i]\n",
    "    x_eval = np.linspace(x.min(),x.max(),500)\n",
    "\n",
    "    kde = st.gaussian_kde(np.array(x))\n",
    "    plt.plot(\n",
    "        x_eval, kde(x_eval), '-',alpha = 0.75,\n",
    "        c = p(n/(len(dft) - 1))\n",
    "    )\n",
    "    n = n + 1\n",
    "#     c = p(n/(len(pos) - 1))\n",
    "    \n",
    "plt.xscale('symlog')\n",
    "# plt.yscale('log')\n",
    "plt.ylabel('Probability')\n",
    "plt.xlabel('Covariance')\n",
    "plt.title('Leave-One-Out Covariance PDF')\n",
    "divider = make_axes_locatable(plt.gca())\n",
    "ax_cb = divider.new_horizontal(size=\"5%\", pad=0.05)    \n",
    "cb1 = mpl.colorbar.ColorbarBase(\n",
    "    ax_cb, cmap=p, orientation='vertical',\n",
    "    ticklocation = 'auto',ticks = [],\n",
    "    label = 'Thickness index'\n",
    ")\n",
    "cb1.set_ticks(ticks = (0,1),labels = ['Min','Max'])\n",
    "# cb1.set_label('Thickness',x = -0.07)\n",
    "plt.gcf().add_axes(ax_cb)\n",
    "#     plt.show()\n"
   ]
  },
  {
   "cell_type": "code",
   "execution_count": null,
   "id": "0c22990e",
   "metadata": {},
   "outputs": [],
   "source": [
    "df[cols].min().min()"
   ]
  },
  {
   "cell_type": "code",
   "execution_count": null,
   "id": "ccfaadef",
   "metadata": {},
   "outputs": [],
   "source": [
    "dft"
   ]
  },
  {
   "cell_type": "code",
   "execution_count": null,
   "id": "7f34a607",
   "metadata": {},
   "outputs": [],
   "source": [
    "(n/(len(dft) - 1))"
   ]
  },
  {
   "cell_type": "code",
   "execution_count": null,
   "id": "2f966653",
   "metadata": {},
   "outputs": [],
   "source": []
  },
  {
   "cell_type": "code",
   "execution_count": null,
   "id": "d6b9b60e",
   "metadata": {},
   "outputs": [],
   "source": [
    "p = plt.get_cmap('seismic')\n",
    "\n",
    "for i in tqdm(negs.sort_values('Thickness',ascending = True).index):\n",
    "    print(i)\n",
    "    x = df[cols].iloc[i]\n",
    "    x_eval = np.linspace(x.min(),x.max(),500)\n",
    "\n",
    "    kde = st.gaussian_kde(np.array(x))\n",
    "    plt.plot(x_eval, kde(x_eval), '-',alpha = 0.5,c = p(i/(len(pos) - 1)))\n",
    "plt.xscale('symlog')\n",
    "# plt.colorbar(p)"
   ]
  },
  {
   "cell_type": "code",
   "execution_count": null,
   "id": "db74e4c3",
   "metadata": {},
   "outputs": [],
   "source": [
    "p = plt.get_cmap('seismic')\n",
    "\n",
    "for i in tqdm(zero.sort_values('Thickness',ascending = True).index):\n",
    "    print(i)\n",
    "    x = df[cols].iloc[i]\n",
    "    x_eval = np.linspace(x.min(),x.max(),500)\n",
    "\n",
    "    kde = st.gaussian_kde(np.array(x))\n",
    "    plt.plot(x_eval, kde(x_eval), '-',alpha = 0.5,c = p(i/(len(pos) - 1)))\n",
    "plt.xscale('symlog')\n",
    "# plt.colorbar(p)"
   ]
  },
  {
   "cell_type": "code",
   "execution_count": null,
   "id": "fde95d40",
   "metadata": {},
   "outputs": [],
   "source": [
    "negs"
   ]
  },
  {
   "cell_type": "code",
   "execution_count": null,
   "id": "d039f68e",
   "metadata": {},
   "outputs": [],
   "source": [
    "import scipy.stats as st"
   ]
  },
  {
   "cell_type": "code",
   "execution_count": null,
   "id": "9274e49c",
   "metadata": {},
   "outputs": [],
   "source": [
    "cov = pd.DataFrame(cov)"
   ]
  },
  {
   "cell_type": "code",
   "execution_count": null,
   "id": "7d265561",
   "metadata": {},
   "outputs": [],
   "source": [
    "mean_covs = np.mean(cov, axis = 0)"
   ]
  },
  {
   "cell_type": "code",
   "execution_count": null,
   "id": "6deb4ae5",
   "metadata": {},
   "outputs": [],
   "source": [
    "\n",
    "plt.scatter(    pos['Zmin'],pos['Thickness'],alpha = 0.25\n",
    ")\n",
    "plt.scatter(\n",
    "    negs['Zmin'],negs['Thickness']\n",
    ")\n",
    "# plt.xscale('log')"
   ]
  },
  {
   "cell_type": "code",
   "execution_count": null,
   "id": "3530f918",
   "metadata": {},
   "outputs": [],
   "source": []
  },
  {
   "cell_type": "code",
   "execution_count": null,
   "id": "304ab13d",
   "metadata": {},
   "outputs": [],
   "source": [
    "np.argsort(np.sum(cov,axis=0))"
   ]
  },
  {
   "cell_type": "code",
   "execution_count": null,
   "id": "b2cfeed5",
   "metadata": {},
   "outputs": [],
   "source": [
    "loo = np.array(df[cols].T)\n",
    "plt.scatter(loo[:,65],loo[:,275])"
   ]
  },
  {
   "cell_type": "code",
   "execution_count": null,
   "id": "b09be853",
   "metadata": {},
   "outputs": [],
   "source": [
    "np.mean(df[cols].iloc[55])"
   ]
  },
  {
   "cell_type": "code",
   "execution_count": null,
   "id": "5ee297e4",
   "metadata": {},
   "outputs": [],
   "source": [
    "df.iloc[55]"
   ]
  },
  {
   "cell_type": "code",
   "execution_count": null,
   "id": "80b36873",
   "metadata": {},
   "outputs": [],
   "source": [
    "cov = pd.DataFrame(cov)"
   ]
  },
  {
   "cell_type": "code",
   "execution_count": null,
   "id": "52587f80",
   "metadata": {},
   "outputs": [],
   "source": [
    "cov.iloc[55]"
   ]
  },
  {
   "cell_type": "code",
   "execution_count": null,
   "id": "a6f7da1a",
   "metadata": {},
   "outputs": [],
   "source": [
    "np.where(cov[cols] <= 0)"
   ]
  },
  {
   "cell_type": "code",
   "execution_count": null,
   "id": "07f01810",
   "metadata": {},
   "outputs": [],
   "source": [
    "len(np.unique(np.where(cov<0)[1]))"
   ]
  },
  {
   "cell_type": "code",
   "execution_count": null,
   "id": "1afc8a80",
   "metadata": {},
   "outputs": [],
   "source": [
    "cov[cov[cols] <= 0].dropna(axis = 0)"
   ]
  },
  {
   "cell_type": "code",
   "execution_count": null,
   "id": "ef1f2e8b",
   "metadata": {},
   "outputs": [],
   "source": [
    "cov[(cov[cov.columns] < 0).all(axis=1)]"
   ]
  },
  {
   "cell_type": "code",
   "execution_count": null,
   "id": "55e08a58",
   "metadata": {},
   "outputs": [],
   "source": [
    "cov.iloc[55].max()"
   ]
  },
  {
   "cell_type": "code",
   "execution_count": null,
   "id": "bda5a3c7",
   "metadata": {},
   "outputs": [],
   "source": [
    "(cov.iloc[np.where(cov<=0)[1]].index).unique()"
   ]
  },
  {
   "cell_type": "code",
   "execution_count": null,
   "id": "9c91f5d3",
   "metadata": {},
   "outputs": [],
   "source": [
    "dft = df.iloc[bad_glacs]"
   ]
  },
  {
   "cell_type": "code",
   "execution_count": null,
   "id": "ee474b47",
   "metadata": {},
   "outputs": [],
   "source": [
    "df.iloc[np.unique(bad_glacs)]"
   ]
  },
  {
   "cell_type": "code",
   "execution_count": null,
   "id": "fa968c33",
   "metadata": {},
   "outputs": [],
   "source": [
    "dft"
   ]
  },
  {
   "cell_type": "code",
   "execution_count": null,
   "id": "5d4ffb91",
   "metadata": {},
   "outputs": [],
   "source": []
  },
  {
   "cell_type": "code",
   "execution_count": null,
   "id": "6a3a0955",
   "metadata": {},
   "outputs": [],
   "source": []
  },
  {
   "cell_type": "code",
   "execution_count": null,
   "id": "e97c81f2",
   "metadata": {},
   "outputs": [],
   "source": [
    "cov[:,0]"
   ]
  },
  {
   "cell_type": "code",
   "execution_count": null,
   "id": "a9bb7f8d",
   "metadata": {},
   "outputs": [],
   "source": [
    "df.iloc[np.unique(np.where(cov[,:]<0)[0])]"
   ]
  },
  {
   "cell_type": "code",
   "execution_count": null,
   "id": "fe2301ad",
   "metadata": {},
   "outputs": [],
   "source": []
  },
  {
   "cell_type": "code",
   "execution_count": null,
   "id": "ea295d5f",
   "metadata": {},
   "outputs": [],
   "source": [
    "cov"
   ]
  },
  {
   "cell_type": "code",
   "execution_count": null,
   "id": "960205dd",
   "metadata": {},
   "outputs": [],
   "source": [
    "np.where(cov==cov.max())"
   ]
  },
  {
   "cell_type": "code",
   "execution_count": null,
   "id": "918f107a",
   "metadata": {},
   "outputs": [],
   "source": [
    "plt.scatter(\n",
    "    eigenvectors, eigenvectors\n",
    ")\n",
    "plt.xscale('log')\n",
    "plt.yscale('log')"
   ]
  },
  {
   "cell_type": "code",
   "execution_count": null,
   "id": "4643ee50",
   "metadata": {},
   "outputs": [],
   "source": [
    "np.where(eigenvalues == np.max(eigenvalues))"
   ]
  },
  {
   "cell_type": "code",
   "execution_count": null,
   "id": "0b860940",
   "metadata": {},
   "outputs": [],
   "source": []
  },
  {
   "cell_type": "code",
   "execution_count": null,
   "id": "cfd8854d",
   "metadata": {},
   "outputs": [],
   "source": [
    "plt.plot(eigenvalues,linestyle = None)\n",
    "plt.yscale('symlog')"
   ]
  },
  {
   "cell_type": "code",
   "execution_count": null,
   "id": "4494e290",
   "metadata": {
    "scrolled": false
   },
   "outputs": [],
   "source": [
    "# x = np.linspace(eigenvectors.min(),eigenvectors.max(),len(eigenvectors))\n",
    "# for i in range(340):\n",
    "plt.plot(\n",
    "    eigenvectors[0],linestyle = None\n",
    ")\n",
    "plt.show()\n"
   ]
  },
  {
   "cell_type": "code",
   "execution_count": null,
   "id": "9f392f57",
   "metadata": {},
   "outputs": [],
   "source": []
  },
  {
   "cell_type": "code",
   "execution_count": null,
   "id": "f24e966b",
   "metadata": {},
   "outputs": [],
   "source": [
    "df['Residual'] = df['est'] - df['Thickness']\n",
    "df['FResidual'] = df['FMT'] - df['Thickness']"
   ]
  },
  {
   "cell_type": "code",
   "execution_count": null,
   "id": "74115d11",
   "metadata": {},
   "outputs": [],
   "source": [
    "mean_1 = df['Residual'].mean()\n",
    "std_1 = df['Residual'].std()\n",
    "se_1 = df['Residual'].std() / np.sqrt(341)\n",
    "\n",
    "mean_2 = df['FResidual'].mean()\n",
    "std_2 = df['FResidual'].std()\n",
    "se_2 = df['FResidual'].std() / np.sqrt(341)"
   ]
  },
  {
   "cell_type": "code",
   "execution_count": null,
   "id": "3b53064d",
   "metadata": {},
   "outputs": [],
   "source": [
    "Z_1 = (mean_1 - 0) / se_1\n",
    "\n",
    "Z_2 = (mean_2 - 0) / se_2\n",
    "\n",
    "print(Z_1)\n",
    "print(Z_2)"
   ]
  },
  {
   "cell_type": "code",
   "execution_count": null,
   "id": "3f3388ac",
   "metadata": {
    "scrolled": false
   },
   "outputs": [],
   "source": [
    "x1 = df['Residual']\n",
    "x2 = df['FResidual']\n",
    "kde1 = stats.gaussian_kde(np.array(x1))\n",
    "kde2 = stats.gaussian_kde(np.array(x2))\n",
    "#visualize KDE\n",
    "x1_eval = np.linspace(x1.min(),x1.max(), num=200)\n",
    "plt.plot(x1_eval, kde1(x1_eval), '-',color = 'blue',label = 'This study Residual')\n",
    "\n",
    "x2_eval = np.linspace(x2.min(),x2.max(), num=200)\n",
    "plt.plot(x2_eval, kde2(x2_eval),color = 'orange',label = 'Farinotti Residual')\n",
    "\n",
    "plt.plot(\n",
    "    (x1.mean(),x1.mean()),\n",
    "    (0,0.02),'--',color = 'blue',label = 'This Study Mean Residual'\n",
    ")\n",
    "\n",
    "plt.plot(\n",
    "    (x2.mean(),x2.mean()),\n",
    "    (0,0.02),'--',color = 'orange',label = 'Farinotti Mean Residual'\n",
    ")\n",
    "\n",
    "\n",
    "plt.legend()\n",
    "print(f'This study mean residual = {x1.mean()}')\n",
    "print(f'Farinotti mean residual = {x2.mean()}')"
   ]
  },
  {
   "cell_type": "code",
   "execution_count": null,
   "id": "b247d292",
   "metadata": {},
   "outputs": [],
   "source": [
    "print(np.var(x1))\n",
    "print(np.var(x2))"
   ]
  },
  {
   "cell_type": "code",
   "execution_count": null,
   "id": "8a16313e",
   "metadata": {},
   "outputs": [],
   "source": [
    "#get probability\n",
    "p1 = kde1.integrate_box_1d(-np.inf, 0)\n",
    "p2 = kde2.integrate_box_1d(-np.inf, 0)\n",
    "print(f'probabiliity of achieving residual of 0 = {p1}')\n",
    "print(f'probabiliity of achieving Fresidual of 0 = {p2}')\n"
   ]
  },
  {
   "cell_type": "code",
   "execution_count": null,
   "id": "684c4203",
   "metadata": {},
   "outputs": [],
   "source": [
    "import scipy.stats as st\n",
    "print(st.norm.pdf(Z_1))\n",
    "print(st.norm.pdf(Z_2))"
   ]
  },
  {
   "cell_type": "code",
   "execution_count": null,
   "id": "d9587228",
   "metadata": {
    "scrolled": false
   },
   "outputs": [],
   "source": [
    "x1 = np.sort(np.random.standard_normal(size=500))\n",
    "kde1 = stats.gaussian_kde(np.array(x1))\n",
    "kde2 = stats.gaussian_kde(np.array(x2_eval))\n",
    "#visualize KDE\n",
    "plt.plot(x1, kde1(x1), '-',color = 'blue',label = 'This study Residual')\n",
    "\n",
    "# x2_eval = np.linspace(x2.min(),x2.max(), num=200)\n",
    "# plt.plot(x2_eval, kde2(x2_eval),color = 'orange',label = 'Farinotti Residual')\n",
    "\n",
    "# plt.plot(\n",
    "#     (x1.mean(),x1.mean()),\n",
    "#     (0,0.02),'--',color = 'blue',label = 'This Study Mean Residual'\n",
    "# )\n",
    "\n",
    "# plt.plot(\n",
    "#     (x2.mean(),x2.mean()),\n",
    "#     (0,0.02),'--',color = 'orange',label = 'Farinotti Mean Residual'\n",
    "# )\n",
    "\n",
    "\n",
    "plt.legend()\n",
    "print(f'This study mean residual = {x1.mean()}')\n",
    "print(f'Farinotti mean residual = {x2.mean()}')"
   ]
  },
  {
   "cell_type": "code",
   "execution_count": null,
   "id": "87992804",
   "metadata": {},
   "outputs": [],
   "source": []
  },
  {
   "cell_type": "code",
   "execution_count": null,
   "id": "be9e42b2",
   "metadata": {},
   "outputs": [],
   "source": []
  },
  {
   "cell_type": "code",
   "execution_count": null,
   "id": "d3e1a96e",
   "metadata": {},
   "outputs": [],
   "source": []
  },
  {
   "cell_type": "code",
   "execution_count": null,
   "id": "6c335ad6",
   "metadata": {},
   "outputs": [],
   "source": []
  },
  {
   "cell_type": "code",
   "execution_count": null,
   "id": "707e72e6",
   "metadata": {},
   "outputs": [],
   "source": []
  },
  {
   "cell_type": "code",
   "execution_count": null,
   "id": "adbafa0b",
   "metadata": {},
   "outputs": [],
   "source": []
  },
  {
   "cell_type": "code",
   "execution_count": null,
   "id": "cbc15522",
   "metadata": {},
   "outputs": [],
   "source": []
  },
  {
   "cell_type": "code",
   "execution_count": null,
   "id": "ea7a1aeb",
   "metadata": {},
   "outputs": [],
   "source": []
  },
  {
   "cell_type": "code",
   "execution_count": null,
   "id": "8c196f52",
   "metadata": {},
   "outputs": [],
   "source": []
  },
  {
   "cell_type": "code",
   "execution_count": null,
   "id": "7efbabb0",
   "metadata": {},
   "outputs": [],
   "source": [
    "for i in range(216501):\n",
    "    glac = RGI.iloc[i]\n",
    "    print(sum(glac[cols] / fr['unc']) / sum(1/fr['unc']))\n",
    "    break\n",
    "#     (RGI[cols] /  fr['unc'].T) / (1/fr['unc'].T)"
   ]
  },
  {
   "cell_type": "code",
   "execution_count": null,
   "id": "affdaf4b",
   "metadata": {
    "scrolled": false
   },
   "outputs": [],
   "source": [
    "for i in range(5):\n",
    "    plt.hist(data[range(341)].iloc[random.randint(0,341)])\n",
    "    plt.show()"
   ]
  },
  {
   "cell_type": "code",
   "execution_count": null,
   "id": "6d511c1b",
   "metadata": {},
   "outputs": [],
   "source": [
    "df"
   ]
  },
  {
   "cell_type": "code",
   "execution_count": null,
   "id": "b87660c8",
   "metadata": {},
   "outputs": [],
   "source": [
    "print(f'LOO Global Volume Estimate {np.round(sum(lb)), np.round(sum(ub))} * 10^3 km^3')"
   ]
  },
  {
   "cell_type": "code",
   "execution_count": null,
   "id": "484bcd81",
   "metadata": {},
   "outputs": [],
   "source": [
    "dfci = df[['LCI','UCI']]"
   ]
  },
  {
   "cell_type": "code",
   "execution_count": null,
   "id": "f2274556",
   "metadata": {},
   "outputs": [],
   "source": [
    "x = df['Thickness']\n",
    "y = np.mean(dfci, axis = 1)\n",
    "plt.errorbar(\n",
    "    x,y,yerr = df['UCI'] - df['LCI'],\n",
    "        alpha = 0.25,\n",
    "#     label = 'Estimates $\\hat{\\mu}(x)$',\n",
    "    linestyle = 'None',\n",
    "    marker = 'o',\n",
    "    capsize = 8,\n",
    "    color = '#1f77b4',\n",
    ")\n",
    "\n",
    "plt.plot(\n",
    "    (x.min(),x.max()),\n",
    "    (y.min(),y.max()),\n",
    "    '-k'\n",
    ")\n",
    "\n",
    "plt.ylabel('Estimated Thickness')\n",
    "plt.xlabel('GlaThiDa Survey')\n",
    "plt.title('Leave-One-Out X-val 95% CI')"
   ]
  },
  {
   "cell_type": "code",
   "execution_count": null,
   "id": "f95d094d",
   "metadata": {},
   "outputs": [],
   "source": [
    "df"
   ]
  },
  {
   "cell_type": "code",
   "execution_count": null,
   "id": "23c5a8c5",
   "metadata": {},
   "outputs": [],
   "source": [
    "df['we'].max()"
   ]
  },
  {
   "cell_type": "code",
   "execution_count": null,
   "id": "24b8bcf8",
   "metadata": {},
   "outputs": [],
   "source": []
  },
  {
   "cell_type": "code",
   "execution_count": null,
   "id": "89802ee4",
   "metadata": {},
   "outputs": [],
   "source": []
  },
  {
   "cell_type": "code",
   "execution_count": null,
   "id": "08f98d67",
   "metadata": {},
   "outputs": [],
   "source": []
  },
  {
   "cell_type": "code",
   "execution_count": null,
   "id": "430b2711",
   "metadata": {},
   "outputs": [],
   "source": []
  },
  {
   "cell_type": "code",
   "execution_count": null,
   "id": "1d8456a2",
   "metadata": {},
   "outputs": [],
   "source": []
  },
  {
   "cell_type": "code",
   "execution_count": null,
   "id": "155afa7b",
   "metadata": {},
   "outputs": [],
   "source": []
  },
  {
   "cell_type": "code",
   "execution_count": null,
   "id": "00e52684",
   "metadata": {},
   "outputs": [],
   "source": []
  }
 ],
 "metadata": {
  "kernelspec": {
   "display_name": "Python(3.8.10)",
   "language": "python",
   "name": "new_kernel"
  },
  "language_info": {
   "codemirror_mode": {
    "name": "ipython",
    "version": 3
   },
   "file_extension": ".py",
   "mimetype": "text/x-python",
   "name": "python",
   "nbconvert_exporter": "python",
   "pygments_lexer": "ipython3",
   "version": "3.8.10"
  },
  "varInspector": {
   "cols": {
    "lenName": 16,
    "lenType": 16,
    "lenVar": 40
   },
   "kernels_config": {
    "python": {
     "delete_cmd_postfix": "",
     "delete_cmd_prefix": "del ",
     "library": "var_list.py",
     "varRefreshCmd": "print(var_dic_list())"
    },
    "r": {
     "delete_cmd_postfix": ") ",
     "delete_cmd_prefix": "rm(",
     "library": "var_list.r",
     "varRefreshCmd": "cat(var_dic_list()) "
    }
   },
   "types_to_exclude": [
    "module",
    "function",
    "builtin_function_or_method",
    "instance",
    "_Feature"
   ],
   "window_display": false
  }
 },
 "nbformat": 4,
 "nbformat_minor": 5
}
