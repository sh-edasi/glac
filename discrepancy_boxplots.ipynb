{
 "cells": [
  {
   "cell_type": "code",
   "execution_count": null,
   "id": "de31abcd",
   "metadata": {
    "tags": []
   },
   "outputs": [],
   "source": [
    "import matplotlib.pyplot as plt\n",
    "import numpy as np\n",
    "import pandas as pd\n",
    "from matplotlib.patches import Patch\n",
    "import matplotlib.colors as mcolors\n",
    "import glacierml as gl"
   ]
  },
  {
   "cell_type": "code",
   "execution_count": null,
   "id": "790bd911",
   "metadata": {
    "tags": []
   },
   "outputs": [],
   "source": [
    "home_path = '/home/simonhans/glacierml'\n",
    "[\n",
    "        data_path, RGI_path, glathida_path, \n",
    "        coregistration_testing_path, \n",
    "        arch_test_path, LOO_path\n",
    "] = gl.set_paths(home_path)"
   ]
  },
  {
   "cell_type": "code",
   "execution_count": null,
   "id": "e6172de7-8e71-4f46-9844-eb7d5de66fff",
   "metadata": {},
   "outputs": [],
   "source": [
    "df = df.dropna(subset = ['FMT'])\n",
    "r = np.mean(df[cols],axis = 1) - df['FMT']"
   ]
  },
  {
   "cell_type": "code",
   "execution_count": 8,
   "id": "578d48a3",
   "metadata": {
    "tags": []
   },
   "outputs": [],
   "source": [
    "df.loc[df['TermType'] == 0, 'TermType'] = 'Land'\n",
    "df.loc[df['TermType'] == 1, 'TermType'] = 'Marine'\n",
    "df.loc[df['TermType'] == 2, 'TermType'] = 'Lake'\n",
    "df.loc[df['TermType'] == 5, 'TermType'] = 'Shelf'\n",
    "df.loc[df['Form'] == 0, 'Form'] = 'Glacier'\n",
    "df.loc[df['Form'] == 1, 'Form'] = 'Ice Cap'"
   ]
  },
  {
   "cell_type": "code",
   "execution_count": 9,
   "id": "b140b322",
   "metadata": {
    "tags": []
   },
   "outputs": [
    {
     "ename": "KeyError",
     "evalue": "'r'",
     "output_type": "error",
     "traceback": [
      "\u001b[0;31m---------------------------------------------------------------------------\u001b[0m",
      "\u001b[0;31mKeyError\u001b[0m                                  Traceback (most recent call last)",
      "\u001b[0;32m~/anaconda3/envs/prethicktor/lib/python3.7/site-packages/pandas/core/indexes/base.py\u001b[0m in \u001b[0;36mget_loc\u001b[0;34m(self, key, method, tolerance)\u001b[0m\n\u001b[1;32m   3360\u001b[0m             \u001b[0;32mtry\u001b[0m\u001b[0;34m:\u001b[0m\u001b[0;34m\u001b[0m\u001b[0;34m\u001b[0m\u001b[0m\n\u001b[0;32m-> 3361\u001b[0;31m                 \u001b[0;32mreturn\u001b[0m \u001b[0mself\u001b[0m\u001b[0;34m.\u001b[0m\u001b[0m_engine\u001b[0m\u001b[0;34m.\u001b[0m\u001b[0mget_loc\u001b[0m\u001b[0;34m(\u001b[0m\u001b[0mcasted_key\u001b[0m\u001b[0;34m)\u001b[0m\u001b[0;34m\u001b[0m\u001b[0;34m\u001b[0m\u001b[0m\n\u001b[0m\u001b[1;32m   3362\u001b[0m             \u001b[0;32mexcept\u001b[0m \u001b[0mKeyError\u001b[0m \u001b[0;32mas\u001b[0m \u001b[0merr\u001b[0m\u001b[0;34m:\u001b[0m\u001b[0;34m\u001b[0m\u001b[0;34m\u001b[0m\u001b[0m\n",
      "\u001b[0;32m~/anaconda3/envs/prethicktor/lib/python3.7/site-packages/pandas/_libs/index.pyx\u001b[0m in \u001b[0;36mpandas._libs.index.IndexEngine.get_loc\u001b[0;34m()\u001b[0m\n",
      "\u001b[0;32m~/anaconda3/envs/prethicktor/lib/python3.7/site-packages/pandas/_libs/index.pyx\u001b[0m in \u001b[0;36mpandas._libs.index.IndexEngine.get_loc\u001b[0;34m()\u001b[0m\n",
      "\u001b[0;32mpandas/_libs/hashtable_class_helper.pxi\u001b[0m in \u001b[0;36mpandas._libs.hashtable.PyObjectHashTable.get_item\u001b[0;34m()\u001b[0m\n",
      "\u001b[0;32mpandas/_libs/hashtable_class_helper.pxi\u001b[0m in \u001b[0;36mpandas._libs.hashtable.PyObjectHashTable.get_item\u001b[0;34m()\u001b[0m\n",
      "\u001b[0;31mKeyError\u001b[0m: 'r'",
      "\nThe above exception was the direct cause of the following exception:\n",
      "\u001b[0;31mKeyError\u001b[0m                                  Traceback (most recent call last)",
      "\u001b[0;32m/tmp/ipykernel_550403/3585791956.py\u001b[0m in \u001b[0;36m<module>\u001b[0;34m\u001b[0m\n\u001b[1;32m     11\u001b[0m \u001b[0;34m\u001b[0m\u001b[0m\n\u001b[1;32m     12\u001b[0m \u001b[0;32mfor\u001b[0m \u001b[0mterm_type\u001b[0m\u001b[0;34m,\u001b[0m \u001b[0mgroup_data\u001b[0m \u001b[0;32min\u001b[0m \u001b[0mcombined_data\u001b[0m\u001b[0;34m.\u001b[0m\u001b[0mgroupby\u001b[0m\u001b[0;34m(\u001b[0m\u001b[0;34m'TermType'\u001b[0m\u001b[0;34m)\u001b[0m\u001b[0;34m:\u001b[0m\u001b[0;34m\u001b[0m\u001b[0;34m\u001b[0m\u001b[0m\n\u001b[0;32m---> 13\u001b[0;31m     \u001b[0mglacier_r\u001b[0m \u001b[0;34m=\u001b[0m \u001b[0mgroup_data\u001b[0m\u001b[0;34m[\u001b[0m\u001b[0mgroup_data\u001b[0m\u001b[0;34m[\u001b[0m\u001b[0;34m'Form'\u001b[0m\u001b[0;34m]\u001b[0m \u001b[0;34m==\u001b[0m \u001b[0;34m'Glacier'\u001b[0m\u001b[0;34m]\u001b[0m\u001b[0;34m[\u001b[0m\u001b[0;34m'r'\u001b[0m\u001b[0;34m]\u001b[0m\u001b[0;34m\u001b[0m\u001b[0;34m\u001b[0m\u001b[0m\n\u001b[0m\u001b[1;32m     14\u001b[0m     \u001b[0mice_cap_r\u001b[0m \u001b[0;34m=\u001b[0m \u001b[0mgroup_data\u001b[0m\u001b[0;34m[\u001b[0m\u001b[0mgroup_data\u001b[0m\u001b[0;34m[\u001b[0m\u001b[0;34m'Form'\u001b[0m\u001b[0;34m]\u001b[0m \u001b[0;34m==\u001b[0m \u001b[0;34m'Ice Cap'\u001b[0m\u001b[0;34m]\u001b[0m\u001b[0;34m[\u001b[0m\u001b[0;34m'r'\u001b[0m\u001b[0;34m]\u001b[0m\u001b[0;34m\u001b[0m\u001b[0;34m\u001b[0m\u001b[0m\n\u001b[1;32m     15\u001b[0m \u001b[0;34m\u001b[0m\u001b[0m\n",
      "\u001b[0;32m~/anaconda3/envs/prethicktor/lib/python3.7/site-packages/pandas/core/frame.py\u001b[0m in \u001b[0;36m__getitem__\u001b[0;34m(self, key)\u001b[0m\n\u001b[1;32m   3456\u001b[0m             \u001b[0;32mif\u001b[0m \u001b[0mself\u001b[0m\u001b[0;34m.\u001b[0m\u001b[0mcolumns\u001b[0m\u001b[0;34m.\u001b[0m\u001b[0mnlevels\u001b[0m \u001b[0;34m>\u001b[0m \u001b[0;36m1\u001b[0m\u001b[0;34m:\u001b[0m\u001b[0;34m\u001b[0m\u001b[0;34m\u001b[0m\u001b[0m\n\u001b[1;32m   3457\u001b[0m                 \u001b[0;32mreturn\u001b[0m \u001b[0mself\u001b[0m\u001b[0;34m.\u001b[0m\u001b[0m_getitem_multilevel\u001b[0m\u001b[0;34m(\u001b[0m\u001b[0mkey\u001b[0m\u001b[0;34m)\u001b[0m\u001b[0;34m\u001b[0m\u001b[0;34m\u001b[0m\u001b[0m\n\u001b[0;32m-> 3458\u001b[0;31m             \u001b[0mindexer\u001b[0m \u001b[0;34m=\u001b[0m \u001b[0mself\u001b[0m\u001b[0;34m.\u001b[0m\u001b[0mcolumns\u001b[0m\u001b[0;34m.\u001b[0m\u001b[0mget_loc\u001b[0m\u001b[0;34m(\u001b[0m\u001b[0mkey\u001b[0m\u001b[0;34m)\u001b[0m\u001b[0;34m\u001b[0m\u001b[0;34m\u001b[0m\u001b[0m\n\u001b[0m\u001b[1;32m   3459\u001b[0m             \u001b[0;32mif\u001b[0m \u001b[0mis_integer\u001b[0m\u001b[0;34m(\u001b[0m\u001b[0mindexer\u001b[0m\u001b[0;34m)\u001b[0m\u001b[0;34m:\u001b[0m\u001b[0;34m\u001b[0m\u001b[0;34m\u001b[0m\u001b[0m\n\u001b[1;32m   3460\u001b[0m                 \u001b[0mindexer\u001b[0m \u001b[0;34m=\u001b[0m \u001b[0;34m[\u001b[0m\u001b[0mindexer\u001b[0m\u001b[0;34m]\u001b[0m\u001b[0;34m\u001b[0m\u001b[0;34m\u001b[0m\u001b[0m\n",
      "\u001b[0;32m~/anaconda3/envs/prethicktor/lib/python3.7/site-packages/pandas/core/indexes/base.py\u001b[0m in \u001b[0;36mget_loc\u001b[0;34m(self, key, method, tolerance)\u001b[0m\n\u001b[1;32m   3361\u001b[0m                 \u001b[0;32mreturn\u001b[0m \u001b[0mself\u001b[0m\u001b[0;34m.\u001b[0m\u001b[0m_engine\u001b[0m\u001b[0;34m.\u001b[0m\u001b[0mget_loc\u001b[0m\u001b[0;34m(\u001b[0m\u001b[0mcasted_key\u001b[0m\u001b[0;34m)\u001b[0m\u001b[0;34m\u001b[0m\u001b[0;34m\u001b[0m\u001b[0m\n\u001b[1;32m   3362\u001b[0m             \u001b[0;32mexcept\u001b[0m \u001b[0mKeyError\u001b[0m \u001b[0;32mas\u001b[0m \u001b[0merr\u001b[0m\u001b[0;34m:\u001b[0m\u001b[0;34m\u001b[0m\u001b[0;34m\u001b[0m\u001b[0m\n\u001b[0;32m-> 3363\u001b[0;31m                 \u001b[0;32mraise\u001b[0m \u001b[0mKeyError\u001b[0m\u001b[0;34m(\u001b[0m\u001b[0mkey\u001b[0m\u001b[0;34m)\u001b[0m \u001b[0;32mfrom\u001b[0m \u001b[0merr\u001b[0m\u001b[0;34m\u001b[0m\u001b[0;34m\u001b[0m\u001b[0m\n\u001b[0m\u001b[1;32m   3364\u001b[0m \u001b[0;34m\u001b[0m\u001b[0m\n\u001b[1;32m   3365\u001b[0m         \u001b[0;32mif\u001b[0m \u001b[0mis_scalar\u001b[0m\u001b[0;34m(\u001b[0m\u001b[0mkey\u001b[0m\u001b[0;34m)\u001b[0m \u001b[0;32mand\u001b[0m \u001b[0misna\u001b[0m\u001b[0;34m(\u001b[0m\u001b[0mkey\u001b[0m\u001b[0;34m)\u001b[0m \u001b[0;32mand\u001b[0m \u001b[0;32mnot\u001b[0m \u001b[0mself\u001b[0m\u001b[0;34m.\u001b[0m\u001b[0mhasnans\u001b[0m\u001b[0;34m:\u001b[0m\u001b[0;34m\u001b[0m\u001b[0;34m\u001b[0m\u001b[0m\n",
      "\u001b[0;31mKeyError\u001b[0m: 'r'"
     ]
    }
   ],
   "source": [
    "import numpy as np\n",
    "from matplotlib.patches import Patch\n",
    "import matplotlib.pyplot as plt\n",
    "\n",
    "outliers_glacier = []\n",
    "outliers_ice_cap = []\n",
    "total_glacier = []\n",
    "total_ice_cap = []\n",
    "percent_outliers_glacier = []\n",
    "percent_outliers_ice_cap = []\n",
    "\n",
    "for term_type, group_data in combined_data.groupby('TermType'):\n",
    "    glacier_r = group_data[group_data['Form'] == 'Glacier']['r']\n",
    "    ice_cap_r = group_data[group_data['Form'] == 'Ice Cap']['r']\n",
    "\n",
    "    # Plot boxplots for glaciers\n",
    "    glacier_bp = plt.boxplot(glacier_r,\n",
    "                             positions=[term_type - 0.25],\n",
    "                             widths=0.2,\n",
    "                             patch_artist=True,\n",
    "                             labels=['Glacier'],\n",
    "                             medianprops=dict(color='black', linewidth=1))\n",
    "\n",
    "    # Plot boxplots for ice caps\n",
    "    ice_cap_bp = plt.boxplot(ice_cap_r,\n",
    "                             positions=[term_type + 0.25],\n",
    "                             widths=0.2,\n",
    "                             patch_artist=True,\n",
    "                             labels=['Ice Cap'],\n",
    "                             medianprops=dict(color='black', linewidth=1))\n",
    "\n",
    "    # Color the boxes for glaciers and ice caps\n",
    "    glacier_bp['boxes'][0].set_facecolor((0.529, 0.808, 0.922))\n",
    "    ice_cap_bp['boxes'][0].set_facecolor((1.000, 0.706, 0.490))\n",
    "\n",
    "    # Count outliers for glaciers\n",
    "    num_outliers_glacier = len(glacier_bp['fliers'][0].get_data()[1])\n",
    "    outliers_glacier.append(num_outliers_glacier)\n",
    "\n",
    "    # Count outliers for ice caps\n",
    "    num_outliers_ice_cap = len(ice_cap_bp['fliers'][0].get_data()[1])\n",
    "    outliers_ice_cap.append(num_outliers_ice_cap)\n",
    "\n",
    "    # Calculate total number of data points for glaciers\n",
    "    num_data_points_glacier = len(glacier_r)\n",
    "    total_glacier.append(num_data_points_glacier)\n",
    "\n",
    "    # Calculate total number of data points for ice caps\n",
    "    num_data_points_ice_cap = len(ice_cap_r)\n",
    "    total_ice_cap.append(num_data_points_ice_cap)\n",
    "\n",
    "    # Calculate percentage of outliers for glaciers (avoid division by zero)\n",
    "    percent_outliers_glacier.append((num_outliers_glacier / num_data_points_glacier * 100) if num_data_points_glacier != 0 else 0)\n",
    "\n",
    "    # Calculate percentage of outliers for ice caps (avoid division by zero)\n",
    "    percent_outliers_ice_cap.append((num_outliers_ice_cap / num_data_points_ice_cap * 100) if num_data_points_ice_cap != 0 else 0)\n",
    "\n",
    "# Create legend handles with desired colors\n",
    "legend_handles = [Patch(facecolor=(0.529, 0.808, 0.922), edgecolor='black', label='Glacier'),\n",
    "                  Patch(facecolor=(1.000, 0.706, 0.490), edgecolor='black', label='Ice Cap')]\n",
    "\n",
    "# Add legend\n",
    "plt.legend(handles=legend_handles, loc='upper right')\n",
    "\n",
    "plt.xlabel('Termination Types')\n",
    "plt.ylabel('Discrepancy W/ Farinotti (km$^3$)')\n",
    "plt.title(f'Global Discrepancies of Glaciers and Ice Caps')\n",
    "plt.xticks(range(len(termtype_mapping)), termtype_mapping.keys())\n",
    "plt.grid(True)\n",
    "plt.ylim([-1e3,1e4])\n",
    "plt.yscale('symlog')\n",
    "plt.show()\n",
    "\n",
    "print(\"Number of outliers for Glacier:\", (outliers_glacier))\n",
    "print(\"Number of outliers for Ice Cap:\", (outliers_ice_cap))\n",
    "print(\"Total number of data points for Glacier:\", (total_glacier))\n",
    "print(\"Total number of data points for Ice Cap:\", (total_ice_cap))\n",
    "print(\"Percent outliers for Glacier:\", np.round(percent_outliers_glacier, 2))\n",
    "print(\"Percent outliers for Ice Cap:\", np.round(percent_outliers_ice_cap, 2))\n"
   ]
  },
  {
   "cell_type": "code",
   "execution_count": 6,
   "id": "0fc8c891",
   "metadata": {
    "tags": []
   },
   "outputs": [
    {
     "ename": "KeyError",
     "evalue": "'r'",
     "output_type": "error",
     "traceback": [
      "\u001b[0;31m---------------------------------------------------------------------------\u001b[0m",
      "\u001b[0;31mKeyError\u001b[0m                                  Traceback (most recent call last)",
      "\u001b[0;32m~/anaconda3/envs/prethicktor/lib/python3.7/site-packages/pandas/core/indexes/base.py\u001b[0m in \u001b[0;36mget_loc\u001b[0;34m(self, key, method, tolerance)\u001b[0m\n\u001b[1;32m   3360\u001b[0m             \u001b[0;32mtry\u001b[0m\u001b[0;34m:\u001b[0m\u001b[0;34m\u001b[0m\u001b[0;34m\u001b[0m\u001b[0m\n\u001b[0;32m-> 3361\u001b[0;31m                 \u001b[0;32mreturn\u001b[0m \u001b[0mself\u001b[0m\u001b[0;34m.\u001b[0m\u001b[0m_engine\u001b[0m\u001b[0;34m.\u001b[0m\u001b[0mget_loc\u001b[0m\u001b[0;34m(\u001b[0m\u001b[0mcasted_key\u001b[0m\u001b[0;34m)\u001b[0m\u001b[0;34m\u001b[0m\u001b[0;34m\u001b[0m\u001b[0m\n\u001b[0m\u001b[1;32m   3362\u001b[0m             \u001b[0;32mexcept\u001b[0m \u001b[0mKeyError\u001b[0m \u001b[0;32mas\u001b[0m \u001b[0merr\u001b[0m\u001b[0;34m:\u001b[0m\u001b[0;34m\u001b[0m\u001b[0;34m\u001b[0m\u001b[0m\n",
      "\u001b[0;32m~/anaconda3/envs/prethicktor/lib/python3.7/site-packages/pandas/_libs/index.pyx\u001b[0m in \u001b[0;36mpandas._libs.index.IndexEngine.get_loc\u001b[0;34m()\u001b[0m\n",
      "\u001b[0;32m~/anaconda3/envs/prethicktor/lib/python3.7/site-packages/pandas/_libs/index.pyx\u001b[0m in \u001b[0;36mpandas._libs.index.IndexEngine.get_loc\u001b[0;34m()\u001b[0m\n",
      "\u001b[0;32mpandas/_libs/hashtable_class_helper.pxi\u001b[0m in \u001b[0;36mpandas._libs.hashtable.PyObjectHashTable.get_item\u001b[0;34m()\u001b[0m\n",
      "\u001b[0;32mpandas/_libs/hashtable_class_helper.pxi\u001b[0m in \u001b[0;36mpandas._libs.hashtable.PyObjectHashTable.get_item\u001b[0;34m()\u001b[0m\n",
      "\u001b[0;31mKeyError\u001b[0m: 'r'",
      "\nThe above exception was the direct cause of the following exception:\n",
      "\u001b[0;31mKeyError\u001b[0m                                  Traceback (most recent call last)",
      "\u001b[0;32m/tmp/ipykernel_550403/57317749.py\u001b[0m in \u001b[0;36m<module>\u001b[0;34m\u001b[0m\n\u001b[1;32m     28\u001b[0m \u001b[0;34m\u001b[0m\u001b[0m\n\u001b[1;32m     29\u001b[0m     \u001b[0;32mfor\u001b[0m \u001b[0mterm_type\u001b[0m\u001b[0;34m,\u001b[0m \u001b[0mgroup_data\u001b[0m \u001b[0;32min\u001b[0m \u001b[0mcombined_data\u001b[0m\u001b[0;34m.\u001b[0m\u001b[0mgroupby\u001b[0m\u001b[0;34m(\u001b[0m\u001b[0;34m'TermType'\u001b[0m\u001b[0;34m)\u001b[0m\u001b[0;34m:\u001b[0m\u001b[0;34m\u001b[0m\u001b[0;34m\u001b[0m\u001b[0m\n\u001b[0;32m---> 30\u001b[0;31m         \u001b[0mglacier_r\u001b[0m \u001b[0;34m=\u001b[0m \u001b[0;34m(\u001b[0m\u001b[0mgroup_data\u001b[0m\u001b[0;34m[\u001b[0m\u001b[0mgroup_data\u001b[0m\u001b[0;34m[\u001b[0m\u001b[0;34m'Form'\u001b[0m\u001b[0;34m]\u001b[0m \u001b[0;34m==\u001b[0m \u001b[0;34m'Glacier'\u001b[0m\u001b[0;34m]\u001b[0m\u001b[0;34m[\u001b[0m\u001b[0;34m'r'\u001b[0m\u001b[0;34m]\u001b[0m\u001b[0;34m)\u001b[0m\u001b[0;34m\u001b[0m\u001b[0;34m\u001b[0m\u001b[0m\n\u001b[0m\u001b[1;32m     31\u001b[0m         \u001b[0mice_cap_r\u001b[0m \u001b[0;34m=\u001b[0m \u001b[0;34m(\u001b[0m\u001b[0mgroup_data\u001b[0m\u001b[0;34m[\u001b[0m\u001b[0mgroup_data\u001b[0m\u001b[0;34m[\u001b[0m\u001b[0;34m'Form'\u001b[0m\u001b[0;34m]\u001b[0m \u001b[0;34m==\u001b[0m \u001b[0;34m'Ice Cap'\u001b[0m\u001b[0;34m]\u001b[0m\u001b[0;34m[\u001b[0m\u001b[0;34m'r'\u001b[0m\u001b[0;34m]\u001b[0m\u001b[0;34m)\u001b[0m\u001b[0;34m\u001b[0m\u001b[0;34m\u001b[0m\u001b[0m\n\u001b[1;32m     32\u001b[0m \u001b[0;34m\u001b[0m\u001b[0m\n",
      "\u001b[0;32m~/anaconda3/envs/prethicktor/lib/python3.7/site-packages/pandas/core/frame.py\u001b[0m in \u001b[0;36m__getitem__\u001b[0;34m(self, key)\u001b[0m\n\u001b[1;32m   3456\u001b[0m             \u001b[0;32mif\u001b[0m \u001b[0mself\u001b[0m\u001b[0;34m.\u001b[0m\u001b[0mcolumns\u001b[0m\u001b[0;34m.\u001b[0m\u001b[0mnlevels\u001b[0m \u001b[0;34m>\u001b[0m \u001b[0;36m1\u001b[0m\u001b[0;34m:\u001b[0m\u001b[0;34m\u001b[0m\u001b[0;34m\u001b[0m\u001b[0m\n\u001b[1;32m   3457\u001b[0m                 \u001b[0;32mreturn\u001b[0m \u001b[0mself\u001b[0m\u001b[0;34m.\u001b[0m\u001b[0m_getitem_multilevel\u001b[0m\u001b[0;34m(\u001b[0m\u001b[0mkey\u001b[0m\u001b[0;34m)\u001b[0m\u001b[0;34m\u001b[0m\u001b[0;34m\u001b[0m\u001b[0m\n\u001b[0;32m-> 3458\u001b[0;31m             \u001b[0mindexer\u001b[0m \u001b[0;34m=\u001b[0m \u001b[0mself\u001b[0m\u001b[0;34m.\u001b[0m\u001b[0mcolumns\u001b[0m\u001b[0;34m.\u001b[0m\u001b[0mget_loc\u001b[0m\u001b[0;34m(\u001b[0m\u001b[0mkey\u001b[0m\u001b[0;34m)\u001b[0m\u001b[0;34m\u001b[0m\u001b[0;34m\u001b[0m\u001b[0m\n\u001b[0m\u001b[1;32m   3459\u001b[0m             \u001b[0;32mif\u001b[0m \u001b[0mis_integer\u001b[0m\u001b[0;34m(\u001b[0m\u001b[0mindexer\u001b[0m\u001b[0;34m)\u001b[0m\u001b[0;34m:\u001b[0m\u001b[0;34m\u001b[0m\u001b[0;34m\u001b[0m\u001b[0m\n\u001b[1;32m   3460\u001b[0m                 \u001b[0mindexer\u001b[0m \u001b[0;34m=\u001b[0m \u001b[0;34m[\u001b[0m\u001b[0mindexer\u001b[0m\u001b[0;34m]\u001b[0m\u001b[0;34m\u001b[0m\u001b[0;34m\u001b[0m\u001b[0m\n",
      "\u001b[0;32m~/anaconda3/envs/prethicktor/lib/python3.7/site-packages/pandas/core/indexes/base.py\u001b[0m in \u001b[0;36mget_loc\u001b[0;34m(self, key, method, tolerance)\u001b[0m\n\u001b[1;32m   3361\u001b[0m                 \u001b[0;32mreturn\u001b[0m \u001b[0mself\u001b[0m\u001b[0;34m.\u001b[0m\u001b[0m_engine\u001b[0m\u001b[0;34m.\u001b[0m\u001b[0mget_loc\u001b[0m\u001b[0;34m(\u001b[0m\u001b[0mcasted_key\u001b[0m\u001b[0;34m)\u001b[0m\u001b[0;34m\u001b[0m\u001b[0;34m\u001b[0m\u001b[0m\n\u001b[1;32m   3362\u001b[0m             \u001b[0;32mexcept\u001b[0m \u001b[0mKeyError\u001b[0m \u001b[0;32mas\u001b[0m \u001b[0merr\u001b[0m\u001b[0;34m:\u001b[0m\u001b[0;34m\u001b[0m\u001b[0;34m\u001b[0m\u001b[0m\n\u001b[0;32m-> 3363\u001b[0;31m                 \u001b[0;32mraise\u001b[0m \u001b[0mKeyError\u001b[0m\u001b[0;34m(\u001b[0m\u001b[0mkey\u001b[0m\u001b[0;34m)\u001b[0m \u001b[0;32mfrom\u001b[0m \u001b[0merr\u001b[0m\u001b[0;34m\u001b[0m\u001b[0;34m\u001b[0m\u001b[0m\n\u001b[0m\u001b[1;32m   3364\u001b[0m \u001b[0;34m\u001b[0m\u001b[0m\n\u001b[1;32m   3365\u001b[0m         \u001b[0;32mif\u001b[0m \u001b[0mis_scalar\u001b[0m\u001b[0;34m(\u001b[0m\u001b[0mkey\u001b[0m\u001b[0;34m)\u001b[0m \u001b[0;32mand\u001b[0m \u001b[0misna\u001b[0m\u001b[0;34m(\u001b[0m\u001b[0mkey\u001b[0m\u001b[0;34m)\u001b[0m \u001b[0;32mand\u001b[0m \u001b[0;32mnot\u001b[0m \u001b[0mself\u001b[0m\u001b[0;34m.\u001b[0m\u001b[0mhasnans\u001b[0m\u001b[0;34m:\u001b[0m\u001b[0;34m\u001b[0m\u001b[0;34m\u001b[0m\u001b[0m\n",
      "\u001b[0;31mKeyError\u001b[0m: 'r'"
     ]
    },
    {
     "data": {
      "text/plain": [
       "<Figure size 900x500 with 0 Axes>"
      ]
     },
     "metadata": {},
     "output_type": "display_data"
    }
   ],
   "source": [
    "import matplotlib.pyplot as plt\n",
    "import numpy as np\n",
    "import pandas as pd\n",
    "from matplotlib.patches import Patch\n",
    "\n",
    "for region in df['region'].sort_values().unique():\n",
    "    dft = df[df['region'] == region].copy()  # Create a copy to avoid SettingWithCopyWarning\n",
    "\n",
    "    # Adding an offset for better visualization\n",
    "    offset = 0.09  # Adjust this value as needed\n",
    "\n",
    "    # Create a dictionary to map categorical labels to numerical values\n",
    "    termtype_mapping = {'Land': 0, 'Marine': 1, 'Lake': 2, 'Shelf': 3}\n",
    "\n",
    "    # Apply the offset to glacier data\n",
    "    glacier_data = dft[dft['Form'] == 'Glacier'].copy()  # Create a copy to avoid SettingWithCopyWarning\n",
    "    glacier_data.loc[:, 'TermType'] = glacier_data['TermType'].map(termtype_mapping) + offset\n",
    "\n",
    "    # Apply the offset to ice cap data\n",
    "    ice_cap_data = dft[dft['Form'] == 'Ice Cap'].copy()  # Create a copy to avoid SettingWithCopyWarning\n",
    "    ice_cap_data.loc[:, 'TermType'] = ice_cap_data['TermType'].map(termtype_mapping) - offset\n",
    "\n",
    "    # Create combined data for plotting\n",
    "    combined_data = pd.concat([glacier_data, ice_cap_data])\n",
    "\n",
    "    # Plotting boxplots for each category\n",
    "    plt.figure(figsize=(9, 5))\n",
    "\n",
    "    for term_type, group_data in combined_data.groupby('TermType'):\n",
    "        glacier_r = (group_data[group_data['Form'] == 'Glacier']['r'])\n",
    "        ice_cap_r = (group_data[group_data['Form'] == 'Ice Cap']['r'])\n",
    "\n",
    "        # Plot boxplots for glaciers\n",
    "        glacier_bp = plt.boxplot(glacier_r,\n",
    "                                 positions=[term_type - 0.25],\n",
    "                                 widths=0.2,\n",
    "                                 patch_artist=True,\n",
    "                                 labels=['Glacier'],\n",
    "                                 medianprops=dict(color='black', linewidth=1))\n",
    "\n",
    "        # Plot boxplots for ice caps\n",
    "        ice_cap_bp = plt.boxplot(ice_cap_r,\n",
    "                                 positions=[term_type + 0.25],\n",
    "                                 widths=0.2,\n",
    "                                 patch_artist=True,\n",
    "                                 labels=['Ice Cap'],\n",
    "                                 medianprops=dict(color='black', linewidth=1))\n",
    "\n",
    "        # Color the boxes for glaciers and ice caps\n",
    "        glacier_bp['boxes'][0].set_facecolor((0.529, 0.808, 0.922))\n",
    "        ice_cap_bp['boxes'][0].set_facecolor((1.000, 0.706, 0.490))\n",
    "\n",
    "    # Create legend handles with desired colors\n",
    "    legend_handles = [Patch(facecolor=(0.529, 0.808, 0.922), edgecolor='black', label='Glacier'),\n",
    "                      Patch(facecolor=(1.000, 0.706, 0.490), edgecolor='black', label='Ice Cap')]\n",
    "\n",
    "    # Add legend\n",
    "    plt.legend(handles=legend_handles, loc='lower right')\n",
    "\n",
    "    plt.xlabel('Termination Types')\n",
    "    plt.ylabel('Absolute Discrepancy W/ Farinotti (km$^3$)')\n",
    "    plt.title(f'Absolute Discrepancies of Glaciers and Ice Caps in RGI Region {region}')\n",
    "    plt.xticks(range(len(termtype_mapping)), termtype_mapping.keys())\n",
    "    plt.grid(True)\n",
    "    plt.yscale('symlog')\n",
    "    plt.show()\n"
   ]
  },
  {
   "cell_type": "code",
   "execution_count": null,
   "id": "b9cbfe0c-29ee-46fa-9e5c-8043fb4ee69d",
   "metadata": {},
   "outputs": [],
   "source": []
  }
 ],
 "metadata": {
  "kernelspec": {
   "display_name": "Python3.7.11",
   "language": "python",
   "name": "prethicktor"
  },
  "language_info": {
   "codemirror_mode": {
    "name": "ipython",
    "version": 3
   },
   "file_extension": ".py",
   "mimetype": "text/x-python",
   "name": "python",
   "nbconvert_exporter": "python",
   "pygments_lexer": "ipython3",
   "version": "3.7.11"
  },
  "varInspector": {
   "cols": {
    "lenName": 16,
    "lenType": 16,
    "lenVar": 40
   },
   "kernels_config": {
    "python": {
     "delete_cmd_postfix": "",
     "delete_cmd_prefix": "del ",
     "library": "var_list.py",
     "varRefreshCmd": "print(var_dic_list())"
    },
    "r": {
     "delete_cmd_postfix": ") ",
     "delete_cmd_prefix": "rm(",
     "library": "var_list.r",
     "varRefreshCmd": "cat(var_dic_list()) "
    }
   },
   "types_to_exclude": [
    "module",
    "function",
    "builtin_function_or_method",
    "instance",
    "_Feature"
   ],
   "window_display": false
  }
 },
 "nbformat": 4,
 "nbformat_minor": 5
}
