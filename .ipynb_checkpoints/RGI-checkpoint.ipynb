{
 "cells": [
  {
   "cell_type": "code",
   "execution_count": 1,
   "id": "fcc0936d",
   "metadata": {},
   "outputs": [],
   "source": [
    "# import sys\n",
    "# !{sys.executable} -m pip install raster2xyz\n",
    "from osgeo import gdal\n",
    "import fiona\n",
    "import os\n",
    "import urllib.request\n",
    "import cartopy.crs as ccrs\n",
    "import matplotlib.pyplot as plt\n",
    "import rasterio as rio\n",
    "import xarray as xr\n",
    "import os\n",
    "import numpy as np\n",
    "from rasterio.warp import transform\n",
    "from os.path import join\n",
    "from glob import glob\n",
    "from tqdm import tqdm\n",
    "import rioxarray as rxr\n",
    "import rasterio.mask\n",
    "import rasterstats as rst\n",
    "import pandas as pd\n",
    "from PIL import Image\n",
    "import tifftools\n",
    "import pyproj\n",
    "import raster2xyz\n",
    "import io\n",
    "import sys\n"
   ]
  },
  {
   "cell_type": "code",
   "execution_count": 4,
   "id": "57fcc524",
   "metadata": {},
   "outputs": [],
   "source": [
    "def transmogrifyer(dem):\n",
    "    dem_reader = xr.open_rasterio(dem)\n",
    "    ny, nx = len(dem_reader['y']), len(dem_reader['x'])\n",
    "    x, y = np.meshgrid(dem_reader['x'], dem_reader['y'])\n",
    "    lon, lat = transform(dem_reader.crs, {'init': 'EPSG:4326'},\n",
    "                     x.flatten(), y.flatten())\n",
    "    \n",
    "    dem_lon = np.asarray(lon).reshape((ny, nx))\n",
    "    dem_lat = np.asarray(lat).reshape((ny, nx))\n",
    "    dem_reader.coords['lon'] = (('y', 'x'), dem_lon)\n",
    "    dem_reader.coords['lat'] = (('y', 'x'), dem_lat)\n",
    "    dem_greyscale = dem_reader.mean(dim=\"band\")\n",
    "    \n",
    "    ax = plt.subplot(projection=ccrs.PlateCarree())\n",
    "    dem_plot = dem_greyscale.plot(ax=ax, x='lon', y='lat', transform=ccrs.PlateCarree(),\n",
    "                                  cmap='Greys_r', add_colorbar=False, shading=None)\n",
    "    \n",
    "\n",
    "# def mask_shaper(mask_data):\n",
    "#     X = mask_data['x'].values.reshape(ny,nx).T\n",
    "#     Y = mask_data['y'].values.reshape(ny,nx).T\n",
    "#     Z = mask_data['z'].values.reshape(ny,nx).T\n",
    "\n",
    "#     plt.pcolormesh(X,Y,Z)\n",
    "#     plt.show()"
   ]
  },
  {
   "cell_type": "code",
   "execution_count": 2,
   "id": "9e8dc800",
   "metadata": {},
   "outputs": [
    {
     "name": "stderr",
     "output_type": "stream",
     "text": [
      "  0%|          | 0/216500 [00:00<?, ?it/s][2022-01-05 06:39:09 - INFO] - Getting geotransform and data...\n",
      "[2022-01-05 06:39:09 - INFO] - Getting XYZ data...\n",
      "[2022-01-05 06:39:09 - INFO] - Getting geotransformed coordinates...\n",
      "[2022-01-05 06:39:09 - INFO] - Building XYZ data...\n",
      "[2022-01-05 06:39:09 - INFO] - New XYZ (csv file) created...\n",
      "  0%|          | 0/216500 [00:00<?, ?it/s]"
     ]
    },
    {
     "name": "stdout",
     "output_type": "stream",
     "text": [
      "/home/sa42/data/glac/RGI_TOPO/extracted_mask_files/RGI60-19.02001_glacier_mask.tif\n"
     ]
    },
    {
     "name": "stderr",
     "output_type": "stream",
     "text": [
      "\n"
     ]
    },
    {
     "data": {
      "text/html": [
       "<div>\n",
       "<style scoped>\n",
       "    .dataframe tbody tr th:only-of-type {\n",
       "        vertical-align: middle;\n",
       "    }\n",
       "\n",
       "    .dataframe tbody tr th {\n",
       "        vertical-align: top;\n",
       "    }\n",
       "\n",
       "    .dataframe thead th {\n",
       "        text-align: right;\n",
       "    }\n",
       "</style>\n",
       "<table border=\"1\" class=\"dataframe\">\n",
       "  <thead>\n",
       "    <tr style=\"text-align: right;\">\n",
       "      <th></th>\n",
       "      <th>x</th>\n",
       "      <th>y</th>\n",
       "      <th>z</th>\n",
       "    </tr>\n",
       "  </thead>\n",
       "  <tbody>\n",
       "    <tr>\n",
       "      <th>0</th>\n",
       "      <td>-3359.581871</td>\n",
       "      <td>-6.918970e+06</td>\n",
       "      <td>0</td>\n",
       "    </tr>\n",
       "    <tr>\n",
       "      <th>1</th>\n",
       "      <td>-3286.581871</td>\n",
       "      <td>-6.918970e+06</td>\n",
       "      <td>0</td>\n",
       "    </tr>\n",
       "    <tr>\n",
       "      <th>2</th>\n",
       "      <td>-3213.581871</td>\n",
       "      <td>-6.918970e+06</td>\n",
       "      <td>0</td>\n",
       "    </tr>\n",
       "    <tr>\n",
       "      <th>3</th>\n",
       "      <td>-3140.581871</td>\n",
       "      <td>-6.918970e+06</td>\n",
       "      <td>0</td>\n",
       "    </tr>\n",
       "    <tr>\n",
       "      <th>4</th>\n",
       "      <td>-3067.581871</td>\n",
       "      <td>-6.918970e+06</td>\n",
       "      <td>0</td>\n",
       "    </tr>\n",
       "    <tr>\n",
       "      <th>...</th>\n",
       "      <td>...</td>\n",
       "      <td>...</td>\n",
       "      <td>...</td>\n",
       "    </tr>\n",
       "    <tr>\n",
       "      <th>9893</th>\n",
       "      <td>3648.418129</td>\n",
       "      <td>-6.926051e+06</td>\n",
       "      <td>0</td>\n",
       "    </tr>\n",
       "    <tr>\n",
       "      <th>9894</th>\n",
       "      <td>3721.418129</td>\n",
       "      <td>-6.926051e+06</td>\n",
       "      <td>0</td>\n",
       "    </tr>\n",
       "    <tr>\n",
       "      <th>9895</th>\n",
       "      <td>3794.418129</td>\n",
       "      <td>-6.926051e+06</td>\n",
       "      <td>0</td>\n",
       "    </tr>\n",
       "    <tr>\n",
       "      <th>9896</th>\n",
       "      <td>3867.418129</td>\n",
       "      <td>-6.926051e+06</td>\n",
       "      <td>0</td>\n",
       "    </tr>\n",
       "    <tr>\n",
       "      <th>9897</th>\n",
       "      <td>3940.418129</td>\n",
       "      <td>-6.926051e+06</td>\n",
       "      <td>0</td>\n",
       "    </tr>\n",
       "  </tbody>\n",
       "</table>\n",
       "<p>9898 rows × 3 columns</p>\n",
       "</div>"
      ],
      "text/plain": [
       "                x             y  z\n",
       "0    -3359.581871 -6.918970e+06  0\n",
       "1    -3286.581871 -6.918970e+06  0\n",
       "2    -3213.581871 -6.918970e+06  0\n",
       "3    -3140.581871 -6.918970e+06  0\n",
       "4    -3067.581871 -6.918970e+06  0\n",
       "...           ...           ... ..\n",
       "9893  3648.418129 -6.926051e+06  0\n",
       "9894  3721.418129 -6.926051e+06  0\n",
       "9895  3794.418129 -6.926051e+06  0\n",
       "9896  3867.418129 -6.926051e+06  0\n",
       "9897  3940.418129 -6.926051e+06  0\n",
       "\n",
       "[9898 rows x 3 columns]"
      ]
     },
     "execution_count": 2,
     "metadata": {},
     "output_type": "execute_result"
    }
   ],
   "source": [
    "from raster2xyz.raster2xyz import Raster2xyz\n",
    "import warnings\n",
    "warnings.filterwarnings('ignore')\n",
    "#Supress default INFO logging\n",
    "\n",
    "import logging\n",
    "logger = logging.getLogger()\n",
    "logger.setLevel(logging.CRITICAL)\n",
    "\n",
    "dir_dem = \"/home/sa42/data/glac/RGI_TOPO/extracted_dem_files/MAPZEN/\"\n",
    "dir_mask = \"/home/sa42/data/glac/RGI_TOPO/extracted_mask_files/\"\n",
    "full_dem_path = join(dir_dem,\"*.tif\")\n",
    "\n",
    "for file in tqdm(glob(full_dem_path)):\n",
    "    file_left = file[57:]\n",
    "    RGI_file = file_left[:14]\n",
    "    \n",
    "    dem_file = RGI_file + \"_dem.tif\"\n",
    "    dem = join(dir_dem, dem_file)\n",
    "    \n",
    "    mask_file = RGI_file + \"_glacier_mask.tif\"\n",
    "    mask = join(dir_mask, mask_file)\n",
    "    \n",
    "    \n",
    "    print(mask)\n",
    "#     transmogrifyer(mask)\n",
    "    \n",
    "    \n",
    "    dir_out_mask = \"/home/sa42/data/glac/RGI_TOPO/extracted_mask_csv_files\"\n",
    "    mask_out = join(dir_out_mask,RGI_file + \"_mask_trans.csv\")\n",
    "\n",
    "\n",
    "    input_raster = mask\n",
    "\n",
    "    rtxyz = Raster2xyz()\n",
    "    rtxyz.translate(input_raster, mask_out)\n",
    "\n",
    "    mask_data = pd.read_csv(mask_out)\n",
    "    break\n",
    "mask_data"
   ]
  },
  {
   "cell_type": "code",
   "execution_count": null,
   "id": "b92e4657",
   "metadata": {},
   "outputs": [],
   "source": [
    "from raster2xyz.raster2xyz import Raster2xyz\n",
    "import warnings\n",
    "warnings.filterwarnings('ignore')\n",
    "#Supress default INFO logging\n",
    "\n",
    "import logging\n",
    "logger = logging.getLogger()\n",
    "logger.setLevel(logging.CRITICAL)\n",
    "\n",
    "dir_dem = \"/home/sa42/data/glac/RGI_TOPO/extracted_dem_files/MAPZEN/\"\n",
    "dir_mask = \"/home/sa42/data/glac/RGI_TOPO/extracted_mask_files/\"\n",
    "full_dem_path = join(dir_dem,\"*.tif\")\n",
    "\n",
    "for file in tqdm(glob(full_dem_path)):\n",
    "    file_left = file[57:]\n",
    "    RGI_file = file_left[:14]\n",
    "    \n",
    "    dem_file = RGI_file + \"_dem.tif\"\n",
    "    dem = join(dir_dem, dem_file)\n",
    "    \n",
    "    mask_file = RGI_file + \"_glacier_mask.tif\"\n",
    "    mask = join(dir_mask, mask_file)\n",
    "    \n",
    "    \n",
    "    print(mask)\n",
    "#     transmogrifyer(mask)\n",
    "    \n",
    "    \n",
    "    dir_out_mask = \"/home/sa42/data/glac/RGI_TOPO/extracted_mask_csv_files\"\n",
    "    mask_out = join(dir_out_mask,RGI_file + \"_mask_trans.csv\")\n",
    "\n",
    "\n",
    "    input_raster = mask\n",
    "\n",
    "    rtxyz = Raster2xyz()\n",
    "    rtxyz.translate(input_raster, mask_out)\n",
    "\n",
    "    mask_data = pd.read_csv(mask_out)\n",
    "    break\n",
    "mask_data"
   ]
  },
  {
   "cell_type": "code",
   "execution_count": 6,
   "id": "20b91ae5",
   "metadata": {},
   "outputs": [
    {
     "ename": "NameError",
     "evalue": "name 'ny' is not defined",
     "output_type": "error",
     "traceback": [
      "\u001b[0;31m---------------------------------------------------------------------------\u001b[0m",
      "\u001b[0;31mNameError\u001b[0m                                 Traceback (most recent call last)",
      "\u001b[0;32m/tmp/ipykernel_1389316/3503774507.py\u001b[0m in \u001b[0;36m<module>\u001b[0;34m\u001b[0m\n\u001b[0;32m----> 1\u001b[0;31m \u001b[0mX\u001b[0m \u001b[0;34m=\u001b[0m \u001b[0mmask_data\u001b[0m\u001b[0;34m[\u001b[0m\u001b[0;34m'x'\u001b[0m\u001b[0;34m]\u001b[0m\u001b[0;34m.\u001b[0m\u001b[0mvalues\u001b[0m\u001b[0;34m.\u001b[0m\u001b[0mreshape\u001b[0m\u001b[0;34m(\u001b[0m\u001b[0mny\u001b[0m\u001b[0;34m,\u001b[0m\u001b[0mnx\u001b[0m\u001b[0;34m)\u001b[0m\u001b[0;34m.\u001b[0m\u001b[0mT\u001b[0m\u001b[0;34m\u001b[0m\u001b[0;34m\u001b[0m\u001b[0m\n\u001b[0m\u001b[1;32m      2\u001b[0m \u001b[0mY\u001b[0m \u001b[0;34m=\u001b[0m \u001b[0mmask_data\u001b[0m\u001b[0;34m[\u001b[0m\u001b[0;34m'y'\u001b[0m\u001b[0;34m]\u001b[0m\u001b[0;34m.\u001b[0m\u001b[0mvalues\u001b[0m\u001b[0;34m.\u001b[0m\u001b[0mreshape\u001b[0m\u001b[0;34m(\u001b[0m\u001b[0mny\u001b[0m\u001b[0;34m,\u001b[0m\u001b[0mnx\u001b[0m\u001b[0;34m)\u001b[0m\u001b[0;34m.\u001b[0m\u001b[0mT\u001b[0m\u001b[0;34m\u001b[0m\u001b[0;34m\u001b[0m\u001b[0m\n\u001b[1;32m      3\u001b[0m \u001b[0mZ\u001b[0m \u001b[0;34m=\u001b[0m \u001b[0mmask_data\u001b[0m\u001b[0;34m[\u001b[0m\u001b[0;34m'z'\u001b[0m\u001b[0;34m]\u001b[0m\u001b[0;34m.\u001b[0m\u001b[0mvalues\u001b[0m\u001b[0;34m.\u001b[0m\u001b[0mreshape\u001b[0m\u001b[0;34m(\u001b[0m\u001b[0mny\u001b[0m\u001b[0;34m,\u001b[0m\u001b[0mnx\u001b[0m\u001b[0;34m)\u001b[0m\u001b[0;34m.\u001b[0m\u001b[0mT\u001b[0m\u001b[0;34m\u001b[0m\u001b[0;34m\u001b[0m\u001b[0m\n\u001b[1;32m      4\u001b[0m \u001b[0;34m\u001b[0m\u001b[0m\n\u001b[1;32m      5\u001b[0m \u001b[0mplt\u001b[0m\u001b[0;34m.\u001b[0m\u001b[0mpcolormesh\u001b[0m\u001b[0;34m(\u001b[0m\u001b[0mX\u001b[0m\u001b[0;34m,\u001b[0m\u001b[0mY\u001b[0m\u001b[0;34m,\u001b[0m\u001b[0mZ\u001b[0m\u001b[0;34m)\u001b[0m\u001b[0;34m\u001b[0m\u001b[0;34m\u001b[0m\u001b[0m\n",
      "\u001b[0;31mNameError\u001b[0m: name 'ny' is not defined"
     ]
    }
   ],
   "source": [
    "X = mask_data['x'].values.reshape(ny,nx).T\n",
    "Y = mask_data['y'].values.reshape(ny,nx).T\n",
    "Z = mask_data['z'].values.reshape(ny,nx).T\n",
    "\n",
    "plt.pcolormesh(X,Y,Z)\n",
    "plt.show()"
   ]
  },
  {
   "cell_type": "code",
   "execution_count": 4,
   "id": "49b03efe",
   "metadata": {},
   "outputs": [
    {
     "ename": "NameError",
     "evalue": "name 'nx' is not defined",
     "output_type": "error",
     "traceback": [
      "\u001b[0;31m---------------------------------------------------------------------------\u001b[0m",
      "\u001b[0;31mNameError\u001b[0m                                 Traceback (most recent call last)",
      "\u001b[0;32m/tmp/ipykernel_1385904/68451427.py\u001b[0m in \u001b[0;36m<module>\u001b[0;34m\u001b[0m\n\u001b[1;32m      1\u001b[0m \u001b[0;31m# mask_shaper(mask_data)\u001b[0m\u001b[0;34m\u001b[0m\u001b[0;34m\u001b[0m\u001b[0;34m\u001b[0m\u001b[0m\n\u001b[0;32m----> 2\u001b[0;31m \u001b[0mX\u001b[0m \u001b[0;34m=\u001b[0m \u001b[0mmask_data\u001b[0m\u001b[0;34m[\u001b[0m\u001b[0;34m'x'\u001b[0m\u001b[0;34m]\u001b[0m\u001b[0;34m.\u001b[0m\u001b[0mvalues\u001b[0m\u001b[0;34m.\u001b[0m\u001b[0mreshape\u001b[0m\u001b[0;34m(\u001b[0m\u001b[0mnx\u001b[0m\u001b[0;34m,\u001b[0m\u001b[0mny\u001b[0m\u001b[0;34m)\u001b[0m\u001b[0;34m.\u001b[0m\u001b[0mT\u001b[0m\u001b[0;34m\u001b[0m\u001b[0;34m\u001b[0m\u001b[0m\n\u001b[0m\u001b[1;32m      3\u001b[0m \u001b[0mY\u001b[0m \u001b[0;34m=\u001b[0m \u001b[0mmask_data\u001b[0m\u001b[0;34m[\u001b[0m\u001b[0;34m'y'\u001b[0m\u001b[0;34m]\u001b[0m\u001b[0;34m.\u001b[0m\u001b[0mvalues\u001b[0m\u001b[0;34m.\u001b[0m\u001b[0mreshape\u001b[0m\u001b[0;34m(\u001b[0m\u001b[0mnx\u001b[0m\u001b[0;34m,\u001b[0m\u001b[0mny\u001b[0m\u001b[0;34m)\u001b[0m\u001b[0;34m.\u001b[0m\u001b[0mT\u001b[0m\u001b[0;34m\u001b[0m\u001b[0;34m\u001b[0m\u001b[0m\n\u001b[1;32m      4\u001b[0m \u001b[0mZ\u001b[0m \u001b[0;34m=\u001b[0m \u001b[0mmask_data\u001b[0m\u001b[0;34m[\u001b[0m\u001b[0;34m'z'\u001b[0m\u001b[0;34m]\u001b[0m\u001b[0;34m.\u001b[0m\u001b[0mvalues\u001b[0m\u001b[0;34m.\u001b[0m\u001b[0mreshape\u001b[0m\u001b[0;34m(\u001b[0m\u001b[0mnx\u001b[0m\u001b[0;34m,\u001b[0m\u001b[0mny\u001b[0m\u001b[0;34m)\u001b[0m\u001b[0;34m.\u001b[0m\u001b[0mT\u001b[0m\u001b[0;34m\u001b[0m\u001b[0;34m\u001b[0m\u001b[0m\n\u001b[1;32m      5\u001b[0m \u001b[0mplt\u001b[0m\u001b[0;34m.\u001b[0m\u001b[0mpcolormesh\u001b[0m\u001b[0;34m(\u001b[0m\u001b[0mX\u001b[0m\u001b[0;34m,\u001b[0m\u001b[0mY\u001b[0m\u001b[0;34m,\u001b[0m\u001b[0mZ\u001b[0m\u001b[0;34m)\u001b[0m\u001b[0;34m\u001b[0m\u001b[0;34m\u001b[0m\u001b[0m\n",
      "\u001b[0;31mNameError\u001b[0m: name 'nx' is not defined"
     ]
    }
   ],
   "source": [
    "# mask_shaper(mask_data)\n",
    "X = mask_data['x'].values.reshape(nx,ny).T\n",
    "Y = mask_data['y'].values.reshape(nx,ny).T\n",
    "Z = mask_data['z'].values.reshape(nx,ny).T\n",
    "plt.pcolormesh(X,Y,Z)    \n",
    "plt.show()"
   ]
  },
  {
   "cell_type": "code",
   "execution_count": null,
   "id": "22126117",
   "metadata": {},
   "outputs": [],
   "source": [
    "dem_reader = rio.open(\"/home/sa42/data/glac/RGI_TOPO/extracted_mask_files/RGI60-19.02001_glacier_mask.tif\")\n",
    "r = plt.imshow(dem_reader.read(1))"
   ]
  },
  {
   "cell_type": "code",
   "execution_count": null,
   "id": "8cebe8fe",
   "metadata": {},
   "outputs": [],
   "source": [
    "RGI = pd.read_csv(\"~/notebooks/glac/RGI/RGI.csv\")\n",
    "RGI\n"
   ]
  },
  {
   "cell_type": "code",
   "execution_count": null,
   "id": "24c7011c",
   "metadata": {},
   "outputs": [],
   "source": [
    "    dem_reader = xr.open_rasterio(dem)\n",
    "    ny, nx = len(dem_reader['y']), len(dem_reader['x'])\n",
    "    x, y = np.meshgrid(dem_reader['x'], dem_reader['y'])\n",
    "    lon, lat = transform(dem_reader.crs, {'init': 'EPSG:4326'},\n",
    "                     x.flatten(), y.flatten())\n",
    "    \n",
    "    dem_lon = np.asarray(lon).reshape((ny, nx))\n",
    "    dem_lat = np.asarray(lat).reshape((ny, nx))\n",
    "    dem_reader.coords['lon'] = (('y', 'x'), dem_lon)\n",
    "    dem_reader.coords['lat'] = (('y', 'x'), dem_lat)\n",
    "    dem_greyscale = dem_reader.mean(dim=\"band\")"
   ]
  },
  {
   "cell_type": "code",
   "execution_count": null,
   "id": "30f7f1b1",
   "metadata": {},
   "outputs": [],
   "source": [
    "stats = rst.zonal_stats(\"/home/sa42/data/glac/RGI_TOPO/extracted_outlines/RGI60-19.02000_outlines.shp\", \n",
    "                    \"/home/sa42/data/glac/RGI_TOPO/extracted_dem_files/MAPZEN/RGI60-19.02000_dem.tif\")\n",
    "pts = rst.point_query(\"/home/sa42/data/glac/RGI_TOPO/extracted_outlines/RGI60-19.02000_outlines.shp\", \n",
    "                  \"/home/sa42/data/glac/RGI_TOPO/extracted_dem_files/MAPZEN/RGI60-19.02000_dem.tif\")\n",
    "stats"
   ]
  },
  {
   "cell_type": "code",
   "execution_count": null,
   "id": "46ce501e",
   "metadata": {},
   "outputs": [],
   "source": [
    "#this loop opens dem files and outlines and extracts dem points\n",
    "#still needs tuning to get proper data for use\n",
    "dir_path = \"/home/sa42/data/glac/RGI_TOPO/extracted_outlines/\"\n",
    "full_path = join(dir_path, \"*.shp\")\n",
    "\n",
    "sec_path = \"/home/sa42/data/glac/RGI_TOPO/extracted_dem_files/MAPZEN/\"\n",
    "sec_full_path = join(sec_path, \"*.tif\")\n",
    "\n",
    "RGI_name = pd.DataFrame()\n",
    "RGI_points = pd.DataFrame()\n",
    "\n",
    "\n",
    "for shp_file in tqdm(glob(full_path)):\n",
    "    file_left = shp_file[49:]\n",
    "    file_reg = file_left[:14]\n",
    "    dem_file = join(file_reg + \"_dem.tif\")\n",
    "    for file in glob(sec_path):\n",
    "        dem_path = file + dem_file\n",
    "        pts = rst.point_query(shp_file, dem_path)\n",
    "        points = pd.Series(pts)\n",
    "        RGI_name = RGI_name.append(pd.Series(file_reg), ignore_index = True) \n",
    "        RGI_points = RGI_points.append(points, ignore_index = True) \n",
    "        break\n",
    "    break\n",
    "    \n",
    "RGI_points.rename(columns = {0:\"RGI_points\"}, inplace=True)\n",
    "RGI_name.rename(columns = {0:\"RGIId\"}, inplace=True)\n",
    "RGI_pts = pd.merge(RGI_name,RGI_points, left_index=True, right_index=True)\n",
    "RGI_pts"
   ]
  },
  {
   "cell_type": "code",
   "execution_count": null,
   "id": "b5109313",
   "metadata": {},
   "outputs": [],
   "source": [
    "with rio.open(\"/home/sa42/data/glac/RGI_TOPO/extracted_mask_files/RGI60-19.02000_glacier_mask.tif\") as dem_src:\n",
    "    dtm_pre_arr = dem_src.read(1)"
   ]
  },
  {
   "cell_type": "code",
   "execution_count": null,
   "id": "a7b136a2",
   "metadata": {},
   "outputs": [],
   "source": [
    "ep.plot_bands(dtm_pre_arr,\n",
    "              title=\"Title\")\n",
    "plt.show()"
   ]
  },
  {
   "cell_type": "code",
   "execution_count": null,
   "id": "e636deba",
   "metadata": {},
   "outputs": [],
   "source": [
    "with rio.open(\"/home/sa42/data/glac/RGI_TOPO/extracted_dem_files/MAPZEN/RGI60-19.02000_dem.tif\") as dem_src:\n",
    "    dem_im = dem_src.read(1, masked=True)\n",
    "    dem_meta = dem_src.profile\n",
    "dem_meta\n",
    "# meta = pd.DataFrame()\n",
    "\n",
    "# metas = pd.Series(lidar_dem_meta)\n",
    "# meta = meta.append(pd.Series(metas), ignore_index = True)\n",
    "# # print(\"Numpy Array Shape:\", lidar_dem_im.shape)\n",
    "# # print(\"Object type:\", type(lidar_dem_im))\n",
    "# meta\n"
   ]
  },
  {
   "cell_type": "code",
   "execution_count": null,
   "id": "b7ffd48a",
   "metadata": {},
   "outputs": [],
   "source": [
    "dem_reader = rio.open(\"/home/sa42/data/glac/RGI_TOPO/extracted_dem_files/MAPZEN/RGI60-19.02000_dem.tif\")\n",
    "r = plt.imshow(dem_reader.read(1))"
   ]
  },
  {
   "cell_type": "code",
   "execution_count": null,
   "id": "280c68f7",
   "metadata": {},
   "outputs": [],
   "source": [
    "dem_reader = rio.open(\"/home/sa42/data/glac/RGI_TOPO/extracted_mask_files/RGI60-19.02000_glacier_mask.tif\")\n",
    "r = plt.imshow(dem_reader.read(1))"
   ]
  },
  {
   "cell_type": "code",
   "execution_count": null,
   "id": "082fc4dd",
   "metadata": {},
   "outputs": [],
   "source": [
    "RGI.iloc[[0]].plot()"
   ]
  },
  {
   "cell_type": "code",
   "execution_count": null,
   "id": "389c008a",
   "metadata": {},
   "outputs": [],
   "source": [
    "world = gpd.read_file(gpd.datasets.get_path('naturalearth_lowres'))\n",
    "print(type(world))\n",
    "world"
   ]
  },
  {
   "cell_type": "code",
   "execution_count": null,
   "id": "ca036818",
   "metadata": {},
   "outputs": [],
   "source": [
    "world.plot()"
   ]
  },
  {
   "cell_type": "code",
   "execution_count": null,
   "id": "705f1698",
   "metadata": {},
   "outputs": [],
   "source": [
    "from matplotlib import pyplot as plt\n",
    "\n",
    "plt.figure(figsize = (10,10))\n",
    "plt.imshow(\"/home/sa42/data/glac/RGI_TOPO/extracted_dem_files/MAPZEN/RGI60-19.02000_dem.tif\")\n",
    "plt.imshow(\"/home/sa42/data/glac/RGI_TOPO/extracted_mask_files/RGI60-19.02000_glacier_mask.tif\", alpha=0.2)"
   ]
  },
  {
   "cell_type": "code",
   "execution_count": null,
   "id": "8f1e641a",
   "metadata": {},
   "outputs": [],
   "source": []
  }
 ],
 "metadata": {
  "kernelspec": {
   "display_name": "python (Cartopy)-f",
   "language": "python",
   "name": "python-cartopy"
  },
  "language_info": {
   "codemirror_mode": {
    "name": "ipython",
    "version": 3
   },
   "file_extension": ".py",
   "mimetype": "text/x-python",
   "name": "python",
   "nbconvert_exporter": "python",
   "pygments_lexer": "ipython3",
   "version": "3.7.11"
  }
 },
 "nbformat": 4,
 "nbformat_minor": 5
}
