{
 "cells": [
  {
   "cell_type": "code",
   "execution_count": null,
   "id": "a6aebf45",
   "metadata": {
    "tags": []
   },
   "outputs": [],
   "source": [
    "import glacierml as gl\n",
    "import pandas as pd\n",
    "import numpy as np\n",
    "import matplotlib.pyplot as plt\n",
    "import os\n",
    "pd.set_option('display.max_columns',None)"
   ]
  },
  {
   "cell_type": "code",
   "execution_count": null,
   "id": "3137b671-bf08-4bbe-81df-b329a34e0c85",
   "metadata": {
    "tags": []
   },
   "outputs": [],
   "source": [
    "home_path = '/path/to/proejct/directory'\n",
    "[\n",
    "        data_path, RGI_path, glathida_path, ref_path,\n",
    "        coregistration_testing_path, \n",
    "        arch_test_path, LOO_path\n",
    "] = gl.set_paths(home_path)"
   ]
  },
  {
   "cell_type": "code",
   "execution_count": null,
   "id": "cd4079c2",
   "metadata": {
    "tags": []
   },
   "outputs": [],
   "source": [
    "cols, train = gl.load_LOO_data(home_path,include_train = True)\n",
    "x = train['Thickness']\n",
    "y = np.mean(train[cols],axis = 1)\n",
    "z = train['FMT']\n",
    "plt.scatter(\n",
    "    x,(y-x),alpha = 0.15,label = 'This Study Residual'\n",
    ")\n",
    "plt.scatter(\n",
    "    x,(z-x),alpha = 0.15,label = 'Farinotti et al. Residual'\n",
    ")\n",
    "plt.xlabel('GlaThiDa Thickness (m)')\n",
    "plt.ylabel('Residual (m)\\n$\\hat{h}_i - h_i$')\n",
    "plt.legend()\n",
    "plt.yscale('symlog')\n",
    "plt.xscale('log')\n",
    "plt.grid(alpha = 0.5)\n",
    "plt.show()\n"
   ]
  }
 ],
 "metadata": {
  "kernelspec": {
   "display_name": "glacierml (Python3.8.10)",
   "language": "python",
   "name": "prethicktor"
  },
  "language_info": {
   "codemirror_mode": {
    "name": "ipython",
    "version": 3
   },
   "file_extension": ".py",
   "mimetype": "text/x-python",
   "name": "python",
   "nbconvert_exporter": "python",
   "pygments_lexer": "ipython3",
   "version": "3.8.10"
  },
  "varInspector": {
   "cols": {
    "lenName": 16,
    "lenType": 16,
    "lenVar": 40
   },
   "kernels_config": {
    "python": {
     "delete_cmd_postfix": "",
     "delete_cmd_prefix": "del ",
     "library": "var_list.py",
     "varRefreshCmd": "print(var_dic_list())"
    },
    "r": {
     "delete_cmd_postfix": ") ",
     "delete_cmd_prefix": "rm(",
     "library": "var_list.r",
     "varRefreshCmd": "cat(var_dic_list()) "
    }
   },
   "types_to_exclude": [
    "module",
    "function",
    "builtin_function_or_method",
    "instance",
    "_Feature"
   ],
   "window_display": false
  }
 },
 "nbformat": 4,
 "nbformat_minor": 5
}
