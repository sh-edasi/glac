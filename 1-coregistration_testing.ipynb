{
 "cells": [
  {
   "cell_type": "markdown",
   "id": "563ee1f5",
   "metadata": {},
   "source": [
    "## Import dependancies and set environment determinism"
   ]
  },
  {
   "cell_type": "code",
   "execution_count": 1,
   "id": "7f4b08c2",
   "metadata": {
    "tags": []
   },
   "outputs": [
    {
     "name": "stderr",
     "output_type": "stream",
     "text": [
      "2024-04-24 10:03:50.787785: W tensorflow/compiler/tf2tensorrt/utils/py_utils.cc:38] TF-TRT Warning: Could not find TensorRT\n"
     ]
    },
    {
     "name": "stdout",
     "output_type": "stream",
     "text": [
      "378\n"
     ]
    }
   ],
   "source": [
    "import os\n",
    "os.environ['TF_CPP_MIN_LOG_LEVEL'] = '1'\n",
    "import tensorflow as tf\n",
    "#     tf.get_logger().setLevel('ERROR')\n",
    "tf.compat.v1.logging.set_verbosity(\n",
    "    0\n",
    ")\n",
    "import numpy as np\n",
    "import random\n",
    "import pandas as pd\n",
    "\n",
    "\n",
    "SEED = 378\n",
    "# SEED = 123\n",
    "print(SEED)\n",
    "def set_seeds(seed=SEED):\n",
    "    os.environ['PYTHONHASHSEED'] = str(seed)\n",
    "    random.seed(seed)\n",
    "    tf.random.set_seed(seed)\n",
    "    np.random.seed(seed)\n",
    "\n",
    "def set_global_determinism(seed=SEED):\n",
    "    set_seeds(seed=seed)\n",
    "\n",
    "    os.environ['TF_DETERMINISTIC_OPS'] = '1'\n",
    "    os.environ['TF_CUDNN_DETERMINISTIC'] = '1'\n",
    "\n",
    "    tf.config.threading.set_inter_op_parallelism_threads(1)\n",
    "    tf.config.threading.set_intra_op_parallelism_threads(1)\n",
    "\n",
    "# Call the above function with seed value\n",
    "set_global_determinism(seed=SEED)\n",
    "\n",
    "    \n"
   ]
  },
  {
   "cell_type": "code",
   "execution_count": 2,
   "id": "c79dfce1-153b-40bb-a503-448fa25d1c0d",
   "metadata": {
    "tags": []
   },
   "outputs": [
    {
     "name": "stdout",
     "output_type": "stream",
     "text": [
      "2.12.0\n",
      "1.23.5\n"
     ]
    }
   ],
   "source": [
    "print(tf.__version__)\n",
    "print(np.__version__)"
   ]
  },
  {
   "cell_type": "code",
   "execution_count": 3,
   "id": "c2ec4248",
   "metadata": {},
   "outputs": [
    {
     "name": "stdout",
     "output_type": "stream",
     "text": [
      "2.12.0\n"
     ]
    }
   ],
   "source": [
    "import glacierml as gl\n",
    "from tensorflow import keras\n",
    "from tensorflow.keras import layers\n",
    "from tensorflow.keras.layers.experimental import preprocessing\n",
    "from tqdm import tqdm\n",
    "print(keras.__version__)"
   ]
  },
  {
   "cell_type": "code",
   "execution_count": 4,
   "id": "ebfc7f5b",
   "metadata": {},
   "outputs": [],
   "source": [
    "# if os.path.isdir(res_dir) == False:\n",
    "\n",
    "def run_model(model_path,l1,l2,loss = 'mae'):\n",
    "            \n",
    "    normalizer = preprocessing.Normalization(axis=-1)\n",
    "    normalizer.adapt(np.array(trfeat))\n",
    "\n",
    "    model = gl.build_dnn_model(\n",
    "        normalizer, learning_rate = 0.01, \n",
    "        layer_1 = l1, layer_2 = l2,loss = loss\n",
    "    )\n",
    "\n",
    "    model_history = model.fit(\n",
    "        trfeat,\n",
    "        trlabs,\n",
    "        validation_split=0.2,\n",
    "        callbacks = [callback],\n",
    "        verbose=0, \n",
    "        epochs=500\n",
    "    )\n",
    "    model_filename = os.path.join(model_path)\n",
    "    model.save(model_filename)\n",
    "    return model"
   ]
  },
  {
   "cell_type": "code",
   "execution_count": 5,
   "id": "b6765b85",
   "metadata": {},
   "outputs": [],
   "source": [
    "callback = tf.keras.callbacks.EarlyStopping(\n",
    "    monitor = 'val_loss',\n",
    "    min_delta = 0.001,\n",
    "    patience = 10,\n",
    "    verbose = 0,\n",
    "    mode = 'auto',\n",
    "    baseline = None,\n",
    "    restore_best_weights = True\n",
    ")"
   ]
  },
  {
   "cell_type": "code",
   "execution_count": 6,
   "id": "cda3181e-594b-4cad-a8ea-30147ee85f22",
   "metadata": {
    "tags": []
   },
   "outputs": [],
   "source": [
    "home_path = '/home/simonhans/glacierml'\n",
    "[\n",
    "        data_path, RGI_path, glathida_path, \n",
    "        coregistration_testing_path, \n",
    "        arch_test_path, LOO_path\n",
    "] = gl.set_paths(home_path)"
   ]
  },
  {
   "cell_type": "code",
   "execution_count": 7,
   "id": "d4f7b832",
   "metadata": {
    "tags": []
   },
   "outputs": [
    {
     "name": "stdout",
     "output_type": "stream",
     "text": [
      "        CenLat      CenLon  Slope  Zmin  Zmed  Zmax     Area  Aspect   Lmax\n",
      "132  79.885800   95.566700   17.9    31   286   516  171.596      58  11983\n",
      "309  44.681071   79.739190   13.8  3287  3458  3578    0.635      21   1520\n",
      "341  43.043653   77.080587   19.1  3427  3764  4185    2.838     359   3131\n",
      "196  49.741077   87.868423   16.0  2771  3081  3378    2.933      22   3203\n",
      "246  46.910500    9.248250   20.8  2601  2769  3030    0.666     139   1107\n",
      "..         ...         ...    ...   ...   ...   ...      ...     ...    ...\n",
      "80   78.871000   12.161400   13.8   123   388   684    5.016     350   4111\n",
      "258  46.785900   10.724200   21.2  2742  3232  3576    2.383     238   2474\n",
      "11   44.164970 -121.784960   17.6  2221  2544  2803    1.170     344   1666\n",
      "298  44.572747   80.173226   16.6  3447  3719  3997    1.361     203   2396\n",
      "86   78.978700   14.151800    8.6    85   615  1091  134.647     138  30858\n",
      "\n",
      "[280 rows x 9 columns]\n"
     ]
    },
    {
     "name": "stderr",
     "output_type": "stream",
     "text": [
      "WARNING:absl:Found untraced functions such as _update_step_xla while saving (showing 1 of 1). These functions will not be directly callable after loading.\n"
     ]
    },
    {
     "name": "stdout",
     "output_type": "stream",
     "text": [
      "6766/6766 [==============================] - 5s 758us/step\n",
      "Coregistration 1 predicted RGI\n",
      "       CenLat      CenLon  Slope  Zmin  Zmed  Zmax    Area  Aspect   Lmax\n",
      "26  77.953100   14.964800   15.4   290   498   803   2.884       4   3367\n",
      "61  49.825649   87.594131   22.4  2643  2987  3853   4.094     326   2892\n",
      "2   44.164970 -121.784960   17.6  2221  2544  2803   1.170     344   1666\n",
      "62  49.888519   87.734795   20.1  2994  3385  3799   1.424      22   2597\n",
      "85  44.857719   79.452026   18.7  3122  3322  3719   1.897      74   2188\n",
      "..        ...         ...    ...   ...   ...   ...     ...     ...    ...\n",
      "32  67.915000   18.564000   16.9  1204  1526  1698   1.438      98   1941\n",
      "92  39.609699   71.569862   10.0  3648  4202  4895  21.345      27   8572\n",
      "14  78.185100   18.206400   10.2   131   482   694  39.995     232  12142\n",
      "73  46.906900   12.096500   17.9  2617  2980  3197   1.801      24   1804\n",
      "19  77.998900   15.030500   10.5   271   454   893   5.136      44   3538\n",
      "\n",
      "[74 rows x 9 columns]\n"
     ]
    },
    {
     "name": "stderr",
     "output_type": "stream",
     "text": [
      "WARNING:absl:Found untraced functions such as _update_step_xla while saving (showing 1 of 1). These functions will not be directly callable after loading.\n"
     ]
    },
    {
     "name": "stdout",
     "output_type": "stream",
     "text": [
      "6766/6766 [==============================] - 5s 680us/step\n",
      "Coregistration 2 predicted RGI\n",
      "        CenLat      CenLon  Slope  Zmin  Zmed  Zmax   Area  Aspect  Lmax\n",
      "18   45.380970 -121.680560   23.9  2011  2426  3310  1.719      42  2786\n",
      "171  44.890764   79.485387   14.5  3299  3451  3680  1.327      33  1845\n",
      "107  49.741211   87.886017   26.8  2875  3168  3532  0.791     350  1773\n",
      "98   49.817616   87.554398   17.2  2661  3079  3387  1.797     336  2701\n",
      "178  41.786813   77.749273   15.8  3921  4200  4458  0.954      11  2345\n",
      "..         ...         ...    ...   ...   ...   ...    ...     ...   ...\n",
      "156  44.572747   80.173226   16.6  3447  3719  3997  1.361     203  2396\n",
      "91   49.825989   87.506485   20.0  2766  3015  3322  1.704      21  2189\n",
      "173  44.917077   79.314866   15.9  3202  3348  3570  0.617     345  1631\n",
      "11   46.896490 -121.789880   20.8  1992  2418  3017  3.029      27  2196\n",
      "119  47.019900   13.333800   18.2  2525  2905  3296  2.331      71  2310\n",
      "\n",
      "[141 rows x 9 columns]\n"
     ]
    },
    {
     "name": "stderr",
     "output_type": "stream",
     "text": [
      "WARNING:absl:Found untraced functions such as _update_step_xla while saving (showing 1 of 1). These functions will not be directly callable after loading.\n"
     ]
    },
    {
     "name": "stdout",
     "output_type": "stream",
     "text": [
      "6766/6766 [==============================] - 4s 653us/step\n",
      "Coregistration 3 predicted RGI\n",
      "        CenLat     CenLon  Slope  Zmin  Zmed  Zmax    Area  Aspect  Lmax\n",
      "218  44.583903  79.475803   19.1  3258  3497  3751   1.595      20  2160\n",
      "259 -38.711200 -71.740500   14.4  1783  2167  3059   6.985     237  3688\n",
      "225  44.885745  79.283745   14.3  3120  3309  3555   2.652      21  2268\n",
      "111  49.825989  87.506485   20.0  2766  3015  3322   1.704      21  2189\n",
      "178  46.765300  10.895100   13.7  3064  3353  3485   0.839     195  1099\n",
      "..         ...        ...    ...   ...   ...   ...     ...     ...   ...\n",
      "170  46.854800  10.712700   19.5  2631  2931  3475   2.485     358  2558\n",
      "121  49.888519  87.734795   20.1  2994  3385  3799   1.424      22  2597\n",
      "140  47.103900  11.028900   19.9  2912  3028  3236   0.280      86   909\n",
      "214  44.684881  79.725637   13.9  3366  3568  3930   1.528      33  2169\n",
      "240  39.609699  71.569862   10.0  3648  4202  4895  21.345      27  8572\n",
      "\n",
      "[191 rows x 9 columns]\n"
     ]
    },
    {
     "name": "stderr",
     "output_type": "stream",
     "text": [
      "WARNING:absl:Found untraced functions such as _update_step_xla while saving (showing 1 of 1). These functions will not be directly callable after loading.\n"
     ]
    },
    {
     "name": "stdout",
     "output_type": "stream",
     "text": [
      "6766/6766 [==============================] - 5s 743us/step\n",
      "Coregistration 4 predicted RGI\n"
     ]
    }
   ],
   "source": [
    "for i in range(1,5,1):\n",
    "#     l1 = 8\n",
    "#     l2 = 5\n",
    "    if i == 1:\n",
    "        l1 = 10\n",
    "        l2 = 5\n",
    "        \n",
    "    if i == 2:\n",
    "        l1 = 8\n",
    "        l2 = 2\n",
    "        \n",
    "    if i == 3:\n",
    "        l1 = 9\n",
    "        l2 = 5\n",
    "        \n",
    "    if i == 4:\n",
    "        l1 = 6\n",
    "        l2 = 2\n",
    "    set_global_determinism(seed=SEED)\n",
    "    # df = gl.coregister_data(str(i),pth = '/home/simonhans/glacierml/data')\n",
    "    df = gl.coregister_data_reform(data_path,str(i))\n",
    "    df = df.drop(df[df['RGIId'].duplicated(keep = False)].index)\n",
    "    # df = df.sample(frac = 1,random_state = 0)\n",
    "    df = df.reset_index().drop('index', axis = 1)\n",
    "    # df = df[list(df)[:-7]]\n",
    "    trfeat, tefeat, trlabs, telabs = gl.split_data(df)\n",
    "    print(trfeat)\n",
    "    \n",
    "\n",
    "    model = {}\n",
    "    model_history = {}\n",
    "    normalizer = {}\n",
    "    model_path = os.path.join(\n",
    "        coregistration_testing_path, str(i)\n",
    "    )\n",
    "    model = run_model(model_path,l1,l2)\n",
    "    \n",
    "    rgi_est_pth = os.path.join(model_path, 'rgi_est_raw.pkl')\n",
    "\n",
    "    if os.path.isdir(rgi_est_pth) == False:\n",
    "\n",
    "        RGI = gl.load_RGI()\n",
    "#         RGI['Lmax'] = RGI['Lmax'] / 1e3\n",
    "        rfp = RGI[list(df)[:-1]]\n",
    "\n",
    "        preds = pd.Series(\n",
    "            model.predict(rfp.drop('RGIId',axis = 1)).flatten(), name = i\n",
    "        )\n",
    "        RGI = pd.concat([RGI,preds], axis = 1)\n",
    "        RGI.to_pickle(rgi_est_pth)\n",
    "        print(f'Coregistration {i} predicted RGI')\n",
    "                # RGI = pd.read_pickle('rgi_est_raw.pkl')"
   ]
  },
  {
   "cell_type": "code",
   "execution_count": 8,
   "id": "7b89e51c-dd30-439e-8ae9-59035793b2fb",
   "metadata": {},
   "outputs": [],
   "source": [
    "import glacierml as gl"
   ]
  },
  {
   "cell_type": "code",
   "execution_count": 9,
   "id": "c0c2bd15-4482-4dce-8394-66ca7ec8329b",
   "metadata": {},
   "outputs": [],
   "source": [
    "# df = gl.coregister_data(4),pth = '/home/simonhans/glacierml/data')\n",
    "df = gl.coregister_data_reform(data_path,'4')"
   ]
  },
  {
   "cell_type": "code",
   "execution_count": 10,
   "id": "14897f09-261a-4cea-aeaf-f7852fd3724f",
   "metadata": {},
   "outputs": [
    {
     "data": {
      "text/html": [
       "<div>\n",
       "<style scoped>\n",
       "    .dataframe tbody tr th:only-of-type {\n",
       "        vertical-align: middle;\n",
       "    }\n",
       "\n",
       "    .dataframe tbody tr th {\n",
       "        vertical-align: top;\n",
       "    }\n",
       "\n",
       "    .dataframe thead th {\n",
       "        text-align: right;\n",
       "    }\n",
       "</style>\n",
       "<table border=\"1\" class=\"dataframe\">\n",
       "  <thead>\n",
       "    <tr style=\"text-align: right;\">\n",
       "      <th></th>\n",
       "      <th>RGIId</th>\n",
       "      <th>CenLat</th>\n",
       "      <th>CenLon</th>\n",
       "      <th>Slope</th>\n",
       "      <th>Zmin</th>\n",
       "      <th>Zmed</th>\n",
       "      <th>Zmax</th>\n",
       "      <th>Area</th>\n",
       "      <th>Aspect</th>\n",
       "      <th>Lmax</th>\n",
       "      <th>Thickness</th>\n",
       "    </tr>\n",
       "  </thead>\n",
       "  <tbody>\n",
       "    <tr>\n",
       "      <th>216</th>\n",
       "      <td>RGI60-01.00037</td>\n",
       "      <td>63.469173</td>\n",
       "      <td>-146.528168</td>\n",
       "      <td>12.0</td>\n",
       "      <td>722</td>\n",
       "      <td>1841</td>\n",
       "      <td>3081</td>\n",
       "      <td>234.583</td>\n",
       "      <td>30</td>\n",
       "      <td>41911</td>\n",
       "      <td>235.0</td>\n",
       "    </tr>\n",
       "    <tr>\n",
       "      <th>252</th>\n",
       "      <td>RGI60-01.00570</td>\n",
       "      <td>63.281000</td>\n",
       "      <td>-145.427000</td>\n",
       "      <td>14.0</td>\n",
       "      <td>1162</td>\n",
       "      <td>1858</td>\n",
       "      <td>2438</td>\n",
       "      <td>17.567</td>\n",
       "      <td>172</td>\n",
       "      <td>8639</td>\n",
       "      <td>147.0</td>\n",
       "    </tr>\n",
       "    <tr>\n",
       "      <th>33</th>\n",
       "      <td>RGI60-01.01104</td>\n",
       "      <td>58.380000</td>\n",
       "      <td>-134.349000</td>\n",
       "      <td>10.0</td>\n",
       "      <td>676</td>\n",
       "      <td>1123</td>\n",
       "      <td>1494</td>\n",
       "      <td>9.528</td>\n",
       "      <td>327</td>\n",
       "      <td>6332</td>\n",
       "      <td>66.0</td>\n",
       "    </tr>\n",
       "    <tr>\n",
       "      <th>217</th>\n",
       "      <td>RGI60-01.16374</td>\n",
       "      <td>61.200000</td>\n",
       "      <td>-140.302000</td>\n",
       "      <td>14.0</td>\n",
       "      <td>2145</td>\n",
       "      <td>2509</td>\n",
       "      <td>2894</td>\n",
       "      <td>5.859</td>\n",
       "      <td>341</td>\n",
       "      <td>3374</td>\n",
       "      <td>66.0</td>\n",
       "    </tr>\n",
       "    <tr>\n",
       "      <th>469</th>\n",
       "      <td>RGI60-02.03411</td>\n",
       "      <td>51.177000</td>\n",
       "      <td>-116.330000</td>\n",
       "      <td>15.3</td>\n",
       "      <td>2390</td>\n",
       "      <td>2526</td>\n",
       "      <td>2853</td>\n",
       "      <td>0.872</td>\n",
       "      <td>69</td>\n",
       "      <td>1181</td>\n",
       "      <td>70.0</td>\n",
       "    </tr>\n",
       "    <tr>\n",
       "      <th>...</th>\n",
       "      <td>...</td>\n",
       "      <td>...</td>\n",
       "      <td>...</td>\n",
       "      <td>...</td>\n",
       "      <td>...</td>\n",
       "      <td>...</td>\n",
       "      <td>...</td>\n",
       "      <td>...</td>\n",
       "      <td>...</td>\n",
       "      <td>...</td>\n",
       "      <td>...</td>\n",
       "    </tr>\n",
       "    <tr>\n",
       "      <th>426</th>\n",
       "      <td>RGI60-17.14088</td>\n",
       "      <td>-33.029600</td>\n",
       "      <td>-70.098400</td>\n",
       "      <td>29.0</td>\n",
       "      <td>2929</td>\n",
       "      <td>5121</td>\n",
       "      <td>5894</td>\n",
       "      <td>8.376</td>\n",
       "      <td>358</td>\n",
       "      <td>8560</td>\n",
       "      <td>59.0</td>\n",
       "    </tr>\n",
       "    <tr>\n",
       "      <th>425</th>\n",
       "      <td>RGI60-17.14647</td>\n",
       "      <td>-30.145400</td>\n",
       "      <td>-69.927600</td>\n",
       "      <td>29.3</td>\n",
       "      <td>4664</td>\n",
       "      <td>5187</td>\n",
       "      <td>5525</td>\n",
       "      <td>1.189</td>\n",
       "      <td>148</td>\n",
       "      <td>1596</td>\n",
       "      <td>28.0</td>\n",
       "    </tr>\n",
       "    <tr>\n",
       "      <th>424</th>\n",
       "      <td>RGI60-17.15038</td>\n",
       "      <td>-28.538700</td>\n",
       "      <td>-69.731800</td>\n",
       "      <td>16.0</td>\n",
       "      <td>4784</td>\n",
       "      <td>5234</td>\n",
       "      <td>5597</td>\n",
       "      <td>3.140</td>\n",
       "      <td>190</td>\n",
       "      <td>3349</td>\n",
       "      <td>39.0</td>\n",
       "    </tr>\n",
       "    <tr>\n",
       "      <th>423</th>\n",
       "      <td>RGI60-17.15087</td>\n",
       "      <td>-28.381400</td>\n",
       "      <td>-69.609100</td>\n",
       "      <td>11.6</td>\n",
       "      <td>5068</td>\n",
       "      <td>5406</td>\n",
       "      <td>5753</td>\n",
       "      <td>5.209</td>\n",
       "      <td>79</td>\n",
       "      <td>3782</td>\n",
       "      <td>67.0</td>\n",
       "    </tr>\n",
       "    <tr>\n",
       "      <th>254</th>\n",
       "      <td>RGI60-19.02059</td>\n",
       "      <td>-62.670700</td>\n",
       "      <td>-60.354700</td>\n",
       "      <td>6.7</td>\n",
       "      <td>10</td>\n",
       "      <td>-999</td>\n",
       "      <td>370</td>\n",
       "      <td>5.493</td>\n",
       "      <td>273</td>\n",
       "      <td>3056</td>\n",
       "      <td>97.0</td>\n",
       "    </tr>\n",
       "  </tbody>\n",
       "</table>\n",
       "<p>273 rows × 11 columns</p>\n",
       "</div>"
      ],
      "text/plain": [
       "              RGIId     CenLat      CenLon  Slope  Zmin  Zmed  Zmax     Area  \\\n",
       "216  RGI60-01.00037  63.469173 -146.528168   12.0   722  1841  3081  234.583   \n",
       "252  RGI60-01.00570  63.281000 -145.427000   14.0  1162  1858  2438   17.567   \n",
       "33   RGI60-01.01104  58.380000 -134.349000   10.0   676  1123  1494    9.528   \n",
       "217  RGI60-01.16374  61.200000 -140.302000   14.0  2145  2509  2894    5.859   \n",
       "469  RGI60-02.03411  51.177000 -116.330000   15.3  2390  2526  2853    0.872   \n",
       "..              ...        ...         ...    ...   ...   ...   ...      ...   \n",
       "426  RGI60-17.14088 -33.029600  -70.098400   29.0  2929  5121  5894    8.376   \n",
       "425  RGI60-17.14647 -30.145400  -69.927600   29.3  4664  5187  5525    1.189   \n",
       "424  RGI60-17.15038 -28.538700  -69.731800   16.0  4784  5234  5597    3.140   \n",
       "423  RGI60-17.15087 -28.381400  -69.609100   11.6  5068  5406  5753    5.209   \n",
       "254  RGI60-19.02059 -62.670700  -60.354700    6.7    10  -999   370    5.493   \n",
       "\n",
       "     Aspect   Lmax  Thickness  \n",
       "216      30  41911      235.0  \n",
       "252     172   8639      147.0  \n",
       "33      327   6332       66.0  \n",
       "217     341   3374       66.0  \n",
       "469      69   1181       70.0  \n",
       "..      ...    ...        ...  \n",
       "426     358   8560       59.0  \n",
       "425     148   1596       28.0  \n",
       "424     190   3349       39.0  \n",
       "423      79   3782       67.0  \n",
       "254     273   3056       97.0  \n",
       "\n",
       "[273 rows x 11 columns]"
      ]
     },
     "execution_count": 10,
     "metadata": {},
     "output_type": "execute_result"
    }
   ],
   "source": [
    "df = df.drop(df[df['RGIId'].duplicated(keep = False)].index)\n",
    "df"
   ]
  },
  {
   "cell_type": "code",
   "execution_count": null,
   "id": "ff88e645-5cc6-4e71-b538-8818763b94a9",
   "metadata": {},
   "outputs": [],
   "source": []
  }
 ],
 "metadata": {
  "kernelspec": {
   "display_name": "Prethicktor (Python 3.8.10)",
   "language": "python",
   "name": "prethicktor"
  },
  "language_info": {
   "codemirror_mode": {
    "name": "ipython",
    "version": 3
   },
   "file_extension": ".py",
   "mimetype": "text/x-python",
   "name": "python",
   "nbconvert_exporter": "python",
   "pygments_lexer": "ipython3",
   "version": "3.8.10"
  },
  "varInspector": {
   "cols": {
    "lenName": 16,
    "lenType": 16,
    "lenVar": 40
   },
   "kernels_config": {
    "python": {
     "delete_cmd_postfix": "",
     "delete_cmd_prefix": "del ",
     "library": "var_list.py",
     "varRefreshCmd": "print(var_dic_list())"
    },
    "r": {
     "delete_cmd_postfix": ") ",
     "delete_cmd_prefix": "rm(",
     "library": "var_list.r",
     "varRefreshCmd": "cat(var_dic_list()) "
    }
   },
   "types_to_exclude": [
    "module",
    "function",
    "builtin_function_or_method",
    "instance",
    "_Feature"
   ],
   "window_display": false
  }
 },
 "nbformat": 4,
 "nbformat_minor": 5
}
