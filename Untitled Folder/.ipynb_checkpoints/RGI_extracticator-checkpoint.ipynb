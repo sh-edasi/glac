{
 "cells": [
  {
   "cell_type": "code",
   "execution_count": 2,
   "id": "19fb70fb",
   "metadata": {},
   "outputs": [],
   "source": [
    "import tarfile\n",
    "import shutil\n",
    "import os\n",
    "from os.path import join, getsize"
   ]
  },
  {
   "cell_type": "markdown",
   "id": "d053b082",
   "metadata": {},
   "source": [
    "# Primary Index Loop"
   ]
  },
  {
   "cell_type": "code",
   "execution_count": null,
   "id": "69a0401a",
   "metadata": {},
   "outputs": [],
   "source": [
    "# this loop runs through all subdirectories RGI60-n\n",
    "# opens each tarball to desired folder, currently ~/data/glac/RGI_TOPO/dump_1\n",
    "# \"/home/sa42/data/glac/RGI_TOPO/\"\n",
    "# \"/path/to/tar\"\n",
    "rootdir = \"/path/to/tar\"\n",
    "ext = (\".tar\")\n",
    "for subdir, dirs, files in os.walk(rootdir, topdown = False, onerror = None, followlinks = True):\n",
    "        for file in files:\n",
    "            if file.endswith(ext):\n",
    "                filepath = os.path.join(subdir,file)\n",
    "                tar = tarfile.open(filepath)\n",
    "                tar.extractall(path=\"/path/to/dump_1\")\n",
    "                tar.close()"
   ]
  },
  {
   "cell_type": "markdown",
   "id": "7af800e5",
   "metadata": {},
   "source": [
    "# Second index loop"
   ]
  },
  {
   "cell_type": "code",
   "execution_count": null,
   "id": "295511b5",
   "metadata": {},
   "outputs": [],
   "source": [
    "# this loop runs through all subdirectories RGI60-n\n",
    "# opens each tarball to desired folder, currently ~/data/glac/RGI_TOPO/dump_1\n",
    "# \"/home/sa42/data/glac/RGI_TOPO/\"\n",
    "# \"/path/to/tar\"\n",
    "# \"/path/to/dump_1/\"\n",
    "rootdir = \"/path/to/dump_1/\"\n",
    "ext = (\".tar.gz\")\n",
    "for subdir, dirs, files in os.walk(rootdir, topdown = False, onerror = None, followlinks = True):\n",
    "        for file in files:\n",
    "            if file.endswith(ext):\n",
    "                filepath = os.path.join(subdir,file)\n",
    "                tar = tarfile.open(filepath)\n",
    "                tar.extractall(path=\"/path/to/dump_2\")\n",
    "                tar.close()"
   ]
  },
  {
   "cell_type": "markdown",
   "id": "28a942c3",
   "metadata": {},
   "source": [
    "# DEM extraction loop"
   ]
  },
  {
   "cell_type": "code",
   "execution_count": null,
   "id": "262351c9",
   "metadata": {},
   "outputs": [],
   "source": [
    "# MAPZEN LOOP\n",
    "\n",
    "# this loop will need to extract dem.tif files\n",
    "# decided to target MAPZEN, according to the documentation this has the most coverage\n",
    "# able to run through all mapzen files and extract them, but they are overwritten\n",
    "# need to rename the file after the folder containing it....\n",
    "# \"/home/sa42/data/glac/RGI_TOPO/dump_2/\"\n",
    "# \"/path/to/dump_2/\"\n",
    "\n",
    "# \"/home/sa42/data/glac/RGI_TOPO/dump_2/\"\n",
    "rootdir = \"/path/to/dump_2/\"\n",
    "\n",
    "# \"MAPZEN\"\n",
    "rect = (\"Desired_dem_source\")\n",
    "ext = (\"dem.tif\")\n",
    "\n",
    "# \"/home/sa42/data/glac/RGI_TOPO/extracted_dem_files/MAPZEN/\"\n",
    "mapzen = \"/path/to/desired/dem_extraction_directory/\"\n",
    "for subdir, root, files in os.walk(rootdir, topdown = True, onerror = None, followlinks = False):\n",
    "    if subdir.endswith(rect):\n",
    "        for file in files:\n",
    "            if file.endswith(ext):\n",
    "                filepath = os.path.join(subdir,file)\n",
    "                filepath_left = filepath[37:]\n",
    "                filepath_reg = filepath_left [:14]\n",
    "                shutil.copy(filepath, mapzen + filepath_reg + \"_\" + \"dem.tif\")"
   ]
  },
  {
   "cell_type": "markdown",
   "id": "28ed1b7c",
   "metadata": {},
   "source": [
    "# Outline Loop"
   ]
  },
  {
   "cell_type": "code",
   "execution_count": 7,
   "id": "9223428a",
   "metadata": {},
   "outputs": [],
   "source": [
    "# OUTLINE LOOP\n",
    "\n",
    "# this loop is rooted to where tarballs are untarred, currently \"/home/sa42/data/glac/RGI_TOPO/dump_2\"\n",
    "# this loop runs through extracted tarballs and opens the .tar.gz files inside\n",
    "# sent to \"destination\"\n",
    "# \"/path/to/dump_2\"\n",
    "# \"/home/sa42/data/glac/RGI_TOPO/dump_2\"\n",
    "rootdir = \"/home/sa42/data/glac/RGI_TOPO/dump_2\"\n",
    "\n",
    "desired_file = (\"outlines\")\n",
    "desired_extension = (\"tar.gz\")\n",
    "\n",
    "# \"/home/sa42/data/glac/RGI_TOPO/extracted_outlines/\"\n",
    "destination = (\"/home/sa42/data/glac/RGI_TOPO/extracted_outlines/\")\n",
    "# \"outlines.shx\"\n",
    "extracted_file = (\"outlines.dbf\")\n",
    "for subdir, dirs, files in os.walk(rootdir, topdown = False, onerror = None, followlinks = True):\n",
    "    for file in files:\n",
    "        if file.endswith(desired_extension):\n",
    "            if file.startswith(desired_file):\n",
    "                filepath = os.path.join(subdir,file)\n",
    "                filepath_left = filepath[37:]\n",
    "                filepath_reg = filepath_left [:14]\n",
    "                tar = tarfile.open(filepath)\n",
    "                tar.extract(extracted_file, destination)\n",
    "                tar.close()\n",
    "                shutil.move(destination + extracted_file, destination + filepath_reg + \"_\" + extracted_file)\n",
    "                \n"
   ]
  },
  {
   "cell_type": "code",
   "execution_count": null,
   "id": "10e5752e",
   "metadata": {},
   "outputs": [],
   "source": []
  }
 ],
 "metadata": {
  "kernelspec": {
   "display_name": "Python 3",
   "language": "python",
   "name": "python3"
  },
  "language_info": {
   "codemirror_mode": {
    "name": "ipython",
    "version": 3
   },
   "file_extension": ".py",
   "mimetype": "text/x-python",
   "name": "python",
   "nbconvert_exporter": "python",
   "pygments_lexer": "ipython3",
   "version": "3.9.2"
  }
 },
 "nbformat": 4,
 "nbformat_minor": 5
}
