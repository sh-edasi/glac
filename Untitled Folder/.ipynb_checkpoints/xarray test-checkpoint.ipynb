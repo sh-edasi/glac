{
 "cells": [
  {
   "cell_type": "code",
   "execution_count": 1,
   "id": "5a3e49e4",
   "metadata": {},
   "outputs": [],
   "source": [
    "# import sys\n",
    "# !{sys.executable} -m pip install descartes\n",
    "import fiona\n",
    "import os\n",
    "import urllib.request\n",
    "import cartopy.crs as ccrs\n",
    "import matplotlib.pyplot as plt\n",
    "import rasterio as rio\n",
    "import xarray as xr\n",
    "import os\n",
    "import numpy as np\n",
    "from rasterio.warp import transform\n",
    "from os.path import join\n",
    "from glob import glob\n",
    "from tqdm import tqdm\n",
    "import rioxarray as rxr\n",
    "import rasterio.mask\n",
    "import rasterstats as rst\n",
    "import pandas as pd\n",
    "from PIL import Image"
   ]
  },
  {
   "cell_type": "code",
   "execution_count": 2,
   "id": "3f101e3d",
   "metadata": {},
   "outputs": [],
   "source": [
    "def transmogrifyer(dem):\n",
    "    dem_reader = xr.open_rasterio(dem)\n",
    "    ny, nx = len(dem_reader['y']), len(dem_reader['x'])\n",
    "    x, y = np.meshgrid(dem_reader['x'], dem_reader['y'])\n",
    "    lon, lat = transform(dem_reader.crs, {'init': 'EPSG:4326'},\n",
    "                     x.flatten(), y.flatten())\n",
    "    dem_lon = np.asarray(lon).reshape((ny, nx))\n",
    "    dem_lat = np.asarray(lat).reshape((ny, nx))\n",
    "    dem_reader.coords['lon'] = (('y', 'x'), dem_lon)\n",
    "    dem_reader.coords['lat'] = (('y', 'x'), dem_lat)\n",
    "\n",
    "    dem_greyscale = dem_reader.mean(dim=\"band\")\n",
    "\n",
    "    ax = plt.subplot(projection=ccrs.PlateCarree())\n",
    "    dem_plot = dem_greyscale.plot(ax=ax, x='lon', y='lat', transform=ccrs.PlateCarree(),\n",
    "               cmap='Greys_r', add_colorbar=False, shading=None)"
   ]
  },
  {
   "cell_type": "code",
   "execution_count": 3,
   "id": "eb957150",
   "metadata": {},
   "outputs": [
    {
     "name": "stdout",
     "output_type": "stream",
     "text": [
      "/home/sa42/data/glac/RGI_TOPO/extracted_dem_files/MAPZEN/RGI60-19.02001_dem.tif\n",
      "/home/sa42/data/glac/RGI_TOPO/extracted_mask_files/RGI60-19.02001_glacier_mask.tif\n"
     ]
    }
   ],
   "source": [
    "#This loop is very important, it will select the same file in both directories. \n",
    "dir_dem = \"/home/sa42/data/glac/RGI_TOPO/extracted_dem_files/MAPZEN/\"\n",
    "dir_mask = \"/home/sa42/data/glac/RGI_TOPO/extracted_mask_files/\"\n",
    "full_dem_path = join(dir_dem,\"*.tif\")\n",
    "for file in glob(full_dem_path):\n",
    "    file_left = file[57:]\n",
    "    RGI_file = file_left[:14]\n",
    "    dem_file = RGI_file + \"_dem.tif\"\n",
    "    dem = join(dir_dem, dem_file)\n",
    "    mask_file = RGI_file + \"_glacier_mask.tif\"\n",
    "    mask = join(dir_mask, mask_file)\n",
    "    print(dem)\n",
    "    print(mask)\n",
    "    break\n",
    "    \n"
   ]
  },
  {
   "cell_type": "code",
   "execution_count": 4,
   "id": "b1da39a8",
   "metadata": {},
   "outputs": [
    {
     "name": "stderr",
     "output_type": "stream",
     "text": [
      "/home/sa42/miniconda3/envs/python-cartopy-e/lib/python3.7/site-packages/ipykernel_launcher.py:2: DeprecationWarning: open_rasterio is Deprecated in favor of rioxarray. For information about transitioning, see: https://corteva.github.io/rioxarray/stable/getting_started/getting_started.html\n",
      "  \n",
      "/home/sa42/miniconda3/envs/python-cartopy-e/lib/python3.7/site-packages/cartopy/mpl/geoaxes.py:1598: UserWarning: The input coordinates to pcolormesh are interpreted as cell centers, but are not monotonically increasing or decreasing. This may lead to incorrectly calculated cell edges, in which case, please supply explicit cell edges to pcolormesh.\n",
      "  shading=shading)\n"
     ]
    },
    {
     "data": {
      "image/png": "[encoded data removed]",
      "text/plain": [
       "<Figure size 432x288 with 1 Axes>"
      ]
     },
     "metadata": {
      "needs_background": "light"
     },
     "output_type": "display_data"
    }
   ],
   "source": [
    "transmogrifyer(dem)"
   ]
  },
  {
   "cell_type": "code",
   "execution_count": 5,
   "id": "860f98c8",
   "metadata": {},
   "outputs": [
    {
     "name": "stderr",
     "output_type": "stream",
     "text": [
      "/home/sa42/miniconda3/envs/python-cartopy-e/lib/python3.7/site-packages/ipykernel_launcher.py:2: DeprecationWarning: open_rasterio is Deprecated in favor of rioxarray. For information about transitioning, see: https://corteva.github.io/rioxarray/stable/getting_started/getting_started.html\n",
      "  \n",
      "/home/sa42/miniconda3/envs/python-cartopy-e/lib/python3.7/site-packages/cartopy/mpl/geoaxes.py:1598: UserWarning: The input coordinates to pcolormesh are interpreted as cell centers, but are not monotonically increasing or decreasing. This may lead to incorrectly calculated cell edges, in which case, please supply explicit cell edges to pcolormesh.\n",
      "  shading=shading)\n"
     ]
    },
    {
     "data": {
      "image/png": "[encoded data removed]",
      "text/plain": [
       "<Figure size 432x288 with 1 Axes>"
      ]
     },
     "metadata": {
      "needs_background": "light"
     },
     "output_type": "display_data"
    }
   ],
   "source": [
    "transmogrifyer(mask)"
   ]
  }
 ],
 "metadata": {
  "kernelspec": {
   "display_name": "Python (Cartopy)-e",
   "language": "python",
   "name": "python-cartopy"
  },
  "language_info": {
   "codemirror_mode": {
    "name": "ipython",
    "version": 3
   },
   "file_extension": ".py",
   "mimetype": "text/x-python",
   "name": "python",
   "nbconvert_exporter": "python",
   "pygments_lexer": "ipython3",
   "version": "3.7.12"
  }
 },
 "nbformat": 4,
 "nbformat_minor": 5
}
