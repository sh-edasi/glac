{
 "cells": [
  {
   "cell_type": "code",
   "execution_count": 1,
   "id": "318866f2",
   "metadata": {},
   "outputs": [],
   "source": [
    "# import sys\n",
    "# !{sys.executable} -m pip install osgeo\n",
    "import numpy as np\n",
    "import tensorflow as tf\n",
    "import geopandas as gpd\n",
    "import pandas as pd\n",
    "import os as os\n",
    "import rasterstats as rst\n",
    "from glob import glob\n",
    "from os.path import join, abspath\n",
    "from tqdm import tqdm"
   ]
  },
  {
   "cell_type": "code",
   "execution_count": 2,
   "id": "23fb975a",
   "metadata": {},
   "outputs": [
    {
     "name": "stderr",
     "output_type": "stream",
     "text": [
      "  0%|          | 0/216502 [00:00<?, ?it/s]\n"
     ]
    },
    {
     "data": {
      "text/html": [
       "<div>\n",
       "<style scoped>\n",
       "    .dataframe tbody tr th:only-of-type {\n",
       "        vertical-align: middle;\n",
       "    }\n",
       "\n",
       "    .dataframe tbody tr th {\n",
       "        vertical-align: top;\n",
       "    }\n",
       "\n",
       "    .dataframe thead th {\n",
       "        text-align: right;\n",
       "    }\n",
       "</style>\n",
       "<table border=\"1\" class=\"dataframe\">\n",
       "  <thead>\n",
       "    <tr style=\"text-align: right;\">\n",
       "      <th></th>\n",
       "      <th>RGIId</th>\n",
       "      <th>GLIMSId</th>\n",
       "      <th>CenLon</th>\n",
       "      <th>CenLat</th>\n",
       "      <th>Area</th>\n",
       "      <th>Zmin</th>\n",
       "      <th>Zmax</th>\n",
       "      <th>Slope</th>\n",
       "      <th>Aspect</th>\n",
       "      <th>Lmax</th>\n",
       "      <th>geometry</th>\n",
       "    </tr>\n",
       "  </thead>\n",
       "  <tbody>\n",
       "    <tr>\n",
       "      <th>0</th>\n",
       "      <td>RGI60-19.02000</td>\n",
       "      <td>G300617E62419S</td>\n",
       "      <td>-59.3828</td>\n",
       "      <td>-62.4193</td>\n",
       "      <td>7.167</td>\n",
       "      <td>10</td>\n",
       "      <td>270</td>\n",
       "      <td>3.5</td>\n",
       "      <td>51</td>\n",
       "      <td>2827</td>\n",
       "      <td>POLYGON ((1749.487 -6919708.205, 1725.115 -691...</td>\n",
       "    </tr>\n",
       "  </tbody>\n",
       "</table>\n",
       "</div>"
      ],
      "text/plain": [
       "            RGIId         GLIMSId    CenLon    CenLat   Area Zmin Zmax Slope  \\\n",
       "0  RGI60-19.02000  G300617E62419S  -59.3828  -62.4193  7.167   10  270   3.5   \n",
       "\n",
       "  Aspect  Lmax                                           geometry  \n",
       "0     51  2827  POLYGON ((1749.487 -6919708.205, 1725.115 -691...  "
      ]
     },
     "execution_count": 2,
     "metadata": {},
     "output_type": "execute_result"
    }
   ],
   "source": [
    "#this first loop will read all shp files on sermeq and load them into a data frame for manipulation\n",
    "RGI = pd.DataFrame()\n",
    "dir_path = \"/home/sa42/data/glac/RGI_TOPO/extracted_outlines/\"\n",
    "full_path = join(dir_path, \"*.shp\")\n",
    "for file in tqdm(glob(full_path)):\n",
    "    file_left = file[49:]\n",
    "    file_reg = file_left[:14]\n",
    "    glac_reader = gpd.read_file(file)\n",
    "    RGI = RGI.append(glac_reader, ignore_index = True)\n",
    "    RGI = RGI.drop(\"BgnDate\", axis=1)\n",
    "    RGI = RGI.drop(\"EndDate\", axis=1)\n",
    "    RGI = RGI.drop(\"O1Region\", axis=1)\n",
    "    RGI = RGI.drop(\"O2Region\", axis=1)\n",
    "    RGI = RGI.drop(\"Status\", axis=1)\n",
    "    RGI = RGI.drop(\"Form\", axis=1)\n",
    "    RGI = RGI.drop(\"TermType\", axis=1)\n",
    "    RGI = RGI.drop(\"Surging\", axis=1)\n",
    "    RGI = RGI.drop(\"Linkages\", axis=1)\n",
    "    RGI = RGI.drop(\"Name\", axis=1)\n",
    "    RGI = RGI.drop(\"check_geom\", axis=1)\n",
    "    RGI = RGI.drop(\"Zmed\", axis=1)\n",
    "    RGI = RGI.drop(\"Connect\", axis=1)\n",
    "    break\n",
    "    \n",
    "RGI = gpd.GeoDataFrame(RGI)\n",
    "RGI"
   ]
  },
  {
   "cell_type": "code",
   "execution_count": 3,
   "id": "7709c2dc",
   "metadata": {},
   "outputs": [
    {
     "data": {
      "text/plain": [
       "[{'min': -276.0, 'max': -154.0, 'mean': -216.14774830351635, 'count': 3242}]"
      ]
     },
     "execution_count": 3,
     "metadata": {},
     "output_type": "execute_result"
    }
   ],
   "source": [
    "stats = rst.zonal_stats(\"/home/sa42/data/glac/RGI_TOPO/extracted_outlines/RGI60-19.02000_outlines.shp\", \n",
    "                    \"/home/sa42/data/glac/RGI_TOPO/extracted_dem_files/MAPZEN/RGI60-19.02000_dem.tif\")\n",
    "pts = rst.point_query(\"/home/sa42/data/glac/RGI_TOPO/extracted_outlines/RGI60-19.02000_outlines.shp\", \n",
    "                  \"/home/sa42/data/glac/RGI_TOPO/extracted_dem_files/MAPZEN/RGI60-19.02000_dem.tif\")\n",
    "stats"
   ]
  },
  {
   "cell_type": "code",
   "execution_count": 46,
   "id": "95bbc986",
   "metadata": {},
   "outputs": [
    {
     "name": "stderr",
     "output_type": "stream",
     "text": [
      "  0%|          | 0/216502 [00:00<?, ?it/s]\n"
     ]
    },
    {
     "data": {
      "text/html": [
       "<div>\n",
       "<style scoped>\n",
       "    .dataframe tbody tr th:only-of-type {\n",
       "        vertical-align: middle;\n",
       "    }\n",
       "\n",
       "    .dataframe tbody tr th {\n",
       "        vertical-align: top;\n",
       "    }\n",
       "\n",
       "    .dataframe thead th {\n",
       "        text-align: right;\n",
       "    }\n",
       "</style>\n",
       "<table border=\"1\" class=\"dataframe\">\n",
       "  <thead>\n",
       "    <tr style=\"text-align: right;\">\n",
       "      <th></th>\n",
       "      <th>RGIId</th>\n",
       "      <th>RGI_points</th>\n",
       "    </tr>\n",
       "  </thead>\n",
       "  <tbody>\n",
       "    <tr>\n",
       "      <th>0</th>\n",
       "      <td>RGI60-19.02000</td>\n",
       "      <td>[-191.27662685941678, -195.76318204612326, -19...</td>\n",
       "    </tr>\n",
       "  </tbody>\n",
       "</table>\n",
       "</div>"
      ],
      "text/plain": [
       "            RGIId                                         RGI_points\n",
       "0  RGI60-19.02000  [-191.27662685941678, -195.76318204612326, -19..."
      ]
     },
     "execution_count": 46,
     "metadata": {},
     "output_type": "execute_result"
    }
   ],
   "source": [
    "#this loop opens dem files and outlines and extracts dem points\n",
    "#still needs tuning to get proper data for use\n",
    "dir_path = \"/home/sa42/data/glac/RGI_TOPO/extracted_outlines/\"\n",
    "full_path = join(dir_path, \"*.shp\")\n",
    "sec_path = \"/home/sa42/data/glac/RGI_TOPO/extracted_dem_files/MAPZEN/\"\n",
    "sec_full_path = join(sec_path, \"*.tif\")\n",
    "\n",
    "RGI_name = pd.DataFrame()\n",
    "RGI_points = pd.DataFrame()\n",
    "\n",
    "\n",
    "for shp_file in tqdm(glob(full_path)):\n",
    "    file_left = shp_file[49:]\n",
    "    file_reg = file_left[:14]\n",
    "    dem_file = join(file_reg + \"_dem.tif\")\n",
    "    for file in glob(sec_path):\n",
    "        dem_path = file + dem_file\n",
    "        pts = rst.point_query(shp_file, dem_path)\n",
    "        points = pd.Series(pts)\n",
    "        RGI_name = RGI_name.append(pd.Series(file_reg), ignore_index = True) \n",
    "        RGI_points = RGI_points.append(points, ignore_index = True) \n",
    "        break\n",
    "    break\n",
    "    \n",
    "RGI_points.rename(columns = {0:\"RGI_points\"}, inplace=True)\n",
    "RGI_name.rename(columns = {0:\"RGIId\"}, inplace=True)\n",
    "RGI_pts = pd.merge(RGI_name,RGI_points, left_index=True, right_index=True)\n",
    "RGI_pts"
   ]
  },
  {
   "cell_type": "code",
   "execution_count": null,
   "id": "30c72c3d",
   "metadata": {},
   "outputs": [],
   "source": []
  }
 ],
 "metadata": {
  "kernelspec": {
   "display_name": "Python (Cartopy)",
   "language": "python",
   "name": "cartopy"
  },
  "language_info": {
   "codemirror_mode": {
    "name": "ipython",
    "version": 3
   },
   "file_extension": ".py",
   "mimetype": "text/x-python",
   "name": "python",
   "nbconvert_exporter": "python",
   "pygments_lexer": "ipython3",
   "version": "3.9.5"
  }
 },
 "nbformat": 4,
 "nbformat_minor": 5
}
