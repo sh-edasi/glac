{
 "cells": [
  {
   "cell_type": "code",
   "execution_count": 6,
   "id": "3b67224c",
   "metadata": {},
   "outputs": [
    {
     "name": "stdout",
     "output_type": "stream",
     "text": [
      "\u001b[31mERROR: Could not find a version that satisfies the requirement tensorflow (from versions: none)\u001b[0m\r\n",
      "\u001b[31mERROR: No matching distribution found for tensorflow\u001b[0m\r\n"
     ]
    },
    {
     "ename": "ModuleNotFoundError",
     "evalue": "No module named 'tensorflow'",
     "output_type": "error",
     "traceback": [
      "\u001b[0;31m---------------------------------------------------------------------------\u001b[0m",
      "\u001b[0;31mModuleNotFoundError\u001b[0m                       Traceback (most recent call last)",
      "\u001b[0;32m/tmp/ipykernel_3999587/996544966.py\u001b[0m in \u001b[0;36m<module>\u001b[0;34m\u001b[0m\n\u001b[1;32m      5\u001b[0m \u001b[0;32mimport\u001b[0m \u001b[0mpandas\u001b[0m \u001b[0;32mas\u001b[0m \u001b[0mpd\u001b[0m\u001b[0;34m\u001b[0m\u001b[0;34m\u001b[0m\u001b[0m\n\u001b[1;32m      6\u001b[0m \u001b[0;32mimport\u001b[0m \u001b[0mseaborn\u001b[0m \u001b[0;32mas\u001b[0m \u001b[0msns\u001b[0m\u001b[0;34m\u001b[0m\u001b[0;34m\u001b[0m\u001b[0m\n\u001b[0;32m----> 7\u001b[0;31m \u001b[0;32mimport\u001b[0m \u001b[0mtensorflow\u001b[0m \u001b[0;32mas\u001b[0m \u001b[0mtf\u001b[0m\u001b[0;34m\u001b[0m\u001b[0;34m\u001b[0m\u001b[0m\n\u001b[0m\u001b[1;32m      8\u001b[0m \u001b[0;32mimport\u001b[0m \u001b[0mgeopandas\u001b[0m \u001b[0;32mas\u001b[0m \u001b[0mgpd\u001b[0m\u001b[0;34m\u001b[0m\u001b[0;34m\u001b[0m\u001b[0m\n\u001b[1;32m      9\u001b[0m \u001b[0;32mfrom\u001b[0m \u001b[0mtensorflow\u001b[0m \u001b[0;32mimport\u001b[0m \u001b[0mkeras\u001b[0m\u001b[0;34m\u001b[0m\u001b[0;34m\u001b[0m\u001b[0m\n",
      "\u001b[0;31mModuleNotFoundError\u001b[0m: No module named 'tensorflow'"
     ]
    }
   ],
   "source": [
    "import sys\n",
    "!{sys.executable} -m pip install tensorflow \n",
    "import matplotlib.pyplot as plt\n",
    "import numpy as np\n",
    "import pandas as pd\n",
    "import seaborn as sns\n",
    "import tensorflow as tf\n",
    "import geopandas as gpd\n",
    "from tensorflow import keras\n",
    "from tensorflow.keras import layers\n",
    "from tensorflow.keras.layers.experimental import preprocessing\n",
    "np.set_printoptions(precision=3, suppress=True)\n"
   ]
  },
  {
   "cell_type": "code",
   "execution_count": 11,
   "id": "fe68ec50",
   "metadata": {},
   "outputs": [
    {
     "name": "stdout",
     "output_type": "stream",
     "text": [
      "Python 3.6.8\r\n"
     ]
    }
   ],
   "source": [
    "!python3 --version"
   ]
  },
  {
   "cell_type": "code",
   "execution_count": 3,
   "id": "54e0f531",
   "metadata": {},
   "outputs": [
    {
     "name": "stdout",
     "output_type": "stream",
     "text": [
      "System Initiated\n",
      "Importing glacier area data\n",
      "Import complete\n",
      "Sorting data\n",
      "computing areas\n"
     ]
    },
    {
     "name": "stderr",
     "output_type": "stream",
     "text": [
      "<ipython-input-3-0250b21f8199>:32: UserWarning: Geometry is in a geographic CRS. Results from 'area' are likely incorrect. Use 'GeoSeries.to_crs()' to re-project geometries to a projected CRS before this operation.\n",
      "\n",
      "  glim[\"area_calc\"] = glim.area\n"
     ]
    },
    {
     "name": "stdout",
     "output_type": "stream",
     "text": [
      "computing boundaries\n",
      "finding glacier centers\n"
     ]
    },
    {
     "name": "stderr",
     "output_type": "stream",
     "text": [
      "<ipython-input-3-0250b21f8199>:38: UserWarning: Geometry is in a geographic CRS. Results from 'centroid' are likely incorrect. Use 'GeoSeries.to_crs()' to re-project geometries to a projected CRS before this operation.\n",
      "\n",
      "  glim[\"point_cent\"] = glim.centroid\n"
     ]
    },
    {
     "name": "stdout",
     "output_type": "stream",
     "text": [
      "glim complete\n"
     ]
    }
   ],
   "source": [
    "print(\"System Initiated\")\n",
    "print(\"Importing glacier area data\")\n",
    "g = gpd.read_file(\"~/data/glac/glims_download_13173/glims_polygons.shp\")\n",
    "print(\"Import complete\")\n",
    "print(\"Sorting data\")\n",
    "g = g.drop(\"line_type\", axis=1)\n",
    "g = g.drop(\"anlys_id\", axis=1)\n",
    "g = g.drop(\"anlys_time\", axis=1)\n",
    "g = g.drop(\"primeclass\", axis=1)\n",
    "g = g.drop(\"src_date\", axis=1)\n",
    "g = g.drop(\"rec_status\", axis=1)\n",
    "g = g.drop(\"glac_name\", axis=1)\n",
    "g = g.drop(\"wgms_id\", axis=1)\n",
    "g = g.drop(\"local_id\", axis=1)\n",
    "g = g.drop(\"glac_stat\", axis=1)\n",
    "g = g.drop(\"subm_id\", axis=1)\n",
    "g = g.drop(\"release_dt\", axis=1)\n",
    "g = g.drop(\"proc_desc\", axis=1)\n",
    "g = g.drop(\"rc_id\", axis=1)\n",
    "g = g.drop(\"chief_affl\", axis=1)\n",
    "g = g.drop(\"loc_unc_x\", axis=1)\n",
    "g = g.drop(\"loc_unc_y\", axis=1)\n",
    "g = g.drop(\"glob_unc_x\", axis=1)\n",
    "g = g.drop(\"glob_unc_y\", axis=1)\n",
    "g = g.drop(\"submitters\", axis=1)\n",
    "g = g.drop(\"analysts\", axis=1)\n",
    "g = g.drop(\"geog_area\", axis=1)\n",
    "\n",
    "glim = gpd.GeoDataFrame(g)\n",
    "print(\"computing areas\")\n",
    "glim = glim.set_index(\"glac_id\")\n",
    "glim[\"area_calc\"] = glim.area\n",
    "\n",
    "print(\"computing boundaries\")\n",
    "glim[\"boundary\"] = glim.boundary\n",
    "\n",
    "print(\"finding glacier centers\")\n",
    "glim[\"point_cent\"] = glim.centroid\n",
    "\n",
    "glim_cent_first = glim[\"point_cent\"].astype(str).str.split('(').str[1]\n",
    "glim_cent = glim_cent_first.astype(str).str.split(')').str[0]\n",
    "glim[\"cent_lat\"] = glim_cent.str.split(' ').str[0]\n",
    "glim[\"cent_lon\"] = glim_cent.str.split(' ').str[1]\n",
    "glim = glim.drop(\"point_cent\", axis=1)\n",
    "print(\"glim complete\")"
   ]
  },
  {
   "cell_type": "code",
   "execution_count": 4,
   "id": "ce025c65",
   "metadata": {},
   "outputs": [
    {
     "data": {
      "text/html": [
       "<div>\n",
       "<style scoped>\n",
       "    .dataframe tbody tr th:only-of-type {\n",
       "        vertical-align: middle;\n",
       "    }\n",
       "\n",
       "    .dataframe tbody tr th {\n",
       "        vertical-align: top;\n",
       "    }\n",
       "\n",
       "    .dataframe thead th {\n",
       "        text-align: right;\n",
       "    }\n",
       "</style>\n",
       "<table border=\"1\" class=\"dataframe\">\n",
       "  <thead>\n",
       "    <tr style=\"text-align: right;\">\n",
       "      <th></th>\n",
       "      <th>area</th>\n",
       "      <th>db_area</th>\n",
       "      <th>width</th>\n",
       "      <th>length</th>\n",
       "      <th>min_elev</th>\n",
       "      <th>mean_elev</th>\n",
       "      <th>max_elev</th>\n",
       "      <th>geometry</th>\n",
       "      <th>area_calc</th>\n",
       "      <th>boundary</th>\n",
       "      <th>cent_lat</th>\n",
       "      <th>cent_lon</th>\n",
       "    </tr>\n",
       "    <tr>\n",
       "      <th>glac_id</th>\n",
       "      <th></th>\n",
       "      <th></th>\n",
       "      <th></th>\n",
       "      <th></th>\n",
       "      <th></th>\n",
       "      <th></th>\n",
       "      <th></th>\n",
       "      <th></th>\n",
       "      <th></th>\n",
       "      <th></th>\n",
       "      <th></th>\n",
       "      <th></th>\n",
       "    </tr>\n",
       "  </thead>\n",
       "  <tbody>\n",
       "    <tr>\n",
       "      <th>G006338E44942N</th>\n",
       "      <td>0.0041</td>\n",
       "      <td>0.010639</td>\n",
       "      <td>0.0</td>\n",
       "      <td>61.1478</td>\n",
       "      <td>3040.0</td>\n",
       "      <td>3052.0</td>\n",
       "      <td>3067.0</td>\n",
       "      <td>POLYGON Z ((6.33947 44.94271 0.00000, 6.33948 ...</td>\n",
       "      <td>7.409245e-07</td>\n",
       "      <td>LINESTRING Z (6.33947 44.94271 0.00000, 6.3394...</td>\n",
       "      <td>6.339111476117562</td>\n",
       "      <td>44.94257012293514</td>\n",
       "    </tr>\n",
       "    <tr>\n",
       "      <th>G006337E44931N</th>\n",
       "      <td>1.9080</td>\n",
       "      <td>1.907390</td>\n",
       "      <td>0.0</td>\n",
       "      <td>3558.5700</td>\n",
       "      <td>2434.0</td>\n",
       "      <td>2823.0</td>\n",
       "      <td>3330.0</td>\n",
       "      <td>POLYGON Z ((6.34182 44.93278 0.00000, 6.34179 ...</td>\n",
       "      <td>1.199639e-06</td>\n",
       "      <td>LINESTRING Z (6.34182 44.93278 0.00000, 6.3417...</td>\n",
       "      <td>6.342726877022399</td>\n",
       "      <td>44.93296683258707</td>\n",
       "    </tr>\n",
       "    <tr>\n",
       "      <th>G006337E44931N</th>\n",
       "      <td>1.9080</td>\n",
       "      <td>1.907390</td>\n",
       "      <td>0.0</td>\n",
       "      <td>3558.5700</td>\n",
       "      <td>2434.0</td>\n",
       "      <td>2823.0</td>\n",
       "      <td>3330.0</td>\n",
       "      <td>POLYGON Z ((6.34330 44.93374 0.00000, 6.34329 ...</td>\n",
       "      <td>5.840810e-07</td>\n",
       "      <td>LINESTRING Z (6.34330 44.93374 0.00000, 6.3432...</td>\n",
       "      <td>6.344573208983003</td>\n",
       "      <td>44.93374791197513</td>\n",
       "    </tr>\n",
       "    <tr>\n",
       "      <th>G006992E45913N</th>\n",
       "      <td>7.6856</td>\n",
       "      <td>7.687140</td>\n",
       "      <td>0.0</td>\n",
       "      <td>5010.4600</td>\n",
       "      <td>2276.0</td>\n",
       "      <td>3033.0</td>\n",
       "      <td>3723.0</td>\n",
       "      <td>POLYGON Z ((6.98901 45.91748 0.00000, 6.98863 ...</td>\n",
       "      <td>1.217226e-06</td>\n",
       "      <td>LINESTRING Z (6.98901 45.91748 0.00000, 6.9886...</td>\n",
       "      <td>6.98831909347378</td>\n",
       "      <td>45.91755498106596</td>\n",
       "    </tr>\n",
       "    <tr>\n",
       "      <th>G006340E45124N</th>\n",
       "      <td>0.1238</td>\n",
       "      <td>0.123768</td>\n",
       "      <td>0.0</td>\n",
       "      <td>670.7820</td>\n",
       "      <td>2807.0</td>\n",
       "      <td>2968.0</td>\n",
       "      <td>3169.0</td>\n",
       "      <td>POLYGON Z ((6.34349 45.12189 0.00000, 6.34360 ...</td>\n",
       "      <td>3.264490e-07</td>\n",
       "      <td>LINESTRING Z (6.34349 45.12189 0.00000, 6.3436...</td>\n",
       "      <td>6.343387258569232</td>\n",
       "      <td>45.12151757588067</td>\n",
       "    </tr>\n",
       "    <tr>\n",
       "      <th>...</th>\n",
       "      <td>...</td>\n",
       "      <td>...</td>\n",
       "      <td>...</td>\n",
       "      <td>...</td>\n",
       "      <td>...</td>\n",
       "      <td>...</td>\n",
       "      <td>...</td>\n",
       "      <td>...</td>\n",
       "      <td>...</td>\n",
       "      <td>...</td>\n",
       "      <td>...</td>\n",
       "      <td>...</td>\n",
       "    </tr>\n",
       "    <tr>\n",
       "      <th>G284320E82523N</th>\n",
       "      <td>0.0423</td>\n",
       "      <td>0.040084</td>\n",
       "      <td>0.0</td>\n",
       "      <td>0.0000</td>\n",
       "      <td>1025.0</td>\n",
       "      <td>1057.0</td>\n",
       "      <td>1091.0</td>\n",
       "      <td>POLYGON Z ((-75.67189 82.52173 0.00000, -75.67...</td>\n",
       "      <td>2.469552e-05</td>\n",
       "      <td>LINESTRING Z (-75.67189 82.52173 0.00000, -75....</td>\n",
       "      <td>-75.68020982730646</td>\n",
       "      <td>82.52256321060699</td>\n",
       "    </tr>\n",
       "    <tr>\n",
       "      <th>G272536E81110N</th>\n",
       "      <td>0.0342</td>\n",
       "      <td>0.032650</td>\n",
       "      <td>0.0</td>\n",
       "      <td>0.0000</td>\n",
       "      <td>756.0</td>\n",
       "      <td>800.0</td>\n",
       "      <td>856.0</td>\n",
       "      <td>POLYGON Z ((-87.46334 81.10926 0.00000, -87.46...</td>\n",
       "      <td>1.694120e-05</td>\n",
       "      <td>LINESTRING Z (-87.46334 81.10926 0.00000, -87....</td>\n",
       "      <td>-87.46345366928466</td>\n",
       "      <td>81.11040395619679</td>\n",
       "    </tr>\n",
       "    <tr>\n",
       "      <th>G279392E81305N</th>\n",
       "      <td>11.2329</td>\n",
       "      <td>11.797800</td>\n",
       "      <td>0.0</td>\n",
       "      <td>0.0000</td>\n",
       "      <td>364.0</td>\n",
       "      <td>1028.0</td>\n",
       "      <td>1608.0</td>\n",
       "      <td>POLYGON Z ((-80.53228 81.30649 0.00000, -80.53...</td>\n",
       "      <td>6.246743e-03</td>\n",
       "      <td>MULTILINESTRING Z ((-80.53228 81.30649 0.00000...</td>\n",
       "      <td>-80.5927930600203</td>\n",
       "      <td>81.28997897071714</td>\n",
       "    </tr>\n",
       "    <tr>\n",
       "      <th>G290767E82689N</th>\n",
       "      <td>0.1215</td>\n",
       "      <td>0.123473</td>\n",
       "      <td>0.0</td>\n",
       "      <td>0.0000</td>\n",
       "      <td>1244.0</td>\n",
       "      <td>1395.0</td>\n",
       "      <td>1481.0</td>\n",
       "      <td>POLYGON Z ((-69.25135 82.68895 0.00000, -69.24...</td>\n",
       "      <td>7.778976e-05</td>\n",
       "      <td>LINESTRING Z (-69.25135 82.68895 0.00000, -69....</td>\n",
       "      <td>-69.23044456094688</td>\n",
       "      <td>82.68880563440219</td>\n",
       "    </tr>\n",
       "    <tr>\n",
       "      <th>G278941E82406N</th>\n",
       "      <td>0.2970</td>\n",
       "      <td>0.295965</td>\n",
       "      <td>0.0</td>\n",
       "      <td>0.0000</td>\n",
       "      <td>811.0</td>\n",
       "      <td>1099.0</td>\n",
       "      <td>1357.0</td>\n",
       "      <td>POLYGON Z ((-81.02497 82.40737 0.00000, -81.02...</td>\n",
       "      <td>1.795874e-04</td>\n",
       "      <td>LINESTRING Z (-81.02497 82.40737 0.00000, -81....</td>\n",
       "      <td>-81.05572945712541</td>\n",
       "      <td>82.40719609519505</td>\n",
       "    </tr>\n",
       "  </tbody>\n",
       "</table>\n",
       "<p>565887 rows × 12 columns</p>\n",
       "</div>"
      ],
      "text/plain": [
       "                   area    db_area  width     length  min_elev  mean_elev  \\\n",
       "glac_id                                                                     \n",
       "G006338E44942N   0.0041   0.010639    0.0    61.1478    3040.0     3052.0   \n",
       "G006337E44931N   1.9080   1.907390    0.0  3558.5700    2434.0     2823.0   \n",
       "G006337E44931N   1.9080   1.907390    0.0  3558.5700    2434.0     2823.0   \n",
       "G006992E45913N   7.6856   7.687140    0.0  5010.4600    2276.0     3033.0   \n",
       "G006340E45124N   0.1238   0.123768    0.0   670.7820    2807.0     2968.0   \n",
       "...                 ...        ...    ...        ...       ...        ...   \n",
       "G284320E82523N   0.0423   0.040084    0.0     0.0000    1025.0     1057.0   \n",
       "G272536E81110N   0.0342   0.032650    0.0     0.0000     756.0      800.0   \n",
       "G279392E81305N  11.2329  11.797800    0.0     0.0000     364.0     1028.0   \n",
       "G290767E82689N   0.1215   0.123473    0.0     0.0000    1244.0     1395.0   \n",
       "G278941E82406N   0.2970   0.295965    0.0     0.0000     811.0     1099.0   \n",
       "\n",
       "                max_elev                                           geometry  \\\n",
       "glac_id                                                                       \n",
       "G006338E44942N    3067.0  POLYGON Z ((6.33947 44.94271 0.00000, 6.33948 ...   \n",
       "G006337E44931N    3330.0  POLYGON Z ((6.34182 44.93278 0.00000, 6.34179 ...   \n",
       "G006337E44931N    3330.0  POLYGON Z ((6.34330 44.93374 0.00000, 6.34329 ...   \n",
       "G006992E45913N    3723.0  POLYGON Z ((6.98901 45.91748 0.00000, 6.98863 ...   \n",
       "G006340E45124N    3169.0  POLYGON Z ((6.34349 45.12189 0.00000, 6.34360 ...   \n",
       "...                  ...                                                ...   \n",
       "G284320E82523N    1091.0  POLYGON Z ((-75.67189 82.52173 0.00000, -75.67...   \n",
       "G272536E81110N     856.0  POLYGON Z ((-87.46334 81.10926 0.00000, -87.46...   \n",
       "G279392E81305N    1608.0  POLYGON Z ((-80.53228 81.30649 0.00000, -80.53...   \n",
       "G290767E82689N    1481.0  POLYGON Z ((-69.25135 82.68895 0.00000, -69.24...   \n",
       "G278941E82406N    1357.0  POLYGON Z ((-81.02497 82.40737 0.00000, -81.02...   \n",
       "\n",
       "                   area_calc  \\\n",
       "glac_id                        \n",
       "G006338E44942N  7.409245e-07   \n",
       "G006337E44931N  1.199639e-06   \n",
       "G006337E44931N  5.840810e-07   \n",
       "G006992E45913N  1.217226e-06   \n",
       "G006340E45124N  3.264490e-07   \n",
       "...                      ...   \n",
       "G284320E82523N  2.469552e-05   \n",
       "G272536E81110N  1.694120e-05   \n",
       "G279392E81305N  6.246743e-03   \n",
       "G290767E82689N  7.778976e-05   \n",
       "G278941E82406N  1.795874e-04   \n",
       "\n",
       "                                                         boundary  \\\n",
       "glac_id                                                             \n",
       "G006338E44942N  LINESTRING Z (6.33947 44.94271 0.00000, 6.3394...   \n",
       "G006337E44931N  LINESTRING Z (6.34182 44.93278 0.00000, 6.3417...   \n",
       "G006337E44931N  LINESTRING Z (6.34330 44.93374 0.00000, 6.3432...   \n",
       "G006992E45913N  LINESTRING Z (6.98901 45.91748 0.00000, 6.9886...   \n",
       "G006340E45124N  LINESTRING Z (6.34349 45.12189 0.00000, 6.3436...   \n",
       "...                                                           ...   \n",
       "G284320E82523N  LINESTRING Z (-75.67189 82.52173 0.00000, -75....   \n",
       "G272536E81110N  LINESTRING Z (-87.46334 81.10926 0.00000, -87....   \n",
       "G279392E81305N  MULTILINESTRING Z ((-80.53228 81.30649 0.00000...   \n",
       "G290767E82689N  LINESTRING Z (-69.25135 82.68895 0.00000, -69....   \n",
       "G278941E82406N  LINESTRING Z (-81.02497 82.40737 0.00000, -81....   \n",
       "\n",
       "                          cent_lat           cent_lon  \n",
       "glac_id                                                \n",
       "G006338E44942N   6.339111476117562  44.94257012293514  \n",
       "G006337E44931N   6.342726877022399  44.93296683258707  \n",
       "G006337E44931N   6.344573208983003  44.93374791197513  \n",
       "G006992E45913N    6.98831909347378  45.91755498106596  \n",
       "G006340E45124N   6.343387258569232  45.12151757588067  \n",
       "...                            ...                ...  \n",
       "G284320E82523N  -75.68020982730646  82.52256321060699  \n",
       "G272536E81110N  -87.46345366928466  81.11040395619679  \n",
       "G279392E81305N   -80.5927930600203  81.28997897071714  \n",
       "G290767E82689N  -69.23044456094688  82.68880563440219  \n",
       "G278941E82406N  -81.05572945712541  82.40719609519505  \n",
       "\n",
       "[565887 rows x 12 columns]"
      ]
     },
     "execution_count": 4,
     "metadata": {},
     "output_type": "execute_result"
    }
   ],
   "source": [
    "glim = gpd.GeoDataFrame(glim)\n",
    "glim"
   ]
  },
  {
   "cell_type": "code",
   "execution_count": 4,
   "id": "a35d68e5",
   "metadata": {},
   "outputs": [
    {
     "name": "stdout",
     "output_type": "stream",
     "text": [
      "CPU times: user 2min 2s, sys: 2.94 s, total: 2min 5s\n",
      "Wall time: 2min 6s\n"
     ]
    },
    {
     "data": {
      "text/plain": [
       "<AxesSubplot:>"
      ]
     },
     "execution_count": 4,
     "metadata": {},
     "output_type": "execute_result"
    },
    {
     "data": {
      "image/png": "[encoded data removed]",
      "text/plain": [
       "<Figure size 432x288 with 1 Axes>"
      ]
     },
     "metadata": {
      "needs_background": "light"
     },
     "output_type": "display_data"
    }
   ],
   "source": [
    "%%time\n",
    "glim.plot()"
   ]
  },
  {
   "cell_type": "code",
   "execution_count": 5,
   "id": "eb4254c8",
   "metadata": {},
   "outputs": [
    {
     "name": "stdout",
     "output_type": "stream",
     "text": [
      "None\n"
     ]
    }
   ],
   "source": [
    "print(glim.crs)"
   ]
  },
  {
   "cell_type": "code",
   "execution_count": 5,
   "id": "a8d93245",
   "metadata": {},
   "outputs": [
    {
     "data": {
      "text/plain": [
       "glac_id\n",
       "G006337E44931N    5.840810e-07\n",
       "Name: area_calc, dtype: float64"
      ]
     },
     "execution_count": 5,
     "metadata": {},
     "output_type": "execute_result"
    }
   ],
   "source": [
    "glim[\"area_calc\"].iloc[[2]]"
   ]
  },
  {
   "cell_type": "code",
   "execution_count": 6,
   "id": "b80523c8",
   "metadata": {},
   "outputs": [
    {
     "data": {
      "text/plain": [
       "glac_id\n",
       "G006337E44931N    1.908\n",
       "Name: area, dtype: float64"
      ]
     },
     "execution_count": 6,
     "metadata": {},
     "output_type": "execute_result"
    }
   ],
   "source": [
    "glim[\"area\"].iloc[[2]]"
   ]
  },
  {
   "cell_type": "code",
   "execution_count": 3,
   "id": "f21293eb",
   "metadata": {},
   "outputs": [
    {
     "data": {
      "text/plain": [
       "<AxesSubplot:>"
      ]
     },
     "execution_count": 3,
     "metadata": {},
     "output_type": "execute_result"
    },
    {
     "data": {
      "image/png": "[encoded data removed]",
      "text/plain": [
       "<Figure size 432x288 with 1 Axes>"
      ]
     },
     "metadata": {
      "needs_background": "light"
     },
     "output_type": "display_data"
    }
   ],
   "source": [
    "glim.iloc[[3595]].plot()"
   ]
  },
  {
   "cell_type": "code",
   "execution_count": null,
   "id": "02bb0bf8",
   "metadata": {},
   "outputs": [],
   "source": []
  }
 ],
 "metadata": {
  "kernelspec": {
   "display_name": "Python (Cartopy)-a",
   "language": "python",
   "name": "python-cartopy-a"
  },
  "language_info": {
   "codemirror_mode": {
    "name": "ipython",
    "version": 3
   },
   "file_extension": ".py",
   "mimetype": "text/x-python",
   "name": "python",
   "nbconvert_exporter": "python",
   "pygments_lexer": "ipython3",
   "version": "3.10.0"
  }
 },
 "nbformat": 4,
 "nbformat_minor": 5
}
