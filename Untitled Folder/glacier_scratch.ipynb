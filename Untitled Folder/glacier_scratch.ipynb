{
 "cells": [
  {
   "cell_type": "code",
   "execution_count": 1,
   "metadata": {},
   "outputs": [],
   "source": [
    "# import sys\n",
    "# !{sys.executable} -m pip install osgeo\n",
    "import matplotlib.pyplot as plt\n",
    "import numpy as np\n",
    "import pandas as pd\n",
    "import seaborn as sns\n",
    "import tensorflow as tf\n",
    "import geopandas as gpd\n",
    "import glob\n",
    "import os as os\n",
    "from os import listdir, getcwd\n",
    "from os.path import join, abspath\n",
    "import rasterio\n",
    "from tensorflow import keras\n",
    "from tensorflow.keras import layers\n",
    "from tensorflow.keras.layers.experimental import preprocessing\n",
    "np.set_printoptions(precision=3, suppress=True)\n",
    "from glob import glob\n",
    "from os.path import join, abspath\n",
    "from os import listdir, getcwd\n",
    "import pandas as pd\n",
    "from tqdm import tqdm\n",
    "\n"
   ]
  },
  {
   "cell_type": "code",
   "execution_count": 2,
   "metadata": {},
   "outputs": [
    {
     "name": "stderr",
     "output_type": "stream",
     "text": [
      "  0%|          | 0/216502 [00:00<?, ?it/s]"
     ]
    },
    {
     "name": "stdout",
     "output_type": "stream",
     "text": [
      "CPU times: user 1.16 s, sys: 171 ms, total: 1.34 s\n",
      "Wall time: 1.34 s\n"
     ]
    },
    {
     "name": "stderr",
     "output_type": "stream",
     "text": [
      "\n"
     ]
    }
   ],
   "source": [
    "%%time\n",
    "RGI = pd.DataFrame()\n",
    "dir_path = \"/home/sa42/data/glac/RGI_TOPO/extracted_outlines/\"\n",
    "full_path = join(abspath(getcwd()), dir_path, \"*.shp\")\n",
    "for file in tqdm(glob(full_path)):\n",
    "    file_left = file[49:]\n",
    "    file_reg = file_left[:14]\n",
    "    glac_reader = gpd.read_file(file)\n",
    "    RGI = RGI.append(glac_reader, ignore_index = True)\n",
    "    RGI = RGI.drop(\"BgnDate\", axis=1)\n",
    "    RGI = RGI.drop(\"EndDate\", axis=1)\n",
    "    RGI = RGI.drop(\"O1Region\", axis=1)\n",
    "    RGI = RGI.drop(\"O2Region\", axis=1)\n",
    "    RGI = RGI.drop(\"Status\", axis=1)\n",
    "    RGI = RGI.drop(\"Form\", axis=1)\n",
    "    RGI = RGI.drop(\"TermType\", axis=1)\n",
    "    RGI = RGI.drop(\"Surging\", axis=1)\n",
    "    RGI = RGI.drop(\"Linkages\", axis=1)\n",
    "    RGI = RGI.drop(\"Name\", axis=1)\n",
    "    RGI = RGI.drop(\"check_geom\", axis=1)\n",
    "    RGI = RGI.drop(\"Zmed\", axis=1)\n",
    "    RGI = RGI.drop(\"Connect\", axis=1)\n",
    "    break\n",
    "# RGI = pd.DataFrame()\n",
    "# dir_path = \"/home/sa42/data/glac/RGI_TOPO/extracted_outlines/\"\n",
    "# full_path = join(abspath(getcwd()), dir_path, \"*.shp\")\n",
    "# for file in tqdm(glob(full_path)):\n",
    "#     file_left = file[49:]\n",
    "#     file_reg = file_left[:14]\n",
    "#     sh_reader = gpd.read_file(file)\n",
    "#     sh_reader[\"RGI_name\"] = os.path.basename(file_reg)\n",
    "#     RGI = RGI.append(sh_reader, ignore_index = True)\n",
    "\n",
    "\n",
    "\n",
    "    \n"
   ]
  },
  {
   "cell_type": "code",
   "execution_count": 3,
   "metadata": {
    "scrolled": true
   },
   "outputs": [
    {
     "name": "stdout",
     "output_type": "stream",
     "text": [
      "Collecting geos\n",
      "  Using cached geos-0.2.3-py3-none-any.whl (400 kB)\n",
      "Requirement already satisfied: pillow in /home/sa42/miniconda3/envs/python-cartopy-e/lib/python3.7/site-packages (from geos) (8.4.0)\n",
      "Collecting lxml\n",
      "  Downloading lxml-4.7.1-cp37-cp37m-manylinux_2_17_x86_64.manylinux2014_x86_64.manylinux_2_24_x86_64.whl (6.4 MB)\n",
      "     |████████████████████████████████| 6.4 MB 29.9 MB/s            \n",
      "\u001b[?25hCollecting flask\n",
      "  Using cached Flask-2.0.2-py3-none-any.whl (95 kB)\n",
      "Requirement already satisfied: click>=7.1.2 in /home/sa42/miniconda3/envs/python-cartopy-e/lib/python3.7/site-packages (from flask->geos) (8.0.3)\n",
      "Collecting itsdangerous>=2.0\n",
      "  Using cached itsdangerous-2.0.1-py3-none-any.whl (18 kB)\n",
      "Collecting Jinja2>=3.0\n",
      "  Using cached Jinja2-3.0.3-py3-none-any.whl (133 kB)\n",
      "Requirement already satisfied: Werkzeug>=2.0 in /home/sa42/miniconda3/envs/python-cartopy-e/lib/python3.7/site-packages (from flask->geos) (2.0.2)\n",
      "Requirement already satisfied: importlib-metadata in /home/sa42/miniconda3/envs/python-cartopy-e/lib/python3.7/site-packages (from click>=7.1.2->flask->geos) (4.8.2)\n",
      "Collecting MarkupSafe>=2.0\n",
      "  Downloading MarkupSafe-2.0.1-cp37-cp37m-manylinux_2_5_x86_64.manylinux1_x86_64.manylinux_2_12_x86_64.manylinux2010_x86_64.whl (31 kB)\n",
      "Requirement already satisfied: typing-extensions>=3.6.4 in /home/sa42/miniconda3/envs/python-cartopy-e/lib/python3.7/site-packages (from importlib-metadata->click>=7.1.2->flask->geos) (4.0.1)\n",
      "Requirement already satisfied: zipp>=0.5 in /home/sa42/miniconda3/envs/python-cartopy-e/lib/python3.7/site-packages (from importlib-metadata->click>=7.1.2->flask->geos) (3.6.0)\n",
      "Installing collected packages: MarkupSafe, Jinja2, itsdangerous, lxml, flask, geos\n",
      "Successfully installed Jinja2-3.0.3 MarkupSafe-2.0.1 flask-2.0.2 geos-0.2.3 itsdangerous-2.0.1 lxml-4.7.1\n"
     ]
    }
   ],
   "source": [
    "import sys\n",
    "!{sys.executable} -m pip install geos"
   ]
  },
  {
   "cell_type": "code",
   "execution_count": 4,
   "metadata": {},
   "outputs": [
    {
     "data": {
      "text/html": [
       "<div>\n",
       "<style scoped>\n",
       "    .dataframe tbody tr th:only-of-type {\n",
       "        vertical-align: middle;\n",
       "    }\n",
       "\n",
       "    .dataframe tbody tr th {\n",
       "        vertical-align: top;\n",
       "    }\n",
       "\n",
       "    .dataframe thead th {\n",
       "        text-align: right;\n",
       "    }\n",
       "</style>\n",
       "<table border=\"1\" class=\"dataframe\">\n",
       "  <thead>\n",
       "    <tr style=\"text-align: right;\">\n",
       "      <th></th>\n",
       "      <th>RGIId</th>\n",
       "      <th>GLIMSId</th>\n",
       "      <th>CenLon</th>\n",
       "      <th>CenLat</th>\n",
       "      <th>Area</th>\n",
       "      <th>Zmin</th>\n",
       "      <th>Zmax</th>\n",
       "      <th>Slope</th>\n",
       "      <th>Aspect</th>\n",
       "      <th>Lmax</th>\n",
       "      <th>geometry</th>\n",
       "    </tr>\n",
       "  </thead>\n",
       "  <tbody>\n",
       "    <tr>\n",
       "      <th>0</th>\n",
       "      <td>RGI60-19.02000</td>\n",
       "      <td>G300617E62419S</td>\n",
       "      <td>-59.3828</td>\n",
       "      <td>-62.4193</td>\n",
       "      <td>7.167</td>\n",
       "      <td>10</td>\n",
       "      <td>270</td>\n",
       "      <td>3.5</td>\n",
       "      <td>51</td>\n",
       "      <td>2827</td>\n",
       "      <td>POLYGON ((1749.487 -6919708.205, 1725.115 -691...</td>\n",
       "    </tr>\n",
       "  </tbody>\n",
       "</table>\n",
       "</div>"
      ],
      "text/plain": [
       "            RGIId         GLIMSId    CenLon    CenLat   Area Zmin Zmax Slope  \\\n",
       "0  RGI60-19.02000  G300617E62419S  -59.3828  -62.4193  7.167   10  270   3.5   \n",
       "\n",
       "  Aspect  Lmax                                           geometry  \n",
       "0     51  2827  POLYGON ((1749.487 -6919708.205, 1725.115 -691...  "
      ]
     },
     "execution_count": 4,
     "metadata": {},
     "output_type": "execute_result"
    }
   ],
   "source": [
    "RGI"
   ]
  },
  {
   "cell_type": "code",
   "execution_count": 5,
   "metadata": {},
   "outputs": [
    {
     "data": {
      "text/plain": [
       "[{'type': 'Feature',\n",
       "  'id': '0',\n",
       "  'properties': OrderedDict([('RGIId', 'RGI60-19.02000'),\n",
       "               ('GLIMSId', 'G300617E62419S'),\n",
       "               ('BgnDate', '19570101'),\n",
       "               ('EndDate', '-9999999'),\n",
       "               ('CenLon', '-59.3828'),\n",
       "               ('CenLat', '-62.4193'),\n",
       "               ('O1Region', '19'),\n",
       "               ('O2Region', '2'),\n",
       "               ('Area', '7.167'),\n",
       "               ('Zmin', '10'),\n",
       "               ('Zmax', '270'),\n",
       "               ('Zmed', '-999'),\n",
       "               ('Slope', '3.5'),\n",
       "               ('Aspect', '51'),\n",
       "               ('Lmax', '2827'),\n",
       "               ('Status', '0'),\n",
       "               ('Connect', '0'),\n",
       "               ('Form', '1'),\n",
       "               ('TermType', '1'),\n",
       "               ('Surging', '9'),\n",
       "               ('Linkages', '9'),\n",
       "               ('Name', None),\n",
       "               ('check_geom', None),\n",
       "               ('min', -201.0),\n",
       "               ('max', -185.0),\n",
       "               ('mean', -194.50858034321374),\n",
       "               ('count', 3205)]),\n",
       "  'geometry': {'type': 'Polygon',\n",
       "   'coordinates': [[(1749.4872605243906, -6919708.205257985),\n",
       "     (1725.114739312659, -6919673.767625451),\n",
       "     (1680.30722748609, -6919684.439919749),\n",
       "     (1645.9814851153676, -6919712.274738056),\n",
       "     (1594.2504094382234, -6919722.944782486),\n",
       "     (1556.5088269902326, -6919764.704846924),\n",
       "     (1539.5877211753027, -6919816.501558303),\n",
       "     (1505.504190891697, -6919885.78158093),\n",
       "     (1471.128830043724, -6919916.9604084585),\n",
       "     (1412.774453640757, -6919958.713090647),\n",
       "     (1357.6865622124596, -6919976.292656407),\n",
       "     (1306.0081167735318, -6919997.328099722),\n",
       "     (1257.891620478076, -6920028.726595535),\n",
       "     (1209.6752328883347, -6920053.107065726),\n",
       "     (1182.429684373935, -6920098.217418242),\n",
       "     (1169.022203595244, -6920170.739100932),\n",
       "     (1183.1582589695156, -6920229.344525224),\n",
       "     (1214.7025827380771, -6920294.752170068),\n",
       "     (1249.4566489703382, -6920339.328075306),\n",
       "     (1260.1755610382804, -6920411.747120523),\n",
       "     (1232.8793139610266, -6920460.310702012),\n",
       "     (1209.1915256923683, -6920532.828478012),\n",
       "     (1209.626456818074, -6920615.715999987),\n",
       "     (1175.6108256157847, -6920681.434429429),\n",
       "     (1169.078780376447, -6920747.051311359),\n",
       "     (1141.8851859208849, -6920809.430256546),\n",
       "     (1142.2232357418657, -6920878.28038386),\n",
       "     (1121.8050150695299, -6920919.939976643),\n",
       "     (1098.0701010224445, -6920995.912207827),\n",
       "     (1060.4491097938012, -6921048.038902996),\n",
       "     (1019.3706962520607, -6921093.146275038),\n",
       "     (981.6963800150307, -6921158.865601981),\n",
       "     (937.1080789898167, -6921204.084369347),\n",
       "     (903.0042329943124, -6921255.991024165),\n",
       "     (875.5651527964171, -6921304.446128361),\n",
       "     (855.3524079315162, -6921373.625165937),\n",
       "     (841.9072248202115, -6921439.240979858),\n",
       "     (838.8925721267547, -6921515.220390826),\n",
       "     (846.3577156803002, -6921608.247859901),\n",
       "     (857.4837804508483, -6921722.109574199),\n",
       "     (875.079656079945, -6921777.261057773),\n",
       "     (906.4106806389872, -6921835.7585775135),\n",
       "     (920.6972918956708, -6921901.270351135),\n",
       "     (893.414473867522, -6921963.539975589),\n",
       "     (842.0165634277555, -6922029.480119438),\n",
       "     (804.3612870133707, -6922074.479646745),\n",
       "     (721.7332935697385, -6922109.554264216),\n",
       "     (635.6990171675765, -6922144.630277882),\n",
       "     (563.3501601595387, -6922179.487976496),\n",
       "     (494.7195366028309, -6922221.366496416),\n",
       "     (439.6715209754451, -6922256.229488375),\n",
       "     (377.6055030005614, -6922263.463407786),\n",
       "     (305.26222416178774, -6922294.984466626),\n",
       "     (229.76803905571003, -6922364.385594688),\n",
       "     (171.52179133343375, -6922440.696574958),\n",
       "     (130.52333939585057, -6922506.536855504),\n",
       "     (75.68973031130871, -6922568.9236539425),\n",
       "     (45.02070087898935, -6922624.404298729),\n",
       "     (17.708518566504427, -6922683.227486785),\n",
       "     (7.744081780691713, -6922755.7540885685),\n",
       "     (8.311774633003033, -6922838.64168662),\n",
       "     (19.30749932884135, -6922942.028424362),\n",
       "     (37.16836566863997, -6923045.415281629),\n",
       "     (47.75043377970963, -6923086.747821009),\n",
       "     (41.1938299017787, -6923135.210259471),\n",
       "     (37.94121411690685, -6923176.654038533),\n",
       "     (13.421270716021821, -6923204.2830627775),\n",
       "     (8.465610677737645, -6923249.180519748),\n",
       "     (21.783237562075833, -6923283.494283508),\n",
       "     (66.84619400089669, -6923307.001997969),\n",
       "     (75.00105668491909, -6923346.552059842),\n",
       "     (40.932674835241315, -6923383.650379204),\n",
       "     (1.3936667784652257, -6923397.130514019),\n",
       "     (-48.72671504205461, -6923397.465094031),\n",
       "     (-93.78896632530572, -6923384.542711661),\n",
       "     (-128.21883363718408, -6923358.362943663),\n",
       "     (-180.97186784174176, -6923366.609590828),\n",
       "     (-210.2411249212749, -6923335.082803321),\n",
       "     (-249.98873714315062, -6923314.252223503),\n",
       "     (-280.7010928821532, -6923322.498868377),\n",
       "     (-361.85784018377433, -6923206.753638764),\n",
       "     (-466.25237128198427, -6923074.970799745),\n",
       "     (-550.6781394585608, -6922933.4953896245),\n",
       "     (-643.5810596717823, -6922775.312555414),\n",
       "     (-702.9818596885307, -6922633.613501871),\n",
       "     (-762.230899693511, -6922500.271097289),\n",
       "     (-796.6014718463027, -6922350.101127039),\n",
       "     (-847.8190211767946, -6922158.157785506),\n",
       "     (-882.4661994499439, -6921966.210853714),\n",
       "     (-933.7438710807203, -6921782.624532556),\n",
       "     (-968.1884484896267, -6921607.389708312),\n",
       "     (-1011.1144494994403, -6921407.091065824),\n",
       "     (-1045.510066627397, -6921248.568283253),\n",
       "     (-1089.6274134526298, -6921066.430587188),\n",
       "     (-1131.1564173868198, -6920914.8183728065),\n",
       "     (-1170.8251232900616, -6920775.683721226),\n",
       "     (-1224.5976955988122, -6920643.684803223),\n",
       "     (-1292.6029764042846, -6920456.322605274),\n",
       "     (-1352.1894563599358, -6920281.10185498),\n",
       "     (-1403.3602628937974, -6920105.87865794),\n",
       "     (-1440.4707462132355, -6919956.608173902),\n",
       "     (-1468.2592284587827, -6919744.834334656),\n",
       "     (-1322.3000764037292, -6919695.976831019),\n",
       "     (-1197.1018662330316, -6919670.194461099),\n",
       "     (-1046.841871059092, -6919635.830451615),\n",
       "     (-888.3106257563577, -6919601.470993752),\n",
       "     (-746.5747075531095, -6919550.523040706),\n",
       "     (-596.5143964931343, -6919499.468201168),\n",
       "     (-437.9731659539007, -6919456.663144368),\n",
       "     (-312.81085510802814, -6919430.913931062),\n",
       "     (-170.9026162090835, -6919404.945694053),\n",
       "     (-62.325099793334566, -6919396.029298796),\n",
       "     (62.94526473622316, -6919395.249457441),\n",
       "     (196.69157679651323, -6919386.00782613),\n",
       "     (347.0785551718512, -6919385.128803643),\n",
       "     (463.97736635655855, -6919384.363139529),\n",
       "     (614.4663122422555, -6919391.851734511),\n",
       "     (748.0592238943755, -6919382.743554273),\n",
       "     (881.7540485451333, -6919381.884902797),\n",
       "     (1007.1285233169002, -6919381.1404903205),\n",
       "     (1140.8205907207919, -6919388.759180387),\n",
       "     (1274.6154513694084, -6919396.271852117),\n",
       "     (1408.3063545530506, -6919403.789838319),\n",
       "     (1525.4076641430324, -6919411.416966641),\n",
       "     (1673.8207348510668, -6919429.20183063),\n",
       "     (1686.203937171384, -6919468.200715351),\n",
       "     (1715.3383008460123, -6919491.722550134),\n",
       "     (1770.977180945067, -6919525.73089964),\n",
       "     (1837.1599072108656, -6919554.398394134),\n",
       "     (1895.436478687027, -6919580.500331388),\n",
       "     (1924.7173846674596, -6919614.496396863),\n",
       "     (1938.1316369850376, -6919651.4914841065),\n",
       "     (1943.689616454489, -6919690.933014946),\n",
       "     (1917.4220879523466, -6919720.218043402),\n",
       "     (1877.8837662358246, -6919733.675907789),\n",
       "     (1822.4359588321624, -6919736.653204861),\n",
       "     (1780.077294519513, -6919710.449570652),\n",
       "     (1749.4872605243906, -6919708.205257985)]]}}]"
      ]
     },
     "execution_count": 5,
     "metadata": {},
     "output_type": "execute_result"
    }
   ],
   "source": [
    "import rasterstats as rst\n",
    "stats = rst.zonal_stats(\"/home/sa42/data/glac/RGI_TOPO/extracted_outlines/RGI60-19.02000_outlines.shp\", \n",
    "                    \"/home/sa42/data/glac/RGI_TOPO/extracted_dem_files/MAPZEN/RGI60-19.02000_dem.tif\",\n",
    "                       geojson_out=True)\n",
    "pts = rst.point_query(\"/home/sa42/data/glac/RGI_TOPO/extracted_outlines/RGI60-19.02000_outlines.shp\", \n",
    "                  \"/home/sa42/data/glac/RGI_TOPO/extracted_dem_files/MAPZEN/RGI60-19.02000_dem.tif\")\n",
    "stats"
   ]
  },
  {
   "cell_type": "code",
   "execution_count": 6,
   "metadata": {},
   "outputs": [
    {
     "name": "stderr",
     "output_type": "stream",
     "text": [
      "  0%|          | 0/216502 [00:00<?, ?it/s]\n"
     ]
    }
   ],
   "source": [
    "import rasterstats as rst\n",
    "dir_path = \"/home/sa42/data/glac/RGI_TOPO/extracted_outlines/\"\n",
    "full_path = join(abspath(getcwd()), dir_path, \"*.shp\")\n",
    "sec_path = \"/home/sa42/data/glac/RGI_TOPO/extracted_dem_files/MAPZEN/\"\n",
    "sec_full_path = join(abspath(getcwd()), sec_path, \"*.tif\")\n",
    "\n",
    "\n",
    "RGI_points = pd.DataFrame()\n",
    "\n",
    "\n",
    "for shp_file in tqdm(glob(full_path)):\n",
    "    file_left = shp_file[49:]\n",
    "    file_reg = file_left[:14]\n",
    "    dem_file = join(file_reg + \"_dem.tif\")\n",
    "    for file in glob(sec_path):\n",
    "        dem_path = file + dem_file\n",
    "        pts = rst.point_query(shp_file, dem_path)\n",
    "        RGI_points = RGI_points.append(pts, ignore_index = True) \n",
    "        break\n",
    "    break"
   ]
  },
  {
   "cell_type": "code",
   "execution_count": 7,
   "metadata": {},
   "outputs": [
    {
     "data": {
      "text/plain": [
       "138"
      ]
     },
     "execution_count": 7,
     "metadata": {},
     "output_type": "execute_result"
    }
   ],
   "source": [
    "len(pts[0])"
   ]
  },
  {
   "cell_type": "code",
   "execution_count": 8,
   "metadata": {},
   "outputs": [],
   "source": [
    "RGI = gpd.GeoDataFrame(RGI)"
   ]
  },
  {
   "cell_type": "code",
   "execution_count": 9,
   "metadata": {},
   "outputs": [
    {
     "data": {
      "text/plain": [
       "[[None,\n",
       "  None,\n",
       "  None,\n",
       "  None,\n",
       "  None,\n",
       "  None,\n",
       "  None,\n",
       "  None,\n",
       "  None,\n",
       "  -201,\n",
       "  -201.0,\n",
       "  -201.0,\n",
       "  -201.0,\n",
       "  -201.0,\n",
       "  -201.00000000000003,\n",
       "  -201.0,\n",
       "  -201.0,\n",
       "  -201.0,\n",
       "  -201.0,\n",
       "  -201.0,\n",
       "  -201.0,\n",
       "  -201.0,\n",
       "  -201.0,\n",
       "  -201.0,\n",
       "  -201.0,\n",
       "  -201.0,\n",
       "  -200.99999999999997,\n",
       "  -201.0,\n",
       "  -201.0,\n",
       "  -201.00000000000003,\n",
       "  -201.0,\n",
       "  -201.0,\n",
       "  -201.0,\n",
       "  -201.0,\n",
       "  -199.73581033787923,\n",
       "  -196.21341805893462,\n",
       "  -192.42125576437684,\n",
       "  -189.18808934016852,\n",
       "  -189.0,\n",
       "  -189.0,\n",
       "  -189.0,\n",
       "  -188.99999999999997,\n",
       "  -189.0,\n",
       "  -189.0,\n",
       "  -189.0,\n",
       "  -189.0,\n",
       "  -189.0,\n",
       "  -189.0,\n",
       "  -189.0,\n",
       "  -189.0,\n",
       "  -189.00000000000003,\n",
       "  -188.99999999999997,\n",
       "  -189.00000000000003,\n",
       "  -188.6282397343509,\n",
       "  -187.3889578679195,\n",
       "  -186.5166503798858,\n",
       "  -186.0,\n",
       "  -185.69744530505898,\n",
       "  -185.1163350430912,\n",
       "  -185.0,\n",
       "  -185.0,\n",
       "  -185,\n",
       "  None,\n",
       "  None,\n",
       "  None,\n",
       "  None,\n",
       "  -185,\n",
       "  -185.0,\n",
       "  -185,\n",
       "  None,\n",
       "  None,\n",
       "  None,\n",
       "  None,\n",
       "  None,\n",
       "  None,\n",
       "  -185,\n",
       "  -185.0,\n",
       "  -185.0,\n",
       "  -185.0,\n",
       "  -185.0,\n",
       "  -184.99999999999997,\n",
       "  -185.0,\n",
       "  -185.0,\n",
       "  -185.0,\n",
       "  -185.0,\n",
       "  -185.0,\n",
       "  -185.0,\n",
       "  -185.0,\n",
       "  -185.0,\n",
       "  -185.0,\n",
       "  -184.99999999999997,\n",
       "  -189.7893372126273,\n",
       "  -196.0,\n",
       "  -196.0,\n",
       "  -196.0,\n",
       "  -196.00000000000003,\n",
       "  -196.0,\n",
       "  -196.0,\n",
       "  -196.0,\n",
       "  -196.0,\n",
       "  -196.0,\n",
       "  -196.0,\n",
       "  -196.0,\n",
       "  -196.0,\n",
       "  -196.0,\n",
       "  -196.0,\n",
       "  -196.0,\n",
       "  -196.0,\n",
       "  -196.0,\n",
       "  -196.0,\n",
       "  -196.0,\n",
       "  -196.0,\n",
       "  -197.07881900414904,\n",
       "  -199.9244852181978,\n",
       "  -201.00000000000003,\n",
       "  -201.0,\n",
       "  -201.0,\n",
       "  -201.0,\n",
       "  -201.0,\n",
       "  -201.00000000000003,\n",
       "  -201.0,\n",
       "  -201.0,\n",
       "  -201.0,\n",
       "  -201.0,\n",
       "  -201.0,\n",
       "  -201.0,\n",
       "  -201,\n",
       "  None,\n",
       "  None,\n",
       "  None,\n",
       "  None,\n",
       "  None,\n",
       "  None,\n",
       "  None,\n",
       "  None,\n",
       "  None,\n",
       "  None,\n",
       "  None]]"
      ]
     },
     "execution_count": 9,
     "metadata": {},
     "output_type": "execute_result"
    }
   ],
   "source": [
    "import rasterstats as rst\n",
    "stats = rst.zonal_stats(\"/home/sa42/data/glac/RGI_TOPO/extracted_outlines/RGI60-19.02000_outlines.shp\", \n",
    "                    \"/home/sa42/data/glac/RGI_TOPO/extracted_dem_files/MAPZEN/RGI60-19.02000_dem.tif\")\n",
    "pts = rst.point_query(\"/home/sa42/data/glac/RGI_TOPO/extracted_outlines/RGI60-19.02000_outlines.shp\", \n",
    "                  \"/home/sa42/data/glac/RGI_TOPO/extracted_dem_files/MAPZEN/RGI60-19.02000_dem.tif\")\n",
    "pts"
   ]
  },
  {
   "cell_type": "code",
   "execution_count": 10,
   "metadata": {},
   "outputs": [
    {
     "ename": "AttributeError",
     "evalue": "'list' object has no attribute 'plot'",
     "output_type": "error",
     "traceback": [
      "\u001b[0;31m---------------------------------------------------------------------------\u001b[0m",
      "\u001b[0;31mAttributeError\u001b[0m                            Traceback (most recent call last)",
      "\u001b[0;32m/tmp/ipykernel_1464513/150020465.py\u001b[0m in \u001b[0;36m<module>\u001b[0;34m\u001b[0m\n\u001b[0;32m----> 1\u001b[0;31m \u001b[0mpts\u001b[0m\u001b[0;34m.\u001b[0m\u001b[0mplot\u001b[0m\u001b[0;34m(\u001b[0m\u001b[0;34m)\u001b[0m\u001b[0;34m\u001b[0m\u001b[0;34m\u001b[0m\u001b[0m\n\u001b[0m",
      "\u001b[0;31mAttributeError\u001b[0m: 'list' object has no attribute 'plot'"
     ]
    }
   ],
   "source": [
    "pts.plot()"
   ]
  },
  {
   "cell_type": "code",
   "execution_count": null,
   "metadata": {
    "scrolled": true
   },
   "outputs": [],
   "source": [
    "T = pd.DataFrame(RGI)\n",
    "T.rename(columns = {\"CenLon\":\"RGI_CenLon\",\n",
    "                     \"CenLat\":\"RGI_CenLat\",\n",
    "                     \"Area\":\"RGI_Area\",\n",
    "                     \"Zmin\":\"RGI_Zmin\",\n",
    "                     \"Zmax\":\"RGI_Zmax\",\n",
    "                     \"Slope\":\"RGI_Slope\",\n",
    "                     \"Aspect\":\"RGI_Aspect\",\n",
    "                     \"Lmax\":\"RGI_Lmax\",\n",
    "                     \"geometry\":\"RGI_geometry\",},\n",
    "          inplace = True)\n",
    "\n",
    "RGI"
   ]
  },
  {
   "cell_type": "code",
   "execution_count": null,
   "metadata": {},
   "outputs": [],
   "source": [
    "geometryRGI_dem = pd.DataFrame()\n",
    "dir_path = \"/home/sa42/data/glac/RGI_TOPO/extracted_dem_files/MAPZEN/\"\n",
    "full_path = join(abspath(getcwd()), dir_path, \"*.tif\")\n",
    "for file in glob(full_path):\n",
    "    file_left = file[57:]\n",
    "    file_reg = file_left[:18]\n",
    "    print(file_reg)\n",
    "    dem_reader = rasterio.open(file)\n",
    "    break\n",
    "#     RGI_dem = RGI_dem.append(dem_reader, ignore_index = True)\n",
    "#     RGI_dem[\"RGI_name\"] = os.path.basename(file_reg)\n"
   ]
  },
  {
   "cell_type": "code",
   "execution_count": null,
   "metadata": {},
   "outputs": [],
   "source": [
    "dem_reader = rasterio.open(\"/home/sa42/data/glac/RGI_TOPO/extracted_dem_files/MAPZEN/RGI60-19.02001_dem.tif\")\n",
    "plt.imshow(dem_reader.read(1))"
   ]
  },
  {
   "cell_type": "code",
   "execution_count": null,
   "metadata": {},
   "outputs": [],
   "source": [
    "%%time\n",
    "print(\"System Initiated\")\n",
    "print(\"Importing glacier area data\")\n",
    "g = gpd.read_file(\"~/data/glac/glims_download_13173/glims_polygons.shp\")\n",
    "print(\"import complete\")\n",
    "print(\"sorting data\")\n",
    "g = g.drop(\"line_type\", axis=1)\n",
    "g = g.drop(\"anlys_id\", axis=1)\n",
    "g = g.drop(\"anlys_time\", axis=1)\n",
    "g = g.drop(\"primeclass\", axis=1)\n",
    "g = g.drop(\"src_date\", axis=1)\n",
    "g = g.drop(\"rec_status\", axis=1)\n",
    "g = g.drop(\"glac_name\", axis=1)\n",
    "g = g.drop(\"wgms_id\", axis=1)\n",
    "g = g.drop(\"local_id\", axis=1)\n",
    "g = g.drop(\"glac_stat\", axis=1)\n",
    "g = g.drop(\"subm_id\", axis=1)\n",
    "g = g.drop(\"release_dt\", axis=1)\n",
    "g = g.drop(\"proc_desc\", axis=1)\n",
    "g = g.drop(\"rc_id\", axis=1)\n",
    "g = g.drop(\"chief_affl\", axis=1)\n",
    "g = g.drop(\"loc_unc_x\", axis=1)CenLon\n",
    "g = g.drop(\"loc_unc_y\", axis=1)\n",
    "g = g.drop(\"glob_unc_x\", axis=1)\n",
    "g = g.drop(\"glob_unc_y\", axis=1)\n",
    "g = g.drop(\"submitters\", axis=1)\n",
    "g = g.drop(\"analysts\", axis=1)\n",
    "g = g.drop(\"geog_area\", axis=1)\n",
    "\n",
    "glim = gpd.GeoDataFrame(g)\n",
    "# print(\"computing areas\")\n",
    "# glim = glim.set_index(\"glac_id\")\n",
    "# glim[\"area_calc\"] = glim.area\n",
    "\n",
    "# print(\"computing boundaries\")\n",
    "# glim[\"boundary\"] = glim.boundary\n",
    "\n",
    "# print(\"finding glacier centers\")\n",
    "# glim[\"point_cent\"] = glim.centroid\n",
    "\n",
    "# glim_cent_first = glim[\"point_cent\"].astype(str).str.split('(').str[1]\n",
    "# glim_cent = glim_cent_first.astype(str).str.split(')').str[0]\n",
    "# glim[\"cent_lat\"] = glim_cent.str.split(' ').str[0]\n",
    "# glim[\"cent_lon\"] = glim_cent.str.split(' ').str[1]\n",
    "# glim = glim.drop(\"point_cent\", axis=1)CenLon\n",
    "\n",
    "print(\"glim complete\")"
   ]
  },
  {
   "cell_type": "code",
   "execution_count": null,
   "metadata": {},
   "outputs": [],
   "source": [
    "\n",
    "# T = pd.DataFrame(T_dataset)\n",
    "# T.rename(columns = {\"LAT\":\"LAT_CENT\",\n",
    "#                     \"LON\":\"LON_CENT\"},\n",
    "#          inplace = True)\n",
    "\n",
    "# TT = pd.DataFrame(TT_dataset)\n",
    "# TT.rename(columns = {\"LOWER_BOUND\":\"TT_LOWER_BOUND\",\n",
    "#                      \"UPPER_BOUND\":\"TT_UPPER_BOUND\",\n",
    "#                      \"AREA\":\"TT_AREA\",\n",
    "#                      \"MEAN_SLOPE\":\"TT_MEAN_SLOPE\",\n",
    "#                      \"MEAN_THICKNESS\":\"TT_MEAN_THICKNESS\"},\n",
    "#           inplace = True)\n",
    "\n",
    "# TTT = pd.DataFrame(TTT_dataset)\n",
    "# TTT.rename(columns = {\"ELEVATION\":\"POINT_ELEVATION\",\n",
    "#                       \"THICKNESS\":\"POINT_THICKNESS\"},\n",
    "#            inplace = True)\n",
    "\n",
    "# TTT_plu = pd.merge(TTT, T, how=\"inner\", on=[\"GlaThiDa_ID\"])\n",
    "\n",
    "# TTT_plus = pd.merge(TT,TTT_plu, how=\"inner\", on=[\"GlaThiDa_ID\"])\n",
    "\n",
    "# TTT_plus"
   ]
  },
  {
   "cell_type": "code",
   "execution_count": null,
   "metadata": {},
   "outputs": [],
   "source": [
    "T = pd.DataFrame(glim)\n",
    "T.rename(columns = {\"glac_id\":\"GLIMSId\",},\n",
    "          inplace = True)"
   ]
  },
  {
   "cell_type": "code",
   "execution_count": null,
   "metadata": {},
   "outputs": [],
   "source": [
    "glim"
   ]
  },
  {
   "cell_type": "code",
   "execution_count": null,
   "metadata": {},
   "outputs": [],
   "source": [
    "RGI"
   ]
  },
  {
   "cell_type": "code",
   "execution_count": null,
   "metadata": {},
   "outputs": [],
   "source": [
    "glim.iloc[[1254]].plot()"
   ]
  },
  {
   "cell_type": "code",
   "execution_count": null,
   "metadata": {},
   "outputs": [],
   "source": [
    "testy = glim.drop(\"area\", axis=1)\n",
    "testy = testy.drop(\"width\", axis=1)\n",
    "testy = testy.drop(\"db_area\", axis=1)\n",
    "testy = testy.drop(\"length\", axis=1)\n",
    "testy = testy.drop(\"min_elev\", axis=1)\n",
    "testy = testy.drop(\"max_elev\", axis=1)\n",
    "testy = testy.drop(\"mean_elev\", axis=1)\n",
    "# testy = testy.drop(\"area_calc\", axis=1)\n",
    "# testy = testy.drop(\"boundary\", axis=1)\n",
    "# testy = testy.drop(\"cent_lat\", axis=1)\n",
    "# testy = testy.drop(\"cent_lon\", axis=1)\n",
    "# testy = testy.drop(\"glac_id\", axis=1)\n",
    "\n",
    "testy"
   ]
  },
  {
   "cell_type": "code",
   "execution_count": null,
   "metadata": {},
   "outputs": [],
   "source": [
    "testy_poo = pd.merge(RGI, glim, how=\"inner\", on=[\"GLIMSId\"])"
   ]
  },
  {
   "cell_type": "code",
   "execution_count": null,
   "metadata": {},
   "outputs": [],
   "source": [
    "# testy_poo = testy_poo.dropna()\n",
    "\n",
    "testy_poo "
   ]
  },
  {
   "cell_type": "code",
   "execution_count": null,
   "metadata": {},
   "outputs": [],
   "source": [
    "import os\n",
    "import matplotlib.pyplot as plt\n",
    "import matplotlib as mpl\n",
    "import geopandas as gpd\n",
    "import rioxarray as rxr\n",
    "from rasterio.plot import plotting_extent\n",
    "import earthpy as et\n",
    "import earthpy.spatial as es\n",
    "import earthpy.plot as ep\n",
    "fire_boundary_path = \"/home/sa42/data/glac/RGI_TOPO/extracted_outlines/RGI60-19.02000_outlines.shp\""
   ]
  },
  {
   "cell_type": "code",
   "execution_count": null,
   "metadata": {},
   "outputs": [],
   "source": [
    "from rasterio.crs import CRS\n",
    "fire_boundary = gpd.read_file(fire_boundary_path)\n",
    "fire_boundary.crs"
   ]
  },
  {
   "cell_type": "code",
   "execution_count": null,
   "metadata": {},
   "outputs": [],
   "source": [
    "import rasterio.warp\n",
    "from rasterio.crs import CRS\n",
    "from shapely.geometry import box\n",
    "\n",
    "from pyproj import CRS\n",
    "from pyproj import Transformer\n",
    "\n",
    "fire_boundary = Transformer.from_crs(4326, 3857)\n",
    "\n",
    "xmin, ymin = transformer.transform(-180.0225, -90.0225)\n",
    "xmax, ymax = transformer.transform(179.9775, 90.0225)\n",
    "# fire_boundary.crs\n",
    "fire_boundary"
   ]
  },
  {
   "cell_type": "code",
   "execution_count": null,
   "metadata": {},
   "outputs": [],
   "source": [
    "plt.imshow(fire_boundary.read(1))"
   ]
  },
  {
   "cell_type": "code",
   "execution_count": 12,
   "metadata": {},
   "outputs": [
    {
     "ename": "KeyError",
     "evalue": "'NAME00'",
     "output_type": "error",
     "traceback": [
      "\u001b[0;31m---------------------------------------------------------------------------\u001b[0m",
      "\u001b[0;31mKeyError\u001b[0m                                  Traceback (most recent call last)",
      "\u001b[0;32m/tmp/ipykernel_1464513/3783497447.py\u001b[0m in \u001b[0;36m<module>\u001b[0;34m\u001b[0m\n\u001b[1;32m      5\u001b[0m     \u001b[0;32mfor\u001b[0m \u001b[0mi\u001b[0m\u001b[0;34m,\u001b[0m \u001b[0mfeat\u001b[0m \u001b[0;32min\u001b[0m \u001b[0menumerate\u001b[0m\u001b[0;34m(\u001b[0m\u001b[0mfeatures\u001b[0m\u001b[0;34m)\u001b[0m\u001b[0;34m:\u001b[0m\u001b[0;34m\u001b[0m\u001b[0;34m\u001b[0m\u001b[0m\n\u001b[1;32m      6\u001b[0m         \u001b[0mgeom\u001b[0m \u001b[0;34m=\u001b[0m \u001b[0mshape\u001b[0m\u001b[0;34m(\u001b[0m\u001b[0mfeat\u001b[0m\u001b[0;34m[\u001b[0m\u001b[0;34m'geometry'\u001b[0m\u001b[0;34m]\u001b[0m\u001b[0;34m)\u001b[0m\u001b[0;34m\u001b[0m\u001b[0;34m\u001b[0m\u001b[0m\n\u001b[0;32m----> 7\u001b[0;31m         \u001b[0mname\u001b[0m \u001b[0;34m=\u001b[0m \u001b[0mfeat\u001b[0m\u001b[0;34m[\u001b[0m\u001b[0;34m'properties'\u001b[0m\u001b[0;34m]\u001b[0m\u001b[0;34m[\u001b[0m\u001b[0;34m'NAME00'\u001b[0m\u001b[0;34m]\u001b[0m\u001b[0;34m\u001b[0m\u001b[0;34m\u001b[0m\u001b[0m\n\u001b[0m\u001b[1;32m      8\u001b[0m         \u001b[0mprint\u001b[0m\u001b[0;34m(\u001b[0m\u001b[0mjoin\u001b[0m\u001b[0;34m(\u001b[0m\u001b[0;34m(\u001b[0m\u001b[0mname\u001b[0m\u001b[0;34m,\u001b[0m\u001b[0;34m)\u001b[0m \u001b[0;34m+\u001b[0m \u001b[0mtuple\u001b[0m\u001b[0;34m(\u001b[0m\u001b[0;34m[\u001b[0m\u001b[0mstr\u001b[0m\u001b[0;34m(\u001b[0m\u001b[0mi\u001b[0m\u001b[0;34m)\u001b[0m \u001b[0;32mfor\u001b[0m \u001b[0mi\u001b[0m \u001b[0;32min\u001b[0m \u001b[0mgeom\u001b[0m\u001b[0;34m.\u001b[0m\u001b[0mbounds\u001b[0m\u001b[0;34m]\u001b[0m\u001b[0;34m)\u001b[0m\u001b[0;34m)\u001b[0m\u001b[0;34m)\u001b[0m\u001b[0;34m\u001b[0m\u001b[0;34m\u001b[0m\u001b[0m\n",
      "\u001b[0;31mKeyError\u001b[0m: 'NAME00'"
     ]
    }
   ],
   "source": [
    "import fiona\n",
    "from shapely.geometry import shape\n",
    "\n",
    "with fiona.open(\"/home/sa42/data/glac/RGI_TOPO/extracted_outlines/RGI60-19.02000_outlines.shp\", 'r') as features:\n",
    "    for i, feat in enumerate(features):\n",
    "        geom = shape(feat['geometry'])\n",
    "        name = feat['properties']['NAME00']\n",
    "        print(join((name,) + tuple([str(i) for i in geom.bounds])))"
   ]
  },
  {
   "cell_type": "code",
   "execution_count": null,
   "metadata": {},
   "outputs": [],
   "source": []
  }
 ],
 "metadata": {
  "kernelspec": {
   "display_name": "Python (Cartopy)-e",
   "language": "python",
   "name": "python-cartopy"
  },
  "language_info": {
   "codemirror_mode": {
    "name": "ipython",
    "version": 3
   },
   "file_extension": ".py",
   "mimetype": "text/x-python",
   "name": "python",
   "nbconvert_exporter": "python",
   "pygments_lexer": "ipython3",
   "version": "3.7.12"
  }
 },
 "nbformat": 4,
 "nbformat_minor": 4
}
