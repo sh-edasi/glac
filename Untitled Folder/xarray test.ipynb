{
 "cells": [
  {
   "cell_type": "code",
   "execution_count": 1,
   "id": "5a3e49e4",
   "metadata": {},
   "outputs": [],
   "source": [
    "# import sys\n",
    "# !{sys.executable} -m pip install pyproj\n",
    "from osgeo import gdal\n",
    "import fiona\n",
    "import os\n",
    "import urllib.request\n",
    "import cartopy.crs as ccrs\n",
    "import matplotlib.pyplot as plt\n",
    "import rasterio as rio\n",
    "import xarray as xr\n",
    "import os\n",
    "import numpy as np\n",
    "from rasterio.warp import transform\n",
    "from os.path import join\n",
    "from glob import glob\n",
    "from tqdm import tqdm\n",
    "import rioxarray as rxr\n",
    "import rasterio.mask\n",
    "import rasterstats as rst\n",
    "import pandas as pd\n",
    "from PIL import Image\n",
    "import tifftools\n",
    "import pyproj"
   ]
  },
  {
   "cell_type": "code",
   "execution_count": 2,
   "id": "3f101e3d",
   "metadata": {},
   "outputs": [],
   "source": [
    "def transmogrifyer(dem):\n",
    "    dem_reader = xr.open_rasterio(dem)\n",
    "    ny, nx = len(dem_reader['y']), len(dem_reader['x'])\n",
    "    x, y = np.meshgrid(dem_reader['x'], dem_reader['y'])\n",
    "    lon, lat = transform(dem_reader.crs, {'init': 'EPSG:4326'},\n",
    "                     x.flatten(), y.flatten())\n",
    "    \n",
    "    dem_lon = np.asarray(lon).reshape((ny, nx))\n",
    "    dem_lat = np.asarray(lat).reshape((ny, nx))\n",
    "    dem_reader.coords['lon'] = (('y', 'x'), dem_lon)\n",
    "    dem_reader.coords['lat'] = (('y', 'x'), dem_lat)\n",
    "    dem_greyscale = dem_reader.mean(dim=\"band\")\n",
    "    \n",
    "    ax = plt.subplot(projection=ccrs.PlateCarree())\n",
    "    dem_plot = dem_greyscale.plot(ax=ax, x='lon', y='lat', transform=ccrs.PlateCarree(),\n",
    "                                  cmap='Greys_r', add_colorbar=False, shading=None)"
   ]
  },
  {
   "cell_type": "code",
   "execution_count": 3,
   "id": "eb957150",
   "metadata": {},
   "outputs": [
    {
     "name": "stdout",
     "output_type": "stream",
     "text": [
      "/home/sa42/data/glac/RGI_TOPO/extracted_dem_files/MAPZEN/RGI60-19.02001_dem.tif\n",
      "/home/sa42/data/glac/RGI_TOPO/extracted_mask_files/RGI60-19.02001_glacier_mask.tif\n"
     ]
    }
   ],
   "source": [
    "#This loop is very important, it will select the same file in both directories. \n",
    "dir_dem = \"/home/sa42/data/glac/RGI_TOPO/extracted_dem_files/MAPZEN/\"\n",
    "dir_mask = \"/home/sa42/data/glac/RGI_TOPO/extracted_mask_files/\"\n",
    "full_dem_path = join(dir_dem,\"*.tif\")\n",
    "for file in glob(full_dem_path):\n",
    "    file_left = file[57:]\n",
    "    RGI_file = file_left[:14]\n",
    "    dem_file = RGI_file + \"_dem.tif\"\n",
    "    dem = join(dir_dem, dem_file)\n",
    "    mask_file = RGI_file + \"_glacier_mask.tif\"\n",
    "    mask = join(dir_mask, mask_file)\n",
    "    print(dem)\n",
    "    print(mask)\n",
    "    break\n",
    "    \n"
   ]
  },
  {
   "cell_type": "code",
   "execution_count": 4,
   "id": "b1da39a8",
   "metadata": {},
   "outputs": [],
   "source": [
    "# plt.imshow(transmogrifyer(dem))\n",
    "# plt.imshow(transmogrifyer(mask), alpha=0.2)"
   ]
  },
  {
   "cell_type": "code",
   "execution_count": 5,
   "id": "f30de4f7",
   "metadata": {},
   "outputs": [
    {
     "name": "stderr",
     "output_type": "stream",
     "text": [
      "/home/sa42/miniconda3/envs/python-cartopy-f/lib/python3.7/site-packages/ipykernel_launcher.py:2: DeprecationWarning: open_rasterio is Deprecated in favor of rioxarray. For information about transitioning, see: https://corteva.github.io/rioxarray/stable/getting_started/getting_started.html\n",
      "  \n",
      "/home/sa42/miniconda3/envs/python-cartopy-f/lib/python3.7/site-packages/cartopy/mpl/geoaxes.py:1598: UserWarning: The input coordinates to pcolormesh are interpreted as cell centers, but are not monotonically increasing or decreasing. This may lead to incorrectly calculated cell edges, in which case, please supply explicit cell edges to pcolormesh.\n",
      "  shading=shading)\n"
     ]
    },
    {
     "data": {
      "image/png": "[encoded data removed]",
      "text/plain": [
       "<Figure size 432x288 with 1 Axes>"
      ]
     },
     "metadata": {
      "needs_background": "light"
     },
     "output_type": "display_data"
    }
   ],
   "source": [
    "transmogrifyer(dem)"
   ]
  },
  {
   "cell_type": "code",
   "execution_count": 6,
   "id": "860f98c8",
   "metadata": {},
   "outputs": [
    {
     "name": "stderr",
     "output_type": "stream",
     "text": [
      "/home/sa42/miniconda3/envs/python-cartopy-f/lib/python3.7/site-packages/ipykernel_launcher.py:2: DeprecationWarning: open_rasterio is Deprecated in favor of rioxarray. For information about transitioning, see: https://corteva.github.io/rioxarray/stable/getting_started/getting_started.html\n",
      "  \n",
      "/home/sa42/miniconda3/envs/python-cartopy-f/lib/python3.7/site-packages/cartopy/mpl/geoaxes.py:1598: UserWarning: The input coordinates to pcolormesh are interpreted as cell centers, but are not monotonically increasing or decreasing. This may lead to incorrectly calculated cell edges, in which case, please supply explicit cell edges to pcolormesh.\n",
      "  shading=shading)\n"
     ]
    },
    {
     "data": {
      "image/png": "[encoded data removed]",
      "text/plain": [
       "<Figure size 432x288 with 1 Axes>"
      ]
     },
     "metadata": {
      "needs_background": "light"
     },
     "output_type": "display_data"
    }
   ],
   "source": [
    "transmogrifyer(mask)"
   ]
  },
  {
   "cell_type": "code",
   "execution_count": 7,
   "id": "5cd17ef2",
   "metadata": {},
   "outputs": [
    {
     "ename": "NameError",
     "evalue": "name 'crash' is not defined",
     "output_type": "error",
     "traceback": [
      "\u001b[0;31m---------------------------------------------------------------------------\u001b[0m",
      "\u001b[0;31mNameError\u001b[0m                                 Traceback (most recent call last)",
      "\u001b[0;32m/tmp/ipykernel_1493356/3115182498.py\u001b[0m in \u001b[0;36m<module>\u001b[0;34m\u001b[0m\n\u001b[0;32m----> 1\u001b[0;31m \u001b[0mcrash\u001b[0m\u001b[0;34m(\u001b[0m\u001b[0;34m)\u001b[0m\u001b[0;34m\u001b[0m\u001b[0;34m\u001b[0m\u001b[0m\n\u001b[0m",
      "\u001b[0;31mNameError\u001b[0m: name 'crash' is not defined"
     ]
    }
   ],
   "source": [
    "crash()"
   ]
  },
  {
   "cell_type": "code",
   "execution_count": 16,
   "id": "15074072",
   "metadata": {},
   "outputs": [
    {
     "ename": "AttributeError",
     "evalue": "'list' object has no attribute 'get'",
     "output_type": "error",
     "traceback": [
      "\u001b[0;31m---------------------------------------------------------------------------\u001b[0m",
      "\u001b[0;31mAttributeError\u001b[0m                            Traceback (most recent call last)",
      "\u001b[0;32m/tmp/ipykernel_1493356/2737037785.py\u001b[0m in \u001b[0;36m<module>\u001b[0;34m\u001b[0m\n\u001b[1;32m      1\u001b[0m \u001b[0;31m# Open input raster and write masked (clipped) output raster\u001b[0m\u001b[0;34m\u001b[0m\u001b[0;34m\u001b[0m\u001b[0;34m\u001b[0m\u001b[0m\n\u001b[1;32m      2\u001b[0m \u001b[0;32mwith\u001b[0m \u001b[0mrasterio\u001b[0m\u001b[0;34m.\u001b[0m\u001b[0mopen\u001b[0m\u001b[0;34m(\u001b[0m\u001b[0;34m\"/home/sa42/data/glac/RGI_TOPO/extracted_mask_files/RGI60-19.02001_glacier_mask.tif\"\u001b[0m\u001b[0;34m)\u001b[0m \u001b[0;32mas\u001b[0m \u001b[0msrc\u001b[0m\u001b[0;34m:\u001b[0m\u001b[0;34m\u001b[0m\u001b[0;34m\u001b[0m\u001b[0m\n\u001b[0;32m----> 3\u001b[0;31m     \u001b[0mout_image\u001b[0m \u001b[0;34m=\u001b[0m \u001b[0mrasterio\u001b[0m\u001b[0;34m.\u001b[0m\u001b[0mmask\u001b[0m\u001b[0;34m.\u001b[0m\u001b[0mmask\u001b[0m\u001b[0;34m(\u001b[0m\u001b[0msrc\u001b[0m\u001b[0;34m,\u001b[0m \u001b[0;34m[\u001b[0m\u001b[0;34m[\u001b[0m\u001b[0;34m\"geometry\"\u001b[0m\u001b[0;34m]\u001b[0m\u001b[0;34m]\u001b[0m\u001b[0;34m,\u001b[0m \u001b[0mcrop\u001b[0m\u001b[0;34m=\u001b[0m\u001b[0;32mTrue\u001b[0m\u001b[0;34m)\u001b[0m\u001b[0;34m\u001b[0m\u001b[0;34m\u001b[0m\u001b[0m\n\u001b[0m\u001b[1;32m      4\u001b[0m     \u001b[0mout_meta\u001b[0m \u001b[0;34m=\u001b[0m \u001b[0msrc\u001b[0m\u001b[0;34m.\u001b[0m\u001b[0mmeta\u001b[0m\u001b[0;34m\u001b[0m\u001b[0;34m\u001b[0m\u001b[0m\n\u001b[1;32m      5\u001b[0m \u001b[0;34m\u001b[0m\u001b[0m\n",
      "\u001b[0;32m~/miniconda3/envs/python-cartopy-f/lib/python3.7/site-packages/rasterio/mask.py\u001b[0m in \u001b[0;36mmask\u001b[0;34m(dataset, shapes, all_touched, invert, nodata, filled, crop, pad, pad_width, indexes)\u001b[0m\n\u001b[1;32m    178\u001b[0m     shape_mask, transform, window = raster_geometry_mask(\n\u001b[1;32m    179\u001b[0m         \u001b[0mdataset\u001b[0m\u001b[0;34m,\u001b[0m \u001b[0mshapes\u001b[0m\u001b[0;34m,\u001b[0m \u001b[0mall_touched\u001b[0m\u001b[0;34m=\u001b[0m\u001b[0mall_touched\u001b[0m\u001b[0;34m,\u001b[0m \u001b[0minvert\u001b[0m\u001b[0;34m=\u001b[0m\u001b[0minvert\u001b[0m\u001b[0;34m,\u001b[0m \u001b[0mcrop\u001b[0m\u001b[0;34m=\u001b[0m\u001b[0mcrop\u001b[0m\u001b[0;34m,\u001b[0m\u001b[0;34m\u001b[0m\u001b[0;34m\u001b[0m\u001b[0m\n\u001b[0;32m--> 180\u001b[0;31m         pad=pad, pad_width=pad_width)\n\u001b[0m\u001b[1;32m    181\u001b[0m \u001b[0;34m\u001b[0m\u001b[0m\n\u001b[1;32m    182\u001b[0m     \u001b[0;32mif\u001b[0m \u001b[0mindexes\u001b[0m \u001b[0;32mis\u001b[0m \u001b[0;32mNone\u001b[0m\u001b[0;34m:\u001b[0m\u001b[0;34m\u001b[0m\u001b[0;34m\u001b[0m\u001b[0m\n",
      "\u001b[0;32m~/miniconda3/envs/python-cartopy-f/lib/python3.7/site-packages/rasterio/mask.py\u001b[0m in \u001b[0;36mraster_geometry_mask\u001b[0;34m(dataset, shapes, all_touched, invert, crop, pad, pad_width)\u001b[0m\n\u001b[1;32m     78\u001b[0m \u001b[0;34m\u001b[0m\u001b[0m\n\u001b[1;32m     79\u001b[0m     \u001b[0;32mtry\u001b[0m\u001b[0;34m:\u001b[0m\u001b[0;34m\u001b[0m\u001b[0;34m\u001b[0m\u001b[0m\n\u001b[0;32m---> 80\u001b[0;31m         \u001b[0mwindow\u001b[0m \u001b[0;34m=\u001b[0m \u001b[0mgeometry_window\u001b[0m\u001b[0;34m(\u001b[0m\u001b[0mdataset\u001b[0m\u001b[0;34m,\u001b[0m \u001b[0mshapes\u001b[0m\u001b[0;34m,\u001b[0m \u001b[0mpad_x\u001b[0m\u001b[0;34m=\u001b[0m\u001b[0mpad_x\u001b[0m\u001b[0;34m,\u001b[0m \u001b[0mpad_y\u001b[0m\u001b[0;34m=\u001b[0m\u001b[0mpad_y\u001b[0m\u001b[0;34m)\u001b[0m\u001b[0;34m\u001b[0m\u001b[0;34m\u001b[0m\u001b[0m\n\u001b[0m\u001b[1;32m     81\u001b[0m \u001b[0;34m\u001b[0m\u001b[0m\n\u001b[1;32m     82\u001b[0m     \u001b[0;32mexcept\u001b[0m \u001b[0mWindowError\u001b[0m\u001b[0;34m:\u001b[0m\u001b[0;34m\u001b[0m\u001b[0;34m\u001b[0m\u001b[0m\n",
      "\u001b[0;32m~/miniconda3/envs/python-cartopy-f/lib/python3.7/site-packages/rasterio/features.py\u001b[0m in \u001b[0;36mgeometry_window\u001b[0;34m(dataset, shapes, pad_x, pad_y, north_up, rotated, pixel_precision, boundless)\u001b[0m\n\u001b[1;32m    439\u001b[0m     \"\"\"\n\u001b[1;32m    440\u001b[0m \u001b[0;34m\u001b[0m\u001b[0m\n\u001b[0;32m--> 441\u001b[0;31m     \u001b[0mall_bounds\u001b[0m \u001b[0;34m=\u001b[0m \u001b[0;34m[\u001b[0m\u001b[0mbounds\u001b[0m\u001b[0;34m(\u001b[0m\u001b[0mshape\u001b[0m\u001b[0;34m,\u001b[0m \u001b[0mtransform\u001b[0m\u001b[0;34m=\u001b[0m\u001b[0;34m~\u001b[0m\u001b[0mdataset\u001b[0m\u001b[0;34m.\u001b[0m\u001b[0mtransform\u001b[0m\u001b[0;34m)\u001b[0m \u001b[0;32mfor\u001b[0m \u001b[0mshape\u001b[0m \u001b[0;32min\u001b[0m \u001b[0mshapes\u001b[0m\u001b[0;34m]\u001b[0m\u001b[0;34m\u001b[0m\u001b[0;34m\u001b[0m\u001b[0m\n\u001b[0m\u001b[1;32m    442\u001b[0m \u001b[0;34m\u001b[0m\u001b[0m\n\u001b[1;32m    443\u001b[0m     cols = [\n",
      "\u001b[0;32m~/miniconda3/envs/python-cartopy-f/lib/python3.7/site-packages/rasterio/features.py\u001b[0m in \u001b[0;36m<listcomp>\u001b[0;34m(.0)\u001b[0m\n\u001b[1;32m    439\u001b[0m     \"\"\"\n\u001b[1;32m    440\u001b[0m \u001b[0;34m\u001b[0m\u001b[0m\n\u001b[0;32m--> 441\u001b[0;31m     \u001b[0mall_bounds\u001b[0m \u001b[0;34m=\u001b[0m \u001b[0;34m[\u001b[0m\u001b[0mbounds\u001b[0m\u001b[0;34m(\u001b[0m\u001b[0mshape\u001b[0m\u001b[0;34m,\u001b[0m \u001b[0mtransform\u001b[0m\u001b[0;34m=\u001b[0m\u001b[0;34m~\u001b[0m\u001b[0mdataset\u001b[0m\u001b[0;34m.\u001b[0m\u001b[0mtransform\u001b[0m\u001b[0;34m)\u001b[0m \u001b[0;32mfor\u001b[0m \u001b[0mshape\u001b[0m \u001b[0;32min\u001b[0m \u001b[0mshapes\u001b[0m\u001b[0;34m]\u001b[0m\u001b[0;34m\u001b[0m\u001b[0;34m\u001b[0m\u001b[0m\n\u001b[0m\u001b[1;32m    442\u001b[0m \u001b[0;34m\u001b[0m\u001b[0m\n\u001b[1;32m    443\u001b[0m     cols = [\n",
      "\u001b[0;32m~/miniconda3/envs/python-cartopy-f/lib/python3.7/site-packages/rasterio/features.py\u001b[0m in \u001b[0;36mbounds\u001b[0;34m(geometry, north_up, transform)\u001b[0m\n\u001b[1;32m    379\u001b[0m         \u001b[0;32mreturn\u001b[0m \u001b[0mtuple\u001b[0m\u001b[0;34m(\u001b[0m\u001b[0mgeometry\u001b[0m\u001b[0;34m[\u001b[0m\u001b[0;34m'bbox'\u001b[0m\u001b[0;34m]\u001b[0m\u001b[0;34m)\u001b[0m\u001b[0;34m\u001b[0m\u001b[0;34m\u001b[0m\u001b[0m\n\u001b[1;32m    380\u001b[0m \u001b[0;34m\u001b[0m\u001b[0m\n\u001b[0;32m--> 381\u001b[0;31m     \u001b[0mgeom\u001b[0m \u001b[0;34m=\u001b[0m \u001b[0mgeometry\u001b[0m\u001b[0;34m.\u001b[0m\u001b[0mget\u001b[0m\u001b[0;34m(\u001b[0m\u001b[0;34m'geometry'\u001b[0m\u001b[0;34m)\u001b[0m \u001b[0;32mor\u001b[0m \u001b[0mgeometry\u001b[0m\u001b[0;34m\u001b[0m\u001b[0;34m\u001b[0m\u001b[0m\n\u001b[0m\u001b[1;32m    382\u001b[0m \u001b[0;34m\u001b[0m\u001b[0m\n\u001b[1;32m    383\u001b[0m     \u001b[0;31m# geometry must be a geometry, GeometryCollection, or FeatureCollection\u001b[0m\u001b[0;34m\u001b[0m\u001b[0;34m\u001b[0m\u001b[0;34m\u001b[0m\u001b[0m\n",
      "\u001b[0;31mAttributeError\u001b[0m: 'list' object has no attribute 'get'"
     ]
    }
   ],
   "source": [
    "# Open input raster and write masked (clipped) output raster\n",
    "with rasterio.open(\"/home/sa42/data/glac/RGI_TOPO/extracted_mask_files/RGI60-19.02001_glacier_mask.tif\") as src:\n",
    "    out_image = rasterio.mask.mask(src, [[\"geometry\"]], crop=True)\n",
    "    out_meta = src.meta\n",
    "\n",
    "    with rasterio.open(\"output_raster.tif\", \"w\", **out_meta) as dest:\n",
    "        dest.write(out_image)\n"
   ]
  },
  {
   "cell_type": "code",
   "execution_count": 8,
   "id": "10c222a1",
   "metadata": {},
   "outputs": [],
   "source": [
    "import tifftools\n",
    "\n",
    "input1 = tifftools.read_tiff(\"/home/sa42/data/glac/RGI_TOPO/extracted_dem_files/MAPZEN/RGI60-19.02000_dem.tif\")\n",
    "input2 = tifftools.read_tiff(\"glacier_masked_dem\")\n",
    "# Add input2 to input1\n",
    "input1['ifds'].extend(input2['ifds'])\n",
    "tifftools.write_tiff(input1, 'output_masked_dem2.tiff')"
   ]
  },
  {
   "cell_type": "code",
   "execution_count": 11,
   "id": "ffb69a87",
   "metadata": {},
   "outputs": [],
   "source": [
    "import fiona\n",
    "import rasterio\n",
    "import rasterio.mask\n",
    "\n",
    "with fiona.open(\"/home/sa42/data/glac/RGI_TOPO/extracted_outlines/RGI60-19.02000_outlines.shp\", \"r\") as shapefile:\n",
    "    shapes = [feature[\"geometry\"] for feature in shapefile]"
   ]
  },
  {
   "cell_type": "code",
   "execution_count": 12,
   "id": "a6edd47f",
   "metadata": {},
   "outputs": [],
   "source": [
    "with rasterio.open(\"/home/sa42/data/glac/RGI_TOPO/extracted_dem_files/MAPZEN/RGI60-19.02000_dem.tif\") as src:\n",
    "    out_image, out_transform = rasterio.mask.mask(src,shapes, crop=True)\n",
    "    out_meta = src.meta"
   ]
  },
  {
   "cell_type": "code",
   "execution_count": 13,
   "id": "7a6a7a42",
   "metadata": {},
   "outputs": [],
   "source": [
    "out_meta.update({\"driver\": \"GTiff\",\n",
    "                 \"height\": out_image.shape[1],\n",
    "                 \"width\": out_image.shape[2],\n",
    "                 \"transform\": out_transform})\n",
    "\n",
    "with rasterio.open(\"glacier_masked_dem\", \"w\", **out_meta) as dest:\n",
    "    dest.write(out_image)"
   ]
  },
  {
   "cell_type": "code",
   "execution_count": 14,
   "id": "7038b6cc",
   "metadata": {},
   "outputs": [
    {
     "ename": "TypeError",
     "evalue": "invalid path or file: array([[[-32768, -32768, -32768, ..., -32768, -32768, -32768],\n        [-32768, -32768, -32768, ..., -32768, -32768, -32768],\n        [-32768, -32768, -32768, ..., -32768, -32768, -32768],\n        ...,\n        [-32768, -32768, -32768, ..., -32768, -32768, -32768],\n        [-32768, -32768, -32768, ..., -32768, -32768, -32768],\n        [-32768, -32768, -32768, ..., -32768, -32768, -32768]]],\n      dtype=int16)",
     "output_type": "error",
     "traceback": [
      "\u001b[0;31m---------------------------------------------------------------------------\u001b[0m",
      "\u001b[0;31mTypeError\u001b[0m                                 Traceback (most recent call last)",
      "\u001b[0;32m/tmp/ipykernel_1493356/799750466.py\u001b[0m in \u001b[0;36m<module>\u001b[0;34m\u001b[0m\n\u001b[0;32m----> 1\u001b[0;31m \u001b[0mdem_reader\u001b[0m \u001b[0;34m=\u001b[0m \u001b[0mrio\u001b[0m\u001b[0;34m.\u001b[0m\u001b[0mopen\u001b[0m\u001b[0;34m(\u001b[0m\u001b[0mout_image\u001b[0m\u001b[0;34m)\u001b[0m\u001b[0;34m\u001b[0m\u001b[0;34m\u001b[0m\u001b[0m\n\u001b[0m\u001b[1;32m      2\u001b[0m \u001b[0mr\u001b[0m \u001b[0;34m=\u001b[0m \u001b[0mplt\u001b[0m\u001b[0;34m.\u001b[0m\u001b[0mimshow\u001b[0m\u001b[0;34m(\u001b[0m\u001b[0mdem_reader\u001b[0m\u001b[0;34m.\u001b[0m\u001b[0mread\u001b[0m\u001b[0;34m(\u001b[0m\u001b[0;36m1\u001b[0m\u001b[0;34m)\u001b[0m\u001b[0;34m)\u001b[0m\u001b[0;34m\u001b[0m\u001b[0;34m\u001b[0m\u001b[0m\n",
      "\u001b[0;32m~/miniconda3/envs/python-cartopy-f/lib/python3.7/site-packages/rasterio/env.py\u001b[0m in \u001b[0;36mwrapper\u001b[0;34m(*args, **kwds)\u001b[0m\n\u001b[1;32m    435\u001b[0m \u001b[0;34m\u001b[0m\u001b[0m\n\u001b[1;32m    436\u001b[0m         \u001b[0;32mwith\u001b[0m \u001b[0menv_ctor\u001b[0m\u001b[0;34m(\u001b[0m\u001b[0msession\u001b[0m\u001b[0;34m=\u001b[0m\u001b[0msession\u001b[0m\u001b[0;34m)\u001b[0m\u001b[0;34m:\u001b[0m\u001b[0;34m\u001b[0m\u001b[0;34m\u001b[0m\u001b[0m\n\u001b[0;32m--> 437\u001b[0;31m             \u001b[0;32mreturn\u001b[0m \u001b[0mf\u001b[0m\u001b[0;34m(\u001b[0m\u001b[0;34m*\u001b[0m\u001b[0margs\u001b[0m\u001b[0;34m,\u001b[0m \u001b[0;34m**\u001b[0m\u001b[0mkwds\u001b[0m\u001b[0;34m)\u001b[0m\u001b[0;34m\u001b[0m\u001b[0;34m\u001b[0m\u001b[0m\n\u001b[0m\u001b[1;32m    438\u001b[0m \u001b[0;34m\u001b[0m\u001b[0m\n\u001b[1;32m    439\u001b[0m     \u001b[0;32mreturn\u001b[0m \u001b[0mwrapper\u001b[0m\u001b[0;34m\u001b[0m\u001b[0;34m\u001b[0m\u001b[0m\n",
      "\u001b[0;32m~/miniconda3/envs/python-cartopy-f/lib/python3.7/site-packages/rasterio/__init__.py\u001b[0m in \u001b[0;36mopen\u001b[0;34m(fp, mode, driver, width, height, count, crs, transform, dtype, nodata, sharing, **kwargs)\u001b[0m\n\u001b[1;32m    155\u001b[0m     \u001b[0;32mif\u001b[0m \u001b[0;32mnot\u001b[0m \u001b[0misinstance\u001b[0m\u001b[0;34m(\u001b[0m\u001b[0mfp\u001b[0m\u001b[0;34m,\u001b[0m \u001b[0mstr\u001b[0m\u001b[0;34m)\u001b[0m\u001b[0;34m:\u001b[0m\u001b[0;34m\u001b[0m\u001b[0;34m\u001b[0m\u001b[0m\n\u001b[1;32m    156\u001b[0m         \u001b[0;32mif\u001b[0m \u001b[0;32mnot\u001b[0m \u001b[0;34m(\u001b[0m\u001b[0mhasattr\u001b[0m\u001b[0;34m(\u001b[0m\u001b[0mfp\u001b[0m\u001b[0;34m,\u001b[0m \u001b[0;34m'read'\u001b[0m\u001b[0;34m)\u001b[0m \u001b[0;32mor\u001b[0m \u001b[0mhasattr\u001b[0m\u001b[0;34m(\u001b[0m\u001b[0mfp\u001b[0m\u001b[0;34m,\u001b[0m \u001b[0;34m'write'\u001b[0m\u001b[0;34m)\u001b[0m \u001b[0;32mor\u001b[0m \u001b[0misinstance\u001b[0m\u001b[0;34m(\u001b[0m\u001b[0mfp\u001b[0m\u001b[0;34m,\u001b[0m \u001b[0mPath\u001b[0m\u001b[0;34m)\u001b[0m\u001b[0;34m)\u001b[0m\u001b[0;34m:\u001b[0m\u001b[0;34m\u001b[0m\u001b[0;34m\u001b[0m\u001b[0m\n\u001b[0;32m--> 157\u001b[0;31m             \u001b[0;32mraise\u001b[0m \u001b[0mTypeError\u001b[0m\u001b[0;34m(\u001b[0m\u001b[0;34m\"invalid path or file: {0!r}\"\u001b[0m\u001b[0;34m.\u001b[0m\u001b[0mformat\u001b[0m\u001b[0;34m(\u001b[0m\u001b[0mfp\u001b[0m\u001b[0;34m)\u001b[0m\u001b[0;34m)\u001b[0m\u001b[0;34m\u001b[0m\u001b[0;34m\u001b[0m\u001b[0m\n\u001b[0m\u001b[1;32m    158\u001b[0m     \u001b[0;32mif\u001b[0m \u001b[0mmode\u001b[0m \u001b[0;32mand\u001b[0m \u001b[0;32mnot\u001b[0m \u001b[0misinstance\u001b[0m\u001b[0;34m(\u001b[0m\u001b[0mmode\u001b[0m\u001b[0;34m,\u001b[0m \u001b[0mstr\u001b[0m\u001b[0;34m)\u001b[0m\u001b[0;34m:\u001b[0m\u001b[0;34m\u001b[0m\u001b[0;34m\u001b[0m\u001b[0m\n\u001b[1;32m    159\u001b[0m         \u001b[0;32mraise\u001b[0m \u001b[0mTypeError\u001b[0m\u001b[0;34m(\u001b[0m\u001b[0;34m\"invalid mode: {0!r}\"\u001b[0m\u001b[0;34m.\u001b[0m\u001b[0mformat\u001b[0m\u001b[0;34m(\u001b[0m\u001b[0mmode\u001b[0m\u001b[0;34m)\u001b[0m\u001b[0;34m)\u001b[0m\u001b[0;34m\u001b[0m\u001b[0;34m\u001b[0m\u001b[0m\n",
      "\u001b[0;31mTypeError\u001b[0m: invalid path or file: array([[[-32768, -32768, -32768, ..., -32768, -32768, -32768],\n        [-32768, -32768, -32768, ..., -32768, -32768, -32768],\n        [-32768, -32768, -32768, ..., -32768, -32768, -32768],\n        ...,\n        [-32768, -32768, -32768, ..., -32768, -32768, -32768],\n        [-32768, -32768, -32768, ..., -32768, -32768, -32768],\n        [-32768, -32768, -32768, ..., -32768, -32768, -32768]]],\n      dtype=int16)"
     ]
    }
   ],
   "source": [
    "dem_reader = rio.open(out_image)\n",
    "r = plt.imshow(dem_reader.read(1))"
   ]
  },
  {
   "cell_type": "code",
   "execution_count": 15,
   "id": "4fc52d2f",
   "metadata": {},
   "outputs": [
    {
     "data": {
      "image/png": "[encoded data removed]",
      "text/plain": [
       "<Figure size 432x288 with 1 Axes>"
      ]
     },
     "metadata": {
      "needs_background": "light"
     },
     "output_type": "display_data"
    }
   ],
   "source": [
    "dem_reader = rio.open(\"output_crop_raster.tif\")\n",
    "r = plt.imshow(dem_reader.read(1))"
   ]
  },
  {
   "cell_type": "code",
   "execution_count": 10,
   "id": "07b78346",
   "metadata": {},
   "outputs": [
    {
     "data": {
      "image/png": "[encoded data removed]",
      "text/plain": [
       "<Figure size 432x288 with 1 Axes>"
      ]
     },
     "metadata": {
      "needs_background": "light"
     },
     "output_type": "display_data"
    }
   ],
   "source": [
    "dem_reader = rio.open(\"output_masked_dem2.tiff\")\n",
    "r = plt.imshow(dem_reader.read(1))"
   ]
  },
  {
   "cell_type": "code",
   "execution_count": 9,
   "id": "31b4927f",
   "metadata": {},
   "outputs": [
    {
     "name": "stderr",
     "output_type": "stream",
     "text": [
      "ERROR 1: PROJ: proj_create_from_wkt: Open of /home/sa42/miniconda3/envs/python-cartopy-f/share/proj failed\n",
      "ERROR 1: PROJ: proj_identify: Open of /home/sa42/miniconda3/envs/python-cartopy-f/share/proj failed\n",
      "ERROR 1: PROJ: pj_obj_create: Open of /home/sa42/miniconda3/envs/python-cartopy-f/share/proj failed\n",
      "ERROR 1: PROJ: createGeodeticReferenceFrame: Open of /home/sa42/miniconda3/envs/python-cartopy-f/share/proj failed\n",
      "ERROR 1: PROJ: proj_as_wkt: Open of /home/sa42/miniconda3/envs/python-cartopy-f/share/proj failed\n",
      "ERROR 1: PROJ: proj_create_from_wkt: Open of /home/sa42/miniconda3/envs/python-cartopy-f/share/proj failed\n",
      "ERROR 1: PROJ: proj_as_wkt: Open of /home/sa42/miniconda3/envs/python-cartopy-f/share/proj failed\n",
      "ERROR 1: PROJ: proj_create_from_wkt: Open of /home/sa42/miniconda3/envs/python-cartopy-f/share/proj failed\n",
      "ERROR 1: PROJ: createGeodeticReferenceFrame: Open of /home/sa42/miniconda3/envs/python-cartopy-f/share/proj failed\n",
      "ERROR 1: PROJ: pj_obj_create: Open of /home/sa42/miniconda3/envs/python-cartopy-f/share/proj failed\n",
      "ERROR 1: PROJ: proj_as_wkt: Open of /home/sa42/miniconda3/envs/python-cartopy-f/share/proj failed\n",
      "ERROR 1: PROJ: proj_create_from_wkt: Open of /home/sa42/miniconda3/envs/python-cartopy-f/share/proj failed\n",
      "ERROR 1: PROJ: proj_create_from_wkt: Open of /home/sa42/miniconda3/envs/python-cartopy-f/share/proj failed\n",
      "ERROR 1: PROJ: pj_obj_create: Open of /home/sa42/miniconda3/envs/python-cartopy-f/share/proj failed\n",
      "ERROR 1: PROJ: proj_as_wkt: Open of /home/sa42/miniconda3/envs/python-cartopy-f/share/proj failed\n",
      "ERROR 1: PROJ: proj_as_wkt: Open of /home/sa42/miniconda3/envs/python-cartopy-f/share/proj failed\n",
      "ERROR 1: PROJ: proj_create_from_wkt: Open of /home/sa42/miniconda3/envs/python-cartopy-f/share/proj failed\n",
      "ERROR 1: PROJ: proj_as_wkt: Open of /home/sa42/miniconda3/envs/python-cartopy-f/share/proj failed\n",
      "ERROR 1: PROJ: proj_as_wkt: Open of /home/sa42/miniconda3/envs/python-cartopy-f/share/proj failed\n",
      "ERROR 1: PROJ: proj_as_wkt: Open of /home/sa42/miniconda3/envs/python-cartopy-f/share/proj failed\n",
      "ERROR 1: PROJ: proj_create_from_wkt: Open of /home/sa42/miniconda3/envs/python-cartopy-f/share/proj failed\n",
      "ERROR 1: PROJ: proj_as_wkt: Open of /home/sa42/miniconda3/envs/python-cartopy-f/share/proj failed\n",
      "ERROR 1: PROJ: proj_as_wkt: Open of /home/sa42/miniconda3/envs/python-cartopy-f/share/proj failed\n",
      "ERROR 1: PROJ: proj_as_wkt: Open of /home/sa42/miniconda3/envs/python-cartopy-f/share/proj failed\n",
      "ERROR 1: PROJ: proj_create_from_wkt: Open of /home/sa42/miniconda3/envs/python-cartopy-f/share/proj failed\n",
      "ERROR 1: PROJ: proj_as_wkt: Open of /home/sa42/miniconda3/envs/python-cartopy-f/share/proj failed\n",
      "ERROR 1: PROJ: proj_as_wkt: Open of /home/sa42/miniconda3/envs/python-cartopy-f/share/proj failed\n",
      "ERROR 1: PROJ: proj_as_wkt: Open of /home/sa42/miniconda3/envs/python-cartopy-f/share/proj failed\n",
      "ERROR 1: PROJ: proj_as_wkt: Open of /home/sa42/miniconda3/envs/python-cartopy-f/share/proj failed\n",
      "ERROR 1: PROJ: proj_create: Open of /home/sa42/miniconda3/envs/python-cartopy-f/share/proj failed\n",
      "ERROR 1: PROJ: proj_create: Open of /home/sa42/miniconda3/envs/python-cartopy-f/share/proj failed\n",
      "ERROR 1: PROJ: proj_create_operation_factory_context: Open of /home/sa42/miniconda3/envs/python-cartopy-f/share/proj failed\n",
      "ERROR 1: PROJ: pj_obj_create: Open of /home/sa42/miniconda3/envs/python-cartopy-f/share/proj failed\n",
      "ERROR 1: PROJ: proj_as_proj_string: Open of /home/sa42/miniconda3/envs/python-cartopy-f/share/proj failed\n",
      "ERROR 1: PROJ: pj_obj_create: Open of /home/sa42/miniconda3/envs/python-cartopy-f/share/proj failed\n",
      "ERROR 1: PROJ: proj_create_from_wkt: Open of /home/sa42/miniconda3/envs/python-cartopy-f/share/proj failed\n",
      "ERROR 1: PROJ: proj_as_wkt: Open of /home/sa42/miniconda3/envs/python-cartopy-f/share/proj failed\n",
      "ERROR 1: PROJ: proj_as_wkt: Open of /home/sa42/miniconda3/envs/python-cartopy-f/share/proj failed\n",
      "ERROR 1: PROJ: proj_as_wkt: Open of /home/sa42/miniconda3/envs/python-cartopy-f/share/proj failed\n",
      "ERROR 1: PROJ: proj_as_wkt: Open of /home/sa42/miniconda3/envs/python-cartopy-f/share/proj failed\n",
      "ERROR 1: PROJ: proj_create_from_wkt: Open of /home/sa42/miniconda3/envs/python-cartopy-f/share/proj failed\n",
      "ERROR 1: PROJ: proj_as_wkt: Open of /home/sa42/miniconda3/envs/python-cartopy-f/share/proj failed\n",
      "ERROR 1: PROJ: proj_create_from_wkt: Open of /home/sa42/miniconda3/envs/python-cartopy-f/share/proj failed\n",
      "ERROR 1: PROJ: proj_as_wkt: Open of /home/sa42/miniconda3/envs/python-cartopy-f/share/proj failed\n",
      "ERROR 1: PROJ: proj_as_wkt: Open of /home/sa42/miniconda3/envs/python-cartopy-f/share/proj failed\n",
      "ERROR 1: PROJ: proj_as_wkt: Open of /home/sa42/miniconda3/envs/python-cartopy-f/share/proj failed\n",
      "ERROR 1: PROJ: proj_as_wkt: Open of /home/sa42/miniconda3/envs/python-cartopy-f/share/proj failed\n",
      "ERROR 1: PROJ: proj_create: Open of /home/sa42/miniconda3/envs/python-cartopy-f/share/proj failed\n",
      "ERROR 1: PROJ: proj_create: Open of /home/sa42/miniconda3/envs/python-cartopy-f/share/proj failed\n",
      "ERROR 1: PROJ: proj_create_operation_factory_context: Open of /home/sa42/miniconda3/envs/python-cartopy-f/share/proj failed\n",
      "ERROR 1: PROJ: pj_obj_create: Open of /home/sa42/miniconda3/envs/python-cartopy-f/share/proj failed\n",
      "ERROR 1: PROJ: proj_as_proj_string: Open of /home/sa42/miniconda3/envs/python-cartopy-f/share/proj failed\n",
      "ERROR 1: PROJ: pj_obj_create: Open of /home/sa42/miniconda3/envs/python-cartopy-f/share/proj failed\n",
      "ERROR 1: PROJ: proj_as_wkt: Open of /home/sa42/miniconda3/envs/python-cartopy-f/share/proj failed\n",
      "ERROR 1: PROJ: proj_create_from_wkt: Open of /home/sa42/miniconda3/envs/python-cartopy-f/share/proj failed\n",
      "ERROR 1: PROJ: proj_as_wkt: Open of /home/sa42/miniconda3/envs/python-cartopy-f/share/proj failed\n"
     ]
    },
    {
     "data": {
      "text/plain": [
       "<osgeo.gdal.Dataset; proxy of <Swig Object of type 'GDALDatasetShadow *' at 0x7f3912f17360> >"
      ]
     },
     "execution_count": 9,
     "metadata": {},
     "output_type": "execute_result"
    }
   ],
   "source": [
    "gdal.Warp('output_crop_raster.tif', '/home/sa42/data/glac/RGI_TOPO/extracted_dem_files/MAPZEN/RGI60-19.02000_dem.tif', cutlineDSName='/home/sa42/data/glac/RGI_TOPO/extracted_outlines/RGI60-19.02000_outlines.shp', cropToCutline=True)\n"
   ]
  },
  {
   "cell_type": "code",
   "execution_count": null,
   "id": "6989ac22",
   "metadata": {},
   "outputs": [],
   "source": [
    "r = "
   ]
  }
 ],
 "metadata": {
  "kernelspec": {
   "display_name": "python (Cartopy)-f",
   "language": "python",
   "name": "python-cartopy"
  },
  "language_info": {
   "codemirror_mode": {
    "name": "ipython",
    "version": 3
   },
   "file_extension": ".py",
   "mimetype": "text/x-python",
   "name": "python",
   "nbconvert_exporter": "python",
   "pygments_lexer": "ipython3",
   "version": "3.7.11"
  }
 },
 "nbformat": 4,
 "nbformat_minor": 5
}
