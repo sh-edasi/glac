{
 "cells": [
  {
   "cell_type": "code",
   "execution_count": 1,
   "id": "de8c5e9c",
   "metadata": {},
   "outputs": [
    {
     "name": "stderr",
     "output_type": "stream",
     "text": [
      "2023-01-12 15:02:41.659011: I tensorflow/core/util/util.cc:169] oneDNN custom operations are on. You may see slightly different numerical results due to floating-point round-off errors from different computation orders. To turn them off, set the environment variable `TF_ENABLE_ONEDNN_OPTS=0`.\n"
     ]
    }
   ],
   "source": [
    "import glacierml"
   ]
  },
  {
   "cell_type": "markdown",
   "id": "fb2754eb",
   "metadata": {},
   "source": [
    "# Step 0. Match the indices in RGI with those in GlaThiDa\n",
    "This corresponds to the file ```workflow_step0_merge_training_data.py```. But note that this is can't really be run in a notebook because with ```useMP=True``` then note that multiprocessing doesn't play well with notebooks..."
   ]
  },
  {
   "cell_type": "code",
   "execution_count": 2,
   "id": "1a6ef59a",
   "metadata": {},
   "outputs": [],
   "source": [
    "pth = '/data/fast1/glacierml/data/'\n",
    "# output=glacierml.match_GlaThiDa_RGI_index(pth=pth, useMP=True);\n",
    "# This writes the file to:  pth + '/v2/GlaThiDa_with_RGIId_v2.csv'"
   ]
  },
  {
   "cell_type": "markdown",
   "id": "f5fc9750",
   "metadata": {},
   "source": [
    "# Step 1. Build and train models.\n",
    "This corresponds to the file ```workflow_step1_run_bootstrap_and_ensemble.py```.\n",
    "Here, to illustrate the general ideas, we just build and train a single model rather than\n",
    "going through the bootstrap/ensemble process.\n",
    "\n",
    "First, load the training data,"
   ]
  },
  {
   "cell_type": "code",
   "execution_count": 3,
   "id": "e8f6e1bc",
   "metadata": {},
   "outputs": [
    {
     "name": "stdout",
     "output_type": "stream",
     "text": [
      "# of raw thicknesses: 500\n",
      "# of raw thickness matched to RGI = 500, 446 unique\n"
     ]
    },
    {
     "data": {
      "text/html": [
       "<div>\n",
       "<style scoped>\n",
       "    .dataframe tbody tr th:only-of-type {\n",
       "        vertical-align: middle;\n",
       "    }\n",
       "\n",
       "    .dataframe tbody tr th {\n",
       "        vertical-align: top;\n",
       "    }\n",
       "\n",
       "    .dataframe thead th {\n",
       "        text-align: right;\n",
       "    }\n",
       "</style>\n",
       "<table border=\"1\" class=\"dataframe\">\n",
       "  <thead>\n",
       "    <tr style=\"text-align: right;\">\n",
       "      <th></th>\n",
       "      <th>CenLat</th>\n",
       "      <th>CenLon</th>\n",
       "      <th>Slope</th>\n",
       "      <th>Zmin</th>\n",
       "      <th>Zmed</th>\n",
       "      <th>Zmax</th>\n",
       "      <th>Area</th>\n",
       "      <th>Aspect</th>\n",
       "      <th>Lmax</th>\n",
       "      <th>Thickness</th>\n",
       "    </tr>\n",
       "  </thead>\n",
       "  <tbody>\n",
       "    <tr>\n",
       "      <th>0</th>\n",
       "      <td>63.469173</td>\n",
       "      <td>-146.528168</td>\n",
       "      <td>12.0</td>\n",
       "      <td>722</td>\n",
       "      <td>1841</td>\n",
       "      <td>3081</td>\n",
       "      <td>234.583</td>\n",
       "      <td>30</td>\n",
       "      <td>41911</td>\n",
       "      <td>235.0</td>\n",
       "    </tr>\n",
       "    <tr>\n",
       "      <th>1</th>\n",
       "      <td>63.281000</td>\n",
       "      <td>-145.427000</td>\n",
       "      <td>14.0</td>\n",
       "      <td>1162</td>\n",
       "      <td>1858</td>\n",
       "      <td>2438</td>\n",
       "      <td>17.567</td>\n",
       "      <td>172</td>\n",
       "      <td>8639</td>\n",
       "      <td>147.0</td>\n",
       "    </tr>\n",
       "    <tr>\n",
       "      <th>2</th>\n",
       "      <td>58.380000</td>\n",
       "      <td>-134.349000</td>\n",
       "      <td>10.0</td>\n",
       "      <td>676</td>\n",
       "      <td>1123</td>\n",
       "      <td>1494</td>\n",
       "      <td>9.528</td>\n",
       "      <td>327</td>\n",
       "      <td>6332</td>\n",
       "      <td>66.0</td>\n",
       "    </tr>\n",
       "    <tr>\n",
       "      <th>9</th>\n",
       "      <td>51.177000</td>\n",
       "      <td>-116.330000</td>\n",
       "      <td>15.3</td>\n",
       "      <td>2390</td>\n",
       "      <td>2526</td>\n",
       "      <td>2853</td>\n",
       "      <td>0.872</td>\n",
       "      <td>69</td>\n",
       "      <td>1181</td>\n",
       "      <td>70.0</td>\n",
       "    </tr>\n",
       "    <tr>\n",
       "      <th>11</th>\n",
       "      <td>44.148300</td>\n",
       "      <td>-121.773320</td>\n",
       "      <td>20.7</td>\n",
       "      <td>2321</td>\n",
       "      <td>2590</td>\n",
       "      <td>2810</td>\n",
       "      <td>0.808</td>\n",
       "      <td>91</td>\n",
       "      <td>1680</td>\n",
       "      <td>26.0</td>\n",
       "    </tr>\n",
       "    <tr>\n",
       "      <th>...</th>\n",
       "      <td>...</td>\n",
       "      <td>...</td>\n",
       "      <td>...</td>\n",
       "      <td>...</td>\n",
       "      <td>...</td>\n",
       "      <td>...</td>\n",
       "      <td>...</td>\n",
       "      <td>...</td>\n",
       "      <td>...</td>\n",
       "      <td>...</td>\n",
       "    </tr>\n",
       "    <tr>\n",
       "      <th>483</th>\n",
       "      <td>-33.403600</td>\n",
       "      <td>-69.822000</td>\n",
       "      <td>10.0</td>\n",
       "      <td>4255</td>\n",
       "      <td>5492</td>\n",
       "      <td>5885</td>\n",
       "      <td>7.233</td>\n",
       "      <td>298</td>\n",
       "      <td>8109</td>\n",
       "      <td>122.0</td>\n",
       "    </tr>\n",
       "    <tr>\n",
       "      <th>485</th>\n",
       "      <td>-33.222300</td>\n",
       "      <td>-70.205600</td>\n",
       "      <td>21.1</td>\n",
       "      <td>3469</td>\n",
       "      <td>4970</td>\n",
       "      <td>5364</td>\n",
       "      <td>5.374</td>\n",
       "      <td>88</td>\n",
       "      <td>4739</td>\n",
       "      <td>38.0</td>\n",
       "    </tr>\n",
       "    <tr>\n",
       "      <th>489</th>\n",
       "      <td>-33.029600</td>\n",
       "      <td>-70.098400</td>\n",
       "      <td>29.0</td>\n",
       "      <td>2929</td>\n",
       "      <td>5121</td>\n",
       "      <td>5894</td>\n",
       "      <td>8.376</td>\n",
       "      <td>358</td>\n",
       "      <td>8560</td>\n",
       "      <td>59.0</td>\n",
       "    </tr>\n",
       "    <tr>\n",
       "      <th>492</th>\n",
       "      <td>-28.381400</td>\n",
       "      <td>-69.609100</td>\n",
       "      <td>11.6</td>\n",
       "      <td>5068</td>\n",
       "      <td>5406</td>\n",
       "      <td>5753</td>\n",
       "      <td>5.209</td>\n",
       "      <td>79</td>\n",
       "      <td>3782</td>\n",
       "      <td>67.0</td>\n",
       "    </tr>\n",
       "    <tr>\n",
       "      <th>498</th>\n",
       "      <td>-62.670700</td>\n",
       "      <td>-60.354700</td>\n",
       "      <td>6.7</td>\n",
       "      <td>10</td>\n",
       "      <td>-999</td>\n",
       "      <td>370</td>\n",
       "      <td>5.493</td>\n",
       "      <td>273</td>\n",
       "      <td>3056</td>\n",
       "      <td>97.0</td>\n",
       "    </tr>\n",
       "  </tbody>\n",
       "</table>\n",
       "<p>225 rows × 10 columns</p>\n",
       "</div>"
      ],
      "text/plain": [
       "        CenLat      CenLon  Slope  Zmin  Zmed  Zmax     Area  Aspect   Lmax  \\\n",
       "0    63.469173 -146.528168   12.0   722  1841  3081  234.583      30  41911   \n",
       "1    63.281000 -145.427000   14.0  1162  1858  2438   17.567     172   8639   \n",
       "2    58.380000 -134.349000   10.0   676  1123  1494    9.528     327   6332   \n",
       "9    51.177000 -116.330000   15.3  2390  2526  2853    0.872      69   1181   \n",
       "11   44.148300 -121.773320   20.7  2321  2590  2810    0.808      91   1680   \n",
       "..         ...         ...    ...   ...   ...   ...      ...     ...    ...   \n",
       "483 -33.403600  -69.822000   10.0  4255  5492  5885    7.233     298   8109   \n",
       "485 -33.222300  -70.205600   21.1  3469  4970  5364    5.374      88   4739   \n",
       "489 -33.029600  -70.098400   29.0  2929  5121  5894    8.376     358   8560   \n",
       "492 -28.381400  -69.609100   11.6  5068  5406  5753    5.209      79   3782   \n",
       "498 -62.670700  -60.354700    6.7    10  -999   370    5.493     273   3056   \n",
       "\n",
       "     Thickness  \n",
       "0        235.0  \n",
       "1        147.0  \n",
       "2         66.0  \n",
       "9         70.0  \n",
       "11        26.0  \n",
       "..         ...  \n",
       "483      122.0  \n",
       "485       38.0  \n",
       "489       59.0  \n",
       "492       67.0  \n",
       "498       97.0  \n",
       "\n",
       "[225 rows x 10 columns]"
      ]
     },
     "execution_count": 3,
     "metadata": {},
     "output_type": "execute_result"
    }
   ],
   "source": [
    "parameterization, dataset, dataset.name, res = \\\n",
    "    glacierml.select_dataset_coregistration(pth=pth)\n",
    "dataset"
   ]
  },
  {
   "cell_type": "markdown",
   "id": "9d50cefb",
   "metadata": {},
   "source": [
    "Then train a single NN model with the data:"
   ]
  },
  {
   "cell_type": "code",
   "execution_count": 4,
   "id": "6f4675e5",
   "metadata": {},
   "outputs": [
    {
     "name": "stderr",
     "output_type": "stream",
     "text": [
      "2023-01-12 15:02:44.767708: W tensorflow/stream_executor/platform/default/dso_loader.cc:64] Could not load dynamic library 'libcudnn.so.8'; dlerror: libcudnn.so.8: cannot open shared object file: No such file or directory\n",
      "2023-01-12 15:02:44.767729: W tensorflow/core/common_runtime/gpu/gpu_device.cc:1850] Cannot dlopen some GPU libraries. Please make sure the missing libraries mentioned above are installed properly if you would like to use GPU. Follow the guide at https://www.tensorflow.org/install/gpu for how to download and setup the required libraries for your platform.\n",
      "Skipping registering GPU devices...\n",
      "2023-01-12 15:02:44.768518: I tensorflow/core/platform/cpu_feature_guard.cc:193] This TensorFlow binary is optimized with oneAPI Deep Neural Network Library (oneDNN) to use the following CPU instructions in performance-critical operations:  AVX2 AVX512F AVX512_VNNI FMA\n",
      "To enable them in other operations, rebuild TensorFlow with the appropriate compiler flags.\n"
     ]
    }
   ],
   "source": [
    "lr_input = 0.01\n",
    "rs = 0\n",
    "ep_input = 2000\n",
    "layer_1_input = 10\n",
    "layer_2_input = 5\n",
    "dropout = True\n",
    "\n",
    "dnn_model = glacierml.build_and_train_model(\n",
    "                        dataset, \n",
    "                        learning_rate = float(lr_input), \n",
    "                        random_state = rs, \n",
    "                        epochs = int(ep_input), \n",
    "                        parameterization = parameterization, \n",
    "                        res = res,\n",
    "                        layer_1 = layer_1_input,\n",
    "                        layer_2 = layer_2_input,\n",
    "                        dropout = dropout,\n",
    "                        writeToFile = False\n",
    ")   "
   ]
  },
  {
   "cell_type": "code",
   "execution_count": 5,
   "id": "60f83e1d",
   "metadata": {},
   "outputs": [
    {
     "data": {
      "text/plain": [
       "<keras.engine.sequential.Sequential at 0x7f675c5bf6d0>"
      ]
     },
     "execution_count": 5,
     "metadata": {},
     "output_type": "execute_result"
    }
   ],
   "source": [
    "dnn_model"
   ]
  },
  {
   "cell_type": "code",
   "execution_count": null,
   "id": "cc6389b5",
   "metadata": {},
   "outputs": [],
   "source": []
  }
 ],
 "metadata": {
  "kernelspec": {
   "display_name": "Python 3 (ipykernel)",
   "language": "python",
   "name": "python3"
  },
  "language_info": {
   "codemirror_mode": {
    "name": "ipython",
    "version": 3
   },
   "file_extension": ".py",
   "mimetype": "text/x-python",
   "name": "python",
   "nbconvert_exporter": "python",
   "pygments_lexer": "ipython3",
   "version": "3.7.12"
  },
  "varInspector": {
   "cols": {
    "lenName": 16,
    "lenType": 16,
    "lenVar": 40
   },
   "kernels_config": {
    "python": {
     "delete_cmd_postfix": "",
     "delete_cmd_prefix": "del ",
     "library": "var_list.py",
     "varRefreshCmd": "print(var_dic_list())"
    },
    "r": {
     "delete_cmd_postfix": ") ",
     "delete_cmd_prefix": "rm(",
     "library": "var_list.r",
     "varRefreshCmd": "cat(var_dic_list()) "
    }
   },
   "types_to_exclude": [
    "module",
    "function",
    "builtin_function_or_method",
    "instance",
    "_Feature"
   ],
   "window_display": false
  }
 },
 "nbformat": 4,
 "nbformat_minor": 5
}
