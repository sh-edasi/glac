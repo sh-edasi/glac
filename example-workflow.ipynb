{
 "cells": [
  {
   "cell_type": "code",
   "execution_count": null,
   "id": "de8c5e9c",
   "metadata": {},
   "outputs": [],
   "source": [
    "import glacierml as gl\n",
    "import pandas as pd\n",
    "import os\n",
    "from tqdm import tqdm\n",
    "import geopy\n",
    "pd.set_option('display.max_columns', None)\n"
   ]
  },
  {
   "cell_type": "code",
   "execution_count": null,
   "id": "1a6ef59a",
   "metadata": {},
   "outputs": [],
   "source": [
    "df = gl.data_loader()\n",
    "# df=df.drop('Zmed', axis=1)\n",
    "df.name = 'df'\n",
    "df"
   ]
  },
  {
   "cell_type": "code",
   "execution_count": null,
   "id": "d1470248",
   "metadata": {},
   "outputs": [],
   "source": [
    "history_filename, model_filename = gl.build_and_train_model(df)"
   ]
  },
  {
   "cell_type": "code",
   "execution_count": null,
   "id": "73d3fb03",
   "metadata": {},
   "outputs": [],
   "source": [
    "import tensorflow as tf\n",
    "model = tf.keras.models.load_model(model_filename)"
   ]
  },
  {
   "cell_type": "code",
   "execution_count": null,
   "id": "951999e0",
   "metadata": {},
   "outputs": [],
   "source": [
    "train_features, test_features, train_labels, test_labels = gl.data_splitter(df)"
   ]
  },
  {
   "cell_type": "code",
   "execution_count": null,
   "id": "9dfed93f",
   "metadata": {},
   "outputs": [],
   "source": [
    "import numpy as np\n",
    "y_pred = model.predict(test_features).flatten()\n",
    "y_true=test_labels\n",
    "loss = tf.keras.losses.mean_absolute_error(y_true, y_pred)\n",
    "print(loss)"
   ]
  },
  {
   "cell_type": "code",
   "execution_count": null,
   "id": "6884cb77",
   "metadata": {},
   "outputs": [],
   "source": [
    "import pandas as pd\n",
    "model_history = pd.read_csv(history_filename)\n",
    "model_history"
   ]
  },
  {
   "cell_type": "code",
   "execution_count": null,
   "id": "b253759e",
   "metadata": {},
   "outputs": [],
   "source": [
    "RGI_All = gl.RGI_loader()\n",
    "# RGI_All = RGI_All.reset_index()\n",
    "RGI_All"
   ]
  },
  {
   "cell_type": "code",
   "execution_count": null,
   "id": "6ec5b02c",
   "metadata": {},
   "outputs": [],
   "source": [
    "RGI = RGI.drop(RGI_All.loc[RGI_All['Zmed']<0].index)\n",
    "RGI = RGI.drop(RGI.loc[RGI['Lmax']<0].index)\n",
    "RGI = RGI.drop(RGI.loc[RGI['Slope']<0].index)\n",
    "RGI = RGI.drop(RGI.loc[RGI['Aspect']<0].index)\n",
    "RGI = RGI.reset_index()\n",
    "RGI = RGI.drop('index', axis=1)\n",
    "RGI = RGI.drop('Zmed', axis=1)\n",
    "RGI"
   ]
  },
  {
   "cell_type": "code",
   "execution_count": null,
   "id": "3d8f1a89",
   "metadata": {},
   "outputs": [],
   "source": [
    "y_pred = model.predict(RGI).flatten()"
   ]
  },
  {
   "cell_type": "code",
   "execution_count": null,
   "id": "a6536605",
   "metadata": {},
   "outputs": [],
   "source": [
    "np.mean(y_pred)"
   ]
  },
  {
   "cell_type": "code",
   "execution_count": null,
   "id": "9222d837",
   "metadata": {},
   "outputs": [],
   "source": [
    "print(f'Zmed missing: {len(RGI_All[RGI_All.Zmed<0])}\\n'\n",
    "      f'Slope missing: {len(RGI_All[RGI_All.Slope<0])}\\n'\n",
    "      f'Aspect missing: {len(RGI_All[RGI_All.Aspect<0])}\\n'\n",
    "      f'Lmax missing: {len(RGI_All[RGI_All.Lmax<0])}\\n')"
   ]
  },
  {
   "cell_type": "code",
   "execution_count": null,
   "id": "9963d8fe",
   "metadata": {},
   "outputs": [],
   "source": [
    "print(f'Length w/o Zmed: {np.mean(RGI_All[RGI_All.Zmed<0].Lmax)}\\n'\n",
    "      f'Area w/ Zmed: {np.mean(RGI_All[RGI_All.Zmed>0].Area)}\\n\\n'\n",
    "      f'Area w/o Slope: {np.mean(RGI_All[RGI_All.Slope<0].Area)}\\n'\n",
    "      f'Area w/ Slope: {np.mean(RGI_All[RGI_All.Slope>0].Area)}\\n\\n'\n",
    "      f'Area w/o Aspect: {np.mean(RGI_All[RGI_All.Aspect<0].Area)}\\n'\n",
    "      f'Area w/ Aspect: {np.mean(RGI_All[RGI_All.Aspect>0].Area)}\\n\\n'\n",
    "      f'Area w/o Lmax: {np.mean(RGI_All[RGI_All.Lmax<0].Area)}\\n'\n",
    "      f'Area w/ Lmax: {np.mean(RGI_All[RGI_All.Lmax>0].Area)}\\n\\n')"
   ]
  },
  {
   "cell_type": "code",
   "execution_count": null,
   "id": "e562c767",
   "metadata": {},
   "outputs": [],
   "source": [
    "RGI_All"
   ]
  },
  {
   "cell_type": "code",
   "execution_count": null,
   "id": "e86a15c9",
   "metadata": {},
   "outputs": [],
   "source": [
    "tau = 100e3\n",
    "rho = 1e3\n",
    "g = 10\n",
    "alpha = RGI_All.Slope\n",
    "H = tau / rho / g / np.sin(alpha / np.pi * 180)\n",
    "H_avg = np.nansum(H) / sum(~np.isnan (H))\n",
    "H_avg"
   ]
  },
  {
   "cell_type": "code",
   "execution_count": null,
   "id": "0003a93c",
   "metadata": {},
   "outputs": [],
   "source": [
    "?np.sin"
   ]
  }
 ],
 "metadata": {
  "kernelspec": {
   "display_name": "Python 3 (ipykernel)",
   "language": "python",
   "name": "python3"
  },
  "language_info": {
   "codemirror_mode": {
    "name": "ipython",
    "version": 3
   },
   "file_extension": ".py",
   "mimetype": "text/x-python",
   "name": "python",
   "nbconvert_exporter": "python",
   "pygments_lexer": "ipython3",
   "version": "3.7.11"
  },
  "varInspector": {
   "cols": {
    "lenName": 16,
    "lenType": 16,
    "lenVar": 40
   },
   "kernels_config": {
    "python": {
     "delete_cmd_postfix": "",
     "delete_cmd_prefix": "del ",
     "library": "var_list.py",
     "varRefreshCmd": "print(var_dic_list())"
    },
    "r": {
     "delete_cmd_postfix": ") ",
     "delete_cmd_prefix": "rm(",
     "library": "var_list.r",
     "varRefreshCmd": "cat(var_dic_list()) "
    }
   },
   "types_to_exclude": [
    "module",
    "function",
    "builtin_function_or_method",
    "instance",
    "_Feature"
   ],
   "window_display": false
  }
 },
 "nbformat": 4,
 "nbformat_minor": 5
}
