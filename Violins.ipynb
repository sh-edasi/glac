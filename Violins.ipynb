{
 "cells": [
  {
   "cell_type": "code",
   "execution_count": 1,
   "id": "55e0de99",
   "metadata": {},
   "outputs": [],
   "source": [
    "# import dependencies\n",
    "# import sys\n",
    "# !{sys.executable} -m pip install --user install tensorflow==2.8.0. \n",
    "import numpy as np\n",
    "import pandas as pd\n",
    "import glacierml as gl\n",
    "import matplotlib.pyplot as plt\n",
    "# RGI = gl.RGI_loader()\n",
    "# df, ref = gl.notebook_data_loader()\n"
   ]
  },
  {
   "cell_type": "code",
   "execution_count": 2,
   "id": "50b001db",
   "metadata": {},
   "outputs": [],
   "source": [
    "df = gl.load_notebook_data(parameterization = '3')"
   ]
  },
  {
   "cell_type": "code",
   "execution_count": 3,
   "id": "bac968b7",
   "metadata": {},
   "outputs": [],
   "source": [
    "df['VE / VF'] = df['Edasi Volume (km3)'] / df['Farinotti Volume (km3)']"
   ]
  },
  {
   "cell_type": "code",
   "execution_count": 4,
   "id": "456c23fb",
   "metadata": {},
   "outputs": [
    {
     "data": {
      "text/plain": [
       "594.1726162608752"
      ]
     },
     "execution_count": 4,
     "metadata": {},
     "output_type": "execute_result"
    }
   ],
   "source": [
    "df['VE / VF'].max()"
   ]
  },
  {
   "cell_type": "code",
   "execution_count": null,
   "id": "40f993fc",
   "metadata": {},
   "outputs": [],
   "source": [
    "df['Area'] = np.log(df['Area'])"
   ]
  },
  {
   "cell_type": "code",
   "execution_count": null,
   "id": "f4a49020",
   "metadata": {},
   "outputs": [],
   "source": [
    "import seaborn as sns\n",
    "dfr = pd.DataFrame()\n",
    "for i in range(0, 90, 10):\n",
    "    dft = df.loc[(df['Slope'].between(i, i + 10)) & (df['VE / VF'] <= 10)]\n",
    "    dft['Slope (degrees)'] = str(i) + '-' + str(i + 10)\n",
    "    dfr = pd.concat([dfr, dft])\n",
    "ax = sns.violinplot(\n",
    "    x = dfr['Slope (degrees)'],\n",
    "    y = dfr['VE / VF'],\n",
    "    scale = 'count',\n",
    "    inner = 'box'\n",
    "#     ax = plt.subplot(1,1,(figsize = (10,10)))\n",
    ")\n",
    "ax.set_ylabel('Edasi & Lipovsky / Farinotti Volume Ratio')\n",
    "plt.axhline(y = 1.00, color = 'red', linestyle = '--')\n",
    "ax.set_title('Edasi & Lipovsky / Farinotti Volume Ratio and Glacier Slope')\n",
    "print(len(dfr))\n",
    "# plt.savefig('figs/violin/slope.svg')"
   ]
  },
  {
   "cell_type": "code",
   "execution_count": null,
   "id": "9ecf492a",
   "metadata": {},
   "outputs": [],
   "source": [
    "dfr = pd.DataFrame()\n",
    "for i in np.arange(0, 2, .3):\n",
    "    dft = df.loc[(df['Area'].between(i, i + .3)) & (df['VE / VF'] <= 10)]\n",
    "    dft['Area (km2)'] = str(i) + '-' + str(i + .3)\n",
    "    dfr = pd.concat([dfr, dft])\n",
    "ax = sns.violinplot(\n",
    "    x = dfr['Area (km2)'],\n",
    "    y = dfr['VE / VF'],\n",
    "    inner = 'box',\n",
    "    scale = 'count',\n",
    "#     inner = None\n",
    "#     ax = plt.subplot(1,1,(figsize = (10,10)))\n",
    ")\n",
    "ax.set_ylabel('Edasi & Lipovsky / Farinotti Volume Ratio')\n",
    "\n",
    "plt.axhline(y = 1.00, color = 'red', linestyle = '--')\n",
    "ax.set_title('Edasi & Lipovsky / Farinotti Volume Ratio and Glacier Area')\n",
    "# plt.savefig('figs/violin/area.svg')"
   ]
  },
  {
   "cell_type": "code",
   "execution_count": null,
   "id": "501edca1",
   "metadata": {},
   "outputs": [],
   "source": [
    "dft"
   ]
  },
  {
   "cell_type": "code",
   "execution_count": null,
   "id": "1755ca5e",
   "metadata": {},
   "outputs": [],
   "source": [
    "df['Area'] = np.log(df['Area'])"
   ]
  },
  {
   "cell_type": "code",
   "execution_count": null,
   "id": "a39ce211",
   "metadata": {},
   "outputs": [],
   "source": [
    "dfr = pd.DataFrame()\n",
    "for i in range(0,10, 1):\n",
    "    dft = df.loc[(df['Area'].between(i, i + 1)) & (df['VE / VF'] <= 10)]\n",
    "    dft['Area (km2)'] = str(i) + '-' + str(i + 1)\n",
    "    dfr = pd.concat([dfr, dft])\n",
    "ax = sns.violinplot(\n",
    "    x = dfr['Area (km2)'],\n",
    "    y = dfr['VE / VF'],\n",
    "    inner = 'box',\n",
    "    scale = 'count',\n",
    "#     inner = None\n",
    "#     ax = plt.subplot(1,1,(figsize = (10,10)))\n",
    ")\n",
    "ax.set_ylabel('Edasi & Lipovsky / Farinotti Volume Ratio')\n",
    "\n",
    "plt.axhline(y = 1.00, color = 'red', linestyle = '--')\n",
    "ax.set_title('Edasi & Lipovsky / Farinotti Volume Ratio and Glacier Area')\n",
    "# plt.savefig('figs/violin/area.svg')"
   ]
  },
  {
   "cell_type": "code",
   "execution_count": null,
   "id": "e55061ef",
   "metadata": {},
   "outputs": [],
   "source": [
    "dfr = pd.DataFrame()\n",
    "for i in range(0, 10000, 1000):\n",
    "    dft = df.loc[(df['Lmax'].between(i, i + 1000)) & (df['VE / VF'] <= 10)]\n",
    "    dft['Maximum Length (m)'] = str(i) + '-' + str(i + 1000)\n",
    "    dfr = pd.concat([dfr, dft])\n",
    "ax = sns.violinplot(\n",
    "    x = dfr['Maximum Length (m)'],\n",
    "    y = dfr['VE / VF'],\n",
    "    scale = 'count',\n",
    "    inner = 'box'\n",
    "#     ax = plt.subplot(1,1,(figsize = (10,10)))\n",
    ")\n",
    "plt.xticks(rotation = 25)\n",
    "ax.set_title('Edasi & Lipovsky / Farinotti Volume Ratio and Glacier Maximum Length')\n",
    "ax.set_ylabel('Edasi & Lipovsky / Farinotti Volume Ratio')\n",
    "\n",
    "plt.axhline(y = 1.00, color = 'red', linestyle = '--')\n",
    "# ax.set_title('VE / VF against Lmax (m)')"
   ]
  },
  {
   "cell_type": "code",
   "execution_count": null,
   "id": "be8ca176",
   "metadata": {},
   "outputs": [],
   "source": [
    "dfr = pd.DataFrame()\n",
    "for i in range(0, 1000, 100):\n",
    "    dft = df.loc[(df['Lmax'].between(i, i + 100)) & (df['VE / VF'] <= 10)]\n",
    "    dft['Maximum Length (m)'] = str(i) + '-' + str(i + 100)\n",
    "    dfr = pd.concat([dfr, dft])\n",
    "ax = sns.violinplot(\n",
    "    x = dfr['Maximum Length (m)'],\n",
    "    y = dfr['VE / VF'],\n",
    "    scale = 'count',\n",
    "    inner = 'box'\n",
    "#     ax = plt.subplot(1,1,(figsize = (10,10)))\n",
    ")\n",
    "plt.xticks(rotation = 25)\n",
    "\n",
    "ax.set_title('Edasi & Lipovsky / Farinotti Volume Ratio and Glacier Maximum Length')\n",
    "ax.set_ylabel('Edasi & Lipovsky / Farinotti Volume Ratio')\n",
    "plt.axhline(y = 1.00, color = 'red', linestyle = '--')\n",
    "# ax.set_title('VE / VF against Lmax (m)')"
   ]
  },
  {
   "cell_type": "code",
   "execution_count": null,
   "id": "2bda3bae",
   "metadata": {},
   "outputs": [],
   "source": [
    "dfr = pd.DataFrame()\n",
    "for i in range(0, 6000, 1000):\n",
    "    dft = df.loc[(df['Zmin'].between(i, i + 1000)) & (df['VE / VF'] <= 10)]\n",
    "    dft['Zmin (m)'] = str(i) + '-' + str(i + 1000)\n",
    "    dfr = pd.concat([dfr, dft])\n",
    "ax = sns.violinplot(\n",
    "    x = dfr['Zmin (m)'],\n",
    "    y = dfr['VE / VF'],\n",
    "    scale = 'count',\n",
    "    \n",
    "#     ax = plt.subplot(1,1,(figsize = (10,10)))\n",
    ")\n",
    "plt.axhline(y = 1.00, color = 'red', linestyle = '--')\n",
    "ax.set_title('VE / VF against Zmin')\n",
    "ax.set_title('Edasi & Lipovsky / Farinotti Volume Ratio and Glacier Minimum Elevation')\n",
    "ax.set_ylabel('Edasi & Lipovsky / Farinotti Volume Ratio')\n",
    "ax.set_xlabel('Minimum Elevation (m)')"
   ]
  },
  {
   "cell_type": "code",
   "execution_count": null,
   "id": "c2e1d217",
   "metadata": {},
   "outputs": [],
   "source": [
    "dfr = pd.DataFrame()\n",
    "for i in range(0, 6000, 1000):\n",
    "    dft = df.loc[(df['Zmed'].between(i, i + 1000)) & (df['VE / VF'] <= 10)]\n",
    "    dft['Zmed (m)'] = str(i) + '-' + str(i + 1000)\n",
    "    dfr = pd.concat([dfr, dft])\n",
    "ax = sns.violinplot(\n",
    "    x = dfr['Zmed (m)'],\n",
    "    y = dfr['VE / VF'],\n",
    "    scale = 'count'\n",
    "#     ax = plt.subplot(1,1,(figsize = (10,10)))\n",
    ")\n",
    "plt.axhline(y = 1.00, color = 'red', linestyle = '--')\n",
    "ax.set_title('VE / VF against Zmed')\n",
    "\n",
    "ax.set_title('VE / VF against Zmin')\n",
    "ax.set_title('Edasi & Lipovsky / Farinotti Volume Ratio and Glacier Median Elevation')\n",
    "ax.set_ylabel('Edasi & Lipovsky / Farinotti Volume Ratio')\n",
    "ax.set_xlabel('Median Elevation (m)')"
   ]
  },
  {
   "cell_type": "code",
   "execution_count": null,
   "id": "541c1582",
   "metadata": {},
   "outputs": [],
   "source": [
    "dfr = pd.DataFrame()\n",
    "for i in range(0, 6000, 1000):\n",
    "    dft = df.loc[(df['Zmax'].between(i, i + 1000)) & (df['VE / VF'] <= 10)]\n",
    "    dft['Zmax (m)'] = str(i) + '-' + str(i + 1000)\n",
    "    dfr = pd.concat([dfr, dft])\n",
    "ax = sns.violinplot(\n",
    "    x = dfr['Zmax (m)'],\n",
    "    y = dfr['VE / VF'],\n",
    "    scale = 'count'\n",
    "#     ax = plt.subplot(1,1,(figsize = (10,10)))\n",
    ")\n",
    "plt.axhline(y = 1.00, color = 'red', linestyle = '--')\n",
    "ax.set_title('VE / VF against Zmax')\n",
    "\n",
    "ax.set_title('VE / VF against Zmin')\n",
    "ax.set_title('Edasi & Lipovsky / Farinotti Volume Ratio and Glacier Maximum Elevation')\n",
    "ax.set_ylabel('Edasi & Lipovsky / Farinotti Volume Ratio')\n",
    "ax.set_xlabel('Maximum Elevation (m)')"
   ]
  },
  {
   "cell_type": "code",
   "execution_count": null,
   "id": "131c2936",
   "metadata": {},
   "outputs": [],
   "source": [
    "dfr = pd.DataFrame()\n",
    "for i in range(-90, 120, 20):\n",
    "    dft = df.loc[(df['CenLat'].between(i, i + 20)) & (df['VE / VF'] <= 10)]\n",
    "    dft['Latitude (degrees)'] = str(i) + '-' + str(i + 10)\n",
    "    dfr = pd.concat([dfr, dft])\n",
    "ax = sns.violinplot(\n",
    "    x = dfr['Latitude (degrees)'],\n",
    "    y = dfr['VE / VF'],\n",
    "    scale = 'count'\n",
    "#     ax = plt.subplot(1,1,(figsize = (10,10)))\n",
    ")\n",
    "plt.axhline(y = 1.00, color = 'red', linestyle = '--')\n",
    "ax.set_title('VE / VF against Cent Lat')\n",
    "\n",
    "ax.set_title('VE / VF against Zmin')\n",
    "ax.set_title('Edasi & Lipovsky / Farinotti Volume Ratio and Glacier Centroid Latitude')\n",
    "ax.set_ylabel('Edasi & Lipovsky / Farinotti Volume Ratio')\n",
    "ax.set_xlabel('Glacier Centroid Latitude (degrees)')"
   ]
  },
  {
   "cell_type": "code",
   "execution_count": null,
   "id": "cb5096ff",
   "metadata": {},
   "outputs": [],
   "source": [
    "dfr = pd.DataFrame()\n",
    "for i in range(-180, 150, 40):\n",
    "    dft = df.loc[(df['CenLon'].between(i, i + 40)) & (df['VE / VF'] <= 50)]\n",
    "    dft['Longitude (degrees)'] = str(i) + '-' + str(i + 50)\n",
    "    dfr = pd.concat([dfr, dft])\n",
    "    print(str(i) + ' ' + str(len(dft)))\n",
    "ax = sns.violinplot(\n",
    "    x = dfr['Longitude (degrees)'],\n",
    "    y = dfr['VE / VF'],\n",
    "    scale = 'count'\n",
    "#     ax = plt.subplot(1,1,(figsize = (10,10)))\n",
    ")\n",
    "plt.axhline(y = 1.00, color = 'red', linestyle = '--')\n",
    "ax.set_title('VE / VF against Cent Lon')\n",
    "\n",
    "ax.set_title('VE / VF against Zmin')\n",
    "ax.set_title('Edasi & Lipovsky / Farinotti Volume Ratio and Glacier Centroid Longitude')\n",
    "ax.set_ylabel('Edasi & Lipovsky / Farinotti Volume Ratio')\n",
    "ax.set_xlabel('Glacer Centroid Longitude (degrees)')"
   ]
  },
  {
   "cell_type": "code",
   "execution_count": null,
   "id": "e094ba99",
   "metadata": {},
   "outputs": [],
   "source": [
    "df[df['CenLon'] > 180]"
   ]
  },
  {
   "cell_type": "code",
   "execution_count": null,
   "id": "4a9a1a3b",
   "metadata": {},
   "outputs": [],
   "source": []
  }
 ],
 "metadata": {
  "kernelspec": {
   "display_name": "Python 3 (ipykernel)",
   "language": "python",
   "name": "python3"
  },
  "language_info": {
   "codemirror_mode": {
    "name": "ipython",
    "version": 3
   },
   "file_extension": ".py",
   "mimetype": "text/x-python",
   "name": "python",
   "nbconvert_exporter": "python",
   "pygments_lexer": "ipython3",
   "version": "3.7.11"
  },
  "varInspector": {
   "cols": {
    "lenName": 16,
    "lenType": 16,
    "lenVar": 40
   },
   "kernels_config": {
    "python": {
     "delete_cmd_postfix": "",
     "delete_cmd_prefix": "del ",
     "library": "var_list.py",
     "varRefreshCmd": "print(var_dic_list())"
    },
    "r": {
     "delete_cmd_postfix": ") ",
     "delete_cmd_prefix": "rm(",
     "library": "var_list.r",
     "varRefreshCmd": "cat(var_dic_list()) "
    }
   },
   "types_to_exclude": [
    "module",
    "function",
    "builtin_function_or_method",
    "instance",
    "_Feature"
   ],
   "window_display": false
  }
 },
 "nbformat": 4,
 "nbformat_minor": 5
}
