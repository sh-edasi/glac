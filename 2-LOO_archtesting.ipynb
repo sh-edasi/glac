{
 "cells": [
  {
   "cell_type": "markdown",
   "id": "563ee1f5",
   "metadata": {},
   "source": [
    "#### Import dependancies and set environment determinism"
   ]
  },
  {
   "cell_type": "code",
   "execution_count": 1,
   "id": "7f4b08c2",
   "metadata": {},
   "outputs": [
    {
     "name": "stderr",
     "output_type": "stream",
     "text": [
      "2024-04-22 08:27:24.135909: W tensorflow/stream_executor/platform/default/dso_loader.cc:64] Could not load dynamic library 'libcudart.so.11.0'; dlerror: libcudart.so.11.0: cannot open shared object file: No such file or directory\n"
     ]
    },
    {
     "name": "stdout",
     "output_type": "stream",
     "text": [
      "378\n"
     ]
    }
   ],
   "source": [
    "import os\n",
    "os.environ['TF_CPP_MIN_LOG_LEVEL'] = '1'\n",
    "import tensorflow as tf\n",
    "#     tf.get_logger().setLevel('ERROR')\n",
    "tf.compat.v1.logging.set_verbosity(\n",
    "    0\n",
    ")\n",
    "import numpy as np\n",
    "import random\n",
    "import pandas as pd\n",
    "\n",
    "\n",
    "SEED = 378\n",
    "# SEED = 123\n",
    "print(SEED)\n",
    "def set_seeds(seed=SEED):\n",
    "    os.environ['PYTHONHASHSEED'] = str(seed)\n",
    "    random.seed(seed)\n",
    "    tf.random.set_seed(seed)\n",
    "    np.random.seed(seed)\n",
    "\n",
    "def set_global_determinism(seed=SEED):\n",
    "    set_seeds(seed=seed)\n",
    "\n",
    "    os.environ['TF_DETERMINISTIC_OPS'] = '1'\n",
    "    os.environ['TF_CUDNN_DETERMINISTIC'] = '1'\n",
    "\n",
    "    tf.config.threading.set_inter_op_parallelism_threads(1)\n",
    "    tf.config.threading.set_intra_op_parallelism_threads(1)\n",
    "\n",
    "# Call the above function with seed value\n",
    "set_global_determinism(seed=SEED)"
   ]
  },
  {
   "cell_type": "code",
   "execution_count": 2,
   "id": "c2ec4248",
   "metadata": {},
   "outputs": [],
   "source": [
    "import glacierml as gl\n",
    "from tensorflow import keras\n",
    "from tensorflow.keras import layers\n",
    "from tensorflow.keras.layers.experimental import preprocessing\n",
    "from tqdm import tqdm\n",
    "\n",
    "import absl.logging\n",
    "absl.logging.set_verbosity(absl.logging.ERROR)"
   ]
  },
  {
   "cell_type": "markdown",
   "id": "e94f8a64",
   "metadata": {},
   "source": [
    "#### define SNN"
   ]
  },
  {
   "cell_type": "code",
   "execution_count": 3,
   "id": "ebfc7f5b",
   "metadata": {},
   "outputs": [],
   "source": [
    "def run_model(model_path,l1,l2,loss):\n",
    "            \n",
    "    normalizer = preprocessing.Normalization(axis=-1)\n",
    "    normalizer.adapt(np.array(trfeat))\n",
    "\n",
    "    model = gl.build_dnn_model(\n",
    "        normalizer, learning_rate = 0.01, \n",
    "        layer_1 = l1, layer_2 = l2,loss = loss\n",
    "    )\n",
    "\n",
    "    model_history = model.fit(\n",
    "        trfeat,\n",
    "        trlabs,\n",
    "        validation_split=0.2,\n",
    "        callbacks = [callback],\n",
    "        verbose=0, \n",
    "        epochs=500\n",
    "    )\n",
    "    model_filename = os.path.join(model_path)\n",
    "    model.save(model_filename)\n",
    "    return model"
   ]
  },
  {
   "cell_type": "markdown",
   "id": "60d42863",
   "metadata": {},
   "source": [
    "#### Create callback function to quit training if loss does not improve after 10 iterations"
   ]
  },
  {
   "cell_type": "code",
   "execution_count": 4,
   "id": "b6765b85",
   "metadata": {},
   "outputs": [],
   "source": [
    "callback = tf.keras.callbacks.EarlyStopping(\n",
    "    monitor = 'val_loss',\n",
    "    min_delta = 0.001,\n",
    "    patience = 10,\n",
    "    verbose = 0,\n",
    "    mode = 'auto',\n",
    "    baseline = None,\n",
    "    restore_best_weights = True\n",
    ")"
   ]
  },
  {
   "cell_type": "code",
   "execution_count": 5,
   "id": "1474d69a-a5ef-49f7-9151-cfa6960ea67d",
   "metadata": {},
   "outputs": [],
   "source": [
    "home_path = '/home/simonhans/glacierml'\n",
    "[\n",
    "        data_path, RGI_path, glathida_path, \n",
    "        coregistration_testing_path, \n",
    "        arch_test_path, LOO_path\n",
    "] = gl.set_paths(home_path)"
   ]
  },
  {
   "cell_type": "markdown",
   "id": "86d66d34",
   "metadata": {},
   "source": [
    "#### Define path to save arch test models"
   ]
  },
  {
   "cell_type": "code",
   "execution_count": 6,
   "id": "c8b8f66b",
   "metadata": {
    "scrolled": true
   },
   "outputs": [
    {
     "name": "stdout",
     "output_type": "stream",
     "text": [
      "/home/simonhans/glacierml/models/arch_testing/mse/3-2\n"
     ]
    },
    {
     "name": "stderr",
     "output_type": "stream",
     "text": [
      "2024-04-22 08:27:26.790943: W tensorflow/stream_executor/platform/default/dso_loader.cc:64] Could not load dynamic library 'libcuda.so.1'; dlerror: libcuda.so.1: cannot open shared object file: No such file or directory\n",
      "2024-04-22 08:27:26.790966: W tensorflow/stream_executor/cuda/cuda_driver.cc:269] failed call to cuInit: UNKNOWN ERROR (303)\n",
      "2024-04-22 08:27:29.909163: W tensorflow/python/util/util.cc:368] Sets are not currently considered sequences, but this may change in the future, so consider avoiding using them.\n"
     ]
    },
    {
     "name": "stdout",
     "output_type": "stream",
     "text": [
      "/home/simonhans/glacierml/models/arch_testing/mse/4-2\n",
      "/home/simonhans/glacierml/models/arch_testing/mse/5-2\n",
      "/home/simonhans/glacierml/models/arch_testing/mse/6-2\n",
      "/home/simonhans/glacierml/models/arch_testing/mse/7-2\n",
      "/home/simonhans/glacierml/models/arch_testing/mse/4-3\n",
      "/home/simonhans/glacierml/models/arch_testing/mse/5-3\n",
      "/home/simonhans/glacierml/models/arch_testing/mse/6-3\n",
      "/home/simonhans/glacierml/models/arch_testing/mse/7-3\n",
      "/home/simonhans/glacierml/models/arch_testing/mse/5-4\n",
      "/home/simonhans/glacierml/models/arch_testing/mse/6-4\n",
      "/home/simonhans/glacierml/models/arch_testing/mse/7-4\n",
      "/home/simonhans/glacierml/models/arch_testing/mse/6-5\n",
      "/home/simonhans/glacierml/models/arch_testing/mse/7-5\n",
      "/home/simonhans/glacierml/models/arch_testing/mae/3-2\n",
      "/home/simonhans/glacierml/models/arch_testing/mae/4-2\n",
      "/home/simonhans/glacierml/models/arch_testing/mae/5-2\n",
      "/home/simonhans/glacierml/models/arch_testing/mae/6-2\n",
      "/home/simonhans/glacierml/models/arch_testing/mae/7-2\n",
      "/home/simonhans/glacierml/models/arch_testing/mae/4-3\n",
      "/home/simonhans/glacierml/models/arch_testing/mae/5-3\n",
      "/home/simonhans/glacierml/models/arch_testing/mae/6-3\n",
      "/home/simonhans/glacierml/models/arch_testing/mae/7-3\n",
      "/home/simonhans/glacierml/models/arch_testing/mae/5-4\n",
      "/home/simonhans/glacierml/models/arch_testing/mae/6-4\n",
      "/home/simonhans/glacierml/models/arch_testing/mae/7-4\n",
      "/home/simonhans/glacierml/models/arch_testing/mae/6-5\n",
      "/home/simonhans/glacierml/models/arch_testing/mae/7-5\n",
      "all done\n"
     ]
    }
   ],
   "source": [
    "l1_list = [3,4,5,6,7]\n",
    "l2_list = [2,3,4,5]\n",
    "loss_list = ['mse','mae']\n",
    "df = gl.coregister_data(data_path,'4')\n",
    "df = df[[\n",
    "    'RGIId','CenLon','CenLat','Area','Zmin','Zmed','Zmax',\n",
    "    'Slope','Aspect','Lmax','Thickness'\n",
    "]]\n",
    "df = df.sample(frac = 1,random_state = 0)\n",
    "df = df.reset_index().drop('index', axis = 1)\n",
    "\n",
    "dft = df.copy()\n",
    "\n",
    "trfeat, tefeat, trlabs, telabs = gl.split_data(df)\n",
    "for loss in loss_list:\n",
    "    for l2 in l2_list:\n",
    "        for l1 in l1_list:\n",
    "            if l2 >= l1:\n",
    "                continue\n",
    "            else:\n",
    "\n",
    "                model = {}\n",
    "                model_history = {}\n",
    "                normalizer = {}\n",
    "#                 path = '/data/fast1/glacierml/models/LOO_loss_testing/'\n",
    "                model_path = os.path.join(\n",
    "                   arch_test_path ,loss,str(l1)+'-'+str(l2)\n",
    "                )\n",
    "                res_dir = os.path.join(arch_test_path, loss,'final_results.pkl')\n",
    "                if os.path.isdir(res_dir) == True:\n",
    "                    continue\n",
    "\n",
    "                isdir = model_path\n",
    "                if os.path.isdir(isdir) == True:\n",
    "                    continue\n",
    "                if os.path.isdir(isdir) == False:\n",
    "                    print(model_path)\n",
    "                    set_global_determinism(seed=SEED)\n",
    "                    run_model(model_path,l1,l2,loss)\n",
    "print('all done')"
   ]
  },
  {
   "cell_type": "code",
   "execution_count": null,
   "id": "32bbf0a4",
   "metadata": {},
   "outputs": [],
   "source": []
  },
  {
   "cell_type": "code",
   "execution_count": null,
   "id": "77f03fb3-ef7c-47ca-bf82-d8b6fc2b4af5",
   "metadata": {},
   "outputs": [],
   "source": []
  }
 ],
 "metadata": {
  "kernelspec": {
   "display_name": "Python3.7.11",
   "language": "python",
   "name": "prethicktor"
  },
  "language_info": {
   "codemirror_mode": {
    "name": "ipython",
    "version": 3
   },
   "file_extension": ".py",
   "mimetype": "text/x-python",
   "name": "python",
   "nbconvert_exporter": "python",
   "pygments_lexer": "ipython3",
   "version": "3.7.11"
  },
  "varInspector": {
   "cols": {
    "lenName": 16,
    "lenType": 16,
    "lenVar": 40
   },
   "kernels_config": {
    "python": {
     "delete_cmd_postfix": "",
     "delete_cmd_prefix": "del ",
     "library": "var_list.py",
     "varRefreshCmd": "print(var_dic_list())"
    },
    "r": {
     "delete_cmd_postfix": ") ",
     "delete_cmd_prefix": "rm(",
     "library": "var_list.r",
     "varRefreshCmd": "cat(var_dic_list()) "
    }
   },
   "types_to_exclude": [
    "module",
    "function",
    "builtin_function_or_method",
    "instance",
    "_Feature"
   ],
   "window_display": false
  }
 },
 "nbformat": 4,
 "nbformat_minor": 5
}
