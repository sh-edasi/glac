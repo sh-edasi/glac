{
 "cells": [
  {
   "cell_type": "code",
   "execution_count": 1,
   "id": "b92ec89f",
   "metadata": {},
   "outputs": [],
   "source": [
    "import pandas as pd\n",
    "import numpy as np\n",
    "import tensorflow as tf\n",
    "import matplotlib.pyplot as plt\n",
    "from tensorflow import keras\n",
    "from tensorflow.keras import layers\n",
    "from tensorflow.keras.layers.experimental import preprocessing\n",
    "from tqdm import tqdm"
   ]
  },
  {
   "cell_type": "code",
   "execution_count": 2,
   "id": "a2c252eb",
   "metadata": {},
   "outputs": [
    {
     "name": "stderr",
     "output_type": "stream",
     "text": [
      "/home/sa42/miniconda3/envs/python-cartopy-f/lib/python3.7/site-packages/IPython/core/interactiveshell.py:3444: DtypeWarning: Columns (2,4,5,12) have mixed types.Specify dtype option on import or set low_memory=False.\n",
      "  exec(code_obj, self.user_global_ns, self.user_ns)\n"
     ]
    }
   ],
   "source": [
    "T_dataset = pd.read_csv(\"/home/sa42/data/glac/T_models/T.csv\")\n",
    "TT_dataset = pd.read_csv(\"/home/sa42/data/glac/T_models/TT.csv\")\n",
    "TTT_dataset = pd.read_csv(\"/home/sa42/data/glac/T_models/TTT.csv\")\n",
    "\n",
    "T_dataset = T_dataset.drop([\"GLACIER_DB\",\n",
    "                            \"POLITICAL_UNIT\",\n",
    "                            \"GLACIER_ID\",\n",
    "                            \"GLACIER_NAME\",\n",
    "                            \"NUMBER_OF_SURVEY_POINTS\",\n",
    "                            \"NUMBER_OF_SURVEY_PROFILES\",\n",
    "                            \"TOTAL_LENGTH_OF_SURVEY_PROFILES\",\n",
    "                            \"INTERPOLATION_METHOD\",\n",
    "                            \"INVESTIGATOR\",\n",
    "                            \"SPONSORING_AGENCY\",\n",
    "                            \"ELEVATION_DATE\",\n",
    "                            \"SURVEY_METHOD_DETAILS\",\n",
    "                            \"SURVEY_METHOD\",\n",
    "                            \"SURVEY_DATE\",\n",
    "                            \"MEAN_THICKNESS\",\n",
    "                            \"AREA\",\n",
    "                            \"MEAN_THICKNESS_UNCERTAINTY\",\n",
    "                            \"MAXIMUM_THICKNESS\",\n",
    "                            \"MAX_THICKNESS_UNCERTAINTY\",\n",
    "                            \"DATA_FLAG\", \n",
    "                            \"REMARKS\",\n",
    "                            \"REFERENCES\",\n",
    "                            \"MEAN_SLOPE\"\n",
    "                           ], axis=1)\n",
    "T_dataset = T_dataset.dropna()\n",
    "\n",
    "TT_dataset = TT_dataset.drop([\"POLITICAL_UNIT\",\n",
    "                              \"GLACIER_NAME\",\n",
    "                              \"SURVEY_DATE\",\n",
    "                              \"MEAN_THICKNESS_UNCERTAINTY\",\n",
    "                              \"MAXIMUM_THICKNESS\",\n",
    "                              \"MAX_THICKNESS_UNCERTAINTY\",\n",
    "                              \"DATA_FLAG\",\n",
    "                              \"REMARKS\"],\n",
    "                             axis=1)\n",
    "TT_dataset = TT_dataset.dropna()\n",
    "\n",
    "TTT_dataset = TTT_dataset.drop([\"POLITICAL_UNIT\",\n",
    "                                \"GLACIER_NAME\",\n",
    "                                \"SURVEY_DATE\",\n",
    "                                \"PROFILE_ID\",\n",
    "                                \"THICKNESS_UNCERTAINTY\",\n",
    "                                \"DATA_FLAG\",\n",
    "                                \"REMARKS\",\n",
    "                                \"POINT_ID\"\n",
    "                               ], axis=1)\n",
    "TTT_dataset = TTT_dataset.dropna()\n",
    "\n",
    "T = pd.DataFrame(T_dataset)\n",
    "T.rename(columns = {\"LAT\":\"LAT_CENT\",\n",
    "                    \"LON\":\"LON_CENT\",\n",
    "                    \"AREA\":\"T_AREA\"},\n",
    "         inplace = True)\n",
    "\n",
    "TT = pd.DataFrame(TT_dataset)\n",
    "TT.rename(columns = {\"LOWER_BOUND\":\"TT_LOWER_BOUND\",\n",
    "                     \"UPPER_BOUND\":\"TT_UPPER_BOUND\",\n",
    "                     \"AREA\":\"TT_AREA\",\n",
    "                     \"MEAN_SLOPE\":\"TT_MEAN_SLOPE\",\n",
    "#                      \"MEAN_THICKNESS\":\"TT_MEAN_THICKNESS\"\n",
    "                    },\n",
    "          inplace = True)\n",
    "\n",
    "TTT = pd.DataFrame(TTT_dataset)\n",
    "TTT.rename(columns = {\"ELEVATION\":\"POINT_ELEVATION\",\n",
    "                      \"THICKNESS\":\"POINT_THICKNESS\"},\n",
    "           inplace = True)\n",
    "\n",
    "TTT_plu = pd.merge(T, TTT, how=\"inner\", on=[\"GlaThiDa_ID\"])\n",
    "\n",
    "TTT_plus = pd.merge(TT,TTT_plu, how=\"inner\", on=[\"GlaThiDa_ID\"])\n",
    "TTT_plus.dropna()\n",
    "\n",
    "TTT_plus = TTT_plus.drop(\"GlaThiDa_ID\",axis=1)\n",
    "# TTT_plus = TTT_plus.drop(\"TT_MEAN_THICKNESS\",axis=1)\n",
    "TTT_plus = TTT_plus.drop(\"POINT_LAT\",axis=1)\n",
    "TTT_plus = TTT_plus.drop(\"POINT_LON\",axis=1)\n",
    "# TTT_plus = TTT_plus.drop(\"TT_LOWER_BOUND\",axis=1)\n",
    "# TTT_plus = TTT_plus.drop(\"TT_UPPER_BOUND\",axis=1)\n",
    "TTT_plus = TTT_plus.drop(\"POINT_ELEVATION\",axis=1)\n",
    "TTT_plus = TTT_plus.drop(\"POINT_THICKNESS\",axis=1)\n",
    "TTT_plus = TTT_plus.drop(\"LAT_CENT\",axis=1)\n",
    "TTT_plus = TTT_plus.drop(\"LON_CENT\",axis=1)\n",
    "\n",
    "t = TTT_plus.index[TTT_plus[\"MEAN_THICKNESS\"]>0]\n",
    "TTT_plus = TTT_plus.loc[t]"
   ]
  },
  {
   "cell_type": "code",
   "execution_count": 3,
   "id": "4c4b8e67",
   "metadata": {},
   "outputs": [],
   "source": [
    "#split the dataset into test and train data sets.\n",
    "train_dataset = TTT_plus.sample(frac=0.8, random_state=0)\n",
    "test_dataset = TTT_plus.drop(train_dataset.index)\n",
    "\n",
    "#separate out features - what will be trained to predict desired attribute\n",
    "train_features = train_dataset.copy()\n",
    "test_features = test_dataset.copy()\n",
    "\n",
    "#define label - attribute training to be picked\n",
    "train_labels = train_features.pop(\"MEAN_THICKNESS\")\n",
    "test_labels = test_features.pop(\"MEAN_THICKNESS\")"
   ]
  },
  {
   "cell_type": "code",
   "execution_count": 4,
   "id": "da754180",
   "metadata": {},
   "outputs": [
    {
     "name": "stderr",
     "output_type": "stream",
     "text": [
      "2022-03-15 16:12:22.529627: E tensorflow/stream_executor/cuda/cuda_driver.cc:271] failed call to cuInit: CUDA_ERROR_NO_DEVICE: no CUDA-capable device is detected\n",
      "2022-03-15 16:12:22.529668: I tensorflow/stream_executor/cuda/cuda_diagnostics.cc:156] kernel driver does not appear to be running on this host (sermeq.ess.washington.edu): /proc/driver/nvidia/version does not exist\n",
      "2022-03-15 16:12:22.530114: I tensorflow/core/platform/cpu_feature_guard.cc:151] This TensorFlow binary is optimized with oneAPI Deep Neural Network Library (oneDNN) to use the following CPU instructions in performance-critical operations:  AVX2 AVX512F FMA\n",
      "To enable them in other operations, rebuild TensorFlow with the appropriate compiler flags.\n"
     ]
    }
   ],
   "source": [
    "#establish variables and normalization layers\n",
    "variable_list = {\n",
    "#                  'TT_LOWER_BOUND',\n",
    "#                  'TT_UPPER_BOUND',\n",
    "                 'TT_AREA',\n",
    "                 'TT_MEAN_SLOPE',\n",
    "#                  'LAT_CENT',\n",
    "#                  'LON_CENT'\n",
    "                 }\n",
    "normalizer = {}\n",
    "for variable_name in variable_list:\n",
    "    normalizer[variable_name] = preprocessing.Normalization(input_shape=[1,], axis=None)\n",
    "    normalizer[variable_name].adapt(np.array(train_features[variable_name]))\n",
    "    \n",
    "normalizer['ALL'] = preprocessing.Normalization(axis=-1)\n",
    "normalizer['ALL'].adapt(np.array(train_features))"
   ]
  },
  {
   "cell_type": "code",
   "execution_count": 5,
   "id": "988eee18",
   "metadata": {},
   "outputs": [],
   "source": [
    "def build_dnn_model(norm):\n",
    "    model = keras.Sequential([\n",
    "              norm,\n",
    "              layers.Dense(64, activation='relu'),\n",
    "              layers.Dense(64, activation='relu'),\n",
    "              layers.Dense(1) ])\n",
    "\n",
    "    model.compile(loss='mean_absolute_error',\n",
    "                optimizer=tf.keras.optimizers.Adam(0.001))\n",
    "    \n",
    "    return model\n",
    "\n",
    "def dnn_test_results(feature_name):\n",
    "    dnn_test_results[feature_name] = dnn_model.evaluate(\n",
    "        test_features[feature_name],\n",
    "        test_labels, verbose=0)\n",
    "    \n",
    "def plot_loss(history):\n",
    "#     plt.subplots(figsize=(10,5))\n",
    "    plt.plot(history.history['loss'], label='loss')\n",
    "    plt.plot(history.history['val_loss'], label='val_loss')\n",
    "    #   plt.ylim([0, 10])\n",
    "    plt.xlabel('Epoch')\n",
    "    plt.ylabel('Error')\n",
    "    plt.legend()\n",
    "    plt.grid(True)\n",
    "    "
   ]
  },
  {
   "cell_type": "code",
   "execution_count": 6,
   "id": "0508be22",
   "metadata": {},
   "outputs": [],
   "source": [
    "dnn_test_results = {}\n",
    "dnn_model = {}\n",
    "dnn_history = {}\n",
    "dnn_results = {}\n",
    "dnn_history_full = {}"
   ]
  },
  {
   "cell_type": "code",
   "execution_count": 7,
   "id": "8ce69e2a",
   "metadata": {},
   "outputs": [],
   "source": [
    "dnn_full_model = build_dnn_model(normalizer['ALL'])"
   ]
  },
  {
   "cell_type": "code",
   "execution_count": 8,
   "id": "3d8ab093",
   "metadata": {},
   "outputs": [
    {
     "name": "stdout",
     "output_type": "stream",
     "text": [
      "CPU times: user 39min 16s, sys: 10min 28s, total: 49min 45s\n",
      "Wall time: 4min 56s\n"
     ]
    }
   ],
   "source": [
    "%%time\n",
    "dnn_history_full = dnn_full_model.fit(\n",
    "    train_features, train_labels,\n",
    "    validation_split=0.2,\n",
    "    verbose=0, \n",
    "    epochs=100)"
   ]
  },
  {
   "cell_type": "code",
   "execution_count": 9,
   "id": "e3819c05",
   "metadata": {},
   "outputs": [
    {
     "data": {
      "image/png": "[encoded data removed]",
      "text/plain": [
       "<Figure size 432x288 with 1 Axes>"
      ]
     },
     "metadata": {
      "needs_background": "light"
     },
     "output_type": "display_data"
    }
   ],
   "source": [
    "plot_loss(dnn_history_full)"
   ]
  },
  {
   "cell_type": "code",
   "execution_count": 10,
   "id": "602eb2f1",
   "metadata": {},
   "outputs": [
    {
     "data": {
      "text/plain": [
       "{'dnn_full_model': 1.3750145435333252}"
      ]
     },
     "execution_count": 10,
     "metadata": {},
     "output_type": "execute_result"
    }
   ],
   "source": [
    "dnn_test_results[\"dnn_full_model\"] = dnn_full_model.evaluate(\n",
    "    test_features,\n",
    "    test_labels, verbose=0)\n",
    "\n",
    "dnn_test_results"
   ]
  },
  {
   "cell_type": "code",
   "execution_count": 11,
   "id": "c58f4f44",
   "metadata": {},
   "outputs": [
    {
     "data": {
      "text/plain": [
       "Text(0, 0.5, 'Model Thickness(m)')"
      ]
     },
     "execution_count": 11,
     "metadata": {},
     "output_type": "execute_result"
    },
    {
     "data": {
      "image/png": "[encoded data removed]",
      "text/plain": [
       "<Figure size 432x288 with 1 Axes>"
      ]
     },
     "metadata": {
      "needs_background": "light"
     },
     "output_type": "display_data"
    }
   ],
   "source": [
    "y = dnn_full_model.predict(test_features)\n",
    "plt.plot(test_labels,y,'.')\n",
    "plt.plot((0,180),(0,180),'-')\n",
    "plt.xlabel('True Thickness (m)')\n",
    "plt.ylabel('Model Thickness(m)')"
   ]
  },
  {
   "cell_type": "code",
   "execution_count": 12,
   "id": "270021ef",
   "metadata": {},
   "outputs": [
    {
     "data": {
      "text/plain": [
       "array([[14.071076],\n",
       "       [14.071076],\n",
       "       [14.071076],\n",
       "       ...,\n",
       "       [34.809296],\n",
       "       [34.809296],\n",
       "       [34.809296]], dtype=float32)"
      ]
     },
     "execution_count": 12,
     "metadata": {},
     "output_type": "execute_result"
    }
   ],
   "source": [
    "y"
   ]
  },
  {
   "cell_type": "code",
   "execution_count": 13,
   "id": "e17e6dd3",
   "metadata": {},
   "outputs": [
    {
     "data": {
      "text/html": [
       "<div>\n",
       "<style scoped>\n",
       "    .dataframe tbody tr th:only-of-type {\n",
       "        vertical-align: middle;\n",
       "    }\n",
       "\n",
       "    .dataframe tbody tr th {\n",
       "        vertical-align: top;\n",
       "    }\n",
       "\n",
       "    .dataframe thead th {\n",
       "        text-align: right;\n",
       "    }\n",
       "</style>\n",
       "<table border=\"1\" class=\"dataframe\">\n",
       "  <thead>\n",
       "    <tr style=\"text-align: right;\">\n",
       "      <th></th>\n",
       "      <th>TT_AREA</th>\n",
       "      <th>TT_LOWER_BOUND</th>\n",
       "      <th>TT_UPPER_BOUND</th>\n",
       "      <th>TT_MEAN_SLOPE</th>\n",
       "    </tr>\n",
       "  </thead>\n",
       "  <tbody>\n",
       "    <tr>\n",
       "      <th>0</th>\n",
       "      <td>0.360</td>\n",
       "      <td>1936</td>\n",
       "      <td>2725</td>\n",
       "      <td>42.0</td>\n",
       "    </tr>\n",
       "    <tr>\n",
       "      <th>1</th>\n",
       "      <td>0.558</td>\n",
       "      <td>1713</td>\n",
       "      <td>2144</td>\n",
       "      <td>16.0</td>\n",
       "    </tr>\n",
       "    <tr>\n",
       "      <th>2</th>\n",
       "      <td>1.685</td>\n",
       "      <td>1609</td>\n",
       "      <td>2182</td>\n",
       "      <td>18.0</td>\n",
       "    </tr>\n",
       "    <tr>\n",
       "      <th>3</th>\n",
       "      <td>3.681</td>\n",
       "      <td>1273</td>\n",
       "      <td>2317</td>\n",
       "      <td>19.0</td>\n",
       "    </tr>\n",
       "    <tr>\n",
       "      <th>4</th>\n",
       "      <td>2.573</td>\n",
       "      <td>1494</td>\n",
       "      <td>2317</td>\n",
       "      <td>16.0</td>\n",
       "    </tr>\n",
       "    <tr>\n",
       "      <th>...</th>\n",
       "      <td>...</td>\n",
       "      <td>...</td>\n",
       "      <td>...</td>\n",
       "      <td>...</td>\n",
       "    </tr>\n",
       "    <tr>\n",
       "      <th>27103</th>\n",
       "      <td>534.228</td>\n",
       "      <td>3</td>\n",
       "      <td>3238</td>\n",
       "      <td>10.0</td>\n",
       "    </tr>\n",
       "    <tr>\n",
       "      <th>27104</th>\n",
       "      <td>0.515</td>\n",
       "      <td>2448</td>\n",
       "      <td>3034</td>\n",
       "      <td>40.0</td>\n",
       "    </tr>\n",
       "    <tr>\n",
       "      <th>27105</th>\n",
       "      <td>3.564</td>\n",
       "      <td>980</td>\n",
       "      <td>1761</td>\n",
       "      <td>23.5</td>\n",
       "    </tr>\n",
       "    <tr>\n",
       "      <th>27106</th>\n",
       "      <td>1.414</td>\n",
       "      <td>1314</td>\n",
       "      <td>1823</td>\n",
       "      <td>27.1</td>\n",
       "    </tr>\n",
       "    <tr>\n",
       "      <th>27107</th>\n",
       "      <td>0.095</td>\n",
       "      <td>1495</td>\n",
       "      <td>1567</td>\n",
       "      <td>9.8</td>\n",
       "    </tr>\n",
       "  </tbody>\n",
       "</table>\n",
       "<p>27108 rows × 4 columns</p>\n",
       "</div>"
      ],
      "text/plain": [
       "       TT_AREA  TT_LOWER_BOUND  TT_UPPER_BOUND  TT_MEAN_SLOPE\n",
       "0        0.360            1936            2725           42.0\n",
       "1        0.558            1713            2144           16.0\n",
       "2        1.685            1609            2182           18.0\n",
       "3        3.681            1273            2317           19.0\n",
       "4        2.573            1494            2317           16.0\n",
       "...        ...             ...             ...            ...\n",
       "27103  534.228               3            3238           10.0\n",
       "27104    0.515            2448            3034           40.0\n",
       "27105    3.564             980            1761           23.5\n",
       "27106    1.414            1314            1823           27.1\n",
       "27107    0.095            1495            1567            9.8\n",
       "\n",
       "[27108 rows x 4 columns]"
      ]
     },
     "execution_count": 13,
     "metadata": {},
     "output_type": "execute_result"
    }
   ],
   "source": [
    "RGI = pd.read_csv(\"/home/sa42/data/glac/glims/glims_extra/dump2/01_rgi60_Alaska.csv\")\n",
    "RGI = RGI.drop(\"RGIId\", axis=1)\n",
    "RGI = RGI.drop(\"GLIMSId\", axis=1)\n",
    "RGI = RGI.drop(\"BgnDate\", axis=1)\n",
    "RGI = RGI.drop(\"EndDate\", axis=1)\n",
    "RGI = RGI.drop(\"O1Region\", axis=1)\n",
    "RGI = RGI.drop(\"O2Region\", axis=1)\n",
    "# RGI = RGI.drop(\"Zmin\", axis=1)\n",
    "RGI = RGI.drop(\"Zmed\", axis=1)\n",
    "# RGI = RGI.drop(\"Zmax\", axis=1)\n",
    "RGI = RGI.drop(\"Aspect\", axis=1)\n",
    "RGI = RGI.drop(\"Lmax\", axis=1)\n",
    "RGI = RGI.drop(\"Status\", axis=1)\n",
    "RGI = RGI.drop(\"Connect\", axis=1)\n",
    "RGI = RGI.drop(\"Form\", axis=1)\n",
    "RGI = RGI.drop(\"TermType\", axis=1)\n",
    "RGI = RGI.drop(\"Surging\", axis=1)\n",
    "RGI = RGI.drop(\"Linkages\", axis=1)\n",
    "RGI = RGI.drop(\"CenLon\", axis=1)\n",
    "RGI = RGI.drop(\"CenLat\", axis=1)\n",
    "RGI = RGI.drop(\"Name\", axis=1)\n",
    "# RGI = RGI.drop(\"Name\", axis=1)\n",
    "# RGI = RGI.drop(\"Name\", axis=1)\n",
    "\n",
    "RGI.rename(columns = {\n",
    "#                       \"CenLon\":\"LON_CENT\",\n",
    "#                       \"CenLat\":\"LAT_CENT\",\n",
    "                      \"Area\":\"TT_AREA\",\n",
    "                      \"Slope\":\"TT_MEAN_SLOPE\",\n",
    "                      \"Zmin\":\"TT_LOWER_BOUND\",\n",
    "                      \"Zmax\":\"TT_UPPER_BOUND\"\n",
    "                     },\n",
    "           inplace = True)\n",
    "RGI"
   ]
  },
  {
   "cell_type": "code",
   "execution_count": 14,
   "id": "cdd610f3",
   "metadata": {},
   "outputs": [],
   "source": [
    "normalizer['ALL'].adapt(np.array(RGI))\n",
    "y_alaska_test = dnn_full_model.predict(RGI)"
   ]
  },
  {
   "cell_type": "code",
   "execution_count": 15,
   "id": "b07047a3",
   "metadata": {},
   "outputs": [
    {
     "data": {
      "text/html": [
       "<div>\n",
       "<style scoped>\n",
       "    .dataframe tbody tr th:only-of-type {\n",
       "        vertical-align: middle;\n",
       "    }\n",
       "\n",
       "    .dataframe tbody tr th {\n",
       "        vertical-align: top;\n",
       "    }\n",
       "\n",
       "    .dataframe thead th {\n",
       "        text-align: right;\n",
       "    }\n",
       "</style>\n",
       "<table border=\"1\" class=\"dataframe\">\n",
       "  <thead>\n",
       "    <tr style=\"text-align: right;\">\n",
       "      <th></th>\n",
       "      <th>TT_AREA</th>\n",
       "      <th>TT_LOWER_BOUND</th>\n",
       "      <th>TT_UPPER_BOUND</th>\n",
       "      <th>TT_MEAN_SLOPE</th>\n",
       "      <th>Prethicktions</th>\n",
       "    </tr>\n",
       "  </thead>\n",
       "  <tbody>\n",
       "    <tr>\n",
       "      <th>0</th>\n",
       "      <td>0.360</td>\n",
       "      <td>1936</td>\n",
       "      <td>2725</td>\n",
       "      <td>42.0</td>\n",
       "      <td>25037.027344</td>\n",
       "    </tr>\n",
       "    <tr>\n",
       "      <th>1</th>\n",
       "      <td>0.558</td>\n",
       "      <td>1713</td>\n",
       "      <td>2144</td>\n",
       "      <td>16.0</td>\n",
       "      <td>19543.234375</td>\n",
       "    </tr>\n",
       "    <tr>\n",
       "      <th>2</th>\n",
       "      <td>1.685</td>\n",
       "      <td>1609</td>\n",
       "      <td>2182</td>\n",
       "      <td>18.0</td>\n",
       "      <td>19897.935547</td>\n",
       "    </tr>\n",
       "    <tr>\n",
       "      <th>3</th>\n",
       "      <td>3.681</td>\n",
       "      <td>1273</td>\n",
       "      <td>2317</td>\n",
       "      <td>19.0</td>\n",
       "      <td>21127.009766</td>\n",
       "    </tr>\n",
       "    <tr>\n",
       "      <th>4</th>\n",
       "      <td>2.573</td>\n",
       "      <td>1494</td>\n",
       "      <td>2317</td>\n",
       "      <td>16.0</td>\n",
       "      <td>21122.546875</td>\n",
       "    </tr>\n",
       "    <tr>\n",
       "      <th>...</th>\n",
       "      <td>...</td>\n",
       "      <td>...</td>\n",
       "      <td>...</td>\n",
       "      <td>...</td>\n",
       "      <td>...</td>\n",
       "    </tr>\n",
       "    <tr>\n",
       "      <th>27103</th>\n",
       "      <td>534.228</td>\n",
       "      <td>3</td>\n",
       "      <td>3238</td>\n",
       "      <td>10.0</td>\n",
       "      <td>29491.824219</td>\n",
       "    </tr>\n",
       "    <tr>\n",
       "      <th>27104</th>\n",
       "      <td>0.515</td>\n",
       "      <td>2448</td>\n",
       "      <td>3034</td>\n",
       "      <td>40.0</td>\n",
       "      <td>27894.679688</td>\n",
       "    </tr>\n",
       "    <tr>\n",
       "      <th>27105</th>\n",
       "      <td>3.564</td>\n",
       "      <td>980</td>\n",
       "      <td>1761</td>\n",
       "      <td>23.5</td>\n",
       "      <td>16023.078125</td>\n",
       "    </tr>\n",
       "    <tr>\n",
       "      <th>27106</th>\n",
       "      <td>1.414</td>\n",
       "      <td>1314</td>\n",
       "      <td>1823</td>\n",
       "      <td>27.1</td>\n",
       "      <td>16630.080078</td>\n",
       "    </tr>\n",
       "    <tr>\n",
       "      <th>27107</th>\n",
       "      <td>0.095</td>\n",
       "      <td>1495</td>\n",
       "      <td>1567</td>\n",
       "      <td>9.8</td>\n",
       "      <td>14192.747070</td>\n",
       "    </tr>\n",
       "  </tbody>\n",
       "</table>\n",
       "<p>27108 rows × 5 columns</p>\n",
       "</div>"
      ],
      "text/plain": [
       "       TT_AREA  TT_LOWER_BOUND  TT_UPPER_BOUND  TT_MEAN_SLOPE  Prethicktions\n",
       "0        0.360            1936            2725           42.0   25037.027344\n",
       "1        0.558            1713            2144           16.0   19543.234375\n",
       "2        1.685            1609            2182           18.0   19897.935547\n",
       "3        3.681            1273            2317           19.0   21127.009766\n",
       "4        2.573            1494            2317           16.0   21122.546875\n",
       "...        ...             ...             ...            ...            ...\n",
       "27103  534.228               3            3238           10.0   29491.824219\n",
       "27104    0.515            2448            3034           40.0   27894.679688\n",
       "27105    3.564             980            1761           23.5   16023.078125\n",
       "27106    1.414            1314            1823           27.1   16630.080078\n",
       "27107    0.095            1495            1567            9.8   14192.747070\n",
       "\n",
       "[27108 rows x 5 columns]"
      ]
     },
     "execution_count": 15,
     "metadata": {},
     "output_type": "execute_result"
    }
   ],
   "source": [
    "RGI[\"Prethicktions\"] = y_alaska_test\n",
    "RGI"
   ]
  },
  {
   "cell_type": "code",
   "execution_count": null,
   "id": "657448cb",
   "metadata": {},
   "outputs": [],
   "source": []
  },
  {
   "cell_type": "code",
   "execution_count": null,
   "id": "22a6ac88",
   "metadata": {},
   "outputs": [],
   "source": []
  },
  {
   "cell_type": "code",
   "execution_count": null,
   "id": "5ead09d4",
   "metadata": {},
   "outputs": [],
   "source": []
  },
  {
   "cell_type": "code",
   "execution_count": null,
   "id": "b969fa9e",
   "metadata": {},
   "outputs": [],
   "source": []
  },
  {
   "cell_type": "code",
   "execution_count": null,
   "id": "d89e3871",
   "metadata": {},
   "outputs": [],
   "source": []
  },
  {
   "cell_type": "code",
   "execution_count": null,
   "id": "4a66c57f",
   "metadata": {},
   "outputs": [],
   "source": []
  }
 ],
 "metadata": {
  "kernelspec": {
   "display_name": "Python 3 (ipykernel)",
   "language": "python",
   "name": "python3"
  },
  "language_info": {
   "codemirror_mode": {
    "name": "ipython",
    "version": 3
   },
   "file_extension": ".py",
   "mimetype": "text/x-python",
   "name": "python",
   "nbconvert_exporter": "python",
   "pygments_lexer": "ipython3",
   "version": "3.7.11"
  }
 },
 "nbformat": 4,
 "nbformat_minor": 5
}
