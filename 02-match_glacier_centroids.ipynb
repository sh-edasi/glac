{
 "cells": [
  {
   "cell_type": "code",
   "execution_count": null,
   "id": "533186bb",
   "metadata": {
    "tags": []
   },
   "outputs": [],
   "source": [
    "import glacierml as gl\n",
    "import os\n",
    "import pandas as pd\n",
    "import numpy as np\n",
    "pd.set_option('display.max_column',None)"
   ]
  },
  {
   "cell_type": "code",
   "execution_count": null,
   "id": "b205d4c4-cb50-487d-ac3f-8b7ed2f54e8d",
   "metadata": {
    "tags": []
   },
   "outputs": [],
   "source": [
    "home_path = '/path/to/project/directory'\n",
    "[\n",
    "    data_path,RGI_path, glathida_path, \n",
    "    coregistration_testing_path, \n",
    "    arch_test_path, LOO_path\n",
    "] = gl.set_paths(home_path)"
   ]
  },
  {
   "cell_type": "code",
   "execution_count": null,
   "id": "785cacb7",
   "metadata": {
    "tags": []
   },
   "outputs": [],
   "source": [
    "glathida = pd.read_csv(os.path.join(glathida_path, 'T.csv'))\n",
    "glathida = glathida.dropna(subset = ['MEAN_THICKNESS'])\n",
    "glathida = glathida.reset_index().drop('index',axis = 1)"
   ]
  },
  {
   "cell_type": "code",
   "execution_count": null,
   "id": "2f2ecfb6",
   "metadata": {
    "tags": []
   },
   "outputs": [],
   "source": [
    "if not os.path.exists(\n",
    "    os.path.join(\n",
    "        data_path, 'matched.pkl'\n",
    ")):\n",
    "    df = gl.match_GlaThiDa_RGI_index(\n",
    "    RGI,glathida,verbose = True, useMP = True\n",
    ")\n",
    "    \n",
    "    df.to_pickle(os.path.join(data_path,'matched.pkl'))\n",
    "    \n",
    "else:\n",
    "    df = pd.read_pickle(os.path.join(data_path,'matched.pkl'))    "
   ]
  }
 ],
 "metadata": {
  "kernelspec": {
   "display_name": "glacierml (Python3.8.10)",
   "language": "python",
   "name": "prethicktor"
  },
  "language_info": {
   "codemirror_mode": {
    "name": "ipython",
    "version": 3
   },
   "file_extension": ".py",
   "mimetype": "text/x-python",
   "name": "python",
   "nbconvert_exporter": "python",
   "pygments_lexer": "ipython3",
   "version": "3.8.10"
  },
  "varInspector": {
   "cols": {
    "lenName": 16,
    "lenType": 16,
    "lenVar": 40
   },
   "kernels_config": {
    "python": {
     "delete_cmd_postfix": "",
     "delete_cmd_prefix": "del ",
     "library": "var_list.py",
     "varRefreshCmd": "print(var_dic_list())"
    },
    "r": {
     "delete_cmd_postfix": ") ",
     "delete_cmd_prefix": "rm(",
     "library": "var_list.r",
     "varRefreshCmd": "cat(var_dic_list()) "
    }
   },
   "types_to_exclude": [
    "module",
    "function",
    "builtin_function_or_method",
    "instance",
    "_Feature"
   ],
   "window_display": false
  }
 },
 "nbformat": 4,
 "nbformat_minor": 5
}
