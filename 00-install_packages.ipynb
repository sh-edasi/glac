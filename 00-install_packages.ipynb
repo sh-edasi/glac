{
 "cells": [
  {
   "cell_type": "code",
   "execution_count": 6,
   "id": "e52759ba-c66a-4840-8791-6886c835ae2a",
   "metadata": {
    "tags": []
   },
   "outputs": [
    {
     "name": "stdout",
     "output_type": "stream",
     "text": [
      "Requirement already satisfied: requests in /home/simonhans/anaconda3/envs/prethicktor/lib/python3.7/site-packages (2.31.0)\n",
      "Requirement already satisfied: pandas in /home/simonhans/anaconda3/envs/prethicktor/lib/python3.7/site-packages (1.3.5)\n",
      "Requirement already satisfied: tensorflow==2.8.0 in /home/simonhans/anaconda3/envs/prethicktor/lib/python3.7/site-packages (2.8.0)\n",
      "Requirement already satisfied: tqdm in /home/simonhans/anaconda3/envs/prethicktor/lib/python3.7/site-packages (4.66.2)\n",
      "Requirement already satisfied: geopy in /home/simonhans/anaconda3/envs/prethicktor/lib/python3.7/site-packages (2.4.1)\n",
      "Requirement already satisfied: protobuf==3.19.0 in /home/simonhans/anaconda3/envs/prethicktor/lib/python3.7/site-packages (3.19.0)\n",
      "Requirement already satisfied: matplotlib in /home/simonhans/anaconda3/envs/prethicktor/lib/python3.7/site-packages (3.5.3)\n",
      "Collecting scikit-learn\n",
      "  Downloading scikit_learn-1.0.2-cp37-cp37m-manylinux_2_17_x86_64.manylinux2014_x86_64.whl (24.8 MB)\n",
      "\u001b[2K     \u001b[38;2;114;156;31m━━━━━━━━━━━━━━━━━━━━━━━━━━━━━━━━━━━━━━━━\u001b[0m \u001b[32m24.8/24.8 MB\u001b[0m \u001b[31m7.7 MB/s\u001b[0m eta \u001b[36m0:00:00\u001b[0mm eta \u001b[36m0:00:01\u001b[0m[36m0:00:01\u001b[0mm\n",
      "\u001b[?25hRequirement already satisfied: six>=1.12.0 in /home/simonhans/anaconda3/envs/prethicktor/lib/python3.7/site-packages (from tensorflow==2.8.0) (1.16.0)\n",
      "Requirement already satisfied: grpcio<2.0,>=1.24.3 in /home/simonhans/anaconda3/envs/prethicktor/lib/python3.7/site-packages (from tensorflow==2.8.0) (1.62.2)\n",
      "Requirement already satisfied: flatbuffers>=1.12 in /home/simonhans/anaconda3/envs/prethicktor/lib/python3.7/site-packages (from tensorflow==2.8.0) (24.3.25)\n",
      "Requirement already satisfied: tensorboard<2.9,>=2.8 in /home/simonhans/anaconda3/envs/prethicktor/lib/python3.7/site-packages (from tensorflow==2.8.0) (2.8.0)\n",
      "Requirement already satisfied: keras-preprocessing>=1.1.1 in /home/simonhans/anaconda3/envs/prethicktor/lib/python3.7/site-packages (from tensorflow==2.8.0) (1.1.2)\n",
      "Requirement already satisfied: typing-extensions>=3.6.6 in /home/simonhans/anaconda3/envs/prethicktor/lib/python3.7/site-packages (from tensorflow==2.8.0) (4.7.1)\n",
      "Requirement already satisfied: keras<2.9,>=2.8.0rc0 in /home/simonhans/anaconda3/envs/prethicktor/lib/python3.7/site-packages (from tensorflow==2.8.0) (2.8.0)\n",
      "Requirement already satisfied: libclang>=9.0.1 in /home/simonhans/anaconda3/envs/prethicktor/lib/python3.7/site-packages (from tensorflow==2.8.0) (18.1.1)\n",
      "Requirement already satisfied: google-pasta>=0.1.1 in /home/simonhans/anaconda3/envs/prethicktor/lib/python3.7/site-packages (from tensorflow==2.8.0) (0.2.0)\n",
      "Requirement already satisfied: opt-einsum>=2.3.2 in /home/simonhans/anaconda3/envs/prethicktor/lib/python3.7/site-packages (from tensorflow==2.8.0) (3.3.0)\n",
      "Requirement already satisfied: astunparse>=1.6.0 in /home/simonhans/anaconda3/envs/prethicktor/lib/python3.7/site-packages (from tensorflow==2.8.0) (1.6.3)\n",
      "Requirement already satisfied: wrapt>=1.11.0 in /home/simonhans/anaconda3/envs/prethicktor/lib/python3.7/site-packages (from tensorflow==2.8.0) (1.16.0)\n",
      "Requirement already satisfied: gast>=0.2.1 in /home/simonhans/anaconda3/envs/prethicktor/lib/python3.7/site-packages (from tensorflow==2.8.0) (0.5.4)\n",
      "Requirement already satisfied: absl-py>=0.4.0 in /home/simonhans/anaconda3/envs/prethicktor/lib/python3.7/site-packages (from tensorflow==2.8.0) (2.1.0)\n",
      "Requirement already satisfied: h5py>=2.9.0 in /home/simonhans/anaconda3/envs/prethicktor/lib/python3.7/site-packages (from tensorflow==2.8.0) (3.8.0)\n",
      "Requirement already satisfied: tf-estimator-nightly==2.8.0.dev2021122109 in /home/simonhans/anaconda3/envs/prethicktor/lib/python3.7/site-packages (from tensorflow==2.8.0) (2.8.0.dev2021122109)\n",
      "Requirement already satisfied: termcolor>=1.1.0 in /home/simonhans/anaconda3/envs/prethicktor/lib/python3.7/site-packages (from tensorflow==2.8.0) (2.3.0)\n",
      "Requirement already satisfied: numpy>=1.20 in /home/simonhans/anaconda3/envs/prethicktor/lib/python3.7/site-packages (from tensorflow==2.8.0) (1.21.6)\n",
      "Requirement already satisfied: tensorflow-io-gcs-filesystem>=0.23.1 in /home/simonhans/anaconda3/envs/prethicktor/lib/python3.7/site-packages (from tensorflow==2.8.0) (0.34.0)\n",
      "Requirement already satisfied: setuptools in /home/simonhans/anaconda3/envs/prethicktor/lib/python3.7/site-packages (from tensorflow==2.8.0) (65.6.3)\n",
      "Requirement already satisfied: idna<4,>=2.5 in /home/simonhans/anaconda3/envs/prethicktor/lib/python3.7/site-packages (from requests) (3.7)\n",
      "Requirement already satisfied: charset-normalizer<4,>=2 in /home/simonhans/anaconda3/envs/prethicktor/lib/python3.7/site-packages (from requests) (3.3.2)\n",
      "Requirement already satisfied: certifi>=2017.4.17 in /home/simonhans/anaconda3/envs/prethicktor/lib/python3.7/site-packages (from requests) (2022.12.7)\n",
      "Requirement already satisfied: urllib3<3,>=1.21.1 in /home/simonhans/anaconda3/envs/prethicktor/lib/python3.7/site-packages (from requests) (2.0.7)\n",
      "Requirement already satisfied: python-dateutil>=2.7.3 in /home/simonhans/anaconda3/envs/prethicktor/lib/python3.7/site-packages (from pandas) (2.8.2)\n",
      "Requirement already satisfied: pytz>=2017.3 in /home/simonhans/anaconda3/envs/prethicktor/lib/python3.7/site-packages (from pandas) (2024.1)\n",
      "Requirement already satisfied: geographiclib<3,>=1.52 in /home/simonhans/anaconda3/envs/prethicktor/lib/python3.7/site-packages (from geopy) (2.0)\n",
      "Requirement already satisfied: pillow>=6.2.0 in /home/simonhans/anaconda3/envs/prethicktor/lib/python3.7/site-packages (from matplotlib) (9.5.0)\n",
      "Requirement already satisfied: packaging>=20.0 in /home/simonhans/anaconda3/envs/prethicktor/lib/python3.7/site-packages (from matplotlib) (22.0)\n",
      "Requirement already satisfied: fonttools>=4.22.0 in /home/simonhans/anaconda3/envs/prethicktor/lib/python3.7/site-packages (from matplotlib) (4.38.0)\n",
      "Requirement already satisfied: pyparsing>=2.2.1 in /home/simonhans/anaconda3/envs/prethicktor/lib/python3.7/site-packages (from matplotlib) (3.1.2)\n",
      "Requirement already satisfied: cycler>=0.10 in /home/simonhans/anaconda3/envs/prethicktor/lib/python3.7/site-packages (from matplotlib) (0.11.0)\n",
      "Requirement already satisfied: kiwisolver>=1.0.1 in /home/simonhans/anaconda3/envs/prethicktor/lib/python3.7/site-packages (from matplotlib) (1.4.5)\n",
      "Collecting scipy>=1.1.0\n",
      "  Using cached scipy-1.7.3-cp37-cp37m-manylinux_2_12_x86_64.manylinux2010_x86_64.whl (38.1 MB)\n",
      "Collecting threadpoolctl>=2.0.0\n",
      "  Downloading threadpoolctl-3.1.0-py3-none-any.whl (14 kB)\n",
      "Collecting joblib>=0.11\n",
      "  Using cached joblib-1.3.2-py3-none-any.whl (302 kB)\n",
      "Requirement already satisfied: wheel<1.0,>=0.23.0 in /home/simonhans/anaconda3/envs/prethicktor/lib/python3.7/site-packages (from astunparse>=1.6.0->tensorflow==2.8.0) (0.38.4)\n",
      "Requirement already satisfied: google-auth<3,>=1.6.3 in /home/simonhans/anaconda3/envs/prethicktor/lib/python3.7/site-packages (from tensorboard<2.9,>=2.8->tensorflow==2.8.0) (2.29.0)\n",
      "Requirement already satisfied: tensorboard-data-server<0.7.0,>=0.6.0 in /home/simonhans/anaconda3/envs/prethicktor/lib/python3.7/site-packages (from tensorboard<2.9,>=2.8->tensorflow==2.8.0) (0.6.1)\n",
      "Requirement already satisfied: google-auth-oauthlib<0.5,>=0.4.1 in /home/simonhans/anaconda3/envs/prethicktor/lib/python3.7/site-packages (from tensorboard<2.9,>=2.8->tensorflow==2.8.0) (0.4.6)\n",
      "Requirement already satisfied: werkzeug>=0.11.15 in /home/simonhans/anaconda3/envs/prethicktor/lib/python3.7/site-packages (from tensorboard<2.9,>=2.8->tensorflow==2.8.0) (2.2.3)\n",
      "Requirement already satisfied: markdown>=2.6.8 in /home/simonhans/anaconda3/envs/prethicktor/lib/python3.7/site-packages (from tensorboard<2.9,>=2.8->tensorflow==2.8.0) (3.4.4)\n",
      "Requirement already satisfied: tensorboard-plugin-wit>=1.6.0 in /home/simonhans/anaconda3/envs/prethicktor/lib/python3.7/site-packages (from tensorboard<2.9,>=2.8->tensorflow==2.8.0) (1.8.1)\n",
      "Requirement already satisfied: pyasn1-modules>=0.2.1 in /home/simonhans/anaconda3/envs/prethicktor/lib/python3.7/site-packages (from google-auth<3,>=1.6.3->tensorboard<2.9,>=2.8->tensorflow==2.8.0) (0.3.0)\n",
      "Requirement already satisfied: cachetools<6.0,>=2.0.0 in /home/simonhans/anaconda3/envs/prethicktor/lib/python3.7/site-packages (from google-auth<3,>=1.6.3->tensorboard<2.9,>=2.8->tensorflow==2.8.0) (5.3.3)\n",
      "Requirement already satisfied: rsa<5,>=3.1.4 in /home/simonhans/anaconda3/envs/prethicktor/lib/python3.7/site-packages (from google-auth<3,>=1.6.3->tensorboard<2.9,>=2.8->tensorflow==2.8.0) (4.9)\n",
      "Requirement already satisfied: requests-oauthlib>=0.7.0 in /home/simonhans/anaconda3/envs/prethicktor/lib/python3.7/site-packages (from google-auth-oauthlib<0.5,>=0.4.1->tensorboard<2.9,>=2.8->tensorflow==2.8.0) (2.0.0)\n",
      "Requirement already satisfied: importlib-metadata>=4.4 in /home/simonhans/anaconda3/envs/prethicktor/lib/python3.7/site-packages (from markdown>=2.6.8->tensorboard<2.9,>=2.8->tensorflow==2.8.0) (6.7.0)\n",
      "Requirement already satisfied: MarkupSafe>=2.1.1 in /home/simonhans/anaconda3/envs/prethicktor/lib/python3.7/site-packages (from werkzeug>=0.11.15->tensorboard<2.9,>=2.8->tensorflow==2.8.0) (2.1.5)\n",
      "Requirement already satisfied: zipp>=0.5 in /home/simonhans/anaconda3/envs/prethicktor/lib/python3.7/site-packages (from importlib-metadata>=4.4->markdown>=2.6.8->tensorboard<2.9,>=2.8->tensorflow==2.8.0) (3.15.0)\n",
      "Requirement already satisfied: pyasn1<0.6.0,>=0.4.6 in /home/simonhans/anaconda3/envs/prethicktor/lib/python3.7/site-packages (from pyasn1-modules>=0.2.1->google-auth<3,>=1.6.3->tensorboard<2.9,>=2.8->tensorflow==2.8.0) (0.5.1)\n",
      "Requirement already satisfied: oauthlib>=3.0.0 in /home/simonhans/anaconda3/envs/prethicktor/lib/python3.7/site-packages (from requests-oauthlib>=0.7.0->google-auth-oauthlib<0.5,>=0.4.1->tensorboard<2.9,>=2.8->tensorflow==2.8.0) (3.2.2)\n",
      "Installing collected packages: threadpoolctl, scipy, joblib, scikit-learn\n",
      "Successfully installed joblib-1.3.2 scikit-learn-1.0.2 scipy-1.7.3 threadpoolctl-3.1.0\n"
     ]
    }
   ],
   "source": [
    "import sys\n",
    "!{sys.executable} -m pip install requests pandas tensorflow==2.8.0 tqdm geopy protobuf==3.19.0 matplotlib scikit-learn\n"
   ]
  },
  {
   "cell_type": "code",
   "execution_count": null,
   "id": "18060acd-3559-4f6e-b654-d35fa4e30082",
   "metadata": {},
   "outputs": [],
   "source": []
  }
 ],
 "metadata": {
  "kernelspec": {
   "display_name": "Python3.7.11",
   "language": "python",
   "name": "prethicktor"
  },
  "language_info": {
   "codemirror_mode": {
    "name": "ipython",
    "version": 3
   },
   "file_extension": ".py",
   "mimetype": "text/x-python",
   "name": "python",
   "nbconvert_exporter": "python",
   "pygments_lexer": "ipython3",
   "version": "3.7.11"
  }
 },
 "nbformat": 4,
 "nbformat_minor": 5
}
