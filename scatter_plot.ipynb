{
 "cells": [
  {
   "cell_type": "code",
   "execution_count": 1,
   "id": "83cd0fa7",
   "metadata": {},
   "outputs": [
    {
     "name": "stderr",
     "output_type": "stream",
     "text": [
      "2023-07-25 06:03:43.439297: I tensorflow/core/util/port.cc:110] oneDNN custom operations are on. You may see slightly different numerical results due to floating-point round-off errors from different computation orders. To turn them off, set the environment variable `TF_ENABLE_ONEDNN_OPTS=0`.\n",
      "2023-07-25 06:03:43.482836: I tensorflow/core/platform/cpu_feature_guard.cc:182] This TensorFlow binary is optimized to use available CPU instructions in performance-critical operations.\n",
      "To enable the following instructions: AVX2 AVX512F AVX512_VNNI FMA, in other operations, rebuild TensorFlow with the appropriate compiler flags.\n",
      "2023-07-25 06:03:44.157919: W tensorflow/compiler/tf2tensorrt/utils/py_utils.cc:38] TF-TRT Warning: Could not find TensorRT\n"
     ]
    }
   ],
   "source": [
    "import glacierml as gl\n",
    "import matplotlib.pyplot as plt\n",
    "import numpy as np\n",
    "from scipy.stats import gaussian_kde\n",
    "from tqdm import tqdm\n",
    "from matplotlib import ticker\n",
    "import configparser\n",
    "import pandas as pd\n",
    "pd.set_option('display.max_columns', None)\n"
   ]
  },
  {
   "cell_type": "code",
   "execution_count": 2,
   "id": "d9f5cd58",
   "metadata": {},
   "outputs": [
    {
     "ename": "TypeError",
     "evalue": "assign_arrays() got an unexpected keyword argument 'analysis'",
     "output_type": "error",
     "traceback": [
      "\u001b[0;31m---------------------------------------------------------------------------\u001b[0m",
      "\u001b[0;31mTypeError\u001b[0m                                 Traceback (most recent call last)",
      "Cell \u001b[0;32mIn[2], line 5\u001b[0m\n\u001b[1;32m      1\u001b[0m (\n\u001b[1;32m      2\u001b[0m     x,y,z,unc,\n\u001b[1;32m      3\u001b[0m     x_new,y_new,z_new,unc_new ,\n\u001b[1;32m      4\u001b[0m     far_ind, est_ind ,unc_ind\n\u001b[0;32m----> 5\u001b[0m ) \u001b[38;5;241m=\u001b[39m \u001b[43mgl\u001b[49m\u001b[38;5;241;43m.\u001b[39;49m\u001b[43massign_arrays\u001b[49m\u001b[43m(\u001b[49m\n\u001b[1;32m      6\u001b[0m \u001b[43m    \u001b[49m\u001b[43mparameterization\u001b[49m\u001b[43m \u001b[49m\u001b[38;5;241;43m=\u001b[39;49m\u001b[43m \u001b[49m\u001b[38;5;124;43m'\u001b[39;49m\u001b[38;5;124;43m4\u001b[39;49m\u001b[38;5;124;43m'\u001b[39;49m\u001b[43m,\u001b[49m\u001b[43mmethod\u001b[49m\u001b[43m \u001b[49m\u001b[38;5;241;43m=\u001b[39;49m\u001b[43m \u001b[49m\u001b[38;5;124;43m'\u001b[39;49m\u001b[38;5;124;43m1\u001b[39;49m\u001b[38;5;124;43m'\u001b[39;49m\u001b[43m,\u001b[49m\n\u001b[1;32m      7\u001b[0m \u001b[43m    \u001b[49m\u001b[43manalysis\u001b[49m\u001b[43m \u001b[49m\u001b[38;5;241;43m=\u001b[39;49m\u001b[43m \u001b[49m\u001b[38;5;124;43m'\u001b[39;49m\u001b[38;5;124;43mvol\u001b[39;49m\u001b[38;5;124;43m'\u001b[39;49m\u001b[43m,\u001b[49m\n\u001b[1;32m      8\u001b[0m \u001b[43m    \u001b[49m\u001b[43msize_thresh_1\u001b[49m\u001b[43m \u001b[49m\u001b[38;5;241;43m=\u001b[39;49m\u001b[43m \u001b[49m\u001b[38;5;241;43m1e-5\u001b[39;49m\u001b[43m,\u001b[49m\u001b[43m \u001b[49m\u001b[43msize_thresh_2\u001b[49m\u001b[43m \u001b[49m\u001b[38;5;241;43m=\u001b[39;49m\u001b[43m \u001b[49m\u001b[38;5;241;43m1e4\u001b[39;49m\n\u001b[1;32m      9\u001b[0m \u001b[43m)\u001b[49m\n\u001b[1;32m     10\u001b[0m bins_x \u001b[38;5;241m=\u001b[39m np\u001b[38;5;241m.\u001b[39mlogspace(np\u001b[38;5;241m.\u001b[39mlog10(np\u001b[38;5;241m.\u001b[39mmin(x)), np\u001b[38;5;241m.\u001b[39mlog10(np\u001b[38;5;241m.\u001b[39mmax(x)), \u001b[38;5;241m25\u001b[39m)\n\u001b[1;32m     11\u001b[0m bins_y \u001b[38;5;241m=\u001b[39m np\u001b[38;5;241m.\u001b[39mlogspace(np\u001b[38;5;241m.\u001b[39mlog10(np\u001b[38;5;241m.\u001b[39mmin(y)), np\u001b[38;5;241m.\u001b[39mlog10(np\u001b[38;5;241m.\u001b[39mmax(y)), \u001b[38;5;241m25\u001b[39m)\n",
      "\u001b[0;31mTypeError\u001b[0m: assign_arrays() got an unexpected keyword argument 'analysis'"
     ]
    }
   ],
   "source": [
    "(\n",
    "    x,y,z,unc,\n",
    "    x_new,y_new,z_new,unc_new ,\n",
    "    far_ind, est_ind ,unc_ind\n",
    ") = gl.assign_arrays(\n",
    "    parameterization = '4',method = '1',\n",
    "    analysis = 'vol',\n",
    "    size_thresh_1 = 1e-5, size_thresh_2 = 1e4\n",
    ")\n",
    "bins_x = np.logspace(np.log10(np.min(x)), np.log10(np.max(x)), 25)\n",
    "bins_y = np.logspace(np.log10(np.min(y)), np.log10(np.max(y)), 25)"
   ]
  },
  {
   "cell_type": "code",
   "execution_count": null,
   "id": "77898d9a",
   "metadata": {
    "scrolled": false
   },
   "outputs": [],
   "source": [
    "def scatter_hist(x, y, ax, \n",
    "                 ax_histx, ax_histy\n",
    "                ):\n",
    "    # no labels\n",
    "    ax_histx.tick_params(axis=\"x\", labelbottom=False, size = 36)\n",
    "    ax_histy.tick_params(axis=\"y\", labelleft=False, size = 36)\n",
    "\n",
    "    # the scatter plot:\n",
    "    ax.scatter(x, y, \n",
    "               c = (z), \n",
    "               s = 100,\n",
    "               cmap = 'viridis',\n",
    "               marker = '.'\n",
    "              )\n",
    "    ax.plot(\n",
    "        (0.0001,5000),\n",
    "        (0.0001,5000),\n",
    "        '-',\n",
    "        c = 'orange',\n",
    "        linewidth = 5\n",
    "\n",
    "    )\n",
    "    ax_histx.hist(\n",
    "        (x), \n",
    "        bins = bins_x,\n",
    "        edgecolor = 'black',\n",
    "        log = True\n",
    "    )\n",
    "\n",
    "    ax_histy.hist(\n",
    "        (y), \n",
    "        bins = bins_y, \n",
    "        edgecolor = 'black',\n",
    "        orientation='horizontal',\n",
    "        log = True\n",
    "    )\n",
    "    ax_histx.tick_params(axis=\"x\", labelsize=36)\n",
    "    ax_histy.tick_params(axis=\"y\", labelsize=36)\n",
    "\n",
    "\n",
    "fig = plt.figure(figsize=(20,20))\n",
    "gs = fig.add_gridspec(2, 2,  width_ratios=(4, 1), height_ratios=(1, 4),\n",
    "                      left=0.1, right=0.9, bottom=0.1, top=0.9,\n",
    "                      wspace=0.05, hspace=0.05)\n",
    "\n",
    "\n",
    "# Create the Axes.\n",
    "\n",
    "ax = fig.add_subplot(gs[1, 0])\n",
    "ax_histx = fig.add_subplot(gs[0, 0], sharex = ax)\n",
    "ax_histy = fig.add_subplot(gs[1, 1], sharey = ax)\n",
    "\n",
    "\n",
    "ax_histx.tick_params(axis=\"y\", labelsize=36)\n",
    "ax_histy.tick_params(axis=\"x\", labelsize=36)\n",
    "\n",
    "ax.tick_params(axis=\"both\", labelsize=36)\n",
    "\n",
    "\n",
    "print('Drawing scatter plot...')\n",
    "scatter_hist(\n",
    "    x, \n",
    "    y,\n",
    "    ax, \n",
    "    ax_histx,\n",
    "    ax_histy,\n",
    ")\n",
    "\n",
    "print('Drawing done')\n",
    "print('Setting scales and labels...')\n",
    "ax.set_yscale('log')\n",
    "ax.set_xscale('log')\n",
    "ax.set_ylabel('This Study Volume (km$^3$)', fontsize = 36)\n",
    "ax.set_xlabel('Farinotti et al. Volume (km$^3$)', fontsize = 36)\n",
    "major_ticks = np.logspace(-5,4,10)\n",
    "\n",
    "ax.set_xticks(major_ticks)\n",
    "ax.set_yticks(major_ticks)"
   ]
  },
  {
   "cell_type": "code",
   "execution_count": null,
   "id": "e3fbe14e",
   "metadata": {
    "scrolled": false
   },
   "outputs": [],
   "source": [
    "parameterized_data = gl.load_training_data(RGI_input = 'y')\n",
    "data = gl.load_notebook_data('4')\n",
    "data = data.dropna(subset = 'Farinotti Mean Thickness')\n",
    "fig = plt.figure(figsize=(20,20))\n",
    "for n, region in enumerate(['01', '03', '05', '19']):\n",
    "    if region == '01':\n",
    "        region_name = 'Alaska'\n",
    "    if region == '03':\n",
    "        region_name = 'Canada'\n",
    "    if region == '05':\n",
    "        region_name = 'Greenland Periphery'\n",
    "    if region == '19':\n",
    "        region_name = 'Antarctic Periphery'\n",
    "    df = data[data['region']==region]\n",
    "    param = parameterized_data[parameterized_data['region'] == region]\n",
    "    data_1 = df['Farinotti Mean Thickness'] / 1e3 * df['Area']\n",
    "    vol_f = data_1\n",
    "\n",
    "    data_2 = df['Mean Thickness'] / 1e3 * df['Area']\n",
    "    vol_e = data_2\n",
    "\n",
    "    x_1 = np.sort(data_1)\n",
    "    y_1 = 1. * np.arange(len(data_1)) / (len(data_1) - 1)\n",
    "\n",
    "    x_2 = np.sort(data_2)\n",
    "    y_2 = 1. * np.arange(len(data_2)) / (len(data_2) - 1)\n",
    "\n",
    "    xy = np.vstack([np.log10(vol_f),np.log10(vol_e)])\n",
    "\n",
    "    z = gaussian_kde(xy)(xy)\n",
    "\n",
    "    ax = plt.subplot(2,2,n+1)\n",
    "    ax.scatter(vol_f, vol_e, \n",
    "               c = (z), \n",
    "#                s = 100,\n",
    "               cmap = 'viridis',\n",
    "#                marker = '.'\n",
    "              )\n",
    "    ax.plot(\n",
    "        (0,round(vol_e.max()/ (vol_e.max()/2))*(vol_e.max()/2)),\n",
    "        (0,round(vol_e.max()/(vol_e.max()/2))*(vol_e.max()/2)),\n",
    "        '-',\n",
    "        c = 'orange',\n",
    "        linewidth = 5\n",
    "\n",
    "    )\n",
    "    ax.set_yscale('log')\n",
    "    ax.set_xscale('log')\n",
    "    ax.set_title('RGI Region '+ region + ', ' + region_name,\n",
    "                 fontsize = 36#                  '\\n' + \n",
    "#                  str(np.round((len(df)/len(data)) * 100, 2)) + '% of world glaciers\\n'+\n",
    "#                  str(np.round((len(param) / len(parameterized_data)) * 100, 2)) + \n",
    "#                  '% of training data'\n",
    "#                 , fontsize\n",
    "                )\n",
    "    ax.tick_params(axis=\"both\", labelsize=36)\n",
    "\n",
    "#     ax.set_ylabel('E&L Volume (10$^3$ km$^3$)')\n",
    "#     ax.set_xlabel('Farinotti et al. Volume (10$^3$ km$^3$)')\n",
    "\n",
    "# plt.suptitle(\n",
    "#     'Regional Ice Volume Compared to Farinotti et al. 2019', fontsize = 36, y = .99)\n",
    "\n",
    "fig.supylabel('This Study Volume (km$^3$)', fontsize = 36)\n",
    "fig.supxlabel('Farinotti et al. Volume (km$^3$)', fontsize = 36)\n",
    "\n",
    "plt.tight_layout()\n",
    "# plt.savefig('figs/regional_scatter' + str(i) + '.png')"
   ]
  },
  {
   "cell_type": "code",
   "execution_count": null,
   "id": "36c2d015",
   "metadata": {},
   "outputs": [],
   "source": []
  }
 ],
 "metadata": {
  "kernelspec": {
   "display_name": "Python(3.8.10)",
   "language": "python",
   "name": "new_kernel"
  },
  "language_info": {
   "codemirror_mode": {
    "name": "ipython",
    "version": 3
   },
   "file_extension": ".py",
   "mimetype": "text/x-python",
   "name": "python",
   "nbconvert_exporter": "python",
   "pygments_lexer": "ipython3",
   "version": "3.8.10"
  },
  "varInspector": {
   "cols": {
    "lenName": 16,
    "lenType": 16,
    "lenVar": 40
   },
   "kernels_config": {
    "python": {
     "delete_cmd_postfix": "",
     "delete_cmd_prefix": "del ",
     "library": "var_list.py",
     "varRefreshCmd": "print(var_dic_list())"
    },
    "r": {
     "delete_cmd_postfix": ") ",
     "delete_cmd_prefix": "rm(",
     "library": "var_list.r",
     "varRefreshCmd": "cat(var_dic_list()) "
    }
   },
   "types_to_exclude": [
    "module",
    "function",
    "builtin_function_or_method",
    "instance",
    "_Feature"
   ],
   "window_display": false
  }
 },
 "nbformat": 4,
 "nbformat_minor": 5
}
