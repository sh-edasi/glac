{
 "cells": [
  {
   "cell_type": "code",
   "execution_count": 1,
   "id": "83cd0fa7",
   "metadata": {},
   "outputs": [
    {
     "name": "stderr",
     "output_type": "stream",
     "text": [
      "2024-04-07 08:26:55.335306: I tensorflow/core/util/port.cc:110] oneDNN custom operations are on. You may see slightly different numerical results due to floating-point round-off errors from different computation orders. To turn them off, set the environment variable `TF_ENABLE_ONEDNN_OPTS=0`.\n",
      "2024-04-07 08:26:55.382781: I tensorflow/core/platform/cpu_feature_guard.cc:182] This TensorFlow binary is optimized to use available CPU instructions in performance-critical operations.\n",
      "To enable the following instructions: AVX2 AVX512F AVX512_VNNI FMA, in other operations, rebuild TensorFlow with the appropriate compiler flags.\n",
      "2024-04-07 08:26:56.108890: W tensorflow/compiler/tf2tensorrt/utils/py_utils.cc:38] TF-TRT Warning: Could not find TensorRT\n"
     ]
    }
   ],
   "source": [
    "import glacierml as gl\n",
    "import matplotlib.pyplot as plt\n",
    "import numpy as np\n",
    "from scipy.stats import gaussian_kde\n",
    "from tqdm import tqdm\n",
    "from matplotlib import ticker\n",
    "import configparser\n",
    "import pandas as pd\n",
    "import os\n",
    "pd.set_option('display.max_columns', None)"
   ]
  },
  {
   "cell_type": "code",
   "execution_count": 2,
   "id": "46f6f4d1",
   "metadata": {},
   "outputs": [],
   "source": [
    "E_delta_a, areas, cols, df = gl.load_LOO_data(include_train = False)\n",
    "df = df.dropna(subset = 'FMT')"
   ]
  },
  {
   "cell_type": "code",
   "execution_count": 3,
   "id": "d9f5cd58",
   "metadata": {},
   "outputs": [
    {
     "name": "stdout",
     "output_type": "stream",
     "text": [
      "calculating density\n"
     ]
    }
   ],
   "source": [
    "\n",
    "# # df = gl.load_notebook_data('4')\n",
    "# # df = df.dropna(subset = 'FMT')\n",
    "x = df['FMT'] / 1e3 * df['Area']\n",
    "y = np.mean(df[cols] / 1e3, axis = 1) * df['Area']\n",
    "xy = np.vstack([np.log10(x),np.log10(y)])\n",
    "print('calculating density')\n",
    "z = gaussian_kde(xy)(xy)\n",
    "\n",
    "bins_x = np.logspace(np.log10(np.min(x)), np.log10(np.max(x)), 25)\n",
    "bins_y = np.logspace(np.log10(np.min(y)), np.log10(np.max(y)), 25)"
   ]
  },
  {
   "cell_type": "code",
   "execution_count": null,
   "id": "65cad853",
   "metadata": {},
   "outputs": [
    {
     "name": "stdout",
     "output_type": "stream",
     "text": [
      "Drawing scatter plot...\n",
      "Drawing done\n",
      "Setting scales and labels...\n"
     ]
    },
    {
     "data": {
      "text/plain": [
       "Text(10, 3500, 'B.')"
      ]
     },
     "execution_count": 4,
     "metadata": {},
     "output_type": "execute_result"
    }
   ],
   "source": [
    "def scatter_hist(x, y, ax, \n",
    "                 ax_histx, ax_histy\n",
    "                ):\n",
    "    # no labels\n",
    "    ax_histx.tick_params(axis=\"x\", labelbottom=False, size = 36)\n",
    "    ax_histy.tick_params(axis=\"y\", labelleft=False, size = 36)\n",
    "\n",
    "    # the scatter plot:\n",
    "    ax.scatter(x, y, \n",
    "               c = (z), \n",
    "               s = 100,\n",
    "               cmap = 'viridis',\n",
    "               marker = '.'\n",
    "              )\n",
    "    ax.plot(\n",
    "        (0.0001,5000),\n",
    "        (0.0001,5000),\n",
    "        '-',\n",
    "        c = 'orange',\n",
    "        linewidth = 5\n",
    "\n",
    "    )\n",
    "\n",
    "    ax_histx.hist(\n",
    "        (x), \n",
    "        bins = bins_x,\n",
    "        edgecolor = 'black',\n",
    "        log = True\n",
    "    )\n",
    "\n",
    "    ax_histy.hist(\n",
    "        (y), \n",
    "        bins = bins_y, \n",
    "        edgecolor = 'black',\n",
    "        orientation='horizontal',\n",
    "        log = True\n",
    "    )\n",
    "    ax_histx.tick_params(axis=\"x\", labelsize=36)\n",
    "    ax_histy.tick_params(axis=\"y\", labelsize=36)\n",
    "    ax_histy.grid(alpha = 1,linewidth = 2)\n",
    "    ax_histx.grid(alpha = 1,linewidth = 2)\n",
    "\n",
    "fig = plt.figure(figsize=(20,20))\n",
    "gs = fig.add_gridspec(2, 2,  width_ratios=(4, 1), height_ratios=(1, 4),\n",
    "                      left=0.1, right=0.9, bottom=0.1, top=0.9,\n",
    "                      wspace=0.05, hspace=0.05)\n",
    "\n",
    "\n",
    "# Create the Axes.\n",
    "\n",
    "ax = fig.add_subplot(gs[1, 0])\n",
    "ax_histx = fig.add_subplot(gs[0, 0], sharex = ax)\n",
    "ax_histy = fig.add_subplot(gs[1, 1], sharey = ax)\n",
    "\n",
    "\n",
    "ax_histx.tick_params(axis=\"y\", labelsize=36)\n",
    "ax_histy.tick_params(axis=\"x\", labelsize=36)\n",
    "\n",
    "ax.tick_params(axis=\"both\", labelsize=36)\n",
    "\n",
    "\n",
    "print('Drawing scatter plot...')\n",
    "scatter_hist(\n",
    "    x, \n",
    "    y,\n",
    "    ax, \n",
    "    ax_histx,\n",
    "    ax_histy,\n",
    ")\n",
    "# plt.grid()\n",
    "print('Drawing done')\n",
    "print('Setting scales and labels...')\n",
    "ax.set_yscale('log')\n",
    "ax.set_xscale('log')\n",
    "ax.set_ylabel('This Study Volume (km$^3$)', fontsize = 36)\n",
    "ax.set_xlabel('Farinotti et al. Volume (km$^3$)', fontsize = 36)\n",
    "# major_ticks = [1e-5,1e0,1e1,1e4]\n",
    "# ax.set_xticks(major_ticks)\n",
    "# ax.set_yticks(major_ticks)\n",
    "ax.minorticks_on()\n",
    "\n",
    "ax.grid(which = 'major',alpha = 1,linewidth = 2)\n",
    "ax.grid(which = 'minor',alpha = 1,linewidth = 1,linestyle = '--')\n",
    "plt.text(5e-16, 300000, 'A.',fontsize = 42)\n",
    "plt.text(5e-16, 3500, 'C.',fontsize = 42)\n",
    "plt.text(10, 3500, 'B.',fontsize = 42)"
   ]
  },
  {
   "cell_type": "code",
   "execution_count": null,
   "id": "77898d9a",
   "metadata": {
    "scrolled": false
   },
   "outputs": [],
   "source": [
    "# def scatter_hist(x, y, ax, \n",
    "#                  ax_histx, ax_histy\n",
    "#                 ):\n",
    "#     # no labels\n",
    "#     ax_histx.tick_params(axis=\"x\", labelbottom=False, size = 36)\n",
    "#     ax_histy.tick_params(axis=\"y\", labelleft=False, size = 36)\n",
    "\n",
    "#     # the scatter plot:\n",
    "#     ax.scatter(x, y, \n",
    "#                c = (z), \n",
    "#                s = 100,\n",
    "#                cmap = 'viridis',\n",
    "#                marker = '.'\n",
    "#               )\n",
    "#     ax.plot(\n",
    "#         (0.0001,5000),\n",
    "#         (0.0001,5000),\n",
    "#         '-',\n",
    "#         c = 'orange',\n",
    "#         linewidth = 5\n",
    "\n",
    "#     )\n",
    "\n",
    "#     ax_histx.hist(\n",
    "#         (x), \n",
    "#         bins = bins_x,\n",
    "#         edgecolor = 'black',\n",
    "#         log = True\n",
    "#     )\n",
    "\n",
    "#     ax_histy.hist(\n",
    "#         (y), \n",
    "#         bins = bins_y, \n",
    "#         edgecolor = 'black',\n",
    "#         orientation='horizontal',\n",
    "#         log = True\n",
    "#     )\n",
    "#     ax_histx.tick_params(axis=\"x\", labelsize=36)\n",
    "#     ax_histy.tick_params(axis=\"y\", labelsize=36)\n",
    "#     ax_histy.grid(alpha = 1,linewidth = 2)\n",
    "#     ax_histx.grid(alpha = 1,linewidth = 2)"
   ]
  },
  {
   "cell_type": "code",
   "execution_count": null,
   "id": "84c29641",
   "metadata": {
    "scrolled": false
   },
   "outputs": [],
   "source": [
    "# for reg in df['region'].sort_values().unique():\n",
    "    \n",
    "#     dft = df[df['region'] == reg]\n",
    "    \n",
    "\n",
    "#     x = dft['FMT'] / 1e3 * dft['Area']\n",
    "#     y = np.mean(dft[cols] / 1e3, axis = 1) * dft['Area']\n",
    "# #     xy = np.vstack([np.log10(x),np.log10(y)])\n",
    "#     print('calculating density')\n",
    "# #     z = gaussian_kde(xy)(xy)\n",
    "#     plt.scatter(x,y,marker = '.')\n",
    "#     plt.xscale('log')\n",
    "#     plt.yscale('log')\n",
    "#     plt.title('Region ' + reg + f'\\nn = {len(dft)}')\n",
    "#     if reg == '01':\n",
    "#         plt.plot((0,4000),(0,4000),c = 'orange',linewidth = 2)\n",
    "#     if reg == '02':\n",
    "#         plt.plot((0,200),(0,200),c = 'orange',linewidth = 2)\n",
    "#     if reg == '03':\n",
    "#         plt.plot((0,2300),(0,2300),c = 'orange',linewidth = 2)\n",
    "#     if reg == '04':\n",
    "#         plt.plot((0,2000),(0,2000),c = 'orange',linewidth = 2)\n",
    "#     if reg == '05':\n",
    "#         plt.plot((0,5000),(0,5000),c = 'orange',linewidth = 2)\n",
    "#     if reg == '06':\n",
    "#         plt.plot((0,1000),(0,1000),c = 'orange',linewidth = 2)\n",
    "#     if reg == '07':\n",
    "#         plt.plot((0,1000),(0,1000),c = 'orange',linewidth = 2)\n",
    "#     if reg == '08':\n",
    "#         plt.plot((0,16),(0,16),c = 'orange',linewidth = 2)\n",
    "#     if reg == '09':\n",
    "#         plt.plot((0,900),(0,900),c = 'orange',linewidth = 2)\n",
    "#     if reg == '10':\n",
    "#         plt.plot((0,10),(0,10),c = 'orange',linewidth = 2)        \n",
    "#     if reg == '11':\n",
    "#         plt.plot((0,20),(0,20),c = 'orange',linewidth = 2)\n",
    "#     if reg == '12':\n",
    "#         plt.plot((0,4),(0,4),c = 'orange',linewidth = 2)\n",
    "#     if reg == '13':\n",
    "#         plt.plot((0,300),(0,300),c = 'orange',linewidth = 2)\n",
    "#     if reg == '14':\n",
    "#         plt.plot((0,500),(0,500),c = 'orange',linewidth = 2)\n",
    "#     if reg == '15':\n",
    "#         plt.plot((0,40),(0,40),c = 'orange',linewidth = 2)        \n",
    "#     if reg == '16':\n",
    "#         plt.plot((0,1),(0,1),c = 'orange',linewidth = 2)    \n",
    "#     if reg == '17':\n",
    "#         plt.plot((0,1e3),(0,1e3),c = 'orange',linewidth = 2)\n",
    "#     if reg == '18':\n",
    "#         plt.plot((0,20),(0,20),c = 'orange',linewidth = 2)\n",
    "#     if reg == '19':\n",
    "#         plt.plot((0,5000),(0,5000),c = 'orange',linewidth = 2)\n",
    "#     plt.show()"
   ]
  },
  {
   "cell_type": "code",
   "execution_count": null,
   "id": "6dfa765e",
   "metadata": {},
   "outputs": [],
   "source": [
    "# y = np.mean(df[cols]/1e3,axis = 1) * df['Area']\n",
    "# x = df['FMT']/1e3 * df['Area']"
   ]
  },
  {
   "cell_type": "code",
   "execution_count": null,
   "id": "c5735be5",
   "metadata": {},
   "outputs": [],
   "source": [
    "# df = pd.concat([df,pd.Series(y-x,name = 'r')],axis = 1)"
   ]
  },
  {
   "cell_type": "code",
   "execution_count": null,
   "id": "92e563f8",
   "metadata": {},
   "outputs": [],
   "source": [
    "# df"
   ]
  },
  {
   "cell_type": "code",
   "execution_count": null,
   "id": "63a91ccc",
   "metadata": {
    "scrolled": false
   },
   "outputs": [],
   "source": [
    "# for reg in df['region'].sort_values().unique():\n",
    "    \n",
    "#     dft = df[df['region'] == reg]\n",
    "#     dft = dft.dropna(subset = 'r')\n",
    "#     if dft.empty:\n",
    "#         continue\n",
    "#     else:\n",
    "#         x = dft['Area']\n",
    "#         y = dft['r']\n",
    "\n",
    "# #         print('calculating density')\n",
    "# #         z = gaussian_kde(xy)(xy)\n",
    "#         plt.scatter(x,y,marker = '.',label = 'Positive')\n",
    "#         plt.scatter(x,-y,marker = '.',label = 'Negative')\n",
    "#         plt.xscale('log')\n",
    "#         plt.yscale('log')\n",
    "# #         plt.ylim(y.min(),y.max())\n",
    "#         plt.title('Region ' + reg)\n",
    "#         plt.legend()\n",
    "#         plt.show()"
   ]
  },
  {
   "cell_type": "code",
   "execution_count": null,
   "id": "e3fbe14e",
   "metadata": {
    "scrolled": false
   },
   "outputs": [],
   "source": [
    "# parameterized_data = gl.load_training_data(RGI_input = 'y')\n",
    "# data = gl.load_notebook_data('4')\n",
    "# data = data.dropna(subset = 'FMT')\n",
    "# fig = plt.figure(figsize=(20,20))\n",
    "# for n, region in tqdm(enumerate(['01', '03', '05', '19'])):\n",
    "#     if region == '01':\n",
    "#         region_name = 'Alaska'\n",
    "#     if region == '03':\n",
    "#         region_name = 'Canada'\n",
    "#     if region == '05':\n",
    "#         region_name = 'Greenland Periphery'\n",
    "#     if region == '19':\n",
    "#         region_name = 'Antarctic Periphery'\n",
    "#     df = data[data['region']==region]\n",
    "#     param = parameterized_data[parameterized_data['region'] == region]\n",
    "#     data_1 = df['FMT'] / 1e3 * df['Area']\n",
    "#     vol_f = data_1\n",
    "\n",
    "#     data_2 = df['WT1'] / 1e3 * df['Area']\n",
    "#     vol_e = data_2\n",
    "\n",
    "#     x_1 = np.sort(data_1)\n",
    "#     y_1 = 1. * np.arange(len(data_1)) / (len(data_1) - 1)\n",
    "\n",
    "#     x_2 = np.sort(data_2)\n",
    "#     y_2 = 1. * np.arange(len(data_2)) / (len(data_2) - 1)\n",
    "\n",
    "#     xy = np.vstack([np.log10(vol_f),np.log10(vol_e)])\n",
    "\n",
    "#     z = gaussian_kde(xy)(xy)\n",
    "\n",
    "#     ax = plt.subplot(2,2,n+1)\n",
    "#     ax.scatter(vol_f, vol_e, \n",
    "#                c = (z), \n",
    "# #                s = 100,\n",
    "#                cmap = 'viridis',\n",
    "# #                marker = '.'\n",
    "#               )\n",
    "#     ax.plot(\n",
    "#         (0,round(vol_e.max()/ (vol_e.max()/2))*(vol_e.max()/2)),\n",
    "#         (0,round(vol_e.max()/(vol_e.max()/2))*(vol_e.max()/2)),\n",
    "#         '-',\n",
    "#         c = 'orange',\n",
    "#         linewidth = 5\n",
    "\n",
    "#     )\n",
    "#     ax.set_yscale('log')\n",
    "#     ax.set_xscale('log')\n",
    "#     ax.set_title('RGI Region '+ region + ', ' + region_name,\n",
    "#                  fontsize = 36#                  '\\n' + \n",
    "# #                  str(np.round((len(df)/len(data)) * 100, 2)) + '% of world glaciers\\n'+\n",
    "# #                  str(np.round((len(param) / len(parameterized_data)) * 100, 2)) + \n",
    "# #                  '% of training data'\n",
    "# #                 , fontsize\n",
    "#                 )\n",
    "#     major_ticks = np.logspace(-3,3,3)\n",
    "#     minor_ticks = np.logspace(-2,2,5)\n",
    "#     ax.set_yticks(minor_ticks,minor = True)\n",
    "#     ax.set_yticks(major_ticks)\n",
    "#     ax.set_xticks(minor_ticks,minor = True)\n",
    "#     ax.set_xticks(major_ticks)\n",
    "\n",
    "#     ax.tick_params(axis=\"both\",which = 'both', labelsize=20)\n",
    "#     ax.grid(which = 'major',linewidth = 2)\n",
    "#     ax.grid(which = 'minor',linewidth = 1,linestyle = '--')\n",
    "\n",
    "# #     ax.set_ylabel('E&L Volume (10$^3$ km$^3$)')\n",
    "# #     ax.set_xlabel('Farinotti et al. Volume (10$^3$ km$^3$)')\n",
    "\n",
    "# # plt.suptitle(\n",
    "# #     'Regional Ice Volume Compared to Farinotti et al. 2019', fontsize = 36, y = .99)\n",
    "\n",
    "# fig.supylabel('This Study Volume (km$^3$)', fontsize = 36)\n",
    "# fig.supxlabel('Farinotti et al. Volume (km$^3$)', fontsize = 36)\n",
    "\n",
    "# plt.tight_layout()\n",
    "# # plt.savefig('figs/regional_scatter' + str(i) + '.png')"
   ]
  },
  {
   "cell_type": "code",
   "execution_count": null,
   "id": "36c2d015",
   "metadata": {},
   "outputs": [],
   "source": []
  },
  {
   "cell_type": "code",
   "execution_count": null,
   "id": "226a87f6",
   "metadata": {},
   "outputs": [],
   "source": []
  }
 ],
 "metadata": {
  "kernelspec": {
   "display_name": "Python(3.8.10)",
   "language": "python",
   "name": "new_kernel"
  },
  "language_info": {
   "codemirror_mode": {
    "name": "ipython",
    "version": 3
   },
   "file_extension": ".py",
   "mimetype": "text/x-python",
   "name": "python",
   "nbconvert_exporter": "python",
   "pygments_lexer": "ipython3",
   "version": "3.8.10"
  },
  "varInspector": {
   "cols": {
    "lenName": 16,
    "lenType": 16,
    "lenVar": 40
   },
   "kernels_config": {
    "python": {
     "delete_cmd_postfix": "",
     "delete_cmd_prefix": "del ",
     "library": "var_list.py",
     "varRefreshCmd": "print(var_dic_list())"
    },
    "r": {
     "delete_cmd_postfix": ") ",
     "delete_cmd_prefix": "rm(",
     "library": "var_list.r",
     "varRefreshCmd": "cat(var_dic_list()) "
    }
   },
   "types_to_exclude": [
    "module",
    "function",
    "builtin_function_or_method",
    "instance",
    "_Feature"
   ],
   "window_display": false
  }
 },
 "nbformat": 4,
 "nbformat_minor": 5
}
