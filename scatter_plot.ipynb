{
 "cells": [
  {
   "cell_type": "code",
   "execution_count": 1,
   "id": "83cd0fa7",
   "metadata": {},
   "outputs": [],
   "source": [
    "import glacierml as gl\n",
    "import matplotlib.pyplot as plt\n",
    "import pandas as pd\n",
    "import numpy as np\n",
    "from scipy.stats import gaussian_kde\n",
    "from tqdm import tqdm\n",
    "pd.set_option('display.max_columns', None)\n"
   ]
  },
  {
   "cell_type": "code",
   "execution_count": 13,
   "id": "0df7b438",
   "metadata": {
    "code_folding": [],
    "scrolled": false
   },
   "outputs": [],
   "source": [
    "data = gl.load_notebook_data(parameterization = 'df5')"
   ]
  },
  {
   "cell_type": "code",
   "execution_count": 14,
   "id": "9aed291f",
   "metadata": {},
   "outputs": [
    {
     "data": {
      "text/plain": [
       "array([[-2.14290839, -1.78482251, -1.27012205, ..., -0.63771958,\n",
       "        -3.95081607, -1.80904095],\n",
       "       [-1.56175521, -1.30465938, -0.82924346, ..., -0.44652457,\n",
       "        -2.94509163, -1.36634393]])"
      ]
     },
     "execution_count": 14,
     "metadata": {},
     "output_type": "execute_result"
    }
   ],
   "source": [
    "# df1 = data[data['Edasi Shapiro-Wilk p_value'] <= 0.05]\n",
    "df = data\n",
    "data_1 = df['Farinotti Mean Thickness'] / 1e3 * df['Area']\n",
    "vol_f = data_1\n",
    "\n",
    "data_2 = df['Edasi Mean Thickness'] / 1e3 * df['Area']\n",
    "vol_e = data_2\n",
    "\n",
    "x_1 = np.sort(data_1)\n",
    "y_1 = 1. * np.arange(len(data_1)) / (len(data_1) - 1)\n",
    "\n",
    "x_2 = np.sort(data_2)\n",
    "y_2 = 1. * np.arange(len(data_2)) / (len(data_2) - 1)\n",
    "\n",
    "xy = np.vstack([np.log10(vol_f),np.log10(vol_e)])\n",
    "\n",
    "xy"
   ]
  },
  {
   "cell_type": "code",
   "execution_count": null,
   "id": "c1f82e69",
   "metadata": {},
   "outputs": [],
   "source": [
    "z = gaussian_kde(xy)(xy)"
   ]
  },
  {
   "cell_type": "code",
   "execution_count": null,
   "id": "ebcd126a",
   "metadata": {},
   "outputs": [],
   "source": [
    "bins_x = np.logspace(np.log10(np.min(vol_f)), np.log10(np.max(vol_f)), 25)\n",
    "bins_y = np.logspace(np.log10(np.min(vol_e)), np.log10(np.max(vol_e)), 25)"
   ]
  },
  {
   "cell_type": "code",
   "execution_count": null,
   "id": "9ae1be62",
   "metadata": {},
   "outputs": [],
   "source": []
  },
  {
   "cell_type": "code",
   "execution_count": null,
   "id": "e5518ee3",
   "metadata": {},
   "outputs": [],
   "source": [
    "from matplotlib import ticker\n",
    "\n",
    "def scatter_hist(vol_f, vol_e, data_1, ax, \n",
    "                 ax_histx, ax_histy\n",
    "                ):\n",
    "    # no labels\n",
    "    ax_histx.tick_params(axis=\"x\", labelbottom=False, size = 36)\n",
    "    ax_histy.tick_params(axis=\"y\", labelleft=False, size = 36)\n",
    "\n",
    "    # the scatter plot:\n",
    "    ax.scatter(vol_f, vol_e, \n",
    "               c = (z), \n",
    "               s = 100,\n",
    "               cmap = 'viridis',\n",
    "               marker = '.'\n",
    "              )\n",
    "    ax.plot(\n",
    "        (vol_e.min(),vol_e.max()),\n",
    "        (vol_e.min(),vol_e.max()),\n",
    "        '-',\n",
    "        c = 'orange'\n",
    "\n",
    "    )\n",
    "    ax_histx.hist(\n",
    "        (vol_f), \n",
    "        bins = bins_x,\n",
    "        edgecolor = 'black',\n",
    "        log = True\n",
    "    )\n",
    "    \n",
    "    ax_histy.hist(\n",
    "        (vol_e), \n",
    "        bins = bins_y, \n",
    "        edgecolor = 'black',\n",
    "        orientation='horizontal',\n",
    "        log = True\n",
    "    )\n",
    "    ax_histx.tick_params(axis=\"x\", labelsize=36)\n",
    "    ax_histy.tick_params(axis=\"y\", labelsize=36)\n",
    "\n",
    "    \n",
    "fig = plt.figure(figsize=(20,20))\n",
    "plt.suptitle(\n",
    "    'E&L vs. Farinotti Global Non-Ice Sheet Glacier Volume',\n",
    "#     'Glaciers With Area <= Median Area\\n' ,\n",
    "#     'Can Reject Null Hypothesis That Glacier Thickness is Normally Distributed',\n",
    "    y = 0.99, fontsize = 38)\n",
    "gs = fig.add_gridspec(2, 2,  width_ratios=(4, 1), height_ratios=(1, 4),\n",
    "                      left=0.1, right=0.9, bottom=0.1, top=0.9,\n",
    "                      wspace=0.05, hspace=0.05)\n",
    "\n",
    "\n",
    "# Create the Axes.\n",
    "\n",
    "ax = fig.add_subplot(gs[1, 0])\n",
    "ax_histx = fig.add_subplot(gs[0, 0], sharex = ax)\n",
    "ax_histy = fig.add_subplot(gs[1, 1], sharey = ax)\n",
    "\n",
    "\n",
    "ax_histx.tick_params(axis=\"y\", labelsize=36)\n",
    "ax_histy.tick_params(axis=\"x\", labelsize=36)\n",
    "\n",
    "ax.tick_params(axis=\"both\", labelsize=36)\n",
    "\n",
    "\n",
    "# Draw the scatter plot and marginals.\n",
    "print('Drawing scatter plot...')\n",
    "scatter_hist(\n",
    "    vol_f, \n",
    "    vol_e,\n",
    "    data,\n",
    "    ax, \n",
    "    ax_histx,\n",
    "    ax_histy,\n",
    ")\n",
    "\n",
    "print('Drawing done')\n",
    "print('Setting scales and labels...')\n",
    "ax.set_yscale('log')\n",
    "ax.set_xscale('log')\n",
    "ax.set_ylabel('Edasi and Lipovsky Volume (10$^3$ km$^3$)', fontsize = 36)\n",
    "ax.set_xlabel('Farinotti et al. Volume (10$^3$ km$^3$)', fontsize = 36)\n",
    "# ax.set_ylim(10**-4, 10**5)\n",
    "# ax.set_xlim(10**-6, 10**4)\n",
    "\n",
    "print('Saving....')\n",
    "plt.show\n",
    "# plt.savefig('figs/scatter/scatter_hist_df8.eps')\n",
    "# plt.savefig('figs/scatter/scatter_hist_df8.svg')\n",
    "# plt.savefig('figs/scatter/scatter_hist_df8.png')\n",
    "# plt.savefig('figs/scatter/test.svg')\n"
   ]
  },
  {
   "cell_type": "code",
   "execution_count": null,
   "id": "77898d9a",
   "metadata": {},
   "outputs": [],
   "source": []
  },
  {
   "cell_type": "code",
   "execution_count": null,
   "id": "8894a242",
   "metadata": {},
   "outputs": [],
   "source": []
  }
 ],
 "metadata": {
  "kernelspec": {
   "display_name": "python (Cartopy)-f",
   "language": "python",
   "name": "python-cartopy"
  },
  "language_info": {
   "codemirror_mode": {
    "name": "ipython",
    "version": 3
   },
   "file_extension": ".py",
   "mimetype": "text/x-python",
   "name": "python",
   "nbconvert_exporter": "python",
   "pygments_lexer": "ipython3",
   "version": "3.7.11"
  },
  "varInspector": {
   "cols": {
    "lenName": 16,
    "lenType": 16,
    "lenVar": 40
   },
   "kernels_config": {
    "python": {
     "delete_cmd_postfix": "",
     "delete_cmd_prefix": "del ",
     "library": "var_list.py",
     "varRefreshCmd": "print(var_dic_list())"
    },
    "r": {
     "delete_cmd_postfix": ") ",
     "delete_cmd_prefix": "rm(",
     "library": "var_list.r",
     "varRefreshCmd": "cat(var_dic_list()) "
    }
   },
   "types_to_exclude": [
    "module",
    "function",
    "builtin_function_or_method",
    "instance",
    "_Feature"
   ],
   "window_display": false
  }
 },
 "nbformat": 4,
 "nbformat_minor": 5
}
