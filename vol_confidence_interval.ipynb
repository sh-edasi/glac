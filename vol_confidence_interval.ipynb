{
 "cells": [
  {
   "cell_type": "code",
   "execution_count": null,
   "id": "842bc434",
   "metadata": {},
   "outputs": [],
   "source": [
    "import time\n",
    "start = time.time()\n",
    "import numpy as np\n",
    "import pandas as pd\n",
    "import os\n",
    "import matplotlib.pyplot as plt\n",
    "import glacierml as gl\n",
    "from tqdm import tqdm\n",
    "pd.set_option('display.max_column',None)"
   ]
  },
  {
   "cell_type": "code",
   "execution_count": null,
   "id": "24568ffe",
   "metadata": {},
   "outputs": [],
   "source": [
    "E_delta_a, areas, cols, train = gl.load_LOO_data(include_train = True)\n",
    "E_delta_a, areas, cols, df = gl.load_LOO_data(include_train = False)\n",
    "\n",
    "R = ((train[cols]/1e3) - (train['Thickness']/1e3)) /( train['Thickness']/1e3)\n",
    "\n",
    "var_H = np.mean(np.var(R,axis = 1)) * np.mean(df[cols]/1e3,axis = 1)**2\n",
    "\n",
    "var_eps_H = np.var(df[cols]/1e3,axis = 1)\n",
    "\n",
    "E_H = np.mean(df[cols]/1e3,axis = 1)\n",
    "A = df['Area']\n",
    "\n",
    "k = 3\n",
    "p = 0.7\n",
    "e1 = 0.039\n",
    "sig_A = k*e1*(A**p)"
   ]
  },
  {
   "cell_type": "code",
   "execution_count": null,
   "id": "74b842d2",
   "metadata": {},
   "outputs": [],
   "source": [
    "g1 = (var_H * sig_A**2)\n",
    "g2 = (E_H**2 * sig_A**2)\n",
    "g3 = (A**2 * var_H)\n",
    "g4 = (var_eps_H * sig_A**2)\n",
    "g5 = (A**2 * var_eps_H)\n",
    "\n",
    "\n",
    "f = (\n",
    "    (var_H * sig_A**2) + (E_H**2 * sig_A**2) + (A**2 * var_H) + \n",
    "    (var_eps_H * sig_A**2) + (A**2 * var_eps_H)\n",
    ")"
   ]
  },
  {
   "cell_type": "code",
   "execution_count": null,
   "id": "41d55e59",
   "metadata": {},
   "outputs": [],
   "source": [
    "df = pd.concat([df,pd.Series(f,name = 'sig_sq')],axis = 1)"
   ]
  },
  {
   "cell_type": "code",
   "execution_count": null,
   "id": "da5d0f32",
   "metadata": {},
   "outputs": [],
   "source": [
    "plt.scatter(df['Area'],g1,alpha = 0.25,\n",
    "            label = r'Var$\\left(H\\right)\\left(\\sigma^A_k\\right)^2$',\n",
    "            marker = '.'\n",
    "           )\n",
    "plt.scatter(\n",
    "    df['Area'],g2,alpha = 0.25,label = r'E$\\left(H\\right)\\left(\\sigma^A_k\\right)^2$',\n",
    "    marker = '.'\n",
    ")\n",
    "plt.scatter(\n",
    "    df['Area'],g3,alpha = 0.25,\n",
    "    label = r'$A^2$Var$\\left(\\sigma^A_k\\right)^2$',\n",
    "    marker = '.'\n",
    ")\n",
    "plt.scatter(\n",
    "    df['Area'],g4,alpha = 0.25,\n",
    "    label = r'Var$\\left(\\epsilon^H\\right)\\left(\\sigma^A_k\\right)^2$',\n",
    "    marker = '.'\n",
    ")\n",
    "plt.scatter(\n",
    "    df['Area'],g5,alpha = 0.25,\n",
    "    label = r'$A^2$Var$\\left(\\epsilon^H_k\\right)$',\n",
    "    marker = '.'\n",
    ")\n",
    "plt.xlabel('Area (km$^2$)')\n",
    "plt.xscale('log')\n",
    "plt.yscale('log')\n",
    "plt.ylabel('(km$^3$)$^2$')\n",
    "plt.legend()"
   ]
  },
  {
   "cell_type": "code",
   "execution_count": null,
   "id": "384e404d",
   "metadata": {},
   "outputs": [],
   "source": [
    "h = np.mean(df[cols] / 1e3,axis = 1)\n",
    "A = df['Area']\n",
    "\n",
    "si = df['sig_sq']\n",
    "\n",
    "se = np.sqrt(len(df)*np.sum(si))\n",
    "\n",
    "c = (1.96)\n",
    "Vlb = np.round( np.sum(h * A) - (c * se) , 0) / 1e3\n",
    "Vub = np.round( np.sum(h * A) + (c * se) , 0) / 1e3\n",
    "\n",
    "print(f'[{Vlb},{Vub}]  * 10^3 km^3')\n",
    "\n",
    "print(f'Mid CI: {np.round((Vub + Vlb) / 2,3)} * 10^3 km^3')\n",
    "\n",
    "print(f'CI Half Width: {np.round((Vub - Vlb) / 2,3)} * 10^3 km^3')"
   ]
  }
 ],
 "metadata": {
  "kernelspec": {
   "display_name": "Python(3.8.10)",
   "language": "python",
   "name": "new_kernel"
  },
  "language_info": {
   "codemirror_mode": {
    "name": "ipython",
    "version": 3
   },
   "file_extension": ".py",
   "mimetype": "text/x-python",
   "name": "python",
   "nbconvert_exporter": "python",
   "pygments_lexer": "ipython3",
   "version": "3.8.10"
  },
  "varInspector": {
   "cols": {
    "lenName": 16,
    "lenType": 16,
    "lenVar": 40
   },
   "kernels_config": {
    "python": {
     "delete_cmd_postfix": "",
     "delete_cmd_prefix": "del ",
     "library": "var_list.py",
     "varRefreshCmd": "print(var_dic_list())"
    },
    "r": {
     "delete_cmd_postfix": ") ",
     "delete_cmd_prefix": "rm(",
     "library": "var_list.r",
     "varRefreshCmd": "cat(var_dic_list()) "
    }
   },
   "types_to_exclude": [
    "module",
    "function",
    "builtin_function_or_method",
    "instance",
    "_Feature"
   ],
   "window_display": false
  }
 },
 "nbformat": 4,
 "nbformat_minor": 5
}
