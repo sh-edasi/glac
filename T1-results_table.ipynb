{
 "cells": [
  {
   "cell_type": "code",
   "execution_count": null,
   "id": "171a6700",
   "metadata": {},
   "outputs": [],
   "source": [
    "import sys\n",
    "!{sys.executable} -m pip install Jinja2"
   ]
  },
  {
   "cell_type": "code",
   "execution_count": null,
   "id": "c8520a86",
   "metadata": {
    "tags": []
   },
   "outputs": [],
   "source": [
    "import pandas as pd\n",
    "import numpy as np\n",
    "import os\n",
    "import glacierml as gl\n",
    "import matplotlib.pyplot as plt\n",
    "from tqdm import tqdm\n",
    "pd.set_option('display.max_columns',None)\n",
    "import path_manager as pm\n",
    "[\n",
    "        home_path, data_path, RGI_path, glathida_path, \n",
    "        ref_path, coregistration_testing_path, \n",
    "        arch_test_path, LOO_path\n",
    "] = pm.set_paths()"
   ]
  },
  {
   "cell_type": "code",
   "execution_count": null,
   "id": "358922f6-49b6-47bf-83d0-575db01514ff",
   "metadata": {
    "tags": []
   },
   "outputs": [],
   "source": [
    "cols,data = gl.load_LOO_data(home_path, include_refs = True)\n",
    "\n",
    "est = pd.Series( np.round( np.mean(data[cols],axis = 1),3), name = 'est'  )\n",
    "data = pd.concat([data,est],axis = 1)\n",
    "\n",
    "\n",
    "data = pd.concat(\n",
    "    [\n",
    "        data,\n",
    "        pd.Series(np.round(data['est'] * data['Area'],6), name = 'Vol'),\n",
    "        pd.Series(np.round(data['FMT'] * data['Area'],6), name = 'FVol'),\n",
    "        pd.Series(\n",
    "            np.round((data['est'] * data['Area']) - (data['FMT'] * data['Area']),3),\n",
    "            name = 'Vol Diff' \n",
    "        ),\n",
    "        pd.Series(\n",
    "            np.round((\n",
    "                (data['est'] * data['Area']) - (data['FMT'] * data['Area'])\n",
    "            ) / (data['est'] * data['Area']) * 100,1) , name = 'Perc Diff' \n",
    "        )\n",
    "\n",
    "    ], axis = 1\n",
    ")   \n",
    "# For the purpose of reporting results in meters\n",
    "data['est'] = data['est'] * 1e3\n",
    "data['FMT'] = data['FMT'] * 1e3"
   ]
  },
  {
   "cell_type": "code",
   "execution_count": null,
   "id": "3272dc46",
   "metadata": {
    "tags": []
   },
   "outputs": [],
   "source": [
    "def stats_builder(data,st1 = 1e-5, st2 = 1e4):\n",
    "        \n",
    "    col_list = [ 'Area', \n",
    "                'est',\n",
    "                'Vol Diff',\n",
    "                'Perc Diff'\n",
    "               ]\n",
    "    name = ['mean',\n",
    "            'median', 'min', 'max',\n",
    "            'STD',\n",
    "            'count'\n",
    "           ]\n",
    "\n",
    "    df = pd.DataFrame( columns = col_list, index = name)\n",
    "    \n",
    "    vol = data['Vol'].to_numpy()\n",
    "    vol_diff = data['Vol Diff'].to_numpy()\n",
    "    data = data.iloc[np.where(\n",
    "        (vol > st1) & (vol < st2)\n",
    "    )]\n",
    "    vol_sub = vol[np.where(\n",
    "        (vol > st1) & (vol < st2)\n",
    "    )]\n",
    "    feat_list = col_list\n",
    "    for i in feat_list:\n",
    "        dft = data[i]\n",
    "        if i == 'Area':\n",
    "            p = 3\n",
    "        if i == 'Vol Diff':\n",
    "            p = 1\n",
    "        if i == 'est':\n",
    "            p = 0\n",
    "        functions = [\n",
    "            np.round(np.nanmean(dft), p),\n",
    "            np.round(np.nanmedian(dft), p), \n",
    "            np.round(np.nanmin(dft), p),\n",
    "            np.round(np.nanmax(dft), p),\n",
    "            np.round(np.nanstd(dft),p),\n",
    "            len(dft)\n",
    "        ]\n",
    "        for n, fn in zip(name, functions):\n",
    "            df[i].loc[n] = fn\n",
    "    df = df.rename(columns = {\n",
    "        'Area':'Area (km$^2$)',\n",
    "        'est0':'Est Thick (m)',\n",
    "        'Vol Diff':'Vol Diff (km$^3$)'\n",
    "    })\n",
    "    df = df.round(decimals = 1)\n",
    "    return df, data, vol, vol_sub"
   ]
  },
  {
   "cell_type": "code",
   "execution_count": null,
   "id": "8caa0b2d",
   "metadata": {
    "tags": []
   },
   "outputs": [],
   "source": [
    "st1 = 1e-5\n",
    "st2 = 1e4\n",
    "stats, df, vol, vol_sub = stats_builder(data,st1,st2)\n",
    "print(stats.to_latex(float_format=\"%.1f\"))\n",
    "stats"
   ]
  },
  {
   "cell_type": "code",
   "execution_count": null,
   "id": "c46a0a10",
   "metadata": {
    "tags": []
   },
   "outputs": [],
   "source": [
    "tot_vol = np.round(sum(vol) / 1e3,3)\n",
    "subset_sum_vol = np.round(sum((np.mean(df[cols], axis = 1)) * df['Area']) / 1e3,3)\n",
    "print(\n",
    "    f'{st1} to {st2} * 10$^3$ km$^3$, '\n",
    "    f'sum subset volume: {np.round(subset_sum_vol,1)}, '\n",
    "    f'{np.round(len(df) / len(vol)*100,1)}\\% of glacier population, '\n",
    "    f'{np.round((subset_sum_vol / tot_vol)*100,1)}\\% of global volume, '\n",
    ")"
   ]
  }
 ],
 "metadata": {
  "kernelspec": {
   "display_name": "glacierml (Python3.8.10)",
   "language": "python",
   "name": "glacierml"
  },
  "language_info": {
   "codemirror_mode": {
    "name": "ipython",
    "version": 3
   },
   "file_extension": ".py",
   "mimetype": "text/x-python",
   "name": "python",
   "nbconvert_exporter": "python",
   "pygments_lexer": "ipython3",
   "version": "3.8.10"
  },
  "varInspector": {
   "cols": {
    "lenName": 16,
    "lenType": 16,
    "lenVar": 40
   },
   "kernels_config": {
    "python": {
     "delete_cmd_postfix": "",
     "delete_cmd_prefix": "del ",
     "library": "var_list.py",
     "varRefreshCmd": "print(var_dic_list())"
    },
    "r": {
     "delete_cmd_postfix": ") ",
     "delete_cmd_prefix": "rm(",
     "library": "var_list.r",
     "varRefreshCmd": "cat(var_dic_list()) "
    }
   },
   "types_to_exclude": [
    "module",
    "function",
    "builtin_function_or_method",
    "instance",
    "_Feature"
   ],
   "window_display": false
  }
 },
 "nbformat": 4,
 "nbformat_minor": 5
}
