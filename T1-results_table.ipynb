{
 "cells": [
  {
   "cell_type": "code",
   "execution_count": null,
   "id": "c8520a86",
   "metadata": {
    "tags": []
   },
   "outputs": [],
   "source": [
    "import pandas as pd\n",
    "import numpy as np\n",
    "import os\n",
    "import glacierml as gl\n",
    "import matplotlib.pyplot as plt\n",
    "from tqdm import tqdm\n",
    "pd.set_option('display.max_columns',None)"
   ]
  },
  {
   "cell_type": "code",
   "execution_count": null,
   "id": "195a0741-88ae-472d-ac45-251b2e7733b5",
   "metadata": {
    "tags": []
   },
   "outputs": [],
   "source": [
    "home_path = '/path/to/project/directory'\n",
    "[\n",
    "        data_path, RGI_path, glathida_path, ref_path,\n",
    "        coregistration_testing_path, \n",
    "        arch_test_path, LOO_path\n",
    "] = gl.set_paths(home_path)"
   ]
  },
  {
   "cell_type": "code",
   "execution_count": null,
   "id": "358922f6-49b6-47bf-83d0-575db01514ff",
   "metadata": {
    "tags": []
   },
   "outputs": [],
   "source": [
    "cols,data = gl.load_LOO_data(home_path,include_refs = True)"
   ]
  },
  {
   "cell_type": "code",
   "execution_count": null,
   "id": "868e5c69",
   "metadata": {
    "tags": []
   },
   "outputs": [],
   "source": [
    "est = pd.Series(  np.mean(df[cols],axis = 1), name = 'est'  )\n",
    "data = pd.concat([data,est],axis = 1)"
   ]
  },
  {
   "cell_type": "code",
   "execution_count": null,
   "id": "3272dc46",
   "metadata": {
    "tags": []
   },
   "outputs": [],
   "source": [
    "def stats_builder(data,st1 = 1e-5, st2 = 1e4):\n",
    "        \n",
    "    col_list = [ 'Area', \n",
    "#                 'Slope','Lmax','Zmin',\n",
    "#                 'Zmax',\n",
    "                'est',\n",
    "#                 'Thick Diff',\n",
    "                'Vol Diff',\n",
    "                'Perc Diff'\n",
    "#                'FMT'\n",
    "               ]\n",
    "    name = ['mean',\n",
    "            'median', 'min', 'max',\n",
    "#             'sum',\n",
    "            'IQR',\n",
    "            'STD','count'\n",
    "           ]\n",
    "\n",
    "    df = pd.DataFrame( columns = col_list, index = name)\n",
    "    \n",
    "    x = data['FMT'].to_numpy()\n",
    "    y = data['est'].to_numpy()\n",
    "    area = data['Area'].to_numpy()\n",
    "    \n",
    "    vol_f = (x / 1e3) * area\n",
    "    vol = (y / 1e3) * area\n",
    "    vol_diff = vol - vol_f\n",
    "    data['Vol Diff'] = vol_diff\n",
    "    data['Perc Diff'] = ((y - x) / y) * 100\n",
    "    data = data.iloc[np.where(\n",
    "        (vol > st1) & (vol < st2)\n",
    "    )]\n",
    "    vol_sub = vol[np.where(\n",
    "        (vol > st1) & (vol < st2)\n",
    "    )]\n",
    "    feat_list = col_list\n",
    "    for i in feat_list:\n",
    "        dft = data[i]\n",
    "        upp = np.nanquantile(dft, 0.75)\n",
    "        low = np.nanquantile(dft, 0.25)\n",
    "        if i == 'Area' or i == 'Vol Diff':\n",
    "            p = 3\n",
    "        if i == 'est':\n",
    "            p = 0\n",
    "        functions = [\n",
    "            np.round(np.nanmean(dft), p),\n",
    "            np.round(np.nanmedian(dft), p), \n",
    "            np.round(np.nanmin(dft), p),\n",
    "            np.round(np.nanmax(dft), p),\n",
    "#             np.sum(dft),\n",
    "            np.round(upp - low, p),\n",
    "            np.round(np.nanstd(dft),p),\n",
    "            len(dft)\n",
    "        ]\n",
    "        for n, fn in zip(name, functions):\n",
    "            df[i].loc[n] = fn\n",
    "    df = df.rename(columns = {\n",
    "        'Area':'Area (km$^2$)',\n",
    "#         'Slope':'Slope (deg)',\n",
    "#         'Lmax':'Max Length (m)',\n",
    "#         'Zmin':'Min Elevation (m)',\n",
    "        'est0':'Est Thick (m)',\n",
    "        'Vol Diff':'Vol Diff (km$^3$)'\n",
    "#         'Farinotti Mean Thickness':'Farinotti Thickness'\n",
    "    })\n",
    "    df = df.round(decimals = 1)\n",
    "    return df, data, vol, vol_sub"
   ]
  },
  {
   "cell_type": "code",
   "execution_count": null,
   "id": "8caa0b2d",
   "metadata": {
    "tags": []
   },
   "outputs": [],
   "source": [
    "st1 = 50\n",
    "st2 = 1e4\n",
    "stats, df, vol, vol_sub = stats_builder(data,st1,st2)\n",
    "print(stats.to_latex(float_format=\"%.3f\"))\n",
    "stats"
   ]
  },
  {
   "cell_type": "code",
   "execution_count": null,
   "id": "c46a0a10",
   "metadata": {
    "tags": []
   },
   "outputs": [],
   "source": [
    "tot_vol = np.round(sum(vol) / 1e3,3)\n",
    "subset_sum_vol = np.round(sum((np.mean(df[cols], axis = 1) / 1e3) * df['Area']) / 1e3,3)\n",
    "print(\n",
    "    f'{st1} to {st2} * 10$^3$ km$^3$, '\n",
    "    f'sum subset volume: {subset_sum_vol}, '\n",
    "    f'{np.round(len(df) / len(vol)*100,3)}\\% of glacier population, '\n",
    "    f'{np.round((subset_sum_vol / tot_vol)*100,3)}\\% of global volume, '\n",
    ")"
   ]
  },
  {
   "cell_type": "code",
   "execution_count": null,
   "id": "90fbbb94",
   "metadata": {},
   "outputs": [],
   "source": []
  }
 ],
 "metadata": {
  "kernelspec": {
   "display_name": "glacierml (Python3.8.10)",
   "language": "python",
   "name": "prethicktor"
  },
  "language_info": {
   "codemirror_mode": {
    "name": "ipython",
    "version": 3
   },
   "file_extension": ".py",
   "mimetype": "text/x-python",
   "name": "python",
   "nbconvert_exporter": "python",
   "pygments_lexer": "ipython3",
   "version": "3.8.10"
  },
  "varInspector": {
   "cols": {
    "lenName": 16,
    "lenType": 16,
    "lenVar": 40
   },
   "kernels_config": {
    "python": {
     "delete_cmd_postfix": "",
     "delete_cmd_prefix": "del ",
     "library": "var_list.py",
     "varRefreshCmd": "print(var_dic_list())"
    },
    "r": {
     "delete_cmd_postfix": ") ",
     "delete_cmd_prefix": "rm(",
     "library": "var_list.r",
     "varRefreshCmd": "cat(var_dic_list()) "
    }
   },
   "types_to_exclude": [
    "module",
    "function",
    "builtin_function_or_method",
    "instance",
    "_Feature"
   ],
   "window_display": false
  }
 },
 "nbformat": 4,
 "nbformat_minor": 5
}
