{
 "cells": [
  {
   "cell_type": "markdown",
   "id": "563ee1f5",
   "metadata": {},
   "source": [
    "## Import dependancies and set environment determinism"
   ]
  },
  {
   "cell_type": "code",
   "execution_count": null,
   "id": "7f4b08c2",
   "metadata": {},
   "outputs": [],
   "source": [
    "import os\n",
    "os.environ['CUDA_VISIBLE_DEVICES'] = ''  # Hide GPU devices\n",
    "\n",
    "os.environ['TF_CPP_MIN_LOG_LEVEL'] = '1'\n",
    "import tensorflow as tf\n",
    "#     tf.get_logger().setLevel('ERROR')\n",
    "tf.compat.v1.logging.set_verbosity(\n",
    "    0\n",
    ")\n",
    "import numpy as np\n",
    "import random\n",
    "import pandas as pd\n",
    "\n",
    "\n",
    "SEED = 378\n",
    "# SEED = 123\n",
    "print(SEED)\n",
    "def set_seeds(seed=SEED):\n",
    "    os.environ['PYTHONHASHSEED'] = str(seed)\n",
    "    random.seed(seed)\n",
    "    tf.random.set_seed(seed)\n",
    "    np.random.seed(seed)\n",
    "\n",
    "def set_global_determinism(seed=SEED):\n",
    "    set_seeds(seed=seed)\n",
    "\n",
    "    os.environ['TF_DETERMINISTIC_OPS'] = '1'\n",
    "    os.environ['TF_CUDNN_DETERMINISTIC'] = '1'\n",
    "\n",
    "    tf.config.threading.set_inter_op_parallelism_threads(1)\n",
    "    tf.config.threading.set_intra_op_parallelism_threads(1)\n",
    "\n",
    "# Call the above function with seed value\n",
    "set_global_determinism(seed=SEED)"
   ]
  },
  {
   "cell_type": "code",
   "execution_count": null,
   "id": "c2ec4248",
   "metadata": {},
   "outputs": [],
   "source": [
    "import glacierml as gl\n",
    "from tensorflow import keras\n",
    "from tensorflow.keras import layers\n",
    "from tensorflow.keras.layers.experimental import preprocessing\n",
    "from tqdm import tqdm"
   ]
  },
  {
   "cell_type": "code",
   "execution_count": null,
   "id": "ebfc7f5b",
   "metadata": {},
   "outputs": [],
   "source": [
    "def run_model(model_path, n,l1,l2,loss):\n",
    "            \n",
    "    normalizer = preprocessing.Normalization(axis=-1)\n",
    "    normalizer.adapt(np.array(trfeat[n]))\n",
    "\n",
    "    model = gl.build_dnn_model(\n",
    "        normalizer, learning_rate = 0.01, \n",
    "        layer_1 = l1, layer_2 = l2,loss = loss\n",
    "    )\n",
    "#     print(trfeat[n],tefeat[n])\n",
    "    model_history = model.fit(\n",
    "        trfeat[n],\n",
    "        trlabs[n],\n",
    "        validation_split=0.2,\n",
    "        callbacks = [callback],\n",
    "        verbose=0, \n",
    "        epochs=500\n",
    "    )\n",
    "    model_filename = os.path.join(model_path,str(n))\n",
    "    model.save(model_filename)\n",
    "    return model"
   ]
  },
  {
   "cell_type": "code",
   "execution_count": null,
   "id": "b6765b85",
   "metadata": {},
   "outputs": [],
   "source": [
    "callback = tf.keras.callbacks.EarlyStopping(\n",
    "    monitor = 'val_loss',\n",
    "    min_delta = 0.001,\n",
    "    patience = 10,\n",
    "    verbose = 0,\n",
    "    mode = 'auto',\n",
    "    baseline = None,\n",
    "    restore_best_weights = True\n",
    ")"
   ]
  },
  {
   "cell_type": "code",
   "execution_count": null,
   "id": "6e03a914",
   "metadata": {},
   "outputs": [],
   "source": [
    "home_path = ''\n",
    "LOO_path = 'LOO'\n",
    "path = os.path.join(home_path,LOO_path)"
   ]
  },
  {
   "cell_type": "code",
   "execution_count": null,
   "id": "4cedfcf9",
   "metadata": {
    "scrolled": true
   },
   "outputs": [],
   "source": [
    "df = gl.coregister_data('4')\n",
    "df = df.iloc[:,:-7]\n",
    "df = df.drop(df[df['RGIId'].duplicated(keep = False)].index)\n",
    "df = df.sample(frac = 1,random_state = 0)\n",
    "df = df.reset_index().drop('index', axis = 1)\n",
    "\n",
    "dft = df.copy()\n",
    "\n",
    "trfeat = {}\n",
    "trlabs = {}\n",
    "tefeat = {}\n",
    "telabs = {}\n",
    "\n",
    "for n in df.index:\n",
    "    mask = df.index.isin([n])\n",
    "    trfeat[n] = df.loc[~mask].drop(['RGIId','Thickness'], axis = 1)\n",
    "    tefeat[n] = df.loc[mask].drop(['RGIId','Thickness'], axis = 1)\n",
    "    trlabs[n] = df['Thickness'].loc[~mask]\n",
    "    telabs[n] = df['Thickness'].loc[mask]\n",
    "\n",
    "model = {}\n",
    "model_history = {}\n",
    "normalizer = {}\n",
    "\n",
    "for n in tqdm(df.index):\n",
    "    model_path = os.path.join(path, str(n))\n",
    "    if os.path.isdir(model_path) == True:\n",
    "#         continue\n",
    "        model[n] = gl.load_dnn_model(model_path)\n",
    "    elif os.path.isdir(model_path) == False:\n",
    "        set_global_determinism(seed=SEED)\n",
    "        model[n] = run_model(model_path, n,l1 = 6,l2 = 2,loss = 'mae')\n",
    "rgi_est_pth = os.path.join(path, 'rgi_est_raw.pkl')\n",
    "\n",
    "# if os.path.isdir(rgi_est_pth) == False:\n",
    "\n",
    "RGI = gl.load_RGI()\n",
    "rfp = RGI[list(df)[:-1]]\n",
    "\n",
    "for n in tqdm(model.keys()):\n",
    "    preds = pd.Series(\n",
    "        model[n].predict(rfp.drop('RGIId',axis = 1)).flatten(), name = n\n",
    "    )\n",
    "    RGI = pd.concat([RGI,preds], axis = 1)\n",
    "RGI.to_pickle(rgi_est_pth)\n",
    "\n"
   ]
  },
  {
   "cell_type": "code",
   "execution_count": null,
   "id": "21f3d221",
   "metadata": {},
   "outputs": [],
   "source": []
  },
  {
   "cell_type": "code",
   "execution_count": null,
   "id": "75c146e7",
   "metadata": {},
   "outputs": [],
   "source": []
  }
 ],
 "metadata": {
  "kernelspec": {
   "display_name": "Python(3.8.10)",
   "language": "python",
   "name": "new_kernel"
  },
  "language_info": {
   "codemirror_mode": {
    "name": "ipython",
    "version": 3
   },
   "file_extension": ".py",
   "mimetype": "text/x-python",
   "name": "python",
   "nbconvert_exporter": "python",
   "pygments_lexer": "ipython3",
   "version": "3.8.10"
  },
  "varInspector": {
   "cols": {
    "lenName": 16,
    "lenType": 16,
    "lenVar": 40
   },
   "kernels_config": {
    "python": {
     "delete_cmd_postfix": "",
     "delete_cmd_prefix": "del ",
     "library": "var_list.py",
     "varRefreshCmd": "print(var_dic_list())"
    },
    "r": {
     "delete_cmd_postfix": ") ",
     "delete_cmd_prefix": "rm(",
     "library": "var_list.r",
     "varRefreshCmd": "cat(var_dic_list()) "
    }
   },
   "types_to_exclude": [
    "module",
    "function",
    "builtin_function_or_method",
    "instance",
    "_Feature"
   ],
   "window_display": false
  }
 },
 "nbformat": 4,
 "nbformat_minor": 5
}
