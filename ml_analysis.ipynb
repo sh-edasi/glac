{
 "cells": [
  {
   "cell_type": "code",
   "execution_count": null,
   "id": "a37428ee",
   "metadata": {
    "code_folding": [],
    "scrolled": true,
    "tags": []
   },
   "outputs": [],
   "source": [
    "# import dependencies\n",
    "# import sys\n",
    "# !{sys.executable} -m pip install mpl-scatter-density\n",
    "import matplotlib as mplt\n",
    "import matplotlib.pyplot as plt\n",
    "import tensorflow as tf\n",
    "from tensorflow import keras\n",
    "import pandas as pd\n",
    "import glacierml as gl\n",
    "import numpy as np\n",
    "import warnings\n",
    "from tensorflow.python.util import deprecation\n",
    "import os\n",
    "import logging\n",
    "import seaborn as sns\n",
    "from tqdm import tqdm\n",
    "from IPython.display import display, HTML\n",
    "import geopy\n",
    "from sklearn.cluster import KMeans\n",
    "from scipy.stats import shapiro\n",
    "import chart_studio as cs\n",
    "from matplotlib.ticker import PercentFormatter\n",
    "from scipy.stats import gaussian_kde\n",
    "import mpl_scatter_density\n",
    "from scipy.stats import gaussian_kde\n",
    "import matplotlib.colors as mcolors\n",
    "tf.random.set_seed(42)\n",
    "\n",
    "# display(HTML(\"<style>.container { width:85% !important; }</style>\"))\n",
    "tf.get_logger().setLevel(logging.ERROR)\n",
    "warnings.filterwarnings('ignore', category=DeprecationWarning)\n",
    "warnings.filterwarnings('ignore', category=FutureWarning)\n",
    "deprecation._PRINT_DEPRECATION_WARNINGS = False\n",
    "os.environ['TF_CPP_MIN_LOG_LEVEL'] = '3'\n",
    "pd.set_option('display.max_columns', None)\n",
    "\n",
    "pd.set_option('mode.chained_assignment', None)\n",
    "\n",
    "RS = range(0,25,1)\n",
    "\n",
    "print('currently running tensorflow version: ' + tf.__version__)"
   ]
  },
  {
   "cell_type": "markdown",
   "id": "4444ea44",
   "metadata": {
    "tags": []
   },
   "source": [
    "# ML Analysis"
   ]
  },
  {
   "cell_type": "code",
   "execution_count": null,
   "id": "736d479e",
   "metadata": {
    "code_folding": [],
    "tags": []
   },
   "outputs": [],
   "source": [
    "parameterization = '4'\n",
    "if parameterization == '1':\n",
    "    threshold = 'No Threshold'\n",
    "if parameterization == '2':\n",
    "    threshold = '0.25'\n",
    "if parameterization == '3':\n",
    "    threshold = '0.50'\n",
    "if parameterization == '4':\n",
    "    threshold = '0.75'\n",
    "dataset = gl.parameterize_data(parameterization)\n",
    "dataset"
   ]
  },
  {
   "cell_type": "code",
   "execution_count": null,
   "id": "5d2a2166",
   "metadata": {
    "code_folding": [],
    "scrolled": false,
    "tags": []
   },
   "outputs": [],
   "source": [
    "# load deviations table \n",
    "rootdir = 'zults/'\n",
    "predictions = pd.DataFrame()\n",
    "statistics = pd.DataFrame()\n",
    "file_reader = pd.read_csv(rootdir + 'model_statistics_' + parameterization + '.csv')\n",
    "statistics = pd.concat([statistics, file_reader], ignore_index = True)\n",
    "\n",
    "statistics = statistics.drop('Unnamed: 0', axis = 1)\n",
    "statistics['total parameters'] = statistics['total parameters'].astype(int)\n",
    "statistics['trained parameters'] = statistics['trained parameters'].astype(int)\n",
    "statistics['total inputs'] = statistics['total inputs'].astype(int)\n",
    "statistics['test - train'] = (\n",
    "    abs(statistics['test mae avg'] - statistics['train mae avg']))\n",
    "statistics['paramater ratio'] = statistics['trained parameters'] / statistics['total inputs']\n",
    "statistics"
   ]
  },
  {
   "cell_type": "code",
   "execution_count": null,
   "id": "0e1ba73a",
   "metadata": {
    "scrolled": false
   },
   "outputs": [],
   "source": [
    "fig = plt.figure(figsize=(10,10))\n",
    "plt.subplots_adjust(hspace=0.5)\n",
    "plt.suptitle('MAE vs. Model Inputs\\n'+\n",
    "             'Size and Distance Threshold = ' + threshold, fontsize = 25, y=.97\n",
    "            )\n",
    "fig.patch.set_facecolor('w')\n",
    "plt.scatter(\n",
    "    statistics['paramater ratio'],\n",
    "    statistics['test mae avg']\n",
    ")\n",
    "# plt.xscale('log')\n",
    "plt.ylabel('Bootstrap Test Mean Absolute Error (m)', fontsize = 18)\n",
    "plt.xlabel('Trainable Parameters / Total Inputs', fontsize = 18)\n",
    "plt.yticks(fontsize = 18)\n",
    "plt.xticks(fontsize = 18)\n",
    "plt.show()\n",
    "# plt.savefig('figs/elbow/75.png')"
   ]
  },
  {
   "cell_type": "code",
   "execution_count": null,
   "id": "f873eb89",
   "metadata": {
    "code_folding": [],
    "scrolled": false
   },
   "outputs": [],
   "source": [
    "# load selected model and look at predicted accuracies of each random state\n",
    "# print('Please select index from statistics table to inspect further')\n",
    "\n",
    "# selection = int(input())\n",
    "selection = 0\n",
    "arch = statistics['layer architecture'].loc[selection]\n",
    "\n",
    "\n",
    "print(arch)\n",
    "\n",
    "rootdir_1 = 'saved_results/' + parameterization + '/' + arch + '/'\n",
    "# print(rootdir_1)\n",
    "dnn_history = {}\n",
    "fig,ax=plt.subplots(1,1,figsize=(15,15))\n",
    "fig.patch.set_facecolor('w')\n",
    "plt.suptitle(\n",
    "    'Model Loss\\nSize and Distance Thresholds = ' + threshold +\n",
    "    ', Layer Architecture ' + arch , fontsize=18, y=1\n",
    "            )\n",
    "\n",
    "\n",
    "for n, rs in enumerate(RS): \n",
    "    ax = plt.subplot(5,5,n+1)\n",
    "    history_name = (\n",
    "\n",
    "        str(rs)\n",
    "    )\n",
    "\n",
    "    model_name = (\n",
    "\n",
    "        str(rs)\n",
    "    )\n",
    "\n",
    "    dnn_history[model_name] = pd.read_csv(rootdir_1 + model_name)\n",
    "\n",
    "    ax.set_title('Random State: ' + str(rs))\n",
    "#     if abs((\n",
    "#         dnn_history[model_name]['loss'].iloc[-1]\n",
    "#     ) - dnn_history[model_name]['val_loss'].iloc[-1]) >= 3:\n",
    "#         pass\n",
    "#     else:\n",
    "    gl.plot_loss(dnn_history[model_name])\n",
    "plt.tight_layout()"
   ]
  },
  {
   "cell_type": "code",
   "execution_count": null,
   "id": "bdcf7ac7",
   "metadata": {
    "scrolled": false
   },
   "outputs": [],
   "source": [
    "\n",
    "dnn_model = {}\n",
    "rootdir_2 = 'saved_models/' + parameterization + '/' + arch + '/'\n",
    "\n",
    "train_features, test_features, train_labels, test_labels = gl.split_data(dataset)\n",
    "features = pd.concat([train_features, test_features], ignore_index = True)\n",
    "labels = pd.concat([train_labels, test_labels], ignore_index = True)\n",
    "\n",
    "fig = plt.figure(figsize=(15, 15))\n",
    "plt.subplots_adjust(hspace=0.5)\n",
    "plt.suptitle(\n",
    "    'Volume Estimates\\nSize and Distance Thresholds = ' + threshold +\n",
    "    ', Layer Architecture ' + arch , fontsize=18, y=1\n",
    "            )\n",
    "fig.patch.set_facecolor('w')\n",
    "\n",
    "estimates = pd.DataFrame()\n",
    "\n",
    "for n, rs in tqdm(enumerate(RS)):\n",
    "    ax = plt.subplot(5, 5, n + 1)\n",
    "    model_name = (\n",
    "        str(rs)\n",
    "    )   \n",
    "\n",
    "    model_history = (\n",
    "        str(rs)\n",
    "    )  \n",
    "\n",
    "    model_path = (\n",
    "        rootdir_2 + \n",
    "        str(rs)\n",
    "    )\n",
    "\n",
    "    dnn_model[model_name] = tf.keras.models.load_model(model_path)\n",
    "    dnn_history[model_name] = pd.read_csv(rootdir_1 + model_history)\n",
    "\n",
    "#     if abs((\n",
    "#         dnn_history[model_name]['loss'].iloc[-1]\n",
    "#     ) - dnn_history[model_name]['val_loss'].iloc[-1]) >= 3:\n",
    "#         pass\n",
    "#     else:\n",
    "\n",
    "    y = dnn_model[model_name].predict(features, verbose = 0)\n",
    "\n",
    "    x = labels\n",
    "    y = y.flatten()\n",
    "\n",
    "    xy = np.vstack([np.log10(x),np.log10(y)])\n",
    "\n",
    "    z = gaussian_kde(xy)(xy)\n",
    "\n",
    "\n",
    "    plt.scatter(\n",
    "        x,\n",
    "        y,\n",
    "        marker = '.',\n",
    "        c = (z),\n",
    "        s = 20,\n",
    "        cmap = 'viridis'\n",
    "    )\n",
    "    plt.plot(\n",
    "        (0,labels.max()),\n",
    "        (0,labels.max()),\n",
    "        '-',\n",
    "        color = 'orange'    \n",
    "    )\n",
    "    plt.xlabel('True Thickness (m)')\n",
    "    plt.ylabel('Model Thickness (m)')\n",
    "    ax.set_title('Random State ' +str(rs))\n",
    "#         plt.xlim((0,100))\n",
    "#         plt.ylim((0,100))\n",
    "    estimates = estimates.append(pd.Series(y.flatten(), name = rs))\n",
    "plt.tight_layout()\n",
    "plt.show()"
   ]
  },
  {
   "cell_type": "code",
   "execution_count": null,
   "id": "469948f0",
   "metadata": {
    "scrolled": false
   },
   "outputs": [],
   "source": [
    "plt.figure(figsize = (10,10))\n",
    "plt.hist(estimates.mean() - labels, 20)\n",
    "plt.xlabel('Thickness Difference')\n",
    "plt.ylabel('Number of Elements')\n",
    "plt.title('Histogram of Model Residuals')\n",
    "mean = (estimates.mean() - labels).mean()\n",
    "med = (estimates.mean() - labels).median()\n",
    "mode = (estimates.mean() - labels).mode()\n",
    "# plt.title('Log Percent Difference of Edasi & Lipovsky and Farinotti Glacier Volume')\n",
    "# plt.axvline(mean, color='k', linestyle='dashed', linewidth=1)\n",
    "# # plt.text(mean, 'Mean: {:.2f}'.format(mean))\n",
    "\n",
    "# plt.axvline(med, color='k', linestyle='dashed', linewidth=1)\n",
    "# # plt.text(med, 'Median: {:.2f}'.format(med))\n",
    "# plt.axvline(mode[0], color='k', linestyle='dashed', linewidth=1)\n",
    "# # plt.text((mode[0]), 'Mode: ' + str(np.round(mode[0], 2)))"
   ]
  },
  {
   "cell_type": "code",
   "execution_count": null,
   "id": "c85dff15",
   "metadata": {},
   "outputs": [],
   "source": []
  }
 ],
 "metadata": {
  "kernelspec": {
   "display_name": "Python(3.8.10)",
   "language": "python",
   "name": "new_kernel"
  },
  "language_info": {
   "codemirror_mode": {
    "name": "ipython",
    "version": 3
   },
   "file_extension": ".py",
   "mimetype": "text/x-python",
   "name": "python",
   "nbconvert_exporter": "python",
   "pygments_lexer": "ipython3",
   "version": "3.8.10"
  },
  "toc-autonumbering": false,
  "toc-showcode": true,
  "toc-showmarkdowntxt": false,
  "toc-showtags": false,
  "varInspector": {
   "cols": {
    "lenName": 16,
    "lenType": 16,
    "lenVar": 40
   },
   "kernels_config": {
    "python": {
     "delete_cmd_postfix": "",
     "delete_cmd_prefix": "del ",
     "library": "var_list.py",
     "varRefreshCmd": "print(var_dic_list())"
    },
    "r": {
     "delete_cmd_postfix": ") ",
     "delete_cmd_prefix": "rm(",
     "library": "var_list.r",
     "varRefreshCmd": "cat(var_dic_list()) "
    }
   },
   "types_to_exclude": [
    "module",
    "function",
    "builtin_function_or_method",
    "instance",
    "_Feature"
   ],
   "window_display": false
  }
 },
 "nbformat": 4,
 "nbformat_minor": 5
}
